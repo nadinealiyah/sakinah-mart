{
 "cells": [
  {
   "cell_type": "markdown",
   "id": "b3230f62",
   "metadata": {},
   "source": [
    "### **Import Library**"
   ]
  },
  {
   "cell_type": "code",
   "execution_count": 1,
   "id": "0b7d573a",
   "metadata": {},
   "outputs": [],
   "source": [
    "import pandas as pd\n",
    "import matplotlib.pyplot as plt\n",
    "\n",
    "from prophet import Prophet\n",
    "import numpy as np\n",
    "from sklearn.metrics import mean_absolute_error, mean_squared_error\n",
    "import logging # Untuk mengontrol pesan log Prophet\n",
    "import plotly.express as px\n",
    "\n",
    "# Matikan logger Prophet agar output tidak terlalu banyak\n",
    "logging.getLogger('prophet').setLevel(logging.WARNING)"
   ]
  },
  {
   "cell_type": "code",
   "execution_count": 2,
   "id": "72d6e3a4",
   "metadata": {},
   "outputs": [],
   "source": [
    "# pip install Prophet"
   ]
  },
  {
   "cell_type": "markdown",
   "id": "fa7c5e1d",
   "metadata": {},
   "source": [
    "### **Import Data Hasil Rules**"
   ]
  },
  {
   "cell_type": "code",
   "execution_count": 3,
   "id": "7d8c556c",
   "metadata": {},
   "outputs": [
    {
     "data": {
      "text/html": [
       "<div>\n",
       "<style scoped>\n",
       "    .dataframe tbody tr th:only-of-type {\n",
       "        vertical-align: middle;\n",
       "    }\n",
       "\n",
       "    .dataframe tbody tr th {\n",
       "        vertical-align: top;\n",
       "    }\n",
       "\n",
       "    .dataframe thead th {\n",
       "        text-align: right;\n",
       "    }\n",
       "</style>\n",
       "<table border=\"1\" class=\"dataframe\">\n",
       "  <thead>\n",
       "    <tr style=\"text-align: right;\">\n",
       "      <th></th>\n",
       "      <th>Unnamed: 0</th>\n",
       "      <th>antecedents</th>\n",
       "      <th>consequents</th>\n",
       "      <th>support</th>\n",
       "      <th>confidence</th>\n",
       "      <th>lift</th>\n",
       "    </tr>\n",
       "  </thead>\n",
       "  <tbody>\n",
       "    <tr>\n",
       "      <th>0</th>\n",
       "      <td>0</td>\n",
       "      <td>frozenset({'HARMONY MELON', 'HARMONY LEMON', '...</td>\n",
       "      <td>frozenset({'HARMONY STRAWBERY'})</td>\n",
       "      <td>0.000113</td>\n",
       "      <td>1</td>\n",
       "      <td>1235.260000</td>\n",
       "    </tr>\n",
       "    <tr>\n",
       "      <th>1</th>\n",
       "      <td>1</td>\n",
       "      <td>frozenset({'DELFI TOP TRIP/CHO 9GR', 'MOMOGI J...</td>\n",
       "      <td>frozenset({'MOMOGI CKL 6GR'})</td>\n",
       "      <td>0.000113</td>\n",
       "      <td>1</td>\n",
       "      <td>686.255556</td>\n",
       "    </tr>\n",
       "    <tr>\n",
       "      <th>2</th>\n",
       "      <td>2</td>\n",
       "      <td>frozenset({'INDOMILK KID VNL 115ML', 'CLOUD 9 ...</td>\n",
       "      <td>frozenset({'CLOUD 9 CHOCO 15 4G'})</td>\n",
       "      <td>0.000113</td>\n",
       "      <td>1</td>\n",
       "      <td>571.879630</td>\n",
       "    </tr>\n",
       "    <tr>\n",
       "      <th>3</th>\n",
       "      <td>3</td>\n",
       "      <td>frozenset({'CLOUD 9 VANILA 15 4G', 'INDOMILK K...</td>\n",
       "      <td>frozenset({'CLOUD 9 CHOCO 15 4G'})</td>\n",
       "      <td>0.000146</td>\n",
       "      <td>1</td>\n",
       "      <td>571.879630</td>\n",
       "    </tr>\n",
       "    <tr>\n",
       "      <th>4</th>\n",
       "      <td>4</td>\n",
       "      <td>frozenset({'INDOMILK KID VNL 115ML', 'CLOUD 9 ...</td>\n",
       "      <td>frozenset({'CLOUD 9 CHOCO 15 4G'})</td>\n",
       "      <td>0.000146</td>\n",
       "      <td>1</td>\n",
       "      <td>571.879630</td>\n",
       "    </tr>\n",
       "    <tr>\n",
       "      <th>5</th>\n",
       "      <td>5</td>\n",
       "      <td>frozenset({'EKONOMI E900K', 'NUVO SOAP YLOW 72...</td>\n",
       "      <td>frozenset({'NUVO SOAP BLUE 72G'})</td>\n",
       "      <td>0.000113</td>\n",
       "      <td>1</td>\n",
       "      <td>388.446541</td>\n",
       "    </tr>\n",
       "    <tr>\n",
       "      <th>6</th>\n",
       "      <td>6</td>\n",
       "      <td>frozenset({'INDOMILK STR 190ML BTL', 'INDOMILK...</td>\n",
       "      <td>frozenset({'INDOMILK KID VNL 115ML'})</td>\n",
       "      <td>0.000113</td>\n",
       "      <td>1</td>\n",
       "      <td>348.943503</td>\n",
       "    </tr>\n",
       "    <tr>\n",
       "      <th>7</th>\n",
       "      <td>7</td>\n",
       "      <td>frozenset({'TONGTJI JASMINE 5 S', 'INDOMIE GRG...</td>\n",
       "      <td>frozenset({'INDOMIE AYAM SPECIAL'})</td>\n",
       "      <td>0.000113</td>\n",
       "      <td>1</td>\n",
       "      <td>284.622120</td>\n",
       "    </tr>\n",
       "    <tr>\n",
       "      <th>8</th>\n",
       "      <td>8</td>\n",
       "      <td>frozenset({'KRIPIK SGKG TURBO 180G', 'TWISTER ...</td>\n",
       "      <td>frozenset({'OREO SOFT CAKE 16GR'})</td>\n",
       "      <td>0.000113</td>\n",
       "      <td>1</td>\n",
       "      <td>236.639847</td>\n",
       "    </tr>\n",
       "    <tr>\n",
       "      <th>9</th>\n",
       "      <td>9</td>\n",
       "      <td>frozenset({'INDOMILK KID VNL 115ML', 'TEH GELA...</td>\n",
       "      <td>frozenset({'INDOMILK KID CKL 115ML'})</td>\n",
       "      <td>0.000162</td>\n",
       "      <td>1</td>\n",
       "      <td>183.818452</td>\n",
       "    </tr>\n",
       "    <tr>\n",
       "      <th>10</th>\n",
       "      <td>10</td>\n",
       "      <td>frozenset({'INDOMILK KID VNL 115ML', 'INDOMILK...</td>\n",
       "      <td>frozenset({'INDOMILK KID CKL 115ML'})</td>\n",
       "      <td>0.000113</td>\n",
       "      <td>1</td>\n",
       "      <td>183.818452</td>\n",
       "    </tr>\n",
       "    <tr>\n",
       "      <th>11</th>\n",
       "      <td>11</td>\n",
       "      <td>frozenset({'INDOMILK KID VNL 115ML', 'YA KOPI ...</td>\n",
       "      <td>frozenset({'INDOMILK KID STR 115ML'})</td>\n",
       "      <td>0.000113</td>\n",
       "      <td>1</td>\n",
       "      <td>174.471751</td>\n",
       "    </tr>\n",
       "    <tr>\n",
       "      <th>12</th>\n",
       "      <td>12</td>\n",
       "      <td>frozenset({'WAFELLO COCONUT 37 5G', 'INDOMIE G...</td>\n",
       "      <td>frozenset({'INDOMIE SOTO MIE'})</td>\n",
       "      <td>0.000113</td>\n",
       "      <td>1</td>\n",
       "      <td>158.366667</td>\n",
       "    </tr>\n",
       "    <tr>\n",
       "      <th>13</th>\n",
       "      <td>13</td>\n",
       "      <td>frozenset({'HERS PROT SCM 60 S', 'PARAMEX SKT ...</td>\n",
       "      <td>frozenset({'PUCUK HARUM TEH 350ML'})</td>\n",
       "      <td>0.000130</td>\n",
       "      <td>1</td>\n",
       "      <td>45.413971</td>\n",
       "    </tr>\n",
       "    <tr>\n",
       "      <th>14</th>\n",
       "      <td>14</td>\n",
       "      <td>frozenset({'BIG BLUEBRRY 375ML', 'PARAMEX SKT ...</td>\n",
       "      <td>frozenset({'PUCUK HARUM TEH 350ML'})</td>\n",
       "      <td>0.000130</td>\n",
       "      <td>1</td>\n",
       "      <td>45.413971</td>\n",
       "    </tr>\n",
       "    <tr>\n",
       "      <th>15</th>\n",
       "      <td>15</td>\n",
       "      <td>frozenset({'SUNSILK SHP BLK SHN 160ML', 'CIPTA...</td>\n",
       "      <td>frozenset({'INDOMIE GRG SPECIAL'})</td>\n",
       "      <td>0.000130</td>\n",
       "      <td>1</td>\n",
       "      <td>31.640881</td>\n",
       "    </tr>\n",
       "    <tr>\n",
       "      <th>16</th>\n",
       "      <td>16</td>\n",
       "      <td>frozenset({'INDOMIE SOTO MIE', 'WAFELLO COCONU...</td>\n",
       "      <td>frozenset({'INDOMIE GRG SPECIAL'})</td>\n",
       "      <td>0.000113</td>\n",
       "      <td>1</td>\n",
       "      <td>31.640881</td>\n",
       "    </tr>\n",
       "    <tr>\n",
       "      <th>17</th>\n",
       "      <td>17</td>\n",
       "      <td>frozenset({'INDOMIE SOTO MIE', 'ROMA KELAPA 30...</td>\n",
       "      <td>frozenset({'INDOMIE GRG SPECIAL'})</td>\n",
       "      <td>0.000130</td>\n",
       "      <td>1</td>\n",
       "      <td>31.640881</td>\n",
       "    </tr>\n",
       "  </tbody>\n",
       "</table>\n",
       "</div>"
      ],
      "text/plain": [
       "    Unnamed: 0                                        antecedents  \\\n",
       "0            0  frozenset({'HARMONY MELON', 'HARMONY LEMON', '...   \n",
       "1            1  frozenset({'DELFI TOP TRIP/CHO 9GR', 'MOMOGI J...   \n",
       "2            2  frozenset({'INDOMILK KID VNL 115ML', 'CLOUD 9 ...   \n",
       "3            3  frozenset({'CLOUD 9 VANILA 15 4G', 'INDOMILK K...   \n",
       "4            4  frozenset({'INDOMILK KID VNL 115ML', 'CLOUD 9 ...   \n",
       "5            5  frozenset({'EKONOMI E900K', 'NUVO SOAP YLOW 72...   \n",
       "6            6  frozenset({'INDOMILK STR 190ML BTL', 'INDOMILK...   \n",
       "7            7  frozenset({'TONGTJI JASMINE 5 S', 'INDOMIE GRG...   \n",
       "8            8  frozenset({'KRIPIK SGKG TURBO 180G', 'TWISTER ...   \n",
       "9            9  frozenset({'INDOMILK KID VNL 115ML', 'TEH GELA...   \n",
       "10          10  frozenset({'INDOMILK KID VNL 115ML', 'INDOMILK...   \n",
       "11          11  frozenset({'INDOMILK KID VNL 115ML', 'YA KOPI ...   \n",
       "12          12  frozenset({'WAFELLO COCONUT 37 5G', 'INDOMIE G...   \n",
       "13          13  frozenset({'HERS PROT SCM 60 S', 'PARAMEX SKT ...   \n",
       "14          14  frozenset({'BIG BLUEBRRY 375ML', 'PARAMEX SKT ...   \n",
       "15          15  frozenset({'SUNSILK SHP BLK SHN 160ML', 'CIPTA...   \n",
       "16          16  frozenset({'INDOMIE SOTO MIE', 'WAFELLO COCONU...   \n",
       "17          17  frozenset({'INDOMIE SOTO MIE', 'ROMA KELAPA 30...   \n",
       "\n",
       "                              consequents   support  confidence         lift  \n",
       "0        frozenset({'HARMONY STRAWBERY'})  0.000113           1  1235.260000  \n",
       "1           frozenset({'MOMOGI CKL 6GR'})  0.000113           1   686.255556  \n",
       "2      frozenset({'CLOUD 9 CHOCO 15 4G'})  0.000113           1   571.879630  \n",
       "3      frozenset({'CLOUD 9 CHOCO 15 4G'})  0.000146           1   571.879630  \n",
       "4      frozenset({'CLOUD 9 CHOCO 15 4G'})  0.000146           1   571.879630  \n",
       "5       frozenset({'NUVO SOAP BLUE 72G'})  0.000113           1   388.446541  \n",
       "6   frozenset({'INDOMILK KID VNL 115ML'})  0.000113           1   348.943503  \n",
       "7     frozenset({'INDOMIE AYAM SPECIAL'})  0.000113           1   284.622120  \n",
       "8      frozenset({'OREO SOFT CAKE 16GR'})  0.000113           1   236.639847  \n",
       "9   frozenset({'INDOMILK KID CKL 115ML'})  0.000162           1   183.818452  \n",
       "10  frozenset({'INDOMILK KID CKL 115ML'})  0.000113           1   183.818452  \n",
       "11  frozenset({'INDOMILK KID STR 115ML'})  0.000113           1   174.471751  \n",
       "12        frozenset({'INDOMIE SOTO MIE'})  0.000113           1   158.366667  \n",
       "13   frozenset({'PUCUK HARUM TEH 350ML'})  0.000130           1    45.413971  \n",
       "14   frozenset({'PUCUK HARUM TEH 350ML'})  0.000130           1    45.413971  \n",
       "15     frozenset({'INDOMIE GRG SPECIAL'})  0.000130           1    31.640881  \n",
       "16     frozenset({'INDOMIE GRG SPECIAL'})  0.000113           1    31.640881  \n",
       "17     frozenset({'INDOMIE GRG SPECIAL'})  0.000130           1    31.640881  "
      ]
     },
     "execution_count": 3,
     "metadata": {},
     "output_type": "execute_result"
    }
   ],
   "source": [
    "df = pd.read_csv('D:/kuliah/PA/sakinah-mart/data/rules2023.csv')\n",
    "df"
   ]
  },
  {
   "cell_type": "code",
   "execution_count": 4,
   "id": "0cb1ca56",
   "metadata": {},
   "outputs": [
    {
     "data": {
      "text/plain": [
       "{'BIG BLUEBRRY 375ML',\n",
       " 'CIPTADENT PG FRS 190ML',\n",
       " 'CLOUD 9 CHOCO 15 4G',\n",
       " 'CLOUD 9 VANILA 15 4G',\n",
       " 'DELFI TOP TRIP/CHO 9GR',\n",
       " 'EKONOMI E900K',\n",
       " 'HARMONY LEMON',\n",
       " 'HARMONY MELON',\n",
       " 'HARMONY ORANGE',\n",
       " 'HARMONY STRAWBERY',\n",
       " 'HERS PROT SCM 60 S',\n",
       " 'INDOMIE AYAM BAWANG',\n",
       " 'INDOMIE AYAM SPECIAL',\n",
       " 'INDOMIE GRG SPECIAL',\n",
       " 'INDOMIE SOTO MIE',\n",
       " 'INDOMILK KID CKL 115ML',\n",
       " 'INDOMILK KID STR 115ML',\n",
       " 'INDOMILK KID VNL 115ML',\n",
       " 'INDOMILK STR 190ML BTL',\n",
       " 'KRIPIK SGKG TURBO 180G',\n",
       " 'MOMOGI CKL 6GR',\n",
       " 'MOMOGI JGG BKR 6GR',\n",
       " 'NUVO SOAP BLUE 72G',\n",
       " 'NUVO SOAP YLOW 72G',\n",
       " 'OREO SOFT CAKE 16GR',\n",
       " 'PARAMEX SKT KEPALA',\n",
       " 'PUCUK HARUM TEH 350ML',\n",
       " 'ROMA KELAPA 300GR',\n",
       " 'SUNSILK SHP BLK SHN 160ML',\n",
       " 'TEH GELAS ORI 170ML',\n",
       " 'TONGTJI JASMINE 5 S',\n",
       " 'TWISTER MINI CPP 20GR',\n",
       " 'WAFELLO COCONUT 37 5G',\n",
       " 'WALLS POPULAIRE STR',\n",
       " 'YA KOPI SPESIAL 60GR'}"
      ]
     },
     "execution_count": 4,
     "metadata": {},
     "output_type": "execute_result"
    }
   ],
   "source": [
    "# Pastikan semua elemen dalam kolom antecedents dan consequents adalah frozenset\n",
    "df[\"antecedents\"] = df[\"antecedents\"].apply(lambda x: frozenset(eval(x)) if isinstance(x, str) else x)\n",
    "df[\"consequents\"] = df[\"consequents\"].apply(lambda x: frozenset(eval(x)) if isinstance(x, str) else x)\n",
    "\n",
    "# Mengambil semua item unik\n",
    "all_items = set()\n",
    "for col in [\"antecedents\", \"consequents\"]:\n",
    "    for items in df[col]:\n",
    "        all_items.update(items)\n",
    "\n",
    "all_items"
   ]
  },
  {
   "cell_type": "markdown",
   "id": "4ea7183a",
   "metadata": {},
   "source": [
    "### **Import Data Transaksi**"
   ]
  },
  {
   "cell_type": "code",
   "execution_count": 5,
   "id": "529ce990",
   "metadata": {},
   "outputs": [
    {
     "data": {
      "text/html": [
       "<div>\n",
       "<style scoped>\n",
       "    .dataframe tbody tr th:only-of-type {\n",
       "        vertical-align: middle;\n",
       "    }\n",
       "\n",
       "    .dataframe tbody tr th {\n",
       "        vertical-align: top;\n",
       "    }\n",
       "\n",
       "    .dataframe thead th {\n",
       "        text-align: right;\n",
       "    }\n",
       "</style>\n",
       "<table border=\"1\" class=\"dataframe\">\n",
       "  <thead>\n",
       "    <tr style=\"text-align: right;\">\n",
       "      <th></th>\n",
       "      <th>TANGGAL</th>\n",
       "      <th>NO TRANSAKSI</th>\n",
       "      <th>NAMA BARANG</th>\n",
       "      <th>QTY</th>\n",
       "    </tr>\n",
       "  </thead>\n",
       "  <tbody>\n",
       "    <tr>\n",
       "      <th>0</th>\n",
       "      <td>2023-01-01</td>\n",
       "      <td>2301011000001</td>\n",
       "      <td>FORVITA MARG 200GR</td>\n",
       "      <td>2</td>\n",
       "    </tr>\n",
       "    <tr>\n",
       "      <th>1</th>\n",
       "      <td>2023-01-01</td>\n",
       "      <td>2301011000002</td>\n",
       "      <td>SASA SANTAN KLPA 65ML</td>\n",
       "      <td>3</td>\n",
       "    </tr>\n",
       "    <tr>\n",
       "      <th>2</th>\n",
       "      <td>2023-01-01</td>\n",
       "      <td>2301011000003</td>\n",
       "      <td>CHEERS 1500ML GREEN</td>\n",
       "      <td>1</td>\n",
       "    </tr>\n",
       "    <tr>\n",
       "      <th>3</th>\n",
       "      <td>2023-01-01</td>\n",
       "      <td>2301011000004</td>\n",
       "      <td>SUN KARA 65ML</td>\n",
       "      <td>1</td>\n",
       "    </tr>\n",
       "    <tr>\n",
       "      <th>4</th>\n",
       "      <td>2023-01-01</td>\n",
       "      <td>2301011000004</td>\n",
       "      <td>OREO PIKACHU 165 6GR</td>\n",
       "      <td>1</td>\n",
       "    </tr>\n",
       "    <tr>\n",
       "      <th>...</th>\n",
       "      <td>...</td>\n",
       "      <td>...</td>\n",
       "      <td>...</td>\n",
       "      <td>...</td>\n",
       "    </tr>\n",
       "    <tr>\n",
       "      <th>162975</th>\n",
       "      <td>2023-12-31</td>\n",
       "      <td>2312311020112</td>\n",
       "      <td>KONIDIN 4 S</td>\n",
       "      <td>2</td>\n",
       "    </tr>\n",
       "    <tr>\n",
       "      <th>162976</th>\n",
       "      <td>2023-12-31</td>\n",
       "      <td>2312311020113</td>\n",
       "      <td>GOLDA CAPPUCINO 200ML</td>\n",
       "      <td>1</td>\n",
       "    </tr>\n",
       "    <tr>\n",
       "      <th>162977</th>\n",
       "      <td>2023-12-31</td>\n",
       "      <td>2312311020113</td>\n",
       "      <td>FLORIDINA ORANGE 360ML</td>\n",
       "      <td>1</td>\n",
       "    </tr>\n",
       "    <tr>\n",
       "      <th>162978</th>\n",
       "      <td>2023-12-31</td>\n",
       "      <td>2312311020114</td>\n",
       "      <td>WALLS PP TRICO/48</td>\n",
       "      <td>1</td>\n",
       "    </tr>\n",
       "    <tr>\n",
       "      <th>162979</th>\n",
       "      <td>2023-12-31</td>\n",
       "      <td>2312311020115</td>\n",
       "      <td>GIV SOAP HIJAB TIN 76G</td>\n",
       "      <td>1</td>\n",
       "    </tr>\n",
       "  </tbody>\n",
       "</table>\n",
       "<p>162980 rows × 4 columns</p>\n",
       "</div>"
      ],
      "text/plain": [
       "          TANGGAL   NO TRANSAKSI             NAMA BARANG  QTY\n",
       "0      2023-01-01  2301011000001      FORVITA MARG 200GR    2\n",
       "1      2023-01-01  2301011000002   SASA SANTAN KLPA 65ML    3\n",
       "2      2023-01-01  2301011000003     CHEERS 1500ML GREEN    1\n",
       "3      2023-01-01  2301011000004           SUN KARA 65ML    1\n",
       "4      2023-01-01  2301011000004    OREO PIKACHU 165 6GR    1\n",
       "...           ...            ...                     ...  ...\n",
       "162975 2023-12-31  2312311020112             KONIDIN 4 S    2\n",
       "162976 2023-12-31  2312311020113   GOLDA CAPPUCINO 200ML    1\n",
       "162977 2023-12-31  2312311020113  FLORIDINA ORANGE 360ML    1\n",
       "162978 2023-12-31  2312311020114       WALLS PP TRICO/48    1\n",
       "162979 2023-12-31  2312311020115  GIV SOAP HIJAB TIN 76G    1\n",
       "\n",
       "[162980 rows x 4 columns]"
      ]
     },
     "execution_count": 5,
     "metadata": {},
     "output_type": "execute_result"
    }
   ],
   "source": [
    "groceries = pd.read_excel('D:/kuliah/PA/sakinah-mart/data/final_data2023.xlsx')\n",
    "groceries"
   ]
  },
  {
   "cell_type": "markdown",
   "id": "f0751ba7",
   "metadata": {},
   "source": [
    "### **Filter Data Transaksi**"
   ]
  },
  {
   "cell_type": "code",
   "execution_count": 6,
   "id": "1aca4554",
   "metadata": {},
   "outputs": [
    {
     "data": {
      "text/html": [
       "<div>\n",
       "<style scoped>\n",
       "    .dataframe tbody tr th:only-of-type {\n",
       "        vertical-align: middle;\n",
       "    }\n",
       "\n",
       "    .dataframe tbody tr th {\n",
       "        vertical-align: top;\n",
       "    }\n",
       "\n",
       "    .dataframe thead th {\n",
       "        text-align: right;\n",
       "    }\n",
       "</style>\n",
       "<table border=\"1\" class=\"dataframe\">\n",
       "  <thead>\n",
       "    <tr style=\"text-align: right;\">\n",
       "      <th></th>\n",
       "      <th>TANGGAL</th>\n",
       "      <th>NO TRANSAKSI</th>\n",
       "      <th>NAMA BARANG</th>\n",
       "      <th>QTY</th>\n",
       "    </tr>\n",
       "  </thead>\n",
       "  <tbody>\n",
       "    <tr>\n",
       "      <th>9</th>\n",
       "      <td>2023-01-01</td>\n",
       "      <td>2301011000008</td>\n",
       "      <td>OREO SOFT CAKE 16GR</td>\n",
       "      <td>2</td>\n",
       "    </tr>\n",
       "    <tr>\n",
       "      <th>34</th>\n",
       "      <td>2023-01-01</td>\n",
       "      <td>2301011000018</td>\n",
       "      <td>PUCUK HARUM TEH 350ML</td>\n",
       "      <td>6</td>\n",
       "    </tr>\n",
       "    <tr>\n",
       "      <th>62</th>\n",
       "      <td>2023-01-01</td>\n",
       "      <td>2301011000034</td>\n",
       "      <td>ROMA KELAPA 300GR</td>\n",
       "      <td>1</td>\n",
       "    </tr>\n",
       "    <tr>\n",
       "      <th>96</th>\n",
       "      <td>2023-01-01</td>\n",
       "      <td>2301011000040</td>\n",
       "      <td>INDOMIE AYAM BAWANG</td>\n",
       "      <td>1</td>\n",
       "    </tr>\n",
       "    <tr>\n",
       "      <th>100</th>\n",
       "      <td>2023-01-01</td>\n",
       "      <td>2301011000041</td>\n",
       "      <td>YA KOPI SPESIAL 60GR</td>\n",
       "      <td>1</td>\n",
       "    </tr>\n",
       "    <tr>\n",
       "      <th>...</th>\n",
       "      <td>...</td>\n",
       "      <td>...</td>\n",
       "      <td>...</td>\n",
       "      <td>...</td>\n",
       "    </tr>\n",
       "    <tr>\n",
       "      <th>162895</th>\n",
       "      <td>2023-12-31</td>\n",
       "      <td>2312311020095</td>\n",
       "      <td>INDOMIE GRG SPECIAL</td>\n",
       "      <td>4</td>\n",
       "    </tr>\n",
       "    <tr>\n",
       "      <th>162902</th>\n",
       "      <td>2023-12-31</td>\n",
       "      <td>2312311020096</td>\n",
       "      <td>INDOMIE GRG SPECIAL</td>\n",
       "      <td>4</td>\n",
       "    </tr>\n",
       "    <tr>\n",
       "      <th>162944</th>\n",
       "      <td>2023-12-31</td>\n",
       "      <td>2312311020102</td>\n",
       "      <td>INDOMIE GRG SPECIAL</td>\n",
       "      <td>2</td>\n",
       "    </tr>\n",
       "    <tr>\n",
       "      <th>162946</th>\n",
       "      <td>2023-12-31</td>\n",
       "      <td>2312311020102</td>\n",
       "      <td>INDOMIE SOTO MIE</td>\n",
       "      <td>2</td>\n",
       "    </tr>\n",
       "    <tr>\n",
       "      <th>162968</th>\n",
       "      <td>2023-12-31</td>\n",
       "      <td>2312311020110</td>\n",
       "      <td>OREO SOFT CAKE 16GR</td>\n",
       "      <td>1</td>\n",
       "    </tr>\n",
       "  </tbody>\n",
       "</table>\n",
       "<p>8729 rows × 4 columns</p>\n",
       "</div>"
      ],
      "text/plain": [
       "          TANGGAL   NO TRANSAKSI            NAMA BARANG  QTY\n",
       "9      2023-01-01  2301011000008    OREO SOFT CAKE 16GR    2\n",
       "34     2023-01-01  2301011000018  PUCUK HARUM TEH 350ML    6\n",
       "62     2023-01-01  2301011000034      ROMA KELAPA 300GR    1\n",
       "96     2023-01-01  2301011000040    INDOMIE AYAM BAWANG    1\n",
       "100    2023-01-01  2301011000041   YA KOPI SPESIAL 60GR    1\n",
       "...           ...            ...                    ...  ...\n",
       "162895 2023-12-31  2312311020095    INDOMIE GRG SPECIAL    4\n",
       "162902 2023-12-31  2312311020096    INDOMIE GRG SPECIAL    4\n",
       "162944 2023-12-31  2312311020102    INDOMIE GRG SPECIAL    2\n",
       "162946 2023-12-31  2312311020102       INDOMIE SOTO MIE    2\n",
       "162968 2023-12-31  2312311020110    OREO SOFT CAKE 16GR    1\n",
       "\n",
       "[8729 rows x 4 columns]"
      ]
     },
     "execution_count": 6,
     "metadata": {},
     "output_type": "execute_result"
    }
   ],
   "source": [
    "df_filtered = groceries[groceries['NAMA BARANG'].isin(all_items)]\n",
    "df_filtered "
   ]
  },
  {
   "cell_type": "code",
   "execution_count": 7,
   "id": "0bc9ca8c",
   "metadata": {},
   "outputs": [
    {
     "name": "stdout",
     "output_type": "stream",
     "text": [
      "Jumlah nama barang unik: 35\n",
      "Nama barang unik:\n",
      "- OREO SOFT CAKE 16GR\n",
      "- PUCUK HARUM TEH 350ML\n",
      "- ROMA KELAPA 300GR\n",
      "- INDOMIE AYAM BAWANG\n",
      "- YA KOPI SPESIAL 60GR\n",
      "- INDOMILK KID CKL 115ML\n",
      "- INDOMILK STR 190ML BTL\n",
      "- EKONOMI E900K\n",
      "- INDOMILK KID STR 115ML\n",
      "- TWISTER MINI CPP 20GR\n",
      "- INDOMIE GRG SPECIAL\n",
      "- INDOMIE AYAM SPECIAL\n",
      "- WALLS POPULAIRE STR\n",
      "- MOMOGI CKL 6GR\n",
      "- HARMONY ORANGE\n",
      "- HARMONY LEMON\n",
      "- NUVO SOAP BLUE 72G\n",
      "- NUVO SOAP YLOW 72G\n",
      "- TONGTJI JASMINE 5 S\n",
      "- INDOMIE SOTO MIE\n",
      "- MOMOGI JGG BKR 6GR\n",
      "- PARAMEX SKT KEPALA\n",
      "- KRIPIK SGKG TURBO 180G\n",
      "- SUNSILK SHP BLK SHN 160ML\n",
      "- BIG BLUEBRRY 375ML\n",
      "- HARMONY STRAWBERY\n",
      "- HERS PROT SCM 60 S\n",
      "- TEH GELAS ORI 170ML\n",
      "- DELFI TOP TRIP/CHO 9GR\n",
      "- CLOUD 9 CHOCO 15 4G\n",
      "- CLOUD 9 VANILA 15 4G\n",
      "- HARMONY MELON\n",
      "- CIPTADENT PG FRS 190ML\n",
      "- WAFELLO COCONUT 37 5G\n",
      "- INDOMILK KID VNL 115ML\n"
     ]
    }
   ],
   "source": [
    "# Menampilkan jumlah unik nama barang\n",
    "jumlah_nama_barang = df_filtered['NAMA BARANG'].nunique()\n",
    "print(\"Jumlah nama barang unik:\", jumlah_nama_barang)\n",
    "\n",
    "# Menampilkan isi nama barang yang unik\n",
    "nama_barang_unik = df_filtered['NAMA BARANG'].unique()\n",
    "print(\"Nama barang unik:\")\n",
    "for nama in nama_barang_unik:\n",
    "    print(\"-\", nama)"
   ]
  },
  {
   "cell_type": "markdown",
   "id": "687bb558",
   "metadata": {},
   "source": [
    "### **Agregasi Data Mingguan**"
   ]
  },
  {
   "cell_type": "code",
   "execution_count": 8,
   "id": "37afe687",
   "metadata": {},
   "outputs": [
    {
     "data": {
      "application/vnd.plotly.v1+json": {
       "config": {
        "plotlyServerURL": "https://plot.ly"
       },
       "data": [
        {
         "hovertemplate": "NAMA BARANG=BIG BLUEBRRY 375ML<br>TANGGAL=%{x}<br>QTY=%{y}<extra></extra>",
         "legendgroup": "BIG BLUEBRRY 375ML",
         "line": {
          "color": "#636efa",
          "dash": "solid"
         },
         "marker": {
          "symbol": "circle"
         },
         "mode": "lines",
         "name": "BIG BLUEBRRY 375ML",
         "showlegend": true,
         "type": "scattergl",
         "x": [
          "2023-01-01T00:00:00",
          "2023-01-08T00:00:00",
          "2023-01-15T00:00:00",
          "2023-01-22T00:00:00",
          "2023-01-29T00:00:00",
          "2023-02-05T00:00:00",
          "2023-02-12T00:00:00",
          "2023-02-19T00:00:00",
          "2023-02-26T00:00:00",
          "2023-03-05T00:00:00",
          "2023-03-12T00:00:00",
          "2023-03-19T00:00:00",
          "2023-03-26T00:00:00",
          "2023-04-02T00:00:00",
          "2023-04-09T00:00:00",
          "2023-04-16T00:00:00",
          "2023-04-23T00:00:00",
          "2023-04-30T00:00:00",
          "2023-05-07T00:00:00",
          "2023-05-14T00:00:00",
          "2023-05-21T00:00:00",
          "2023-05-28T00:00:00",
          "2023-06-04T00:00:00",
          "2023-06-11T00:00:00",
          "2023-06-18T00:00:00",
          "2023-06-25T00:00:00",
          "2023-07-02T00:00:00",
          "2023-07-09T00:00:00",
          "2023-07-16T00:00:00",
          "2023-07-23T00:00:00",
          "2023-07-30T00:00:00",
          "2023-08-06T00:00:00",
          "2023-08-13T00:00:00",
          "2023-08-20T00:00:00",
          "2023-08-27T00:00:00",
          "2023-09-03T00:00:00",
          "2023-09-10T00:00:00",
          "2023-09-17T00:00:00",
          "2023-09-24T00:00:00",
          "2023-10-01T00:00:00",
          "2023-10-08T00:00:00",
          "2023-10-15T00:00:00",
          "2023-10-22T00:00:00",
          "2023-10-29T00:00:00",
          "2023-11-05T00:00:00",
          "2023-11-12T00:00:00",
          "2023-11-19T00:00:00",
          "2023-11-26T00:00:00",
          "2023-12-03T00:00:00",
          "2023-12-10T00:00:00",
          "2023-12-17T00:00:00",
          "2023-12-24T00:00:00",
          "2023-12-31T00:00:00"
         ],
         "xaxis": "x",
         "y": [
          1,
          2,
          4,
          1,
          1,
          2,
          0,
          0,
          1,
          1,
          3,
          2,
          1,
          3,
          3,
          0,
          3,
          1,
          0,
          3,
          1,
          5,
          3,
          2,
          0,
          1,
          3,
          3,
          2,
          1,
          0,
          0,
          0,
          0,
          0,
          0,
          1,
          0,
          1,
          4,
          1,
          1,
          2,
          10,
          1,
          4,
          7,
          0,
          0,
          0,
          0,
          1,
          0
         ],
         "yaxis": "y"
        },
        {
         "hovertemplate": "NAMA BARANG=CIPTADENT PG FRS 190ML<br>TANGGAL=%{x}<br>QTY=%{y}<extra></extra>",
         "legendgroup": "CIPTADENT PG FRS 190ML",
         "line": {
          "color": "#EF553B",
          "dash": "solid"
         },
         "marker": {
          "symbol": "circle"
         },
         "mode": "lines",
         "name": "CIPTADENT PG FRS 190ML",
         "showlegend": true,
         "type": "scattergl",
         "x": [
          "2023-01-01T00:00:00",
          "2023-01-08T00:00:00",
          "2023-01-15T00:00:00",
          "2023-01-22T00:00:00",
          "2023-01-29T00:00:00",
          "2023-02-05T00:00:00",
          "2023-02-12T00:00:00",
          "2023-02-19T00:00:00",
          "2023-02-26T00:00:00",
          "2023-03-05T00:00:00",
          "2023-03-12T00:00:00",
          "2023-03-19T00:00:00",
          "2023-03-26T00:00:00",
          "2023-04-02T00:00:00",
          "2023-04-09T00:00:00",
          "2023-04-16T00:00:00",
          "2023-04-23T00:00:00",
          "2023-04-30T00:00:00",
          "2023-05-07T00:00:00",
          "2023-05-14T00:00:00",
          "2023-05-21T00:00:00",
          "2023-05-28T00:00:00",
          "2023-06-04T00:00:00",
          "2023-06-11T00:00:00",
          "2023-06-18T00:00:00",
          "2023-06-25T00:00:00",
          "2023-07-02T00:00:00",
          "2023-07-09T00:00:00",
          "2023-07-16T00:00:00",
          "2023-07-23T00:00:00",
          "2023-07-30T00:00:00",
          "2023-08-06T00:00:00",
          "2023-08-13T00:00:00",
          "2023-08-20T00:00:00",
          "2023-08-27T00:00:00",
          "2023-09-03T00:00:00",
          "2023-09-10T00:00:00",
          "2023-09-17T00:00:00",
          "2023-09-24T00:00:00",
          "2023-10-01T00:00:00",
          "2023-10-08T00:00:00",
          "2023-10-15T00:00:00",
          "2023-10-22T00:00:00",
          "2023-10-29T00:00:00",
          "2023-11-05T00:00:00",
          "2023-11-12T00:00:00",
          "2023-11-19T00:00:00",
          "2023-11-26T00:00:00",
          "2023-12-03T00:00:00",
          "2023-12-10T00:00:00",
          "2023-12-17T00:00:00",
          "2023-12-24T00:00:00",
          "2023-12-31T00:00:00"
         ],
         "xaxis": "x",
         "y": [
          0,
          0,
          0,
          0,
          0,
          0,
          0,
          0,
          0,
          0,
          0,
          1,
          2,
          1,
          0,
          0,
          0,
          1,
          0,
          0,
          0,
          1,
          1,
          0,
          0,
          2,
          0,
          2,
          2,
          1,
          2,
          1,
          0,
          0,
          2,
          1,
          2,
          1,
          6,
          2,
          2,
          0,
          2,
          2,
          1,
          5,
          3,
          5,
          4,
          3,
          0,
          3,
          2
         ],
         "yaxis": "y"
        },
        {
         "hovertemplate": "NAMA BARANG=CLOUD 9 CHOCO 15 4G<br>TANGGAL=%{x}<br>QTY=%{y}<extra></extra>",
         "legendgroup": "CLOUD 9 CHOCO 15 4G",
         "line": {
          "color": "#00cc96",
          "dash": "solid"
         },
         "marker": {
          "symbol": "circle"
         },
         "mode": "lines",
         "name": "CLOUD 9 CHOCO 15 4G",
         "showlegend": true,
         "type": "scattergl",
         "x": [
          "2023-01-01T00:00:00",
          "2023-01-08T00:00:00",
          "2023-01-15T00:00:00",
          "2023-01-22T00:00:00",
          "2023-01-29T00:00:00",
          "2023-02-05T00:00:00",
          "2023-02-12T00:00:00",
          "2023-02-19T00:00:00",
          "2023-02-26T00:00:00",
          "2023-03-05T00:00:00",
          "2023-03-12T00:00:00",
          "2023-03-19T00:00:00",
          "2023-03-26T00:00:00",
          "2023-04-02T00:00:00",
          "2023-04-09T00:00:00",
          "2023-04-16T00:00:00",
          "2023-04-23T00:00:00",
          "2023-04-30T00:00:00",
          "2023-05-07T00:00:00",
          "2023-05-14T00:00:00",
          "2023-05-21T00:00:00",
          "2023-05-28T00:00:00",
          "2023-06-04T00:00:00",
          "2023-06-11T00:00:00",
          "2023-06-18T00:00:00",
          "2023-06-25T00:00:00",
          "2023-07-02T00:00:00",
          "2023-07-09T00:00:00",
          "2023-07-16T00:00:00",
          "2023-07-23T00:00:00",
          "2023-07-30T00:00:00",
          "2023-08-06T00:00:00",
          "2023-08-13T00:00:00",
          "2023-08-20T00:00:00",
          "2023-08-27T00:00:00",
          "2023-09-03T00:00:00",
          "2023-09-10T00:00:00",
          "2023-09-17T00:00:00",
          "2023-09-24T00:00:00",
          "2023-10-01T00:00:00",
          "2023-10-08T00:00:00",
          "2023-10-15T00:00:00",
          "2023-10-22T00:00:00",
          "2023-10-29T00:00:00",
          "2023-11-05T00:00:00",
          "2023-11-12T00:00:00",
          "2023-11-19T00:00:00",
          "2023-11-26T00:00:00",
          "2023-12-03T00:00:00",
          "2023-12-10T00:00:00",
          "2023-12-17T00:00:00",
          "2023-12-24T00:00:00",
          "2023-12-31T00:00:00"
         ],
         "xaxis": "x",
         "y": [
          0,
          0,
          0,
          0,
          5,
          1,
          5,
          2,
          1,
          1,
          4,
          1,
          0,
          1,
          1,
          0,
          0,
          0,
          0,
          1,
          0,
          0,
          2,
          0,
          1,
          0,
          1,
          0,
          13,
          10,
          9,
          2,
          9,
          16,
          3,
          4,
          0,
          6,
          6,
          7,
          3,
          9,
          2,
          9,
          3,
          1,
          3,
          1,
          2,
          4,
          3,
          4,
          1
         ],
         "yaxis": "y"
        },
        {
         "hovertemplate": "NAMA BARANG=CLOUD 9 VANILA 15 4G<br>TANGGAL=%{x}<br>QTY=%{y}<extra></extra>",
         "legendgroup": "CLOUD 9 VANILA 15 4G",
         "line": {
          "color": "#ab63fa",
          "dash": "solid"
         },
         "marker": {
          "symbol": "circle"
         },
         "mode": "lines",
         "name": "CLOUD 9 VANILA 15 4G",
         "showlegend": true,
         "type": "scattergl",
         "x": [
          "2023-01-01T00:00:00",
          "2023-01-08T00:00:00",
          "2023-01-15T00:00:00",
          "2023-01-22T00:00:00",
          "2023-01-29T00:00:00",
          "2023-02-05T00:00:00",
          "2023-02-12T00:00:00",
          "2023-02-19T00:00:00",
          "2023-02-26T00:00:00",
          "2023-03-05T00:00:00",
          "2023-03-12T00:00:00",
          "2023-03-19T00:00:00",
          "2023-03-26T00:00:00",
          "2023-04-02T00:00:00",
          "2023-04-09T00:00:00",
          "2023-04-16T00:00:00",
          "2023-04-23T00:00:00",
          "2023-04-30T00:00:00",
          "2023-05-07T00:00:00",
          "2023-05-14T00:00:00",
          "2023-05-21T00:00:00",
          "2023-05-28T00:00:00",
          "2023-06-04T00:00:00",
          "2023-06-11T00:00:00",
          "2023-06-18T00:00:00",
          "2023-06-25T00:00:00",
          "2023-07-02T00:00:00",
          "2023-07-09T00:00:00",
          "2023-07-16T00:00:00",
          "2023-07-23T00:00:00",
          "2023-07-30T00:00:00",
          "2023-08-06T00:00:00",
          "2023-08-13T00:00:00",
          "2023-08-20T00:00:00",
          "2023-08-27T00:00:00",
          "2023-09-03T00:00:00",
          "2023-09-10T00:00:00",
          "2023-09-17T00:00:00",
          "2023-09-24T00:00:00",
          "2023-10-01T00:00:00",
          "2023-10-08T00:00:00",
          "2023-10-15T00:00:00",
          "2023-10-22T00:00:00",
          "2023-10-29T00:00:00",
          "2023-11-05T00:00:00",
          "2023-11-12T00:00:00",
          "2023-11-19T00:00:00",
          "2023-11-26T00:00:00",
          "2023-12-03T00:00:00",
          "2023-12-10T00:00:00",
          "2023-12-17T00:00:00",
          "2023-12-24T00:00:00",
          "2023-12-31T00:00:00"
         ],
         "xaxis": "x",
         "y": [
          0,
          0,
          0,
          0,
          6,
          2,
          2,
          2,
          2,
          3,
          1,
          2,
          4,
          4,
          3,
          1,
          1,
          0,
          0,
          0,
          1,
          4,
          1,
          2,
          1,
          0,
          0,
          3,
          16,
          3,
          12,
          7,
          4,
          3,
          5,
          3,
          6,
          3,
          13,
          5,
          2,
          1,
          2,
          6,
          4,
          7,
          3,
          2,
          2,
          2,
          1,
          6,
          1
         ],
         "yaxis": "y"
        },
        {
         "hovertemplate": "NAMA BARANG=DELFI TOP TRIP/CHO 9GR<br>TANGGAL=%{x}<br>QTY=%{y}<extra></extra>",
         "legendgroup": "DELFI TOP TRIP/CHO 9GR",
         "line": {
          "color": "#FFA15A",
          "dash": "solid"
         },
         "marker": {
          "symbol": "circle"
         },
         "mode": "lines",
         "name": "DELFI TOP TRIP/CHO 9GR",
         "showlegend": true,
         "type": "scattergl",
         "x": [
          "2023-01-01T00:00:00",
          "2023-01-08T00:00:00",
          "2023-01-15T00:00:00",
          "2023-01-22T00:00:00",
          "2023-01-29T00:00:00",
          "2023-02-05T00:00:00",
          "2023-02-12T00:00:00",
          "2023-02-19T00:00:00",
          "2023-02-26T00:00:00",
          "2023-03-05T00:00:00",
          "2023-03-12T00:00:00",
          "2023-03-19T00:00:00",
          "2023-03-26T00:00:00",
          "2023-04-02T00:00:00",
          "2023-04-09T00:00:00",
          "2023-04-16T00:00:00",
          "2023-04-23T00:00:00",
          "2023-04-30T00:00:00",
          "2023-05-07T00:00:00",
          "2023-05-14T00:00:00",
          "2023-05-21T00:00:00",
          "2023-05-28T00:00:00",
          "2023-06-04T00:00:00",
          "2023-06-11T00:00:00",
          "2023-06-18T00:00:00",
          "2023-06-25T00:00:00",
          "2023-07-02T00:00:00",
          "2023-07-09T00:00:00",
          "2023-07-16T00:00:00",
          "2023-07-23T00:00:00",
          "2023-07-30T00:00:00",
          "2023-08-06T00:00:00",
          "2023-08-13T00:00:00",
          "2023-08-20T00:00:00",
          "2023-08-27T00:00:00",
          "2023-09-03T00:00:00",
          "2023-09-10T00:00:00",
          "2023-09-17T00:00:00",
          "2023-09-24T00:00:00",
          "2023-10-01T00:00:00",
          "2023-10-08T00:00:00",
          "2023-10-15T00:00:00",
          "2023-10-22T00:00:00",
          "2023-10-29T00:00:00",
          "2023-11-05T00:00:00",
          "2023-11-12T00:00:00",
          "2023-11-19T00:00:00",
          "2023-11-26T00:00:00",
          "2023-12-03T00:00:00",
          "2023-12-10T00:00:00",
          "2023-12-17T00:00:00",
          "2023-12-24T00:00:00",
          "2023-12-31T00:00:00"
         ],
         "xaxis": "x",
         "y": [
          0,
          3,
          4,
          4,
          7,
          3,
          4,
          4,
          0,
          0,
          3,
          4,
          2,
          4,
          3,
          0,
          5,
          0,
          2,
          0,
          3,
          3,
          3,
          4,
          2,
          3,
          5,
          5,
          6,
          2,
          5,
          4,
          1,
          2,
          2,
          4,
          0,
          10,
          0,
          8,
          1,
          0,
          1,
          6,
          1,
          1,
          1,
          6,
          5,
          9,
          3,
          1,
          0
         ],
         "yaxis": "y"
        },
        {
         "hovertemplate": "NAMA BARANG=EKONOMI E900K<br>TANGGAL=%{x}<br>QTY=%{y}<extra></extra>",
         "legendgroup": "EKONOMI E900K",
         "line": {
          "color": "#19d3f3",
          "dash": "solid"
         },
         "marker": {
          "symbol": "circle"
         },
         "mode": "lines",
         "name": "EKONOMI E900K",
         "showlegend": true,
         "type": "scattergl",
         "x": [
          "2023-01-01T00:00:00",
          "2023-01-08T00:00:00",
          "2023-01-15T00:00:00",
          "2023-01-22T00:00:00",
          "2023-01-29T00:00:00",
          "2023-02-05T00:00:00",
          "2023-02-12T00:00:00",
          "2023-02-19T00:00:00",
          "2023-02-26T00:00:00",
          "2023-03-05T00:00:00",
          "2023-03-12T00:00:00",
          "2023-03-19T00:00:00",
          "2023-03-26T00:00:00",
          "2023-04-02T00:00:00",
          "2023-04-09T00:00:00",
          "2023-04-16T00:00:00",
          "2023-04-23T00:00:00",
          "2023-04-30T00:00:00",
          "2023-05-07T00:00:00",
          "2023-05-14T00:00:00",
          "2023-05-21T00:00:00",
          "2023-05-28T00:00:00",
          "2023-06-04T00:00:00",
          "2023-06-11T00:00:00",
          "2023-06-18T00:00:00",
          "2023-06-25T00:00:00",
          "2023-07-02T00:00:00",
          "2023-07-09T00:00:00",
          "2023-07-16T00:00:00",
          "2023-07-23T00:00:00",
          "2023-07-30T00:00:00",
          "2023-08-06T00:00:00",
          "2023-08-13T00:00:00",
          "2023-08-20T00:00:00",
          "2023-08-27T00:00:00",
          "2023-09-03T00:00:00",
          "2023-09-10T00:00:00",
          "2023-09-17T00:00:00",
          "2023-09-24T00:00:00",
          "2023-10-01T00:00:00",
          "2023-10-08T00:00:00",
          "2023-10-15T00:00:00",
          "2023-10-22T00:00:00",
          "2023-10-29T00:00:00",
          "2023-11-05T00:00:00",
          "2023-11-12T00:00:00",
          "2023-11-19T00:00:00",
          "2023-11-26T00:00:00",
          "2023-12-03T00:00:00",
          "2023-12-10T00:00:00",
          "2023-12-17T00:00:00",
          "2023-12-24T00:00:00",
          "2023-12-31T00:00:00"
         ],
         "xaxis": "x",
         "y": [
          6,
          3,
          2,
          1,
          5,
          2,
          3,
          3,
          3,
          1,
          3,
          2,
          3,
          3,
          2,
          2,
          2,
          3,
          2,
          0,
          2,
          1,
          2,
          1,
          2,
          0,
          4,
          0,
          3,
          0,
          1,
          0,
          2,
          1,
          2,
          3,
          1,
          2,
          3,
          3,
          0,
          2,
          0,
          5,
          1,
          3,
          2,
          2,
          6,
          1,
          1,
          1,
          0
         ],
         "yaxis": "y"
        },
        {
         "hovertemplate": "NAMA BARANG=HARMONY LEMON<br>TANGGAL=%{x}<br>QTY=%{y}<extra></extra>",
         "legendgroup": "HARMONY LEMON",
         "line": {
          "color": "#FF6692",
          "dash": "solid"
         },
         "marker": {
          "symbol": "circle"
         },
         "mode": "lines",
         "name": "HARMONY LEMON",
         "showlegend": true,
         "type": "scattergl",
         "x": [
          "2023-01-01T00:00:00",
          "2023-01-08T00:00:00",
          "2023-01-15T00:00:00",
          "2023-01-22T00:00:00",
          "2023-01-29T00:00:00",
          "2023-02-05T00:00:00",
          "2023-02-12T00:00:00",
          "2023-02-19T00:00:00",
          "2023-02-26T00:00:00",
          "2023-03-05T00:00:00",
          "2023-03-12T00:00:00",
          "2023-03-19T00:00:00",
          "2023-03-26T00:00:00",
          "2023-04-02T00:00:00",
          "2023-04-09T00:00:00",
          "2023-04-16T00:00:00",
          "2023-04-23T00:00:00",
          "2023-04-30T00:00:00",
          "2023-05-07T00:00:00",
          "2023-05-14T00:00:00",
          "2023-05-21T00:00:00",
          "2023-05-28T00:00:00",
          "2023-06-04T00:00:00",
          "2023-06-11T00:00:00",
          "2023-06-18T00:00:00",
          "2023-06-25T00:00:00",
          "2023-07-02T00:00:00",
          "2023-07-09T00:00:00",
          "2023-07-16T00:00:00",
          "2023-07-23T00:00:00",
          "2023-07-30T00:00:00",
          "2023-08-06T00:00:00",
          "2023-08-13T00:00:00",
          "2023-08-20T00:00:00",
          "2023-08-27T00:00:00",
          "2023-09-03T00:00:00",
          "2023-09-10T00:00:00",
          "2023-09-17T00:00:00",
          "2023-09-24T00:00:00",
          "2023-10-01T00:00:00",
          "2023-10-08T00:00:00",
          "2023-10-15T00:00:00",
          "2023-10-22T00:00:00",
          "2023-10-29T00:00:00",
          "2023-11-05T00:00:00",
          "2023-11-12T00:00:00",
          "2023-11-19T00:00:00",
          "2023-11-26T00:00:00",
          "2023-12-03T00:00:00",
          "2023-12-10T00:00:00",
          "2023-12-17T00:00:00",
          "2023-12-24T00:00:00",
          "2023-12-31T00:00:00"
         ],
         "xaxis": "x",
         "y": [
          3,
          0,
          3,
          0,
          1,
          0,
          0,
          0,
          0,
          1,
          1,
          1,
          1,
          1,
          3,
          2,
          0,
          0,
          0,
          1,
          1,
          0,
          4,
          1,
          1,
          2,
          5,
          1,
          0,
          2,
          2,
          0,
          1,
          1,
          3,
          1,
          1,
          1,
          0,
          0,
          0,
          1,
          2,
          6,
          2,
          3,
          2,
          3,
          4,
          1,
          0,
          2,
          2
         ],
         "yaxis": "y"
        },
        {
         "hovertemplate": "NAMA BARANG=HARMONY MELON<br>TANGGAL=%{x}<br>QTY=%{y}<extra></extra>",
         "legendgroup": "HARMONY MELON",
         "line": {
          "color": "#B6E880",
          "dash": "solid"
         },
         "marker": {
          "symbol": "circle"
         },
         "mode": "lines",
         "name": "HARMONY MELON",
         "showlegend": true,
         "type": "scattergl",
         "x": [
          "2023-01-01T00:00:00",
          "2023-01-08T00:00:00",
          "2023-01-15T00:00:00",
          "2023-01-22T00:00:00",
          "2023-01-29T00:00:00",
          "2023-02-05T00:00:00",
          "2023-02-12T00:00:00",
          "2023-02-19T00:00:00",
          "2023-02-26T00:00:00",
          "2023-03-05T00:00:00",
          "2023-03-12T00:00:00",
          "2023-03-19T00:00:00",
          "2023-03-26T00:00:00",
          "2023-04-02T00:00:00",
          "2023-04-09T00:00:00",
          "2023-04-16T00:00:00",
          "2023-04-23T00:00:00",
          "2023-04-30T00:00:00",
          "2023-05-07T00:00:00",
          "2023-05-14T00:00:00",
          "2023-05-21T00:00:00",
          "2023-05-28T00:00:00",
          "2023-06-04T00:00:00",
          "2023-06-11T00:00:00",
          "2023-06-18T00:00:00",
          "2023-06-25T00:00:00",
          "2023-07-02T00:00:00",
          "2023-07-09T00:00:00",
          "2023-07-16T00:00:00",
          "2023-07-23T00:00:00",
          "2023-07-30T00:00:00",
          "2023-08-06T00:00:00",
          "2023-08-13T00:00:00",
          "2023-08-20T00:00:00",
          "2023-08-27T00:00:00",
          "2023-09-03T00:00:00",
          "2023-09-10T00:00:00",
          "2023-09-17T00:00:00",
          "2023-09-24T00:00:00",
          "2023-10-01T00:00:00",
          "2023-10-08T00:00:00",
          "2023-10-15T00:00:00",
          "2023-10-22T00:00:00",
          "2023-10-29T00:00:00",
          "2023-11-05T00:00:00",
          "2023-11-12T00:00:00",
          "2023-11-19T00:00:00",
          "2023-11-26T00:00:00",
          "2023-12-03T00:00:00",
          "2023-12-10T00:00:00",
          "2023-12-17T00:00:00",
          "2023-12-24T00:00:00",
          "2023-12-31T00:00:00"
         ],
         "xaxis": "x",
         "y": [
          0,
          0,
          0,
          0,
          0,
          0,
          0,
          0,
          0,
          2,
          0,
          1,
          3,
          5,
          0,
          1,
          0,
          0,
          0,
          0,
          0,
          3,
          0,
          0,
          0,
          3,
          4,
          1,
          0,
          3,
          3,
          1,
          1,
          0,
          5,
          3,
          1,
          1,
          4,
          2,
          2,
          4,
          3,
          2,
          2,
          7,
          0,
          4,
          10,
          0,
          2,
          2,
          4
         ],
         "yaxis": "y"
        },
        {
         "hovertemplate": "NAMA BARANG=HARMONY ORANGE<br>TANGGAL=%{x}<br>QTY=%{y}<extra></extra>",
         "legendgroup": "HARMONY ORANGE",
         "line": {
          "color": "#FF97FF",
          "dash": "solid"
         },
         "marker": {
          "symbol": "circle"
         },
         "mode": "lines",
         "name": "HARMONY ORANGE",
         "showlegend": true,
         "type": "scattergl",
         "x": [
          "2023-01-01T00:00:00",
          "2023-01-08T00:00:00",
          "2023-01-15T00:00:00",
          "2023-01-22T00:00:00",
          "2023-01-29T00:00:00",
          "2023-02-05T00:00:00",
          "2023-02-12T00:00:00",
          "2023-02-19T00:00:00",
          "2023-02-26T00:00:00",
          "2023-03-05T00:00:00",
          "2023-03-12T00:00:00",
          "2023-03-19T00:00:00",
          "2023-03-26T00:00:00",
          "2023-04-02T00:00:00",
          "2023-04-09T00:00:00",
          "2023-04-16T00:00:00",
          "2023-04-23T00:00:00",
          "2023-04-30T00:00:00",
          "2023-05-07T00:00:00",
          "2023-05-14T00:00:00",
          "2023-05-21T00:00:00",
          "2023-05-28T00:00:00",
          "2023-06-04T00:00:00",
          "2023-06-11T00:00:00",
          "2023-06-18T00:00:00",
          "2023-06-25T00:00:00",
          "2023-07-02T00:00:00",
          "2023-07-09T00:00:00",
          "2023-07-16T00:00:00",
          "2023-07-23T00:00:00",
          "2023-07-30T00:00:00",
          "2023-08-06T00:00:00",
          "2023-08-13T00:00:00",
          "2023-08-20T00:00:00",
          "2023-08-27T00:00:00",
          "2023-09-03T00:00:00",
          "2023-09-10T00:00:00",
          "2023-09-17T00:00:00",
          "2023-09-24T00:00:00",
          "2023-10-01T00:00:00",
          "2023-10-08T00:00:00",
          "2023-10-15T00:00:00",
          "2023-10-22T00:00:00",
          "2023-10-29T00:00:00",
          "2023-11-05T00:00:00",
          "2023-11-12T00:00:00",
          "2023-11-19T00:00:00",
          "2023-11-26T00:00:00",
          "2023-12-03T00:00:00",
          "2023-12-10T00:00:00",
          "2023-12-17T00:00:00",
          "2023-12-24T00:00:00",
          "2023-12-31T00:00:00"
         ],
         "xaxis": "x",
         "y": [
          3,
          0,
          0,
          0,
          4,
          1,
          0,
          0,
          0,
          1,
          0,
          2,
          0,
          1,
          3,
          0,
          0,
          0,
          6,
          0,
          0,
          0,
          2,
          0,
          0,
          2,
          0,
          2,
          1,
          1,
          2,
          0,
          0,
          0,
          1,
          2,
          2,
          2,
          1,
          2,
          3,
          1,
          1,
          3,
          1,
          4,
          2,
          7,
          5,
          1,
          10,
          4,
          0
         ],
         "yaxis": "y"
        },
        {
         "hovertemplate": "NAMA BARANG=HARMONY STRAWBERY<br>TANGGAL=%{x}<br>QTY=%{y}<extra></extra>",
         "legendgroup": "HARMONY STRAWBERY",
         "line": {
          "color": "#FECB52",
          "dash": "solid"
         },
         "marker": {
          "symbol": "circle"
         },
         "mode": "lines",
         "name": "HARMONY STRAWBERY",
         "showlegend": true,
         "type": "scattergl",
         "x": [
          "2023-01-01T00:00:00",
          "2023-01-08T00:00:00",
          "2023-01-15T00:00:00",
          "2023-01-22T00:00:00",
          "2023-01-29T00:00:00",
          "2023-02-05T00:00:00",
          "2023-02-12T00:00:00",
          "2023-02-19T00:00:00",
          "2023-02-26T00:00:00",
          "2023-03-05T00:00:00",
          "2023-03-12T00:00:00",
          "2023-03-19T00:00:00",
          "2023-03-26T00:00:00",
          "2023-04-02T00:00:00",
          "2023-04-09T00:00:00",
          "2023-04-16T00:00:00",
          "2023-04-23T00:00:00",
          "2023-04-30T00:00:00",
          "2023-05-07T00:00:00",
          "2023-05-14T00:00:00",
          "2023-05-21T00:00:00",
          "2023-05-28T00:00:00",
          "2023-06-04T00:00:00",
          "2023-06-11T00:00:00",
          "2023-06-18T00:00:00",
          "2023-06-25T00:00:00",
          "2023-07-02T00:00:00",
          "2023-07-09T00:00:00",
          "2023-07-16T00:00:00",
          "2023-07-23T00:00:00",
          "2023-07-30T00:00:00",
          "2023-08-06T00:00:00",
          "2023-08-13T00:00:00",
          "2023-08-20T00:00:00",
          "2023-08-27T00:00:00",
          "2023-09-03T00:00:00",
          "2023-09-10T00:00:00",
          "2023-09-17T00:00:00",
          "2023-09-24T00:00:00",
          "2023-10-01T00:00:00",
          "2023-10-08T00:00:00",
          "2023-10-15T00:00:00",
          "2023-10-22T00:00:00",
          "2023-10-29T00:00:00",
          "2023-11-05T00:00:00",
          "2023-11-12T00:00:00",
          "2023-11-19T00:00:00",
          "2023-11-26T00:00:00",
          "2023-12-03T00:00:00",
          "2023-12-10T00:00:00",
          "2023-12-17T00:00:00",
          "2023-12-24T00:00:00",
          "2023-12-31T00:00:00"
         ],
         "xaxis": "x",
         "y": [
          1,
          1,
          1,
          2,
          1,
          0,
          0,
          0,
          0,
          1,
          0,
          1,
          1,
          2,
          3,
          4,
          0,
          0,
          0,
          0,
          0,
          1,
          1,
          1,
          0,
          2,
          4,
          0,
          0,
          2,
          1,
          0,
          0,
          0,
          3,
          1,
          0,
          0,
          0,
          2,
          0,
          1,
          4,
          1,
          2,
          3,
          0,
          1,
          5,
          1,
          4,
          0,
          4
         ],
         "yaxis": "y"
        },
        {
         "hovertemplate": "NAMA BARANG=HERS PROT SCM 60 S<br>TANGGAL=%{x}<br>QTY=%{y}<extra></extra>",
         "legendgroup": "HERS PROT SCM 60 S",
         "line": {
          "color": "#636efa",
          "dash": "solid"
         },
         "marker": {
          "symbol": "circle"
         },
         "mode": "lines",
         "name": "HERS PROT SCM 60 S",
         "showlegend": true,
         "type": "scattergl",
         "x": [
          "2023-01-01T00:00:00",
          "2023-01-08T00:00:00",
          "2023-01-15T00:00:00",
          "2023-01-22T00:00:00",
          "2023-01-29T00:00:00",
          "2023-02-05T00:00:00",
          "2023-02-12T00:00:00",
          "2023-02-19T00:00:00",
          "2023-02-26T00:00:00",
          "2023-03-05T00:00:00",
          "2023-03-12T00:00:00",
          "2023-03-19T00:00:00",
          "2023-03-26T00:00:00",
          "2023-04-02T00:00:00",
          "2023-04-09T00:00:00",
          "2023-04-16T00:00:00",
          "2023-04-23T00:00:00",
          "2023-04-30T00:00:00",
          "2023-05-07T00:00:00",
          "2023-05-14T00:00:00",
          "2023-05-21T00:00:00",
          "2023-05-28T00:00:00",
          "2023-06-04T00:00:00",
          "2023-06-11T00:00:00",
          "2023-06-18T00:00:00",
          "2023-06-25T00:00:00",
          "2023-07-02T00:00:00",
          "2023-07-09T00:00:00",
          "2023-07-16T00:00:00",
          "2023-07-23T00:00:00",
          "2023-07-30T00:00:00",
          "2023-08-06T00:00:00",
          "2023-08-13T00:00:00",
          "2023-08-20T00:00:00",
          "2023-08-27T00:00:00",
          "2023-09-03T00:00:00",
          "2023-09-10T00:00:00",
          "2023-09-17T00:00:00",
          "2023-09-24T00:00:00",
          "2023-10-01T00:00:00",
          "2023-10-08T00:00:00",
          "2023-10-15T00:00:00",
          "2023-10-22T00:00:00",
          "2023-10-29T00:00:00",
          "2023-11-05T00:00:00",
          "2023-11-12T00:00:00",
          "2023-11-19T00:00:00",
          "2023-11-26T00:00:00",
          "2023-12-03T00:00:00",
          "2023-12-10T00:00:00",
          "2023-12-17T00:00:00",
          "2023-12-24T00:00:00",
          "2023-12-31T00:00:00"
         ],
         "xaxis": "x",
         "y": [
          1,
          1,
          0,
          0,
          0,
          0,
          2,
          1,
          3,
          2,
          1,
          2,
          1,
          3,
          1,
          2,
          0,
          3,
          3,
          1,
          2,
          5,
          2,
          1,
          2,
          0,
          3,
          2,
          1,
          1,
          4,
          3,
          3,
          1,
          5,
          3,
          0,
          3,
          3,
          2,
          1,
          2,
          0,
          3,
          3,
          2,
          2,
          4,
          3,
          0,
          1,
          4,
          0
         ],
         "yaxis": "y"
        },
        {
         "hovertemplate": "NAMA BARANG=INDOMIE AYAM BAWANG<br>TANGGAL=%{x}<br>QTY=%{y}<extra></extra>",
         "legendgroup": "INDOMIE AYAM BAWANG",
         "line": {
          "color": "#EF553B",
          "dash": "solid"
         },
         "marker": {
          "symbol": "circle"
         },
         "mode": "lines",
         "name": "INDOMIE AYAM BAWANG",
         "showlegend": true,
         "type": "scattergl",
         "x": [
          "2023-01-01T00:00:00",
          "2023-01-08T00:00:00",
          "2023-01-15T00:00:00",
          "2023-01-22T00:00:00",
          "2023-01-29T00:00:00",
          "2023-02-05T00:00:00",
          "2023-02-12T00:00:00",
          "2023-02-19T00:00:00",
          "2023-02-26T00:00:00",
          "2023-03-05T00:00:00",
          "2023-03-12T00:00:00",
          "2023-03-19T00:00:00",
          "2023-03-26T00:00:00",
          "2023-04-02T00:00:00",
          "2023-04-09T00:00:00",
          "2023-04-16T00:00:00",
          "2023-04-23T00:00:00",
          "2023-04-30T00:00:00",
          "2023-05-07T00:00:00",
          "2023-05-14T00:00:00",
          "2023-05-21T00:00:00",
          "2023-05-28T00:00:00",
          "2023-06-04T00:00:00",
          "2023-06-11T00:00:00",
          "2023-06-18T00:00:00",
          "2023-06-25T00:00:00",
          "2023-07-02T00:00:00",
          "2023-07-09T00:00:00",
          "2023-07-16T00:00:00",
          "2023-07-23T00:00:00",
          "2023-07-30T00:00:00",
          "2023-08-06T00:00:00",
          "2023-08-13T00:00:00",
          "2023-08-20T00:00:00",
          "2023-08-27T00:00:00",
          "2023-09-03T00:00:00",
          "2023-09-10T00:00:00",
          "2023-09-17T00:00:00",
          "2023-09-24T00:00:00",
          "2023-10-01T00:00:00",
          "2023-10-08T00:00:00",
          "2023-10-15T00:00:00",
          "2023-10-22T00:00:00",
          "2023-10-29T00:00:00",
          "2023-11-05T00:00:00",
          "2023-11-12T00:00:00",
          "2023-11-19T00:00:00",
          "2023-11-26T00:00:00",
          "2023-12-03T00:00:00",
          "2023-12-10T00:00:00",
          "2023-12-17T00:00:00",
          "2023-12-24T00:00:00",
          "2023-12-31T00:00:00"
         ],
         "xaxis": "x",
         "y": [
          14,
          5,
          6,
          26,
          12,
          2,
          10,
          9,
          18,
          16,
          11,
          15,
          15,
          14,
          6,
          7,
          8,
          24,
          5,
          6,
          6,
          9,
          5,
          52,
          10,
          12,
          13,
          15,
          2,
          6,
          12,
          20,
          13,
          10,
          10,
          6,
          11,
          8,
          8,
          4,
          6,
          5,
          13,
          16,
          6,
          21,
          6,
          10,
          11,
          4,
          11,
          4,
          0
         ],
         "yaxis": "y"
        },
        {
         "hovertemplate": "NAMA BARANG=INDOMIE AYAM SPECIAL<br>TANGGAL=%{x}<br>QTY=%{y}<extra></extra>",
         "legendgroup": "INDOMIE AYAM SPECIAL",
         "line": {
          "color": "#00cc96",
          "dash": "solid"
         },
         "marker": {
          "symbol": "circle"
         },
         "mode": "lines",
         "name": "INDOMIE AYAM SPECIAL",
         "showlegend": true,
         "type": "scattergl",
         "x": [
          "2023-01-01T00:00:00",
          "2023-01-08T00:00:00",
          "2023-01-15T00:00:00",
          "2023-01-22T00:00:00",
          "2023-01-29T00:00:00",
          "2023-02-05T00:00:00",
          "2023-02-12T00:00:00",
          "2023-02-19T00:00:00",
          "2023-02-26T00:00:00",
          "2023-03-05T00:00:00",
          "2023-03-12T00:00:00",
          "2023-03-19T00:00:00",
          "2023-03-26T00:00:00",
          "2023-04-02T00:00:00",
          "2023-04-09T00:00:00",
          "2023-04-16T00:00:00",
          "2023-04-23T00:00:00",
          "2023-04-30T00:00:00",
          "2023-05-07T00:00:00",
          "2023-05-14T00:00:00",
          "2023-05-21T00:00:00",
          "2023-05-28T00:00:00",
          "2023-06-04T00:00:00",
          "2023-06-11T00:00:00",
          "2023-06-18T00:00:00",
          "2023-06-25T00:00:00",
          "2023-07-02T00:00:00",
          "2023-07-09T00:00:00",
          "2023-07-16T00:00:00",
          "2023-07-23T00:00:00",
          "2023-07-30T00:00:00",
          "2023-08-06T00:00:00",
          "2023-08-13T00:00:00",
          "2023-08-20T00:00:00",
          "2023-08-27T00:00:00",
          "2023-09-03T00:00:00",
          "2023-09-10T00:00:00",
          "2023-09-17T00:00:00",
          "2023-09-24T00:00:00",
          "2023-10-01T00:00:00",
          "2023-10-08T00:00:00",
          "2023-10-15T00:00:00",
          "2023-10-22T00:00:00",
          "2023-10-29T00:00:00",
          "2023-11-05T00:00:00",
          "2023-11-12T00:00:00",
          "2023-11-19T00:00:00",
          "2023-11-26T00:00:00",
          "2023-12-03T00:00:00",
          "2023-12-10T00:00:00",
          "2023-12-17T00:00:00",
          "2023-12-24T00:00:00",
          "2023-12-31T00:00:00"
         ],
         "xaxis": "x",
         "y": [
          8,
          12,
          6,
          0,
          0,
          3,
          14,
          10,
          20,
          13,
          10,
          7,
          6,
          12,
          15,
          5,
          12,
          5,
          4,
          1,
          6,
          7,
          6,
          5,
          6,
          2,
          3,
          5,
          4,
          1,
          9,
          4,
          9,
          4,
          6,
          12,
          3,
          6,
          3,
          3,
          12,
          12,
          11,
          12,
          8,
          6,
          12,
          13,
          8,
          9,
          5,
          14,
          0
         ],
         "yaxis": "y"
        },
        {
         "hovertemplate": "NAMA BARANG=INDOMIE GRG SPECIAL<br>TANGGAL=%{x}<br>QTY=%{y}<extra></extra>",
         "legendgroup": "INDOMIE GRG SPECIAL",
         "line": {
          "color": "#ab63fa",
          "dash": "solid"
         },
         "marker": {
          "symbol": "circle"
         },
         "mode": "lines",
         "name": "INDOMIE GRG SPECIAL",
         "showlegend": true,
         "type": "scattergl",
         "x": [
          "2023-01-01T00:00:00",
          "2023-01-08T00:00:00",
          "2023-01-15T00:00:00",
          "2023-01-22T00:00:00",
          "2023-01-29T00:00:00",
          "2023-02-05T00:00:00",
          "2023-02-12T00:00:00",
          "2023-02-19T00:00:00",
          "2023-02-26T00:00:00",
          "2023-03-05T00:00:00",
          "2023-03-12T00:00:00",
          "2023-03-19T00:00:00",
          "2023-03-26T00:00:00",
          "2023-04-02T00:00:00",
          "2023-04-09T00:00:00",
          "2023-04-16T00:00:00",
          "2023-04-23T00:00:00",
          "2023-04-30T00:00:00",
          "2023-05-07T00:00:00",
          "2023-05-14T00:00:00",
          "2023-05-21T00:00:00",
          "2023-05-28T00:00:00",
          "2023-06-04T00:00:00",
          "2023-06-11T00:00:00",
          "2023-06-18T00:00:00",
          "2023-06-25T00:00:00",
          "2023-07-02T00:00:00",
          "2023-07-09T00:00:00",
          "2023-07-16T00:00:00",
          "2023-07-23T00:00:00",
          "2023-07-30T00:00:00",
          "2023-08-06T00:00:00",
          "2023-08-13T00:00:00",
          "2023-08-20T00:00:00",
          "2023-08-27T00:00:00",
          "2023-09-03T00:00:00",
          "2023-09-10T00:00:00",
          "2023-09-17T00:00:00",
          "2023-09-24T00:00:00",
          "2023-10-01T00:00:00",
          "2023-10-08T00:00:00",
          "2023-10-15T00:00:00",
          "2023-10-22T00:00:00",
          "2023-10-29T00:00:00",
          "2023-11-05T00:00:00",
          "2023-11-12T00:00:00",
          "2023-11-19T00:00:00",
          "2023-11-26T00:00:00",
          "2023-12-03T00:00:00",
          "2023-12-10T00:00:00",
          "2023-12-17T00:00:00",
          "2023-12-24T00:00:00",
          "2023-12-31T00:00:00"
         ],
         "xaxis": "x",
         "y": [
          174,
          133,
          133,
          123,
          84,
          101,
          13,
          47,
          103,
          119,
          108,
          107,
          112,
          88,
          108,
          130,
          75,
          94,
          64,
          82,
          83,
          123,
          112,
          80,
          66,
          108,
          101,
          115,
          112,
          78,
          96,
          113,
          132,
          71,
          118,
          85,
          76,
          59,
          87,
          75,
          63,
          85,
          94,
          147,
          85,
          156,
          84,
          132,
          113,
          110,
          99,
          117,
          27
         ],
         "yaxis": "y"
        },
        {
         "hovertemplate": "NAMA BARANG=INDOMIE SOTO MIE<br>TANGGAL=%{x}<br>QTY=%{y}<extra></extra>",
         "legendgroup": "INDOMIE SOTO MIE",
         "line": {
          "color": "#FFA15A",
          "dash": "solid"
         },
         "marker": {
          "symbol": "circle"
         },
         "mode": "lines",
         "name": "INDOMIE SOTO MIE",
         "showlegend": true,
         "type": "scattergl",
         "x": [
          "2023-01-01T00:00:00",
          "2023-01-08T00:00:00",
          "2023-01-15T00:00:00",
          "2023-01-22T00:00:00",
          "2023-01-29T00:00:00",
          "2023-02-05T00:00:00",
          "2023-02-12T00:00:00",
          "2023-02-19T00:00:00",
          "2023-02-26T00:00:00",
          "2023-03-05T00:00:00",
          "2023-03-12T00:00:00",
          "2023-03-19T00:00:00",
          "2023-03-26T00:00:00",
          "2023-04-02T00:00:00",
          "2023-04-09T00:00:00",
          "2023-04-16T00:00:00",
          "2023-04-23T00:00:00",
          "2023-04-30T00:00:00",
          "2023-05-07T00:00:00",
          "2023-05-14T00:00:00",
          "2023-05-21T00:00:00",
          "2023-05-28T00:00:00",
          "2023-06-04T00:00:00",
          "2023-06-11T00:00:00",
          "2023-06-18T00:00:00",
          "2023-06-25T00:00:00",
          "2023-07-02T00:00:00",
          "2023-07-09T00:00:00",
          "2023-07-16T00:00:00",
          "2023-07-23T00:00:00",
          "2023-07-30T00:00:00",
          "2023-08-06T00:00:00",
          "2023-08-13T00:00:00",
          "2023-08-20T00:00:00",
          "2023-08-27T00:00:00",
          "2023-09-03T00:00:00",
          "2023-09-10T00:00:00",
          "2023-09-17T00:00:00",
          "2023-09-24T00:00:00",
          "2023-10-01T00:00:00",
          "2023-10-08T00:00:00",
          "2023-10-15T00:00:00",
          "2023-10-22T00:00:00",
          "2023-10-29T00:00:00",
          "2023-11-05T00:00:00",
          "2023-11-12T00:00:00",
          "2023-11-19T00:00:00",
          "2023-11-26T00:00:00",
          "2023-12-03T00:00:00",
          "2023-12-10T00:00:00",
          "2023-12-17T00:00:00",
          "2023-12-24T00:00:00",
          "2023-12-31T00:00:00"
         ],
         "xaxis": "x",
         "y": [
          12,
          18,
          14,
          10,
          12,
          15,
          17,
          25,
          14,
          4,
          8,
          15,
          2,
          4,
          11,
          5,
          5,
          19,
          3,
          19,
          13,
          25,
          13,
          15,
          7,
          16,
          8,
          9,
          8,
          15,
          13,
          13,
          6,
          6,
          33,
          19,
          13,
          15,
          11,
          15,
          10,
          7,
          11,
          29,
          10,
          16,
          12,
          31,
          13,
          25,
          22,
          18,
          3
         ],
         "yaxis": "y"
        },
        {
         "hovertemplate": "NAMA BARANG=INDOMILK KID CKL 115ML<br>TANGGAL=%{x}<br>QTY=%{y}<extra></extra>",
         "legendgroup": "INDOMILK KID CKL 115ML",
         "line": {
          "color": "#19d3f3",
          "dash": "solid"
         },
         "marker": {
          "symbol": "circle"
         },
         "mode": "lines",
         "name": "INDOMILK KID CKL 115ML",
         "showlegend": true,
         "type": "scattergl",
         "x": [
          "2023-01-01T00:00:00",
          "2023-01-08T00:00:00",
          "2023-01-15T00:00:00",
          "2023-01-22T00:00:00",
          "2023-01-29T00:00:00",
          "2023-02-05T00:00:00",
          "2023-02-12T00:00:00",
          "2023-02-19T00:00:00",
          "2023-02-26T00:00:00",
          "2023-03-05T00:00:00",
          "2023-03-12T00:00:00",
          "2023-03-19T00:00:00",
          "2023-03-26T00:00:00",
          "2023-04-02T00:00:00",
          "2023-04-09T00:00:00",
          "2023-04-16T00:00:00",
          "2023-04-23T00:00:00",
          "2023-04-30T00:00:00",
          "2023-05-07T00:00:00",
          "2023-05-14T00:00:00",
          "2023-05-21T00:00:00",
          "2023-05-28T00:00:00",
          "2023-06-04T00:00:00",
          "2023-06-11T00:00:00",
          "2023-06-18T00:00:00",
          "2023-06-25T00:00:00",
          "2023-07-02T00:00:00",
          "2023-07-09T00:00:00",
          "2023-07-16T00:00:00",
          "2023-07-23T00:00:00",
          "2023-07-30T00:00:00",
          "2023-08-06T00:00:00",
          "2023-08-13T00:00:00",
          "2023-08-20T00:00:00",
          "2023-08-27T00:00:00",
          "2023-09-03T00:00:00",
          "2023-09-10T00:00:00",
          "2023-09-17T00:00:00",
          "2023-09-24T00:00:00",
          "2023-10-01T00:00:00",
          "2023-10-08T00:00:00",
          "2023-10-15T00:00:00",
          "2023-10-22T00:00:00",
          "2023-10-29T00:00:00",
          "2023-11-05T00:00:00",
          "2023-11-12T00:00:00",
          "2023-11-19T00:00:00",
          "2023-11-26T00:00:00",
          "2023-12-03T00:00:00",
          "2023-12-10T00:00:00",
          "2023-12-17T00:00:00",
          "2023-12-24T00:00:00",
          "2023-12-31T00:00:00"
         ],
         "xaxis": "x",
         "y": [
          9,
          13,
          8,
          0,
          0,
          1,
          0,
          0,
          3,
          9,
          14,
          8,
          7,
          0,
          1,
          0,
          0,
          0,
          6,
          19,
          8,
          33,
          24,
          31,
          37,
          3,
          4,
          28,
          21,
          18,
          24,
          31,
          34,
          26,
          32,
          27,
          31,
          12,
          10,
          13,
          4,
          19,
          15,
          20,
          13,
          9,
          16,
          18,
          15,
          23,
          0,
          0,
          0
         ],
         "yaxis": "y"
        },
        {
         "hovertemplate": "NAMA BARANG=INDOMILK KID STR 115ML<br>TANGGAL=%{x}<br>QTY=%{y}<extra></extra>",
         "legendgroup": "INDOMILK KID STR 115ML",
         "line": {
          "color": "#FF6692",
          "dash": "solid"
         },
         "marker": {
          "symbol": "circle"
         },
         "mode": "lines",
         "name": "INDOMILK KID STR 115ML",
         "showlegend": true,
         "type": "scattergl",
         "x": [
          "2023-01-01T00:00:00",
          "2023-01-08T00:00:00",
          "2023-01-15T00:00:00",
          "2023-01-22T00:00:00",
          "2023-01-29T00:00:00",
          "2023-02-05T00:00:00",
          "2023-02-12T00:00:00",
          "2023-02-19T00:00:00",
          "2023-02-26T00:00:00",
          "2023-03-05T00:00:00",
          "2023-03-12T00:00:00",
          "2023-03-19T00:00:00",
          "2023-03-26T00:00:00",
          "2023-04-02T00:00:00",
          "2023-04-09T00:00:00",
          "2023-04-16T00:00:00",
          "2023-04-23T00:00:00",
          "2023-04-30T00:00:00",
          "2023-05-07T00:00:00",
          "2023-05-14T00:00:00",
          "2023-05-21T00:00:00",
          "2023-05-28T00:00:00",
          "2023-06-04T00:00:00",
          "2023-06-11T00:00:00",
          "2023-06-18T00:00:00",
          "2023-06-25T00:00:00",
          "2023-07-02T00:00:00",
          "2023-07-09T00:00:00",
          "2023-07-16T00:00:00",
          "2023-07-23T00:00:00",
          "2023-07-30T00:00:00",
          "2023-08-06T00:00:00",
          "2023-08-13T00:00:00",
          "2023-08-20T00:00:00",
          "2023-08-27T00:00:00",
          "2023-09-03T00:00:00",
          "2023-09-10T00:00:00",
          "2023-09-17T00:00:00",
          "2023-09-24T00:00:00",
          "2023-10-01T00:00:00",
          "2023-10-08T00:00:00",
          "2023-10-15T00:00:00",
          "2023-10-22T00:00:00",
          "2023-10-29T00:00:00",
          "2023-11-05T00:00:00",
          "2023-11-12T00:00:00",
          "2023-11-19T00:00:00",
          "2023-11-26T00:00:00",
          "2023-12-03T00:00:00",
          "2023-12-10T00:00:00",
          "2023-12-17T00:00:00",
          "2023-12-24T00:00:00",
          "2023-12-31T00:00:00"
         ],
         "xaxis": "x",
         "y": [
          13,
          1,
          8,
          6,
          11,
          6,
          7,
          5,
          10,
          3,
          6,
          6,
          5,
          6,
          2,
          7,
          4,
          13,
          9,
          14,
          18,
          10,
          22,
          11,
          17,
          15,
          6,
          9,
          8,
          9,
          1,
          16,
          14,
          13,
          6,
          11,
          13,
          11,
          2,
          1,
          5,
          8,
          18,
          15,
          6,
          20,
          6,
          10,
          11,
          34,
          22,
          18,
          5
         ],
         "yaxis": "y"
        },
        {
         "hovertemplate": "NAMA BARANG=INDOMILK KID VNL 115ML<br>TANGGAL=%{x}<br>QTY=%{y}<extra></extra>",
         "legendgroup": "INDOMILK KID VNL 115ML",
         "line": {
          "color": "#B6E880",
          "dash": "solid"
         },
         "marker": {
          "symbol": "circle"
         },
         "mode": "lines",
         "name": "INDOMILK KID VNL 115ML",
         "showlegend": true,
         "type": "scattergl",
         "x": [
          "2023-01-01T00:00:00",
          "2023-01-08T00:00:00",
          "2023-01-15T00:00:00",
          "2023-01-22T00:00:00",
          "2023-01-29T00:00:00",
          "2023-02-05T00:00:00",
          "2023-02-12T00:00:00",
          "2023-02-19T00:00:00",
          "2023-02-26T00:00:00",
          "2023-03-05T00:00:00",
          "2023-03-12T00:00:00",
          "2023-03-19T00:00:00",
          "2023-03-26T00:00:00",
          "2023-04-02T00:00:00",
          "2023-04-09T00:00:00",
          "2023-04-16T00:00:00",
          "2023-04-23T00:00:00",
          "2023-04-30T00:00:00",
          "2023-05-07T00:00:00",
          "2023-05-14T00:00:00",
          "2023-05-21T00:00:00",
          "2023-05-28T00:00:00",
          "2023-06-04T00:00:00",
          "2023-06-11T00:00:00",
          "2023-06-18T00:00:00",
          "2023-06-25T00:00:00",
          "2023-07-02T00:00:00",
          "2023-07-09T00:00:00",
          "2023-07-16T00:00:00",
          "2023-07-23T00:00:00",
          "2023-07-30T00:00:00",
          "2023-08-06T00:00:00",
          "2023-08-13T00:00:00",
          "2023-08-20T00:00:00",
          "2023-08-27T00:00:00",
          "2023-09-03T00:00:00",
          "2023-09-10T00:00:00",
          "2023-09-17T00:00:00",
          "2023-09-24T00:00:00",
          "2023-10-01T00:00:00",
          "2023-10-08T00:00:00",
          "2023-10-15T00:00:00",
          "2023-10-22T00:00:00",
          "2023-10-29T00:00:00",
          "2023-11-05T00:00:00",
          "2023-11-12T00:00:00",
          "2023-11-19T00:00:00",
          "2023-11-26T00:00:00",
          "2023-12-03T00:00:00",
          "2023-12-10T00:00:00",
          "2023-12-17T00:00:00",
          "2023-12-24T00:00:00",
          "2023-12-31T00:00:00"
         ],
         "xaxis": "x",
         "y": [
          0,
          0,
          0,
          0,
          0,
          0,
          0,
          0,
          0,
          0,
          0,
          0,
          0,
          0,
          0,
          0,
          0,
          0,
          0,
          0,
          0,
          0,
          0,
          0,
          0,
          0,
          0,
          0,
          22,
          9,
          20,
          18,
          19,
          15,
          9,
          15,
          12,
          7,
          10,
          15,
          7,
          8,
          8,
          14,
          5,
          8,
          4,
          9,
          8,
          17,
          2,
          16,
          3
         ],
         "yaxis": "y"
        },
        {
         "hovertemplate": "NAMA BARANG=INDOMILK STR 190ML BTL<br>TANGGAL=%{x}<br>QTY=%{y}<extra></extra>",
         "legendgroup": "INDOMILK STR 190ML BTL",
         "line": {
          "color": "#FF97FF",
          "dash": "solid"
         },
         "marker": {
          "symbol": "circle"
         },
         "mode": "lines",
         "name": "INDOMILK STR 190ML BTL",
         "showlegend": true,
         "type": "scattergl",
         "x": [
          "2023-01-01T00:00:00",
          "2023-01-08T00:00:00",
          "2023-01-15T00:00:00",
          "2023-01-22T00:00:00",
          "2023-01-29T00:00:00",
          "2023-02-05T00:00:00",
          "2023-02-12T00:00:00",
          "2023-02-19T00:00:00",
          "2023-02-26T00:00:00",
          "2023-03-05T00:00:00",
          "2023-03-12T00:00:00",
          "2023-03-19T00:00:00",
          "2023-03-26T00:00:00",
          "2023-04-02T00:00:00",
          "2023-04-09T00:00:00",
          "2023-04-16T00:00:00",
          "2023-04-23T00:00:00",
          "2023-04-30T00:00:00",
          "2023-05-07T00:00:00",
          "2023-05-14T00:00:00",
          "2023-05-21T00:00:00",
          "2023-05-28T00:00:00",
          "2023-06-04T00:00:00",
          "2023-06-11T00:00:00",
          "2023-06-18T00:00:00",
          "2023-06-25T00:00:00",
          "2023-07-02T00:00:00",
          "2023-07-09T00:00:00",
          "2023-07-16T00:00:00",
          "2023-07-23T00:00:00",
          "2023-07-30T00:00:00",
          "2023-08-06T00:00:00",
          "2023-08-13T00:00:00",
          "2023-08-20T00:00:00",
          "2023-08-27T00:00:00",
          "2023-09-03T00:00:00",
          "2023-09-10T00:00:00",
          "2023-09-17T00:00:00",
          "2023-09-24T00:00:00",
          "2023-10-01T00:00:00",
          "2023-10-08T00:00:00",
          "2023-10-15T00:00:00",
          "2023-10-22T00:00:00",
          "2023-10-29T00:00:00",
          "2023-11-05T00:00:00",
          "2023-11-12T00:00:00",
          "2023-11-19T00:00:00",
          "2023-11-26T00:00:00",
          "2023-12-03T00:00:00",
          "2023-12-10T00:00:00",
          "2023-12-17T00:00:00",
          "2023-12-24T00:00:00",
          "2023-12-31T00:00:00"
         ],
         "xaxis": "x",
         "y": [
          7,
          2,
          8,
          1,
          6,
          3,
          1,
          2,
          5,
          7,
          1,
          4,
          4,
          2,
          4,
          6,
          1,
          10,
          1,
          1,
          0,
          12,
          7,
          1,
          7,
          5,
          4,
          2,
          3,
          6,
          4,
          1,
          4,
          8,
          1,
          1,
          8,
          4,
          8,
          8,
          5,
          6,
          3,
          10,
          3,
          8,
          9,
          13,
          8,
          14,
          9,
          3,
          1
         ],
         "yaxis": "y"
        },
        {
         "hovertemplate": "NAMA BARANG=KRIPIK SGKG TURBO 180G<br>TANGGAL=%{x}<br>QTY=%{y}<extra></extra>",
         "legendgroup": "KRIPIK SGKG TURBO 180G",
         "line": {
          "color": "#FECB52",
          "dash": "solid"
         },
         "marker": {
          "symbol": "circle"
         },
         "mode": "lines",
         "name": "KRIPIK SGKG TURBO 180G",
         "showlegend": true,
         "type": "scattergl",
         "x": [
          "2023-01-01T00:00:00",
          "2023-01-08T00:00:00",
          "2023-01-15T00:00:00",
          "2023-01-22T00:00:00",
          "2023-01-29T00:00:00",
          "2023-02-05T00:00:00",
          "2023-02-12T00:00:00",
          "2023-02-19T00:00:00",
          "2023-02-26T00:00:00",
          "2023-03-05T00:00:00",
          "2023-03-12T00:00:00",
          "2023-03-19T00:00:00",
          "2023-03-26T00:00:00",
          "2023-04-02T00:00:00",
          "2023-04-09T00:00:00",
          "2023-04-16T00:00:00",
          "2023-04-23T00:00:00",
          "2023-04-30T00:00:00",
          "2023-05-07T00:00:00",
          "2023-05-14T00:00:00",
          "2023-05-21T00:00:00",
          "2023-05-28T00:00:00",
          "2023-06-04T00:00:00",
          "2023-06-11T00:00:00",
          "2023-06-18T00:00:00",
          "2023-06-25T00:00:00",
          "2023-07-02T00:00:00",
          "2023-07-09T00:00:00",
          "2023-07-16T00:00:00",
          "2023-07-23T00:00:00",
          "2023-07-30T00:00:00",
          "2023-08-06T00:00:00",
          "2023-08-13T00:00:00",
          "2023-08-20T00:00:00",
          "2023-08-27T00:00:00",
          "2023-09-03T00:00:00",
          "2023-09-10T00:00:00",
          "2023-09-17T00:00:00",
          "2023-09-24T00:00:00",
          "2023-10-01T00:00:00",
          "2023-10-08T00:00:00",
          "2023-10-15T00:00:00",
          "2023-10-22T00:00:00",
          "2023-10-29T00:00:00",
          "2023-11-05T00:00:00",
          "2023-11-12T00:00:00",
          "2023-11-19T00:00:00",
          "2023-11-26T00:00:00",
          "2023-12-03T00:00:00",
          "2023-12-10T00:00:00",
          "2023-12-17T00:00:00",
          "2023-12-24T00:00:00",
          "2023-12-31T00:00:00"
         ],
         "xaxis": "x",
         "y": [
          3,
          1,
          0,
          0,
          0,
          4,
          9,
          7,
          5,
          8,
          11,
          12,
          6,
          6,
          2,
          4,
          15,
          6,
          12,
          4,
          6,
          3,
          5,
          5,
          1,
          6,
          10,
          2,
          4,
          4,
          2,
          5,
          1,
          5,
          2,
          2,
          2,
          5,
          3,
          4,
          3,
          2,
          1,
          5,
          0,
          4,
          1,
          0,
          5,
          6,
          3,
          3,
          1
         ],
         "yaxis": "y"
        },
        {
         "hovertemplate": "NAMA BARANG=MOMOGI CKL 6GR<br>TANGGAL=%{x}<br>QTY=%{y}<extra></extra>",
         "legendgroup": "MOMOGI CKL 6GR",
         "line": {
          "color": "#636efa",
          "dash": "solid"
         },
         "marker": {
          "symbol": "circle"
         },
         "mode": "lines",
         "name": "MOMOGI CKL 6GR",
         "showlegend": true,
         "type": "scattergl",
         "x": [
          "2023-01-01T00:00:00",
          "2023-01-08T00:00:00",
          "2023-01-15T00:00:00",
          "2023-01-22T00:00:00",
          "2023-01-29T00:00:00",
          "2023-02-05T00:00:00",
          "2023-02-12T00:00:00",
          "2023-02-19T00:00:00",
          "2023-02-26T00:00:00",
          "2023-03-05T00:00:00",
          "2023-03-12T00:00:00",
          "2023-03-19T00:00:00",
          "2023-03-26T00:00:00",
          "2023-04-02T00:00:00",
          "2023-04-09T00:00:00",
          "2023-04-16T00:00:00",
          "2023-04-23T00:00:00",
          "2023-04-30T00:00:00",
          "2023-05-07T00:00:00",
          "2023-05-14T00:00:00",
          "2023-05-21T00:00:00",
          "2023-05-28T00:00:00",
          "2023-06-04T00:00:00",
          "2023-06-11T00:00:00",
          "2023-06-18T00:00:00",
          "2023-06-25T00:00:00",
          "2023-07-02T00:00:00",
          "2023-07-09T00:00:00",
          "2023-07-16T00:00:00",
          "2023-07-23T00:00:00",
          "2023-07-30T00:00:00",
          "2023-08-06T00:00:00",
          "2023-08-13T00:00:00",
          "2023-08-20T00:00:00",
          "2023-08-27T00:00:00",
          "2023-09-03T00:00:00",
          "2023-09-10T00:00:00",
          "2023-09-17T00:00:00",
          "2023-09-24T00:00:00",
          "2023-10-01T00:00:00",
          "2023-10-08T00:00:00",
          "2023-10-15T00:00:00",
          "2023-10-22T00:00:00",
          "2023-10-29T00:00:00",
          "2023-11-05T00:00:00",
          "2023-11-12T00:00:00",
          "2023-11-19T00:00:00",
          "2023-11-26T00:00:00",
          "2023-12-03T00:00:00",
          "2023-12-10T00:00:00",
          "2023-12-17T00:00:00",
          "2023-12-24T00:00:00",
          "2023-12-31T00:00:00"
         ],
         "xaxis": "x",
         "y": [
          7,
          10,
          3,
          2,
          18,
          6,
          18,
          8,
          9,
          3,
          1,
          9,
          2,
          3,
          2,
          1,
          4,
          5,
          4,
          2,
          8,
          8,
          5,
          3,
          6,
          4,
          0,
          0,
          0,
          0,
          0,
          0,
          0,
          0,
          0,
          0,
          0,
          0,
          2,
          3,
          1,
          8,
          10,
          12,
          0,
          0,
          0,
          6,
          0,
          4,
          2,
          0,
          0
         ],
         "yaxis": "y"
        },
        {
         "hovertemplate": "NAMA BARANG=MOMOGI JGG BKR 6GR<br>TANGGAL=%{x}<br>QTY=%{y}<extra></extra>",
         "legendgroup": "MOMOGI JGG BKR 6GR",
         "line": {
          "color": "#EF553B",
          "dash": "solid"
         },
         "marker": {
          "symbol": "circle"
         },
         "mode": "lines",
         "name": "MOMOGI JGG BKR 6GR",
         "showlegend": true,
         "type": "scattergl",
         "x": [
          "2023-01-01T00:00:00",
          "2023-01-08T00:00:00",
          "2023-01-15T00:00:00",
          "2023-01-22T00:00:00",
          "2023-01-29T00:00:00",
          "2023-02-05T00:00:00",
          "2023-02-12T00:00:00",
          "2023-02-19T00:00:00",
          "2023-02-26T00:00:00",
          "2023-03-05T00:00:00",
          "2023-03-12T00:00:00",
          "2023-03-19T00:00:00",
          "2023-03-26T00:00:00",
          "2023-04-02T00:00:00",
          "2023-04-09T00:00:00",
          "2023-04-16T00:00:00",
          "2023-04-23T00:00:00",
          "2023-04-30T00:00:00",
          "2023-05-07T00:00:00",
          "2023-05-14T00:00:00",
          "2023-05-21T00:00:00",
          "2023-05-28T00:00:00",
          "2023-06-04T00:00:00",
          "2023-06-11T00:00:00",
          "2023-06-18T00:00:00",
          "2023-06-25T00:00:00",
          "2023-07-02T00:00:00",
          "2023-07-09T00:00:00",
          "2023-07-16T00:00:00",
          "2023-07-23T00:00:00",
          "2023-07-30T00:00:00",
          "2023-08-06T00:00:00",
          "2023-08-13T00:00:00",
          "2023-08-20T00:00:00",
          "2023-08-27T00:00:00",
          "2023-09-03T00:00:00",
          "2023-09-10T00:00:00",
          "2023-09-17T00:00:00",
          "2023-09-24T00:00:00",
          "2023-10-01T00:00:00",
          "2023-10-08T00:00:00",
          "2023-10-15T00:00:00",
          "2023-10-22T00:00:00",
          "2023-10-29T00:00:00",
          "2023-11-05T00:00:00",
          "2023-11-12T00:00:00",
          "2023-11-19T00:00:00",
          "2023-11-26T00:00:00",
          "2023-12-03T00:00:00",
          "2023-12-10T00:00:00",
          "2023-12-17T00:00:00",
          "2023-12-24T00:00:00",
          "2023-12-31T00:00:00"
         ],
         "xaxis": "x",
         "y": [
          9,
          4,
          3,
          9,
          12,
          6,
          25,
          13,
          19,
          4,
          10,
          20,
          4,
          13,
          4,
          7,
          8,
          8,
          9,
          10,
          16,
          17,
          8,
          12,
          15,
          2,
          0,
          0,
          0,
          0,
          0,
          0,
          0,
          0,
          0,
          0,
          0,
          0,
          5,
          10,
          1,
          4,
          9,
          5,
          0,
          1,
          1,
          1,
          1,
          2,
          8,
          6,
          0
         ],
         "yaxis": "y"
        },
        {
         "hovertemplate": "NAMA BARANG=NUVO SOAP BLUE 72G<br>TANGGAL=%{x}<br>QTY=%{y}<extra></extra>",
         "legendgroup": "NUVO SOAP BLUE 72G",
         "line": {
          "color": "#00cc96",
          "dash": "solid"
         },
         "marker": {
          "symbol": "circle"
         },
         "mode": "lines",
         "name": "NUVO SOAP BLUE 72G",
         "showlegend": true,
         "type": "scattergl",
         "x": [
          "2023-01-01T00:00:00",
          "2023-01-08T00:00:00",
          "2023-01-15T00:00:00",
          "2023-01-22T00:00:00",
          "2023-01-29T00:00:00",
          "2023-02-05T00:00:00",
          "2023-02-12T00:00:00",
          "2023-02-19T00:00:00",
          "2023-02-26T00:00:00",
          "2023-03-05T00:00:00",
          "2023-03-12T00:00:00",
          "2023-03-19T00:00:00",
          "2023-03-26T00:00:00",
          "2023-04-02T00:00:00",
          "2023-04-09T00:00:00",
          "2023-04-16T00:00:00",
          "2023-04-23T00:00:00",
          "2023-04-30T00:00:00",
          "2023-05-07T00:00:00",
          "2023-05-14T00:00:00",
          "2023-05-21T00:00:00",
          "2023-05-28T00:00:00",
          "2023-06-04T00:00:00",
          "2023-06-11T00:00:00",
          "2023-06-18T00:00:00",
          "2023-06-25T00:00:00",
          "2023-07-02T00:00:00",
          "2023-07-09T00:00:00",
          "2023-07-16T00:00:00",
          "2023-07-23T00:00:00",
          "2023-07-30T00:00:00",
          "2023-08-06T00:00:00",
          "2023-08-13T00:00:00",
          "2023-08-20T00:00:00",
          "2023-08-27T00:00:00",
          "2023-09-03T00:00:00",
          "2023-09-10T00:00:00",
          "2023-09-17T00:00:00",
          "2023-09-24T00:00:00",
          "2023-10-01T00:00:00",
          "2023-10-08T00:00:00",
          "2023-10-15T00:00:00",
          "2023-10-22T00:00:00",
          "2023-10-29T00:00:00",
          "2023-11-05T00:00:00",
          "2023-11-12T00:00:00",
          "2023-11-19T00:00:00",
          "2023-11-26T00:00:00",
          "2023-12-03T00:00:00",
          "2023-12-10T00:00:00",
          "2023-12-17T00:00:00",
          "2023-12-24T00:00:00",
          "2023-12-31T00:00:00"
         ],
         "xaxis": "x",
         "y": [
          10,
          4,
          5,
          0,
          15,
          4,
          9,
          5,
          11,
          2,
          6,
          1,
          3,
          10,
          2,
          2,
          1,
          7,
          1,
          5,
          4,
          2,
          7,
          4,
          3,
          1,
          3,
          5,
          1,
          6,
          2,
          2,
          2,
          1,
          8,
          5,
          0,
          1,
          3,
          2,
          5,
          2,
          1,
          9,
          10,
          5,
          6,
          5,
          6,
          5,
          2,
          0,
          0
         ],
         "yaxis": "y"
        },
        {
         "hovertemplate": "NAMA BARANG=NUVO SOAP YLOW 72G<br>TANGGAL=%{x}<br>QTY=%{y}<extra></extra>",
         "legendgroup": "NUVO SOAP YLOW 72G",
         "line": {
          "color": "#ab63fa",
          "dash": "solid"
         },
         "marker": {
          "symbol": "circle"
         },
         "mode": "lines",
         "name": "NUVO SOAP YLOW 72G",
         "showlegend": true,
         "type": "scattergl",
         "x": [
          "2023-01-01T00:00:00",
          "2023-01-08T00:00:00",
          "2023-01-15T00:00:00",
          "2023-01-22T00:00:00",
          "2023-01-29T00:00:00",
          "2023-02-05T00:00:00",
          "2023-02-12T00:00:00",
          "2023-02-19T00:00:00",
          "2023-02-26T00:00:00",
          "2023-03-05T00:00:00",
          "2023-03-12T00:00:00",
          "2023-03-19T00:00:00",
          "2023-03-26T00:00:00",
          "2023-04-02T00:00:00",
          "2023-04-09T00:00:00",
          "2023-04-16T00:00:00",
          "2023-04-23T00:00:00",
          "2023-04-30T00:00:00",
          "2023-05-07T00:00:00",
          "2023-05-14T00:00:00",
          "2023-05-21T00:00:00",
          "2023-05-28T00:00:00",
          "2023-06-04T00:00:00",
          "2023-06-11T00:00:00",
          "2023-06-18T00:00:00",
          "2023-06-25T00:00:00",
          "2023-07-02T00:00:00",
          "2023-07-09T00:00:00",
          "2023-07-16T00:00:00",
          "2023-07-23T00:00:00",
          "2023-07-30T00:00:00",
          "2023-08-06T00:00:00",
          "2023-08-13T00:00:00",
          "2023-08-20T00:00:00",
          "2023-08-27T00:00:00",
          "2023-09-03T00:00:00",
          "2023-09-10T00:00:00",
          "2023-09-17T00:00:00",
          "2023-09-24T00:00:00",
          "2023-10-01T00:00:00",
          "2023-10-08T00:00:00",
          "2023-10-15T00:00:00",
          "2023-10-22T00:00:00",
          "2023-10-29T00:00:00",
          "2023-11-05T00:00:00",
          "2023-11-12T00:00:00",
          "2023-11-19T00:00:00",
          "2023-11-26T00:00:00",
          "2023-12-03T00:00:00",
          "2023-12-10T00:00:00",
          "2023-12-17T00:00:00",
          "2023-12-24T00:00:00",
          "2023-12-31T00:00:00"
         ],
         "xaxis": "x",
         "y": [
          9,
          1,
          4,
          1,
          12,
          6,
          2,
          4,
          5,
          3,
          4,
          13,
          5,
          15,
          0,
          8,
          4,
          7,
          2,
          2,
          4,
          12,
          5,
          6,
          4,
          5,
          9,
          8,
          1,
          2,
          1,
          2,
          2,
          6,
          6,
          3,
          6,
          4,
          3,
          5,
          3,
          4,
          1,
          8,
          6,
          4,
          3,
          4,
          6,
          2,
          3,
          1,
          0
         ],
         "yaxis": "y"
        },
        {
         "hovertemplate": "NAMA BARANG=OREO SOFT CAKE 16GR<br>TANGGAL=%{x}<br>QTY=%{y}<extra></extra>",
         "legendgroup": "OREO SOFT CAKE 16GR",
         "line": {
          "color": "#FFA15A",
          "dash": "solid"
         },
         "marker": {
          "symbol": "circle"
         },
         "mode": "lines",
         "name": "OREO SOFT CAKE 16GR",
         "showlegend": true,
         "type": "scattergl",
         "x": [
          "2023-01-01T00:00:00",
          "2023-01-08T00:00:00",
          "2023-01-15T00:00:00",
          "2023-01-22T00:00:00",
          "2023-01-29T00:00:00",
          "2023-02-05T00:00:00",
          "2023-02-12T00:00:00",
          "2023-02-19T00:00:00",
          "2023-02-26T00:00:00",
          "2023-03-05T00:00:00",
          "2023-03-12T00:00:00",
          "2023-03-19T00:00:00",
          "2023-03-26T00:00:00",
          "2023-04-02T00:00:00",
          "2023-04-09T00:00:00",
          "2023-04-16T00:00:00",
          "2023-04-23T00:00:00",
          "2023-04-30T00:00:00",
          "2023-05-07T00:00:00",
          "2023-05-14T00:00:00",
          "2023-05-21T00:00:00",
          "2023-05-28T00:00:00",
          "2023-06-04T00:00:00",
          "2023-06-11T00:00:00",
          "2023-06-18T00:00:00",
          "2023-06-25T00:00:00",
          "2023-07-02T00:00:00",
          "2023-07-09T00:00:00",
          "2023-07-16T00:00:00",
          "2023-07-23T00:00:00",
          "2023-07-30T00:00:00",
          "2023-08-06T00:00:00",
          "2023-08-13T00:00:00",
          "2023-08-20T00:00:00",
          "2023-08-27T00:00:00",
          "2023-09-03T00:00:00",
          "2023-09-10T00:00:00",
          "2023-09-17T00:00:00",
          "2023-09-24T00:00:00",
          "2023-10-01T00:00:00",
          "2023-10-08T00:00:00",
          "2023-10-15T00:00:00",
          "2023-10-22T00:00:00",
          "2023-10-29T00:00:00",
          "2023-11-05T00:00:00",
          "2023-11-12T00:00:00",
          "2023-11-19T00:00:00",
          "2023-11-26T00:00:00",
          "2023-12-03T00:00:00",
          "2023-12-10T00:00:00",
          "2023-12-17T00:00:00",
          "2023-12-24T00:00:00",
          "2023-12-31T00:00:00"
         ],
         "xaxis": "x",
         "y": [
          11,
          12,
          0,
          4,
          7,
          9,
          5,
          5,
          12,
          6,
          6,
          14,
          4,
          7,
          16,
          5,
          8,
          2,
          1,
          3,
          0,
          0,
          7,
          13,
          10,
          5,
          18,
          14,
          5,
          10,
          3,
          9,
          10,
          6,
          9,
          10,
          6,
          9,
          2,
          5,
          6,
          2,
          7,
          12,
          7,
          5,
          2,
          9,
          17,
          6,
          14,
          12,
          1
         ],
         "yaxis": "y"
        },
        {
         "hovertemplate": "NAMA BARANG=PARAMEX SKT KEPALA<br>TANGGAL=%{x}<br>QTY=%{y}<extra></extra>",
         "legendgroup": "PARAMEX SKT KEPALA",
         "line": {
          "color": "#19d3f3",
          "dash": "solid"
         },
         "marker": {
          "symbol": "circle"
         },
         "mode": "lines",
         "name": "PARAMEX SKT KEPALA",
         "showlegend": true,
         "type": "scattergl",
         "x": [
          "2023-01-01T00:00:00",
          "2023-01-08T00:00:00",
          "2023-01-15T00:00:00",
          "2023-01-22T00:00:00",
          "2023-01-29T00:00:00",
          "2023-02-05T00:00:00",
          "2023-02-12T00:00:00",
          "2023-02-19T00:00:00",
          "2023-02-26T00:00:00",
          "2023-03-05T00:00:00",
          "2023-03-12T00:00:00",
          "2023-03-19T00:00:00",
          "2023-03-26T00:00:00",
          "2023-04-02T00:00:00",
          "2023-04-09T00:00:00",
          "2023-04-16T00:00:00",
          "2023-04-23T00:00:00",
          "2023-04-30T00:00:00",
          "2023-05-07T00:00:00",
          "2023-05-14T00:00:00",
          "2023-05-21T00:00:00",
          "2023-05-28T00:00:00",
          "2023-06-04T00:00:00",
          "2023-06-11T00:00:00",
          "2023-06-18T00:00:00",
          "2023-06-25T00:00:00",
          "2023-07-02T00:00:00",
          "2023-07-09T00:00:00",
          "2023-07-16T00:00:00",
          "2023-07-23T00:00:00",
          "2023-07-30T00:00:00",
          "2023-08-06T00:00:00",
          "2023-08-13T00:00:00",
          "2023-08-20T00:00:00",
          "2023-08-27T00:00:00",
          "2023-09-03T00:00:00",
          "2023-09-10T00:00:00",
          "2023-09-17T00:00:00",
          "2023-09-24T00:00:00",
          "2023-10-01T00:00:00",
          "2023-10-08T00:00:00",
          "2023-10-15T00:00:00",
          "2023-10-22T00:00:00",
          "2023-10-29T00:00:00",
          "2023-11-05T00:00:00",
          "2023-11-12T00:00:00",
          "2023-11-19T00:00:00",
          "2023-11-26T00:00:00",
          "2023-12-03T00:00:00",
          "2023-12-10T00:00:00",
          "2023-12-17T00:00:00",
          "2023-12-24T00:00:00",
          "2023-12-31T00:00:00"
         ],
         "xaxis": "x",
         "y": [
          3,
          4,
          0,
          0,
          2,
          5,
          2,
          0,
          6,
          2,
          6,
          3,
          4,
          2,
          5,
          7,
          4,
          7,
          5,
          9,
          3,
          4,
          4,
          1,
          3,
          6,
          1,
          1,
          2,
          0,
          6,
          2,
          5,
          2,
          6,
          0,
          4,
          2,
          4,
          2,
          2,
          3,
          3,
          6,
          3,
          5,
          2,
          3,
          1,
          0,
          2,
          2,
          0
         ],
         "yaxis": "y"
        },
        {
         "hovertemplate": "NAMA BARANG=PUCUK HARUM TEH 350ML<br>TANGGAL=%{x}<br>QTY=%{y}<extra></extra>",
         "legendgroup": "PUCUK HARUM TEH 350ML",
         "line": {
          "color": "#FF6692",
          "dash": "solid"
         },
         "marker": {
          "symbol": "circle"
         },
         "mode": "lines",
         "name": "PUCUK HARUM TEH 350ML",
         "showlegend": true,
         "type": "scattergl",
         "x": [
          "2023-01-01T00:00:00",
          "2023-01-08T00:00:00",
          "2023-01-15T00:00:00",
          "2023-01-22T00:00:00",
          "2023-01-29T00:00:00",
          "2023-02-05T00:00:00",
          "2023-02-12T00:00:00",
          "2023-02-19T00:00:00",
          "2023-02-26T00:00:00",
          "2023-03-05T00:00:00",
          "2023-03-12T00:00:00",
          "2023-03-19T00:00:00",
          "2023-03-26T00:00:00",
          "2023-04-02T00:00:00",
          "2023-04-09T00:00:00",
          "2023-04-16T00:00:00",
          "2023-04-23T00:00:00",
          "2023-04-30T00:00:00",
          "2023-05-07T00:00:00",
          "2023-05-14T00:00:00",
          "2023-05-21T00:00:00",
          "2023-05-28T00:00:00",
          "2023-06-04T00:00:00",
          "2023-06-11T00:00:00",
          "2023-06-18T00:00:00",
          "2023-06-25T00:00:00",
          "2023-07-02T00:00:00",
          "2023-07-09T00:00:00",
          "2023-07-16T00:00:00",
          "2023-07-23T00:00:00",
          "2023-07-30T00:00:00",
          "2023-08-06T00:00:00",
          "2023-08-13T00:00:00",
          "2023-08-20T00:00:00",
          "2023-08-27T00:00:00",
          "2023-09-03T00:00:00",
          "2023-09-10T00:00:00",
          "2023-09-17T00:00:00",
          "2023-09-24T00:00:00",
          "2023-10-01T00:00:00",
          "2023-10-08T00:00:00",
          "2023-10-15T00:00:00",
          "2023-10-22T00:00:00",
          "2023-10-29T00:00:00",
          "2023-11-05T00:00:00",
          "2023-11-12T00:00:00",
          "2023-11-19T00:00:00",
          "2023-11-26T00:00:00",
          "2023-12-03T00:00:00",
          "2023-12-10T00:00:00",
          "2023-12-17T00:00:00",
          "2023-12-24T00:00:00",
          "2023-12-31T00:00:00"
         ],
         "xaxis": "x",
         "y": [
          65,
          52,
          41,
          31,
          42,
          48,
          33,
          54,
          41,
          29,
          58,
          37,
          28,
          36,
          31,
          71,
          51,
          77,
          80,
          24,
          44,
          103,
          67,
          43,
          34,
          67,
          64,
          37,
          29,
          31,
          36,
          16,
          54,
          38,
          33,
          55,
          42,
          36,
          53,
          41,
          46,
          40,
          36,
          52,
          96,
          76,
          37,
          53,
          23,
          41,
          34,
          19,
          2
         ],
         "yaxis": "y"
        },
        {
         "hovertemplate": "NAMA BARANG=ROMA KELAPA 300GR<br>TANGGAL=%{x}<br>QTY=%{y}<extra></extra>",
         "legendgroup": "ROMA KELAPA 300GR",
         "line": {
          "color": "#B6E880",
          "dash": "solid"
         },
         "marker": {
          "symbol": "circle"
         },
         "mode": "lines",
         "name": "ROMA KELAPA 300GR",
         "showlegend": true,
         "type": "scattergl",
         "x": [
          "2023-01-01T00:00:00",
          "2023-01-08T00:00:00",
          "2023-01-15T00:00:00",
          "2023-01-22T00:00:00",
          "2023-01-29T00:00:00",
          "2023-02-05T00:00:00",
          "2023-02-12T00:00:00",
          "2023-02-19T00:00:00",
          "2023-02-26T00:00:00",
          "2023-03-05T00:00:00",
          "2023-03-12T00:00:00",
          "2023-03-19T00:00:00",
          "2023-03-26T00:00:00",
          "2023-04-02T00:00:00",
          "2023-04-09T00:00:00",
          "2023-04-16T00:00:00",
          "2023-04-23T00:00:00",
          "2023-04-30T00:00:00",
          "2023-05-07T00:00:00",
          "2023-05-14T00:00:00",
          "2023-05-21T00:00:00",
          "2023-05-28T00:00:00",
          "2023-06-04T00:00:00",
          "2023-06-11T00:00:00",
          "2023-06-18T00:00:00",
          "2023-06-25T00:00:00",
          "2023-07-02T00:00:00",
          "2023-07-09T00:00:00",
          "2023-07-16T00:00:00",
          "2023-07-23T00:00:00",
          "2023-07-30T00:00:00",
          "2023-08-06T00:00:00",
          "2023-08-13T00:00:00",
          "2023-08-20T00:00:00",
          "2023-08-27T00:00:00",
          "2023-09-03T00:00:00",
          "2023-09-10T00:00:00",
          "2023-09-17T00:00:00",
          "2023-09-24T00:00:00",
          "2023-10-01T00:00:00",
          "2023-10-08T00:00:00",
          "2023-10-15T00:00:00",
          "2023-10-22T00:00:00",
          "2023-10-29T00:00:00",
          "2023-11-05T00:00:00",
          "2023-11-12T00:00:00",
          "2023-11-19T00:00:00",
          "2023-11-26T00:00:00",
          "2023-12-03T00:00:00",
          "2023-12-10T00:00:00",
          "2023-12-17T00:00:00",
          "2023-12-24T00:00:00",
          "2023-12-31T00:00:00"
         ],
         "xaxis": "x",
         "y": [
          11,
          2,
          5,
          7,
          11,
          9,
          6,
          12,
          5,
          13,
          9,
          11,
          13,
          3,
          4,
          6,
          4,
          3,
          2,
          6,
          7,
          6,
          8,
          5,
          6,
          6,
          6,
          9,
          5,
          3,
          9,
          4,
          3,
          3,
          2,
          9,
          6,
          5,
          7,
          5,
          6,
          4,
          2,
          4,
          5,
          4,
          4,
          13,
          3,
          2,
          6,
          12,
          1
         ],
         "yaxis": "y"
        },
        {
         "hovertemplate": "NAMA BARANG=SUNSILK SHP BLK SHN 160ML<br>TANGGAL=%{x}<br>QTY=%{y}<extra></extra>",
         "legendgroup": "SUNSILK SHP BLK SHN 160ML",
         "line": {
          "color": "#FF97FF",
          "dash": "solid"
         },
         "marker": {
          "symbol": "circle"
         },
         "mode": "lines",
         "name": "SUNSILK SHP BLK SHN 160ML",
         "showlegend": true,
         "type": "scattergl",
         "x": [
          "2023-01-01T00:00:00",
          "2023-01-08T00:00:00",
          "2023-01-15T00:00:00",
          "2023-01-22T00:00:00",
          "2023-01-29T00:00:00",
          "2023-02-05T00:00:00",
          "2023-02-12T00:00:00",
          "2023-02-19T00:00:00",
          "2023-02-26T00:00:00",
          "2023-03-05T00:00:00",
          "2023-03-12T00:00:00",
          "2023-03-19T00:00:00",
          "2023-03-26T00:00:00",
          "2023-04-02T00:00:00",
          "2023-04-09T00:00:00",
          "2023-04-16T00:00:00",
          "2023-04-23T00:00:00",
          "2023-04-30T00:00:00",
          "2023-05-07T00:00:00",
          "2023-05-14T00:00:00",
          "2023-05-21T00:00:00",
          "2023-05-28T00:00:00",
          "2023-06-04T00:00:00",
          "2023-06-11T00:00:00",
          "2023-06-18T00:00:00",
          "2023-06-25T00:00:00",
          "2023-07-02T00:00:00",
          "2023-07-09T00:00:00",
          "2023-07-16T00:00:00",
          "2023-07-23T00:00:00",
          "2023-07-30T00:00:00",
          "2023-08-06T00:00:00",
          "2023-08-13T00:00:00",
          "2023-08-20T00:00:00",
          "2023-08-27T00:00:00",
          "2023-09-03T00:00:00",
          "2023-09-10T00:00:00",
          "2023-09-17T00:00:00",
          "2023-09-24T00:00:00",
          "2023-10-01T00:00:00",
          "2023-10-08T00:00:00",
          "2023-10-15T00:00:00",
          "2023-10-22T00:00:00",
          "2023-10-29T00:00:00",
          "2023-11-05T00:00:00",
          "2023-11-12T00:00:00",
          "2023-11-19T00:00:00",
          "2023-11-26T00:00:00",
          "2023-12-03T00:00:00",
          "2023-12-10T00:00:00",
          "2023-12-17T00:00:00",
          "2023-12-24T00:00:00",
          "2023-12-31T00:00:00"
         ],
         "xaxis": "x",
         "y": [
          1,
          1,
          1,
          0,
          3,
          3,
          0,
          0,
          3,
          1,
          1,
          0,
          1,
          1,
          0,
          0,
          1,
          4,
          2,
          1,
          0,
          3,
          1,
          0,
          1,
          3,
          0,
          3,
          0,
          3,
          1,
          1,
          2,
          1,
          2,
          1,
          1,
          0,
          2,
          0,
          0,
          0,
          1,
          1,
          0,
          0,
          0,
          2,
          0,
          1,
          0,
          1,
          0
         ],
         "yaxis": "y"
        },
        {
         "hovertemplate": "NAMA BARANG=TEH GELAS ORI 170ML<br>TANGGAL=%{x}<br>QTY=%{y}<extra></extra>",
         "legendgroup": "TEH GELAS ORI 170ML",
         "line": {
          "color": "#FECB52",
          "dash": "solid"
         },
         "marker": {
          "symbol": "circle"
         },
         "mode": "lines",
         "name": "TEH GELAS ORI 170ML",
         "showlegend": true,
         "type": "scattergl",
         "x": [
          "2023-01-01T00:00:00",
          "2023-01-08T00:00:00",
          "2023-01-15T00:00:00",
          "2023-01-22T00:00:00",
          "2023-01-29T00:00:00",
          "2023-02-05T00:00:00",
          "2023-02-12T00:00:00",
          "2023-02-19T00:00:00",
          "2023-02-26T00:00:00",
          "2023-03-05T00:00:00",
          "2023-03-12T00:00:00",
          "2023-03-19T00:00:00",
          "2023-03-26T00:00:00",
          "2023-04-02T00:00:00",
          "2023-04-09T00:00:00",
          "2023-04-16T00:00:00",
          "2023-04-23T00:00:00",
          "2023-04-30T00:00:00",
          "2023-05-07T00:00:00",
          "2023-05-14T00:00:00",
          "2023-05-21T00:00:00",
          "2023-05-28T00:00:00",
          "2023-06-04T00:00:00",
          "2023-06-11T00:00:00",
          "2023-06-18T00:00:00",
          "2023-06-25T00:00:00",
          "2023-07-02T00:00:00",
          "2023-07-09T00:00:00",
          "2023-07-16T00:00:00",
          "2023-07-23T00:00:00",
          "2023-07-30T00:00:00",
          "2023-08-06T00:00:00",
          "2023-08-13T00:00:00",
          "2023-08-20T00:00:00",
          "2023-08-27T00:00:00",
          "2023-09-03T00:00:00",
          "2023-09-10T00:00:00",
          "2023-09-17T00:00:00",
          "2023-09-24T00:00:00",
          "2023-10-01T00:00:00",
          "2023-10-08T00:00:00",
          "2023-10-15T00:00:00",
          "2023-10-22T00:00:00",
          "2023-10-29T00:00:00",
          "2023-11-05T00:00:00",
          "2023-11-12T00:00:00",
          "2023-11-19T00:00:00",
          "2023-11-26T00:00:00",
          "2023-12-03T00:00:00",
          "2023-12-10T00:00:00",
          "2023-12-17T00:00:00",
          "2023-12-24T00:00:00",
          "2023-12-31T00:00:00"
         ],
         "xaxis": "x",
         "y": [
          2,
          2,
          0,
          0,
          0,
          0,
          0,
          0,
          0,
          0,
          0,
          0,
          0,
          0,
          0,
          0,
          0,
          0,
          0,
          0,
          0,
          0,
          0,
          0,
          0,
          0,
          0,
          0,
          0,
          2,
          6,
          4,
          4,
          7,
          2,
          9,
          12,
          0,
          1,
          7,
          5,
          2,
          7,
          7,
          0,
          6,
          3,
          8,
          6,
          7,
          12,
          14,
          3
         ],
         "yaxis": "y"
        },
        {
         "hovertemplate": "NAMA BARANG=TONGTJI JASMINE 5 S<br>TANGGAL=%{x}<br>QTY=%{y}<extra></extra>",
         "legendgroup": "TONGTJI JASMINE 5 S",
         "line": {
          "color": "#636efa",
          "dash": "solid"
         },
         "marker": {
          "symbol": "circle"
         },
         "mode": "lines",
         "name": "TONGTJI JASMINE 5 S",
         "showlegend": true,
         "type": "scattergl",
         "x": [
          "2023-01-01T00:00:00",
          "2023-01-08T00:00:00",
          "2023-01-15T00:00:00",
          "2023-01-22T00:00:00",
          "2023-01-29T00:00:00",
          "2023-02-05T00:00:00",
          "2023-02-12T00:00:00",
          "2023-02-19T00:00:00",
          "2023-02-26T00:00:00",
          "2023-03-05T00:00:00",
          "2023-03-12T00:00:00",
          "2023-03-19T00:00:00",
          "2023-03-26T00:00:00",
          "2023-04-02T00:00:00",
          "2023-04-09T00:00:00",
          "2023-04-16T00:00:00",
          "2023-04-23T00:00:00",
          "2023-04-30T00:00:00",
          "2023-05-07T00:00:00",
          "2023-05-14T00:00:00",
          "2023-05-21T00:00:00",
          "2023-05-28T00:00:00",
          "2023-06-04T00:00:00",
          "2023-06-11T00:00:00",
          "2023-06-18T00:00:00",
          "2023-06-25T00:00:00",
          "2023-07-02T00:00:00",
          "2023-07-09T00:00:00",
          "2023-07-16T00:00:00",
          "2023-07-23T00:00:00",
          "2023-07-30T00:00:00",
          "2023-08-06T00:00:00",
          "2023-08-13T00:00:00",
          "2023-08-20T00:00:00",
          "2023-08-27T00:00:00",
          "2023-09-03T00:00:00",
          "2023-09-10T00:00:00",
          "2023-09-17T00:00:00",
          "2023-09-24T00:00:00",
          "2023-10-01T00:00:00",
          "2023-10-08T00:00:00",
          "2023-10-15T00:00:00",
          "2023-10-22T00:00:00",
          "2023-10-29T00:00:00",
          "2023-11-05T00:00:00",
          "2023-11-12T00:00:00",
          "2023-11-19T00:00:00",
          "2023-11-26T00:00:00",
          "2023-12-03T00:00:00",
          "2023-12-10T00:00:00",
          "2023-12-17T00:00:00",
          "2023-12-24T00:00:00",
          "2023-12-31T00:00:00"
         ],
         "xaxis": "x",
         "y": [
          7,
          1,
          0,
          5,
          4,
          6,
          8,
          3,
          10,
          4,
          1,
          10,
          1,
          9,
          2,
          5,
          2,
          0,
          7,
          2,
          2,
          4,
          1,
          2,
          1,
          3,
          2,
          3,
          3,
          3,
          3,
          4,
          11,
          2,
          3,
          2,
          0,
          7,
          0,
          7,
          3,
          0,
          0,
          0,
          6,
          2,
          5,
          6,
          2,
          4,
          4,
          2,
          0
         ],
         "yaxis": "y"
        },
        {
         "hovertemplate": "NAMA BARANG=TWISTER MINI CPP 20GR<br>TANGGAL=%{x}<br>QTY=%{y}<extra></extra>",
         "legendgroup": "TWISTER MINI CPP 20GR",
         "line": {
          "color": "#EF553B",
          "dash": "solid"
         },
         "marker": {
          "symbol": "circle"
         },
         "mode": "lines",
         "name": "TWISTER MINI CPP 20GR",
         "showlegend": true,
         "type": "scattergl",
         "x": [
          "2023-01-01T00:00:00",
          "2023-01-08T00:00:00",
          "2023-01-15T00:00:00",
          "2023-01-22T00:00:00",
          "2023-01-29T00:00:00",
          "2023-02-05T00:00:00",
          "2023-02-12T00:00:00",
          "2023-02-19T00:00:00",
          "2023-02-26T00:00:00",
          "2023-03-05T00:00:00",
          "2023-03-12T00:00:00",
          "2023-03-19T00:00:00",
          "2023-03-26T00:00:00",
          "2023-04-02T00:00:00",
          "2023-04-09T00:00:00",
          "2023-04-16T00:00:00",
          "2023-04-23T00:00:00",
          "2023-04-30T00:00:00",
          "2023-05-07T00:00:00",
          "2023-05-14T00:00:00",
          "2023-05-21T00:00:00",
          "2023-05-28T00:00:00",
          "2023-06-04T00:00:00",
          "2023-06-11T00:00:00",
          "2023-06-18T00:00:00",
          "2023-06-25T00:00:00",
          "2023-07-02T00:00:00",
          "2023-07-09T00:00:00",
          "2023-07-16T00:00:00",
          "2023-07-23T00:00:00",
          "2023-07-30T00:00:00",
          "2023-08-06T00:00:00",
          "2023-08-13T00:00:00",
          "2023-08-20T00:00:00",
          "2023-08-27T00:00:00",
          "2023-09-03T00:00:00",
          "2023-09-10T00:00:00",
          "2023-09-17T00:00:00",
          "2023-09-24T00:00:00",
          "2023-10-01T00:00:00",
          "2023-10-08T00:00:00",
          "2023-10-15T00:00:00",
          "2023-10-22T00:00:00",
          "2023-10-29T00:00:00",
          "2023-11-05T00:00:00",
          "2023-11-12T00:00:00",
          "2023-11-19T00:00:00",
          "2023-11-26T00:00:00",
          "2023-12-03T00:00:00",
          "2023-12-10T00:00:00",
          "2023-12-17T00:00:00",
          "2023-12-24T00:00:00",
          "2023-12-31T00:00:00"
         ],
         "xaxis": "x",
         "y": [
          6,
          3,
          1,
          2,
          4,
          3,
          5,
          4,
          4,
          2,
          4,
          2,
          6,
          5,
          0,
          2,
          0,
          1,
          0,
          0,
          3,
          1,
          2,
          2,
          4,
          4,
          3,
          1,
          1,
          4,
          3,
          5,
          0,
          1,
          1,
          1,
          0,
          0,
          0,
          3,
          3,
          3,
          4,
          0,
          4,
          0,
          4,
          4,
          1,
          0,
          1,
          2,
          0
         ],
         "yaxis": "y"
        },
        {
         "hovertemplate": "NAMA BARANG=WAFELLO COCONUT 37 5G<br>TANGGAL=%{x}<br>QTY=%{y}<extra></extra>",
         "legendgroup": "WAFELLO COCONUT 37 5G",
         "line": {
          "color": "#00cc96",
          "dash": "solid"
         },
         "marker": {
          "symbol": "circle"
         },
         "mode": "lines",
         "name": "WAFELLO COCONUT 37 5G",
         "showlegend": true,
         "type": "scattergl",
         "x": [
          "2023-01-01T00:00:00",
          "2023-01-08T00:00:00",
          "2023-01-15T00:00:00",
          "2023-01-22T00:00:00",
          "2023-01-29T00:00:00",
          "2023-02-05T00:00:00",
          "2023-02-12T00:00:00",
          "2023-02-19T00:00:00",
          "2023-02-26T00:00:00",
          "2023-03-05T00:00:00",
          "2023-03-12T00:00:00",
          "2023-03-19T00:00:00",
          "2023-03-26T00:00:00",
          "2023-04-02T00:00:00",
          "2023-04-09T00:00:00",
          "2023-04-16T00:00:00",
          "2023-04-23T00:00:00",
          "2023-04-30T00:00:00",
          "2023-05-07T00:00:00",
          "2023-05-14T00:00:00",
          "2023-05-21T00:00:00",
          "2023-05-28T00:00:00",
          "2023-06-04T00:00:00",
          "2023-06-11T00:00:00",
          "2023-06-18T00:00:00",
          "2023-06-25T00:00:00",
          "2023-07-02T00:00:00",
          "2023-07-09T00:00:00",
          "2023-07-16T00:00:00",
          "2023-07-23T00:00:00",
          "2023-07-30T00:00:00",
          "2023-08-06T00:00:00",
          "2023-08-13T00:00:00",
          "2023-08-20T00:00:00",
          "2023-08-27T00:00:00",
          "2023-09-03T00:00:00",
          "2023-09-10T00:00:00",
          "2023-09-17T00:00:00",
          "2023-09-24T00:00:00",
          "2023-10-01T00:00:00",
          "2023-10-08T00:00:00",
          "2023-10-15T00:00:00",
          "2023-10-22T00:00:00",
          "2023-10-29T00:00:00",
          "2023-11-05T00:00:00",
          "2023-11-12T00:00:00",
          "2023-11-19T00:00:00",
          "2023-11-26T00:00:00",
          "2023-12-03T00:00:00",
          "2023-12-10T00:00:00",
          "2023-12-17T00:00:00",
          "2023-12-24T00:00:00",
          "2023-12-31T00:00:00"
         ],
         "xaxis": "x",
         "y": [
          0,
          0,
          0,
          0,
          0,
          0,
          0,
          0,
          0,
          0,
          0,
          0,
          0,
          1,
          19,
          0,
          0,
          0,
          1,
          0,
          3,
          1,
          2,
          4,
          5,
          0,
          1,
          3,
          2,
          3,
          2,
          1,
          3,
          2,
          0,
          2,
          5,
          3,
          0,
          2,
          1,
          3,
          7,
          1,
          3,
          0,
          2,
          4,
          5,
          2,
          7,
          2,
          1
         ],
         "yaxis": "y"
        },
        {
         "hovertemplate": "NAMA BARANG=WALLS POPULAIRE STR<br>TANGGAL=%{x}<br>QTY=%{y}<extra></extra>",
         "legendgroup": "WALLS POPULAIRE STR",
         "line": {
          "color": "#ab63fa",
          "dash": "solid"
         },
         "marker": {
          "symbol": "circle"
         },
         "mode": "lines",
         "name": "WALLS POPULAIRE STR",
         "showlegend": true,
         "type": "scattergl",
         "x": [
          "2023-01-01T00:00:00",
          "2023-01-08T00:00:00",
          "2023-01-15T00:00:00",
          "2023-01-22T00:00:00",
          "2023-01-29T00:00:00",
          "2023-02-05T00:00:00",
          "2023-02-12T00:00:00",
          "2023-02-19T00:00:00",
          "2023-02-26T00:00:00",
          "2023-03-05T00:00:00",
          "2023-03-12T00:00:00",
          "2023-03-19T00:00:00",
          "2023-03-26T00:00:00",
          "2023-04-02T00:00:00",
          "2023-04-09T00:00:00",
          "2023-04-16T00:00:00",
          "2023-04-23T00:00:00",
          "2023-04-30T00:00:00",
          "2023-05-07T00:00:00",
          "2023-05-14T00:00:00",
          "2023-05-21T00:00:00",
          "2023-05-28T00:00:00",
          "2023-06-04T00:00:00",
          "2023-06-11T00:00:00",
          "2023-06-18T00:00:00",
          "2023-06-25T00:00:00",
          "2023-07-02T00:00:00",
          "2023-07-09T00:00:00",
          "2023-07-16T00:00:00",
          "2023-07-23T00:00:00",
          "2023-07-30T00:00:00",
          "2023-08-06T00:00:00",
          "2023-08-13T00:00:00",
          "2023-08-20T00:00:00",
          "2023-08-27T00:00:00",
          "2023-09-03T00:00:00",
          "2023-09-10T00:00:00",
          "2023-09-17T00:00:00",
          "2023-09-24T00:00:00",
          "2023-10-01T00:00:00",
          "2023-10-08T00:00:00",
          "2023-10-15T00:00:00",
          "2023-10-22T00:00:00",
          "2023-10-29T00:00:00",
          "2023-11-05T00:00:00",
          "2023-11-12T00:00:00",
          "2023-11-19T00:00:00",
          "2023-11-26T00:00:00",
          "2023-12-03T00:00:00",
          "2023-12-10T00:00:00",
          "2023-12-17T00:00:00",
          "2023-12-24T00:00:00",
          "2023-12-31T00:00:00"
         ],
         "xaxis": "x",
         "y": [
          20,
          5,
          8,
          7,
          6,
          2,
          5,
          10,
          10,
          6,
          12,
          7,
          9,
          12,
          15,
          15,
          2,
          15,
          21,
          10,
          9,
          13,
          8,
          8,
          6,
          11,
          11,
          14,
          19,
          8,
          16,
          8,
          7,
          15,
          15,
          12,
          13,
          8,
          11,
          11,
          5,
          1,
          4,
          9,
          7,
          11,
          14,
          12,
          0,
          7,
          11,
          12,
          0
         ],
         "yaxis": "y"
        },
        {
         "hovertemplate": "NAMA BARANG=YA KOPI SPESIAL 60GR<br>TANGGAL=%{x}<br>QTY=%{y}<extra></extra>",
         "legendgroup": "YA KOPI SPESIAL 60GR",
         "line": {
          "color": "#FFA15A",
          "dash": "solid"
         },
         "marker": {
          "symbol": "circle"
         },
         "mode": "lines",
         "name": "YA KOPI SPESIAL 60GR",
         "showlegend": true,
         "type": "scattergl",
         "x": [
          "2023-01-01T00:00:00",
          "2023-01-08T00:00:00",
          "2023-01-15T00:00:00",
          "2023-01-22T00:00:00",
          "2023-01-29T00:00:00",
          "2023-02-05T00:00:00",
          "2023-02-12T00:00:00",
          "2023-02-19T00:00:00",
          "2023-02-26T00:00:00",
          "2023-03-05T00:00:00",
          "2023-03-12T00:00:00",
          "2023-03-19T00:00:00",
          "2023-03-26T00:00:00",
          "2023-04-02T00:00:00",
          "2023-04-09T00:00:00",
          "2023-04-16T00:00:00",
          "2023-04-23T00:00:00",
          "2023-04-30T00:00:00",
          "2023-05-07T00:00:00",
          "2023-05-14T00:00:00",
          "2023-05-21T00:00:00",
          "2023-05-28T00:00:00",
          "2023-06-04T00:00:00",
          "2023-06-11T00:00:00",
          "2023-06-18T00:00:00",
          "2023-06-25T00:00:00",
          "2023-07-02T00:00:00",
          "2023-07-09T00:00:00",
          "2023-07-16T00:00:00",
          "2023-07-23T00:00:00",
          "2023-07-30T00:00:00",
          "2023-08-06T00:00:00",
          "2023-08-13T00:00:00",
          "2023-08-20T00:00:00",
          "2023-08-27T00:00:00",
          "2023-09-03T00:00:00",
          "2023-09-10T00:00:00",
          "2023-09-17T00:00:00",
          "2023-09-24T00:00:00",
          "2023-10-01T00:00:00",
          "2023-10-08T00:00:00",
          "2023-10-15T00:00:00",
          "2023-10-22T00:00:00",
          "2023-10-29T00:00:00",
          "2023-11-05T00:00:00",
          "2023-11-12T00:00:00",
          "2023-11-19T00:00:00",
          "2023-11-26T00:00:00",
          "2023-12-03T00:00:00",
          "2023-12-10T00:00:00",
          "2023-12-17T00:00:00",
          "2023-12-24T00:00:00",
          "2023-12-31T00:00:00"
         ],
         "xaxis": "x",
         "y": [
          4,
          2,
          3,
          3,
          6,
          4,
          5,
          4,
          3,
          3,
          2,
          2,
          4,
          4,
          5,
          1,
          3,
          2,
          3,
          2,
          3,
          3,
          1,
          7,
          4,
          4,
          0,
          3,
          3,
          2,
          0,
          9,
          5,
          4,
          6,
          8,
          5,
          5,
          0,
          1,
          2,
          5,
          5,
          8,
          1,
          2,
          4,
          13,
          0,
          4,
          2,
          3,
          0
         ],
         "yaxis": "y"
        }
       ],
       "layout": {
        "legend": {
         "title": {
          "text": "Klik untuk tampilkan/sembunyikan item"
         },
         "tracegroupgap": 0
        },
        "template": {
         "data": {
          "bar": [
           {
            "error_x": {
             "color": "#2a3f5f"
            },
            "error_y": {
             "color": "#2a3f5f"
            },
            "marker": {
             "line": {
              "color": "#E5ECF6",
              "width": 0.5
             },
             "pattern": {
              "fillmode": "overlay",
              "size": 10,
              "solidity": 0.2
             }
            },
            "type": "bar"
           }
          ],
          "barpolar": [
           {
            "marker": {
             "line": {
              "color": "#E5ECF6",
              "width": 0.5
             },
             "pattern": {
              "fillmode": "overlay",
              "size": 10,
              "solidity": 0.2
             }
            },
            "type": "barpolar"
           }
          ],
          "carpet": [
           {
            "aaxis": {
             "endlinecolor": "#2a3f5f",
             "gridcolor": "white",
             "linecolor": "white",
             "minorgridcolor": "white",
             "startlinecolor": "#2a3f5f"
            },
            "baxis": {
             "endlinecolor": "#2a3f5f",
             "gridcolor": "white",
             "linecolor": "white",
             "minorgridcolor": "white",
             "startlinecolor": "#2a3f5f"
            },
            "type": "carpet"
           }
          ],
          "choropleth": [
           {
            "colorbar": {
             "outlinewidth": 0,
             "ticks": ""
            },
            "type": "choropleth"
           }
          ],
          "contour": [
           {
            "colorbar": {
             "outlinewidth": 0,
             "ticks": ""
            },
            "colorscale": [
             [
              0,
              "#0d0887"
             ],
             [
              0.1111111111111111,
              "#46039f"
             ],
             [
              0.2222222222222222,
              "#7201a8"
             ],
             [
              0.3333333333333333,
              "#9c179e"
             ],
             [
              0.4444444444444444,
              "#bd3786"
             ],
             [
              0.5555555555555556,
              "#d8576b"
             ],
             [
              0.6666666666666666,
              "#ed7953"
             ],
             [
              0.7777777777777778,
              "#fb9f3a"
             ],
             [
              0.8888888888888888,
              "#fdca26"
             ],
             [
              1,
              "#f0f921"
             ]
            ],
            "type": "contour"
           }
          ],
          "contourcarpet": [
           {
            "colorbar": {
             "outlinewidth": 0,
             "ticks": ""
            },
            "type": "contourcarpet"
           }
          ],
          "heatmap": [
           {
            "colorbar": {
             "outlinewidth": 0,
             "ticks": ""
            },
            "colorscale": [
             [
              0,
              "#0d0887"
             ],
             [
              0.1111111111111111,
              "#46039f"
             ],
             [
              0.2222222222222222,
              "#7201a8"
             ],
             [
              0.3333333333333333,
              "#9c179e"
             ],
             [
              0.4444444444444444,
              "#bd3786"
             ],
             [
              0.5555555555555556,
              "#d8576b"
             ],
             [
              0.6666666666666666,
              "#ed7953"
             ],
             [
              0.7777777777777778,
              "#fb9f3a"
             ],
             [
              0.8888888888888888,
              "#fdca26"
             ],
             [
              1,
              "#f0f921"
             ]
            ],
            "type": "heatmap"
           }
          ],
          "heatmapgl": [
           {
            "colorbar": {
             "outlinewidth": 0,
             "ticks": ""
            },
            "colorscale": [
             [
              0,
              "#0d0887"
             ],
             [
              0.1111111111111111,
              "#46039f"
             ],
             [
              0.2222222222222222,
              "#7201a8"
             ],
             [
              0.3333333333333333,
              "#9c179e"
             ],
             [
              0.4444444444444444,
              "#bd3786"
             ],
             [
              0.5555555555555556,
              "#d8576b"
             ],
             [
              0.6666666666666666,
              "#ed7953"
             ],
             [
              0.7777777777777778,
              "#fb9f3a"
             ],
             [
              0.8888888888888888,
              "#fdca26"
             ],
             [
              1,
              "#f0f921"
             ]
            ],
            "type": "heatmapgl"
           }
          ],
          "histogram": [
           {
            "marker": {
             "pattern": {
              "fillmode": "overlay",
              "size": 10,
              "solidity": 0.2
             }
            },
            "type": "histogram"
           }
          ],
          "histogram2d": [
           {
            "colorbar": {
             "outlinewidth": 0,
             "ticks": ""
            },
            "colorscale": [
             [
              0,
              "#0d0887"
             ],
             [
              0.1111111111111111,
              "#46039f"
             ],
             [
              0.2222222222222222,
              "#7201a8"
             ],
             [
              0.3333333333333333,
              "#9c179e"
             ],
             [
              0.4444444444444444,
              "#bd3786"
             ],
             [
              0.5555555555555556,
              "#d8576b"
             ],
             [
              0.6666666666666666,
              "#ed7953"
             ],
             [
              0.7777777777777778,
              "#fb9f3a"
             ],
             [
              0.8888888888888888,
              "#fdca26"
             ],
             [
              1,
              "#f0f921"
             ]
            ],
            "type": "histogram2d"
           }
          ],
          "histogram2dcontour": [
           {
            "colorbar": {
             "outlinewidth": 0,
             "ticks": ""
            },
            "colorscale": [
             [
              0,
              "#0d0887"
             ],
             [
              0.1111111111111111,
              "#46039f"
             ],
             [
              0.2222222222222222,
              "#7201a8"
             ],
             [
              0.3333333333333333,
              "#9c179e"
             ],
             [
              0.4444444444444444,
              "#bd3786"
             ],
             [
              0.5555555555555556,
              "#d8576b"
             ],
             [
              0.6666666666666666,
              "#ed7953"
             ],
             [
              0.7777777777777778,
              "#fb9f3a"
             ],
             [
              0.8888888888888888,
              "#fdca26"
             ],
             [
              1,
              "#f0f921"
             ]
            ],
            "type": "histogram2dcontour"
           }
          ],
          "mesh3d": [
           {
            "colorbar": {
             "outlinewidth": 0,
             "ticks": ""
            },
            "type": "mesh3d"
           }
          ],
          "parcoords": [
           {
            "line": {
             "colorbar": {
              "outlinewidth": 0,
              "ticks": ""
             }
            },
            "type": "parcoords"
           }
          ],
          "pie": [
           {
            "automargin": true,
            "type": "pie"
           }
          ],
          "scatter": [
           {
            "fillpattern": {
             "fillmode": "overlay",
             "size": 10,
             "solidity": 0.2
            },
            "type": "scatter"
           }
          ],
          "scatter3d": [
           {
            "line": {
             "colorbar": {
              "outlinewidth": 0,
              "ticks": ""
             }
            },
            "marker": {
             "colorbar": {
              "outlinewidth": 0,
              "ticks": ""
             }
            },
            "type": "scatter3d"
           }
          ],
          "scattercarpet": [
           {
            "marker": {
             "colorbar": {
              "outlinewidth": 0,
              "ticks": ""
             }
            },
            "type": "scattercarpet"
           }
          ],
          "scattergeo": [
           {
            "marker": {
             "colorbar": {
              "outlinewidth": 0,
              "ticks": ""
             }
            },
            "type": "scattergeo"
           }
          ],
          "scattergl": [
           {
            "marker": {
             "colorbar": {
              "outlinewidth": 0,
              "ticks": ""
             }
            },
            "type": "scattergl"
           }
          ],
          "scattermapbox": [
           {
            "marker": {
             "colorbar": {
              "outlinewidth": 0,
              "ticks": ""
             }
            },
            "type": "scattermapbox"
           }
          ],
          "scatterpolar": [
           {
            "marker": {
             "colorbar": {
              "outlinewidth": 0,
              "ticks": ""
             }
            },
            "type": "scatterpolar"
           }
          ],
          "scatterpolargl": [
           {
            "marker": {
             "colorbar": {
              "outlinewidth": 0,
              "ticks": ""
             }
            },
            "type": "scatterpolargl"
           }
          ],
          "scatterternary": [
           {
            "marker": {
             "colorbar": {
              "outlinewidth": 0,
              "ticks": ""
             }
            },
            "type": "scatterternary"
           }
          ],
          "surface": [
           {
            "colorbar": {
             "outlinewidth": 0,
             "ticks": ""
            },
            "colorscale": [
             [
              0,
              "#0d0887"
             ],
             [
              0.1111111111111111,
              "#46039f"
             ],
             [
              0.2222222222222222,
              "#7201a8"
             ],
             [
              0.3333333333333333,
              "#9c179e"
             ],
             [
              0.4444444444444444,
              "#bd3786"
             ],
             [
              0.5555555555555556,
              "#d8576b"
             ],
             [
              0.6666666666666666,
              "#ed7953"
             ],
             [
              0.7777777777777778,
              "#fb9f3a"
             ],
             [
              0.8888888888888888,
              "#fdca26"
             ],
             [
              1,
              "#f0f921"
             ]
            ],
            "type": "surface"
           }
          ],
          "table": [
           {
            "cells": {
             "fill": {
              "color": "#EBF0F8"
             },
             "line": {
              "color": "white"
             }
            },
            "header": {
             "fill": {
              "color": "#C8D4E3"
             },
             "line": {
              "color": "white"
             }
            },
            "type": "table"
           }
          ]
         },
         "layout": {
          "annotationdefaults": {
           "arrowcolor": "#2a3f5f",
           "arrowhead": 0,
           "arrowwidth": 1
          },
          "autotypenumbers": "strict",
          "coloraxis": {
           "colorbar": {
            "outlinewidth": 0,
            "ticks": ""
           }
          },
          "colorscale": {
           "diverging": [
            [
             0,
             "#8e0152"
            ],
            [
             0.1,
             "#c51b7d"
            ],
            [
             0.2,
             "#de77ae"
            ],
            [
             0.3,
             "#f1b6da"
            ],
            [
             0.4,
             "#fde0ef"
            ],
            [
             0.5,
             "#f7f7f7"
            ],
            [
             0.6,
             "#e6f5d0"
            ],
            [
             0.7,
             "#b8e186"
            ],
            [
             0.8,
             "#7fbc41"
            ],
            [
             0.9,
             "#4d9221"
            ],
            [
             1,
             "#276419"
            ]
           ],
           "sequential": [
            [
             0,
             "#0d0887"
            ],
            [
             0.1111111111111111,
             "#46039f"
            ],
            [
             0.2222222222222222,
             "#7201a8"
            ],
            [
             0.3333333333333333,
             "#9c179e"
            ],
            [
             0.4444444444444444,
             "#bd3786"
            ],
            [
             0.5555555555555556,
             "#d8576b"
            ],
            [
             0.6666666666666666,
             "#ed7953"
            ],
            [
             0.7777777777777778,
             "#fb9f3a"
            ],
            [
             0.8888888888888888,
             "#fdca26"
            ],
            [
             1,
             "#f0f921"
            ]
           ],
           "sequentialminus": [
            [
             0,
             "#0d0887"
            ],
            [
             0.1111111111111111,
             "#46039f"
            ],
            [
             0.2222222222222222,
             "#7201a8"
            ],
            [
             0.3333333333333333,
             "#9c179e"
            ],
            [
             0.4444444444444444,
             "#bd3786"
            ],
            [
             0.5555555555555556,
             "#d8576b"
            ],
            [
             0.6666666666666666,
             "#ed7953"
            ],
            [
             0.7777777777777778,
             "#fb9f3a"
            ],
            [
             0.8888888888888888,
             "#fdca26"
            ],
            [
             1,
             "#f0f921"
            ]
           ]
          },
          "colorway": [
           "#636efa",
           "#EF553B",
           "#00cc96",
           "#ab63fa",
           "#FFA15A",
           "#19d3f3",
           "#FF6692",
           "#B6E880",
           "#FF97FF",
           "#FECB52"
          ],
          "font": {
           "color": "#2a3f5f"
          },
          "geo": {
           "bgcolor": "white",
           "lakecolor": "white",
           "landcolor": "#E5ECF6",
           "showlakes": true,
           "showland": true,
           "subunitcolor": "white"
          },
          "hoverlabel": {
           "align": "left"
          },
          "hovermode": "closest",
          "mapbox": {
           "style": "light"
          },
          "paper_bgcolor": "white",
          "plot_bgcolor": "#E5ECF6",
          "polar": {
           "angularaxis": {
            "gridcolor": "white",
            "linecolor": "white",
            "ticks": ""
           },
           "bgcolor": "#E5ECF6",
           "radialaxis": {
            "gridcolor": "white",
            "linecolor": "white",
            "ticks": ""
           }
          },
          "scene": {
           "xaxis": {
            "backgroundcolor": "#E5ECF6",
            "gridcolor": "white",
            "gridwidth": 2,
            "linecolor": "white",
            "showbackground": true,
            "ticks": "",
            "zerolinecolor": "white"
           },
           "yaxis": {
            "backgroundcolor": "#E5ECF6",
            "gridcolor": "white",
            "gridwidth": 2,
            "linecolor": "white",
            "showbackground": true,
            "ticks": "",
            "zerolinecolor": "white"
           },
           "zaxis": {
            "backgroundcolor": "#E5ECF6",
            "gridcolor": "white",
            "gridwidth": 2,
            "linecolor": "white",
            "showbackground": true,
            "ticks": "",
            "zerolinecolor": "white"
           }
          },
          "shapedefaults": {
           "line": {
            "color": "#2a3f5f"
           }
          },
          "ternary": {
           "aaxis": {
            "gridcolor": "white",
            "linecolor": "white",
            "ticks": ""
           },
           "baxis": {
            "gridcolor": "white",
            "linecolor": "white",
            "ticks": ""
           },
           "bgcolor": "#E5ECF6",
           "caxis": {
            "gridcolor": "white",
            "linecolor": "white",
            "ticks": ""
           }
          },
          "title": {
           "x": 0.05
          },
          "xaxis": {
           "automargin": true,
           "gridcolor": "white",
           "linecolor": "white",
           "ticks": "",
           "title": {
            "standoff": 15
           },
           "zerolinecolor": "white",
           "zerolinewidth": 2
          },
          "yaxis": {
           "automargin": true,
           "gridcolor": "white",
           "linecolor": "white",
           "ticks": "",
           "title": {
            "standoff": 15
           },
           "zerolinecolor": "white",
           "zerolinewidth": 2
          }
         }
        },
        "title": {
         "text": "Jumlah Penjualan per Minggu (Setiap 7 Hari)"
        },
        "xaxis": {
         "anchor": "y",
         "domain": [
          0,
          1
         ],
         "title": {
          "text": "TANGGAL"
         }
        },
        "yaxis": {
         "anchor": "x",
         "domain": [
          0,
          1
         ],
         "title": {
          "text": "QTY"
         }
        }
       }
      }
     },
     "metadata": {},
     "output_type": "display_data"
    }
   ],
   "source": [
    "# Agregasi jumlah QTY per tanggal dan nama barang\n",
    "df_grouped = df_filtered.groupby(['TANGGAL', 'NAMA BARANG'], as_index=False)['QTY'].sum()\n",
    "\n",
    "tanggal_range = pd.date_range(start='2023-01-01', end='2023-12-31')\n",
    "all_items = df_filtered['NAMA BARANG'].unique()\n",
    "\n",
    "# Buat kombinasi semua tanggal dan item\n",
    "multi_index = pd.MultiIndex.from_product([tanggal_range, all_items], names=['TANGGAL', 'NAMA BARANG'])\n",
    "all_combinations = pd.DataFrame(index=multi_index).reset_index()\n",
    "\n",
    "# Gabungkan dengan hasil groupby\n",
    "df_joined = pd.merge(all_combinations, df_grouped, on=['TANGGAL', 'NAMA BARANG'], how='left')\n",
    "df_joined['QTY'] = df_joined['QTY'].fillna(0)\n",
    "\n",
    "# Pastikan TANGGAL dalam datetime\n",
    "df_joined['TANGGAL'] = pd.to_datetime(df_joined['TANGGAL'])\n",
    "\n",
    "# Urutkan dulu datanya\n",
    "df_joined = df_joined.sort_values('TANGGAL')\n",
    "\n",
    "# Ambil tanggal paling awal\n",
    "start_date = df_joined['TANGGAL'].min()\n",
    "\n",
    "# Hitung minggu ke-n secara manual (tiap 7 hari)\n",
    "df_joined['WEEK_NUMBER'] = ((df_joined['TANGGAL'] - start_date).dt.days // 7) + 1\n",
    "\n",
    "# Agregasi berdasarkan minggu dan nama barang\n",
    "df_weekly = df_joined.groupby(['WEEK_NUMBER', 'NAMA BARANG'], as_index=False)['QTY'].sum()\n",
    "\n",
    "# (Opsional) Tambahkan kolom tanggal mulai minggu\n",
    "df_weekly['TANGGAL'] = start_date + pd.to_timedelta((df_weekly['WEEK_NUMBER'] - 1) * 7, unit='D')\n",
    "\n",
    "# Visualisasi\n",
    "fig = px.line(df_weekly, x='TANGGAL', y='QTY', color='NAMA BARANG',\n",
    "              title='Jumlah Penjualan per Minggu (Setiap 7 Hari)')\n",
    "fig.update_layout(legend_title_text='Klik untuk tampilkan/sembunyikan item')\n",
    "fig.show()"
   ]
  },
  {
   "cell_type": "code",
   "execution_count": 9,
   "id": "751cc0f0",
   "metadata": {},
   "outputs": [
    {
     "data": {
      "text/html": [
       "<div>\n",
       "<style scoped>\n",
       "    .dataframe tbody tr th:only-of-type {\n",
       "        vertical-align: middle;\n",
       "    }\n",
       "\n",
       "    .dataframe tbody tr th {\n",
       "        vertical-align: top;\n",
       "    }\n",
       "\n",
       "    .dataframe thead th {\n",
       "        text-align: right;\n",
       "    }\n",
       "</style>\n",
       "<table border=\"1\" class=\"dataframe\">\n",
       "  <thead>\n",
       "    <tr style=\"text-align: right;\">\n",
       "      <th></th>\n",
       "      <th>WEEK_NUMBER</th>\n",
       "      <th>NAMA BARANG</th>\n",
       "      <th>QTY</th>\n",
       "      <th>TANGGAL</th>\n",
       "    </tr>\n",
       "  </thead>\n",
       "  <tbody>\n",
       "    <tr>\n",
       "      <th>0</th>\n",
       "      <td>1</td>\n",
       "      <td>BIG BLUEBRRY 375ML</td>\n",
       "      <td>1.0</td>\n",
       "      <td>2023-01-01</td>\n",
       "    </tr>\n",
       "    <tr>\n",
       "      <th>1</th>\n",
       "      <td>1</td>\n",
       "      <td>CIPTADENT PG FRS 190ML</td>\n",
       "      <td>0.0</td>\n",
       "      <td>2023-01-01</td>\n",
       "    </tr>\n",
       "    <tr>\n",
       "      <th>2</th>\n",
       "      <td>1</td>\n",
       "      <td>CLOUD 9 CHOCO 15 4G</td>\n",
       "      <td>0.0</td>\n",
       "      <td>2023-01-01</td>\n",
       "    </tr>\n",
       "    <tr>\n",
       "      <th>3</th>\n",
       "      <td>1</td>\n",
       "      <td>CLOUD 9 VANILA 15 4G</td>\n",
       "      <td>0.0</td>\n",
       "      <td>2023-01-01</td>\n",
       "    </tr>\n",
       "    <tr>\n",
       "      <th>4</th>\n",
       "      <td>1</td>\n",
       "      <td>DELFI TOP TRIP/CHO 9GR</td>\n",
       "      <td>0.0</td>\n",
       "      <td>2023-01-01</td>\n",
       "    </tr>\n",
       "    <tr>\n",
       "      <th>...</th>\n",
       "      <td>...</td>\n",
       "      <td>...</td>\n",
       "      <td>...</td>\n",
       "      <td>...</td>\n",
       "    </tr>\n",
       "    <tr>\n",
       "      <th>1850</th>\n",
       "      <td>53</td>\n",
       "      <td>TONGTJI JASMINE 5 S</td>\n",
       "      <td>0.0</td>\n",
       "      <td>2023-12-31</td>\n",
       "    </tr>\n",
       "    <tr>\n",
       "      <th>1851</th>\n",
       "      <td>53</td>\n",
       "      <td>TWISTER MINI CPP 20GR</td>\n",
       "      <td>0.0</td>\n",
       "      <td>2023-12-31</td>\n",
       "    </tr>\n",
       "    <tr>\n",
       "      <th>1852</th>\n",
       "      <td>53</td>\n",
       "      <td>WAFELLO COCONUT 37 5G</td>\n",
       "      <td>1.0</td>\n",
       "      <td>2023-12-31</td>\n",
       "    </tr>\n",
       "    <tr>\n",
       "      <th>1853</th>\n",
       "      <td>53</td>\n",
       "      <td>WALLS POPULAIRE STR</td>\n",
       "      <td>0.0</td>\n",
       "      <td>2023-12-31</td>\n",
       "    </tr>\n",
       "    <tr>\n",
       "      <th>1854</th>\n",
       "      <td>53</td>\n",
       "      <td>YA KOPI SPESIAL 60GR</td>\n",
       "      <td>0.0</td>\n",
       "      <td>2023-12-31</td>\n",
       "    </tr>\n",
       "  </tbody>\n",
       "</table>\n",
       "<p>1855 rows × 4 columns</p>\n",
       "</div>"
      ],
      "text/plain": [
       "      WEEK_NUMBER             NAMA BARANG  QTY    TANGGAL\n",
       "0               1      BIG BLUEBRRY 375ML  1.0 2023-01-01\n",
       "1               1  CIPTADENT PG FRS 190ML  0.0 2023-01-01\n",
       "2               1     CLOUD 9 CHOCO 15 4G  0.0 2023-01-01\n",
       "3               1    CLOUD 9 VANILA 15 4G  0.0 2023-01-01\n",
       "4               1  DELFI TOP TRIP/CHO 9GR  0.0 2023-01-01\n",
       "...           ...                     ...  ...        ...\n",
       "1850           53     TONGTJI JASMINE 5 S  0.0 2023-12-31\n",
       "1851           53   TWISTER MINI CPP 20GR  0.0 2023-12-31\n",
       "1852           53   WAFELLO COCONUT 37 5G  1.0 2023-12-31\n",
       "1853           53     WALLS POPULAIRE STR  0.0 2023-12-31\n",
       "1854           53    YA KOPI SPESIAL 60GR  0.0 2023-12-31\n",
       "\n",
       "[1855 rows x 4 columns]"
      ]
     },
     "execution_count": 9,
     "metadata": {},
     "output_type": "execute_result"
    }
   ],
   "source": [
    "df_weekly"
   ]
  },
  {
   "cell_type": "markdown",
   "id": "bff02c0c",
   "metadata": {},
   "source": [
    "### **Pivot Data**"
   ]
  },
  {
   "cell_type": "code",
   "execution_count": 10,
   "id": "35339835",
   "metadata": {},
   "outputs": [
    {
     "data": {
      "text/html": [
       "<div>\n",
       "<style scoped>\n",
       "    .dataframe tbody tr th:only-of-type {\n",
       "        vertical-align: middle;\n",
       "    }\n",
       "\n",
       "    .dataframe tbody tr th {\n",
       "        vertical-align: top;\n",
       "    }\n",
       "\n",
       "    .dataframe thead th {\n",
       "        text-align: right;\n",
       "    }\n",
       "</style>\n",
       "<table border=\"1\" class=\"dataframe\">\n",
       "  <thead>\n",
       "    <tr style=\"text-align: right;\">\n",
       "      <th></th>\n",
       "      <th>TANGGAL</th>\n",
       "      <th>BIG BLUEBRRY 375ML</th>\n",
       "      <th>CIPTADENT PG FRS 190ML</th>\n",
       "      <th>CLOUD 9 CHOCO 15 4G</th>\n",
       "      <th>CLOUD 9 VANILA 15 4G</th>\n",
       "      <th>DELFI TOP TRIP/CHO 9GR</th>\n",
       "      <th>EKONOMI E900K</th>\n",
       "      <th>HARMONY LEMON</th>\n",
       "      <th>HARMONY MELON</th>\n",
       "      <th>HARMONY ORANGE</th>\n",
       "      <th>...</th>\n",
       "      <th>PARAMEX SKT KEPALA</th>\n",
       "      <th>PUCUK HARUM TEH 350ML</th>\n",
       "      <th>ROMA KELAPA 300GR</th>\n",
       "      <th>SUNSILK SHP BLK SHN 160ML</th>\n",
       "      <th>TEH GELAS ORI 170ML</th>\n",
       "      <th>TONGTJI JASMINE 5 S</th>\n",
       "      <th>TWISTER MINI CPP 20GR</th>\n",
       "      <th>WAFELLO COCONUT 37 5G</th>\n",
       "      <th>WALLS POPULAIRE STR</th>\n",
       "      <th>YA KOPI SPESIAL 60GR</th>\n",
       "    </tr>\n",
       "  </thead>\n",
       "  <tbody>\n",
       "    <tr>\n",
       "      <th>0</th>\n",
       "      <td>2023-01-01</td>\n",
       "      <td>1.0</td>\n",
       "      <td>0.0</td>\n",
       "      <td>0.0</td>\n",
       "      <td>0.0</td>\n",
       "      <td>0.0</td>\n",
       "      <td>6.0</td>\n",
       "      <td>3.0</td>\n",
       "      <td>0.0</td>\n",
       "      <td>3.0</td>\n",
       "      <td>...</td>\n",
       "      <td>3.0</td>\n",
       "      <td>65.0</td>\n",
       "      <td>11.0</td>\n",
       "      <td>1.0</td>\n",
       "      <td>2.0</td>\n",
       "      <td>7.0</td>\n",
       "      <td>6.0</td>\n",
       "      <td>0.0</td>\n",
       "      <td>20.0</td>\n",
       "      <td>4.0</td>\n",
       "    </tr>\n",
       "    <tr>\n",
       "      <th>1</th>\n",
       "      <td>2023-01-08</td>\n",
       "      <td>2.0</td>\n",
       "      <td>0.0</td>\n",
       "      <td>0.0</td>\n",
       "      <td>0.0</td>\n",
       "      <td>3.0</td>\n",
       "      <td>3.0</td>\n",
       "      <td>0.0</td>\n",
       "      <td>0.0</td>\n",
       "      <td>0.0</td>\n",
       "      <td>...</td>\n",
       "      <td>4.0</td>\n",
       "      <td>52.0</td>\n",
       "      <td>2.0</td>\n",
       "      <td>1.0</td>\n",
       "      <td>2.0</td>\n",
       "      <td>1.0</td>\n",
       "      <td>3.0</td>\n",
       "      <td>0.0</td>\n",
       "      <td>5.0</td>\n",
       "      <td>2.0</td>\n",
       "    </tr>\n",
       "    <tr>\n",
       "      <th>2</th>\n",
       "      <td>2023-01-15</td>\n",
       "      <td>4.0</td>\n",
       "      <td>0.0</td>\n",
       "      <td>0.0</td>\n",
       "      <td>0.0</td>\n",
       "      <td>4.0</td>\n",
       "      <td>2.0</td>\n",
       "      <td>3.0</td>\n",
       "      <td>0.0</td>\n",
       "      <td>0.0</td>\n",
       "      <td>...</td>\n",
       "      <td>0.0</td>\n",
       "      <td>41.0</td>\n",
       "      <td>5.0</td>\n",
       "      <td>1.0</td>\n",
       "      <td>0.0</td>\n",
       "      <td>0.0</td>\n",
       "      <td>1.0</td>\n",
       "      <td>0.0</td>\n",
       "      <td>8.0</td>\n",
       "      <td>3.0</td>\n",
       "    </tr>\n",
       "    <tr>\n",
       "      <th>3</th>\n",
       "      <td>2023-01-22</td>\n",
       "      <td>1.0</td>\n",
       "      <td>0.0</td>\n",
       "      <td>0.0</td>\n",
       "      <td>0.0</td>\n",
       "      <td>4.0</td>\n",
       "      <td>1.0</td>\n",
       "      <td>0.0</td>\n",
       "      <td>0.0</td>\n",
       "      <td>0.0</td>\n",
       "      <td>...</td>\n",
       "      <td>0.0</td>\n",
       "      <td>31.0</td>\n",
       "      <td>7.0</td>\n",
       "      <td>0.0</td>\n",
       "      <td>0.0</td>\n",
       "      <td>5.0</td>\n",
       "      <td>2.0</td>\n",
       "      <td>0.0</td>\n",
       "      <td>7.0</td>\n",
       "      <td>3.0</td>\n",
       "    </tr>\n",
       "    <tr>\n",
       "      <th>4</th>\n",
       "      <td>2023-01-29</td>\n",
       "      <td>1.0</td>\n",
       "      <td>0.0</td>\n",
       "      <td>5.0</td>\n",
       "      <td>6.0</td>\n",
       "      <td>7.0</td>\n",
       "      <td>5.0</td>\n",
       "      <td>1.0</td>\n",
       "      <td>0.0</td>\n",
       "      <td>4.0</td>\n",
       "      <td>...</td>\n",
       "      <td>2.0</td>\n",
       "      <td>42.0</td>\n",
       "      <td>11.0</td>\n",
       "      <td>3.0</td>\n",
       "      <td>0.0</td>\n",
       "      <td>4.0</td>\n",
       "      <td>4.0</td>\n",
       "      <td>0.0</td>\n",
       "      <td>6.0</td>\n",
       "      <td>6.0</td>\n",
       "    </tr>\n",
       "    <tr>\n",
       "      <th>5</th>\n",
       "      <td>2023-02-05</td>\n",
       "      <td>2.0</td>\n",
       "      <td>0.0</td>\n",
       "      <td>1.0</td>\n",
       "      <td>2.0</td>\n",
       "      <td>3.0</td>\n",
       "      <td>2.0</td>\n",
       "      <td>0.0</td>\n",
       "      <td>0.0</td>\n",
       "      <td>1.0</td>\n",
       "      <td>...</td>\n",
       "      <td>5.0</td>\n",
       "      <td>48.0</td>\n",
       "      <td>9.0</td>\n",
       "      <td>3.0</td>\n",
       "      <td>0.0</td>\n",
       "      <td>6.0</td>\n",
       "      <td>3.0</td>\n",
       "      <td>0.0</td>\n",
       "      <td>2.0</td>\n",
       "      <td>4.0</td>\n",
       "    </tr>\n",
       "    <tr>\n",
       "      <th>6</th>\n",
       "      <td>2023-02-12</td>\n",
       "      <td>0.0</td>\n",
       "      <td>0.0</td>\n",
       "      <td>5.0</td>\n",
       "      <td>2.0</td>\n",
       "      <td>4.0</td>\n",
       "      <td>3.0</td>\n",
       "      <td>0.0</td>\n",
       "      <td>0.0</td>\n",
       "      <td>0.0</td>\n",
       "      <td>...</td>\n",
       "      <td>2.0</td>\n",
       "      <td>33.0</td>\n",
       "      <td>6.0</td>\n",
       "      <td>0.0</td>\n",
       "      <td>0.0</td>\n",
       "      <td>8.0</td>\n",
       "      <td>5.0</td>\n",
       "      <td>0.0</td>\n",
       "      <td>5.0</td>\n",
       "      <td>5.0</td>\n",
       "    </tr>\n",
       "    <tr>\n",
       "      <th>7</th>\n",
       "      <td>2023-02-19</td>\n",
       "      <td>0.0</td>\n",
       "      <td>0.0</td>\n",
       "      <td>2.0</td>\n",
       "      <td>2.0</td>\n",
       "      <td>4.0</td>\n",
       "      <td>3.0</td>\n",
       "      <td>0.0</td>\n",
       "      <td>0.0</td>\n",
       "      <td>0.0</td>\n",
       "      <td>...</td>\n",
       "      <td>0.0</td>\n",
       "      <td>54.0</td>\n",
       "      <td>12.0</td>\n",
       "      <td>0.0</td>\n",
       "      <td>0.0</td>\n",
       "      <td>3.0</td>\n",
       "      <td>4.0</td>\n",
       "      <td>0.0</td>\n",
       "      <td>10.0</td>\n",
       "      <td>4.0</td>\n",
       "    </tr>\n",
       "    <tr>\n",
       "      <th>8</th>\n",
       "      <td>2023-02-26</td>\n",
       "      <td>1.0</td>\n",
       "      <td>0.0</td>\n",
       "      <td>1.0</td>\n",
       "      <td>2.0</td>\n",
       "      <td>0.0</td>\n",
       "      <td>3.0</td>\n",
       "      <td>0.0</td>\n",
       "      <td>0.0</td>\n",
       "      <td>0.0</td>\n",
       "      <td>...</td>\n",
       "      <td>6.0</td>\n",
       "      <td>41.0</td>\n",
       "      <td>5.0</td>\n",
       "      <td>3.0</td>\n",
       "      <td>0.0</td>\n",
       "      <td>10.0</td>\n",
       "      <td>4.0</td>\n",
       "      <td>0.0</td>\n",
       "      <td>10.0</td>\n",
       "      <td>3.0</td>\n",
       "    </tr>\n",
       "    <tr>\n",
       "      <th>9</th>\n",
       "      <td>2023-03-05</td>\n",
       "      <td>1.0</td>\n",
       "      <td>0.0</td>\n",
       "      <td>1.0</td>\n",
       "      <td>3.0</td>\n",
       "      <td>0.0</td>\n",
       "      <td>1.0</td>\n",
       "      <td>1.0</td>\n",
       "      <td>2.0</td>\n",
       "      <td>1.0</td>\n",
       "      <td>...</td>\n",
       "      <td>2.0</td>\n",
       "      <td>29.0</td>\n",
       "      <td>13.0</td>\n",
       "      <td>1.0</td>\n",
       "      <td>0.0</td>\n",
       "      <td>4.0</td>\n",
       "      <td>2.0</td>\n",
       "      <td>0.0</td>\n",
       "      <td>6.0</td>\n",
       "      <td>3.0</td>\n",
       "    </tr>\n",
       "    <tr>\n",
       "      <th>10</th>\n",
       "      <td>2023-03-12</td>\n",
       "      <td>3.0</td>\n",
       "      <td>0.0</td>\n",
       "      <td>4.0</td>\n",
       "      <td>1.0</td>\n",
       "      <td>3.0</td>\n",
       "      <td>3.0</td>\n",
       "      <td>1.0</td>\n",
       "      <td>0.0</td>\n",
       "      <td>0.0</td>\n",
       "      <td>...</td>\n",
       "      <td>6.0</td>\n",
       "      <td>58.0</td>\n",
       "      <td>9.0</td>\n",
       "      <td>1.0</td>\n",
       "      <td>0.0</td>\n",
       "      <td>1.0</td>\n",
       "      <td>4.0</td>\n",
       "      <td>0.0</td>\n",
       "      <td>12.0</td>\n",
       "      <td>2.0</td>\n",
       "    </tr>\n",
       "    <tr>\n",
       "      <th>11</th>\n",
       "      <td>2023-03-19</td>\n",
       "      <td>2.0</td>\n",
       "      <td>1.0</td>\n",
       "      <td>1.0</td>\n",
       "      <td>2.0</td>\n",
       "      <td>4.0</td>\n",
       "      <td>2.0</td>\n",
       "      <td>1.0</td>\n",
       "      <td>1.0</td>\n",
       "      <td>2.0</td>\n",
       "      <td>...</td>\n",
       "      <td>3.0</td>\n",
       "      <td>37.0</td>\n",
       "      <td>11.0</td>\n",
       "      <td>0.0</td>\n",
       "      <td>0.0</td>\n",
       "      <td>10.0</td>\n",
       "      <td>2.0</td>\n",
       "      <td>0.0</td>\n",
       "      <td>7.0</td>\n",
       "      <td>2.0</td>\n",
       "    </tr>\n",
       "    <tr>\n",
       "      <th>12</th>\n",
       "      <td>2023-03-26</td>\n",
       "      <td>1.0</td>\n",
       "      <td>2.0</td>\n",
       "      <td>0.0</td>\n",
       "      <td>4.0</td>\n",
       "      <td>2.0</td>\n",
       "      <td>3.0</td>\n",
       "      <td>1.0</td>\n",
       "      <td>3.0</td>\n",
       "      <td>0.0</td>\n",
       "      <td>...</td>\n",
       "      <td>4.0</td>\n",
       "      <td>28.0</td>\n",
       "      <td>13.0</td>\n",
       "      <td>1.0</td>\n",
       "      <td>0.0</td>\n",
       "      <td>1.0</td>\n",
       "      <td>6.0</td>\n",
       "      <td>0.0</td>\n",
       "      <td>9.0</td>\n",
       "      <td>4.0</td>\n",
       "    </tr>\n",
       "    <tr>\n",
       "      <th>13</th>\n",
       "      <td>2023-04-02</td>\n",
       "      <td>3.0</td>\n",
       "      <td>1.0</td>\n",
       "      <td>1.0</td>\n",
       "      <td>4.0</td>\n",
       "      <td>4.0</td>\n",
       "      <td>3.0</td>\n",
       "      <td>1.0</td>\n",
       "      <td>5.0</td>\n",
       "      <td>1.0</td>\n",
       "      <td>...</td>\n",
       "      <td>2.0</td>\n",
       "      <td>36.0</td>\n",
       "      <td>3.0</td>\n",
       "      <td>1.0</td>\n",
       "      <td>0.0</td>\n",
       "      <td>9.0</td>\n",
       "      <td>5.0</td>\n",
       "      <td>1.0</td>\n",
       "      <td>12.0</td>\n",
       "      <td>4.0</td>\n",
       "    </tr>\n",
       "    <tr>\n",
       "      <th>14</th>\n",
       "      <td>2023-04-09</td>\n",
       "      <td>3.0</td>\n",
       "      <td>0.0</td>\n",
       "      <td>1.0</td>\n",
       "      <td>3.0</td>\n",
       "      <td>3.0</td>\n",
       "      <td>2.0</td>\n",
       "      <td>3.0</td>\n",
       "      <td>0.0</td>\n",
       "      <td>3.0</td>\n",
       "      <td>...</td>\n",
       "      <td>5.0</td>\n",
       "      <td>31.0</td>\n",
       "      <td>4.0</td>\n",
       "      <td>0.0</td>\n",
       "      <td>0.0</td>\n",
       "      <td>2.0</td>\n",
       "      <td>0.0</td>\n",
       "      <td>19.0</td>\n",
       "      <td>15.0</td>\n",
       "      <td>5.0</td>\n",
       "    </tr>\n",
       "    <tr>\n",
       "      <th>15</th>\n",
       "      <td>2023-04-16</td>\n",
       "      <td>0.0</td>\n",
       "      <td>0.0</td>\n",
       "      <td>0.0</td>\n",
       "      <td>1.0</td>\n",
       "      <td>0.0</td>\n",
       "      <td>2.0</td>\n",
       "      <td>2.0</td>\n",
       "      <td>1.0</td>\n",
       "      <td>0.0</td>\n",
       "      <td>...</td>\n",
       "      <td>7.0</td>\n",
       "      <td>71.0</td>\n",
       "      <td>6.0</td>\n",
       "      <td>0.0</td>\n",
       "      <td>0.0</td>\n",
       "      <td>5.0</td>\n",
       "      <td>2.0</td>\n",
       "      <td>0.0</td>\n",
       "      <td>15.0</td>\n",
       "      <td>1.0</td>\n",
       "    </tr>\n",
       "    <tr>\n",
       "      <th>16</th>\n",
       "      <td>2023-04-23</td>\n",
       "      <td>3.0</td>\n",
       "      <td>0.0</td>\n",
       "      <td>0.0</td>\n",
       "      <td>1.0</td>\n",
       "      <td>5.0</td>\n",
       "      <td>2.0</td>\n",
       "      <td>0.0</td>\n",
       "      <td>0.0</td>\n",
       "      <td>0.0</td>\n",
       "      <td>...</td>\n",
       "      <td>4.0</td>\n",
       "      <td>51.0</td>\n",
       "      <td>4.0</td>\n",
       "      <td>1.0</td>\n",
       "      <td>0.0</td>\n",
       "      <td>2.0</td>\n",
       "      <td>0.0</td>\n",
       "      <td>0.0</td>\n",
       "      <td>2.0</td>\n",
       "      <td>3.0</td>\n",
       "    </tr>\n",
       "    <tr>\n",
       "      <th>17</th>\n",
       "      <td>2023-04-30</td>\n",
       "      <td>1.0</td>\n",
       "      <td>1.0</td>\n",
       "      <td>0.0</td>\n",
       "      <td>0.0</td>\n",
       "      <td>0.0</td>\n",
       "      <td>3.0</td>\n",
       "      <td>0.0</td>\n",
       "      <td>0.0</td>\n",
       "      <td>0.0</td>\n",
       "      <td>...</td>\n",
       "      <td>7.0</td>\n",
       "      <td>77.0</td>\n",
       "      <td>3.0</td>\n",
       "      <td>4.0</td>\n",
       "      <td>0.0</td>\n",
       "      <td>0.0</td>\n",
       "      <td>1.0</td>\n",
       "      <td>0.0</td>\n",
       "      <td>15.0</td>\n",
       "      <td>2.0</td>\n",
       "    </tr>\n",
       "    <tr>\n",
       "      <th>18</th>\n",
       "      <td>2023-05-07</td>\n",
       "      <td>0.0</td>\n",
       "      <td>0.0</td>\n",
       "      <td>0.0</td>\n",
       "      <td>0.0</td>\n",
       "      <td>2.0</td>\n",
       "      <td>2.0</td>\n",
       "      <td>0.0</td>\n",
       "      <td>0.0</td>\n",
       "      <td>6.0</td>\n",
       "      <td>...</td>\n",
       "      <td>5.0</td>\n",
       "      <td>80.0</td>\n",
       "      <td>2.0</td>\n",
       "      <td>2.0</td>\n",
       "      <td>0.0</td>\n",
       "      <td>7.0</td>\n",
       "      <td>0.0</td>\n",
       "      <td>1.0</td>\n",
       "      <td>21.0</td>\n",
       "      <td>3.0</td>\n",
       "    </tr>\n",
       "    <tr>\n",
       "      <th>19</th>\n",
       "      <td>2023-05-14</td>\n",
       "      <td>3.0</td>\n",
       "      <td>0.0</td>\n",
       "      <td>1.0</td>\n",
       "      <td>0.0</td>\n",
       "      <td>0.0</td>\n",
       "      <td>0.0</td>\n",
       "      <td>1.0</td>\n",
       "      <td>0.0</td>\n",
       "      <td>0.0</td>\n",
       "      <td>...</td>\n",
       "      <td>9.0</td>\n",
       "      <td>24.0</td>\n",
       "      <td>6.0</td>\n",
       "      <td>1.0</td>\n",
       "      <td>0.0</td>\n",
       "      <td>2.0</td>\n",
       "      <td>0.0</td>\n",
       "      <td>0.0</td>\n",
       "      <td>10.0</td>\n",
       "      <td>2.0</td>\n",
       "    </tr>\n",
       "    <tr>\n",
       "      <th>20</th>\n",
       "      <td>2023-05-21</td>\n",
       "      <td>1.0</td>\n",
       "      <td>0.0</td>\n",
       "      <td>0.0</td>\n",
       "      <td>1.0</td>\n",
       "      <td>3.0</td>\n",
       "      <td>2.0</td>\n",
       "      <td>1.0</td>\n",
       "      <td>0.0</td>\n",
       "      <td>0.0</td>\n",
       "      <td>...</td>\n",
       "      <td>3.0</td>\n",
       "      <td>44.0</td>\n",
       "      <td>7.0</td>\n",
       "      <td>0.0</td>\n",
       "      <td>0.0</td>\n",
       "      <td>2.0</td>\n",
       "      <td>3.0</td>\n",
       "      <td>3.0</td>\n",
       "      <td>9.0</td>\n",
       "      <td>3.0</td>\n",
       "    </tr>\n",
       "    <tr>\n",
       "      <th>21</th>\n",
       "      <td>2023-05-28</td>\n",
       "      <td>5.0</td>\n",
       "      <td>1.0</td>\n",
       "      <td>0.0</td>\n",
       "      <td>4.0</td>\n",
       "      <td>3.0</td>\n",
       "      <td>1.0</td>\n",
       "      <td>0.0</td>\n",
       "      <td>3.0</td>\n",
       "      <td>0.0</td>\n",
       "      <td>...</td>\n",
       "      <td>4.0</td>\n",
       "      <td>103.0</td>\n",
       "      <td>6.0</td>\n",
       "      <td>3.0</td>\n",
       "      <td>0.0</td>\n",
       "      <td>4.0</td>\n",
       "      <td>1.0</td>\n",
       "      <td>1.0</td>\n",
       "      <td>13.0</td>\n",
       "      <td>3.0</td>\n",
       "    </tr>\n",
       "    <tr>\n",
       "      <th>22</th>\n",
       "      <td>2023-06-04</td>\n",
       "      <td>3.0</td>\n",
       "      <td>1.0</td>\n",
       "      <td>2.0</td>\n",
       "      <td>1.0</td>\n",
       "      <td>3.0</td>\n",
       "      <td>2.0</td>\n",
       "      <td>4.0</td>\n",
       "      <td>0.0</td>\n",
       "      <td>2.0</td>\n",
       "      <td>...</td>\n",
       "      <td>4.0</td>\n",
       "      <td>67.0</td>\n",
       "      <td>8.0</td>\n",
       "      <td>1.0</td>\n",
       "      <td>0.0</td>\n",
       "      <td>1.0</td>\n",
       "      <td>2.0</td>\n",
       "      <td>2.0</td>\n",
       "      <td>8.0</td>\n",
       "      <td>1.0</td>\n",
       "    </tr>\n",
       "    <tr>\n",
       "      <th>23</th>\n",
       "      <td>2023-06-11</td>\n",
       "      <td>2.0</td>\n",
       "      <td>0.0</td>\n",
       "      <td>0.0</td>\n",
       "      <td>2.0</td>\n",
       "      <td>4.0</td>\n",
       "      <td>1.0</td>\n",
       "      <td>1.0</td>\n",
       "      <td>0.0</td>\n",
       "      <td>0.0</td>\n",
       "      <td>...</td>\n",
       "      <td>1.0</td>\n",
       "      <td>43.0</td>\n",
       "      <td>5.0</td>\n",
       "      <td>0.0</td>\n",
       "      <td>0.0</td>\n",
       "      <td>2.0</td>\n",
       "      <td>2.0</td>\n",
       "      <td>4.0</td>\n",
       "      <td>8.0</td>\n",
       "      <td>7.0</td>\n",
       "    </tr>\n",
       "    <tr>\n",
       "      <th>24</th>\n",
       "      <td>2023-06-18</td>\n",
       "      <td>0.0</td>\n",
       "      <td>0.0</td>\n",
       "      <td>1.0</td>\n",
       "      <td>1.0</td>\n",
       "      <td>2.0</td>\n",
       "      <td>2.0</td>\n",
       "      <td>1.0</td>\n",
       "      <td>0.0</td>\n",
       "      <td>0.0</td>\n",
       "      <td>...</td>\n",
       "      <td>3.0</td>\n",
       "      <td>34.0</td>\n",
       "      <td>6.0</td>\n",
       "      <td>1.0</td>\n",
       "      <td>0.0</td>\n",
       "      <td>1.0</td>\n",
       "      <td>4.0</td>\n",
       "      <td>5.0</td>\n",
       "      <td>6.0</td>\n",
       "      <td>4.0</td>\n",
       "    </tr>\n",
       "    <tr>\n",
       "      <th>25</th>\n",
       "      <td>2023-06-25</td>\n",
       "      <td>1.0</td>\n",
       "      <td>2.0</td>\n",
       "      <td>0.0</td>\n",
       "      <td>0.0</td>\n",
       "      <td>3.0</td>\n",
       "      <td>0.0</td>\n",
       "      <td>2.0</td>\n",
       "      <td>3.0</td>\n",
       "      <td>2.0</td>\n",
       "      <td>...</td>\n",
       "      <td>6.0</td>\n",
       "      <td>67.0</td>\n",
       "      <td>6.0</td>\n",
       "      <td>3.0</td>\n",
       "      <td>0.0</td>\n",
       "      <td>3.0</td>\n",
       "      <td>4.0</td>\n",
       "      <td>0.0</td>\n",
       "      <td>11.0</td>\n",
       "      <td>4.0</td>\n",
       "    </tr>\n",
       "    <tr>\n",
       "      <th>26</th>\n",
       "      <td>2023-07-02</td>\n",
       "      <td>3.0</td>\n",
       "      <td>0.0</td>\n",
       "      <td>1.0</td>\n",
       "      <td>0.0</td>\n",
       "      <td>5.0</td>\n",
       "      <td>4.0</td>\n",
       "      <td>5.0</td>\n",
       "      <td>4.0</td>\n",
       "      <td>0.0</td>\n",
       "      <td>...</td>\n",
       "      <td>1.0</td>\n",
       "      <td>64.0</td>\n",
       "      <td>6.0</td>\n",
       "      <td>0.0</td>\n",
       "      <td>0.0</td>\n",
       "      <td>2.0</td>\n",
       "      <td>3.0</td>\n",
       "      <td>1.0</td>\n",
       "      <td>11.0</td>\n",
       "      <td>0.0</td>\n",
       "    </tr>\n",
       "    <tr>\n",
       "      <th>27</th>\n",
       "      <td>2023-07-09</td>\n",
       "      <td>3.0</td>\n",
       "      <td>2.0</td>\n",
       "      <td>0.0</td>\n",
       "      <td>3.0</td>\n",
       "      <td>5.0</td>\n",
       "      <td>0.0</td>\n",
       "      <td>1.0</td>\n",
       "      <td>1.0</td>\n",
       "      <td>2.0</td>\n",
       "      <td>...</td>\n",
       "      <td>1.0</td>\n",
       "      <td>37.0</td>\n",
       "      <td>9.0</td>\n",
       "      <td>3.0</td>\n",
       "      <td>0.0</td>\n",
       "      <td>3.0</td>\n",
       "      <td>1.0</td>\n",
       "      <td>3.0</td>\n",
       "      <td>14.0</td>\n",
       "      <td>3.0</td>\n",
       "    </tr>\n",
       "    <tr>\n",
       "      <th>28</th>\n",
       "      <td>2023-07-16</td>\n",
       "      <td>2.0</td>\n",
       "      <td>2.0</td>\n",
       "      <td>13.0</td>\n",
       "      <td>16.0</td>\n",
       "      <td>6.0</td>\n",
       "      <td>3.0</td>\n",
       "      <td>0.0</td>\n",
       "      <td>0.0</td>\n",
       "      <td>1.0</td>\n",
       "      <td>...</td>\n",
       "      <td>2.0</td>\n",
       "      <td>29.0</td>\n",
       "      <td>5.0</td>\n",
       "      <td>0.0</td>\n",
       "      <td>0.0</td>\n",
       "      <td>3.0</td>\n",
       "      <td>1.0</td>\n",
       "      <td>2.0</td>\n",
       "      <td>19.0</td>\n",
       "      <td>3.0</td>\n",
       "    </tr>\n",
       "    <tr>\n",
       "      <th>29</th>\n",
       "      <td>2023-07-23</td>\n",
       "      <td>1.0</td>\n",
       "      <td>1.0</td>\n",
       "      <td>10.0</td>\n",
       "      <td>3.0</td>\n",
       "      <td>2.0</td>\n",
       "      <td>0.0</td>\n",
       "      <td>2.0</td>\n",
       "      <td>3.0</td>\n",
       "      <td>1.0</td>\n",
       "      <td>...</td>\n",
       "      <td>0.0</td>\n",
       "      <td>31.0</td>\n",
       "      <td>3.0</td>\n",
       "      <td>3.0</td>\n",
       "      <td>2.0</td>\n",
       "      <td>3.0</td>\n",
       "      <td>4.0</td>\n",
       "      <td>3.0</td>\n",
       "      <td>8.0</td>\n",
       "      <td>2.0</td>\n",
       "    </tr>\n",
       "    <tr>\n",
       "      <th>30</th>\n",
       "      <td>2023-07-30</td>\n",
       "      <td>0.0</td>\n",
       "      <td>2.0</td>\n",
       "      <td>9.0</td>\n",
       "      <td>12.0</td>\n",
       "      <td>5.0</td>\n",
       "      <td>1.0</td>\n",
       "      <td>2.0</td>\n",
       "      <td>3.0</td>\n",
       "      <td>2.0</td>\n",
       "      <td>...</td>\n",
       "      <td>6.0</td>\n",
       "      <td>36.0</td>\n",
       "      <td>9.0</td>\n",
       "      <td>1.0</td>\n",
       "      <td>6.0</td>\n",
       "      <td>3.0</td>\n",
       "      <td>3.0</td>\n",
       "      <td>2.0</td>\n",
       "      <td>16.0</td>\n",
       "      <td>0.0</td>\n",
       "    </tr>\n",
       "    <tr>\n",
       "      <th>31</th>\n",
       "      <td>2023-08-06</td>\n",
       "      <td>0.0</td>\n",
       "      <td>1.0</td>\n",
       "      <td>2.0</td>\n",
       "      <td>7.0</td>\n",
       "      <td>4.0</td>\n",
       "      <td>0.0</td>\n",
       "      <td>0.0</td>\n",
       "      <td>1.0</td>\n",
       "      <td>0.0</td>\n",
       "      <td>...</td>\n",
       "      <td>2.0</td>\n",
       "      <td>16.0</td>\n",
       "      <td>4.0</td>\n",
       "      <td>1.0</td>\n",
       "      <td>4.0</td>\n",
       "      <td>4.0</td>\n",
       "      <td>5.0</td>\n",
       "      <td>1.0</td>\n",
       "      <td>8.0</td>\n",
       "      <td>9.0</td>\n",
       "    </tr>\n",
       "    <tr>\n",
       "      <th>32</th>\n",
       "      <td>2023-08-13</td>\n",
       "      <td>0.0</td>\n",
       "      <td>0.0</td>\n",
       "      <td>9.0</td>\n",
       "      <td>4.0</td>\n",
       "      <td>1.0</td>\n",
       "      <td>2.0</td>\n",
       "      <td>1.0</td>\n",
       "      <td>1.0</td>\n",
       "      <td>0.0</td>\n",
       "      <td>...</td>\n",
       "      <td>5.0</td>\n",
       "      <td>54.0</td>\n",
       "      <td>3.0</td>\n",
       "      <td>2.0</td>\n",
       "      <td>4.0</td>\n",
       "      <td>11.0</td>\n",
       "      <td>0.0</td>\n",
       "      <td>3.0</td>\n",
       "      <td>7.0</td>\n",
       "      <td>5.0</td>\n",
       "    </tr>\n",
       "    <tr>\n",
       "      <th>33</th>\n",
       "      <td>2023-08-20</td>\n",
       "      <td>0.0</td>\n",
       "      <td>0.0</td>\n",
       "      <td>16.0</td>\n",
       "      <td>3.0</td>\n",
       "      <td>2.0</td>\n",
       "      <td>1.0</td>\n",
       "      <td>1.0</td>\n",
       "      <td>0.0</td>\n",
       "      <td>0.0</td>\n",
       "      <td>...</td>\n",
       "      <td>2.0</td>\n",
       "      <td>38.0</td>\n",
       "      <td>3.0</td>\n",
       "      <td>1.0</td>\n",
       "      <td>7.0</td>\n",
       "      <td>2.0</td>\n",
       "      <td>1.0</td>\n",
       "      <td>2.0</td>\n",
       "      <td>15.0</td>\n",
       "      <td>4.0</td>\n",
       "    </tr>\n",
       "    <tr>\n",
       "      <th>34</th>\n",
       "      <td>2023-08-27</td>\n",
       "      <td>0.0</td>\n",
       "      <td>2.0</td>\n",
       "      <td>3.0</td>\n",
       "      <td>5.0</td>\n",
       "      <td>2.0</td>\n",
       "      <td>2.0</td>\n",
       "      <td>3.0</td>\n",
       "      <td>5.0</td>\n",
       "      <td>1.0</td>\n",
       "      <td>...</td>\n",
       "      <td>6.0</td>\n",
       "      <td>33.0</td>\n",
       "      <td>2.0</td>\n",
       "      <td>2.0</td>\n",
       "      <td>2.0</td>\n",
       "      <td>3.0</td>\n",
       "      <td>1.0</td>\n",
       "      <td>0.0</td>\n",
       "      <td>15.0</td>\n",
       "      <td>6.0</td>\n",
       "    </tr>\n",
       "    <tr>\n",
       "      <th>35</th>\n",
       "      <td>2023-09-03</td>\n",
       "      <td>0.0</td>\n",
       "      <td>1.0</td>\n",
       "      <td>4.0</td>\n",
       "      <td>3.0</td>\n",
       "      <td>4.0</td>\n",
       "      <td>3.0</td>\n",
       "      <td>1.0</td>\n",
       "      <td>3.0</td>\n",
       "      <td>2.0</td>\n",
       "      <td>...</td>\n",
       "      <td>0.0</td>\n",
       "      <td>55.0</td>\n",
       "      <td>9.0</td>\n",
       "      <td>1.0</td>\n",
       "      <td>9.0</td>\n",
       "      <td>2.0</td>\n",
       "      <td>1.0</td>\n",
       "      <td>2.0</td>\n",
       "      <td>12.0</td>\n",
       "      <td>8.0</td>\n",
       "    </tr>\n",
       "    <tr>\n",
       "      <th>36</th>\n",
       "      <td>2023-09-10</td>\n",
       "      <td>1.0</td>\n",
       "      <td>2.0</td>\n",
       "      <td>0.0</td>\n",
       "      <td>6.0</td>\n",
       "      <td>0.0</td>\n",
       "      <td>1.0</td>\n",
       "      <td>1.0</td>\n",
       "      <td>1.0</td>\n",
       "      <td>2.0</td>\n",
       "      <td>...</td>\n",
       "      <td>4.0</td>\n",
       "      <td>42.0</td>\n",
       "      <td>6.0</td>\n",
       "      <td>1.0</td>\n",
       "      <td>12.0</td>\n",
       "      <td>0.0</td>\n",
       "      <td>0.0</td>\n",
       "      <td>5.0</td>\n",
       "      <td>13.0</td>\n",
       "      <td>5.0</td>\n",
       "    </tr>\n",
       "    <tr>\n",
       "      <th>37</th>\n",
       "      <td>2023-09-17</td>\n",
       "      <td>0.0</td>\n",
       "      <td>1.0</td>\n",
       "      <td>6.0</td>\n",
       "      <td>3.0</td>\n",
       "      <td>10.0</td>\n",
       "      <td>2.0</td>\n",
       "      <td>1.0</td>\n",
       "      <td>1.0</td>\n",
       "      <td>2.0</td>\n",
       "      <td>...</td>\n",
       "      <td>2.0</td>\n",
       "      <td>36.0</td>\n",
       "      <td>5.0</td>\n",
       "      <td>0.0</td>\n",
       "      <td>0.0</td>\n",
       "      <td>7.0</td>\n",
       "      <td>0.0</td>\n",
       "      <td>3.0</td>\n",
       "      <td>8.0</td>\n",
       "      <td>5.0</td>\n",
       "    </tr>\n",
       "    <tr>\n",
       "      <th>38</th>\n",
       "      <td>2023-09-24</td>\n",
       "      <td>1.0</td>\n",
       "      <td>6.0</td>\n",
       "      <td>6.0</td>\n",
       "      <td>13.0</td>\n",
       "      <td>0.0</td>\n",
       "      <td>3.0</td>\n",
       "      <td>0.0</td>\n",
       "      <td>4.0</td>\n",
       "      <td>1.0</td>\n",
       "      <td>...</td>\n",
       "      <td>4.0</td>\n",
       "      <td>53.0</td>\n",
       "      <td>7.0</td>\n",
       "      <td>2.0</td>\n",
       "      <td>1.0</td>\n",
       "      <td>0.0</td>\n",
       "      <td>0.0</td>\n",
       "      <td>0.0</td>\n",
       "      <td>11.0</td>\n",
       "      <td>0.0</td>\n",
       "    </tr>\n",
       "    <tr>\n",
       "      <th>39</th>\n",
       "      <td>2023-10-01</td>\n",
       "      <td>4.0</td>\n",
       "      <td>2.0</td>\n",
       "      <td>7.0</td>\n",
       "      <td>5.0</td>\n",
       "      <td>8.0</td>\n",
       "      <td>3.0</td>\n",
       "      <td>0.0</td>\n",
       "      <td>2.0</td>\n",
       "      <td>2.0</td>\n",
       "      <td>...</td>\n",
       "      <td>2.0</td>\n",
       "      <td>41.0</td>\n",
       "      <td>5.0</td>\n",
       "      <td>0.0</td>\n",
       "      <td>7.0</td>\n",
       "      <td>7.0</td>\n",
       "      <td>3.0</td>\n",
       "      <td>2.0</td>\n",
       "      <td>11.0</td>\n",
       "      <td>1.0</td>\n",
       "    </tr>\n",
       "    <tr>\n",
       "      <th>40</th>\n",
       "      <td>2023-10-08</td>\n",
       "      <td>1.0</td>\n",
       "      <td>2.0</td>\n",
       "      <td>3.0</td>\n",
       "      <td>2.0</td>\n",
       "      <td>1.0</td>\n",
       "      <td>0.0</td>\n",
       "      <td>0.0</td>\n",
       "      <td>2.0</td>\n",
       "      <td>3.0</td>\n",
       "      <td>...</td>\n",
       "      <td>2.0</td>\n",
       "      <td>46.0</td>\n",
       "      <td>6.0</td>\n",
       "      <td>0.0</td>\n",
       "      <td>5.0</td>\n",
       "      <td>3.0</td>\n",
       "      <td>3.0</td>\n",
       "      <td>1.0</td>\n",
       "      <td>5.0</td>\n",
       "      <td>2.0</td>\n",
       "    </tr>\n",
       "    <tr>\n",
       "      <th>41</th>\n",
       "      <td>2023-10-15</td>\n",
       "      <td>1.0</td>\n",
       "      <td>0.0</td>\n",
       "      <td>9.0</td>\n",
       "      <td>1.0</td>\n",
       "      <td>0.0</td>\n",
       "      <td>2.0</td>\n",
       "      <td>1.0</td>\n",
       "      <td>4.0</td>\n",
       "      <td>1.0</td>\n",
       "      <td>...</td>\n",
       "      <td>3.0</td>\n",
       "      <td>40.0</td>\n",
       "      <td>4.0</td>\n",
       "      <td>0.0</td>\n",
       "      <td>2.0</td>\n",
       "      <td>0.0</td>\n",
       "      <td>3.0</td>\n",
       "      <td>3.0</td>\n",
       "      <td>1.0</td>\n",
       "      <td>5.0</td>\n",
       "    </tr>\n",
       "    <tr>\n",
       "      <th>42</th>\n",
       "      <td>2023-10-22</td>\n",
       "      <td>2.0</td>\n",
       "      <td>2.0</td>\n",
       "      <td>2.0</td>\n",
       "      <td>2.0</td>\n",
       "      <td>1.0</td>\n",
       "      <td>0.0</td>\n",
       "      <td>2.0</td>\n",
       "      <td>3.0</td>\n",
       "      <td>1.0</td>\n",
       "      <td>...</td>\n",
       "      <td>3.0</td>\n",
       "      <td>36.0</td>\n",
       "      <td>2.0</td>\n",
       "      <td>1.0</td>\n",
       "      <td>7.0</td>\n",
       "      <td>0.0</td>\n",
       "      <td>4.0</td>\n",
       "      <td>7.0</td>\n",
       "      <td>4.0</td>\n",
       "      <td>5.0</td>\n",
       "    </tr>\n",
       "    <tr>\n",
       "      <th>43</th>\n",
       "      <td>2023-10-29</td>\n",
       "      <td>10.0</td>\n",
       "      <td>2.0</td>\n",
       "      <td>9.0</td>\n",
       "      <td>6.0</td>\n",
       "      <td>6.0</td>\n",
       "      <td>5.0</td>\n",
       "      <td>6.0</td>\n",
       "      <td>2.0</td>\n",
       "      <td>3.0</td>\n",
       "      <td>...</td>\n",
       "      <td>6.0</td>\n",
       "      <td>52.0</td>\n",
       "      <td>4.0</td>\n",
       "      <td>1.0</td>\n",
       "      <td>7.0</td>\n",
       "      <td>0.0</td>\n",
       "      <td>0.0</td>\n",
       "      <td>1.0</td>\n",
       "      <td>9.0</td>\n",
       "      <td>8.0</td>\n",
       "    </tr>\n",
       "    <tr>\n",
       "      <th>44</th>\n",
       "      <td>2023-11-05</td>\n",
       "      <td>1.0</td>\n",
       "      <td>1.0</td>\n",
       "      <td>3.0</td>\n",
       "      <td>4.0</td>\n",
       "      <td>1.0</td>\n",
       "      <td>1.0</td>\n",
       "      <td>2.0</td>\n",
       "      <td>2.0</td>\n",
       "      <td>1.0</td>\n",
       "      <td>...</td>\n",
       "      <td>3.0</td>\n",
       "      <td>96.0</td>\n",
       "      <td>5.0</td>\n",
       "      <td>0.0</td>\n",
       "      <td>0.0</td>\n",
       "      <td>6.0</td>\n",
       "      <td>4.0</td>\n",
       "      <td>3.0</td>\n",
       "      <td>7.0</td>\n",
       "      <td>1.0</td>\n",
       "    </tr>\n",
       "    <tr>\n",
       "      <th>45</th>\n",
       "      <td>2023-11-12</td>\n",
       "      <td>4.0</td>\n",
       "      <td>5.0</td>\n",
       "      <td>1.0</td>\n",
       "      <td>7.0</td>\n",
       "      <td>1.0</td>\n",
       "      <td>3.0</td>\n",
       "      <td>3.0</td>\n",
       "      <td>7.0</td>\n",
       "      <td>4.0</td>\n",
       "      <td>...</td>\n",
       "      <td>5.0</td>\n",
       "      <td>76.0</td>\n",
       "      <td>4.0</td>\n",
       "      <td>0.0</td>\n",
       "      <td>6.0</td>\n",
       "      <td>2.0</td>\n",
       "      <td>0.0</td>\n",
       "      <td>0.0</td>\n",
       "      <td>11.0</td>\n",
       "      <td>2.0</td>\n",
       "    </tr>\n",
       "    <tr>\n",
       "      <th>46</th>\n",
       "      <td>2023-11-19</td>\n",
       "      <td>7.0</td>\n",
       "      <td>3.0</td>\n",
       "      <td>3.0</td>\n",
       "      <td>3.0</td>\n",
       "      <td>1.0</td>\n",
       "      <td>2.0</td>\n",
       "      <td>2.0</td>\n",
       "      <td>0.0</td>\n",
       "      <td>2.0</td>\n",
       "      <td>...</td>\n",
       "      <td>2.0</td>\n",
       "      <td>37.0</td>\n",
       "      <td>4.0</td>\n",
       "      <td>0.0</td>\n",
       "      <td>3.0</td>\n",
       "      <td>5.0</td>\n",
       "      <td>4.0</td>\n",
       "      <td>2.0</td>\n",
       "      <td>14.0</td>\n",
       "      <td>4.0</td>\n",
       "    </tr>\n",
       "    <tr>\n",
       "      <th>47</th>\n",
       "      <td>2023-11-26</td>\n",
       "      <td>0.0</td>\n",
       "      <td>5.0</td>\n",
       "      <td>1.0</td>\n",
       "      <td>2.0</td>\n",
       "      <td>6.0</td>\n",
       "      <td>2.0</td>\n",
       "      <td>3.0</td>\n",
       "      <td>4.0</td>\n",
       "      <td>7.0</td>\n",
       "      <td>...</td>\n",
       "      <td>3.0</td>\n",
       "      <td>53.0</td>\n",
       "      <td>13.0</td>\n",
       "      <td>2.0</td>\n",
       "      <td>8.0</td>\n",
       "      <td>6.0</td>\n",
       "      <td>4.0</td>\n",
       "      <td>4.0</td>\n",
       "      <td>12.0</td>\n",
       "      <td>13.0</td>\n",
       "    </tr>\n",
       "    <tr>\n",
       "      <th>48</th>\n",
       "      <td>2023-12-03</td>\n",
       "      <td>0.0</td>\n",
       "      <td>4.0</td>\n",
       "      <td>2.0</td>\n",
       "      <td>2.0</td>\n",
       "      <td>5.0</td>\n",
       "      <td>6.0</td>\n",
       "      <td>4.0</td>\n",
       "      <td>10.0</td>\n",
       "      <td>5.0</td>\n",
       "      <td>...</td>\n",
       "      <td>1.0</td>\n",
       "      <td>23.0</td>\n",
       "      <td>3.0</td>\n",
       "      <td>0.0</td>\n",
       "      <td>6.0</td>\n",
       "      <td>2.0</td>\n",
       "      <td>1.0</td>\n",
       "      <td>5.0</td>\n",
       "      <td>0.0</td>\n",
       "      <td>0.0</td>\n",
       "    </tr>\n",
       "    <tr>\n",
       "      <th>49</th>\n",
       "      <td>2023-12-10</td>\n",
       "      <td>0.0</td>\n",
       "      <td>3.0</td>\n",
       "      <td>4.0</td>\n",
       "      <td>2.0</td>\n",
       "      <td>9.0</td>\n",
       "      <td>1.0</td>\n",
       "      <td>1.0</td>\n",
       "      <td>0.0</td>\n",
       "      <td>1.0</td>\n",
       "      <td>...</td>\n",
       "      <td>0.0</td>\n",
       "      <td>41.0</td>\n",
       "      <td>2.0</td>\n",
       "      <td>1.0</td>\n",
       "      <td>7.0</td>\n",
       "      <td>4.0</td>\n",
       "      <td>0.0</td>\n",
       "      <td>2.0</td>\n",
       "      <td>7.0</td>\n",
       "      <td>4.0</td>\n",
       "    </tr>\n",
       "    <tr>\n",
       "      <th>50</th>\n",
       "      <td>2023-12-17</td>\n",
       "      <td>0.0</td>\n",
       "      <td>0.0</td>\n",
       "      <td>3.0</td>\n",
       "      <td>1.0</td>\n",
       "      <td>3.0</td>\n",
       "      <td>1.0</td>\n",
       "      <td>0.0</td>\n",
       "      <td>2.0</td>\n",
       "      <td>10.0</td>\n",
       "      <td>...</td>\n",
       "      <td>2.0</td>\n",
       "      <td>34.0</td>\n",
       "      <td>6.0</td>\n",
       "      <td>0.0</td>\n",
       "      <td>12.0</td>\n",
       "      <td>4.0</td>\n",
       "      <td>1.0</td>\n",
       "      <td>7.0</td>\n",
       "      <td>11.0</td>\n",
       "      <td>2.0</td>\n",
       "    </tr>\n",
       "    <tr>\n",
       "      <th>51</th>\n",
       "      <td>2023-12-24</td>\n",
       "      <td>1.0</td>\n",
       "      <td>3.0</td>\n",
       "      <td>4.0</td>\n",
       "      <td>6.0</td>\n",
       "      <td>1.0</td>\n",
       "      <td>1.0</td>\n",
       "      <td>2.0</td>\n",
       "      <td>2.0</td>\n",
       "      <td>4.0</td>\n",
       "      <td>...</td>\n",
       "      <td>2.0</td>\n",
       "      <td>19.0</td>\n",
       "      <td>12.0</td>\n",
       "      <td>1.0</td>\n",
       "      <td>14.0</td>\n",
       "      <td>2.0</td>\n",
       "      <td>2.0</td>\n",
       "      <td>2.0</td>\n",
       "      <td>12.0</td>\n",
       "      <td>3.0</td>\n",
       "    </tr>\n",
       "    <tr>\n",
       "      <th>52</th>\n",
       "      <td>2023-12-31</td>\n",
       "      <td>0.0</td>\n",
       "      <td>2.0</td>\n",
       "      <td>1.0</td>\n",
       "      <td>1.0</td>\n",
       "      <td>0.0</td>\n",
       "      <td>0.0</td>\n",
       "      <td>2.0</td>\n",
       "      <td>4.0</td>\n",
       "      <td>0.0</td>\n",
       "      <td>...</td>\n",
       "      <td>0.0</td>\n",
       "      <td>2.0</td>\n",
       "      <td>1.0</td>\n",
       "      <td>0.0</td>\n",
       "      <td>3.0</td>\n",
       "      <td>0.0</td>\n",
       "      <td>0.0</td>\n",
       "      <td>1.0</td>\n",
       "      <td>0.0</td>\n",
       "      <td>0.0</td>\n",
       "    </tr>\n",
       "  </tbody>\n",
       "</table>\n",
       "<p>53 rows × 36 columns</p>\n",
       "</div>"
      ],
      "text/plain": [
       "      TANGGAL  BIG BLUEBRRY 375ML  CIPTADENT PG FRS 190ML  \\\n",
       "0  2023-01-01                 1.0                     0.0   \n",
       "1  2023-01-08                 2.0                     0.0   \n",
       "2  2023-01-15                 4.0                     0.0   \n",
       "3  2023-01-22                 1.0                     0.0   \n",
       "4  2023-01-29                 1.0                     0.0   \n",
       "5  2023-02-05                 2.0                     0.0   \n",
       "6  2023-02-12                 0.0                     0.0   \n",
       "7  2023-02-19                 0.0                     0.0   \n",
       "8  2023-02-26                 1.0                     0.0   \n",
       "9  2023-03-05                 1.0                     0.0   \n",
       "10 2023-03-12                 3.0                     0.0   \n",
       "11 2023-03-19                 2.0                     1.0   \n",
       "12 2023-03-26                 1.0                     2.0   \n",
       "13 2023-04-02                 3.0                     1.0   \n",
       "14 2023-04-09                 3.0                     0.0   \n",
       "15 2023-04-16                 0.0                     0.0   \n",
       "16 2023-04-23                 3.0                     0.0   \n",
       "17 2023-04-30                 1.0                     1.0   \n",
       "18 2023-05-07                 0.0                     0.0   \n",
       "19 2023-05-14                 3.0                     0.0   \n",
       "20 2023-05-21                 1.0                     0.0   \n",
       "21 2023-05-28                 5.0                     1.0   \n",
       "22 2023-06-04                 3.0                     1.0   \n",
       "23 2023-06-11                 2.0                     0.0   \n",
       "24 2023-06-18                 0.0                     0.0   \n",
       "25 2023-06-25                 1.0                     2.0   \n",
       "26 2023-07-02                 3.0                     0.0   \n",
       "27 2023-07-09                 3.0                     2.0   \n",
       "28 2023-07-16                 2.0                     2.0   \n",
       "29 2023-07-23                 1.0                     1.0   \n",
       "30 2023-07-30                 0.0                     2.0   \n",
       "31 2023-08-06                 0.0                     1.0   \n",
       "32 2023-08-13                 0.0                     0.0   \n",
       "33 2023-08-20                 0.0                     0.0   \n",
       "34 2023-08-27                 0.0                     2.0   \n",
       "35 2023-09-03                 0.0                     1.0   \n",
       "36 2023-09-10                 1.0                     2.0   \n",
       "37 2023-09-17                 0.0                     1.0   \n",
       "38 2023-09-24                 1.0                     6.0   \n",
       "39 2023-10-01                 4.0                     2.0   \n",
       "40 2023-10-08                 1.0                     2.0   \n",
       "41 2023-10-15                 1.0                     0.0   \n",
       "42 2023-10-22                 2.0                     2.0   \n",
       "43 2023-10-29                10.0                     2.0   \n",
       "44 2023-11-05                 1.0                     1.0   \n",
       "45 2023-11-12                 4.0                     5.0   \n",
       "46 2023-11-19                 7.0                     3.0   \n",
       "47 2023-11-26                 0.0                     5.0   \n",
       "48 2023-12-03                 0.0                     4.0   \n",
       "49 2023-12-10                 0.0                     3.0   \n",
       "50 2023-12-17                 0.0                     0.0   \n",
       "51 2023-12-24                 1.0                     3.0   \n",
       "52 2023-12-31                 0.0                     2.0   \n",
       "\n",
       "    CLOUD 9 CHOCO 15 4G  CLOUD 9 VANILA 15 4G  DELFI TOP TRIP/CHO 9GR  \\\n",
       "0                   0.0                   0.0                     0.0   \n",
       "1                   0.0                   0.0                     3.0   \n",
       "2                   0.0                   0.0                     4.0   \n",
       "3                   0.0                   0.0                     4.0   \n",
       "4                   5.0                   6.0                     7.0   \n",
       "5                   1.0                   2.0                     3.0   \n",
       "6                   5.0                   2.0                     4.0   \n",
       "7                   2.0                   2.0                     4.0   \n",
       "8                   1.0                   2.0                     0.0   \n",
       "9                   1.0                   3.0                     0.0   \n",
       "10                  4.0                   1.0                     3.0   \n",
       "11                  1.0                   2.0                     4.0   \n",
       "12                  0.0                   4.0                     2.0   \n",
       "13                  1.0                   4.0                     4.0   \n",
       "14                  1.0                   3.0                     3.0   \n",
       "15                  0.0                   1.0                     0.0   \n",
       "16                  0.0                   1.0                     5.0   \n",
       "17                  0.0                   0.0                     0.0   \n",
       "18                  0.0                   0.0                     2.0   \n",
       "19                  1.0                   0.0                     0.0   \n",
       "20                  0.0                   1.0                     3.0   \n",
       "21                  0.0                   4.0                     3.0   \n",
       "22                  2.0                   1.0                     3.0   \n",
       "23                  0.0                   2.0                     4.0   \n",
       "24                  1.0                   1.0                     2.0   \n",
       "25                  0.0                   0.0                     3.0   \n",
       "26                  1.0                   0.0                     5.0   \n",
       "27                  0.0                   3.0                     5.0   \n",
       "28                 13.0                  16.0                     6.0   \n",
       "29                 10.0                   3.0                     2.0   \n",
       "30                  9.0                  12.0                     5.0   \n",
       "31                  2.0                   7.0                     4.0   \n",
       "32                  9.0                   4.0                     1.0   \n",
       "33                 16.0                   3.0                     2.0   \n",
       "34                  3.0                   5.0                     2.0   \n",
       "35                  4.0                   3.0                     4.0   \n",
       "36                  0.0                   6.0                     0.0   \n",
       "37                  6.0                   3.0                    10.0   \n",
       "38                  6.0                  13.0                     0.0   \n",
       "39                  7.0                   5.0                     8.0   \n",
       "40                  3.0                   2.0                     1.0   \n",
       "41                  9.0                   1.0                     0.0   \n",
       "42                  2.0                   2.0                     1.0   \n",
       "43                  9.0                   6.0                     6.0   \n",
       "44                  3.0                   4.0                     1.0   \n",
       "45                  1.0                   7.0                     1.0   \n",
       "46                  3.0                   3.0                     1.0   \n",
       "47                  1.0                   2.0                     6.0   \n",
       "48                  2.0                   2.0                     5.0   \n",
       "49                  4.0                   2.0                     9.0   \n",
       "50                  3.0                   1.0                     3.0   \n",
       "51                  4.0                   6.0                     1.0   \n",
       "52                  1.0                   1.0                     0.0   \n",
       "\n",
       "    EKONOMI E900K  HARMONY LEMON  HARMONY MELON  HARMONY ORANGE  ...  \\\n",
       "0             6.0            3.0            0.0             3.0  ...   \n",
       "1             3.0            0.0            0.0             0.0  ...   \n",
       "2             2.0            3.0            0.0             0.0  ...   \n",
       "3             1.0            0.0            0.0             0.0  ...   \n",
       "4             5.0            1.0            0.0             4.0  ...   \n",
       "5             2.0            0.0            0.0             1.0  ...   \n",
       "6             3.0            0.0            0.0             0.0  ...   \n",
       "7             3.0            0.0            0.0             0.0  ...   \n",
       "8             3.0            0.0            0.0             0.0  ...   \n",
       "9             1.0            1.0            2.0             1.0  ...   \n",
       "10            3.0            1.0            0.0             0.0  ...   \n",
       "11            2.0            1.0            1.0             2.0  ...   \n",
       "12            3.0            1.0            3.0             0.0  ...   \n",
       "13            3.0            1.0            5.0             1.0  ...   \n",
       "14            2.0            3.0            0.0             3.0  ...   \n",
       "15            2.0            2.0            1.0             0.0  ...   \n",
       "16            2.0            0.0            0.0             0.0  ...   \n",
       "17            3.0            0.0            0.0             0.0  ...   \n",
       "18            2.0            0.0            0.0             6.0  ...   \n",
       "19            0.0            1.0            0.0             0.0  ...   \n",
       "20            2.0            1.0            0.0             0.0  ...   \n",
       "21            1.0            0.0            3.0             0.0  ...   \n",
       "22            2.0            4.0            0.0             2.0  ...   \n",
       "23            1.0            1.0            0.0             0.0  ...   \n",
       "24            2.0            1.0            0.0             0.0  ...   \n",
       "25            0.0            2.0            3.0             2.0  ...   \n",
       "26            4.0            5.0            4.0             0.0  ...   \n",
       "27            0.0            1.0            1.0             2.0  ...   \n",
       "28            3.0            0.0            0.0             1.0  ...   \n",
       "29            0.0            2.0            3.0             1.0  ...   \n",
       "30            1.0            2.0            3.0             2.0  ...   \n",
       "31            0.0            0.0            1.0             0.0  ...   \n",
       "32            2.0            1.0            1.0             0.0  ...   \n",
       "33            1.0            1.0            0.0             0.0  ...   \n",
       "34            2.0            3.0            5.0             1.0  ...   \n",
       "35            3.0            1.0            3.0             2.0  ...   \n",
       "36            1.0            1.0            1.0             2.0  ...   \n",
       "37            2.0            1.0            1.0             2.0  ...   \n",
       "38            3.0            0.0            4.0             1.0  ...   \n",
       "39            3.0            0.0            2.0             2.0  ...   \n",
       "40            0.0            0.0            2.0             3.0  ...   \n",
       "41            2.0            1.0            4.0             1.0  ...   \n",
       "42            0.0            2.0            3.0             1.0  ...   \n",
       "43            5.0            6.0            2.0             3.0  ...   \n",
       "44            1.0            2.0            2.0             1.0  ...   \n",
       "45            3.0            3.0            7.0             4.0  ...   \n",
       "46            2.0            2.0            0.0             2.0  ...   \n",
       "47            2.0            3.0            4.0             7.0  ...   \n",
       "48            6.0            4.0           10.0             5.0  ...   \n",
       "49            1.0            1.0            0.0             1.0  ...   \n",
       "50            1.0            0.0            2.0            10.0  ...   \n",
       "51            1.0            2.0            2.0             4.0  ...   \n",
       "52            0.0            2.0            4.0             0.0  ...   \n",
       "\n",
       "    PARAMEX SKT KEPALA  PUCUK HARUM TEH 350ML  ROMA KELAPA 300GR  \\\n",
       "0                  3.0                   65.0               11.0   \n",
       "1                  4.0                   52.0                2.0   \n",
       "2                  0.0                   41.0                5.0   \n",
       "3                  0.0                   31.0                7.0   \n",
       "4                  2.0                   42.0               11.0   \n",
       "5                  5.0                   48.0                9.0   \n",
       "6                  2.0                   33.0                6.0   \n",
       "7                  0.0                   54.0               12.0   \n",
       "8                  6.0                   41.0                5.0   \n",
       "9                  2.0                   29.0               13.0   \n",
       "10                 6.0                   58.0                9.0   \n",
       "11                 3.0                   37.0               11.0   \n",
       "12                 4.0                   28.0               13.0   \n",
       "13                 2.0                   36.0                3.0   \n",
       "14                 5.0                   31.0                4.0   \n",
       "15                 7.0                   71.0                6.0   \n",
       "16                 4.0                   51.0                4.0   \n",
       "17                 7.0                   77.0                3.0   \n",
       "18                 5.0                   80.0                2.0   \n",
       "19                 9.0                   24.0                6.0   \n",
       "20                 3.0                   44.0                7.0   \n",
       "21                 4.0                  103.0                6.0   \n",
       "22                 4.0                   67.0                8.0   \n",
       "23                 1.0                   43.0                5.0   \n",
       "24                 3.0                   34.0                6.0   \n",
       "25                 6.0                   67.0                6.0   \n",
       "26                 1.0                   64.0                6.0   \n",
       "27                 1.0                   37.0                9.0   \n",
       "28                 2.0                   29.0                5.0   \n",
       "29                 0.0                   31.0                3.0   \n",
       "30                 6.0                   36.0                9.0   \n",
       "31                 2.0                   16.0                4.0   \n",
       "32                 5.0                   54.0                3.0   \n",
       "33                 2.0                   38.0                3.0   \n",
       "34                 6.0                   33.0                2.0   \n",
       "35                 0.0                   55.0                9.0   \n",
       "36                 4.0                   42.0                6.0   \n",
       "37                 2.0                   36.0                5.0   \n",
       "38                 4.0                   53.0                7.0   \n",
       "39                 2.0                   41.0                5.0   \n",
       "40                 2.0                   46.0                6.0   \n",
       "41                 3.0                   40.0                4.0   \n",
       "42                 3.0                   36.0                2.0   \n",
       "43                 6.0                   52.0                4.0   \n",
       "44                 3.0                   96.0                5.0   \n",
       "45                 5.0                   76.0                4.0   \n",
       "46                 2.0                   37.0                4.0   \n",
       "47                 3.0                   53.0               13.0   \n",
       "48                 1.0                   23.0                3.0   \n",
       "49                 0.0                   41.0                2.0   \n",
       "50                 2.0                   34.0                6.0   \n",
       "51                 2.0                   19.0               12.0   \n",
       "52                 0.0                    2.0                1.0   \n",
       "\n",
       "    SUNSILK SHP BLK SHN 160ML  TEH GELAS ORI 170ML  TONGTJI JASMINE 5 S  \\\n",
       "0                         1.0                  2.0                  7.0   \n",
       "1                         1.0                  2.0                  1.0   \n",
       "2                         1.0                  0.0                  0.0   \n",
       "3                         0.0                  0.0                  5.0   \n",
       "4                         3.0                  0.0                  4.0   \n",
       "5                         3.0                  0.0                  6.0   \n",
       "6                         0.0                  0.0                  8.0   \n",
       "7                         0.0                  0.0                  3.0   \n",
       "8                         3.0                  0.0                 10.0   \n",
       "9                         1.0                  0.0                  4.0   \n",
       "10                        1.0                  0.0                  1.0   \n",
       "11                        0.0                  0.0                 10.0   \n",
       "12                        1.0                  0.0                  1.0   \n",
       "13                        1.0                  0.0                  9.0   \n",
       "14                        0.0                  0.0                  2.0   \n",
       "15                        0.0                  0.0                  5.0   \n",
       "16                        1.0                  0.0                  2.0   \n",
       "17                        4.0                  0.0                  0.0   \n",
       "18                        2.0                  0.0                  7.0   \n",
       "19                        1.0                  0.0                  2.0   \n",
       "20                        0.0                  0.0                  2.0   \n",
       "21                        3.0                  0.0                  4.0   \n",
       "22                        1.0                  0.0                  1.0   \n",
       "23                        0.0                  0.0                  2.0   \n",
       "24                        1.0                  0.0                  1.0   \n",
       "25                        3.0                  0.0                  3.0   \n",
       "26                        0.0                  0.0                  2.0   \n",
       "27                        3.0                  0.0                  3.0   \n",
       "28                        0.0                  0.0                  3.0   \n",
       "29                        3.0                  2.0                  3.0   \n",
       "30                        1.0                  6.0                  3.0   \n",
       "31                        1.0                  4.0                  4.0   \n",
       "32                        2.0                  4.0                 11.0   \n",
       "33                        1.0                  7.0                  2.0   \n",
       "34                        2.0                  2.0                  3.0   \n",
       "35                        1.0                  9.0                  2.0   \n",
       "36                        1.0                 12.0                  0.0   \n",
       "37                        0.0                  0.0                  7.0   \n",
       "38                        2.0                  1.0                  0.0   \n",
       "39                        0.0                  7.0                  7.0   \n",
       "40                        0.0                  5.0                  3.0   \n",
       "41                        0.0                  2.0                  0.0   \n",
       "42                        1.0                  7.0                  0.0   \n",
       "43                        1.0                  7.0                  0.0   \n",
       "44                        0.0                  0.0                  6.0   \n",
       "45                        0.0                  6.0                  2.0   \n",
       "46                        0.0                  3.0                  5.0   \n",
       "47                        2.0                  8.0                  6.0   \n",
       "48                        0.0                  6.0                  2.0   \n",
       "49                        1.0                  7.0                  4.0   \n",
       "50                        0.0                 12.0                  4.0   \n",
       "51                        1.0                 14.0                  2.0   \n",
       "52                        0.0                  3.0                  0.0   \n",
       "\n",
       "    TWISTER MINI CPP 20GR  WAFELLO COCONUT 37 5G  WALLS POPULAIRE STR  \\\n",
       "0                     6.0                    0.0                 20.0   \n",
       "1                     3.0                    0.0                  5.0   \n",
       "2                     1.0                    0.0                  8.0   \n",
       "3                     2.0                    0.0                  7.0   \n",
       "4                     4.0                    0.0                  6.0   \n",
       "5                     3.0                    0.0                  2.0   \n",
       "6                     5.0                    0.0                  5.0   \n",
       "7                     4.0                    0.0                 10.0   \n",
       "8                     4.0                    0.0                 10.0   \n",
       "9                     2.0                    0.0                  6.0   \n",
       "10                    4.0                    0.0                 12.0   \n",
       "11                    2.0                    0.0                  7.0   \n",
       "12                    6.0                    0.0                  9.0   \n",
       "13                    5.0                    1.0                 12.0   \n",
       "14                    0.0                   19.0                 15.0   \n",
       "15                    2.0                    0.0                 15.0   \n",
       "16                    0.0                    0.0                  2.0   \n",
       "17                    1.0                    0.0                 15.0   \n",
       "18                    0.0                    1.0                 21.0   \n",
       "19                    0.0                    0.0                 10.0   \n",
       "20                    3.0                    3.0                  9.0   \n",
       "21                    1.0                    1.0                 13.0   \n",
       "22                    2.0                    2.0                  8.0   \n",
       "23                    2.0                    4.0                  8.0   \n",
       "24                    4.0                    5.0                  6.0   \n",
       "25                    4.0                    0.0                 11.0   \n",
       "26                    3.0                    1.0                 11.0   \n",
       "27                    1.0                    3.0                 14.0   \n",
       "28                    1.0                    2.0                 19.0   \n",
       "29                    4.0                    3.0                  8.0   \n",
       "30                    3.0                    2.0                 16.0   \n",
       "31                    5.0                    1.0                  8.0   \n",
       "32                    0.0                    3.0                  7.0   \n",
       "33                    1.0                    2.0                 15.0   \n",
       "34                    1.0                    0.0                 15.0   \n",
       "35                    1.0                    2.0                 12.0   \n",
       "36                    0.0                    5.0                 13.0   \n",
       "37                    0.0                    3.0                  8.0   \n",
       "38                    0.0                    0.0                 11.0   \n",
       "39                    3.0                    2.0                 11.0   \n",
       "40                    3.0                    1.0                  5.0   \n",
       "41                    3.0                    3.0                  1.0   \n",
       "42                    4.0                    7.0                  4.0   \n",
       "43                    0.0                    1.0                  9.0   \n",
       "44                    4.0                    3.0                  7.0   \n",
       "45                    0.0                    0.0                 11.0   \n",
       "46                    4.0                    2.0                 14.0   \n",
       "47                    4.0                    4.0                 12.0   \n",
       "48                    1.0                    5.0                  0.0   \n",
       "49                    0.0                    2.0                  7.0   \n",
       "50                    1.0                    7.0                 11.0   \n",
       "51                    2.0                    2.0                 12.0   \n",
       "52                    0.0                    1.0                  0.0   \n",
       "\n",
       "    YA KOPI SPESIAL 60GR  \n",
       "0                    4.0  \n",
       "1                    2.0  \n",
       "2                    3.0  \n",
       "3                    3.0  \n",
       "4                    6.0  \n",
       "5                    4.0  \n",
       "6                    5.0  \n",
       "7                    4.0  \n",
       "8                    3.0  \n",
       "9                    3.0  \n",
       "10                   2.0  \n",
       "11                   2.0  \n",
       "12                   4.0  \n",
       "13                   4.0  \n",
       "14                   5.0  \n",
       "15                   1.0  \n",
       "16                   3.0  \n",
       "17                   2.0  \n",
       "18                   3.0  \n",
       "19                   2.0  \n",
       "20                   3.0  \n",
       "21                   3.0  \n",
       "22                   1.0  \n",
       "23                   7.0  \n",
       "24                   4.0  \n",
       "25                   4.0  \n",
       "26                   0.0  \n",
       "27                   3.0  \n",
       "28                   3.0  \n",
       "29                   2.0  \n",
       "30                   0.0  \n",
       "31                   9.0  \n",
       "32                   5.0  \n",
       "33                   4.0  \n",
       "34                   6.0  \n",
       "35                   8.0  \n",
       "36                   5.0  \n",
       "37                   5.0  \n",
       "38                   0.0  \n",
       "39                   1.0  \n",
       "40                   2.0  \n",
       "41                   5.0  \n",
       "42                   5.0  \n",
       "43                   8.0  \n",
       "44                   1.0  \n",
       "45                   2.0  \n",
       "46                   4.0  \n",
       "47                  13.0  \n",
       "48                   0.0  \n",
       "49                   4.0  \n",
       "50                   2.0  \n",
       "51                   3.0  \n",
       "52                   0.0  \n",
       "\n",
       "[53 rows x 36 columns]"
      ]
     },
     "execution_count": 10,
     "metadata": {},
     "output_type": "execute_result"
    }
   ],
   "source": [
    "df_pivoted= df_weekly.pivot(index='TANGGAL', columns='NAMA BARANG', values='QTY')\n",
    "df_pivoted.columns.name = None  # hilangkan nama kolom atas\n",
    "df_pivoted = df_pivoted.reset_index() \n",
    "df_pivoted"
   ]
  },
  {
   "cell_type": "code",
   "execution_count": 11,
   "id": "fc585652",
   "metadata": {},
   "outputs": [],
   "source": [
    "# 1. Pisahkan kolom tanggal dan kolom produk\n",
    "produk_df = df_pivoted.drop(columns=[\"TANGGAL\"])\n",
    "\n",
    "# 2. Hitung jumlah 0 per kolom\n",
    "zero_counts = (produk_df == 0).sum()\n",
    "\n",
    "# 3. Ambil item yang jumlah 0-nya <= 5\n",
    "filtered_items = zero_counts[zero_counts <= 5].index\n",
    "\n",
    "# 4. Filter dataframe hanya dengan item yang lolos kriteria 0\n",
    "filtered_df = produk_df[filtered_items]\n",
    "\n",
    "# 5. Hitung total penjualan per item\n",
    "total_sales = filtered_df.sum().sort_values(ascending=False).index\n",
    "\n",
    "# 6. Ambil 15 item dengan total penjualan tertinggi\n",
    "# top_3_items = total_sales.head(15).index\n",
    "\n",
    "# 7. Final dataframe dengan 15 item terbaik\n",
    "df_final = df_pivoted[[\"TANGGAL\"] + total_sales.tolist()]"
   ]
  },
  {
   "cell_type": "code",
   "execution_count": 12,
   "id": "4be99639",
   "metadata": {},
   "outputs": [
    {
     "data": {
      "text/html": [
       "<div>\n",
       "<style scoped>\n",
       "    .dataframe tbody tr th:only-of-type {\n",
       "        vertical-align: middle;\n",
       "    }\n",
       "\n",
       "    .dataframe tbody tr th {\n",
       "        vertical-align: top;\n",
       "    }\n",
       "\n",
       "    .dataframe thead th {\n",
       "        text-align: right;\n",
       "    }\n",
       "</style>\n",
       "<table border=\"1\" class=\"dataframe\">\n",
       "  <thead>\n",
       "    <tr style=\"text-align: right;\">\n",
       "      <th></th>\n",
       "      <th>TANGGAL</th>\n",
       "      <th>INDOMIE GRG SPECIAL</th>\n",
       "      <th>PUCUK HARUM TEH 350ML</th>\n",
       "      <th>INDOMIE SOTO MIE</th>\n",
       "      <th>INDOMIE AYAM BAWANG</th>\n",
       "      <th>INDOMILK KID STR 115ML</th>\n",
       "      <th>WALLS POPULAIRE STR</th>\n",
       "      <th>INDOMIE AYAM SPECIAL</th>\n",
       "      <th>OREO SOFT CAKE 16GR</th>\n",
       "      <th>ROMA KELAPA 300GR</th>\n",
       "      <th>INDOMILK STR 190ML BTL</th>\n",
       "      <th>NUVO SOAP YLOW 72G</th>\n",
       "      <th>KRIPIK SGKG TURBO 180G</th>\n",
       "      <th>NUVO SOAP BLUE 72G</th>\n",
       "      <th>YA KOPI SPESIAL 60GR</th>\n",
       "    </tr>\n",
       "  </thead>\n",
       "  <tbody>\n",
       "    <tr>\n",
       "      <th>0</th>\n",
       "      <td>2023-01-01</td>\n",
       "      <td>174.0</td>\n",
       "      <td>65.0</td>\n",
       "      <td>12.0</td>\n",
       "      <td>14.0</td>\n",
       "      <td>13.0</td>\n",
       "      <td>20.0</td>\n",
       "      <td>8.0</td>\n",
       "      <td>11.0</td>\n",
       "      <td>11.0</td>\n",
       "      <td>7.0</td>\n",
       "      <td>9.0</td>\n",
       "      <td>3.0</td>\n",
       "      <td>10.0</td>\n",
       "      <td>4.0</td>\n",
       "    </tr>\n",
       "    <tr>\n",
       "      <th>1</th>\n",
       "      <td>2023-01-08</td>\n",
       "      <td>133.0</td>\n",
       "      <td>52.0</td>\n",
       "      <td>18.0</td>\n",
       "      <td>5.0</td>\n",
       "      <td>1.0</td>\n",
       "      <td>5.0</td>\n",
       "      <td>12.0</td>\n",
       "      <td>12.0</td>\n",
       "      <td>2.0</td>\n",
       "      <td>2.0</td>\n",
       "      <td>1.0</td>\n",
       "      <td>1.0</td>\n",
       "      <td>4.0</td>\n",
       "      <td>2.0</td>\n",
       "    </tr>\n",
       "    <tr>\n",
       "      <th>2</th>\n",
       "      <td>2023-01-15</td>\n",
       "      <td>133.0</td>\n",
       "      <td>41.0</td>\n",
       "      <td>14.0</td>\n",
       "      <td>6.0</td>\n",
       "      <td>8.0</td>\n",
       "      <td>8.0</td>\n",
       "      <td>6.0</td>\n",
       "      <td>0.0</td>\n",
       "      <td>5.0</td>\n",
       "      <td>8.0</td>\n",
       "      <td>4.0</td>\n",
       "      <td>0.0</td>\n",
       "      <td>5.0</td>\n",
       "      <td>3.0</td>\n",
       "    </tr>\n",
       "    <tr>\n",
       "      <th>3</th>\n",
       "      <td>2023-01-22</td>\n",
       "      <td>123.0</td>\n",
       "      <td>31.0</td>\n",
       "      <td>10.0</td>\n",
       "      <td>26.0</td>\n",
       "      <td>6.0</td>\n",
       "      <td>7.0</td>\n",
       "      <td>0.0</td>\n",
       "      <td>4.0</td>\n",
       "      <td>7.0</td>\n",
       "      <td>1.0</td>\n",
       "      <td>1.0</td>\n",
       "      <td>0.0</td>\n",
       "      <td>0.0</td>\n",
       "      <td>3.0</td>\n",
       "    </tr>\n",
       "    <tr>\n",
       "      <th>4</th>\n",
       "      <td>2023-01-29</td>\n",
       "      <td>84.0</td>\n",
       "      <td>42.0</td>\n",
       "      <td>12.0</td>\n",
       "      <td>12.0</td>\n",
       "      <td>11.0</td>\n",
       "      <td>6.0</td>\n",
       "      <td>0.0</td>\n",
       "      <td>7.0</td>\n",
       "      <td>11.0</td>\n",
       "      <td>6.0</td>\n",
       "      <td>12.0</td>\n",
       "      <td>0.0</td>\n",
       "      <td>15.0</td>\n",
       "      <td>6.0</td>\n",
       "    </tr>\n",
       "  </tbody>\n",
       "</table>\n",
       "</div>"
      ],
      "text/plain": [
       "     TANGGAL  INDOMIE GRG SPECIAL  PUCUK HARUM TEH 350ML  INDOMIE SOTO MIE  \\\n",
       "0 2023-01-01                174.0                   65.0              12.0   \n",
       "1 2023-01-08                133.0                   52.0              18.0   \n",
       "2 2023-01-15                133.0                   41.0              14.0   \n",
       "3 2023-01-22                123.0                   31.0              10.0   \n",
       "4 2023-01-29                 84.0                   42.0              12.0   \n",
       "\n",
       "   INDOMIE AYAM BAWANG  INDOMILK KID STR 115ML  WALLS POPULAIRE STR  \\\n",
       "0                 14.0                    13.0                 20.0   \n",
       "1                  5.0                     1.0                  5.0   \n",
       "2                  6.0                     8.0                  8.0   \n",
       "3                 26.0                     6.0                  7.0   \n",
       "4                 12.0                    11.0                  6.0   \n",
       "\n",
       "   INDOMIE AYAM SPECIAL  OREO SOFT CAKE 16GR  ROMA KELAPA 300GR  \\\n",
       "0                   8.0                 11.0               11.0   \n",
       "1                  12.0                 12.0                2.0   \n",
       "2                   6.0                  0.0                5.0   \n",
       "3                   0.0                  4.0                7.0   \n",
       "4                   0.0                  7.0               11.0   \n",
       "\n",
       "   INDOMILK STR 190ML BTL  NUVO SOAP YLOW 72G  KRIPIK SGKG TURBO 180G  \\\n",
       "0                     7.0                 9.0                     3.0   \n",
       "1                     2.0                 1.0                     1.0   \n",
       "2                     8.0                 4.0                     0.0   \n",
       "3                     1.0                 1.0                     0.0   \n",
       "4                     6.0                12.0                     0.0   \n",
       "\n",
       "   NUVO SOAP BLUE 72G  YA KOPI SPESIAL 60GR  \n",
       "0                10.0                   4.0  \n",
       "1                 4.0                   2.0  \n",
       "2                 5.0                   3.0  \n",
       "3                 0.0                   3.0  \n",
       "4                15.0                   6.0  "
      ]
     },
     "execution_count": 12,
     "metadata": {},
     "output_type": "execute_result"
    }
   ],
   "source": [
    "df_final.head()"
   ]
  },
  {
   "cell_type": "code",
   "execution_count": 13,
   "id": "cfa625c1",
   "metadata": {},
   "outputs": [
    {
     "name": "stdout",
     "output_type": "stream",
     "text": [
      "<class 'pandas.core.frame.DataFrame'>\n",
      "RangeIndex: 53 entries, 0 to 52\n",
      "Data columns (total 15 columns):\n",
      " #   Column                  Non-Null Count  Dtype         \n",
      "---  ------                  --------------  -----         \n",
      " 0   TANGGAL                 53 non-null     datetime64[ns]\n",
      " 1   INDOMIE GRG SPECIAL     53 non-null     float64       \n",
      " 2   PUCUK HARUM TEH 350ML   53 non-null     float64       \n",
      " 3   INDOMIE SOTO MIE        53 non-null     float64       \n",
      " 4   INDOMIE AYAM BAWANG     53 non-null     float64       \n",
      " 5   INDOMILK KID STR 115ML  53 non-null     float64       \n",
      " 6   WALLS POPULAIRE STR     53 non-null     float64       \n",
      " 7   INDOMIE AYAM SPECIAL    53 non-null     float64       \n",
      " 8   OREO SOFT CAKE 16GR     53 non-null     float64       \n",
      " 9   ROMA KELAPA 300GR       53 non-null     float64       \n",
      " 10  INDOMILK STR 190ML BTL  53 non-null     float64       \n",
      " 11  NUVO SOAP YLOW 72G      53 non-null     float64       \n",
      " 12  KRIPIK SGKG TURBO 180G  53 non-null     float64       \n",
      " 13  NUVO SOAP BLUE 72G      53 non-null     float64       \n",
      " 14  YA KOPI SPESIAL 60GR    53 non-null     float64       \n",
      "dtypes: datetime64[ns](1), float64(14)\n",
      "memory usage: 6.3 KB\n"
     ]
    }
   ],
   "source": [
    "df_final.info()"
   ]
  },
  {
   "cell_type": "code",
   "execution_count": 14,
   "id": "2662da85",
   "metadata": {},
   "outputs": [
    {
     "name": "stderr",
     "output_type": "stream",
     "text": [
      "C:\\Users\\ASUS\\AppData\\Local\\Temp\\ipykernel_360\\2313548066.py:2: SettingWithCopyWarning:\n",
      "\n",
      "\n",
      "A value is trying to be set on a copy of a slice from a DataFrame.\n",
      "Try using .loc[row_indexer,col_indexer] = value instead\n",
      "\n",
      "See the caveats in the documentation: https://pandas.pydata.org/pandas-docs/stable/user_guide/indexing.html#returning-a-view-versus-a-copy\n",
      "\n"
     ]
    },
    {
     "data": {
      "application/vnd.plotly.v1+json": {
       "config": {
        "plotlyServerURL": "https://plot.ly"
       },
       "data": [
        {
         "customdata": [
          [
           "INDOMIE GRG SPECIAL"
          ],
          [
           "INDOMIE GRG SPECIAL"
          ],
          [
           "INDOMIE GRG SPECIAL"
          ],
          [
           "INDOMIE GRG SPECIAL"
          ],
          [
           "INDOMIE GRG SPECIAL"
          ],
          [
           "INDOMIE GRG SPECIAL"
          ],
          [
           "INDOMIE GRG SPECIAL"
          ],
          [
           "INDOMIE GRG SPECIAL"
          ],
          [
           "INDOMIE GRG SPECIAL"
          ],
          [
           "INDOMIE GRG SPECIAL"
          ],
          [
           "INDOMIE GRG SPECIAL"
          ],
          [
           "INDOMIE GRG SPECIAL"
          ],
          [
           "INDOMIE GRG SPECIAL"
          ],
          [
           "INDOMIE GRG SPECIAL"
          ],
          [
           "INDOMIE GRG SPECIAL"
          ],
          [
           "INDOMIE GRG SPECIAL"
          ],
          [
           "INDOMIE GRG SPECIAL"
          ],
          [
           "INDOMIE GRG SPECIAL"
          ],
          [
           "INDOMIE GRG SPECIAL"
          ],
          [
           "INDOMIE GRG SPECIAL"
          ],
          [
           "INDOMIE GRG SPECIAL"
          ],
          [
           "INDOMIE GRG SPECIAL"
          ],
          [
           "INDOMIE GRG SPECIAL"
          ],
          [
           "INDOMIE GRG SPECIAL"
          ],
          [
           "INDOMIE GRG SPECIAL"
          ],
          [
           "INDOMIE GRG SPECIAL"
          ],
          [
           "INDOMIE GRG SPECIAL"
          ],
          [
           "INDOMIE GRG SPECIAL"
          ],
          [
           "INDOMIE GRG SPECIAL"
          ],
          [
           "INDOMIE GRG SPECIAL"
          ],
          [
           "INDOMIE GRG SPECIAL"
          ],
          [
           "INDOMIE GRG SPECIAL"
          ],
          [
           "INDOMIE GRG SPECIAL"
          ],
          [
           "INDOMIE GRG SPECIAL"
          ],
          [
           "INDOMIE GRG SPECIAL"
          ],
          [
           "INDOMIE GRG SPECIAL"
          ],
          [
           "INDOMIE GRG SPECIAL"
          ],
          [
           "INDOMIE GRG SPECIAL"
          ],
          [
           "INDOMIE GRG SPECIAL"
          ],
          [
           "INDOMIE GRG SPECIAL"
          ],
          [
           "INDOMIE GRG SPECIAL"
          ],
          [
           "INDOMIE GRG SPECIAL"
          ],
          [
           "INDOMIE GRG SPECIAL"
          ],
          [
           "INDOMIE GRG SPECIAL"
          ],
          [
           "INDOMIE GRG SPECIAL"
          ],
          [
           "INDOMIE GRG SPECIAL"
          ],
          [
           "INDOMIE GRG SPECIAL"
          ],
          [
           "INDOMIE GRG SPECIAL"
          ],
          [
           "INDOMIE GRG SPECIAL"
          ],
          [
           "INDOMIE GRG SPECIAL"
          ],
          [
           "INDOMIE GRG SPECIAL"
          ],
          [
           "INDOMIE GRG SPECIAL"
          ],
          [
           "INDOMIE GRG SPECIAL"
          ]
         ],
         "hovertemplate": "Nama Produk=%{customdata[0]}<br>Tanggal=%{x}<br>Jumlah Terjual=%{y}<extra></extra>",
         "legendgroup": "INDOMIE GRG SPECIAL",
         "line": {
          "color": "#636efa",
          "dash": "solid"
         },
         "marker": {
          "symbol": "circle"
         },
         "mode": "lines+markers",
         "name": "INDOMIE GRG SPECIAL",
         "orientation": "v",
         "showlegend": true,
         "type": "scatter",
         "x": [
          "2023-01-01T00:00:00",
          "2023-01-08T00:00:00",
          "2023-01-15T00:00:00",
          "2023-01-22T00:00:00",
          "2023-01-29T00:00:00",
          "2023-02-05T00:00:00",
          "2023-02-12T00:00:00",
          "2023-02-19T00:00:00",
          "2023-02-26T00:00:00",
          "2023-03-05T00:00:00",
          "2023-03-12T00:00:00",
          "2023-03-19T00:00:00",
          "2023-03-26T00:00:00",
          "2023-04-02T00:00:00",
          "2023-04-09T00:00:00",
          "2023-04-16T00:00:00",
          "2023-04-23T00:00:00",
          "2023-04-30T00:00:00",
          "2023-05-07T00:00:00",
          "2023-05-14T00:00:00",
          "2023-05-21T00:00:00",
          "2023-05-28T00:00:00",
          "2023-06-04T00:00:00",
          "2023-06-11T00:00:00",
          "2023-06-18T00:00:00",
          "2023-06-25T00:00:00",
          "2023-07-02T00:00:00",
          "2023-07-09T00:00:00",
          "2023-07-16T00:00:00",
          "2023-07-23T00:00:00",
          "2023-07-30T00:00:00",
          "2023-08-06T00:00:00",
          "2023-08-13T00:00:00",
          "2023-08-20T00:00:00",
          "2023-08-27T00:00:00",
          "2023-09-03T00:00:00",
          "2023-09-10T00:00:00",
          "2023-09-17T00:00:00",
          "2023-09-24T00:00:00",
          "2023-10-01T00:00:00",
          "2023-10-08T00:00:00",
          "2023-10-15T00:00:00",
          "2023-10-22T00:00:00",
          "2023-10-29T00:00:00",
          "2023-11-05T00:00:00",
          "2023-11-12T00:00:00",
          "2023-11-19T00:00:00",
          "2023-11-26T00:00:00",
          "2023-12-03T00:00:00",
          "2023-12-10T00:00:00",
          "2023-12-17T00:00:00",
          "2023-12-24T00:00:00",
          "2023-12-31T00:00:00"
         ],
         "xaxis": "x",
         "y": [
          174,
          133,
          133,
          123,
          84,
          101,
          13,
          47,
          103,
          119,
          108,
          107,
          112,
          88,
          108,
          130,
          75,
          94,
          64,
          82,
          83,
          123,
          112,
          80,
          66,
          108,
          101,
          115,
          112,
          78,
          96,
          113,
          132,
          71,
          118,
          85,
          76,
          59,
          87,
          75,
          63,
          85,
          94,
          147,
          85,
          156,
          84,
          132,
          113,
          110,
          99,
          117,
          27
         ],
         "yaxis": "y"
        },
        {
         "customdata": [
          [
           "PUCUK HARUM TEH 350ML"
          ],
          [
           "PUCUK HARUM TEH 350ML"
          ],
          [
           "PUCUK HARUM TEH 350ML"
          ],
          [
           "PUCUK HARUM TEH 350ML"
          ],
          [
           "PUCUK HARUM TEH 350ML"
          ],
          [
           "PUCUK HARUM TEH 350ML"
          ],
          [
           "PUCUK HARUM TEH 350ML"
          ],
          [
           "PUCUK HARUM TEH 350ML"
          ],
          [
           "PUCUK HARUM TEH 350ML"
          ],
          [
           "PUCUK HARUM TEH 350ML"
          ],
          [
           "PUCUK HARUM TEH 350ML"
          ],
          [
           "PUCUK HARUM TEH 350ML"
          ],
          [
           "PUCUK HARUM TEH 350ML"
          ],
          [
           "PUCUK HARUM TEH 350ML"
          ],
          [
           "PUCUK HARUM TEH 350ML"
          ],
          [
           "PUCUK HARUM TEH 350ML"
          ],
          [
           "PUCUK HARUM TEH 350ML"
          ],
          [
           "PUCUK HARUM TEH 350ML"
          ],
          [
           "PUCUK HARUM TEH 350ML"
          ],
          [
           "PUCUK HARUM TEH 350ML"
          ],
          [
           "PUCUK HARUM TEH 350ML"
          ],
          [
           "PUCUK HARUM TEH 350ML"
          ],
          [
           "PUCUK HARUM TEH 350ML"
          ],
          [
           "PUCUK HARUM TEH 350ML"
          ],
          [
           "PUCUK HARUM TEH 350ML"
          ],
          [
           "PUCUK HARUM TEH 350ML"
          ],
          [
           "PUCUK HARUM TEH 350ML"
          ],
          [
           "PUCUK HARUM TEH 350ML"
          ],
          [
           "PUCUK HARUM TEH 350ML"
          ],
          [
           "PUCUK HARUM TEH 350ML"
          ],
          [
           "PUCUK HARUM TEH 350ML"
          ],
          [
           "PUCUK HARUM TEH 350ML"
          ],
          [
           "PUCUK HARUM TEH 350ML"
          ],
          [
           "PUCUK HARUM TEH 350ML"
          ],
          [
           "PUCUK HARUM TEH 350ML"
          ],
          [
           "PUCUK HARUM TEH 350ML"
          ],
          [
           "PUCUK HARUM TEH 350ML"
          ],
          [
           "PUCUK HARUM TEH 350ML"
          ],
          [
           "PUCUK HARUM TEH 350ML"
          ],
          [
           "PUCUK HARUM TEH 350ML"
          ],
          [
           "PUCUK HARUM TEH 350ML"
          ],
          [
           "PUCUK HARUM TEH 350ML"
          ],
          [
           "PUCUK HARUM TEH 350ML"
          ],
          [
           "PUCUK HARUM TEH 350ML"
          ],
          [
           "PUCUK HARUM TEH 350ML"
          ],
          [
           "PUCUK HARUM TEH 350ML"
          ],
          [
           "PUCUK HARUM TEH 350ML"
          ],
          [
           "PUCUK HARUM TEH 350ML"
          ],
          [
           "PUCUK HARUM TEH 350ML"
          ],
          [
           "PUCUK HARUM TEH 350ML"
          ],
          [
           "PUCUK HARUM TEH 350ML"
          ],
          [
           "PUCUK HARUM TEH 350ML"
          ],
          [
           "PUCUK HARUM TEH 350ML"
          ]
         ],
         "hovertemplate": "Nama Produk=%{customdata[0]}<br>Tanggal=%{x}<br>Jumlah Terjual=%{y}<extra></extra>",
         "legendgroup": "PUCUK HARUM TEH 350ML",
         "line": {
          "color": "#EF553B",
          "dash": "solid"
         },
         "marker": {
          "symbol": "circle"
         },
         "mode": "lines+markers",
         "name": "PUCUK HARUM TEH 350ML",
         "orientation": "v",
         "showlegend": true,
         "type": "scatter",
         "x": [
          "2023-01-01T00:00:00",
          "2023-01-08T00:00:00",
          "2023-01-15T00:00:00",
          "2023-01-22T00:00:00",
          "2023-01-29T00:00:00",
          "2023-02-05T00:00:00",
          "2023-02-12T00:00:00",
          "2023-02-19T00:00:00",
          "2023-02-26T00:00:00",
          "2023-03-05T00:00:00",
          "2023-03-12T00:00:00",
          "2023-03-19T00:00:00",
          "2023-03-26T00:00:00",
          "2023-04-02T00:00:00",
          "2023-04-09T00:00:00",
          "2023-04-16T00:00:00",
          "2023-04-23T00:00:00",
          "2023-04-30T00:00:00",
          "2023-05-07T00:00:00",
          "2023-05-14T00:00:00",
          "2023-05-21T00:00:00",
          "2023-05-28T00:00:00",
          "2023-06-04T00:00:00",
          "2023-06-11T00:00:00",
          "2023-06-18T00:00:00",
          "2023-06-25T00:00:00",
          "2023-07-02T00:00:00",
          "2023-07-09T00:00:00",
          "2023-07-16T00:00:00",
          "2023-07-23T00:00:00",
          "2023-07-30T00:00:00",
          "2023-08-06T00:00:00",
          "2023-08-13T00:00:00",
          "2023-08-20T00:00:00",
          "2023-08-27T00:00:00",
          "2023-09-03T00:00:00",
          "2023-09-10T00:00:00",
          "2023-09-17T00:00:00",
          "2023-09-24T00:00:00",
          "2023-10-01T00:00:00",
          "2023-10-08T00:00:00",
          "2023-10-15T00:00:00",
          "2023-10-22T00:00:00",
          "2023-10-29T00:00:00",
          "2023-11-05T00:00:00",
          "2023-11-12T00:00:00",
          "2023-11-19T00:00:00",
          "2023-11-26T00:00:00",
          "2023-12-03T00:00:00",
          "2023-12-10T00:00:00",
          "2023-12-17T00:00:00",
          "2023-12-24T00:00:00",
          "2023-12-31T00:00:00"
         ],
         "xaxis": "x",
         "y": [
          65,
          52,
          41,
          31,
          42,
          48,
          33,
          54,
          41,
          29,
          58,
          37,
          28,
          36,
          31,
          71,
          51,
          77,
          80,
          24,
          44,
          103,
          67,
          43,
          34,
          67,
          64,
          37,
          29,
          31,
          36,
          16,
          54,
          38,
          33,
          55,
          42,
          36,
          53,
          41,
          46,
          40,
          36,
          52,
          96,
          76,
          37,
          53,
          23,
          41,
          34,
          19,
          2
         ],
         "yaxis": "y"
        },
        {
         "customdata": [
          [
           "INDOMIE SOTO MIE"
          ],
          [
           "INDOMIE SOTO MIE"
          ],
          [
           "INDOMIE SOTO MIE"
          ],
          [
           "INDOMIE SOTO MIE"
          ],
          [
           "INDOMIE SOTO MIE"
          ],
          [
           "INDOMIE SOTO MIE"
          ],
          [
           "INDOMIE SOTO MIE"
          ],
          [
           "INDOMIE SOTO MIE"
          ],
          [
           "INDOMIE SOTO MIE"
          ],
          [
           "INDOMIE SOTO MIE"
          ],
          [
           "INDOMIE SOTO MIE"
          ],
          [
           "INDOMIE SOTO MIE"
          ],
          [
           "INDOMIE SOTO MIE"
          ],
          [
           "INDOMIE SOTO MIE"
          ],
          [
           "INDOMIE SOTO MIE"
          ],
          [
           "INDOMIE SOTO MIE"
          ],
          [
           "INDOMIE SOTO MIE"
          ],
          [
           "INDOMIE SOTO MIE"
          ],
          [
           "INDOMIE SOTO MIE"
          ],
          [
           "INDOMIE SOTO MIE"
          ],
          [
           "INDOMIE SOTO MIE"
          ],
          [
           "INDOMIE SOTO MIE"
          ],
          [
           "INDOMIE SOTO MIE"
          ],
          [
           "INDOMIE SOTO MIE"
          ],
          [
           "INDOMIE SOTO MIE"
          ],
          [
           "INDOMIE SOTO MIE"
          ],
          [
           "INDOMIE SOTO MIE"
          ],
          [
           "INDOMIE SOTO MIE"
          ],
          [
           "INDOMIE SOTO MIE"
          ],
          [
           "INDOMIE SOTO MIE"
          ],
          [
           "INDOMIE SOTO MIE"
          ],
          [
           "INDOMIE SOTO MIE"
          ],
          [
           "INDOMIE SOTO MIE"
          ],
          [
           "INDOMIE SOTO MIE"
          ],
          [
           "INDOMIE SOTO MIE"
          ],
          [
           "INDOMIE SOTO MIE"
          ],
          [
           "INDOMIE SOTO MIE"
          ],
          [
           "INDOMIE SOTO MIE"
          ],
          [
           "INDOMIE SOTO MIE"
          ],
          [
           "INDOMIE SOTO MIE"
          ],
          [
           "INDOMIE SOTO MIE"
          ],
          [
           "INDOMIE SOTO MIE"
          ],
          [
           "INDOMIE SOTO MIE"
          ],
          [
           "INDOMIE SOTO MIE"
          ],
          [
           "INDOMIE SOTO MIE"
          ],
          [
           "INDOMIE SOTO MIE"
          ],
          [
           "INDOMIE SOTO MIE"
          ],
          [
           "INDOMIE SOTO MIE"
          ],
          [
           "INDOMIE SOTO MIE"
          ],
          [
           "INDOMIE SOTO MIE"
          ],
          [
           "INDOMIE SOTO MIE"
          ],
          [
           "INDOMIE SOTO MIE"
          ],
          [
           "INDOMIE SOTO MIE"
          ]
         ],
         "hovertemplate": "Nama Produk=%{customdata[0]}<br>Tanggal=%{x}<br>Jumlah Terjual=%{y}<extra></extra>",
         "legendgroup": "INDOMIE SOTO MIE",
         "line": {
          "color": "#00cc96",
          "dash": "solid"
         },
         "marker": {
          "symbol": "circle"
         },
         "mode": "lines+markers",
         "name": "INDOMIE SOTO MIE",
         "orientation": "v",
         "showlegend": true,
         "type": "scatter",
         "x": [
          "2023-01-01T00:00:00",
          "2023-01-08T00:00:00",
          "2023-01-15T00:00:00",
          "2023-01-22T00:00:00",
          "2023-01-29T00:00:00",
          "2023-02-05T00:00:00",
          "2023-02-12T00:00:00",
          "2023-02-19T00:00:00",
          "2023-02-26T00:00:00",
          "2023-03-05T00:00:00",
          "2023-03-12T00:00:00",
          "2023-03-19T00:00:00",
          "2023-03-26T00:00:00",
          "2023-04-02T00:00:00",
          "2023-04-09T00:00:00",
          "2023-04-16T00:00:00",
          "2023-04-23T00:00:00",
          "2023-04-30T00:00:00",
          "2023-05-07T00:00:00",
          "2023-05-14T00:00:00",
          "2023-05-21T00:00:00",
          "2023-05-28T00:00:00",
          "2023-06-04T00:00:00",
          "2023-06-11T00:00:00",
          "2023-06-18T00:00:00",
          "2023-06-25T00:00:00",
          "2023-07-02T00:00:00",
          "2023-07-09T00:00:00",
          "2023-07-16T00:00:00",
          "2023-07-23T00:00:00",
          "2023-07-30T00:00:00",
          "2023-08-06T00:00:00",
          "2023-08-13T00:00:00",
          "2023-08-20T00:00:00",
          "2023-08-27T00:00:00",
          "2023-09-03T00:00:00",
          "2023-09-10T00:00:00",
          "2023-09-17T00:00:00",
          "2023-09-24T00:00:00",
          "2023-10-01T00:00:00",
          "2023-10-08T00:00:00",
          "2023-10-15T00:00:00",
          "2023-10-22T00:00:00",
          "2023-10-29T00:00:00",
          "2023-11-05T00:00:00",
          "2023-11-12T00:00:00",
          "2023-11-19T00:00:00",
          "2023-11-26T00:00:00",
          "2023-12-03T00:00:00",
          "2023-12-10T00:00:00",
          "2023-12-17T00:00:00",
          "2023-12-24T00:00:00",
          "2023-12-31T00:00:00"
         ],
         "xaxis": "x",
         "y": [
          12,
          18,
          14,
          10,
          12,
          15,
          17,
          25,
          14,
          4,
          8,
          15,
          2,
          4,
          11,
          5,
          5,
          19,
          3,
          19,
          13,
          25,
          13,
          15,
          7,
          16,
          8,
          9,
          8,
          15,
          13,
          13,
          6,
          6,
          33,
          19,
          13,
          15,
          11,
          15,
          10,
          7,
          11,
          29,
          10,
          16,
          12,
          31,
          13,
          25,
          22,
          18,
          3
         ],
         "yaxis": "y"
        },
        {
         "customdata": [
          [
           "INDOMIE AYAM BAWANG"
          ],
          [
           "INDOMIE AYAM BAWANG"
          ],
          [
           "INDOMIE AYAM BAWANG"
          ],
          [
           "INDOMIE AYAM BAWANG"
          ],
          [
           "INDOMIE AYAM BAWANG"
          ],
          [
           "INDOMIE AYAM BAWANG"
          ],
          [
           "INDOMIE AYAM BAWANG"
          ],
          [
           "INDOMIE AYAM BAWANG"
          ],
          [
           "INDOMIE AYAM BAWANG"
          ],
          [
           "INDOMIE AYAM BAWANG"
          ],
          [
           "INDOMIE AYAM BAWANG"
          ],
          [
           "INDOMIE AYAM BAWANG"
          ],
          [
           "INDOMIE AYAM BAWANG"
          ],
          [
           "INDOMIE AYAM BAWANG"
          ],
          [
           "INDOMIE AYAM BAWANG"
          ],
          [
           "INDOMIE AYAM BAWANG"
          ],
          [
           "INDOMIE AYAM BAWANG"
          ],
          [
           "INDOMIE AYAM BAWANG"
          ],
          [
           "INDOMIE AYAM BAWANG"
          ],
          [
           "INDOMIE AYAM BAWANG"
          ],
          [
           "INDOMIE AYAM BAWANG"
          ],
          [
           "INDOMIE AYAM BAWANG"
          ],
          [
           "INDOMIE AYAM BAWANG"
          ],
          [
           "INDOMIE AYAM BAWANG"
          ],
          [
           "INDOMIE AYAM BAWANG"
          ],
          [
           "INDOMIE AYAM BAWANG"
          ],
          [
           "INDOMIE AYAM BAWANG"
          ],
          [
           "INDOMIE AYAM BAWANG"
          ],
          [
           "INDOMIE AYAM BAWANG"
          ],
          [
           "INDOMIE AYAM BAWANG"
          ],
          [
           "INDOMIE AYAM BAWANG"
          ],
          [
           "INDOMIE AYAM BAWANG"
          ],
          [
           "INDOMIE AYAM BAWANG"
          ],
          [
           "INDOMIE AYAM BAWANG"
          ],
          [
           "INDOMIE AYAM BAWANG"
          ],
          [
           "INDOMIE AYAM BAWANG"
          ],
          [
           "INDOMIE AYAM BAWANG"
          ],
          [
           "INDOMIE AYAM BAWANG"
          ],
          [
           "INDOMIE AYAM BAWANG"
          ],
          [
           "INDOMIE AYAM BAWANG"
          ],
          [
           "INDOMIE AYAM BAWANG"
          ],
          [
           "INDOMIE AYAM BAWANG"
          ],
          [
           "INDOMIE AYAM BAWANG"
          ],
          [
           "INDOMIE AYAM BAWANG"
          ],
          [
           "INDOMIE AYAM BAWANG"
          ],
          [
           "INDOMIE AYAM BAWANG"
          ],
          [
           "INDOMIE AYAM BAWANG"
          ],
          [
           "INDOMIE AYAM BAWANG"
          ],
          [
           "INDOMIE AYAM BAWANG"
          ],
          [
           "INDOMIE AYAM BAWANG"
          ],
          [
           "INDOMIE AYAM BAWANG"
          ],
          [
           "INDOMIE AYAM BAWANG"
          ],
          [
           "INDOMIE AYAM BAWANG"
          ]
         ],
         "hovertemplate": "Nama Produk=%{customdata[0]}<br>Tanggal=%{x}<br>Jumlah Terjual=%{y}<extra></extra>",
         "legendgroup": "INDOMIE AYAM BAWANG",
         "line": {
          "color": "#ab63fa",
          "dash": "solid"
         },
         "marker": {
          "symbol": "circle"
         },
         "mode": "lines+markers",
         "name": "INDOMIE AYAM BAWANG",
         "orientation": "v",
         "showlegend": true,
         "type": "scatter",
         "x": [
          "2023-01-01T00:00:00",
          "2023-01-08T00:00:00",
          "2023-01-15T00:00:00",
          "2023-01-22T00:00:00",
          "2023-01-29T00:00:00",
          "2023-02-05T00:00:00",
          "2023-02-12T00:00:00",
          "2023-02-19T00:00:00",
          "2023-02-26T00:00:00",
          "2023-03-05T00:00:00",
          "2023-03-12T00:00:00",
          "2023-03-19T00:00:00",
          "2023-03-26T00:00:00",
          "2023-04-02T00:00:00",
          "2023-04-09T00:00:00",
          "2023-04-16T00:00:00",
          "2023-04-23T00:00:00",
          "2023-04-30T00:00:00",
          "2023-05-07T00:00:00",
          "2023-05-14T00:00:00",
          "2023-05-21T00:00:00",
          "2023-05-28T00:00:00",
          "2023-06-04T00:00:00",
          "2023-06-11T00:00:00",
          "2023-06-18T00:00:00",
          "2023-06-25T00:00:00",
          "2023-07-02T00:00:00",
          "2023-07-09T00:00:00",
          "2023-07-16T00:00:00",
          "2023-07-23T00:00:00",
          "2023-07-30T00:00:00",
          "2023-08-06T00:00:00",
          "2023-08-13T00:00:00",
          "2023-08-20T00:00:00",
          "2023-08-27T00:00:00",
          "2023-09-03T00:00:00",
          "2023-09-10T00:00:00",
          "2023-09-17T00:00:00",
          "2023-09-24T00:00:00",
          "2023-10-01T00:00:00",
          "2023-10-08T00:00:00",
          "2023-10-15T00:00:00",
          "2023-10-22T00:00:00",
          "2023-10-29T00:00:00",
          "2023-11-05T00:00:00",
          "2023-11-12T00:00:00",
          "2023-11-19T00:00:00",
          "2023-11-26T00:00:00",
          "2023-12-03T00:00:00",
          "2023-12-10T00:00:00",
          "2023-12-17T00:00:00",
          "2023-12-24T00:00:00",
          "2023-12-31T00:00:00"
         ],
         "xaxis": "x",
         "y": [
          14,
          5,
          6,
          26,
          12,
          2,
          10,
          9,
          18,
          16,
          11,
          15,
          15,
          14,
          6,
          7,
          8,
          24,
          5,
          6,
          6,
          9,
          5,
          52,
          10,
          12,
          13,
          15,
          2,
          6,
          12,
          20,
          13,
          10,
          10,
          6,
          11,
          8,
          8,
          4,
          6,
          5,
          13,
          16,
          6,
          21,
          6,
          10,
          11,
          4,
          11,
          4,
          0
         ],
         "yaxis": "y"
        },
        {
         "customdata": [
          [
           "INDOMILK KID STR 115ML"
          ],
          [
           "INDOMILK KID STR 115ML"
          ],
          [
           "INDOMILK KID STR 115ML"
          ],
          [
           "INDOMILK KID STR 115ML"
          ],
          [
           "INDOMILK KID STR 115ML"
          ],
          [
           "INDOMILK KID STR 115ML"
          ],
          [
           "INDOMILK KID STR 115ML"
          ],
          [
           "INDOMILK KID STR 115ML"
          ],
          [
           "INDOMILK KID STR 115ML"
          ],
          [
           "INDOMILK KID STR 115ML"
          ],
          [
           "INDOMILK KID STR 115ML"
          ],
          [
           "INDOMILK KID STR 115ML"
          ],
          [
           "INDOMILK KID STR 115ML"
          ],
          [
           "INDOMILK KID STR 115ML"
          ],
          [
           "INDOMILK KID STR 115ML"
          ],
          [
           "INDOMILK KID STR 115ML"
          ],
          [
           "INDOMILK KID STR 115ML"
          ],
          [
           "INDOMILK KID STR 115ML"
          ],
          [
           "INDOMILK KID STR 115ML"
          ],
          [
           "INDOMILK KID STR 115ML"
          ],
          [
           "INDOMILK KID STR 115ML"
          ],
          [
           "INDOMILK KID STR 115ML"
          ],
          [
           "INDOMILK KID STR 115ML"
          ],
          [
           "INDOMILK KID STR 115ML"
          ],
          [
           "INDOMILK KID STR 115ML"
          ],
          [
           "INDOMILK KID STR 115ML"
          ],
          [
           "INDOMILK KID STR 115ML"
          ],
          [
           "INDOMILK KID STR 115ML"
          ],
          [
           "INDOMILK KID STR 115ML"
          ],
          [
           "INDOMILK KID STR 115ML"
          ],
          [
           "INDOMILK KID STR 115ML"
          ],
          [
           "INDOMILK KID STR 115ML"
          ],
          [
           "INDOMILK KID STR 115ML"
          ],
          [
           "INDOMILK KID STR 115ML"
          ],
          [
           "INDOMILK KID STR 115ML"
          ],
          [
           "INDOMILK KID STR 115ML"
          ],
          [
           "INDOMILK KID STR 115ML"
          ],
          [
           "INDOMILK KID STR 115ML"
          ],
          [
           "INDOMILK KID STR 115ML"
          ],
          [
           "INDOMILK KID STR 115ML"
          ],
          [
           "INDOMILK KID STR 115ML"
          ],
          [
           "INDOMILK KID STR 115ML"
          ],
          [
           "INDOMILK KID STR 115ML"
          ],
          [
           "INDOMILK KID STR 115ML"
          ],
          [
           "INDOMILK KID STR 115ML"
          ],
          [
           "INDOMILK KID STR 115ML"
          ],
          [
           "INDOMILK KID STR 115ML"
          ],
          [
           "INDOMILK KID STR 115ML"
          ],
          [
           "INDOMILK KID STR 115ML"
          ],
          [
           "INDOMILK KID STR 115ML"
          ],
          [
           "INDOMILK KID STR 115ML"
          ],
          [
           "INDOMILK KID STR 115ML"
          ],
          [
           "INDOMILK KID STR 115ML"
          ]
         ],
         "hovertemplate": "Nama Produk=%{customdata[0]}<br>Tanggal=%{x}<br>Jumlah Terjual=%{y}<extra></extra>",
         "legendgroup": "INDOMILK KID STR 115ML",
         "line": {
          "color": "#FFA15A",
          "dash": "solid"
         },
         "marker": {
          "symbol": "circle"
         },
         "mode": "lines+markers",
         "name": "INDOMILK KID STR 115ML",
         "orientation": "v",
         "showlegend": true,
         "type": "scatter",
         "x": [
          "2023-01-01T00:00:00",
          "2023-01-08T00:00:00",
          "2023-01-15T00:00:00",
          "2023-01-22T00:00:00",
          "2023-01-29T00:00:00",
          "2023-02-05T00:00:00",
          "2023-02-12T00:00:00",
          "2023-02-19T00:00:00",
          "2023-02-26T00:00:00",
          "2023-03-05T00:00:00",
          "2023-03-12T00:00:00",
          "2023-03-19T00:00:00",
          "2023-03-26T00:00:00",
          "2023-04-02T00:00:00",
          "2023-04-09T00:00:00",
          "2023-04-16T00:00:00",
          "2023-04-23T00:00:00",
          "2023-04-30T00:00:00",
          "2023-05-07T00:00:00",
          "2023-05-14T00:00:00",
          "2023-05-21T00:00:00",
          "2023-05-28T00:00:00",
          "2023-06-04T00:00:00",
          "2023-06-11T00:00:00",
          "2023-06-18T00:00:00",
          "2023-06-25T00:00:00",
          "2023-07-02T00:00:00",
          "2023-07-09T00:00:00",
          "2023-07-16T00:00:00",
          "2023-07-23T00:00:00",
          "2023-07-30T00:00:00",
          "2023-08-06T00:00:00",
          "2023-08-13T00:00:00",
          "2023-08-20T00:00:00",
          "2023-08-27T00:00:00",
          "2023-09-03T00:00:00",
          "2023-09-10T00:00:00",
          "2023-09-17T00:00:00",
          "2023-09-24T00:00:00",
          "2023-10-01T00:00:00",
          "2023-10-08T00:00:00",
          "2023-10-15T00:00:00",
          "2023-10-22T00:00:00",
          "2023-10-29T00:00:00",
          "2023-11-05T00:00:00",
          "2023-11-12T00:00:00",
          "2023-11-19T00:00:00",
          "2023-11-26T00:00:00",
          "2023-12-03T00:00:00",
          "2023-12-10T00:00:00",
          "2023-12-17T00:00:00",
          "2023-12-24T00:00:00",
          "2023-12-31T00:00:00"
         ],
         "xaxis": "x",
         "y": [
          13,
          1,
          8,
          6,
          11,
          6,
          7,
          5,
          10,
          3,
          6,
          6,
          5,
          6,
          2,
          7,
          4,
          13,
          9,
          14,
          18,
          10,
          22,
          11,
          17,
          15,
          6,
          9,
          8,
          9,
          1,
          16,
          14,
          13,
          6,
          11,
          13,
          11,
          2,
          1,
          5,
          8,
          18,
          15,
          6,
          20,
          6,
          10,
          11,
          34,
          22,
          18,
          5
         ],
         "yaxis": "y"
        },
        {
         "customdata": [
          [
           "WALLS POPULAIRE STR"
          ],
          [
           "WALLS POPULAIRE STR"
          ],
          [
           "WALLS POPULAIRE STR"
          ],
          [
           "WALLS POPULAIRE STR"
          ],
          [
           "WALLS POPULAIRE STR"
          ],
          [
           "WALLS POPULAIRE STR"
          ],
          [
           "WALLS POPULAIRE STR"
          ],
          [
           "WALLS POPULAIRE STR"
          ],
          [
           "WALLS POPULAIRE STR"
          ],
          [
           "WALLS POPULAIRE STR"
          ],
          [
           "WALLS POPULAIRE STR"
          ],
          [
           "WALLS POPULAIRE STR"
          ],
          [
           "WALLS POPULAIRE STR"
          ],
          [
           "WALLS POPULAIRE STR"
          ],
          [
           "WALLS POPULAIRE STR"
          ],
          [
           "WALLS POPULAIRE STR"
          ],
          [
           "WALLS POPULAIRE STR"
          ],
          [
           "WALLS POPULAIRE STR"
          ],
          [
           "WALLS POPULAIRE STR"
          ],
          [
           "WALLS POPULAIRE STR"
          ],
          [
           "WALLS POPULAIRE STR"
          ],
          [
           "WALLS POPULAIRE STR"
          ],
          [
           "WALLS POPULAIRE STR"
          ],
          [
           "WALLS POPULAIRE STR"
          ],
          [
           "WALLS POPULAIRE STR"
          ],
          [
           "WALLS POPULAIRE STR"
          ],
          [
           "WALLS POPULAIRE STR"
          ],
          [
           "WALLS POPULAIRE STR"
          ],
          [
           "WALLS POPULAIRE STR"
          ],
          [
           "WALLS POPULAIRE STR"
          ],
          [
           "WALLS POPULAIRE STR"
          ],
          [
           "WALLS POPULAIRE STR"
          ],
          [
           "WALLS POPULAIRE STR"
          ],
          [
           "WALLS POPULAIRE STR"
          ],
          [
           "WALLS POPULAIRE STR"
          ],
          [
           "WALLS POPULAIRE STR"
          ],
          [
           "WALLS POPULAIRE STR"
          ],
          [
           "WALLS POPULAIRE STR"
          ],
          [
           "WALLS POPULAIRE STR"
          ],
          [
           "WALLS POPULAIRE STR"
          ],
          [
           "WALLS POPULAIRE STR"
          ],
          [
           "WALLS POPULAIRE STR"
          ],
          [
           "WALLS POPULAIRE STR"
          ],
          [
           "WALLS POPULAIRE STR"
          ],
          [
           "WALLS POPULAIRE STR"
          ],
          [
           "WALLS POPULAIRE STR"
          ],
          [
           "WALLS POPULAIRE STR"
          ],
          [
           "WALLS POPULAIRE STR"
          ],
          [
           "WALLS POPULAIRE STR"
          ],
          [
           "WALLS POPULAIRE STR"
          ],
          [
           "WALLS POPULAIRE STR"
          ],
          [
           "WALLS POPULAIRE STR"
          ],
          [
           "WALLS POPULAIRE STR"
          ]
         ],
         "hovertemplate": "Nama Produk=%{customdata[0]}<br>Tanggal=%{x}<br>Jumlah Terjual=%{y}<extra></extra>",
         "legendgroup": "WALLS POPULAIRE STR",
         "line": {
          "color": "#19d3f3",
          "dash": "solid"
         },
         "marker": {
          "symbol": "circle"
         },
         "mode": "lines+markers",
         "name": "WALLS POPULAIRE STR",
         "orientation": "v",
         "showlegend": true,
         "type": "scatter",
         "x": [
          "2023-01-01T00:00:00",
          "2023-01-08T00:00:00",
          "2023-01-15T00:00:00",
          "2023-01-22T00:00:00",
          "2023-01-29T00:00:00",
          "2023-02-05T00:00:00",
          "2023-02-12T00:00:00",
          "2023-02-19T00:00:00",
          "2023-02-26T00:00:00",
          "2023-03-05T00:00:00",
          "2023-03-12T00:00:00",
          "2023-03-19T00:00:00",
          "2023-03-26T00:00:00",
          "2023-04-02T00:00:00",
          "2023-04-09T00:00:00",
          "2023-04-16T00:00:00",
          "2023-04-23T00:00:00",
          "2023-04-30T00:00:00",
          "2023-05-07T00:00:00",
          "2023-05-14T00:00:00",
          "2023-05-21T00:00:00",
          "2023-05-28T00:00:00",
          "2023-06-04T00:00:00",
          "2023-06-11T00:00:00",
          "2023-06-18T00:00:00",
          "2023-06-25T00:00:00",
          "2023-07-02T00:00:00",
          "2023-07-09T00:00:00",
          "2023-07-16T00:00:00",
          "2023-07-23T00:00:00",
          "2023-07-30T00:00:00",
          "2023-08-06T00:00:00",
          "2023-08-13T00:00:00",
          "2023-08-20T00:00:00",
          "2023-08-27T00:00:00",
          "2023-09-03T00:00:00",
          "2023-09-10T00:00:00",
          "2023-09-17T00:00:00",
          "2023-09-24T00:00:00",
          "2023-10-01T00:00:00",
          "2023-10-08T00:00:00",
          "2023-10-15T00:00:00",
          "2023-10-22T00:00:00",
          "2023-10-29T00:00:00",
          "2023-11-05T00:00:00",
          "2023-11-12T00:00:00",
          "2023-11-19T00:00:00",
          "2023-11-26T00:00:00",
          "2023-12-03T00:00:00",
          "2023-12-10T00:00:00",
          "2023-12-17T00:00:00",
          "2023-12-24T00:00:00",
          "2023-12-31T00:00:00"
         ],
         "xaxis": "x",
         "y": [
          20,
          5,
          8,
          7,
          6,
          2,
          5,
          10,
          10,
          6,
          12,
          7,
          9,
          12,
          15,
          15,
          2,
          15,
          21,
          10,
          9,
          13,
          8,
          8,
          6,
          11,
          11,
          14,
          19,
          8,
          16,
          8,
          7,
          15,
          15,
          12,
          13,
          8,
          11,
          11,
          5,
          1,
          4,
          9,
          7,
          11,
          14,
          12,
          0,
          7,
          11,
          12,
          0
         ],
         "yaxis": "y"
        },
        {
         "customdata": [
          [
           "INDOMIE AYAM SPECIAL"
          ],
          [
           "INDOMIE AYAM SPECIAL"
          ],
          [
           "INDOMIE AYAM SPECIAL"
          ],
          [
           "INDOMIE AYAM SPECIAL"
          ],
          [
           "INDOMIE AYAM SPECIAL"
          ],
          [
           "INDOMIE AYAM SPECIAL"
          ],
          [
           "INDOMIE AYAM SPECIAL"
          ],
          [
           "INDOMIE AYAM SPECIAL"
          ],
          [
           "INDOMIE AYAM SPECIAL"
          ],
          [
           "INDOMIE AYAM SPECIAL"
          ],
          [
           "INDOMIE AYAM SPECIAL"
          ],
          [
           "INDOMIE AYAM SPECIAL"
          ],
          [
           "INDOMIE AYAM SPECIAL"
          ],
          [
           "INDOMIE AYAM SPECIAL"
          ],
          [
           "INDOMIE AYAM SPECIAL"
          ],
          [
           "INDOMIE AYAM SPECIAL"
          ],
          [
           "INDOMIE AYAM SPECIAL"
          ],
          [
           "INDOMIE AYAM SPECIAL"
          ],
          [
           "INDOMIE AYAM SPECIAL"
          ],
          [
           "INDOMIE AYAM SPECIAL"
          ],
          [
           "INDOMIE AYAM SPECIAL"
          ],
          [
           "INDOMIE AYAM SPECIAL"
          ],
          [
           "INDOMIE AYAM SPECIAL"
          ],
          [
           "INDOMIE AYAM SPECIAL"
          ],
          [
           "INDOMIE AYAM SPECIAL"
          ],
          [
           "INDOMIE AYAM SPECIAL"
          ],
          [
           "INDOMIE AYAM SPECIAL"
          ],
          [
           "INDOMIE AYAM SPECIAL"
          ],
          [
           "INDOMIE AYAM SPECIAL"
          ],
          [
           "INDOMIE AYAM SPECIAL"
          ],
          [
           "INDOMIE AYAM SPECIAL"
          ],
          [
           "INDOMIE AYAM SPECIAL"
          ],
          [
           "INDOMIE AYAM SPECIAL"
          ],
          [
           "INDOMIE AYAM SPECIAL"
          ],
          [
           "INDOMIE AYAM SPECIAL"
          ],
          [
           "INDOMIE AYAM SPECIAL"
          ],
          [
           "INDOMIE AYAM SPECIAL"
          ],
          [
           "INDOMIE AYAM SPECIAL"
          ],
          [
           "INDOMIE AYAM SPECIAL"
          ],
          [
           "INDOMIE AYAM SPECIAL"
          ],
          [
           "INDOMIE AYAM SPECIAL"
          ],
          [
           "INDOMIE AYAM SPECIAL"
          ],
          [
           "INDOMIE AYAM SPECIAL"
          ],
          [
           "INDOMIE AYAM SPECIAL"
          ],
          [
           "INDOMIE AYAM SPECIAL"
          ],
          [
           "INDOMIE AYAM SPECIAL"
          ],
          [
           "INDOMIE AYAM SPECIAL"
          ],
          [
           "INDOMIE AYAM SPECIAL"
          ],
          [
           "INDOMIE AYAM SPECIAL"
          ],
          [
           "INDOMIE AYAM SPECIAL"
          ],
          [
           "INDOMIE AYAM SPECIAL"
          ],
          [
           "INDOMIE AYAM SPECIAL"
          ],
          [
           "INDOMIE AYAM SPECIAL"
          ]
         ],
         "hovertemplate": "Nama Produk=%{customdata[0]}<br>Tanggal=%{x}<br>Jumlah Terjual=%{y}<extra></extra>",
         "legendgroup": "INDOMIE AYAM SPECIAL",
         "line": {
          "color": "#FF6692",
          "dash": "solid"
         },
         "marker": {
          "symbol": "circle"
         },
         "mode": "lines+markers",
         "name": "INDOMIE AYAM SPECIAL",
         "orientation": "v",
         "showlegend": true,
         "type": "scatter",
         "x": [
          "2023-01-01T00:00:00",
          "2023-01-08T00:00:00",
          "2023-01-15T00:00:00",
          "2023-01-22T00:00:00",
          "2023-01-29T00:00:00",
          "2023-02-05T00:00:00",
          "2023-02-12T00:00:00",
          "2023-02-19T00:00:00",
          "2023-02-26T00:00:00",
          "2023-03-05T00:00:00",
          "2023-03-12T00:00:00",
          "2023-03-19T00:00:00",
          "2023-03-26T00:00:00",
          "2023-04-02T00:00:00",
          "2023-04-09T00:00:00",
          "2023-04-16T00:00:00",
          "2023-04-23T00:00:00",
          "2023-04-30T00:00:00",
          "2023-05-07T00:00:00",
          "2023-05-14T00:00:00",
          "2023-05-21T00:00:00",
          "2023-05-28T00:00:00",
          "2023-06-04T00:00:00",
          "2023-06-11T00:00:00",
          "2023-06-18T00:00:00",
          "2023-06-25T00:00:00",
          "2023-07-02T00:00:00",
          "2023-07-09T00:00:00",
          "2023-07-16T00:00:00",
          "2023-07-23T00:00:00",
          "2023-07-30T00:00:00",
          "2023-08-06T00:00:00",
          "2023-08-13T00:00:00",
          "2023-08-20T00:00:00",
          "2023-08-27T00:00:00",
          "2023-09-03T00:00:00",
          "2023-09-10T00:00:00",
          "2023-09-17T00:00:00",
          "2023-09-24T00:00:00",
          "2023-10-01T00:00:00",
          "2023-10-08T00:00:00",
          "2023-10-15T00:00:00",
          "2023-10-22T00:00:00",
          "2023-10-29T00:00:00",
          "2023-11-05T00:00:00",
          "2023-11-12T00:00:00",
          "2023-11-19T00:00:00",
          "2023-11-26T00:00:00",
          "2023-12-03T00:00:00",
          "2023-12-10T00:00:00",
          "2023-12-17T00:00:00",
          "2023-12-24T00:00:00",
          "2023-12-31T00:00:00"
         ],
         "xaxis": "x",
         "y": [
          8,
          12,
          6,
          0,
          0,
          3,
          14,
          10,
          20,
          13,
          10,
          7,
          6,
          12,
          15,
          5,
          12,
          5,
          4,
          1,
          6,
          7,
          6,
          5,
          6,
          2,
          3,
          5,
          4,
          1,
          9,
          4,
          9,
          4,
          6,
          12,
          3,
          6,
          3,
          3,
          12,
          12,
          11,
          12,
          8,
          6,
          12,
          13,
          8,
          9,
          5,
          14,
          0
         ],
         "yaxis": "y"
        },
        {
         "customdata": [
          [
           "OREO SOFT CAKE 16GR"
          ],
          [
           "OREO SOFT CAKE 16GR"
          ],
          [
           "OREO SOFT CAKE 16GR"
          ],
          [
           "OREO SOFT CAKE 16GR"
          ],
          [
           "OREO SOFT CAKE 16GR"
          ],
          [
           "OREO SOFT CAKE 16GR"
          ],
          [
           "OREO SOFT CAKE 16GR"
          ],
          [
           "OREO SOFT CAKE 16GR"
          ],
          [
           "OREO SOFT CAKE 16GR"
          ],
          [
           "OREO SOFT CAKE 16GR"
          ],
          [
           "OREO SOFT CAKE 16GR"
          ],
          [
           "OREO SOFT CAKE 16GR"
          ],
          [
           "OREO SOFT CAKE 16GR"
          ],
          [
           "OREO SOFT CAKE 16GR"
          ],
          [
           "OREO SOFT CAKE 16GR"
          ],
          [
           "OREO SOFT CAKE 16GR"
          ],
          [
           "OREO SOFT CAKE 16GR"
          ],
          [
           "OREO SOFT CAKE 16GR"
          ],
          [
           "OREO SOFT CAKE 16GR"
          ],
          [
           "OREO SOFT CAKE 16GR"
          ],
          [
           "OREO SOFT CAKE 16GR"
          ],
          [
           "OREO SOFT CAKE 16GR"
          ],
          [
           "OREO SOFT CAKE 16GR"
          ],
          [
           "OREO SOFT CAKE 16GR"
          ],
          [
           "OREO SOFT CAKE 16GR"
          ],
          [
           "OREO SOFT CAKE 16GR"
          ],
          [
           "OREO SOFT CAKE 16GR"
          ],
          [
           "OREO SOFT CAKE 16GR"
          ],
          [
           "OREO SOFT CAKE 16GR"
          ],
          [
           "OREO SOFT CAKE 16GR"
          ],
          [
           "OREO SOFT CAKE 16GR"
          ],
          [
           "OREO SOFT CAKE 16GR"
          ],
          [
           "OREO SOFT CAKE 16GR"
          ],
          [
           "OREO SOFT CAKE 16GR"
          ],
          [
           "OREO SOFT CAKE 16GR"
          ],
          [
           "OREO SOFT CAKE 16GR"
          ],
          [
           "OREO SOFT CAKE 16GR"
          ],
          [
           "OREO SOFT CAKE 16GR"
          ],
          [
           "OREO SOFT CAKE 16GR"
          ],
          [
           "OREO SOFT CAKE 16GR"
          ],
          [
           "OREO SOFT CAKE 16GR"
          ],
          [
           "OREO SOFT CAKE 16GR"
          ],
          [
           "OREO SOFT CAKE 16GR"
          ],
          [
           "OREO SOFT CAKE 16GR"
          ],
          [
           "OREO SOFT CAKE 16GR"
          ],
          [
           "OREO SOFT CAKE 16GR"
          ],
          [
           "OREO SOFT CAKE 16GR"
          ],
          [
           "OREO SOFT CAKE 16GR"
          ],
          [
           "OREO SOFT CAKE 16GR"
          ],
          [
           "OREO SOFT CAKE 16GR"
          ],
          [
           "OREO SOFT CAKE 16GR"
          ],
          [
           "OREO SOFT CAKE 16GR"
          ],
          [
           "OREO SOFT CAKE 16GR"
          ]
         ],
         "hovertemplate": "Nama Produk=%{customdata[0]}<br>Tanggal=%{x}<br>Jumlah Terjual=%{y}<extra></extra>",
         "legendgroup": "OREO SOFT CAKE 16GR",
         "line": {
          "color": "#B6E880",
          "dash": "solid"
         },
         "marker": {
          "symbol": "circle"
         },
         "mode": "lines+markers",
         "name": "OREO SOFT CAKE 16GR",
         "orientation": "v",
         "showlegend": true,
         "type": "scatter",
         "x": [
          "2023-01-01T00:00:00",
          "2023-01-08T00:00:00",
          "2023-01-15T00:00:00",
          "2023-01-22T00:00:00",
          "2023-01-29T00:00:00",
          "2023-02-05T00:00:00",
          "2023-02-12T00:00:00",
          "2023-02-19T00:00:00",
          "2023-02-26T00:00:00",
          "2023-03-05T00:00:00",
          "2023-03-12T00:00:00",
          "2023-03-19T00:00:00",
          "2023-03-26T00:00:00",
          "2023-04-02T00:00:00",
          "2023-04-09T00:00:00",
          "2023-04-16T00:00:00",
          "2023-04-23T00:00:00",
          "2023-04-30T00:00:00",
          "2023-05-07T00:00:00",
          "2023-05-14T00:00:00",
          "2023-05-21T00:00:00",
          "2023-05-28T00:00:00",
          "2023-06-04T00:00:00",
          "2023-06-11T00:00:00",
          "2023-06-18T00:00:00",
          "2023-06-25T00:00:00",
          "2023-07-02T00:00:00",
          "2023-07-09T00:00:00",
          "2023-07-16T00:00:00",
          "2023-07-23T00:00:00",
          "2023-07-30T00:00:00",
          "2023-08-06T00:00:00",
          "2023-08-13T00:00:00",
          "2023-08-20T00:00:00",
          "2023-08-27T00:00:00",
          "2023-09-03T00:00:00",
          "2023-09-10T00:00:00",
          "2023-09-17T00:00:00",
          "2023-09-24T00:00:00",
          "2023-10-01T00:00:00",
          "2023-10-08T00:00:00",
          "2023-10-15T00:00:00",
          "2023-10-22T00:00:00",
          "2023-10-29T00:00:00",
          "2023-11-05T00:00:00",
          "2023-11-12T00:00:00",
          "2023-11-19T00:00:00",
          "2023-11-26T00:00:00",
          "2023-12-03T00:00:00",
          "2023-12-10T00:00:00",
          "2023-12-17T00:00:00",
          "2023-12-24T00:00:00",
          "2023-12-31T00:00:00"
         ],
         "xaxis": "x",
         "y": [
          11,
          12,
          0,
          4,
          7,
          9,
          5,
          5,
          12,
          6,
          6,
          14,
          4,
          7,
          16,
          5,
          8,
          2,
          1,
          3,
          0,
          0,
          7,
          13,
          10,
          5,
          18,
          14,
          5,
          10,
          3,
          9,
          10,
          6,
          9,
          10,
          6,
          9,
          2,
          5,
          6,
          2,
          7,
          12,
          7,
          5,
          2,
          9,
          17,
          6,
          14,
          12,
          1
         ],
         "yaxis": "y"
        },
        {
         "customdata": [
          [
           "ROMA KELAPA 300GR"
          ],
          [
           "ROMA KELAPA 300GR"
          ],
          [
           "ROMA KELAPA 300GR"
          ],
          [
           "ROMA KELAPA 300GR"
          ],
          [
           "ROMA KELAPA 300GR"
          ],
          [
           "ROMA KELAPA 300GR"
          ],
          [
           "ROMA KELAPA 300GR"
          ],
          [
           "ROMA KELAPA 300GR"
          ],
          [
           "ROMA KELAPA 300GR"
          ],
          [
           "ROMA KELAPA 300GR"
          ],
          [
           "ROMA KELAPA 300GR"
          ],
          [
           "ROMA KELAPA 300GR"
          ],
          [
           "ROMA KELAPA 300GR"
          ],
          [
           "ROMA KELAPA 300GR"
          ],
          [
           "ROMA KELAPA 300GR"
          ],
          [
           "ROMA KELAPA 300GR"
          ],
          [
           "ROMA KELAPA 300GR"
          ],
          [
           "ROMA KELAPA 300GR"
          ],
          [
           "ROMA KELAPA 300GR"
          ],
          [
           "ROMA KELAPA 300GR"
          ],
          [
           "ROMA KELAPA 300GR"
          ],
          [
           "ROMA KELAPA 300GR"
          ],
          [
           "ROMA KELAPA 300GR"
          ],
          [
           "ROMA KELAPA 300GR"
          ],
          [
           "ROMA KELAPA 300GR"
          ],
          [
           "ROMA KELAPA 300GR"
          ],
          [
           "ROMA KELAPA 300GR"
          ],
          [
           "ROMA KELAPA 300GR"
          ],
          [
           "ROMA KELAPA 300GR"
          ],
          [
           "ROMA KELAPA 300GR"
          ],
          [
           "ROMA KELAPA 300GR"
          ],
          [
           "ROMA KELAPA 300GR"
          ],
          [
           "ROMA KELAPA 300GR"
          ],
          [
           "ROMA KELAPA 300GR"
          ],
          [
           "ROMA KELAPA 300GR"
          ],
          [
           "ROMA KELAPA 300GR"
          ],
          [
           "ROMA KELAPA 300GR"
          ],
          [
           "ROMA KELAPA 300GR"
          ],
          [
           "ROMA KELAPA 300GR"
          ],
          [
           "ROMA KELAPA 300GR"
          ],
          [
           "ROMA KELAPA 300GR"
          ],
          [
           "ROMA KELAPA 300GR"
          ],
          [
           "ROMA KELAPA 300GR"
          ],
          [
           "ROMA KELAPA 300GR"
          ],
          [
           "ROMA KELAPA 300GR"
          ],
          [
           "ROMA KELAPA 300GR"
          ],
          [
           "ROMA KELAPA 300GR"
          ],
          [
           "ROMA KELAPA 300GR"
          ],
          [
           "ROMA KELAPA 300GR"
          ],
          [
           "ROMA KELAPA 300GR"
          ],
          [
           "ROMA KELAPA 300GR"
          ],
          [
           "ROMA KELAPA 300GR"
          ],
          [
           "ROMA KELAPA 300GR"
          ]
         ],
         "hovertemplate": "Nama Produk=%{customdata[0]}<br>Tanggal=%{x}<br>Jumlah Terjual=%{y}<extra></extra>",
         "legendgroup": "ROMA KELAPA 300GR",
         "line": {
          "color": "#FF97FF",
          "dash": "solid"
         },
         "marker": {
          "symbol": "circle"
         },
         "mode": "lines+markers",
         "name": "ROMA KELAPA 300GR",
         "orientation": "v",
         "showlegend": true,
         "type": "scatter",
         "x": [
          "2023-01-01T00:00:00",
          "2023-01-08T00:00:00",
          "2023-01-15T00:00:00",
          "2023-01-22T00:00:00",
          "2023-01-29T00:00:00",
          "2023-02-05T00:00:00",
          "2023-02-12T00:00:00",
          "2023-02-19T00:00:00",
          "2023-02-26T00:00:00",
          "2023-03-05T00:00:00",
          "2023-03-12T00:00:00",
          "2023-03-19T00:00:00",
          "2023-03-26T00:00:00",
          "2023-04-02T00:00:00",
          "2023-04-09T00:00:00",
          "2023-04-16T00:00:00",
          "2023-04-23T00:00:00",
          "2023-04-30T00:00:00",
          "2023-05-07T00:00:00",
          "2023-05-14T00:00:00",
          "2023-05-21T00:00:00",
          "2023-05-28T00:00:00",
          "2023-06-04T00:00:00",
          "2023-06-11T00:00:00",
          "2023-06-18T00:00:00",
          "2023-06-25T00:00:00",
          "2023-07-02T00:00:00",
          "2023-07-09T00:00:00",
          "2023-07-16T00:00:00",
          "2023-07-23T00:00:00",
          "2023-07-30T00:00:00",
          "2023-08-06T00:00:00",
          "2023-08-13T00:00:00",
          "2023-08-20T00:00:00",
          "2023-08-27T00:00:00",
          "2023-09-03T00:00:00",
          "2023-09-10T00:00:00",
          "2023-09-17T00:00:00",
          "2023-09-24T00:00:00",
          "2023-10-01T00:00:00",
          "2023-10-08T00:00:00",
          "2023-10-15T00:00:00",
          "2023-10-22T00:00:00",
          "2023-10-29T00:00:00",
          "2023-11-05T00:00:00",
          "2023-11-12T00:00:00",
          "2023-11-19T00:00:00",
          "2023-11-26T00:00:00",
          "2023-12-03T00:00:00",
          "2023-12-10T00:00:00",
          "2023-12-17T00:00:00",
          "2023-12-24T00:00:00",
          "2023-12-31T00:00:00"
         ],
         "xaxis": "x",
         "y": [
          11,
          2,
          5,
          7,
          11,
          9,
          6,
          12,
          5,
          13,
          9,
          11,
          13,
          3,
          4,
          6,
          4,
          3,
          2,
          6,
          7,
          6,
          8,
          5,
          6,
          6,
          6,
          9,
          5,
          3,
          9,
          4,
          3,
          3,
          2,
          9,
          6,
          5,
          7,
          5,
          6,
          4,
          2,
          4,
          5,
          4,
          4,
          13,
          3,
          2,
          6,
          12,
          1
         ],
         "yaxis": "y"
        },
        {
         "customdata": [
          [
           "INDOMILK STR 190ML BTL"
          ],
          [
           "INDOMILK STR 190ML BTL"
          ],
          [
           "INDOMILK STR 190ML BTL"
          ],
          [
           "INDOMILK STR 190ML BTL"
          ],
          [
           "INDOMILK STR 190ML BTL"
          ],
          [
           "INDOMILK STR 190ML BTL"
          ],
          [
           "INDOMILK STR 190ML BTL"
          ],
          [
           "INDOMILK STR 190ML BTL"
          ],
          [
           "INDOMILK STR 190ML BTL"
          ],
          [
           "INDOMILK STR 190ML BTL"
          ],
          [
           "INDOMILK STR 190ML BTL"
          ],
          [
           "INDOMILK STR 190ML BTL"
          ],
          [
           "INDOMILK STR 190ML BTL"
          ],
          [
           "INDOMILK STR 190ML BTL"
          ],
          [
           "INDOMILK STR 190ML BTL"
          ],
          [
           "INDOMILK STR 190ML BTL"
          ],
          [
           "INDOMILK STR 190ML BTL"
          ],
          [
           "INDOMILK STR 190ML BTL"
          ],
          [
           "INDOMILK STR 190ML BTL"
          ],
          [
           "INDOMILK STR 190ML BTL"
          ],
          [
           "INDOMILK STR 190ML BTL"
          ],
          [
           "INDOMILK STR 190ML BTL"
          ],
          [
           "INDOMILK STR 190ML BTL"
          ],
          [
           "INDOMILK STR 190ML BTL"
          ],
          [
           "INDOMILK STR 190ML BTL"
          ],
          [
           "INDOMILK STR 190ML BTL"
          ],
          [
           "INDOMILK STR 190ML BTL"
          ],
          [
           "INDOMILK STR 190ML BTL"
          ],
          [
           "INDOMILK STR 190ML BTL"
          ],
          [
           "INDOMILK STR 190ML BTL"
          ],
          [
           "INDOMILK STR 190ML BTL"
          ],
          [
           "INDOMILK STR 190ML BTL"
          ],
          [
           "INDOMILK STR 190ML BTL"
          ],
          [
           "INDOMILK STR 190ML BTL"
          ],
          [
           "INDOMILK STR 190ML BTL"
          ],
          [
           "INDOMILK STR 190ML BTL"
          ],
          [
           "INDOMILK STR 190ML BTL"
          ],
          [
           "INDOMILK STR 190ML BTL"
          ],
          [
           "INDOMILK STR 190ML BTL"
          ],
          [
           "INDOMILK STR 190ML BTL"
          ],
          [
           "INDOMILK STR 190ML BTL"
          ],
          [
           "INDOMILK STR 190ML BTL"
          ],
          [
           "INDOMILK STR 190ML BTL"
          ],
          [
           "INDOMILK STR 190ML BTL"
          ],
          [
           "INDOMILK STR 190ML BTL"
          ],
          [
           "INDOMILK STR 190ML BTL"
          ],
          [
           "INDOMILK STR 190ML BTL"
          ],
          [
           "INDOMILK STR 190ML BTL"
          ],
          [
           "INDOMILK STR 190ML BTL"
          ],
          [
           "INDOMILK STR 190ML BTL"
          ],
          [
           "INDOMILK STR 190ML BTL"
          ],
          [
           "INDOMILK STR 190ML BTL"
          ],
          [
           "INDOMILK STR 190ML BTL"
          ]
         ],
         "hovertemplate": "Nama Produk=%{customdata[0]}<br>Tanggal=%{x}<br>Jumlah Terjual=%{y}<extra></extra>",
         "legendgroup": "INDOMILK STR 190ML BTL",
         "line": {
          "color": "#FECB52",
          "dash": "solid"
         },
         "marker": {
          "symbol": "circle"
         },
         "mode": "lines+markers",
         "name": "INDOMILK STR 190ML BTL",
         "orientation": "v",
         "showlegend": true,
         "type": "scatter",
         "x": [
          "2023-01-01T00:00:00",
          "2023-01-08T00:00:00",
          "2023-01-15T00:00:00",
          "2023-01-22T00:00:00",
          "2023-01-29T00:00:00",
          "2023-02-05T00:00:00",
          "2023-02-12T00:00:00",
          "2023-02-19T00:00:00",
          "2023-02-26T00:00:00",
          "2023-03-05T00:00:00",
          "2023-03-12T00:00:00",
          "2023-03-19T00:00:00",
          "2023-03-26T00:00:00",
          "2023-04-02T00:00:00",
          "2023-04-09T00:00:00",
          "2023-04-16T00:00:00",
          "2023-04-23T00:00:00",
          "2023-04-30T00:00:00",
          "2023-05-07T00:00:00",
          "2023-05-14T00:00:00",
          "2023-05-21T00:00:00",
          "2023-05-28T00:00:00",
          "2023-06-04T00:00:00",
          "2023-06-11T00:00:00",
          "2023-06-18T00:00:00",
          "2023-06-25T00:00:00",
          "2023-07-02T00:00:00",
          "2023-07-09T00:00:00",
          "2023-07-16T00:00:00",
          "2023-07-23T00:00:00",
          "2023-07-30T00:00:00",
          "2023-08-06T00:00:00",
          "2023-08-13T00:00:00",
          "2023-08-20T00:00:00",
          "2023-08-27T00:00:00",
          "2023-09-03T00:00:00",
          "2023-09-10T00:00:00",
          "2023-09-17T00:00:00",
          "2023-09-24T00:00:00",
          "2023-10-01T00:00:00",
          "2023-10-08T00:00:00",
          "2023-10-15T00:00:00",
          "2023-10-22T00:00:00",
          "2023-10-29T00:00:00",
          "2023-11-05T00:00:00",
          "2023-11-12T00:00:00",
          "2023-11-19T00:00:00",
          "2023-11-26T00:00:00",
          "2023-12-03T00:00:00",
          "2023-12-10T00:00:00",
          "2023-12-17T00:00:00",
          "2023-12-24T00:00:00",
          "2023-12-31T00:00:00"
         ],
         "xaxis": "x",
         "y": [
          7,
          2,
          8,
          1,
          6,
          3,
          1,
          2,
          5,
          7,
          1,
          4,
          4,
          2,
          4,
          6,
          1,
          10,
          1,
          1,
          0,
          12,
          7,
          1,
          7,
          5,
          4,
          2,
          3,
          6,
          4,
          1,
          4,
          8,
          1,
          1,
          8,
          4,
          8,
          8,
          5,
          6,
          3,
          10,
          3,
          8,
          9,
          13,
          8,
          14,
          9,
          3,
          1
         ],
         "yaxis": "y"
        },
        {
         "customdata": [
          [
           "NUVO SOAP YLOW 72G"
          ],
          [
           "NUVO SOAP YLOW 72G"
          ],
          [
           "NUVO SOAP YLOW 72G"
          ],
          [
           "NUVO SOAP YLOW 72G"
          ],
          [
           "NUVO SOAP YLOW 72G"
          ],
          [
           "NUVO SOAP YLOW 72G"
          ],
          [
           "NUVO SOAP YLOW 72G"
          ],
          [
           "NUVO SOAP YLOW 72G"
          ],
          [
           "NUVO SOAP YLOW 72G"
          ],
          [
           "NUVO SOAP YLOW 72G"
          ],
          [
           "NUVO SOAP YLOW 72G"
          ],
          [
           "NUVO SOAP YLOW 72G"
          ],
          [
           "NUVO SOAP YLOW 72G"
          ],
          [
           "NUVO SOAP YLOW 72G"
          ],
          [
           "NUVO SOAP YLOW 72G"
          ],
          [
           "NUVO SOAP YLOW 72G"
          ],
          [
           "NUVO SOAP YLOW 72G"
          ],
          [
           "NUVO SOAP YLOW 72G"
          ],
          [
           "NUVO SOAP YLOW 72G"
          ],
          [
           "NUVO SOAP YLOW 72G"
          ],
          [
           "NUVO SOAP YLOW 72G"
          ],
          [
           "NUVO SOAP YLOW 72G"
          ],
          [
           "NUVO SOAP YLOW 72G"
          ],
          [
           "NUVO SOAP YLOW 72G"
          ],
          [
           "NUVO SOAP YLOW 72G"
          ],
          [
           "NUVO SOAP YLOW 72G"
          ],
          [
           "NUVO SOAP YLOW 72G"
          ],
          [
           "NUVO SOAP YLOW 72G"
          ],
          [
           "NUVO SOAP YLOW 72G"
          ],
          [
           "NUVO SOAP YLOW 72G"
          ],
          [
           "NUVO SOAP YLOW 72G"
          ],
          [
           "NUVO SOAP YLOW 72G"
          ],
          [
           "NUVO SOAP YLOW 72G"
          ],
          [
           "NUVO SOAP YLOW 72G"
          ],
          [
           "NUVO SOAP YLOW 72G"
          ],
          [
           "NUVO SOAP YLOW 72G"
          ],
          [
           "NUVO SOAP YLOW 72G"
          ],
          [
           "NUVO SOAP YLOW 72G"
          ],
          [
           "NUVO SOAP YLOW 72G"
          ],
          [
           "NUVO SOAP YLOW 72G"
          ],
          [
           "NUVO SOAP YLOW 72G"
          ],
          [
           "NUVO SOAP YLOW 72G"
          ],
          [
           "NUVO SOAP YLOW 72G"
          ],
          [
           "NUVO SOAP YLOW 72G"
          ],
          [
           "NUVO SOAP YLOW 72G"
          ],
          [
           "NUVO SOAP YLOW 72G"
          ],
          [
           "NUVO SOAP YLOW 72G"
          ],
          [
           "NUVO SOAP YLOW 72G"
          ],
          [
           "NUVO SOAP YLOW 72G"
          ],
          [
           "NUVO SOAP YLOW 72G"
          ],
          [
           "NUVO SOAP YLOW 72G"
          ],
          [
           "NUVO SOAP YLOW 72G"
          ],
          [
           "NUVO SOAP YLOW 72G"
          ]
         ],
         "hovertemplate": "Nama Produk=%{customdata[0]}<br>Tanggal=%{x}<br>Jumlah Terjual=%{y}<extra></extra>",
         "legendgroup": "NUVO SOAP YLOW 72G",
         "line": {
          "color": "#636efa",
          "dash": "solid"
         },
         "marker": {
          "symbol": "circle"
         },
         "mode": "lines+markers",
         "name": "NUVO SOAP YLOW 72G",
         "orientation": "v",
         "showlegend": true,
         "type": "scatter",
         "x": [
          "2023-01-01T00:00:00",
          "2023-01-08T00:00:00",
          "2023-01-15T00:00:00",
          "2023-01-22T00:00:00",
          "2023-01-29T00:00:00",
          "2023-02-05T00:00:00",
          "2023-02-12T00:00:00",
          "2023-02-19T00:00:00",
          "2023-02-26T00:00:00",
          "2023-03-05T00:00:00",
          "2023-03-12T00:00:00",
          "2023-03-19T00:00:00",
          "2023-03-26T00:00:00",
          "2023-04-02T00:00:00",
          "2023-04-09T00:00:00",
          "2023-04-16T00:00:00",
          "2023-04-23T00:00:00",
          "2023-04-30T00:00:00",
          "2023-05-07T00:00:00",
          "2023-05-14T00:00:00",
          "2023-05-21T00:00:00",
          "2023-05-28T00:00:00",
          "2023-06-04T00:00:00",
          "2023-06-11T00:00:00",
          "2023-06-18T00:00:00",
          "2023-06-25T00:00:00",
          "2023-07-02T00:00:00",
          "2023-07-09T00:00:00",
          "2023-07-16T00:00:00",
          "2023-07-23T00:00:00",
          "2023-07-30T00:00:00",
          "2023-08-06T00:00:00",
          "2023-08-13T00:00:00",
          "2023-08-20T00:00:00",
          "2023-08-27T00:00:00",
          "2023-09-03T00:00:00",
          "2023-09-10T00:00:00",
          "2023-09-17T00:00:00",
          "2023-09-24T00:00:00",
          "2023-10-01T00:00:00",
          "2023-10-08T00:00:00",
          "2023-10-15T00:00:00",
          "2023-10-22T00:00:00",
          "2023-10-29T00:00:00",
          "2023-11-05T00:00:00",
          "2023-11-12T00:00:00",
          "2023-11-19T00:00:00",
          "2023-11-26T00:00:00",
          "2023-12-03T00:00:00",
          "2023-12-10T00:00:00",
          "2023-12-17T00:00:00",
          "2023-12-24T00:00:00",
          "2023-12-31T00:00:00"
         ],
         "xaxis": "x",
         "y": [
          9,
          1,
          4,
          1,
          12,
          6,
          2,
          4,
          5,
          3,
          4,
          13,
          5,
          15,
          0,
          8,
          4,
          7,
          2,
          2,
          4,
          12,
          5,
          6,
          4,
          5,
          9,
          8,
          1,
          2,
          1,
          2,
          2,
          6,
          6,
          3,
          6,
          4,
          3,
          5,
          3,
          4,
          1,
          8,
          6,
          4,
          3,
          4,
          6,
          2,
          3,
          1,
          0
         ],
         "yaxis": "y"
        },
        {
         "customdata": [
          [
           "KRIPIK SGKG TURBO 180G"
          ],
          [
           "KRIPIK SGKG TURBO 180G"
          ],
          [
           "KRIPIK SGKG TURBO 180G"
          ],
          [
           "KRIPIK SGKG TURBO 180G"
          ],
          [
           "KRIPIK SGKG TURBO 180G"
          ],
          [
           "KRIPIK SGKG TURBO 180G"
          ],
          [
           "KRIPIK SGKG TURBO 180G"
          ],
          [
           "KRIPIK SGKG TURBO 180G"
          ],
          [
           "KRIPIK SGKG TURBO 180G"
          ],
          [
           "KRIPIK SGKG TURBO 180G"
          ],
          [
           "KRIPIK SGKG TURBO 180G"
          ],
          [
           "KRIPIK SGKG TURBO 180G"
          ],
          [
           "KRIPIK SGKG TURBO 180G"
          ],
          [
           "KRIPIK SGKG TURBO 180G"
          ],
          [
           "KRIPIK SGKG TURBO 180G"
          ],
          [
           "KRIPIK SGKG TURBO 180G"
          ],
          [
           "KRIPIK SGKG TURBO 180G"
          ],
          [
           "KRIPIK SGKG TURBO 180G"
          ],
          [
           "KRIPIK SGKG TURBO 180G"
          ],
          [
           "KRIPIK SGKG TURBO 180G"
          ],
          [
           "KRIPIK SGKG TURBO 180G"
          ],
          [
           "KRIPIK SGKG TURBO 180G"
          ],
          [
           "KRIPIK SGKG TURBO 180G"
          ],
          [
           "KRIPIK SGKG TURBO 180G"
          ],
          [
           "KRIPIK SGKG TURBO 180G"
          ],
          [
           "KRIPIK SGKG TURBO 180G"
          ],
          [
           "KRIPIK SGKG TURBO 180G"
          ],
          [
           "KRIPIK SGKG TURBO 180G"
          ],
          [
           "KRIPIK SGKG TURBO 180G"
          ],
          [
           "KRIPIK SGKG TURBO 180G"
          ],
          [
           "KRIPIK SGKG TURBO 180G"
          ],
          [
           "KRIPIK SGKG TURBO 180G"
          ],
          [
           "KRIPIK SGKG TURBO 180G"
          ],
          [
           "KRIPIK SGKG TURBO 180G"
          ],
          [
           "KRIPIK SGKG TURBO 180G"
          ],
          [
           "KRIPIK SGKG TURBO 180G"
          ],
          [
           "KRIPIK SGKG TURBO 180G"
          ],
          [
           "KRIPIK SGKG TURBO 180G"
          ],
          [
           "KRIPIK SGKG TURBO 180G"
          ],
          [
           "KRIPIK SGKG TURBO 180G"
          ],
          [
           "KRIPIK SGKG TURBO 180G"
          ],
          [
           "KRIPIK SGKG TURBO 180G"
          ],
          [
           "KRIPIK SGKG TURBO 180G"
          ],
          [
           "KRIPIK SGKG TURBO 180G"
          ],
          [
           "KRIPIK SGKG TURBO 180G"
          ],
          [
           "KRIPIK SGKG TURBO 180G"
          ],
          [
           "KRIPIK SGKG TURBO 180G"
          ],
          [
           "KRIPIK SGKG TURBO 180G"
          ],
          [
           "KRIPIK SGKG TURBO 180G"
          ],
          [
           "KRIPIK SGKG TURBO 180G"
          ],
          [
           "KRIPIK SGKG TURBO 180G"
          ],
          [
           "KRIPIK SGKG TURBO 180G"
          ],
          [
           "KRIPIK SGKG TURBO 180G"
          ]
         ],
         "hovertemplate": "Nama Produk=%{customdata[0]}<br>Tanggal=%{x}<br>Jumlah Terjual=%{y}<extra></extra>",
         "legendgroup": "KRIPIK SGKG TURBO 180G",
         "line": {
          "color": "#EF553B",
          "dash": "solid"
         },
         "marker": {
          "symbol": "circle"
         },
         "mode": "lines+markers",
         "name": "KRIPIK SGKG TURBO 180G",
         "orientation": "v",
         "showlegend": true,
         "type": "scatter",
         "x": [
          "2023-01-01T00:00:00",
          "2023-01-08T00:00:00",
          "2023-01-15T00:00:00",
          "2023-01-22T00:00:00",
          "2023-01-29T00:00:00",
          "2023-02-05T00:00:00",
          "2023-02-12T00:00:00",
          "2023-02-19T00:00:00",
          "2023-02-26T00:00:00",
          "2023-03-05T00:00:00",
          "2023-03-12T00:00:00",
          "2023-03-19T00:00:00",
          "2023-03-26T00:00:00",
          "2023-04-02T00:00:00",
          "2023-04-09T00:00:00",
          "2023-04-16T00:00:00",
          "2023-04-23T00:00:00",
          "2023-04-30T00:00:00",
          "2023-05-07T00:00:00",
          "2023-05-14T00:00:00",
          "2023-05-21T00:00:00",
          "2023-05-28T00:00:00",
          "2023-06-04T00:00:00",
          "2023-06-11T00:00:00",
          "2023-06-18T00:00:00",
          "2023-06-25T00:00:00",
          "2023-07-02T00:00:00",
          "2023-07-09T00:00:00",
          "2023-07-16T00:00:00",
          "2023-07-23T00:00:00",
          "2023-07-30T00:00:00",
          "2023-08-06T00:00:00",
          "2023-08-13T00:00:00",
          "2023-08-20T00:00:00",
          "2023-08-27T00:00:00",
          "2023-09-03T00:00:00",
          "2023-09-10T00:00:00",
          "2023-09-17T00:00:00",
          "2023-09-24T00:00:00",
          "2023-10-01T00:00:00",
          "2023-10-08T00:00:00",
          "2023-10-15T00:00:00",
          "2023-10-22T00:00:00",
          "2023-10-29T00:00:00",
          "2023-11-05T00:00:00",
          "2023-11-12T00:00:00",
          "2023-11-19T00:00:00",
          "2023-11-26T00:00:00",
          "2023-12-03T00:00:00",
          "2023-12-10T00:00:00",
          "2023-12-17T00:00:00",
          "2023-12-24T00:00:00",
          "2023-12-31T00:00:00"
         ],
         "xaxis": "x",
         "y": [
          3,
          1,
          0,
          0,
          0,
          4,
          9,
          7,
          5,
          8,
          11,
          12,
          6,
          6,
          2,
          4,
          15,
          6,
          12,
          4,
          6,
          3,
          5,
          5,
          1,
          6,
          10,
          2,
          4,
          4,
          2,
          5,
          1,
          5,
          2,
          2,
          2,
          5,
          3,
          4,
          3,
          2,
          1,
          5,
          0,
          4,
          1,
          0,
          5,
          6,
          3,
          3,
          1
         ],
         "yaxis": "y"
        },
        {
         "customdata": [
          [
           "NUVO SOAP BLUE 72G"
          ],
          [
           "NUVO SOAP BLUE 72G"
          ],
          [
           "NUVO SOAP BLUE 72G"
          ],
          [
           "NUVO SOAP BLUE 72G"
          ],
          [
           "NUVO SOAP BLUE 72G"
          ],
          [
           "NUVO SOAP BLUE 72G"
          ],
          [
           "NUVO SOAP BLUE 72G"
          ],
          [
           "NUVO SOAP BLUE 72G"
          ],
          [
           "NUVO SOAP BLUE 72G"
          ],
          [
           "NUVO SOAP BLUE 72G"
          ],
          [
           "NUVO SOAP BLUE 72G"
          ],
          [
           "NUVO SOAP BLUE 72G"
          ],
          [
           "NUVO SOAP BLUE 72G"
          ],
          [
           "NUVO SOAP BLUE 72G"
          ],
          [
           "NUVO SOAP BLUE 72G"
          ],
          [
           "NUVO SOAP BLUE 72G"
          ],
          [
           "NUVO SOAP BLUE 72G"
          ],
          [
           "NUVO SOAP BLUE 72G"
          ],
          [
           "NUVO SOAP BLUE 72G"
          ],
          [
           "NUVO SOAP BLUE 72G"
          ],
          [
           "NUVO SOAP BLUE 72G"
          ],
          [
           "NUVO SOAP BLUE 72G"
          ],
          [
           "NUVO SOAP BLUE 72G"
          ],
          [
           "NUVO SOAP BLUE 72G"
          ],
          [
           "NUVO SOAP BLUE 72G"
          ],
          [
           "NUVO SOAP BLUE 72G"
          ],
          [
           "NUVO SOAP BLUE 72G"
          ],
          [
           "NUVO SOAP BLUE 72G"
          ],
          [
           "NUVO SOAP BLUE 72G"
          ],
          [
           "NUVO SOAP BLUE 72G"
          ],
          [
           "NUVO SOAP BLUE 72G"
          ],
          [
           "NUVO SOAP BLUE 72G"
          ],
          [
           "NUVO SOAP BLUE 72G"
          ],
          [
           "NUVO SOAP BLUE 72G"
          ],
          [
           "NUVO SOAP BLUE 72G"
          ],
          [
           "NUVO SOAP BLUE 72G"
          ],
          [
           "NUVO SOAP BLUE 72G"
          ],
          [
           "NUVO SOAP BLUE 72G"
          ],
          [
           "NUVO SOAP BLUE 72G"
          ],
          [
           "NUVO SOAP BLUE 72G"
          ],
          [
           "NUVO SOAP BLUE 72G"
          ],
          [
           "NUVO SOAP BLUE 72G"
          ],
          [
           "NUVO SOAP BLUE 72G"
          ],
          [
           "NUVO SOAP BLUE 72G"
          ],
          [
           "NUVO SOAP BLUE 72G"
          ],
          [
           "NUVO SOAP BLUE 72G"
          ],
          [
           "NUVO SOAP BLUE 72G"
          ],
          [
           "NUVO SOAP BLUE 72G"
          ],
          [
           "NUVO SOAP BLUE 72G"
          ],
          [
           "NUVO SOAP BLUE 72G"
          ],
          [
           "NUVO SOAP BLUE 72G"
          ],
          [
           "NUVO SOAP BLUE 72G"
          ],
          [
           "NUVO SOAP BLUE 72G"
          ]
         ],
         "hovertemplate": "Nama Produk=%{customdata[0]}<br>Tanggal=%{x}<br>Jumlah Terjual=%{y}<extra></extra>",
         "legendgroup": "NUVO SOAP BLUE 72G",
         "line": {
          "color": "#00cc96",
          "dash": "solid"
         },
         "marker": {
          "symbol": "circle"
         },
         "mode": "lines+markers",
         "name": "NUVO SOAP BLUE 72G",
         "orientation": "v",
         "showlegend": true,
         "type": "scatter",
         "x": [
          "2023-01-01T00:00:00",
          "2023-01-08T00:00:00",
          "2023-01-15T00:00:00",
          "2023-01-22T00:00:00",
          "2023-01-29T00:00:00",
          "2023-02-05T00:00:00",
          "2023-02-12T00:00:00",
          "2023-02-19T00:00:00",
          "2023-02-26T00:00:00",
          "2023-03-05T00:00:00",
          "2023-03-12T00:00:00",
          "2023-03-19T00:00:00",
          "2023-03-26T00:00:00",
          "2023-04-02T00:00:00",
          "2023-04-09T00:00:00",
          "2023-04-16T00:00:00",
          "2023-04-23T00:00:00",
          "2023-04-30T00:00:00",
          "2023-05-07T00:00:00",
          "2023-05-14T00:00:00",
          "2023-05-21T00:00:00",
          "2023-05-28T00:00:00",
          "2023-06-04T00:00:00",
          "2023-06-11T00:00:00",
          "2023-06-18T00:00:00",
          "2023-06-25T00:00:00",
          "2023-07-02T00:00:00",
          "2023-07-09T00:00:00",
          "2023-07-16T00:00:00",
          "2023-07-23T00:00:00",
          "2023-07-30T00:00:00",
          "2023-08-06T00:00:00",
          "2023-08-13T00:00:00",
          "2023-08-20T00:00:00",
          "2023-08-27T00:00:00",
          "2023-09-03T00:00:00",
          "2023-09-10T00:00:00",
          "2023-09-17T00:00:00",
          "2023-09-24T00:00:00",
          "2023-10-01T00:00:00",
          "2023-10-08T00:00:00",
          "2023-10-15T00:00:00",
          "2023-10-22T00:00:00",
          "2023-10-29T00:00:00",
          "2023-11-05T00:00:00",
          "2023-11-12T00:00:00",
          "2023-11-19T00:00:00",
          "2023-11-26T00:00:00",
          "2023-12-03T00:00:00",
          "2023-12-10T00:00:00",
          "2023-12-17T00:00:00",
          "2023-12-24T00:00:00",
          "2023-12-31T00:00:00"
         ],
         "xaxis": "x",
         "y": [
          10,
          4,
          5,
          0,
          15,
          4,
          9,
          5,
          11,
          2,
          6,
          1,
          3,
          10,
          2,
          2,
          1,
          7,
          1,
          5,
          4,
          2,
          7,
          4,
          3,
          1,
          3,
          5,
          1,
          6,
          2,
          2,
          2,
          1,
          8,
          5,
          0,
          1,
          3,
          2,
          5,
          2,
          1,
          9,
          10,
          5,
          6,
          5,
          6,
          5,
          2,
          0,
          0
         ],
         "yaxis": "y"
        },
        {
         "customdata": [
          [
           "YA KOPI SPESIAL 60GR"
          ],
          [
           "YA KOPI SPESIAL 60GR"
          ],
          [
           "YA KOPI SPESIAL 60GR"
          ],
          [
           "YA KOPI SPESIAL 60GR"
          ],
          [
           "YA KOPI SPESIAL 60GR"
          ],
          [
           "YA KOPI SPESIAL 60GR"
          ],
          [
           "YA KOPI SPESIAL 60GR"
          ],
          [
           "YA KOPI SPESIAL 60GR"
          ],
          [
           "YA KOPI SPESIAL 60GR"
          ],
          [
           "YA KOPI SPESIAL 60GR"
          ],
          [
           "YA KOPI SPESIAL 60GR"
          ],
          [
           "YA KOPI SPESIAL 60GR"
          ],
          [
           "YA KOPI SPESIAL 60GR"
          ],
          [
           "YA KOPI SPESIAL 60GR"
          ],
          [
           "YA KOPI SPESIAL 60GR"
          ],
          [
           "YA KOPI SPESIAL 60GR"
          ],
          [
           "YA KOPI SPESIAL 60GR"
          ],
          [
           "YA KOPI SPESIAL 60GR"
          ],
          [
           "YA KOPI SPESIAL 60GR"
          ],
          [
           "YA KOPI SPESIAL 60GR"
          ],
          [
           "YA KOPI SPESIAL 60GR"
          ],
          [
           "YA KOPI SPESIAL 60GR"
          ],
          [
           "YA KOPI SPESIAL 60GR"
          ],
          [
           "YA KOPI SPESIAL 60GR"
          ],
          [
           "YA KOPI SPESIAL 60GR"
          ],
          [
           "YA KOPI SPESIAL 60GR"
          ],
          [
           "YA KOPI SPESIAL 60GR"
          ],
          [
           "YA KOPI SPESIAL 60GR"
          ],
          [
           "YA KOPI SPESIAL 60GR"
          ],
          [
           "YA KOPI SPESIAL 60GR"
          ],
          [
           "YA KOPI SPESIAL 60GR"
          ],
          [
           "YA KOPI SPESIAL 60GR"
          ],
          [
           "YA KOPI SPESIAL 60GR"
          ],
          [
           "YA KOPI SPESIAL 60GR"
          ],
          [
           "YA KOPI SPESIAL 60GR"
          ],
          [
           "YA KOPI SPESIAL 60GR"
          ],
          [
           "YA KOPI SPESIAL 60GR"
          ],
          [
           "YA KOPI SPESIAL 60GR"
          ],
          [
           "YA KOPI SPESIAL 60GR"
          ],
          [
           "YA KOPI SPESIAL 60GR"
          ],
          [
           "YA KOPI SPESIAL 60GR"
          ],
          [
           "YA KOPI SPESIAL 60GR"
          ],
          [
           "YA KOPI SPESIAL 60GR"
          ],
          [
           "YA KOPI SPESIAL 60GR"
          ],
          [
           "YA KOPI SPESIAL 60GR"
          ],
          [
           "YA KOPI SPESIAL 60GR"
          ],
          [
           "YA KOPI SPESIAL 60GR"
          ],
          [
           "YA KOPI SPESIAL 60GR"
          ],
          [
           "YA KOPI SPESIAL 60GR"
          ],
          [
           "YA KOPI SPESIAL 60GR"
          ],
          [
           "YA KOPI SPESIAL 60GR"
          ],
          [
           "YA KOPI SPESIAL 60GR"
          ],
          [
           "YA KOPI SPESIAL 60GR"
          ]
         ],
         "hovertemplate": "Nama Produk=%{customdata[0]}<br>Tanggal=%{x}<br>Jumlah Terjual=%{y}<extra></extra>",
         "legendgroup": "YA KOPI SPESIAL 60GR",
         "line": {
          "color": "#ab63fa",
          "dash": "solid"
         },
         "marker": {
          "symbol": "circle"
         },
         "mode": "lines+markers",
         "name": "YA KOPI SPESIAL 60GR",
         "orientation": "v",
         "showlegend": true,
         "type": "scatter",
         "x": [
          "2023-01-01T00:00:00",
          "2023-01-08T00:00:00",
          "2023-01-15T00:00:00",
          "2023-01-22T00:00:00",
          "2023-01-29T00:00:00",
          "2023-02-05T00:00:00",
          "2023-02-12T00:00:00",
          "2023-02-19T00:00:00",
          "2023-02-26T00:00:00",
          "2023-03-05T00:00:00",
          "2023-03-12T00:00:00",
          "2023-03-19T00:00:00",
          "2023-03-26T00:00:00",
          "2023-04-02T00:00:00",
          "2023-04-09T00:00:00",
          "2023-04-16T00:00:00",
          "2023-04-23T00:00:00",
          "2023-04-30T00:00:00",
          "2023-05-07T00:00:00",
          "2023-05-14T00:00:00",
          "2023-05-21T00:00:00",
          "2023-05-28T00:00:00",
          "2023-06-04T00:00:00",
          "2023-06-11T00:00:00",
          "2023-06-18T00:00:00",
          "2023-06-25T00:00:00",
          "2023-07-02T00:00:00",
          "2023-07-09T00:00:00",
          "2023-07-16T00:00:00",
          "2023-07-23T00:00:00",
          "2023-07-30T00:00:00",
          "2023-08-06T00:00:00",
          "2023-08-13T00:00:00",
          "2023-08-20T00:00:00",
          "2023-08-27T00:00:00",
          "2023-09-03T00:00:00",
          "2023-09-10T00:00:00",
          "2023-09-17T00:00:00",
          "2023-09-24T00:00:00",
          "2023-10-01T00:00:00",
          "2023-10-08T00:00:00",
          "2023-10-15T00:00:00",
          "2023-10-22T00:00:00",
          "2023-10-29T00:00:00",
          "2023-11-05T00:00:00",
          "2023-11-12T00:00:00",
          "2023-11-19T00:00:00",
          "2023-11-26T00:00:00",
          "2023-12-03T00:00:00",
          "2023-12-10T00:00:00",
          "2023-12-17T00:00:00",
          "2023-12-24T00:00:00",
          "2023-12-31T00:00:00"
         ],
         "xaxis": "x",
         "y": [
          4,
          2,
          3,
          3,
          6,
          4,
          5,
          4,
          3,
          3,
          2,
          2,
          4,
          4,
          5,
          1,
          3,
          2,
          3,
          2,
          3,
          3,
          1,
          7,
          4,
          4,
          0,
          3,
          3,
          2,
          0,
          9,
          5,
          4,
          6,
          8,
          5,
          5,
          0,
          1,
          2,
          5,
          5,
          8,
          1,
          2,
          4,
          13,
          0,
          4,
          2,
          3,
          0
         ],
         "yaxis": "y"
        }
       ],
       "layout": {
        "height": 500,
        "legend": {
         "title": {
          "text": "Klik nama produk untuk tampilkan/sembunyikan"
         },
         "tracegroupgap": 0
        },
        "template": {
         "data": {
          "bar": [
           {
            "error_x": {
             "color": "#2a3f5f"
            },
            "error_y": {
             "color": "#2a3f5f"
            },
            "marker": {
             "line": {
              "color": "white",
              "width": 0.5
             },
             "pattern": {
              "fillmode": "overlay",
              "size": 10,
              "solidity": 0.2
             }
            },
            "type": "bar"
           }
          ],
          "barpolar": [
           {
            "marker": {
             "line": {
              "color": "white",
              "width": 0.5
             },
             "pattern": {
              "fillmode": "overlay",
              "size": 10,
              "solidity": 0.2
             }
            },
            "type": "barpolar"
           }
          ],
          "carpet": [
           {
            "aaxis": {
             "endlinecolor": "#2a3f5f",
             "gridcolor": "#C8D4E3",
             "linecolor": "#C8D4E3",
             "minorgridcolor": "#C8D4E3",
             "startlinecolor": "#2a3f5f"
            },
            "baxis": {
             "endlinecolor": "#2a3f5f",
             "gridcolor": "#C8D4E3",
             "linecolor": "#C8D4E3",
             "minorgridcolor": "#C8D4E3",
             "startlinecolor": "#2a3f5f"
            },
            "type": "carpet"
           }
          ],
          "choropleth": [
           {
            "colorbar": {
             "outlinewidth": 0,
             "ticks": ""
            },
            "type": "choropleth"
           }
          ],
          "contour": [
           {
            "colorbar": {
             "outlinewidth": 0,
             "ticks": ""
            },
            "colorscale": [
             [
              0,
              "#0d0887"
             ],
             [
              0.1111111111111111,
              "#46039f"
             ],
             [
              0.2222222222222222,
              "#7201a8"
             ],
             [
              0.3333333333333333,
              "#9c179e"
             ],
             [
              0.4444444444444444,
              "#bd3786"
             ],
             [
              0.5555555555555556,
              "#d8576b"
             ],
             [
              0.6666666666666666,
              "#ed7953"
             ],
             [
              0.7777777777777778,
              "#fb9f3a"
             ],
             [
              0.8888888888888888,
              "#fdca26"
             ],
             [
              1,
              "#f0f921"
             ]
            ],
            "type": "contour"
           }
          ],
          "contourcarpet": [
           {
            "colorbar": {
             "outlinewidth": 0,
             "ticks": ""
            },
            "type": "contourcarpet"
           }
          ],
          "heatmap": [
           {
            "colorbar": {
             "outlinewidth": 0,
             "ticks": ""
            },
            "colorscale": [
             [
              0,
              "#0d0887"
             ],
             [
              0.1111111111111111,
              "#46039f"
             ],
             [
              0.2222222222222222,
              "#7201a8"
             ],
             [
              0.3333333333333333,
              "#9c179e"
             ],
             [
              0.4444444444444444,
              "#bd3786"
             ],
             [
              0.5555555555555556,
              "#d8576b"
             ],
             [
              0.6666666666666666,
              "#ed7953"
             ],
             [
              0.7777777777777778,
              "#fb9f3a"
             ],
             [
              0.8888888888888888,
              "#fdca26"
             ],
             [
              1,
              "#f0f921"
             ]
            ],
            "type": "heatmap"
           }
          ],
          "heatmapgl": [
           {
            "colorbar": {
             "outlinewidth": 0,
             "ticks": ""
            },
            "colorscale": [
             [
              0,
              "#0d0887"
             ],
             [
              0.1111111111111111,
              "#46039f"
             ],
             [
              0.2222222222222222,
              "#7201a8"
             ],
             [
              0.3333333333333333,
              "#9c179e"
             ],
             [
              0.4444444444444444,
              "#bd3786"
             ],
             [
              0.5555555555555556,
              "#d8576b"
             ],
             [
              0.6666666666666666,
              "#ed7953"
             ],
             [
              0.7777777777777778,
              "#fb9f3a"
             ],
             [
              0.8888888888888888,
              "#fdca26"
             ],
             [
              1,
              "#f0f921"
             ]
            ],
            "type": "heatmapgl"
           }
          ],
          "histogram": [
           {
            "marker": {
             "pattern": {
              "fillmode": "overlay",
              "size": 10,
              "solidity": 0.2
             }
            },
            "type": "histogram"
           }
          ],
          "histogram2d": [
           {
            "colorbar": {
             "outlinewidth": 0,
             "ticks": ""
            },
            "colorscale": [
             [
              0,
              "#0d0887"
             ],
             [
              0.1111111111111111,
              "#46039f"
             ],
             [
              0.2222222222222222,
              "#7201a8"
             ],
             [
              0.3333333333333333,
              "#9c179e"
             ],
             [
              0.4444444444444444,
              "#bd3786"
             ],
             [
              0.5555555555555556,
              "#d8576b"
             ],
             [
              0.6666666666666666,
              "#ed7953"
             ],
             [
              0.7777777777777778,
              "#fb9f3a"
             ],
             [
              0.8888888888888888,
              "#fdca26"
             ],
             [
              1,
              "#f0f921"
             ]
            ],
            "type": "histogram2d"
           }
          ],
          "histogram2dcontour": [
           {
            "colorbar": {
             "outlinewidth": 0,
             "ticks": ""
            },
            "colorscale": [
             [
              0,
              "#0d0887"
             ],
             [
              0.1111111111111111,
              "#46039f"
             ],
             [
              0.2222222222222222,
              "#7201a8"
             ],
             [
              0.3333333333333333,
              "#9c179e"
             ],
             [
              0.4444444444444444,
              "#bd3786"
             ],
             [
              0.5555555555555556,
              "#d8576b"
             ],
             [
              0.6666666666666666,
              "#ed7953"
             ],
             [
              0.7777777777777778,
              "#fb9f3a"
             ],
             [
              0.8888888888888888,
              "#fdca26"
             ],
             [
              1,
              "#f0f921"
             ]
            ],
            "type": "histogram2dcontour"
           }
          ],
          "mesh3d": [
           {
            "colorbar": {
             "outlinewidth": 0,
             "ticks": ""
            },
            "type": "mesh3d"
           }
          ],
          "parcoords": [
           {
            "line": {
             "colorbar": {
              "outlinewidth": 0,
              "ticks": ""
             }
            },
            "type": "parcoords"
           }
          ],
          "pie": [
           {
            "automargin": true,
            "type": "pie"
           }
          ],
          "scatter": [
           {
            "fillpattern": {
             "fillmode": "overlay",
             "size": 10,
             "solidity": 0.2
            },
            "type": "scatter"
           }
          ],
          "scatter3d": [
           {
            "line": {
             "colorbar": {
              "outlinewidth": 0,
              "ticks": ""
             }
            },
            "marker": {
             "colorbar": {
              "outlinewidth": 0,
              "ticks": ""
             }
            },
            "type": "scatter3d"
           }
          ],
          "scattercarpet": [
           {
            "marker": {
             "colorbar": {
              "outlinewidth": 0,
              "ticks": ""
             }
            },
            "type": "scattercarpet"
           }
          ],
          "scattergeo": [
           {
            "marker": {
             "colorbar": {
              "outlinewidth": 0,
              "ticks": ""
             }
            },
            "type": "scattergeo"
           }
          ],
          "scattergl": [
           {
            "marker": {
             "colorbar": {
              "outlinewidth": 0,
              "ticks": ""
             }
            },
            "type": "scattergl"
           }
          ],
          "scattermapbox": [
           {
            "marker": {
             "colorbar": {
              "outlinewidth": 0,
              "ticks": ""
             }
            },
            "type": "scattermapbox"
           }
          ],
          "scatterpolar": [
           {
            "marker": {
             "colorbar": {
              "outlinewidth": 0,
              "ticks": ""
             }
            },
            "type": "scatterpolar"
           }
          ],
          "scatterpolargl": [
           {
            "marker": {
             "colorbar": {
              "outlinewidth": 0,
              "ticks": ""
             }
            },
            "type": "scatterpolargl"
           }
          ],
          "scatterternary": [
           {
            "marker": {
             "colorbar": {
              "outlinewidth": 0,
              "ticks": ""
             }
            },
            "type": "scatterternary"
           }
          ],
          "surface": [
           {
            "colorbar": {
             "outlinewidth": 0,
             "ticks": ""
            },
            "colorscale": [
             [
              0,
              "#0d0887"
             ],
             [
              0.1111111111111111,
              "#46039f"
             ],
             [
              0.2222222222222222,
              "#7201a8"
             ],
             [
              0.3333333333333333,
              "#9c179e"
             ],
             [
              0.4444444444444444,
              "#bd3786"
             ],
             [
              0.5555555555555556,
              "#d8576b"
             ],
             [
              0.6666666666666666,
              "#ed7953"
             ],
             [
              0.7777777777777778,
              "#fb9f3a"
             ],
             [
              0.8888888888888888,
              "#fdca26"
             ],
             [
              1,
              "#f0f921"
             ]
            ],
            "type": "surface"
           }
          ],
          "table": [
           {
            "cells": {
             "fill": {
              "color": "#EBF0F8"
             },
             "line": {
              "color": "white"
             }
            },
            "header": {
             "fill": {
              "color": "#C8D4E3"
             },
             "line": {
              "color": "white"
             }
            },
            "type": "table"
           }
          ]
         },
         "layout": {
          "annotationdefaults": {
           "arrowcolor": "#2a3f5f",
           "arrowhead": 0,
           "arrowwidth": 1
          },
          "autotypenumbers": "strict",
          "coloraxis": {
           "colorbar": {
            "outlinewidth": 0,
            "ticks": ""
           }
          },
          "colorscale": {
           "diverging": [
            [
             0,
             "#8e0152"
            ],
            [
             0.1,
             "#c51b7d"
            ],
            [
             0.2,
             "#de77ae"
            ],
            [
             0.3,
             "#f1b6da"
            ],
            [
             0.4,
             "#fde0ef"
            ],
            [
             0.5,
             "#f7f7f7"
            ],
            [
             0.6,
             "#e6f5d0"
            ],
            [
             0.7,
             "#b8e186"
            ],
            [
             0.8,
             "#7fbc41"
            ],
            [
             0.9,
             "#4d9221"
            ],
            [
             1,
             "#276419"
            ]
           ],
           "sequential": [
            [
             0,
             "#0d0887"
            ],
            [
             0.1111111111111111,
             "#46039f"
            ],
            [
             0.2222222222222222,
             "#7201a8"
            ],
            [
             0.3333333333333333,
             "#9c179e"
            ],
            [
             0.4444444444444444,
             "#bd3786"
            ],
            [
             0.5555555555555556,
             "#d8576b"
            ],
            [
             0.6666666666666666,
             "#ed7953"
            ],
            [
             0.7777777777777778,
             "#fb9f3a"
            ],
            [
             0.8888888888888888,
             "#fdca26"
            ],
            [
             1,
             "#f0f921"
            ]
           ],
           "sequentialminus": [
            [
             0,
             "#0d0887"
            ],
            [
             0.1111111111111111,
             "#46039f"
            ],
            [
             0.2222222222222222,
             "#7201a8"
            ],
            [
             0.3333333333333333,
             "#9c179e"
            ],
            [
             0.4444444444444444,
             "#bd3786"
            ],
            [
             0.5555555555555556,
             "#d8576b"
            ],
            [
             0.6666666666666666,
             "#ed7953"
            ],
            [
             0.7777777777777778,
             "#fb9f3a"
            ],
            [
             0.8888888888888888,
             "#fdca26"
            ],
            [
             1,
             "#f0f921"
            ]
           ]
          },
          "colorway": [
           "#636efa",
           "#EF553B",
           "#00cc96",
           "#ab63fa",
           "#FFA15A",
           "#19d3f3",
           "#FF6692",
           "#B6E880",
           "#FF97FF",
           "#FECB52"
          ],
          "font": {
           "color": "#2a3f5f"
          },
          "geo": {
           "bgcolor": "white",
           "lakecolor": "white",
           "landcolor": "white",
           "showlakes": true,
           "showland": true,
           "subunitcolor": "#C8D4E3"
          },
          "hoverlabel": {
           "align": "left"
          },
          "hovermode": "closest",
          "mapbox": {
           "style": "light"
          },
          "paper_bgcolor": "white",
          "plot_bgcolor": "white",
          "polar": {
           "angularaxis": {
            "gridcolor": "#EBF0F8",
            "linecolor": "#EBF0F8",
            "ticks": ""
           },
           "bgcolor": "white",
           "radialaxis": {
            "gridcolor": "#EBF0F8",
            "linecolor": "#EBF0F8",
            "ticks": ""
           }
          },
          "scene": {
           "xaxis": {
            "backgroundcolor": "white",
            "gridcolor": "#DFE8F3",
            "gridwidth": 2,
            "linecolor": "#EBF0F8",
            "showbackground": true,
            "ticks": "",
            "zerolinecolor": "#EBF0F8"
           },
           "yaxis": {
            "backgroundcolor": "white",
            "gridcolor": "#DFE8F3",
            "gridwidth": 2,
            "linecolor": "#EBF0F8",
            "showbackground": true,
            "ticks": "",
            "zerolinecolor": "#EBF0F8"
           },
           "zaxis": {
            "backgroundcolor": "white",
            "gridcolor": "#DFE8F3",
            "gridwidth": 2,
            "linecolor": "#EBF0F8",
            "showbackground": true,
            "ticks": "",
            "zerolinecolor": "#EBF0F8"
           }
          },
          "shapedefaults": {
           "line": {
            "color": "#2a3f5f"
           }
          },
          "ternary": {
           "aaxis": {
            "gridcolor": "#DFE8F3",
            "linecolor": "#A2B1C6",
            "ticks": ""
           },
           "baxis": {
            "gridcolor": "#DFE8F3",
            "linecolor": "#A2B1C6",
            "ticks": ""
           },
           "bgcolor": "white",
           "caxis": {
            "gridcolor": "#DFE8F3",
            "linecolor": "#A2B1C6",
            "ticks": ""
           }
          },
          "title": {
           "x": 0.05
          },
          "xaxis": {
           "automargin": true,
           "gridcolor": "#EBF0F8",
           "linecolor": "#EBF0F8",
           "ticks": "",
           "title": {
            "standoff": 15
           },
           "zerolinecolor": "#EBF0F8",
           "zerolinewidth": 2
          },
          "yaxis": {
           "automargin": true,
           "gridcolor": "#EBF0F8",
           "linecolor": "#EBF0F8",
           "ticks": "",
           "title": {
            "standoff": 15
           },
           "zerolinecolor": "#EBF0F8",
           "zerolinewidth": 2
          }
         }
        },
        "title": {
         "text": "Jumlah Penjualan per Minggu per Item"
        },
        "width": 900,
        "xaxis": {
         "anchor": "y",
         "domain": [
          0,
          1
         ],
         "title": {
          "text": "Tanggal"
         }
        },
        "yaxis": {
         "anchor": "x",
         "domain": [
          0,
          1
         ],
         "title": {
          "text": "Jumlah Terjual"
         }
        }
       }
      }
     },
     "metadata": {},
     "output_type": "display_data"
    }
   ],
   "source": [
    "# Ubah kolom TANGGAL menjadi datetime\n",
    "df_final[\"TANGGAL\"] = pd.to_datetime(df_final[\"TANGGAL\"])\n",
    "\n",
    "# Ubah dari wide ke long format agar cocok untuk plotly express\n",
    "df_long = df_final.melt(id_vars=\"TANGGAL\", var_name=\"NAMA BARANG\", value_name=\"QTY\")\n",
    "\n",
    "# Buat line chart\n",
    "fig = px.line(\n",
    "    df_long,\n",
    "    x=\"TANGGAL\",\n",
    "    y=\"QTY\",\n",
    "    color=\"NAMA BARANG\",\n",
    "    title=\"Jumlah Penjualan per Minggu per Item\",\n",
    "    markers=True,\n",
    "    labels={\"TANGGAL\": \"Tanggal\", \"QTY\": \"Jumlah Terjual\", \"NAMA BARANG\": \"Nama Produk\"},\n",
    "    hover_data={\"TANGGAL\": True, \"QTY\": True, \"NAMA BARANG\": True}\n",
    ")\n",
    "\n",
    "# Layout tambahan\n",
    "fig.update_layout(\n",
    "    legend_title_text='Klik nama produk untuk tampilkan/sembunyikan',\n",
    "    xaxis_title='Tanggal',\n",
    "    yaxis_title='Jumlah Terjual',\n",
    "    template='plotly_white',\n",
    "    height=500,\n",
    "    width=900\n",
    ")\n",
    "\n",
    "fig.show()\n"
   ]
  },
  {
   "cell_type": "code",
   "execution_count": 15,
   "id": "c646ab77",
   "metadata": {},
   "outputs": [
    {
     "name": "stdout",
     "output_type": "stream",
     "text": [
      "<class 'pandas.core.frame.DataFrame'>\n",
      "RangeIndex: 53 entries, 0 to 52\n",
      "Data columns (total 15 columns):\n",
      " #   Column                  Non-Null Count  Dtype         \n",
      "---  ------                  --------------  -----         \n",
      " 0   TANGGAL                 53 non-null     datetime64[ns]\n",
      " 1   INDOMIE GRG SPECIAL     53 non-null     float64       \n",
      " 2   PUCUK HARUM TEH 350ML   53 non-null     float64       \n",
      " 3   INDOMIE SOTO MIE        53 non-null     float64       \n",
      " 4   INDOMIE AYAM BAWANG     53 non-null     float64       \n",
      " 5   INDOMILK KID STR 115ML  53 non-null     float64       \n",
      " 6   WALLS POPULAIRE STR     53 non-null     float64       \n",
      " 7   INDOMIE AYAM SPECIAL    53 non-null     float64       \n",
      " 8   OREO SOFT CAKE 16GR     53 non-null     float64       \n",
      " 9   ROMA KELAPA 300GR       53 non-null     float64       \n",
      " 10  INDOMILK STR 190ML BTL  53 non-null     float64       \n",
      " 11  NUVO SOAP YLOW 72G      53 non-null     float64       \n",
      " 12  KRIPIK SGKG TURBO 180G  53 non-null     float64       \n",
      " 13  NUVO SOAP BLUE 72G      53 non-null     float64       \n",
      " 14  YA KOPI SPESIAL 60GR    53 non-null     float64       \n",
      "dtypes: datetime64[ns](1), float64(14)\n",
      "memory usage: 6.3 KB\n"
     ]
    }
   ],
   "source": [
    "df_final.info()"
   ]
  },
  {
   "cell_type": "code",
   "execution_count": 16,
   "id": "6ee3b03d",
   "metadata": {},
   "outputs": [
    {
     "name": "stderr",
     "output_type": "stream",
     "text": [
      "C:\\Users\\ASUS\\AppData\\Local\\Temp\\ipykernel_360\\1700217815.py:2: SettingWithCopyWarning:\n",
      "\n",
      "\n",
      "A value is trying to be set on a copy of a slice from a DataFrame.\n",
      "Try using .loc[row_indexer,col_indexer] = value instead\n",
      "\n",
      "See the caveats in the documentation: https://pandas.pydata.org/pandas-docs/stable/user_guide/indexing.html#returning-a-view-versus-a-copy\n",
      "\n"
     ]
    },
    {
     "data": {
      "text/html": [
       "<div>\n",
       "<style scoped>\n",
       "    .dataframe tbody tr th:only-of-type {\n",
       "        vertical-align: middle;\n",
       "    }\n",
       "\n",
       "    .dataframe tbody tr th {\n",
       "        vertical-align: top;\n",
       "    }\n",
       "\n",
       "    .dataframe thead th {\n",
       "        text-align: right;\n",
       "    }\n",
       "</style>\n",
       "<table border=\"1\" class=\"dataframe\">\n",
       "  <thead>\n",
       "    <tr style=\"text-align: right;\">\n",
       "      <th></th>\n",
       "      <th>INDOMIE GRG SPECIAL</th>\n",
       "      <th>PUCUK HARUM TEH 350ML</th>\n",
       "      <th>INDOMIE SOTO MIE</th>\n",
       "      <th>INDOMIE AYAM BAWANG</th>\n",
       "      <th>INDOMILK KID STR 115ML</th>\n",
       "      <th>WALLS POPULAIRE STR</th>\n",
       "      <th>INDOMIE AYAM SPECIAL</th>\n",
       "      <th>OREO SOFT CAKE 16GR</th>\n",
       "      <th>ROMA KELAPA 300GR</th>\n",
       "      <th>INDOMILK STR 190ML BTL</th>\n",
       "      <th>NUVO SOAP YLOW 72G</th>\n",
       "      <th>KRIPIK SGKG TURBO 180G</th>\n",
       "      <th>NUVO SOAP BLUE 72G</th>\n",
       "      <th>YA KOPI SPESIAL 60GR</th>\n",
       "    </tr>\n",
       "    <tr>\n",
       "      <th>TANGGAL</th>\n",
       "      <th></th>\n",
       "      <th></th>\n",
       "      <th></th>\n",
       "      <th></th>\n",
       "      <th></th>\n",
       "      <th></th>\n",
       "      <th></th>\n",
       "      <th></th>\n",
       "      <th></th>\n",
       "      <th></th>\n",
       "      <th></th>\n",
       "      <th></th>\n",
       "      <th></th>\n",
       "      <th></th>\n",
       "    </tr>\n",
       "  </thead>\n",
       "  <tbody>\n",
       "    <tr>\n",
       "      <th>2023-01-01</th>\n",
       "      <td>174.0</td>\n",
       "      <td>65.0</td>\n",
       "      <td>12.0</td>\n",
       "      <td>14.0</td>\n",
       "      <td>13.0</td>\n",
       "      <td>20.0</td>\n",
       "      <td>8.0</td>\n",
       "      <td>11.0</td>\n",
       "      <td>11.0</td>\n",
       "      <td>7.0</td>\n",
       "      <td>9.0</td>\n",
       "      <td>3.0</td>\n",
       "      <td>10.0</td>\n",
       "      <td>4.0</td>\n",
       "    </tr>\n",
       "    <tr>\n",
       "      <th>2023-01-08</th>\n",
       "      <td>133.0</td>\n",
       "      <td>52.0</td>\n",
       "      <td>18.0</td>\n",
       "      <td>5.0</td>\n",
       "      <td>1.0</td>\n",
       "      <td>5.0</td>\n",
       "      <td>12.0</td>\n",
       "      <td>12.0</td>\n",
       "      <td>2.0</td>\n",
       "      <td>2.0</td>\n",
       "      <td>1.0</td>\n",
       "      <td>1.0</td>\n",
       "      <td>4.0</td>\n",
       "      <td>2.0</td>\n",
       "    </tr>\n",
       "    <tr>\n",
       "      <th>2023-01-15</th>\n",
       "      <td>133.0</td>\n",
       "      <td>41.0</td>\n",
       "      <td>14.0</td>\n",
       "      <td>6.0</td>\n",
       "      <td>8.0</td>\n",
       "      <td>8.0</td>\n",
       "      <td>6.0</td>\n",
       "      <td>0.0</td>\n",
       "      <td>5.0</td>\n",
       "      <td>8.0</td>\n",
       "      <td>4.0</td>\n",
       "      <td>0.0</td>\n",
       "      <td>5.0</td>\n",
       "      <td>3.0</td>\n",
       "    </tr>\n",
       "    <tr>\n",
       "      <th>2023-01-22</th>\n",
       "      <td>123.0</td>\n",
       "      <td>31.0</td>\n",
       "      <td>10.0</td>\n",
       "      <td>26.0</td>\n",
       "      <td>6.0</td>\n",
       "      <td>7.0</td>\n",
       "      <td>0.0</td>\n",
       "      <td>4.0</td>\n",
       "      <td>7.0</td>\n",
       "      <td>1.0</td>\n",
       "      <td>1.0</td>\n",
       "      <td>0.0</td>\n",
       "      <td>0.0</td>\n",
       "      <td>3.0</td>\n",
       "    </tr>\n",
       "    <tr>\n",
       "      <th>2023-01-29</th>\n",
       "      <td>84.0</td>\n",
       "      <td>42.0</td>\n",
       "      <td>12.0</td>\n",
       "      <td>12.0</td>\n",
       "      <td>11.0</td>\n",
       "      <td>6.0</td>\n",
       "      <td>0.0</td>\n",
       "      <td>7.0</td>\n",
       "      <td>11.0</td>\n",
       "      <td>6.0</td>\n",
       "      <td>12.0</td>\n",
       "      <td>0.0</td>\n",
       "      <td>15.0</td>\n",
       "      <td>6.0</td>\n",
       "    </tr>\n",
       "    <tr>\n",
       "      <th>2023-02-05</th>\n",
       "      <td>101.0</td>\n",
       "      <td>48.0</td>\n",
       "      <td>15.0</td>\n",
       "      <td>2.0</td>\n",
       "      <td>6.0</td>\n",
       "      <td>2.0</td>\n",
       "      <td>3.0</td>\n",
       "      <td>9.0</td>\n",
       "      <td>9.0</td>\n",
       "      <td>3.0</td>\n",
       "      <td>6.0</td>\n",
       "      <td>4.0</td>\n",
       "      <td>4.0</td>\n",
       "      <td>4.0</td>\n",
       "    </tr>\n",
       "    <tr>\n",
       "      <th>2023-02-12</th>\n",
       "      <td>13.0</td>\n",
       "      <td>33.0</td>\n",
       "      <td>17.0</td>\n",
       "      <td>10.0</td>\n",
       "      <td>7.0</td>\n",
       "      <td>5.0</td>\n",
       "      <td>14.0</td>\n",
       "      <td>5.0</td>\n",
       "      <td>6.0</td>\n",
       "      <td>1.0</td>\n",
       "      <td>2.0</td>\n",
       "      <td>9.0</td>\n",
       "      <td>9.0</td>\n",
       "      <td>5.0</td>\n",
       "    </tr>\n",
       "    <tr>\n",
       "      <th>2023-02-19</th>\n",
       "      <td>47.0</td>\n",
       "      <td>54.0</td>\n",
       "      <td>25.0</td>\n",
       "      <td>9.0</td>\n",
       "      <td>5.0</td>\n",
       "      <td>10.0</td>\n",
       "      <td>10.0</td>\n",
       "      <td>5.0</td>\n",
       "      <td>12.0</td>\n",
       "      <td>2.0</td>\n",
       "      <td>4.0</td>\n",
       "      <td>7.0</td>\n",
       "      <td>5.0</td>\n",
       "      <td>4.0</td>\n",
       "    </tr>\n",
       "    <tr>\n",
       "      <th>2023-02-26</th>\n",
       "      <td>103.0</td>\n",
       "      <td>41.0</td>\n",
       "      <td>14.0</td>\n",
       "      <td>18.0</td>\n",
       "      <td>10.0</td>\n",
       "      <td>10.0</td>\n",
       "      <td>20.0</td>\n",
       "      <td>12.0</td>\n",
       "      <td>5.0</td>\n",
       "      <td>5.0</td>\n",
       "      <td>5.0</td>\n",
       "      <td>5.0</td>\n",
       "      <td>11.0</td>\n",
       "      <td>3.0</td>\n",
       "    </tr>\n",
       "    <tr>\n",
       "      <th>2023-03-05</th>\n",
       "      <td>119.0</td>\n",
       "      <td>29.0</td>\n",
       "      <td>4.0</td>\n",
       "      <td>16.0</td>\n",
       "      <td>3.0</td>\n",
       "      <td>6.0</td>\n",
       "      <td>13.0</td>\n",
       "      <td>6.0</td>\n",
       "      <td>13.0</td>\n",
       "      <td>7.0</td>\n",
       "      <td>3.0</td>\n",
       "      <td>8.0</td>\n",
       "      <td>2.0</td>\n",
       "      <td>3.0</td>\n",
       "    </tr>\n",
       "    <tr>\n",
       "      <th>2023-03-12</th>\n",
       "      <td>108.0</td>\n",
       "      <td>58.0</td>\n",
       "      <td>8.0</td>\n",
       "      <td>11.0</td>\n",
       "      <td>6.0</td>\n",
       "      <td>12.0</td>\n",
       "      <td>10.0</td>\n",
       "      <td>6.0</td>\n",
       "      <td>9.0</td>\n",
       "      <td>1.0</td>\n",
       "      <td>4.0</td>\n",
       "      <td>11.0</td>\n",
       "      <td>6.0</td>\n",
       "      <td>2.0</td>\n",
       "    </tr>\n",
       "    <tr>\n",
       "      <th>2023-03-19</th>\n",
       "      <td>107.0</td>\n",
       "      <td>37.0</td>\n",
       "      <td>15.0</td>\n",
       "      <td>15.0</td>\n",
       "      <td>6.0</td>\n",
       "      <td>7.0</td>\n",
       "      <td>7.0</td>\n",
       "      <td>14.0</td>\n",
       "      <td>11.0</td>\n",
       "      <td>4.0</td>\n",
       "      <td>13.0</td>\n",
       "      <td>12.0</td>\n",
       "      <td>1.0</td>\n",
       "      <td>2.0</td>\n",
       "    </tr>\n",
       "    <tr>\n",
       "      <th>2023-03-26</th>\n",
       "      <td>112.0</td>\n",
       "      <td>28.0</td>\n",
       "      <td>2.0</td>\n",
       "      <td>15.0</td>\n",
       "      <td>5.0</td>\n",
       "      <td>9.0</td>\n",
       "      <td>6.0</td>\n",
       "      <td>4.0</td>\n",
       "      <td>13.0</td>\n",
       "      <td>4.0</td>\n",
       "      <td>5.0</td>\n",
       "      <td>6.0</td>\n",
       "      <td>3.0</td>\n",
       "      <td>4.0</td>\n",
       "    </tr>\n",
       "    <tr>\n",
       "      <th>2023-04-02</th>\n",
       "      <td>88.0</td>\n",
       "      <td>36.0</td>\n",
       "      <td>4.0</td>\n",
       "      <td>14.0</td>\n",
       "      <td>6.0</td>\n",
       "      <td>12.0</td>\n",
       "      <td>12.0</td>\n",
       "      <td>7.0</td>\n",
       "      <td>3.0</td>\n",
       "      <td>2.0</td>\n",
       "      <td>15.0</td>\n",
       "      <td>6.0</td>\n",
       "      <td>10.0</td>\n",
       "      <td>4.0</td>\n",
       "    </tr>\n",
       "    <tr>\n",
       "      <th>2023-04-09</th>\n",
       "      <td>108.0</td>\n",
       "      <td>31.0</td>\n",
       "      <td>11.0</td>\n",
       "      <td>6.0</td>\n",
       "      <td>2.0</td>\n",
       "      <td>15.0</td>\n",
       "      <td>15.0</td>\n",
       "      <td>16.0</td>\n",
       "      <td>4.0</td>\n",
       "      <td>4.0</td>\n",
       "      <td>0.0</td>\n",
       "      <td>2.0</td>\n",
       "      <td>2.0</td>\n",
       "      <td>5.0</td>\n",
       "    </tr>\n",
       "    <tr>\n",
       "      <th>2023-04-16</th>\n",
       "      <td>130.0</td>\n",
       "      <td>71.0</td>\n",
       "      <td>5.0</td>\n",
       "      <td>7.0</td>\n",
       "      <td>7.0</td>\n",
       "      <td>15.0</td>\n",
       "      <td>5.0</td>\n",
       "      <td>5.0</td>\n",
       "      <td>6.0</td>\n",
       "      <td>6.0</td>\n",
       "      <td>8.0</td>\n",
       "      <td>4.0</td>\n",
       "      <td>2.0</td>\n",
       "      <td>1.0</td>\n",
       "    </tr>\n",
       "    <tr>\n",
       "      <th>2023-04-23</th>\n",
       "      <td>75.0</td>\n",
       "      <td>51.0</td>\n",
       "      <td>5.0</td>\n",
       "      <td>8.0</td>\n",
       "      <td>4.0</td>\n",
       "      <td>2.0</td>\n",
       "      <td>12.0</td>\n",
       "      <td>8.0</td>\n",
       "      <td>4.0</td>\n",
       "      <td>1.0</td>\n",
       "      <td>4.0</td>\n",
       "      <td>15.0</td>\n",
       "      <td>1.0</td>\n",
       "      <td>3.0</td>\n",
       "    </tr>\n",
       "    <tr>\n",
       "      <th>2023-04-30</th>\n",
       "      <td>94.0</td>\n",
       "      <td>77.0</td>\n",
       "      <td>19.0</td>\n",
       "      <td>24.0</td>\n",
       "      <td>13.0</td>\n",
       "      <td>15.0</td>\n",
       "      <td>5.0</td>\n",
       "      <td>2.0</td>\n",
       "      <td>3.0</td>\n",
       "      <td>10.0</td>\n",
       "      <td>7.0</td>\n",
       "      <td>6.0</td>\n",
       "      <td>7.0</td>\n",
       "      <td>2.0</td>\n",
       "    </tr>\n",
       "    <tr>\n",
       "      <th>2023-05-07</th>\n",
       "      <td>64.0</td>\n",
       "      <td>80.0</td>\n",
       "      <td>3.0</td>\n",
       "      <td>5.0</td>\n",
       "      <td>9.0</td>\n",
       "      <td>21.0</td>\n",
       "      <td>4.0</td>\n",
       "      <td>1.0</td>\n",
       "      <td>2.0</td>\n",
       "      <td>1.0</td>\n",
       "      <td>2.0</td>\n",
       "      <td>12.0</td>\n",
       "      <td>1.0</td>\n",
       "      <td>3.0</td>\n",
       "    </tr>\n",
       "    <tr>\n",
       "      <th>2023-05-14</th>\n",
       "      <td>82.0</td>\n",
       "      <td>24.0</td>\n",
       "      <td>19.0</td>\n",
       "      <td>6.0</td>\n",
       "      <td>14.0</td>\n",
       "      <td>10.0</td>\n",
       "      <td>1.0</td>\n",
       "      <td>3.0</td>\n",
       "      <td>6.0</td>\n",
       "      <td>1.0</td>\n",
       "      <td>2.0</td>\n",
       "      <td>4.0</td>\n",
       "      <td>5.0</td>\n",
       "      <td>2.0</td>\n",
       "    </tr>\n",
       "    <tr>\n",
       "      <th>2023-05-21</th>\n",
       "      <td>83.0</td>\n",
       "      <td>44.0</td>\n",
       "      <td>13.0</td>\n",
       "      <td>6.0</td>\n",
       "      <td>18.0</td>\n",
       "      <td>9.0</td>\n",
       "      <td>6.0</td>\n",
       "      <td>0.0</td>\n",
       "      <td>7.0</td>\n",
       "      <td>0.0</td>\n",
       "      <td>4.0</td>\n",
       "      <td>6.0</td>\n",
       "      <td>4.0</td>\n",
       "      <td>3.0</td>\n",
       "    </tr>\n",
       "    <tr>\n",
       "      <th>2023-05-28</th>\n",
       "      <td>123.0</td>\n",
       "      <td>103.0</td>\n",
       "      <td>25.0</td>\n",
       "      <td>9.0</td>\n",
       "      <td>10.0</td>\n",
       "      <td>13.0</td>\n",
       "      <td>7.0</td>\n",
       "      <td>0.0</td>\n",
       "      <td>6.0</td>\n",
       "      <td>12.0</td>\n",
       "      <td>12.0</td>\n",
       "      <td>3.0</td>\n",
       "      <td>2.0</td>\n",
       "      <td>3.0</td>\n",
       "    </tr>\n",
       "    <tr>\n",
       "      <th>2023-06-04</th>\n",
       "      <td>112.0</td>\n",
       "      <td>67.0</td>\n",
       "      <td>13.0</td>\n",
       "      <td>5.0</td>\n",
       "      <td>22.0</td>\n",
       "      <td>8.0</td>\n",
       "      <td>6.0</td>\n",
       "      <td>7.0</td>\n",
       "      <td>8.0</td>\n",
       "      <td>7.0</td>\n",
       "      <td>5.0</td>\n",
       "      <td>5.0</td>\n",
       "      <td>7.0</td>\n",
       "      <td>1.0</td>\n",
       "    </tr>\n",
       "    <tr>\n",
       "      <th>2023-06-11</th>\n",
       "      <td>80.0</td>\n",
       "      <td>43.0</td>\n",
       "      <td>15.0</td>\n",
       "      <td>52.0</td>\n",
       "      <td>11.0</td>\n",
       "      <td>8.0</td>\n",
       "      <td>5.0</td>\n",
       "      <td>13.0</td>\n",
       "      <td>5.0</td>\n",
       "      <td>1.0</td>\n",
       "      <td>6.0</td>\n",
       "      <td>5.0</td>\n",
       "      <td>4.0</td>\n",
       "      <td>7.0</td>\n",
       "    </tr>\n",
       "    <tr>\n",
       "      <th>2023-06-18</th>\n",
       "      <td>66.0</td>\n",
       "      <td>34.0</td>\n",
       "      <td>7.0</td>\n",
       "      <td>10.0</td>\n",
       "      <td>17.0</td>\n",
       "      <td>6.0</td>\n",
       "      <td>6.0</td>\n",
       "      <td>10.0</td>\n",
       "      <td>6.0</td>\n",
       "      <td>7.0</td>\n",
       "      <td>4.0</td>\n",
       "      <td>1.0</td>\n",
       "      <td>3.0</td>\n",
       "      <td>4.0</td>\n",
       "    </tr>\n",
       "    <tr>\n",
       "      <th>2023-06-25</th>\n",
       "      <td>108.0</td>\n",
       "      <td>67.0</td>\n",
       "      <td>16.0</td>\n",
       "      <td>12.0</td>\n",
       "      <td>15.0</td>\n",
       "      <td>11.0</td>\n",
       "      <td>2.0</td>\n",
       "      <td>5.0</td>\n",
       "      <td>6.0</td>\n",
       "      <td>5.0</td>\n",
       "      <td>5.0</td>\n",
       "      <td>6.0</td>\n",
       "      <td>1.0</td>\n",
       "      <td>4.0</td>\n",
       "    </tr>\n",
       "    <tr>\n",
       "      <th>2023-07-02</th>\n",
       "      <td>101.0</td>\n",
       "      <td>64.0</td>\n",
       "      <td>8.0</td>\n",
       "      <td>13.0</td>\n",
       "      <td>6.0</td>\n",
       "      <td>11.0</td>\n",
       "      <td>3.0</td>\n",
       "      <td>18.0</td>\n",
       "      <td>6.0</td>\n",
       "      <td>4.0</td>\n",
       "      <td>9.0</td>\n",
       "      <td>10.0</td>\n",
       "      <td>3.0</td>\n",
       "      <td>0.0</td>\n",
       "    </tr>\n",
       "    <tr>\n",
       "      <th>2023-07-09</th>\n",
       "      <td>115.0</td>\n",
       "      <td>37.0</td>\n",
       "      <td>9.0</td>\n",
       "      <td>15.0</td>\n",
       "      <td>9.0</td>\n",
       "      <td>14.0</td>\n",
       "      <td>5.0</td>\n",
       "      <td>14.0</td>\n",
       "      <td>9.0</td>\n",
       "      <td>2.0</td>\n",
       "      <td>8.0</td>\n",
       "      <td>2.0</td>\n",
       "      <td>5.0</td>\n",
       "      <td>3.0</td>\n",
       "    </tr>\n",
       "    <tr>\n",
       "      <th>2023-07-16</th>\n",
       "      <td>112.0</td>\n",
       "      <td>29.0</td>\n",
       "      <td>8.0</td>\n",
       "      <td>2.0</td>\n",
       "      <td>8.0</td>\n",
       "      <td>19.0</td>\n",
       "      <td>4.0</td>\n",
       "      <td>5.0</td>\n",
       "      <td>5.0</td>\n",
       "      <td>3.0</td>\n",
       "      <td>1.0</td>\n",
       "      <td>4.0</td>\n",
       "      <td>1.0</td>\n",
       "      <td>3.0</td>\n",
       "    </tr>\n",
       "    <tr>\n",
       "      <th>2023-07-23</th>\n",
       "      <td>78.0</td>\n",
       "      <td>31.0</td>\n",
       "      <td>15.0</td>\n",
       "      <td>6.0</td>\n",
       "      <td>9.0</td>\n",
       "      <td>8.0</td>\n",
       "      <td>1.0</td>\n",
       "      <td>10.0</td>\n",
       "      <td>3.0</td>\n",
       "      <td>6.0</td>\n",
       "      <td>2.0</td>\n",
       "      <td>4.0</td>\n",
       "      <td>6.0</td>\n",
       "      <td>2.0</td>\n",
       "    </tr>\n",
       "    <tr>\n",
       "      <th>2023-07-30</th>\n",
       "      <td>96.0</td>\n",
       "      <td>36.0</td>\n",
       "      <td>13.0</td>\n",
       "      <td>12.0</td>\n",
       "      <td>1.0</td>\n",
       "      <td>16.0</td>\n",
       "      <td>9.0</td>\n",
       "      <td>3.0</td>\n",
       "      <td>9.0</td>\n",
       "      <td>4.0</td>\n",
       "      <td>1.0</td>\n",
       "      <td>2.0</td>\n",
       "      <td>2.0</td>\n",
       "      <td>0.0</td>\n",
       "    </tr>\n",
       "    <tr>\n",
       "      <th>2023-08-06</th>\n",
       "      <td>113.0</td>\n",
       "      <td>16.0</td>\n",
       "      <td>13.0</td>\n",
       "      <td>20.0</td>\n",
       "      <td>16.0</td>\n",
       "      <td>8.0</td>\n",
       "      <td>4.0</td>\n",
       "      <td>9.0</td>\n",
       "      <td>4.0</td>\n",
       "      <td>1.0</td>\n",
       "      <td>2.0</td>\n",
       "      <td>5.0</td>\n",
       "      <td>2.0</td>\n",
       "      <td>9.0</td>\n",
       "    </tr>\n",
       "    <tr>\n",
       "      <th>2023-08-13</th>\n",
       "      <td>132.0</td>\n",
       "      <td>54.0</td>\n",
       "      <td>6.0</td>\n",
       "      <td>13.0</td>\n",
       "      <td>14.0</td>\n",
       "      <td>7.0</td>\n",
       "      <td>9.0</td>\n",
       "      <td>10.0</td>\n",
       "      <td>3.0</td>\n",
       "      <td>4.0</td>\n",
       "      <td>2.0</td>\n",
       "      <td>1.0</td>\n",
       "      <td>2.0</td>\n",
       "      <td>5.0</td>\n",
       "    </tr>\n",
       "    <tr>\n",
       "      <th>2023-08-20</th>\n",
       "      <td>71.0</td>\n",
       "      <td>38.0</td>\n",
       "      <td>6.0</td>\n",
       "      <td>10.0</td>\n",
       "      <td>13.0</td>\n",
       "      <td>15.0</td>\n",
       "      <td>4.0</td>\n",
       "      <td>6.0</td>\n",
       "      <td>3.0</td>\n",
       "      <td>8.0</td>\n",
       "      <td>6.0</td>\n",
       "      <td>5.0</td>\n",
       "      <td>1.0</td>\n",
       "      <td>4.0</td>\n",
       "    </tr>\n",
       "    <tr>\n",
       "      <th>2023-08-27</th>\n",
       "      <td>118.0</td>\n",
       "      <td>33.0</td>\n",
       "      <td>33.0</td>\n",
       "      <td>10.0</td>\n",
       "      <td>6.0</td>\n",
       "      <td>15.0</td>\n",
       "      <td>6.0</td>\n",
       "      <td>9.0</td>\n",
       "      <td>2.0</td>\n",
       "      <td>1.0</td>\n",
       "      <td>6.0</td>\n",
       "      <td>2.0</td>\n",
       "      <td>8.0</td>\n",
       "      <td>6.0</td>\n",
       "    </tr>\n",
       "    <tr>\n",
       "      <th>2023-09-03</th>\n",
       "      <td>85.0</td>\n",
       "      <td>55.0</td>\n",
       "      <td>19.0</td>\n",
       "      <td>6.0</td>\n",
       "      <td>11.0</td>\n",
       "      <td>12.0</td>\n",
       "      <td>12.0</td>\n",
       "      <td>10.0</td>\n",
       "      <td>9.0</td>\n",
       "      <td>1.0</td>\n",
       "      <td>3.0</td>\n",
       "      <td>2.0</td>\n",
       "      <td>5.0</td>\n",
       "      <td>8.0</td>\n",
       "    </tr>\n",
       "    <tr>\n",
       "      <th>2023-09-10</th>\n",
       "      <td>76.0</td>\n",
       "      <td>42.0</td>\n",
       "      <td>13.0</td>\n",
       "      <td>11.0</td>\n",
       "      <td>13.0</td>\n",
       "      <td>13.0</td>\n",
       "      <td>3.0</td>\n",
       "      <td>6.0</td>\n",
       "      <td>6.0</td>\n",
       "      <td>8.0</td>\n",
       "      <td>6.0</td>\n",
       "      <td>2.0</td>\n",
       "      <td>0.0</td>\n",
       "      <td>5.0</td>\n",
       "    </tr>\n",
       "    <tr>\n",
       "      <th>2023-09-17</th>\n",
       "      <td>59.0</td>\n",
       "      <td>36.0</td>\n",
       "      <td>15.0</td>\n",
       "      <td>8.0</td>\n",
       "      <td>11.0</td>\n",
       "      <td>8.0</td>\n",
       "      <td>6.0</td>\n",
       "      <td>9.0</td>\n",
       "      <td>5.0</td>\n",
       "      <td>4.0</td>\n",
       "      <td>4.0</td>\n",
       "      <td>5.0</td>\n",
       "      <td>1.0</td>\n",
       "      <td>5.0</td>\n",
       "    </tr>\n",
       "    <tr>\n",
       "      <th>2023-09-24</th>\n",
       "      <td>87.0</td>\n",
       "      <td>53.0</td>\n",
       "      <td>11.0</td>\n",
       "      <td>8.0</td>\n",
       "      <td>2.0</td>\n",
       "      <td>11.0</td>\n",
       "      <td>3.0</td>\n",
       "      <td>2.0</td>\n",
       "      <td>7.0</td>\n",
       "      <td>8.0</td>\n",
       "      <td>3.0</td>\n",
       "      <td>3.0</td>\n",
       "      <td>3.0</td>\n",
       "      <td>0.0</td>\n",
       "    </tr>\n",
       "    <tr>\n",
       "      <th>2023-10-01</th>\n",
       "      <td>75.0</td>\n",
       "      <td>41.0</td>\n",
       "      <td>15.0</td>\n",
       "      <td>4.0</td>\n",
       "      <td>1.0</td>\n",
       "      <td>11.0</td>\n",
       "      <td>3.0</td>\n",
       "      <td>5.0</td>\n",
       "      <td>5.0</td>\n",
       "      <td>8.0</td>\n",
       "      <td>5.0</td>\n",
       "      <td>4.0</td>\n",
       "      <td>2.0</td>\n",
       "      <td>1.0</td>\n",
       "    </tr>\n",
       "    <tr>\n",
       "      <th>2023-10-08</th>\n",
       "      <td>63.0</td>\n",
       "      <td>46.0</td>\n",
       "      <td>10.0</td>\n",
       "      <td>6.0</td>\n",
       "      <td>5.0</td>\n",
       "      <td>5.0</td>\n",
       "      <td>12.0</td>\n",
       "      <td>6.0</td>\n",
       "      <td>6.0</td>\n",
       "      <td>5.0</td>\n",
       "      <td>3.0</td>\n",
       "      <td>3.0</td>\n",
       "      <td>5.0</td>\n",
       "      <td>2.0</td>\n",
       "    </tr>\n",
       "    <tr>\n",
       "      <th>2023-10-15</th>\n",
       "      <td>85.0</td>\n",
       "      <td>40.0</td>\n",
       "      <td>7.0</td>\n",
       "      <td>5.0</td>\n",
       "      <td>8.0</td>\n",
       "      <td>1.0</td>\n",
       "      <td>12.0</td>\n",
       "      <td>2.0</td>\n",
       "      <td>4.0</td>\n",
       "      <td>6.0</td>\n",
       "      <td>4.0</td>\n",
       "      <td>2.0</td>\n",
       "      <td>2.0</td>\n",
       "      <td>5.0</td>\n",
       "    </tr>\n",
       "    <tr>\n",
       "      <th>2023-10-22</th>\n",
       "      <td>94.0</td>\n",
       "      <td>36.0</td>\n",
       "      <td>11.0</td>\n",
       "      <td>13.0</td>\n",
       "      <td>18.0</td>\n",
       "      <td>4.0</td>\n",
       "      <td>11.0</td>\n",
       "      <td>7.0</td>\n",
       "      <td>2.0</td>\n",
       "      <td>3.0</td>\n",
       "      <td>1.0</td>\n",
       "      <td>1.0</td>\n",
       "      <td>1.0</td>\n",
       "      <td>5.0</td>\n",
       "    </tr>\n",
       "    <tr>\n",
       "      <th>2023-10-29</th>\n",
       "      <td>147.0</td>\n",
       "      <td>52.0</td>\n",
       "      <td>29.0</td>\n",
       "      <td>16.0</td>\n",
       "      <td>15.0</td>\n",
       "      <td>9.0</td>\n",
       "      <td>12.0</td>\n",
       "      <td>12.0</td>\n",
       "      <td>4.0</td>\n",
       "      <td>10.0</td>\n",
       "      <td>8.0</td>\n",
       "      <td>5.0</td>\n",
       "      <td>9.0</td>\n",
       "      <td>8.0</td>\n",
       "    </tr>\n",
       "    <tr>\n",
       "      <th>2023-11-05</th>\n",
       "      <td>85.0</td>\n",
       "      <td>96.0</td>\n",
       "      <td>10.0</td>\n",
       "      <td>6.0</td>\n",
       "      <td>6.0</td>\n",
       "      <td>7.0</td>\n",
       "      <td>8.0</td>\n",
       "      <td>7.0</td>\n",
       "      <td>5.0</td>\n",
       "      <td>3.0</td>\n",
       "      <td>6.0</td>\n",
       "      <td>0.0</td>\n",
       "      <td>10.0</td>\n",
       "      <td>1.0</td>\n",
       "    </tr>\n",
       "    <tr>\n",
       "      <th>2023-11-12</th>\n",
       "      <td>156.0</td>\n",
       "      <td>76.0</td>\n",
       "      <td>16.0</td>\n",
       "      <td>21.0</td>\n",
       "      <td>20.0</td>\n",
       "      <td>11.0</td>\n",
       "      <td>6.0</td>\n",
       "      <td>5.0</td>\n",
       "      <td>4.0</td>\n",
       "      <td>8.0</td>\n",
       "      <td>4.0</td>\n",
       "      <td>4.0</td>\n",
       "      <td>5.0</td>\n",
       "      <td>2.0</td>\n",
       "    </tr>\n",
       "    <tr>\n",
       "      <th>2023-11-19</th>\n",
       "      <td>84.0</td>\n",
       "      <td>37.0</td>\n",
       "      <td>12.0</td>\n",
       "      <td>6.0</td>\n",
       "      <td>6.0</td>\n",
       "      <td>14.0</td>\n",
       "      <td>12.0</td>\n",
       "      <td>2.0</td>\n",
       "      <td>4.0</td>\n",
       "      <td>9.0</td>\n",
       "      <td>3.0</td>\n",
       "      <td>1.0</td>\n",
       "      <td>6.0</td>\n",
       "      <td>4.0</td>\n",
       "    </tr>\n",
       "    <tr>\n",
       "      <th>2023-11-26</th>\n",
       "      <td>132.0</td>\n",
       "      <td>53.0</td>\n",
       "      <td>31.0</td>\n",
       "      <td>10.0</td>\n",
       "      <td>10.0</td>\n",
       "      <td>12.0</td>\n",
       "      <td>13.0</td>\n",
       "      <td>9.0</td>\n",
       "      <td>13.0</td>\n",
       "      <td>13.0</td>\n",
       "      <td>4.0</td>\n",
       "      <td>0.0</td>\n",
       "      <td>5.0</td>\n",
       "      <td>13.0</td>\n",
       "    </tr>\n",
       "    <tr>\n",
       "      <th>2023-12-03</th>\n",
       "      <td>113.0</td>\n",
       "      <td>23.0</td>\n",
       "      <td>13.0</td>\n",
       "      <td>11.0</td>\n",
       "      <td>11.0</td>\n",
       "      <td>0.0</td>\n",
       "      <td>8.0</td>\n",
       "      <td>17.0</td>\n",
       "      <td>3.0</td>\n",
       "      <td>8.0</td>\n",
       "      <td>6.0</td>\n",
       "      <td>5.0</td>\n",
       "      <td>6.0</td>\n",
       "      <td>0.0</td>\n",
       "    </tr>\n",
       "    <tr>\n",
       "      <th>2023-12-10</th>\n",
       "      <td>110.0</td>\n",
       "      <td>41.0</td>\n",
       "      <td>25.0</td>\n",
       "      <td>4.0</td>\n",
       "      <td>34.0</td>\n",
       "      <td>7.0</td>\n",
       "      <td>9.0</td>\n",
       "      <td>6.0</td>\n",
       "      <td>2.0</td>\n",
       "      <td>14.0</td>\n",
       "      <td>2.0</td>\n",
       "      <td>6.0</td>\n",
       "      <td>5.0</td>\n",
       "      <td>4.0</td>\n",
       "    </tr>\n",
       "    <tr>\n",
       "      <th>2023-12-17</th>\n",
       "      <td>99.0</td>\n",
       "      <td>34.0</td>\n",
       "      <td>22.0</td>\n",
       "      <td>11.0</td>\n",
       "      <td>22.0</td>\n",
       "      <td>11.0</td>\n",
       "      <td>5.0</td>\n",
       "      <td>14.0</td>\n",
       "      <td>6.0</td>\n",
       "      <td>9.0</td>\n",
       "      <td>3.0</td>\n",
       "      <td>3.0</td>\n",
       "      <td>2.0</td>\n",
       "      <td>2.0</td>\n",
       "    </tr>\n",
       "    <tr>\n",
       "      <th>2023-12-24</th>\n",
       "      <td>117.0</td>\n",
       "      <td>19.0</td>\n",
       "      <td>18.0</td>\n",
       "      <td>4.0</td>\n",
       "      <td>18.0</td>\n",
       "      <td>12.0</td>\n",
       "      <td>14.0</td>\n",
       "      <td>12.0</td>\n",
       "      <td>12.0</td>\n",
       "      <td>3.0</td>\n",
       "      <td>1.0</td>\n",
       "      <td>3.0</td>\n",
       "      <td>0.0</td>\n",
       "      <td>3.0</td>\n",
       "    </tr>\n",
       "    <tr>\n",
       "      <th>2023-12-31</th>\n",
       "      <td>27.0</td>\n",
       "      <td>2.0</td>\n",
       "      <td>3.0</td>\n",
       "      <td>0.0</td>\n",
       "      <td>5.0</td>\n",
       "      <td>0.0</td>\n",
       "      <td>0.0</td>\n",
       "      <td>1.0</td>\n",
       "      <td>1.0</td>\n",
       "      <td>1.0</td>\n",
       "      <td>0.0</td>\n",
       "      <td>1.0</td>\n",
       "      <td>0.0</td>\n",
       "      <td>0.0</td>\n",
       "    </tr>\n",
       "  </tbody>\n",
       "</table>\n",
       "</div>"
      ],
      "text/plain": [
       "            INDOMIE GRG SPECIAL  PUCUK HARUM TEH 350ML  INDOMIE SOTO MIE  \\\n",
       "TANGGAL                                                                    \n",
       "2023-01-01                174.0                   65.0              12.0   \n",
       "2023-01-08                133.0                   52.0              18.0   \n",
       "2023-01-15                133.0                   41.0              14.0   \n",
       "2023-01-22                123.0                   31.0              10.0   \n",
       "2023-01-29                 84.0                   42.0              12.0   \n",
       "2023-02-05                101.0                   48.0              15.0   \n",
       "2023-02-12                 13.0                   33.0              17.0   \n",
       "2023-02-19                 47.0                   54.0              25.0   \n",
       "2023-02-26                103.0                   41.0              14.0   \n",
       "2023-03-05                119.0                   29.0               4.0   \n",
       "2023-03-12                108.0                   58.0               8.0   \n",
       "2023-03-19                107.0                   37.0              15.0   \n",
       "2023-03-26                112.0                   28.0               2.0   \n",
       "2023-04-02                 88.0                   36.0               4.0   \n",
       "2023-04-09                108.0                   31.0              11.0   \n",
       "2023-04-16                130.0                   71.0               5.0   \n",
       "2023-04-23                 75.0                   51.0               5.0   \n",
       "2023-04-30                 94.0                   77.0              19.0   \n",
       "2023-05-07                 64.0                   80.0               3.0   \n",
       "2023-05-14                 82.0                   24.0              19.0   \n",
       "2023-05-21                 83.0                   44.0              13.0   \n",
       "2023-05-28                123.0                  103.0              25.0   \n",
       "2023-06-04                112.0                   67.0              13.0   \n",
       "2023-06-11                 80.0                   43.0              15.0   \n",
       "2023-06-18                 66.0                   34.0               7.0   \n",
       "2023-06-25                108.0                   67.0              16.0   \n",
       "2023-07-02                101.0                   64.0               8.0   \n",
       "2023-07-09                115.0                   37.0               9.0   \n",
       "2023-07-16                112.0                   29.0               8.0   \n",
       "2023-07-23                 78.0                   31.0              15.0   \n",
       "2023-07-30                 96.0                   36.0              13.0   \n",
       "2023-08-06                113.0                   16.0              13.0   \n",
       "2023-08-13                132.0                   54.0               6.0   \n",
       "2023-08-20                 71.0                   38.0               6.0   \n",
       "2023-08-27                118.0                   33.0              33.0   \n",
       "2023-09-03                 85.0                   55.0              19.0   \n",
       "2023-09-10                 76.0                   42.0              13.0   \n",
       "2023-09-17                 59.0                   36.0              15.0   \n",
       "2023-09-24                 87.0                   53.0              11.0   \n",
       "2023-10-01                 75.0                   41.0              15.0   \n",
       "2023-10-08                 63.0                   46.0              10.0   \n",
       "2023-10-15                 85.0                   40.0               7.0   \n",
       "2023-10-22                 94.0                   36.0              11.0   \n",
       "2023-10-29                147.0                   52.0              29.0   \n",
       "2023-11-05                 85.0                   96.0              10.0   \n",
       "2023-11-12                156.0                   76.0              16.0   \n",
       "2023-11-19                 84.0                   37.0              12.0   \n",
       "2023-11-26                132.0                   53.0              31.0   \n",
       "2023-12-03                113.0                   23.0              13.0   \n",
       "2023-12-10                110.0                   41.0              25.0   \n",
       "2023-12-17                 99.0                   34.0              22.0   \n",
       "2023-12-24                117.0                   19.0              18.0   \n",
       "2023-12-31                 27.0                    2.0               3.0   \n",
       "\n",
       "            INDOMIE AYAM BAWANG  INDOMILK KID STR 115ML  WALLS POPULAIRE STR  \\\n",
       "TANGGAL                                                                        \n",
       "2023-01-01                 14.0                    13.0                 20.0   \n",
       "2023-01-08                  5.0                     1.0                  5.0   \n",
       "2023-01-15                  6.0                     8.0                  8.0   \n",
       "2023-01-22                 26.0                     6.0                  7.0   \n",
       "2023-01-29                 12.0                    11.0                  6.0   \n",
       "2023-02-05                  2.0                     6.0                  2.0   \n",
       "2023-02-12                 10.0                     7.0                  5.0   \n",
       "2023-02-19                  9.0                     5.0                 10.0   \n",
       "2023-02-26                 18.0                    10.0                 10.0   \n",
       "2023-03-05                 16.0                     3.0                  6.0   \n",
       "2023-03-12                 11.0                     6.0                 12.0   \n",
       "2023-03-19                 15.0                     6.0                  7.0   \n",
       "2023-03-26                 15.0                     5.0                  9.0   \n",
       "2023-04-02                 14.0                     6.0                 12.0   \n",
       "2023-04-09                  6.0                     2.0                 15.0   \n",
       "2023-04-16                  7.0                     7.0                 15.0   \n",
       "2023-04-23                  8.0                     4.0                  2.0   \n",
       "2023-04-30                 24.0                    13.0                 15.0   \n",
       "2023-05-07                  5.0                     9.0                 21.0   \n",
       "2023-05-14                  6.0                    14.0                 10.0   \n",
       "2023-05-21                  6.0                    18.0                  9.0   \n",
       "2023-05-28                  9.0                    10.0                 13.0   \n",
       "2023-06-04                  5.0                    22.0                  8.0   \n",
       "2023-06-11                 52.0                    11.0                  8.0   \n",
       "2023-06-18                 10.0                    17.0                  6.0   \n",
       "2023-06-25                 12.0                    15.0                 11.0   \n",
       "2023-07-02                 13.0                     6.0                 11.0   \n",
       "2023-07-09                 15.0                     9.0                 14.0   \n",
       "2023-07-16                  2.0                     8.0                 19.0   \n",
       "2023-07-23                  6.0                     9.0                  8.0   \n",
       "2023-07-30                 12.0                     1.0                 16.0   \n",
       "2023-08-06                 20.0                    16.0                  8.0   \n",
       "2023-08-13                 13.0                    14.0                  7.0   \n",
       "2023-08-20                 10.0                    13.0                 15.0   \n",
       "2023-08-27                 10.0                     6.0                 15.0   \n",
       "2023-09-03                  6.0                    11.0                 12.0   \n",
       "2023-09-10                 11.0                    13.0                 13.0   \n",
       "2023-09-17                  8.0                    11.0                  8.0   \n",
       "2023-09-24                  8.0                     2.0                 11.0   \n",
       "2023-10-01                  4.0                     1.0                 11.0   \n",
       "2023-10-08                  6.0                     5.0                  5.0   \n",
       "2023-10-15                  5.0                     8.0                  1.0   \n",
       "2023-10-22                 13.0                    18.0                  4.0   \n",
       "2023-10-29                 16.0                    15.0                  9.0   \n",
       "2023-11-05                  6.0                     6.0                  7.0   \n",
       "2023-11-12                 21.0                    20.0                 11.0   \n",
       "2023-11-19                  6.0                     6.0                 14.0   \n",
       "2023-11-26                 10.0                    10.0                 12.0   \n",
       "2023-12-03                 11.0                    11.0                  0.0   \n",
       "2023-12-10                  4.0                    34.0                  7.0   \n",
       "2023-12-17                 11.0                    22.0                 11.0   \n",
       "2023-12-24                  4.0                    18.0                 12.0   \n",
       "2023-12-31                  0.0                     5.0                  0.0   \n",
       "\n",
       "            INDOMIE AYAM SPECIAL  OREO SOFT CAKE 16GR  ROMA KELAPA 300GR  \\\n",
       "TANGGAL                                                                    \n",
       "2023-01-01                   8.0                 11.0               11.0   \n",
       "2023-01-08                  12.0                 12.0                2.0   \n",
       "2023-01-15                   6.0                  0.0                5.0   \n",
       "2023-01-22                   0.0                  4.0                7.0   \n",
       "2023-01-29                   0.0                  7.0               11.0   \n",
       "2023-02-05                   3.0                  9.0                9.0   \n",
       "2023-02-12                  14.0                  5.0                6.0   \n",
       "2023-02-19                  10.0                  5.0               12.0   \n",
       "2023-02-26                  20.0                 12.0                5.0   \n",
       "2023-03-05                  13.0                  6.0               13.0   \n",
       "2023-03-12                  10.0                  6.0                9.0   \n",
       "2023-03-19                   7.0                 14.0               11.0   \n",
       "2023-03-26                   6.0                  4.0               13.0   \n",
       "2023-04-02                  12.0                  7.0                3.0   \n",
       "2023-04-09                  15.0                 16.0                4.0   \n",
       "2023-04-16                   5.0                  5.0                6.0   \n",
       "2023-04-23                  12.0                  8.0                4.0   \n",
       "2023-04-30                   5.0                  2.0                3.0   \n",
       "2023-05-07                   4.0                  1.0                2.0   \n",
       "2023-05-14                   1.0                  3.0                6.0   \n",
       "2023-05-21                   6.0                  0.0                7.0   \n",
       "2023-05-28                   7.0                  0.0                6.0   \n",
       "2023-06-04                   6.0                  7.0                8.0   \n",
       "2023-06-11                   5.0                 13.0                5.0   \n",
       "2023-06-18                   6.0                 10.0                6.0   \n",
       "2023-06-25                   2.0                  5.0                6.0   \n",
       "2023-07-02                   3.0                 18.0                6.0   \n",
       "2023-07-09                   5.0                 14.0                9.0   \n",
       "2023-07-16                   4.0                  5.0                5.0   \n",
       "2023-07-23                   1.0                 10.0                3.0   \n",
       "2023-07-30                   9.0                  3.0                9.0   \n",
       "2023-08-06                   4.0                  9.0                4.0   \n",
       "2023-08-13                   9.0                 10.0                3.0   \n",
       "2023-08-20                   4.0                  6.0                3.0   \n",
       "2023-08-27                   6.0                  9.0                2.0   \n",
       "2023-09-03                  12.0                 10.0                9.0   \n",
       "2023-09-10                   3.0                  6.0                6.0   \n",
       "2023-09-17                   6.0                  9.0                5.0   \n",
       "2023-09-24                   3.0                  2.0                7.0   \n",
       "2023-10-01                   3.0                  5.0                5.0   \n",
       "2023-10-08                  12.0                  6.0                6.0   \n",
       "2023-10-15                  12.0                  2.0                4.0   \n",
       "2023-10-22                  11.0                  7.0                2.0   \n",
       "2023-10-29                  12.0                 12.0                4.0   \n",
       "2023-11-05                   8.0                  7.0                5.0   \n",
       "2023-11-12                   6.0                  5.0                4.0   \n",
       "2023-11-19                  12.0                  2.0                4.0   \n",
       "2023-11-26                  13.0                  9.0               13.0   \n",
       "2023-12-03                   8.0                 17.0                3.0   \n",
       "2023-12-10                   9.0                  6.0                2.0   \n",
       "2023-12-17                   5.0                 14.0                6.0   \n",
       "2023-12-24                  14.0                 12.0               12.0   \n",
       "2023-12-31                   0.0                  1.0                1.0   \n",
       "\n",
       "            INDOMILK STR 190ML BTL  NUVO SOAP YLOW 72G  \\\n",
       "TANGGAL                                                  \n",
       "2023-01-01                     7.0                 9.0   \n",
       "2023-01-08                     2.0                 1.0   \n",
       "2023-01-15                     8.0                 4.0   \n",
       "2023-01-22                     1.0                 1.0   \n",
       "2023-01-29                     6.0                12.0   \n",
       "2023-02-05                     3.0                 6.0   \n",
       "2023-02-12                     1.0                 2.0   \n",
       "2023-02-19                     2.0                 4.0   \n",
       "2023-02-26                     5.0                 5.0   \n",
       "2023-03-05                     7.0                 3.0   \n",
       "2023-03-12                     1.0                 4.0   \n",
       "2023-03-19                     4.0                13.0   \n",
       "2023-03-26                     4.0                 5.0   \n",
       "2023-04-02                     2.0                15.0   \n",
       "2023-04-09                     4.0                 0.0   \n",
       "2023-04-16                     6.0                 8.0   \n",
       "2023-04-23                     1.0                 4.0   \n",
       "2023-04-30                    10.0                 7.0   \n",
       "2023-05-07                     1.0                 2.0   \n",
       "2023-05-14                     1.0                 2.0   \n",
       "2023-05-21                     0.0                 4.0   \n",
       "2023-05-28                    12.0                12.0   \n",
       "2023-06-04                     7.0                 5.0   \n",
       "2023-06-11                     1.0                 6.0   \n",
       "2023-06-18                     7.0                 4.0   \n",
       "2023-06-25                     5.0                 5.0   \n",
       "2023-07-02                     4.0                 9.0   \n",
       "2023-07-09                     2.0                 8.0   \n",
       "2023-07-16                     3.0                 1.0   \n",
       "2023-07-23                     6.0                 2.0   \n",
       "2023-07-30                     4.0                 1.0   \n",
       "2023-08-06                     1.0                 2.0   \n",
       "2023-08-13                     4.0                 2.0   \n",
       "2023-08-20                     8.0                 6.0   \n",
       "2023-08-27                     1.0                 6.0   \n",
       "2023-09-03                     1.0                 3.0   \n",
       "2023-09-10                     8.0                 6.0   \n",
       "2023-09-17                     4.0                 4.0   \n",
       "2023-09-24                     8.0                 3.0   \n",
       "2023-10-01                     8.0                 5.0   \n",
       "2023-10-08                     5.0                 3.0   \n",
       "2023-10-15                     6.0                 4.0   \n",
       "2023-10-22                     3.0                 1.0   \n",
       "2023-10-29                    10.0                 8.0   \n",
       "2023-11-05                     3.0                 6.0   \n",
       "2023-11-12                     8.0                 4.0   \n",
       "2023-11-19                     9.0                 3.0   \n",
       "2023-11-26                    13.0                 4.0   \n",
       "2023-12-03                     8.0                 6.0   \n",
       "2023-12-10                    14.0                 2.0   \n",
       "2023-12-17                     9.0                 3.0   \n",
       "2023-12-24                     3.0                 1.0   \n",
       "2023-12-31                     1.0                 0.0   \n",
       "\n",
       "            KRIPIK SGKG TURBO 180G  NUVO SOAP BLUE 72G  YA KOPI SPESIAL 60GR  \n",
       "TANGGAL                                                                       \n",
       "2023-01-01                     3.0                10.0                   4.0  \n",
       "2023-01-08                     1.0                 4.0                   2.0  \n",
       "2023-01-15                     0.0                 5.0                   3.0  \n",
       "2023-01-22                     0.0                 0.0                   3.0  \n",
       "2023-01-29                     0.0                15.0                   6.0  \n",
       "2023-02-05                     4.0                 4.0                   4.0  \n",
       "2023-02-12                     9.0                 9.0                   5.0  \n",
       "2023-02-19                     7.0                 5.0                   4.0  \n",
       "2023-02-26                     5.0                11.0                   3.0  \n",
       "2023-03-05                     8.0                 2.0                   3.0  \n",
       "2023-03-12                    11.0                 6.0                   2.0  \n",
       "2023-03-19                    12.0                 1.0                   2.0  \n",
       "2023-03-26                     6.0                 3.0                   4.0  \n",
       "2023-04-02                     6.0                10.0                   4.0  \n",
       "2023-04-09                     2.0                 2.0                   5.0  \n",
       "2023-04-16                     4.0                 2.0                   1.0  \n",
       "2023-04-23                    15.0                 1.0                   3.0  \n",
       "2023-04-30                     6.0                 7.0                   2.0  \n",
       "2023-05-07                    12.0                 1.0                   3.0  \n",
       "2023-05-14                     4.0                 5.0                   2.0  \n",
       "2023-05-21                     6.0                 4.0                   3.0  \n",
       "2023-05-28                     3.0                 2.0                   3.0  \n",
       "2023-06-04                     5.0                 7.0                   1.0  \n",
       "2023-06-11                     5.0                 4.0                   7.0  \n",
       "2023-06-18                     1.0                 3.0                   4.0  \n",
       "2023-06-25                     6.0                 1.0                   4.0  \n",
       "2023-07-02                    10.0                 3.0                   0.0  \n",
       "2023-07-09                     2.0                 5.0                   3.0  \n",
       "2023-07-16                     4.0                 1.0                   3.0  \n",
       "2023-07-23                     4.0                 6.0                   2.0  \n",
       "2023-07-30                     2.0                 2.0                   0.0  \n",
       "2023-08-06                     5.0                 2.0                   9.0  \n",
       "2023-08-13                     1.0                 2.0                   5.0  \n",
       "2023-08-20                     5.0                 1.0                   4.0  \n",
       "2023-08-27                     2.0                 8.0                   6.0  \n",
       "2023-09-03                     2.0                 5.0                   8.0  \n",
       "2023-09-10                     2.0                 0.0                   5.0  \n",
       "2023-09-17                     5.0                 1.0                   5.0  \n",
       "2023-09-24                     3.0                 3.0                   0.0  \n",
       "2023-10-01                     4.0                 2.0                   1.0  \n",
       "2023-10-08                     3.0                 5.0                   2.0  \n",
       "2023-10-15                     2.0                 2.0                   5.0  \n",
       "2023-10-22                     1.0                 1.0                   5.0  \n",
       "2023-10-29                     5.0                 9.0                   8.0  \n",
       "2023-11-05                     0.0                10.0                   1.0  \n",
       "2023-11-12                     4.0                 5.0                   2.0  \n",
       "2023-11-19                     1.0                 6.0                   4.0  \n",
       "2023-11-26                     0.0                 5.0                  13.0  \n",
       "2023-12-03                     5.0                 6.0                   0.0  \n",
       "2023-12-10                     6.0                 5.0                   4.0  \n",
       "2023-12-17                     3.0                 2.0                   2.0  \n",
       "2023-12-24                     3.0                 0.0                   3.0  \n",
       "2023-12-31                     1.0                 0.0                   0.0  "
      ]
     },
     "execution_count": 16,
     "metadata": {},
     "output_type": "execute_result"
    }
   ],
   "source": [
    "# Mengubah kolom TANGGAL menjadi datetime dan menjadikannya index\n",
    "df_final['TANGGAL'] = pd.to_datetime(df_final['TANGGAL'])\n",
    "df_final= df_final.set_index('TANGGAL')\n",
    "df_final = df_final.asfreq('W-SUN') \n",
    "df_final"
   ]
  },
  {
   "cell_type": "code",
   "execution_count": 17,
   "id": "d8be40d2",
   "metadata": {},
   "outputs": [],
   "source": [
    "# 1. Mengubah index 'TANGGAL' menjadi kolom biasa\n",
    "df_final = df_final.reset_index()\n",
    "df_final.rename(columns={'index': 'TANGGAL'}, inplace=True) # Rename kolom 'index' yang baru dibuat menjadi 'TANGGAL'\n",
    "\n",
    "# 2. Pastikan kolom 'TANGGAL' adalah tipe datetime (sekarang sudah jadi kolom biasa)\n",
    "df_final['TANGGAL'] = pd.to_datetime(df_final['TANGGAL'])\n",
    "\n",
    "# 3. Identifikasi kolom produk\n",
    "product_columns = [col for col in df_final.columns if col != 'TANGGAL']"
   ]
  },
  {
   "cell_type": "code",
   "execution_count": 18,
   "id": "287f0546",
   "metadata": {},
   "outputs": [],
   "source": [
    "# --- Fungsi untuk Menghitung Metrik ---\n",
    "def calculate_metrics(y_true, y_pred):\n",
    "    mae = mean_absolute_error(y_true, y_pred)\n",
    "    rmse = np.sqrt(mean_squared_error(y_true, y_pred))\n",
    "\n",
    "    # Calculate MAPE, handling division by zero for actuals\n",
    "    # Only include points where y_true is not zero for MAPE calculation\n",
    "    non_zero_indices = y_true != 0\n",
    "    if np.sum(non_zero_indices) > 0:\n",
    "        mape = np.mean(np.abs((y_true[non_zero_indices] - y_pred[non_zero_indices]) / y_true[non_zero_indices])) * 100\n",
    "    else:\n",
    "        mape = np.nan # Jika semua nilai aktual adalah 0, MAPE tidak terdefinisi\n",
    "\n",
    "    return mae, rmse, mape"
   ]
  },
  {
   "cell_type": "code",
   "execution_count": 19,
   "id": "b569dd2f",
   "metadata": {},
   "outputs": [
    {
     "name": "stdout",
     "output_type": "stream",
     "text": [
      "================================================================================\n",
      "             MEMULAI FORECASTING DENGAN PROPHET DAN EVALUASI             \n",
      "================================================================================\n",
      "Total data historis: 53 titik.\n",
      "Ukuran data training (80%): 42 titik.\n",
      "Ukuran data testing (20%): 11 titik.\n",
      "\n",
      "\n",
      "\n",
      "--- Memproses Produk: INDOMIE GRG SPECIAL ---\n"
     ]
    },
    {
     "name": "stderr",
     "output_type": "stream",
     "text": [
      "13:43:18 - cmdstanpy - INFO - Chain [1] start processing\n",
      "13:43:19 - cmdstanpy - INFO - Chain [1] done processing\n"
     ]
    },
    {
     "name": "stdout",
     "output_type": "stream",
     "text": [
      "  - MAE: 36.21\n",
      "  - RMSE: 42.77\n",
      "  - MAPE: 41.48%\n",
      "\n",
      "--- Memproses Produk: PUCUK HARUM TEH 350ML ---\n"
     ]
    },
    {
     "name": "stderr",
     "output_type": "stream",
     "text": [
      "13:43:19 - cmdstanpy - INFO - Chain [1] start processing\n",
      "13:43:19 - cmdstanpy - INFO - Chain [1] done processing\n",
      "13:43:19 - cmdstanpy - INFO - Chain [1] start processing\n"
     ]
    },
    {
     "name": "stdout",
     "output_type": "stream",
     "text": [
      "  - MAE: 19.30\n",
      "  - RMSE: 24.82\n",
      "  - MAPE: 221.83%\n",
      "\n",
      "--- Memproses Produk: INDOMIE SOTO MIE ---\n"
     ]
    },
    {
     "name": "stderr",
     "output_type": "stream",
     "text": [
      "13:43:19 - cmdstanpy - INFO - Chain [1] done processing\n",
      "13:43:20 - cmdstanpy - INFO - Chain [1] start processing\n"
     ]
    },
    {
     "name": "stdout",
     "output_type": "stream",
     "text": [
      "  - MAE: 7.21\n",
      "  - RMSE: 9.38\n",
      "  - MAPE: 57.75%\n",
      "\n",
      "--- Memproses Produk: INDOMIE AYAM BAWANG ---\n"
     ]
    },
    {
     "name": "stderr",
     "output_type": "stream",
     "text": [
      "13:43:20 - cmdstanpy - INFO - Chain [1] done processing\n",
      "13:43:20 - cmdstanpy - INFO - Chain [1] start processing\n"
     ]
    },
    {
     "name": "stdout",
     "output_type": "stream",
     "text": [
      "  - MAE: 4.72\n",
      "  - RMSE: 5.61\n",
      "  - MAPE: 51.23%\n",
      "\n",
      "--- Memproses Produk: INDOMILK KID STR 115ML ---\n"
     ]
    },
    {
     "name": "stderr",
     "output_type": "stream",
     "text": [
      "13:43:20 - cmdstanpy - INFO - Chain [1] done processing\n",
      "13:43:20 - cmdstanpy - INFO - Chain [1] start processing\n"
     ]
    },
    {
     "name": "stdout",
     "output_type": "stream",
     "text": [
      "  - MAE: 7.30\n",
      "  - RMSE: 9.53\n",
      "  - MAPE: 49.89%\n",
      "\n",
      "--- Memproses Produk: WALLS POPULAIRE STR ---\n"
     ]
    },
    {
     "name": "stderr",
     "output_type": "stream",
     "text": [
      "13:43:21 - cmdstanpy - INFO - Chain [1] done processing\n",
      "13:43:21 - cmdstanpy - INFO - Chain [1] start processing\n"
     ]
    },
    {
     "name": "stdout",
     "output_type": "stream",
     "text": [
      "  - MAE: 4.00\n",
      "  - RMSE: 5.56\n",
      "  - MAPE: 38.28%\n",
      "\n",
      "--- Memproses Produk: INDOMIE AYAM SPECIAL ---\n"
     ]
    },
    {
     "name": "stderr",
     "output_type": "stream",
     "text": [
      "13:43:21 - cmdstanpy - INFO - Chain [1] done processing\n",
      "13:43:21 - cmdstanpy - INFO - Chain [1] start processing\n"
     ]
    },
    {
     "name": "stdout",
     "output_type": "stream",
     "text": [
      "  - MAE: 4.64\n",
      "  - RMSE: 5.40\n",
      "  - MAPE: 41.47%\n",
      "\n",
      "--- Memproses Produk: OREO SOFT CAKE 16GR ---\n"
     ]
    },
    {
     "name": "stderr",
     "output_type": "stream",
     "text": [
      "13:43:22 - cmdstanpy - INFO - Chain [1] done processing\n",
      "13:43:22 - cmdstanpy - INFO - Chain [1] start processing\n"
     ]
    },
    {
     "name": "stdout",
     "output_type": "stream",
     "text": [
      "  - MAE: 3.99\n",
      "  - RMSE: 5.05\n",
      "  - MAPE: 97.73%\n",
      "\n",
      "--- Memproses Produk: ROMA KELAPA 300GR ---\n"
     ]
    },
    {
     "name": "stderr",
     "output_type": "stream",
     "text": [
      "13:43:22 - cmdstanpy - INFO - Chain [1] done processing\n"
     ]
    },
    {
     "name": "stdout",
     "output_type": "stream",
     "text": [
      "  - MAE: 2.63\n",
      "  - RMSE: 3.94\n",
      "  - MAPE: 66.46%\n",
      "\n",
      "--- Memproses Produk: INDOMILK STR 190ML BTL ---\n"
     ]
    },
    {
     "name": "stderr",
     "output_type": "stream",
     "text": [
      "13:43:22 - cmdstanpy - INFO - Chain [1] start processing\n",
      "13:43:22 - cmdstanpy - INFO - Chain [1] done processing\n",
      "13:43:23 - cmdstanpy - INFO - Chain [1] start processing\n"
     ]
    },
    {
     "name": "stdout",
     "output_type": "stream",
     "text": [
      "  - MAE: 4.12\n",
      "  - RMSE: 4.64\n",
      "  - MAPE: 89.51%\n",
      "\n",
      "--- Memproses Produk: NUVO SOAP YLOW 72G ---\n"
     ]
    },
    {
     "name": "stderr",
     "output_type": "stream",
     "text": [
      "13:43:23 - cmdstanpy - INFO - Chain [1] done processing\n",
      "13:43:23 - cmdstanpy - INFO - Chain [1] start processing\n"
     ]
    },
    {
     "name": "stdout",
     "output_type": "stream",
     "text": [
      "  - MAE: 1.90\n",
      "  - RMSE: 2.29\n",
      "  - MAPE: 80.47%\n",
      "\n",
      "--- Memproses Produk: KRIPIK SGKG TURBO 180G ---\n"
     ]
    },
    {
     "name": "stderr",
     "output_type": "stream",
     "text": [
      "13:43:23 - cmdstanpy - INFO - Chain [1] done processing\n"
     ]
    },
    {
     "name": "stdout",
     "output_type": "stream",
     "text": [
      "  - MAE: 1.92\n",
      "  - RMSE: 2.24\n",
      "  - MAPE: 97.88%\n",
      "\n",
      "--- Memproses Produk: NUVO SOAP BLUE 72G ---\n"
     ]
    },
    {
     "name": "stderr",
     "output_type": "stream",
     "text": [
      "13:43:23 - cmdstanpy - INFO - Chain [1] start processing\n",
      "13:43:24 - cmdstanpy - INFO - Chain [1] done processing\n",
      "13:43:24 - cmdstanpy - INFO - Chain [1] start processing\n"
     ]
    },
    {
     "name": "stdout",
     "output_type": "stream",
     "text": [
      "  - MAE: 3.58\n",
      "  - RMSE: 4.35\n",
      "  - MAPE: 74.63%\n",
      "\n",
      "--- Memproses Produk: YA KOPI SPESIAL 60GR ---\n"
     ]
    },
    {
     "name": "stderr",
     "output_type": "stream",
     "text": [
      "13:43:24 - cmdstanpy - INFO - Chain [1] done processing\n"
     ]
    },
    {
     "name": "stdout",
     "output_type": "stream",
     "text": [
      "  - MAE: 2.72\n",
      "  - RMSE: 3.68\n",
      "  - MAPE: 70.62%\n",
      "\n",
      "\n",
      "================================================================================\n",
      "             RINGKASAN HASIL EVALUASI MODEL FORECASTING             \n",
      "================================================================================\n",
      "               Product       MAE      RMSE       MAPE\n",
      "   WALLS POPULAIRE STR  3.996129  5.558218  38.278510\n",
      "  INDOMIE AYAM SPECIAL  4.641233  5.395978  41.471877\n",
      "   INDOMIE GRG SPECIAL 36.205780 42.768864  41.481728\n",
      "INDOMILK KID STR 115ML  7.301539  9.533726  49.888527\n",
      "   INDOMIE AYAM BAWANG  4.717086  5.610380  51.231511\n",
      "      INDOMIE SOTO MIE  7.214112  9.384575  57.752013\n",
      "     ROMA KELAPA 300GR  2.632628  3.940891  66.463178\n",
      "  YA KOPI SPESIAL 60GR  2.719650  3.675891  70.621866\n",
      "    NUVO SOAP BLUE 72G  3.578971  4.345774  74.627713\n",
      "    NUVO SOAP YLOW 72G  1.902192  2.285752  80.471019\n",
      "INDOMILK STR 190ML BTL  4.121424  4.638709  89.505399\n",
      "   OREO SOFT CAKE 16GR  3.988291  5.047764  97.730715\n",
      "KRIPIK SGKG TURBO 180G  1.922825  2.243207  97.876867\n",
      " PUCUK HARUM TEH 350ML 19.300475 24.823143 221.831724\n",
      "\n",
      "📈 Rata-rata Performa Semua Produk:\n",
      "Avg MAE: 7.45\n",
      "Avg RMSE: 9.23\n",
      "Avg MAPE: 77.09%\n",
      "--- Catatan Penting ---\n",
      "1. Akurasi model mungkin terbatas karena jumlah data historis yang relatif sedikit (53 titik).\n",
      "2. 'MAPE: N/A' menunjukkan bahwa semua nilai aktual di periode testing adalah 0.\n",
      "3. Hasil forecast ini berdasarkan data dummy. Untuk hasil nyata, gunakan data aktual Anda.\n"
     ]
    }
   ],
   "source": [
    "# --- Persiapan untuk Forecasting ---\n",
    "results = []\n",
    "train_size = int(len(df_final) * 0.8)\n",
    "test_size = len(df_final) - train_size\n",
    "\n",
    "print(\"=\"*80)\n",
    "print(\"             MEMULAI FORECASTING DENGAN PROPHET DAN EVALUASI             \")\n",
    "print(\"=\"*80)\n",
    "print(f\"Total data historis: {len(df_final)} titik.\")\n",
    "print(f\"Ukuran data training (80%): {train_size} titik.\")\n",
    "print(f\"Ukuran data testing (20%): {test_size} titik.\")\n",
    "print(\"\\n\")\n",
    "\n",
    "# Loop melalui setiap kolom produk untuk melakukan forecasting\n",
    "for product in product_columns:\n",
    "    print(f\"\\n--- Memproses Produk: {product} ---\")\n",
    "\n",
    "    # Siapkan DataFrame untuk Prophet: 'ds' (datetime) dan 'y' (nilai numerik)\n",
    "    df_prophet = df_final[['TANGGAL', product]].copy()\n",
    "    df_prophet.rename(columns={'TANGGAL': 'ds', product: 'y'}, inplace=True)\n",
    "\n",
    "    # Membagi data menjadi training dan testing (split time series)\n",
    "    train_df = df_prophet.iloc[:train_size]\n",
    "    test_df = df_prophet.iloc[train_size:]\n",
    "\n",
    "    # Inisialisasi dan latih model Prophet\n",
    "    # Karena data adalah agregasi mingguan (Tanggal adalah awal minggu),\n",
    "    # seasonality mingguan internal Prophet tidak relevan.\n",
    "    # Yearly seasonality juga dimatikan karena hanya ~1 tahun data.\n",
    "    m = Prophet(\n",
    "        yearly_seasonality=False,\n",
    "        weekly_seasonality=False,\n",
    "        daily_seasonality=False,\n",
    "        growth='linear',\n",
    "        changepoint_prior_scale=0.05 # Default value\n",
    "    )\n",
    "    m.fit(train_df)\n",
    "\n",
    "    # Buat DataFrame untuk periode waktu yang akan diprediksi (periode test)\n",
    "    # Ini harus mencakup tanggal-tanggal yang ada di test_df\n",
    "    future = m.make_future_dataframe(periods=len(test_df), freq='W', include_history=False) # Hanya future dates\n",
    "\n",
    "    # Lakukan prediksi\n",
    "    forecast = m.predict(future)\n",
    "\n",
    "    # Ambil nilai prediksi untuk periode test\n",
    "    y_true = test_df['y'].values\n",
    "    y_pred = forecast['yhat'].values\n",
    "\n",
    "    # Hitung metrik evaluasi\n",
    "    mae, rmse, mape = calculate_metrics(y_true, y_pred)\n",
    "\n",
    "    print(f\"  - MAE: {mae:.2f}\")\n",
    "    print(f\"  - RMSE: {rmse:.2f}\")\n",
    "    if pd.isna(mape):\n",
    "        print(f\"  - MAPE: N/A (Semua nilai aktual adalah 0 di periode testing)\")\n",
    "    else:\n",
    "        print(f\"  - MAPE: {mape:.2f}%\")\n",
    "\n",
    "    # Simpan hasil\n",
    "    results.append({\n",
    "        'Product': product,\n",
    "        'MAE': mae,\n",
    "        'RMSE': rmse,\n",
    "        'MAPE': mape\n",
    "    })\n",
    "\n",
    "# Konversi hasil ke DataFrame untuk analisis lebih lanjut\n",
    "df_results = pd.DataFrame(results)\n",
    "\n",
    "print(\"\\n\")\n",
    "print(\"=\"*80)\n",
    "print(\"             RINGKASAN HASIL EVALUASI MODEL FORECASTING             \")\n",
    "print(\"=\"*80)\n",
    "\n",
    "# Urutkan berdasarkan MAPE (terendah ke tertinggi), lalu MAE\n",
    "df_results_sorted = df_results.sort_values(by='MAPE', ascending=True)\n",
    "\n",
    "print(df_results_sorted.to_string(index=False)) # to_string() untuk menampilkan semua baris tanpa truncasi\n",
    "\n",
    "print(\"\\n📈 Rata-rata Performa Semua Produk:\")\n",
    "print(f\"Avg MAE: {df_results_sorted['MAE'].mean():.2f}\")\n",
    "print(f\"Avg RMSE: {df_results_sorted['RMSE'].mean():.2f}\")\n",
    "print(f\"Avg MAPE: {df_results_sorted['MAPE'].mean():.2f}%\")\n",
    "\n",
    "print(\"--- Catatan Penting ---\")\n",
    "print(\"1. Akurasi model mungkin terbatas karena jumlah data historis yang relatif sedikit (53 titik).\")\n",
    "print(\"2. 'MAPE: N/A' menunjukkan bahwa semua nilai aktual di periode testing adalah 0.\")\n",
    "print(\"3. Hasil forecast ini berdasarkan data dummy. Untuk hasil nyata, gunakan data aktual Anda.\")"
   ]
  }
 ],
 "metadata": {
  "kernelspec": {
   "display_name": "Python 3",
   "language": "python",
   "name": "python3"
  },
  "language_info": {
   "codemirror_mode": {
    "name": "ipython",
    "version": 3
   },
   "file_extension": ".py",
   "mimetype": "text/x-python",
   "name": "python",
   "nbconvert_exporter": "python",
   "pygments_lexer": "ipython3",
   "version": "3.12.2"
  }
 },
 "nbformat": 4,
 "nbformat_minor": 5
}
