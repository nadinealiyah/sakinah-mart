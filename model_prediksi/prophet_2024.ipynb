{
 "cells": [
  {
   "cell_type": "markdown",
   "id": "b3230f62",
   "metadata": {},
   "source": [
    "### **Import Library**"
   ]
  },
  {
   "cell_type": "code",
   "execution_count": 1,
   "id": "0b7d573a",
   "metadata": {},
   "outputs": [],
   "source": [
    "import pandas as pd\n",
    "import matplotlib.pyplot as plt\n",
    "\n",
    "from prophet import Prophet\n",
    "import numpy as np\n",
    "from sklearn.metrics import mean_absolute_error, mean_squared_error\n",
    "import logging # Untuk mengontrol pesan log Prophet\n",
    "import plotly.express as px\n",
    "\n",
    "# Matikan logger Prophet agar output tidak terlalu banyak\n",
    "logging.getLogger('prophet').setLevel(logging.WARNING)"
   ]
  },
  {
   "cell_type": "code",
   "execution_count": 2,
   "id": "72d6e3a4",
   "metadata": {},
   "outputs": [],
   "source": [
    "# pip install Prophet"
   ]
  },
  {
   "cell_type": "markdown",
   "id": "fa7c5e1d",
   "metadata": {},
   "source": [
    "### **Import Data Hasil Rules**"
   ]
  },
  {
   "cell_type": "code",
   "execution_count": 3,
   "id": "7d8c556c",
   "metadata": {},
   "outputs": [
    {
     "data": {
      "text/html": [
       "<div>\n",
       "<style scoped>\n",
       "    .dataframe tbody tr th:only-of-type {\n",
       "        vertical-align: middle;\n",
       "    }\n",
       "\n",
       "    .dataframe tbody tr th {\n",
       "        vertical-align: top;\n",
       "    }\n",
       "\n",
       "    .dataframe thead th {\n",
       "        text-align: right;\n",
       "    }\n",
       "</style>\n",
       "<table border=\"1\" class=\"dataframe\">\n",
       "  <thead>\n",
       "    <tr style=\"text-align: right;\">\n",
       "      <th></th>\n",
       "      <th>Unnamed: 0</th>\n",
       "      <th>antecedents</th>\n",
       "      <th>consequents</th>\n",
       "      <th>support</th>\n",
       "      <th>confidence</th>\n",
       "      <th>lift</th>\n",
       "    </tr>\n",
       "  </thead>\n",
       "  <tbody>\n",
       "    <tr>\n",
       "      <th>0</th>\n",
       "      <td>0</td>\n",
       "      <td>frozenset({'SAKINAH 1500ML', 'GREENFIELDS COKL...</td>\n",
       "      <td>frozenset({'GREENFIELDS STRAW 105ML'})</td>\n",
       "      <td>0.000109</td>\n",
       "      <td>1</td>\n",
       "      <td>4922.846154</td>\n",
       "    </tr>\n",
       "    <tr>\n",
       "      <th>1</th>\n",
       "      <td>1</td>\n",
       "      <td>frozenset({'BISKUAT BOLU CKL 16GR', 'INDOMILK ...</td>\n",
       "      <td>frozenset({'INDOMILK KID VNL 115ML', 'CLOUD 9 ...</td>\n",
       "      <td>0.000141</td>\n",
       "      <td>1</td>\n",
       "      <td>2206.793103</td>\n",
       "    </tr>\n",
       "    <tr>\n",
       "      <th>2</th>\n",
       "      <td>2</td>\n",
       "      <td>frozenset({'GATSBY SPL/C GS 175ML', 'FRESHCARE...</td>\n",
       "      <td>frozenset({'GATSBY SPL/C DO 175ML'})</td>\n",
       "      <td>0.000141</td>\n",
       "      <td>1</td>\n",
       "      <td>1185.129630</td>\n",
       "    </tr>\n",
       "    <tr>\n",
       "      <th>3</th>\n",
       "      <td>3</td>\n",
       "      <td>frozenset({'KISPRAY POUCH GLAM/GLD 300ML', 'IN...</td>\n",
       "      <td>frozenset({'SOKLIN LIQ LAVENDER 625ML'})</td>\n",
       "      <td>0.000109</td>\n",
       "      <td>1</td>\n",
       "      <td>831.129870</td>\n",
       "    </tr>\n",
       "    <tr>\n",
       "      <th>4</th>\n",
       "      <td>4</td>\n",
       "      <td>frozenset({'SEDAAP MIE CUP BASO BLEDUK', 'SEDA...</td>\n",
       "      <td>frozenset({'SEDAAP MIE CUP SOTO'})</td>\n",
       "      <td>0.000125</td>\n",
       "      <td>1</td>\n",
       "      <td>780.451220</td>\n",
       "    </tr>\n",
       "    <tr>\n",
       "      <th>5</th>\n",
       "      <td>5</td>\n",
       "      <td>frozenset({'SEDAAP MIE CUP AYM JERIT /12', 'SE...</td>\n",
       "      <td>frozenset({'SEDAAP MIE CUP SOTO'})</td>\n",
       "      <td>0.000109</td>\n",
       "      <td>1</td>\n",
       "      <td>780.451220</td>\n",
       "    </tr>\n",
       "    <tr>\n",
       "      <th>6</th>\n",
       "      <td>6</td>\n",
       "      <td>frozenset({'ATTACK JAZ 1 CINTA 1 6 KG', 'NUVO ...</td>\n",
       "      <td>frozenset({'NUVO SOAP BLUE 72G'})</td>\n",
       "      <td>0.000109</td>\n",
       "      <td>1</td>\n",
       "      <td>484.825758</td>\n",
       "    </tr>\n",
       "    <tr>\n",
       "      <th>7</th>\n",
       "      <td>7</td>\n",
       "      <td>frozenset({'BISKUAT BOLU CKL 16GR', 'INDOMILK ...</td>\n",
       "      <td>frozenset({'CLOUD 9 VANILA 15 4G'})</td>\n",
       "      <td>0.000141</td>\n",
       "      <td>1</td>\n",
       "      <td>378.680473</td>\n",
       "    </tr>\n",
       "    <tr>\n",
       "      <th>8</th>\n",
       "      <td>8</td>\n",
       "      <td>frozenset({'BISKUAT BOLU CKL 16GR', 'INDOMILK ...</td>\n",
       "      <td>frozenset({'CLOUD 9 VANILA 15 4G'})</td>\n",
       "      <td>0.000141</td>\n",
       "      <td>1</td>\n",
       "      <td>378.680473</td>\n",
       "    </tr>\n",
       "    <tr>\n",
       "      <th>9</th>\n",
       "      <td>9</td>\n",
       "      <td>frozenset({'DELFI TOP TRIP/CHO 9GR', 'MOMOGI J...</td>\n",
       "      <td>frozenset({'DELFI TOP B/WHITE 9GR'})</td>\n",
       "      <td>0.000109</td>\n",
       "      <td>1</td>\n",
       "      <td>353.574586</td>\n",
       "    </tr>\n",
       "    <tr>\n",
       "      <th>10</th>\n",
       "      <td>10</td>\n",
       "      <td>frozenset({'MR POTATO CRIPS ORI 35G', 'DELFI T...</td>\n",
       "      <td>frozenset({'INDOMILK KID CKL 115ML', 'INDOMILK...</td>\n",
       "      <td>0.000109</td>\n",
       "      <td>1</td>\n",
       "      <td>275.849138</td>\n",
       "    </tr>\n",
       "    <tr>\n",
       "      <th>11</th>\n",
       "      <td>11</td>\n",
       "      <td>frozenset({'BISKUAT BOLU CKL 16GR', 'CLOUD 9 V...</td>\n",
       "      <td>frozenset({'INDOMILK KID CKL 115ML', 'INDOMILK...</td>\n",
       "      <td>0.000125</td>\n",
       "      <td>1</td>\n",
       "      <td>275.849138</td>\n",
       "    </tr>\n",
       "    <tr>\n",
       "      <th>12</th>\n",
       "      <td>12</td>\n",
       "      <td>frozenset({'WALLS CORN STRW VANILA', 'WALLS PO...</td>\n",
       "      <td>frozenset({'WALLS POPULAIRE CKL'})</td>\n",
       "      <td>0.000188</td>\n",
       "      <td>1</td>\n",
       "      <td>238.794776</td>\n",
       "    </tr>\n",
       "    <tr>\n",
       "      <th>13</th>\n",
       "      <td>13</td>\n",
       "      <td>frozenset({'WALLS CORN STRW VANILA', 'WALLS PO...</td>\n",
       "      <td>frozenset({'WALLS POPULAIRE CKL'})</td>\n",
       "      <td>0.000125</td>\n",
       "      <td>1</td>\n",
       "      <td>238.794776</td>\n",
       "    </tr>\n",
       "    <tr>\n",
       "      <th>14</th>\n",
       "      <td>14</td>\n",
       "      <td>frozenset({'INDOMILK KID CKL 115ML', 'NEXTAR B...</td>\n",
       "      <td>frozenset({'INDOMILK KID STR 115ML'})</td>\n",
       "      <td>0.000109</td>\n",
       "      <td>1</td>\n",
       "      <td>124.994141</td>\n",
       "    </tr>\n",
       "    <tr>\n",
       "      <th>15</th>\n",
       "      <td>15</td>\n",
       "      <td>frozenset({'INDOMILK KID CKL 115ML', 'TEH GELA...</td>\n",
       "      <td>frozenset({'INDOMILK KID VNL 115ML'})</td>\n",
       "      <td>0.000219</td>\n",
       "      <td>1</td>\n",
       "      <td>122.834933</td>\n",
       "    </tr>\n",
       "    <tr>\n",
       "      <th>16</th>\n",
       "      <td>16</td>\n",
       "      <td>frozenset({'BISKUAT BOLU CKL 16GR', 'INDOMILK ...</td>\n",
       "      <td>frozenset({'INDOMILK KID VNL 115ML'})</td>\n",
       "      <td>0.000250</td>\n",
       "      <td>1</td>\n",
       "      <td>122.834933</td>\n",
       "    </tr>\n",
       "    <tr>\n",
       "      <th>17</th>\n",
       "      <td>17</td>\n",
       "      <td>frozenset({'INDOMILK KID CKL 115ML', 'NEXTAR P...</td>\n",
       "      <td>frozenset({'INDOMILK KID VNL 115ML'})</td>\n",
       "      <td>0.000141</td>\n",
       "      <td>1</td>\n",
       "      <td>122.834933</td>\n",
       "    </tr>\n",
       "    <tr>\n",
       "      <th>18</th>\n",
       "      <td>18</td>\n",
       "      <td>frozenset({'INDOMILK KID CKL 115ML', 'NEXTAR B...</td>\n",
       "      <td>frozenset({'INDOMILK KID VNL 115ML'})</td>\n",
       "      <td>0.000109</td>\n",
       "      <td>1</td>\n",
       "      <td>122.834933</td>\n",
       "    </tr>\n",
       "    <tr>\n",
       "      <th>19</th>\n",
       "      <td>19</td>\n",
       "      <td>frozenset({'INDOMILK KID CKL 115ML', 'WALLS PO...</td>\n",
       "      <td>frozenset({'INDOMILK KID VNL 115ML'})</td>\n",
       "      <td>0.000172</td>\n",
       "      <td>1</td>\n",
       "      <td>122.834933</td>\n",
       "    </tr>\n",
       "    <tr>\n",
       "      <th>20</th>\n",
       "      <td>20</td>\n",
       "      <td>frozenset({'INDOMILK KID STR 115ML', 'INDOMILK...</td>\n",
       "      <td>frozenset({'INDOMILK KID VNL 115ML'})</td>\n",
       "      <td>0.000109</td>\n",
       "      <td>1</td>\n",
       "      <td>122.834933</td>\n",
       "    </tr>\n",
       "    <tr>\n",
       "      <th>21</th>\n",
       "      <td>21</td>\n",
       "      <td>frozenset({'EKONOMI LIQUID REFF 235ML', 'INDOM...</td>\n",
       "      <td>frozenset({'INDOMILK KID VNL 115ML'})</td>\n",
       "      <td>0.000172</td>\n",
       "      <td>1</td>\n",
       "      <td>122.834933</td>\n",
       "    </tr>\n",
       "    <tr>\n",
       "      <th>22</th>\n",
       "      <td>22</td>\n",
       "      <td>frozenset({'BISKUAT BOLU CKL 16GR', 'INDOMILK ...</td>\n",
       "      <td>frozenset({'INDOMILK KID VNL 115ML'})</td>\n",
       "      <td>0.000141</td>\n",
       "      <td>1</td>\n",
       "      <td>122.834933</td>\n",
       "    </tr>\n",
       "    <tr>\n",
       "      <th>23</th>\n",
       "      <td>23</td>\n",
       "      <td>frozenset({'INDOMILK KID CKL 115ML', 'MR POTAT...</td>\n",
       "      <td>frozenset({'INDOMILK KID VNL 115ML'})</td>\n",
       "      <td>0.000109</td>\n",
       "      <td>1</td>\n",
       "      <td>122.834933</td>\n",
       "    </tr>\n",
       "    <tr>\n",
       "      <th>24</th>\n",
       "      <td>24</td>\n",
       "      <td>frozenset({'BISKUAT BOLU CKL 16GR', 'INDOMILK ...</td>\n",
       "      <td>frozenset({'INDOMILK KID VNL 115ML'})</td>\n",
       "      <td>0.000125</td>\n",
       "      <td>1</td>\n",
       "      <td>122.834933</td>\n",
       "    </tr>\n",
       "    <tr>\n",
       "      <th>25</th>\n",
       "      <td>25</td>\n",
       "      <td>frozenset({'INDOMILK KID STR 115ML', 'INDOMILK...</td>\n",
       "      <td>frozenset({'INDOMILK KID VNL 115ML'})</td>\n",
       "      <td>0.000109</td>\n",
       "      <td>1</td>\n",
       "      <td>122.834933</td>\n",
       "    </tr>\n",
       "    <tr>\n",
       "      <th>26</th>\n",
       "      <td>26</td>\n",
       "      <td>frozenset({'ADEM SARI CHINGKU MD LMN 350ML', '...</td>\n",
       "      <td>frozenset({'INDOMILK KID VNL 115ML'})</td>\n",
       "      <td>0.000125</td>\n",
       "      <td>1</td>\n",
       "      <td>122.834933</td>\n",
       "    </tr>\n",
       "    <tr>\n",
       "      <th>27</th>\n",
       "      <td>27</td>\n",
       "      <td>frozenset({'BISKUAT BOLU CKL 16GR', 'CLOUD 9 V...</td>\n",
       "      <td>frozenset({'INDOMILK KID VNL 115ML'})</td>\n",
       "      <td>0.000125</td>\n",
       "      <td>1</td>\n",
       "      <td>122.834933</td>\n",
       "    </tr>\n",
       "    <tr>\n",
       "      <th>28</th>\n",
       "      <td>28</td>\n",
       "      <td>frozenset({'BISKUAT BOLU CKL 16GR', 'INDOMILK ...</td>\n",
       "      <td>frozenset({'INDOMILK KID VNL 115ML'})</td>\n",
       "      <td>0.000281</td>\n",
       "      <td>1</td>\n",
       "      <td>122.834933</td>\n",
       "    </tr>\n",
       "    <tr>\n",
       "      <th>29</th>\n",
       "      <td>29</td>\n",
       "      <td>frozenset({'BISKUAT BOLU CKL 16GR', 'CLOUD 9 C...</td>\n",
       "      <td>frozenset({'INDOMILK KID VNL 115ML'})</td>\n",
       "      <td>0.000109</td>\n",
       "      <td>1</td>\n",
       "      <td>122.834933</td>\n",
       "    </tr>\n",
       "    <tr>\n",
       "      <th>30</th>\n",
       "      <td>30</td>\n",
       "      <td>frozenset({'DAIA LEMON 65GR', 'INDOMILK KID CK...</td>\n",
       "      <td>frozenset({'INDOMILK KID VNL 115ML'})</td>\n",
       "      <td>0.000109</td>\n",
       "      <td>1</td>\n",
       "      <td>122.834933</td>\n",
       "    </tr>\n",
       "    <tr>\n",
       "      <th>31</th>\n",
       "      <td>31</td>\n",
       "      <td>frozenset({'BISKUAT BOLU CKL 16GR', 'INDOMILK ...</td>\n",
       "      <td>frozenset({'INDOMILK KID VNL 115ML'})</td>\n",
       "      <td>0.000141</td>\n",
       "      <td>1</td>\n",
       "      <td>122.834933</td>\n",
       "    </tr>\n",
       "    <tr>\n",
       "      <th>32</th>\n",
       "      <td>32</td>\n",
       "      <td>frozenset({'MR POTATO CRIPS ORI 35G', 'TEH GEL...</td>\n",
       "      <td>frozenset({'INDOMILK KID VNL 115ML'})</td>\n",
       "      <td>0.000125</td>\n",
       "      <td>1</td>\n",
       "      <td>122.834933</td>\n",
       "    </tr>\n",
       "    <tr>\n",
       "      <th>33</th>\n",
       "      <td>33</td>\n",
       "      <td>frozenset({'TEH GELAS ORI 170ML', 'INDOMILK KI...</td>\n",
       "      <td>frozenset({'INDOMILK KID VNL 115ML'})</td>\n",
       "      <td>0.000281</td>\n",
       "      <td>1</td>\n",
       "      <td>122.834933</td>\n",
       "    </tr>\n",
       "    <tr>\n",
       "      <th>34</th>\n",
       "      <td>34</td>\n",
       "      <td>frozenset({'INDOMILK KID CKL 115ML', 'SEDAAP M...</td>\n",
       "      <td>frozenset({'INDOMILK KID VNL 115ML'})</td>\n",
       "      <td>0.000109</td>\n",
       "      <td>1</td>\n",
       "      <td>122.834933</td>\n",
       "    </tr>\n",
       "    <tr>\n",
       "      <th>35</th>\n",
       "      <td>35</td>\n",
       "      <td>frozenset({'INDOMILK KID CKL 115ML', 'NEXTAR P...</td>\n",
       "      <td>frozenset({'INDOMILK KID VNL 115ML'})</td>\n",
       "      <td>0.000156</td>\n",
       "      <td>1</td>\n",
       "      <td>122.834933</td>\n",
       "    </tr>\n",
       "    <tr>\n",
       "      <th>36</th>\n",
       "      <td>36</td>\n",
       "      <td>frozenset({'BISKUAT BOLU CKL 16GR', 'INDOMILK ...</td>\n",
       "      <td>frozenset({'INDOMILK KID VNL 115ML'})</td>\n",
       "      <td>0.000172</td>\n",
       "      <td>1</td>\n",
       "      <td>122.834933</td>\n",
       "    </tr>\n",
       "    <tr>\n",
       "      <th>37</th>\n",
       "      <td>37</td>\n",
       "      <td>frozenset({'EKONOMI LIQUID REFF 235ML', 'MR PO...</td>\n",
       "      <td>frozenset({'INDOMILK KID VNL 115ML'})</td>\n",
       "      <td>0.000109</td>\n",
       "      <td>1</td>\n",
       "      <td>122.834933</td>\n",
       "    </tr>\n",
       "    <tr>\n",
       "      <th>38</th>\n",
       "      <td>38</td>\n",
       "      <td>frozenset({'MR POTATO CRIPS ORI 35G', 'DELFI T...</td>\n",
       "      <td>frozenset({'INDOMILK KID VNL 115ML'})</td>\n",
       "      <td>0.000109</td>\n",
       "      <td>1</td>\n",
       "      <td>122.834933</td>\n",
       "    </tr>\n",
       "    <tr>\n",
       "      <th>39</th>\n",
       "      <td>39</td>\n",
       "      <td>frozenset({'MR POTATO CRIPS ORI 35G', 'DELFI T...</td>\n",
       "      <td>frozenset({'INDOMILK KID CKL 115ML'})</td>\n",
       "      <td>0.000109</td>\n",
       "      <td>1</td>\n",
       "      <td>88.028886</td>\n",
       "    </tr>\n",
       "    <tr>\n",
       "      <th>40</th>\n",
       "      <td>40</td>\n",
       "      <td>frozenset({'BISKUAT BOLU CKL 16GR', 'INDOMILK ...</td>\n",
       "      <td>frozenset({'INDOMILK KID CKL 115ML'})</td>\n",
       "      <td>0.000125</td>\n",
       "      <td>1</td>\n",
       "      <td>88.028886</td>\n",
       "    </tr>\n",
       "    <tr>\n",
       "      <th>41</th>\n",
       "      <td>41</td>\n",
       "      <td>frozenset({'BISKUAT BOLU CKL 16GR', 'INDOMILK ...</td>\n",
       "      <td>frozenset({'INDOMILK KID CKL 115ML'})</td>\n",
       "      <td>0.000141</td>\n",
       "      <td>1</td>\n",
       "      <td>88.028886</td>\n",
       "    </tr>\n",
       "    <tr>\n",
       "      <th>42</th>\n",
       "      <td>42</td>\n",
       "      <td>frozenset({'DAIA LEMON 65GR', 'INDOMILK KID VN...</td>\n",
       "      <td>frozenset({'INDOMILK KID CKL 115ML'})</td>\n",
       "      <td>0.000109</td>\n",
       "      <td>1</td>\n",
       "      <td>88.028886</td>\n",
       "    </tr>\n",
       "    <tr>\n",
       "      <th>43</th>\n",
       "      <td>43</td>\n",
       "      <td>frozenset({'BISKUAT BOLU CKL 16GR', 'INDOMILK ...</td>\n",
       "      <td>frozenset({'INDOMILK KID CKL 115ML'})</td>\n",
       "      <td>0.000172</td>\n",
       "      <td>1</td>\n",
       "      <td>88.028886</td>\n",
       "    </tr>\n",
       "    <tr>\n",
       "      <th>44</th>\n",
       "      <td>44</td>\n",
       "      <td>frozenset({'INDOMIE GRG SPECIAL', 'INDOMILK KI...</td>\n",
       "      <td>frozenset({'INDOMILK KID CKL 115ML'})</td>\n",
       "      <td>0.000125</td>\n",
       "      <td>1</td>\n",
       "      <td>88.028886</td>\n",
       "    </tr>\n",
       "    <tr>\n",
       "      <th>45</th>\n",
       "      <td>45</td>\n",
       "      <td>frozenset({'BISKUAT BOLU CKL 16GR', 'CLOUD 9 V...</td>\n",
       "      <td>frozenset({'INDOMILK KID CKL 115ML'})</td>\n",
       "      <td>0.000125</td>\n",
       "      <td>1</td>\n",
       "      <td>88.028886</td>\n",
       "    </tr>\n",
       "    <tr>\n",
       "      <th>46</th>\n",
       "      <td>46</td>\n",
       "      <td>frozenset({'MR POTATO CRIPS ORI 35G', 'INDOMIL...</td>\n",
       "      <td>frozenset({'INDOMILK KID CKL 115ML'})</td>\n",
       "      <td>0.000109</td>\n",
       "      <td>1</td>\n",
       "      <td>88.028886</td>\n",
       "    </tr>\n",
       "    <tr>\n",
       "      <th>47</th>\n",
       "      <td>47</td>\n",
       "      <td>frozenset({'GREENFIELDS STRAW 105ML', 'GREENFI...</td>\n",
       "      <td>frozenset({'SAKINAH 1500ML'})</td>\n",
       "      <td>0.000109</td>\n",
       "      <td>1</td>\n",
       "      <td>72.972634</td>\n",
       "    </tr>\n",
       "    <tr>\n",
       "      <th>48</th>\n",
       "      <td>48</td>\n",
       "      <td>frozenset({'INDOMIE RAMEN TORI KARA/20', 'INDO...</td>\n",
       "      <td>frozenset({'INDOMIE GRG SPECIAL'})</td>\n",
       "      <td>0.000141</td>\n",
       "      <td>1</td>\n",
       "      <td>32.684883</td>\n",
       "    </tr>\n",
       "    <tr>\n",
       "      <th>49</th>\n",
       "      <td>49</td>\n",
       "      <td>frozenset({'ROMA KELAPA 300GR', 'INDOMIE SOTO ...</td>\n",
       "      <td>frozenset({'INDOMIE GRG SPECIAL'})</td>\n",
       "      <td>0.000109</td>\n",
       "      <td>1</td>\n",
       "      <td>32.684883</td>\n",
       "    </tr>\n",
       "  </tbody>\n",
       "</table>\n",
       "</div>"
      ],
      "text/plain": [
       "    Unnamed: 0                                        antecedents  \\\n",
       "0            0  frozenset({'SAKINAH 1500ML', 'GREENFIELDS COKL...   \n",
       "1            1  frozenset({'BISKUAT BOLU CKL 16GR', 'INDOMILK ...   \n",
       "2            2  frozenset({'GATSBY SPL/C GS 175ML', 'FRESHCARE...   \n",
       "3            3  frozenset({'KISPRAY POUCH GLAM/GLD 300ML', 'IN...   \n",
       "4            4  frozenset({'SEDAAP MIE CUP BASO BLEDUK', 'SEDA...   \n",
       "5            5  frozenset({'SEDAAP MIE CUP AYM JERIT /12', 'SE...   \n",
       "6            6  frozenset({'ATTACK JAZ 1 CINTA 1 6 KG', 'NUVO ...   \n",
       "7            7  frozenset({'BISKUAT BOLU CKL 16GR', 'INDOMILK ...   \n",
       "8            8  frozenset({'BISKUAT BOLU CKL 16GR', 'INDOMILK ...   \n",
       "9            9  frozenset({'DELFI TOP TRIP/CHO 9GR', 'MOMOGI J...   \n",
       "10          10  frozenset({'MR POTATO CRIPS ORI 35G', 'DELFI T...   \n",
       "11          11  frozenset({'BISKUAT BOLU CKL 16GR', 'CLOUD 9 V...   \n",
       "12          12  frozenset({'WALLS CORN STRW VANILA', 'WALLS PO...   \n",
       "13          13  frozenset({'WALLS CORN STRW VANILA', 'WALLS PO...   \n",
       "14          14  frozenset({'INDOMILK KID CKL 115ML', 'NEXTAR B...   \n",
       "15          15  frozenset({'INDOMILK KID CKL 115ML', 'TEH GELA...   \n",
       "16          16  frozenset({'BISKUAT BOLU CKL 16GR', 'INDOMILK ...   \n",
       "17          17  frozenset({'INDOMILK KID CKL 115ML', 'NEXTAR P...   \n",
       "18          18  frozenset({'INDOMILK KID CKL 115ML', 'NEXTAR B...   \n",
       "19          19  frozenset({'INDOMILK KID CKL 115ML', 'WALLS PO...   \n",
       "20          20  frozenset({'INDOMILK KID STR 115ML', 'INDOMILK...   \n",
       "21          21  frozenset({'EKONOMI LIQUID REFF 235ML', 'INDOM...   \n",
       "22          22  frozenset({'BISKUAT BOLU CKL 16GR', 'INDOMILK ...   \n",
       "23          23  frozenset({'INDOMILK KID CKL 115ML', 'MR POTAT...   \n",
       "24          24  frozenset({'BISKUAT BOLU CKL 16GR', 'INDOMILK ...   \n",
       "25          25  frozenset({'INDOMILK KID STR 115ML', 'INDOMILK...   \n",
       "26          26  frozenset({'ADEM SARI CHINGKU MD LMN 350ML', '...   \n",
       "27          27  frozenset({'BISKUAT BOLU CKL 16GR', 'CLOUD 9 V...   \n",
       "28          28  frozenset({'BISKUAT BOLU CKL 16GR', 'INDOMILK ...   \n",
       "29          29  frozenset({'BISKUAT BOLU CKL 16GR', 'CLOUD 9 C...   \n",
       "30          30  frozenset({'DAIA LEMON 65GR', 'INDOMILK KID CK...   \n",
       "31          31  frozenset({'BISKUAT BOLU CKL 16GR', 'INDOMILK ...   \n",
       "32          32  frozenset({'MR POTATO CRIPS ORI 35G', 'TEH GEL...   \n",
       "33          33  frozenset({'TEH GELAS ORI 170ML', 'INDOMILK KI...   \n",
       "34          34  frozenset({'INDOMILK KID CKL 115ML', 'SEDAAP M...   \n",
       "35          35  frozenset({'INDOMILK KID CKL 115ML', 'NEXTAR P...   \n",
       "36          36  frozenset({'BISKUAT BOLU CKL 16GR', 'INDOMILK ...   \n",
       "37          37  frozenset({'EKONOMI LIQUID REFF 235ML', 'MR PO...   \n",
       "38          38  frozenset({'MR POTATO CRIPS ORI 35G', 'DELFI T...   \n",
       "39          39  frozenset({'MR POTATO CRIPS ORI 35G', 'DELFI T...   \n",
       "40          40  frozenset({'BISKUAT BOLU CKL 16GR', 'INDOMILK ...   \n",
       "41          41  frozenset({'BISKUAT BOLU CKL 16GR', 'INDOMILK ...   \n",
       "42          42  frozenset({'DAIA LEMON 65GR', 'INDOMILK KID VN...   \n",
       "43          43  frozenset({'BISKUAT BOLU CKL 16GR', 'INDOMILK ...   \n",
       "44          44  frozenset({'INDOMIE GRG SPECIAL', 'INDOMILK KI...   \n",
       "45          45  frozenset({'BISKUAT BOLU CKL 16GR', 'CLOUD 9 V...   \n",
       "46          46  frozenset({'MR POTATO CRIPS ORI 35G', 'INDOMIL...   \n",
       "47          47  frozenset({'GREENFIELDS STRAW 105ML', 'GREENFI...   \n",
       "48          48  frozenset({'INDOMIE RAMEN TORI KARA/20', 'INDO...   \n",
       "49          49  frozenset({'ROMA KELAPA 300GR', 'INDOMIE SOTO ...   \n",
       "\n",
       "                                          consequents   support  confidence  \\\n",
       "0              frozenset({'GREENFIELDS STRAW 105ML'})  0.000109           1   \n",
       "1   frozenset({'INDOMILK KID VNL 115ML', 'CLOUD 9 ...  0.000141           1   \n",
       "2                frozenset({'GATSBY SPL/C DO 175ML'})  0.000141           1   \n",
       "3            frozenset({'SOKLIN LIQ LAVENDER 625ML'})  0.000109           1   \n",
       "4                  frozenset({'SEDAAP MIE CUP SOTO'})  0.000125           1   \n",
       "5                  frozenset({'SEDAAP MIE CUP SOTO'})  0.000109           1   \n",
       "6                   frozenset({'NUVO SOAP BLUE 72G'})  0.000109           1   \n",
       "7                 frozenset({'CLOUD 9 VANILA 15 4G'})  0.000141           1   \n",
       "8                 frozenset({'CLOUD 9 VANILA 15 4G'})  0.000141           1   \n",
       "9                frozenset({'DELFI TOP B/WHITE 9GR'})  0.000109           1   \n",
       "10  frozenset({'INDOMILK KID CKL 115ML', 'INDOMILK...  0.000109           1   \n",
       "11  frozenset({'INDOMILK KID CKL 115ML', 'INDOMILK...  0.000125           1   \n",
       "12                 frozenset({'WALLS POPULAIRE CKL'})  0.000188           1   \n",
       "13                 frozenset({'WALLS POPULAIRE CKL'})  0.000125           1   \n",
       "14              frozenset({'INDOMILK KID STR 115ML'})  0.000109           1   \n",
       "15              frozenset({'INDOMILK KID VNL 115ML'})  0.000219           1   \n",
       "16              frozenset({'INDOMILK KID VNL 115ML'})  0.000250           1   \n",
       "17              frozenset({'INDOMILK KID VNL 115ML'})  0.000141           1   \n",
       "18              frozenset({'INDOMILK KID VNL 115ML'})  0.000109           1   \n",
       "19              frozenset({'INDOMILK KID VNL 115ML'})  0.000172           1   \n",
       "20              frozenset({'INDOMILK KID VNL 115ML'})  0.000109           1   \n",
       "21              frozenset({'INDOMILK KID VNL 115ML'})  0.000172           1   \n",
       "22              frozenset({'INDOMILK KID VNL 115ML'})  0.000141           1   \n",
       "23              frozenset({'INDOMILK KID VNL 115ML'})  0.000109           1   \n",
       "24              frozenset({'INDOMILK KID VNL 115ML'})  0.000125           1   \n",
       "25              frozenset({'INDOMILK KID VNL 115ML'})  0.000109           1   \n",
       "26              frozenset({'INDOMILK KID VNL 115ML'})  0.000125           1   \n",
       "27              frozenset({'INDOMILK KID VNL 115ML'})  0.000125           1   \n",
       "28              frozenset({'INDOMILK KID VNL 115ML'})  0.000281           1   \n",
       "29              frozenset({'INDOMILK KID VNL 115ML'})  0.000109           1   \n",
       "30              frozenset({'INDOMILK KID VNL 115ML'})  0.000109           1   \n",
       "31              frozenset({'INDOMILK KID VNL 115ML'})  0.000141           1   \n",
       "32              frozenset({'INDOMILK KID VNL 115ML'})  0.000125           1   \n",
       "33              frozenset({'INDOMILK KID VNL 115ML'})  0.000281           1   \n",
       "34              frozenset({'INDOMILK KID VNL 115ML'})  0.000109           1   \n",
       "35              frozenset({'INDOMILK KID VNL 115ML'})  0.000156           1   \n",
       "36              frozenset({'INDOMILK KID VNL 115ML'})  0.000172           1   \n",
       "37              frozenset({'INDOMILK KID VNL 115ML'})  0.000109           1   \n",
       "38              frozenset({'INDOMILK KID VNL 115ML'})  0.000109           1   \n",
       "39              frozenset({'INDOMILK KID CKL 115ML'})  0.000109           1   \n",
       "40              frozenset({'INDOMILK KID CKL 115ML'})  0.000125           1   \n",
       "41              frozenset({'INDOMILK KID CKL 115ML'})  0.000141           1   \n",
       "42              frozenset({'INDOMILK KID CKL 115ML'})  0.000109           1   \n",
       "43              frozenset({'INDOMILK KID CKL 115ML'})  0.000172           1   \n",
       "44              frozenset({'INDOMILK KID CKL 115ML'})  0.000125           1   \n",
       "45              frozenset({'INDOMILK KID CKL 115ML'})  0.000125           1   \n",
       "46              frozenset({'INDOMILK KID CKL 115ML'})  0.000109           1   \n",
       "47                      frozenset({'SAKINAH 1500ML'})  0.000109           1   \n",
       "48                 frozenset({'INDOMIE GRG SPECIAL'})  0.000141           1   \n",
       "49                 frozenset({'INDOMIE GRG SPECIAL'})  0.000109           1   \n",
       "\n",
       "           lift  \n",
       "0   4922.846154  \n",
       "1   2206.793103  \n",
       "2   1185.129630  \n",
       "3    831.129870  \n",
       "4    780.451220  \n",
       "5    780.451220  \n",
       "6    484.825758  \n",
       "7    378.680473  \n",
       "8    378.680473  \n",
       "9    353.574586  \n",
       "10   275.849138  \n",
       "11   275.849138  \n",
       "12   238.794776  \n",
       "13   238.794776  \n",
       "14   124.994141  \n",
       "15   122.834933  \n",
       "16   122.834933  \n",
       "17   122.834933  \n",
       "18   122.834933  \n",
       "19   122.834933  \n",
       "20   122.834933  \n",
       "21   122.834933  \n",
       "22   122.834933  \n",
       "23   122.834933  \n",
       "24   122.834933  \n",
       "25   122.834933  \n",
       "26   122.834933  \n",
       "27   122.834933  \n",
       "28   122.834933  \n",
       "29   122.834933  \n",
       "30   122.834933  \n",
       "31   122.834933  \n",
       "32   122.834933  \n",
       "33   122.834933  \n",
       "34   122.834933  \n",
       "35   122.834933  \n",
       "36   122.834933  \n",
       "37   122.834933  \n",
       "38   122.834933  \n",
       "39    88.028886  \n",
       "40    88.028886  \n",
       "41    88.028886  \n",
       "42    88.028886  \n",
       "43    88.028886  \n",
       "44    88.028886  \n",
       "45    88.028886  \n",
       "46    88.028886  \n",
       "47    72.972634  \n",
       "48    32.684883  \n",
       "49    32.684883  "
      ]
     },
     "execution_count": 3,
     "metadata": {},
     "output_type": "execute_result"
    }
   ],
   "source": [
    "df = pd.read_csv('data/rules2024.csv')\n",
    "df"
   ]
  },
  {
   "cell_type": "code",
   "execution_count": 4,
   "id": "0cb1ca56",
   "metadata": {},
   "outputs": [
    {
     "data": {
      "text/plain": [
       "{'ADEM SARI CHINGKU MD LMN 350ML',\n",
       " 'ATTACK JAZ 1 CINTA 1 6 KG',\n",
       " 'BISKUAT BOLU CKL 16GR',\n",
       " 'CLOUD 9 CHOCO 15 4G',\n",
       " 'CLOUD 9 VANILA 15 4G',\n",
       " 'DAIA LEMON 65GR',\n",
       " 'DELFI TOP B/WHITE 9GR',\n",
       " 'DELFI TOP CHO 9GR',\n",
       " 'DELFI TOP STR 9GR',\n",
       " 'DELFI TOP TRIP/CHO 9GR',\n",
       " 'EKONOMI LIQUID REFF 235ML',\n",
       " 'FRESHCARE ORIGINAL 10ML',\n",
       " 'GATSBY SPL/C DO 175ML',\n",
       " 'GATSBY SPL/C GS 175ML',\n",
       " 'GREENFIELDS COKLAT 105ML',\n",
       " 'GREENFIELDS STRAW 105ML',\n",
       " 'INDOMIE GRG SPECIAL',\n",
       " 'INDOMIE RAMEN TORI KARA/20',\n",
       " 'INDOMIE SOTO MIE',\n",
       " 'INDOMILK KID CKL 115ML',\n",
       " 'INDOMILK KID STR 115ML',\n",
       " 'INDOMILK KID VNL 115ML',\n",
       " 'KISPRAY POUCH GLAM/GLD 300ML',\n",
       " 'MAMA LEMON 115ML',\n",
       " 'MOMOGI JGG BKR 6GR',\n",
       " 'MR POTATO CRIPS ORI 35G',\n",
       " 'NEXTAR BROWNIES 42GR',\n",
       " 'NEXTAR PINEAPLE 112G',\n",
       " 'NUVO SOAP BLUE 72G',\n",
       " 'NUVO SOAP RED 72G',\n",
       " 'ROMA KELAPA 300GR',\n",
       " 'SAKINAH 1500ML',\n",
       " 'SEDAAP MIE AYAM BWG',\n",
       " 'SEDAAP MIE CUP AYM JERIT /12',\n",
       " 'SEDAAP MIE CUP BASO BLEDUK',\n",
       " 'SEDAAP MIE CUP BASO SPC',\n",
       " 'SEDAAP MIE CUP KARE',\n",
       " 'SEDAAP MIE CUP SOTO',\n",
       " 'SEDAAP MIE SOTO',\n",
       " 'SOKLIN LIQ LAVENDER 625ML',\n",
       " 'TEH GELAS ORI 170ML',\n",
       " 'WALLS CORN B/WHITE 82GR',\n",
       " 'WALLS CORN STRW VANILA',\n",
       " 'WALLS POPULAIRE CKL',\n",
       " 'WALLS POPULAIRE STR'}"
      ]
     },
     "execution_count": 4,
     "metadata": {},
     "output_type": "execute_result"
    }
   ],
   "source": [
    "# Pastikan semua elemen dalam kolom antecedents dan consequents adalah frozenset\n",
    "df[\"antecedents\"] = df[\"antecedents\"].apply(lambda x: frozenset(eval(x)) if isinstance(x, str) else x)\n",
    "df[\"consequents\"] = df[\"consequents\"].apply(lambda x: frozenset(eval(x)) if isinstance(x, str) else x)\n",
    "\n",
    "# Mengambil semua item unik\n",
    "all_items = set()\n",
    "for col in [\"antecedents\", \"consequents\"]:\n",
    "    for items in df[col]:\n",
    "        all_items.update(items)\n",
    "\n",
    "all_items"
   ]
  },
  {
   "cell_type": "markdown",
   "id": "4ea7183a",
   "metadata": {},
   "source": [
    "### **Import Data Transaksi**"
   ]
  },
  {
   "cell_type": "code",
   "execution_count": 5,
   "id": "529ce990",
   "metadata": {},
   "outputs": [
    {
     "data": {
      "text/html": [
       "<div>\n",
       "<style scoped>\n",
       "    .dataframe tbody tr th:only-of-type {\n",
       "        vertical-align: middle;\n",
       "    }\n",
       "\n",
       "    .dataframe tbody tr th {\n",
       "        vertical-align: top;\n",
       "    }\n",
       "\n",
       "    .dataframe thead th {\n",
       "        text-align: right;\n",
       "    }\n",
       "</style>\n",
       "<table border=\"1\" class=\"dataframe\">\n",
       "  <thead>\n",
       "    <tr style=\"text-align: right;\">\n",
       "      <th></th>\n",
       "      <th>TANGGAL</th>\n",
       "      <th>NO TRANSAKSI</th>\n",
       "      <th>NAMA BARANG</th>\n",
       "      <th>QTY</th>\n",
       "    </tr>\n",
       "  </thead>\n",
       "  <tbody>\n",
       "    <tr>\n",
       "      <th>0</th>\n",
       "      <td>2024-01-01</td>\n",
       "      <td>2401011010001</td>\n",
       "      <td>GULA ROSE BRAND 1KG</td>\n",
       "      <td>1</td>\n",
       "    </tr>\n",
       "    <tr>\n",
       "      <th>1</th>\n",
       "      <td>2024-01-01</td>\n",
       "      <td>2401011010002</td>\n",
       "      <td>RIZKI MG 850ML/900ML BTL</td>\n",
       "      <td>3</td>\n",
       "    </tr>\n",
       "    <tr>\n",
       "      <th>2</th>\n",
       "      <td>2024-01-01</td>\n",
       "      <td>2401011010003</td>\n",
       "      <td>ULTRA MIMI VNL 125ML</td>\n",
       "      <td>1</td>\n",
       "    </tr>\n",
       "    <tr>\n",
       "      <th>3</th>\n",
       "      <td>2024-01-01</td>\n",
       "      <td>2401011010003</td>\n",
       "      <td>BEAR BRAND 189ML</td>\n",
       "      <td>1</td>\n",
       "    </tr>\n",
       "    <tr>\n",
       "      <th>4</th>\n",
       "      <td>2024-01-01</td>\n",
       "      <td>2401011010003</td>\n",
       "      <td>TINI WINI BITI ASIN 20 GR</td>\n",
       "      <td>1</td>\n",
       "    </tr>\n",
       "    <tr>\n",
       "      <th>...</th>\n",
       "      <td>...</td>\n",
       "      <td>...</td>\n",
       "      <td>...</td>\n",
       "      <td>...</td>\n",
       "    </tr>\n",
       "    <tr>\n",
       "      <th>167618</th>\n",
       "      <td>2024-12-31</td>\n",
       "      <td>2412311020122</td>\n",
       "      <td>WALLS POPULAIRE CKL</td>\n",
       "      <td>1</td>\n",
       "    </tr>\n",
       "    <tr>\n",
       "      <th>167619</th>\n",
       "      <td>2024-12-31</td>\n",
       "      <td>2412311020123</td>\n",
       "      <td>THERMAL 80X50 TRUST PAPER</td>\n",
       "      <td>1</td>\n",
       "    </tr>\n",
       "    <tr>\n",
       "      <th>167620</th>\n",
       "      <td>2024-12-31</td>\n",
       "      <td>2412311020124</td>\n",
       "      <td>SAKINAH 600ML</td>\n",
       "      <td>1</td>\n",
       "    </tr>\n",
       "    <tr>\n",
       "      <th>167621</th>\n",
       "      <td>2024-12-31</td>\n",
       "      <td>2412311020124</td>\n",
       "      <td>WALLS PP RAINBOW P</td>\n",
       "      <td>1</td>\n",
       "    </tr>\n",
       "    <tr>\n",
       "      <th>167622</th>\n",
       "      <td>2024-12-31</td>\n",
       "      <td>2412311020125</td>\n",
       "      <td>INDOMILK BTL BLBERRY 190ML</td>\n",
       "      <td>1</td>\n",
       "    </tr>\n",
       "  </tbody>\n",
       "</table>\n",
       "<p>167623 rows × 4 columns</p>\n",
       "</div>"
      ],
      "text/plain": [
       "          TANGGAL   NO TRANSAKSI                 NAMA BARANG  QTY\n",
       "0      2024-01-01  2401011010001         GULA ROSE BRAND 1KG    1\n",
       "1      2024-01-01  2401011010002    RIZKI MG 850ML/900ML BTL    3\n",
       "2      2024-01-01  2401011010003        ULTRA MIMI VNL 125ML    1\n",
       "3      2024-01-01  2401011010003            BEAR BRAND 189ML    1\n",
       "4      2024-01-01  2401011010003   TINI WINI BITI ASIN 20 GR    1\n",
       "...           ...            ...                         ...  ...\n",
       "167618 2024-12-31  2412311020122         WALLS POPULAIRE CKL    1\n",
       "167619 2024-12-31  2412311020123   THERMAL 80X50 TRUST PAPER    1\n",
       "167620 2024-12-31  2412311020124               SAKINAH 600ML    1\n",
       "167621 2024-12-31  2412311020124          WALLS PP RAINBOW P    1\n",
       "167622 2024-12-31  2412311020125  INDOMILK BTL BLBERRY 190ML    1\n",
       "\n",
       "[167623 rows x 4 columns]"
      ]
     },
     "execution_count": 5,
     "metadata": {},
     "output_type": "execute_result"
    }
   ],
   "source": [
    "groceries = pd.read_excel('data/final_data2024.xlsx')\n",
    "groceries"
   ]
  },
  {
   "cell_type": "markdown",
   "id": "f0751ba7",
   "metadata": {},
   "source": [
    "### **Filter Data Transaksi**"
   ]
  },
  {
   "cell_type": "code",
   "execution_count": 6,
   "id": "1aca4554",
   "metadata": {},
   "outputs": [
    {
     "data": {
      "text/html": [
       "<div>\n",
       "<style scoped>\n",
       "    .dataframe tbody tr th:only-of-type {\n",
       "        vertical-align: middle;\n",
       "    }\n",
       "\n",
       "    .dataframe tbody tr th {\n",
       "        vertical-align: top;\n",
       "    }\n",
       "\n",
       "    .dataframe thead th {\n",
       "        text-align: right;\n",
       "    }\n",
       "</style>\n",
       "<table border=\"1\" class=\"dataframe\">\n",
       "  <thead>\n",
       "    <tr style=\"text-align: right;\">\n",
       "      <th></th>\n",
       "      <th>TANGGAL</th>\n",
       "      <th>NO TRANSAKSI</th>\n",
       "      <th>NAMA BARANG</th>\n",
       "      <th>QTY</th>\n",
       "    </tr>\n",
       "  </thead>\n",
       "  <tbody>\n",
       "    <tr>\n",
       "      <th>20</th>\n",
       "      <td>2024-01-01</td>\n",
       "      <td>2401011010011</td>\n",
       "      <td>INDOMIE GRG SPECIAL</td>\n",
       "      <td>1</td>\n",
       "    </tr>\n",
       "    <tr>\n",
       "      <th>32</th>\n",
       "      <td>2024-01-01</td>\n",
       "      <td>2401011010015</td>\n",
       "      <td>EKONOMI LIQUID REFF 235ML</td>\n",
       "      <td>1</td>\n",
       "    </tr>\n",
       "    <tr>\n",
       "      <th>55</th>\n",
       "      <td>2024-01-01</td>\n",
       "      <td>2401011010017</td>\n",
       "      <td>ROMA KELAPA 300GR</td>\n",
       "      <td>1</td>\n",
       "    </tr>\n",
       "    <tr>\n",
       "      <th>59</th>\n",
       "      <td>2024-01-01</td>\n",
       "      <td>2401011010018</td>\n",
       "      <td>INDOMILK KID VNL 115ML</td>\n",
       "      <td>1</td>\n",
       "    </tr>\n",
       "    <tr>\n",
       "      <th>73</th>\n",
       "      <td>2024-01-01</td>\n",
       "      <td>2401011010023</td>\n",
       "      <td>ROMA KELAPA 300GR</td>\n",
       "      <td>1</td>\n",
       "    </tr>\n",
       "    <tr>\n",
       "      <th>...</th>\n",
       "      <td>...</td>\n",
       "      <td>...</td>\n",
       "      <td>...</td>\n",
       "      <td>...</td>\n",
       "    </tr>\n",
       "    <tr>\n",
       "      <th>167537</th>\n",
       "      <td>2024-12-31</td>\n",
       "      <td>2412311020090</td>\n",
       "      <td>INDOMILK KID CKL 115ML</td>\n",
       "      <td>1</td>\n",
       "    </tr>\n",
       "    <tr>\n",
       "      <th>167552</th>\n",
       "      <td>2024-12-31</td>\n",
       "      <td>2412311020096</td>\n",
       "      <td>INDOMIE RAMEN TORI KARA/20</td>\n",
       "      <td>1</td>\n",
       "    </tr>\n",
       "    <tr>\n",
       "      <th>167607</th>\n",
       "      <td>2024-12-31</td>\n",
       "      <td>2412311020118</td>\n",
       "      <td>INDOMILK KID STR 115ML</td>\n",
       "      <td>1</td>\n",
       "    </tr>\n",
       "    <tr>\n",
       "      <th>167608</th>\n",
       "      <td>2024-12-31</td>\n",
       "      <td>2412311020118</td>\n",
       "      <td>INDOMILK KID VNL 115ML</td>\n",
       "      <td>1</td>\n",
       "    </tr>\n",
       "    <tr>\n",
       "      <th>167618</th>\n",
       "      <td>2024-12-31</td>\n",
       "      <td>2412311020122</td>\n",
       "      <td>WALLS POPULAIRE CKL</td>\n",
       "      <td>1</td>\n",
       "    </tr>\n",
       "  </tbody>\n",
       "</table>\n",
       "<p>10591 rows × 4 columns</p>\n",
       "</div>"
      ],
      "text/plain": [
       "          TANGGAL   NO TRANSAKSI                 NAMA BARANG  QTY\n",
       "20     2024-01-01  2401011010011         INDOMIE GRG SPECIAL    1\n",
       "32     2024-01-01  2401011010015   EKONOMI LIQUID REFF 235ML    1\n",
       "55     2024-01-01  2401011010017           ROMA KELAPA 300GR    1\n",
       "59     2024-01-01  2401011010018      INDOMILK KID VNL 115ML    1\n",
       "73     2024-01-01  2401011010023           ROMA KELAPA 300GR    1\n",
       "...           ...            ...                         ...  ...\n",
       "167537 2024-12-31  2412311020090      INDOMILK KID CKL 115ML    1\n",
       "167552 2024-12-31  2412311020096  INDOMIE RAMEN TORI KARA/20    1\n",
       "167607 2024-12-31  2412311020118      INDOMILK KID STR 115ML    1\n",
       "167608 2024-12-31  2412311020118      INDOMILK KID VNL 115ML    1\n",
       "167618 2024-12-31  2412311020122         WALLS POPULAIRE CKL    1\n",
       "\n",
       "[10591 rows x 4 columns]"
      ]
     },
     "execution_count": 6,
     "metadata": {},
     "output_type": "execute_result"
    }
   ],
   "source": [
    "df_filtered = groceries[groceries['NAMA BARANG'].isin(all_items)]\n",
    "df_filtered "
   ]
  },
  {
   "cell_type": "code",
   "execution_count": 7,
   "id": "0bc9ca8c",
   "metadata": {},
   "outputs": [
    {
     "name": "stdout",
     "output_type": "stream",
     "text": [
      "Jumlah nama barang unik: 45\n",
      "Nama barang unik:\n",
      "- INDOMIE GRG SPECIAL\n",
      "- EKONOMI LIQUID REFF 235ML\n",
      "- ROMA KELAPA 300GR\n",
      "- INDOMILK KID VNL 115ML\n",
      "- SEDAAP MIE AYAM BWG\n",
      "- SEDAAP MIE SOTO\n",
      "- ATTACK JAZ 1 CINTA 1 6 KG\n",
      "- WALLS POPULAIRE CKL\n",
      "- MAMA LEMON 115ML\n",
      "- WALLS CORN STRW VANILA\n",
      "- DELFI TOP CHO 9GR\n",
      "- DELFI TOP STR 9GR\n",
      "- DELFI TOP B/WHITE 9GR\n",
      "- SEDAAP MIE CUP SOTO\n",
      "- SEDAAP MIE CUP KARE\n",
      "- DELFI TOP TRIP/CHO 9GR\n",
      "- DAIA LEMON 65GR\n",
      "- NUVO SOAP RED 72G\n",
      "- NUVO SOAP BLUE 72G\n",
      "- SEDAAP MIE CUP AYM JERIT /12\n",
      "- SEDAAP MIE CUP BASO BLEDUK\n",
      "- WALLS CORN B/WHITE 82GR\n",
      "- BISKUAT BOLU CKL 16GR\n",
      "- INDOMIE SOTO MIE\n",
      "- SOKLIN LIQ LAVENDER 625ML\n",
      "- INDOMILK KID STR 115ML\n",
      "- WALLS POPULAIRE STR\n",
      "- SAKINAH 1500ML\n",
      "- KISPRAY POUCH GLAM/GLD 300ML\n",
      "- MR POTATO CRIPS ORI 35G\n",
      "- INDOMILK KID CKL 115ML\n",
      "- GATSBY SPL/C DO 175ML\n",
      "- GATSBY SPL/C GS 175ML\n",
      "- FRESHCARE ORIGINAL 10ML\n",
      "- INDOMIE RAMEN TORI KARA/20\n",
      "- NEXTAR BROWNIES 42GR\n",
      "- CLOUD 9 VANILA 15 4G\n",
      "- TEH GELAS ORI 170ML\n",
      "- CLOUD 9 CHOCO 15 4G\n",
      "- NEXTAR PINEAPLE 112G\n",
      "- SEDAAP MIE CUP BASO SPC\n",
      "- ADEM SARI CHINGKU MD LMN 350ML\n",
      "- MOMOGI JGG BKR 6GR\n",
      "- GREENFIELDS COKLAT 105ML\n",
      "- GREENFIELDS STRAW 105ML\n"
     ]
    }
   ],
   "source": [
    "# Menampilkan jumlah unik nama barang\n",
    "jumlah_nama_barang = df_filtered['NAMA BARANG'].nunique()\n",
    "print(\"Jumlah nama barang unik:\", jumlah_nama_barang)\n",
    "\n",
    "# Menampilkan isi nama barang yang unik\n",
    "nama_barang_unik = df_filtered['NAMA BARANG'].unique()\n",
    "print(\"Nama barang unik:\")\n",
    "for nama in nama_barang_unik:\n",
    "    print(\"-\", nama)"
   ]
  },
  {
   "cell_type": "markdown",
   "id": "687bb558",
   "metadata": {},
   "source": [
    "### **Agregasi Data Mingguan**"
   ]
  },
  {
   "cell_type": "code",
   "execution_count": 8,
   "id": "37afe687",
   "metadata": {},
   "outputs": [
    {
     "data": {
      "application/vnd.plotly.v1+json": {
       "config": {
        "plotlyServerURL": "https://plot.ly"
       },
       "data": [
        {
         "hovertemplate": "NAMA BARANG=ADEM SARI CHINGKU MD LMN 350ML<br>TANGGAL=%{x}<br>QTY=%{y}<extra></extra>",
         "legendgroup": "ADEM SARI CHINGKU MD LMN 350ML",
         "line": {
          "color": "#636efa",
          "dash": "solid"
         },
         "marker": {
          "symbol": "circle"
         },
         "mode": "lines",
         "name": "ADEM SARI CHINGKU MD LMN 350ML",
         "showlegend": true,
         "type": "scattergl",
         "x": [
          "2024-01-01T00:00:00",
          "2024-01-08T00:00:00",
          "2024-01-15T00:00:00",
          "2024-01-22T00:00:00",
          "2024-01-29T00:00:00",
          "2024-02-05T00:00:00",
          "2024-02-12T00:00:00",
          "2024-02-19T00:00:00",
          "2024-02-26T00:00:00",
          "2024-03-04T00:00:00",
          "2024-03-11T00:00:00",
          "2024-03-18T00:00:00",
          "2024-03-25T00:00:00",
          "2024-04-01T00:00:00",
          "2024-04-08T00:00:00",
          "2024-04-15T00:00:00",
          "2024-04-22T00:00:00",
          "2024-04-29T00:00:00",
          "2024-05-06T00:00:00",
          "2024-05-13T00:00:00",
          "2024-05-20T00:00:00",
          "2024-05-27T00:00:00",
          "2024-06-03T00:00:00",
          "2024-06-10T00:00:00",
          "2024-06-17T00:00:00",
          "2024-06-24T00:00:00",
          "2024-07-01T00:00:00",
          "2024-07-08T00:00:00",
          "2024-07-15T00:00:00",
          "2024-07-22T00:00:00",
          "2024-07-29T00:00:00",
          "2024-08-05T00:00:00",
          "2024-08-12T00:00:00",
          "2024-08-19T00:00:00",
          "2024-08-26T00:00:00",
          "2024-09-02T00:00:00",
          "2024-09-09T00:00:00",
          "2024-09-16T00:00:00",
          "2024-09-23T00:00:00",
          "2024-09-30T00:00:00",
          "2024-10-07T00:00:00",
          "2024-10-14T00:00:00",
          "2024-10-21T00:00:00",
          "2024-10-28T00:00:00",
          "2024-11-04T00:00:00",
          "2024-11-11T00:00:00",
          "2024-11-18T00:00:00",
          "2024-11-25T00:00:00",
          "2024-12-02T00:00:00",
          "2024-12-09T00:00:00",
          "2024-12-16T00:00:00",
          "2024-12-23T00:00:00",
          "2024-12-30T00:00:00"
         ],
         "xaxis": "x",
         "y": [
          0,
          10,
          8,
          2,
          0,
          2,
          1,
          4,
          1,
          2,
          0,
          0,
          2,
          0,
          0,
          2,
          0,
          2,
          2,
          1,
          0,
          2,
          3,
          0,
          2,
          1,
          0,
          0,
          1,
          0,
          0,
          1,
          0,
          2,
          1,
          1,
          1,
          3,
          6,
          2,
          4,
          5,
          1,
          1,
          1,
          2,
          4,
          0,
          1,
          0,
          0,
          1,
          0
         ],
         "yaxis": "y"
        },
        {
         "hovertemplate": "NAMA BARANG=ATTACK JAZ 1 CINTA 1 6 KG<br>TANGGAL=%{x}<br>QTY=%{y}<extra></extra>",
         "legendgroup": "ATTACK JAZ 1 CINTA 1 6 KG",
         "line": {
          "color": "#EF553B",
          "dash": "solid"
         },
         "marker": {
          "symbol": "circle"
         },
         "mode": "lines",
         "name": "ATTACK JAZ 1 CINTA 1 6 KG",
         "showlegend": true,
         "type": "scattergl",
         "x": [
          "2024-01-01T00:00:00",
          "2024-01-08T00:00:00",
          "2024-01-15T00:00:00",
          "2024-01-22T00:00:00",
          "2024-01-29T00:00:00",
          "2024-02-05T00:00:00",
          "2024-02-12T00:00:00",
          "2024-02-19T00:00:00",
          "2024-02-26T00:00:00",
          "2024-03-04T00:00:00",
          "2024-03-11T00:00:00",
          "2024-03-18T00:00:00",
          "2024-03-25T00:00:00",
          "2024-04-01T00:00:00",
          "2024-04-08T00:00:00",
          "2024-04-15T00:00:00",
          "2024-04-22T00:00:00",
          "2024-04-29T00:00:00",
          "2024-05-06T00:00:00",
          "2024-05-13T00:00:00",
          "2024-05-20T00:00:00",
          "2024-05-27T00:00:00",
          "2024-06-03T00:00:00",
          "2024-06-10T00:00:00",
          "2024-06-17T00:00:00",
          "2024-06-24T00:00:00",
          "2024-07-01T00:00:00",
          "2024-07-08T00:00:00",
          "2024-07-15T00:00:00",
          "2024-07-22T00:00:00",
          "2024-07-29T00:00:00",
          "2024-08-05T00:00:00",
          "2024-08-12T00:00:00",
          "2024-08-19T00:00:00",
          "2024-08-26T00:00:00",
          "2024-09-02T00:00:00",
          "2024-09-09T00:00:00",
          "2024-09-16T00:00:00",
          "2024-09-23T00:00:00",
          "2024-09-30T00:00:00",
          "2024-10-07T00:00:00",
          "2024-10-14T00:00:00",
          "2024-10-21T00:00:00",
          "2024-10-28T00:00:00",
          "2024-11-04T00:00:00",
          "2024-11-11T00:00:00",
          "2024-11-18T00:00:00",
          "2024-11-25T00:00:00",
          "2024-12-02T00:00:00",
          "2024-12-09T00:00:00",
          "2024-12-16T00:00:00",
          "2024-12-23T00:00:00",
          "2024-12-30T00:00:00"
         ],
         "xaxis": "x",
         "y": [
          10,
          0,
          0,
          1,
          5,
          0,
          0,
          0,
          6,
          3,
          2,
          0,
          0,
          4,
          0,
          0,
          0,
          2,
          1,
          0,
          0,
          0,
          1,
          0,
          2,
          0,
          1,
          1,
          0,
          1,
          1,
          1,
          0,
          0,
          1,
          4,
          2,
          1,
          2,
          3,
          1,
          3,
          1,
          1,
          4,
          3,
          0,
          1,
          5,
          1,
          0,
          1,
          0
         ],
         "yaxis": "y"
        },
        {
         "hovertemplate": "NAMA BARANG=BISKUAT BOLU CKL 16GR<br>TANGGAL=%{x}<br>QTY=%{y}<extra></extra>",
         "legendgroup": "BISKUAT BOLU CKL 16GR",
         "line": {
          "color": "#00cc96",
          "dash": "solid"
         },
         "marker": {
          "symbol": "circle"
         },
         "mode": "lines",
         "name": "BISKUAT BOLU CKL 16GR",
         "showlegend": true,
         "type": "scattergl",
         "x": [
          "2024-01-01T00:00:00",
          "2024-01-08T00:00:00",
          "2024-01-15T00:00:00",
          "2024-01-22T00:00:00",
          "2024-01-29T00:00:00",
          "2024-02-05T00:00:00",
          "2024-02-12T00:00:00",
          "2024-02-19T00:00:00",
          "2024-02-26T00:00:00",
          "2024-03-04T00:00:00",
          "2024-03-11T00:00:00",
          "2024-03-18T00:00:00",
          "2024-03-25T00:00:00",
          "2024-04-01T00:00:00",
          "2024-04-08T00:00:00",
          "2024-04-15T00:00:00",
          "2024-04-22T00:00:00",
          "2024-04-29T00:00:00",
          "2024-05-06T00:00:00",
          "2024-05-13T00:00:00",
          "2024-05-20T00:00:00",
          "2024-05-27T00:00:00",
          "2024-06-03T00:00:00",
          "2024-06-10T00:00:00",
          "2024-06-17T00:00:00",
          "2024-06-24T00:00:00",
          "2024-07-01T00:00:00",
          "2024-07-08T00:00:00",
          "2024-07-15T00:00:00",
          "2024-07-22T00:00:00",
          "2024-07-29T00:00:00",
          "2024-08-05T00:00:00",
          "2024-08-12T00:00:00",
          "2024-08-19T00:00:00",
          "2024-08-26T00:00:00",
          "2024-09-02T00:00:00",
          "2024-09-09T00:00:00",
          "2024-09-16T00:00:00",
          "2024-09-23T00:00:00",
          "2024-09-30T00:00:00",
          "2024-10-07T00:00:00",
          "2024-10-14T00:00:00",
          "2024-10-21T00:00:00",
          "2024-10-28T00:00:00",
          "2024-11-04T00:00:00",
          "2024-11-11T00:00:00",
          "2024-11-18T00:00:00",
          "2024-11-25T00:00:00",
          "2024-12-02T00:00:00",
          "2024-12-09T00:00:00",
          "2024-12-16T00:00:00",
          "2024-12-23T00:00:00",
          "2024-12-30T00:00:00"
         ],
         "xaxis": "x",
         "y": [
          5,
          4,
          7,
          5,
          0,
          1,
          0,
          2,
          3,
          3,
          5,
          6,
          10,
          2,
          1,
          6,
          1,
          3,
          5,
          0,
          1,
          0,
          3,
          7,
          2,
          3,
          2,
          4,
          1,
          4,
          22,
          4,
          4,
          1,
          1,
          2,
          3,
          7,
          5,
          3,
          2,
          4,
          5,
          5,
          8,
          7,
          13,
          4,
          3,
          6,
          5,
          5,
          0
         ],
         "yaxis": "y"
        },
        {
         "hovertemplate": "NAMA BARANG=CLOUD 9 CHOCO 15 4G<br>TANGGAL=%{x}<br>QTY=%{y}<extra></extra>",
         "legendgroup": "CLOUD 9 CHOCO 15 4G",
         "line": {
          "color": "#ab63fa",
          "dash": "solid"
         },
         "marker": {
          "symbol": "circle"
         },
         "mode": "lines",
         "name": "CLOUD 9 CHOCO 15 4G",
         "showlegend": true,
         "type": "scattergl",
         "x": [
          "2024-01-01T00:00:00",
          "2024-01-08T00:00:00",
          "2024-01-15T00:00:00",
          "2024-01-22T00:00:00",
          "2024-01-29T00:00:00",
          "2024-02-05T00:00:00",
          "2024-02-12T00:00:00",
          "2024-02-19T00:00:00",
          "2024-02-26T00:00:00",
          "2024-03-04T00:00:00",
          "2024-03-11T00:00:00",
          "2024-03-18T00:00:00",
          "2024-03-25T00:00:00",
          "2024-04-01T00:00:00",
          "2024-04-08T00:00:00",
          "2024-04-15T00:00:00",
          "2024-04-22T00:00:00",
          "2024-04-29T00:00:00",
          "2024-05-06T00:00:00",
          "2024-05-13T00:00:00",
          "2024-05-20T00:00:00",
          "2024-05-27T00:00:00",
          "2024-06-03T00:00:00",
          "2024-06-10T00:00:00",
          "2024-06-17T00:00:00",
          "2024-06-24T00:00:00",
          "2024-07-01T00:00:00",
          "2024-07-08T00:00:00",
          "2024-07-15T00:00:00",
          "2024-07-22T00:00:00",
          "2024-07-29T00:00:00",
          "2024-08-05T00:00:00",
          "2024-08-12T00:00:00",
          "2024-08-19T00:00:00",
          "2024-08-26T00:00:00",
          "2024-09-02T00:00:00",
          "2024-09-09T00:00:00",
          "2024-09-16T00:00:00",
          "2024-09-23T00:00:00",
          "2024-09-30T00:00:00",
          "2024-10-07T00:00:00",
          "2024-10-14T00:00:00",
          "2024-10-21T00:00:00",
          "2024-10-28T00:00:00",
          "2024-11-04T00:00:00",
          "2024-11-11T00:00:00",
          "2024-11-18T00:00:00",
          "2024-11-25T00:00:00",
          "2024-12-02T00:00:00",
          "2024-12-09T00:00:00",
          "2024-12-16T00:00:00",
          "2024-12-23T00:00:00",
          "2024-12-30T00:00:00"
         ],
         "xaxis": "x",
         "y": [
          3,
          7,
          5,
          5,
          10,
          10,
          3,
          1,
          2,
          7,
          12,
          2,
          0,
          6,
          2,
          7,
          2,
          5,
          3,
          15,
          8,
          1,
          11,
          10,
          3,
          4,
          7,
          6,
          5,
          0,
          9,
          15,
          17,
          7,
          0,
          0,
          0,
          0,
          0,
          7,
          6,
          7,
          17,
          2,
          9,
          6,
          13,
          6,
          0,
          2,
          0,
          4,
          5
         ],
         "yaxis": "y"
        },
        {
         "hovertemplate": "NAMA BARANG=CLOUD 9 VANILA 15 4G<br>TANGGAL=%{x}<br>QTY=%{y}<extra></extra>",
         "legendgroup": "CLOUD 9 VANILA 15 4G",
         "line": {
          "color": "#FFA15A",
          "dash": "solid"
         },
         "marker": {
          "symbol": "circle"
         },
         "mode": "lines",
         "name": "CLOUD 9 VANILA 15 4G",
         "showlegend": true,
         "type": "scattergl",
         "x": [
          "2024-01-01T00:00:00",
          "2024-01-08T00:00:00",
          "2024-01-15T00:00:00",
          "2024-01-22T00:00:00",
          "2024-01-29T00:00:00",
          "2024-02-05T00:00:00",
          "2024-02-12T00:00:00",
          "2024-02-19T00:00:00",
          "2024-02-26T00:00:00",
          "2024-03-04T00:00:00",
          "2024-03-11T00:00:00",
          "2024-03-18T00:00:00",
          "2024-03-25T00:00:00",
          "2024-04-01T00:00:00",
          "2024-04-08T00:00:00",
          "2024-04-15T00:00:00",
          "2024-04-22T00:00:00",
          "2024-04-29T00:00:00",
          "2024-05-06T00:00:00",
          "2024-05-13T00:00:00",
          "2024-05-20T00:00:00",
          "2024-05-27T00:00:00",
          "2024-06-03T00:00:00",
          "2024-06-10T00:00:00",
          "2024-06-17T00:00:00",
          "2024-06-24T00:00:00",
          "2024-07-01T00:00:00",
          "2024-07-08T00:00:00",
          "2024-07-15T00:00:00",
          "2024-07-22T00:00:00",
          "2024-07-29T00:00:00",
          "2024-08-05T00:00:00",
          "2024-08-12T00:00:00",
          "2024-08-19T00:00:00",
          "2024-08-26T00:00:00",
          "2024-09-02T00:00:00",
          "2024-09-09T00:00:00",
          "2024-09-16T00:00:00",
          "2024-09-23T00:00:00",
          "2024-09-30T00:00:00",
          "2024-10-07T00:00:00",
          "2024-10-14T00:00:00",
          "2024-10-21T00:00:00",
          "2024-10-28T00:00:00",
          "2024-11-04T00:00:00",
          "2024-11-11T00:00:00",
          "2024-11-18T00:00:00",
          "2024-11-25T00:00:00",
          "2024-12-02T00:00:00",
          "2024-12-09T00:00:00",
          "2024-12-16T00:00:00",
          "2024-12-23T00:00:00",
          "2024-12-30T00:00:00"
         ],
         "xaxis": "x",
         "y": [
          4,
          1,
          7,
          7,
          7,
          6,
          2,
          5,
          3,
          7,
          7,
          4,
          3,
          2,
          2,
          6,
          6,
          5,
          6,
          4,
          13,
          2,
          8,
          4,
          9,
          6,
          3,
          8,
          13,
          1,
          0,
          0,
          0,
          0,
          0,
          0,
          2,
          0,
          2,
          5,
          3,
          2,
          5,
          5,
          4,
          3,
          7,
          1,
          6,
          5,
          1,
          6,
          6
         ],
         "yaxis": "y"
        },
        {
         "hovertemplate": "NAMA BARANG=DAIA LEMON 65GR<br>TANGGAL=%{x}<br>QTY=%{y}<extra></extra>",
         "legendgroup": "DAIA LEMON 65GR",
         "line": {
          "color": "#19d3f3",
          "dash": "solid"
         },
         "marker": {
          "symbol": "circle"
         },
         "mode": "lines",
         "name": "DAIA LEMON 65GR",
         "showlegend": true,
         "type": "scattergl",
         "x": [
          "2024-01-01T00:00:00",
          "2024-01-08T00:00:00",
          "2024-01-15T00:00:00",
          "2024-01-22T00:00:00",
          "2024-01-29T00:00:00",
          "2024-02-05T00:00:00",
          "2024-02-12T00:00:00",
          "2024-02-19T00:00:00",
          "2024-02-26T00:00:00",
          "2024-03-04T00:00:00",
          "2024-03-11T00:00:00",
          "2024-03-18T00:00:00",
          "2024-03-25T00:00:00",
          "2024-04-01T00:00:00",
          "2024-04-08T00:00:00",
          "2024-04-15T00:00:00",
          "2024-04-22T00:00:00",
          "2024-04-29T00:00:00",
          "2024-05-06T00:00:00",
          "2024-05-13T00:00:00",
          "2024-05-20T00:00:00",
          "2024-05-27T00:00:00",
          "2024-06-03T00:00:00",
          "2024-06-10T00:00:00",
          "2024-06-17T00:00:00",
          "2024-06-24T00:00:00",
          "2024-07-01T00:00:00",
          "2024-07-08T00:00:00",
          "2024-07-15T00:00:00",
          "2024-07-22T00:00:00",
          "2024-07-29T00:00:00",
          "2024-08-05T00:00:00",
          "2024-08-12T00:00:00",
          "2024-08-19T00:00:00",
          "2024-08-26T00:00:00",
          "2024-09-02T00:00:00",
          "2024-09-09T00:00:00",
          "2024-09-16T00:00:00",
          "2024-09-23T00:00:00",
          "2024-09-30T00:00:00",
          "2024-10-07T00:00:00",
          "2024-10-14T00:00:00",
          "2024-10-21T00:00:00",
          "2024-10-28T00:00:00",
          "2024-11-04T00:00:00",
          "2024-11-11T00:00:00",
          "2024-11-18T00:00:00",
          "2024-11-25T00:00:00",
          "2024-12-02T00:00:00",
          "2024-12-09T00:00:00",
          "2024-12-16T00:00:00",
          "2024-12-23T00:00:00",
          "2024-12-30T00:00:00"
         ],
         "xaxis": "x",
         "y": [
          5,
          2,
          0,
          2,
          3,
          5,
          3,
          3,
          0,
          17,
          1,
          19,
          0,
          0,
          6,
          5,
          1,
          12,
          1,
          4,
          1,
          4,
          6,
          1,
          11,
          8,
          2,
          3,
          19,
          1,
          6,
          5,
          1,
          2,
          9,
          3,
          4,
          10,
          2,
          0,
          10,
          4,
          6,
          3,
          8,
          8,
          7,
          5,
          2,
          2,
          3,
          1,
          0
         ],
         "yaxis": "y"
        },
        {
         "hovertemplate": "NAMA BARANG=DELFI TOP B/WHITE 9GR<br>TANGGAL=%{x}<br>QTY=%{y}<extra></extra>",
         "legendgroup": "DELFI TOP B/WHITE 9GR",
         "line": {
          "color": "#FF6692",
          "dash": "solid"
         },
         "marker": {
          "symbol": "circle"
         },
         "mode": "lines",
         "name": "DELFI TOP B/WHITE 9GR",
         "showlegend": true,
         "type": "scattergl",
         "x": [
          "2024-01-01T00:00:00",
          "2024-01-08T00:00:00",
          "2024-01-15T00:00:00",
          "2024-01-22T00:00:00",
          "2024-01-29T00:00:00",
          "2024-02-05T00:00:00",
          "2024-02-12T00:00:00",
          "2024-02-19T00:00:00",
          "2024-02-26T00:00:00",
          "2024-03-04T00:00:00",
          "2024-03-11T00:00:00",
          "2024-03-18T00:00:00",
          "2024-03-25T00:00:00",
          "2024-04-01T00:00:00",
          "2024-04-08T00:00:00",
          "2024-04-15T00:00:00",
          "2024-04-22T00:00:00",
          "2024-04-29T00:00:00",
          "2024-05-06T00:00:00",
          "2024-05-13T00:00:00",
          "2024-05-20T00:00:00",
          "2024-05-27T00:00:00",
          "2024-06-03T00:00:00",
          "2024-06-10T00:00:00",
          "2024-06-17T00:00:00",
          "2024-06-24T00:00:00",
          "2024-07-01T00:00:00",
          "2024-07-08T00:00:00",
          "2024-07-15T00:00:00",
          "2024-07-22T00:00:00",
          "2024-07-29T00:00:00",
          "2024-08-05T00:00:00",
          "2024-08-12T00:00:00",
          "2024-08-19T00:00:00",
          "2024-08-26T00:00:00",
          "2024-09-02T00:00:00",
          "2024-09-09T00:00:00",
          "2024-09-16T00:00:00",
          "2024-09-23T00:00:00",
          "2024-09-30T00:00:00",
          "2024-10-07T00:00:00",
          "2024-10-14T00:00:00",
          "2024-10-21T00:00:00",
          "2024-10-28T00:00:00",
          "2024-11-04T00:00:00",
          "2024-11-11T00:00:00",
          "2024-11-18T00:00:00",
          "2024-11-25T00:00:00",
          "2024-12-02T00:00:00",
          "2024-12-09T00:00:00",
          "2024-12-16T00:00:00",
          "2024-12-23T00:00:00",
          "2024-12-30T00:00:00"
         ],
         "xaxis": "x",
         "y": [
          6,
          7,
          3,
          4,
          9,
          3,
          4,
          1,
          6,
          4,
          4,
          7,
          2,
          2,
          1,
          8,
          6,
          11,
          1,
          4,
          4,
          7,
          3,
          4,
          2,
          2,
          5,
          3,
          4,
          11,
          7,
          10,
          8,
          10,
          5,
          9,
          1,
          2,
          6,
          5,
          7,
          8,
          3,
          7,
          2,
          9,
          4,
          11,
          5,
          3,
          2,
          8,
          1
         ],
         "yaxis": "y"
        },
        {
         "hovertemplate": "NAMA BARANG=DELFI TOP CHO 9GR<br>TANGGAL=%{x}<br>QTY=%{y}<extra></extra>",
         "legendgroup": "DELFI TOP CHO 9GR",
         "line": {
          "color": "#B6E880",
          "dash": "solid"
         },
         "marker": {
          "symbol": "circle"
         },
         "mode": "lines",
         "name": "DELFI TOP CHO 9GR",
         "showlegend": true,
         "type": "scattergl",
         "x": [
          "2024-01-01T00:00:00",
          "2024-01-08T00:00:00",
          "2024-01-15T00:00:00",
          "2024-01-22T00:00:00",
          "2024-01-29T00:00:00",
          "2024-02-05T00:00:00",
          "2024-02-12T00:00:00",
          "2024-02-19T00:00:00",
          "2024-02-26T00:00:00",
          "2024-03-04T00:00:00",
          "2024-03-11T00:00:00",
          "2024-03-18T00:00:00",
          "2024-03-25T00:00:00",
          "2024-04-01T00:00:00",
          "2024-04-08T00:00:00",
          "2024-04-15T00:00:00",
          "2024-04-22T00:00:00",
          "2024-04-29T00:00:00",
          "2024-05-06T00:00:00",
          "2024-05-13T00:00:00",
          "2024-05-20T00:00:00",
          "2024-05-27T00:00:00",
          "2024-06-03T00:00:00",
          "2024-06-10T00:00:00",
          "2024-06-17T00:00:00",
          "2024-06-24T00:00:00",
          "2024-07-01T00:00:00",
          "2024-07-08T00:00:00",
          "2024-07-15T00:00:00",
          "2024-07-22T00:00:00",
          "2024-07-29T00:00:00",
          "2024-08-05T00:00:00",
          "2024-08-12T00:00:00",
          "2024-08-19T00:00:00",
          "2024-08-26T00:00:00",
          "2024-09-02T00:00:00",
          "2024-09-09T00:00:00",
          "2024-09-16T00:00:00",
          "2024-09-23T00:00:00",
          "2024-09-30T00:00:00",
          "2024-10-07T00:00:00",
          "2024-10-14T00:00:00",
          "2024-10-21T00:00:00",
          "2024-10-28T00:00:00",
          "2024-11-04T00:00:00",
          "2024-11-11T00:00:00",
          "2024-11-18T00:00:00",
          "2024-11-25T00:00:00",
          "2024-12-02T00:00:00",
          "2024-12-09T00:00:00",
          "2024-12-16T00:00:00",
          "2024-12-23T00:00:00",
          "2024-12-30T00:00:00"
         ],
         "xaxis": "x",
         "y": [
          8,
          4,
          1,
          2,
          10,
          10,
          5,
          6,
          17,
          2,
          4,
          5,
          5,
          1,
          1,
          2,
          5,
          9,
          7,
          3,
          9,
          0,
          2,
          3,
          8,
          2,
          6,
          4,
          8,
          5,
          4,
          0,
          8,
          7,
          12,
          17,
          3,
          3,
          6,
          11,
          5,
          5,
          6,
          5,
          5,
          4,
          8,
          5,
          4,
          10,
          8,
          4,
          2
         ],
         "yaxis": "y"
        },
        {
         "hovertemplate": "NAMA BARANG=DELFI TOP STR 9GR<br>TANGGAL=%{x}<br>QTY=%{y}<extra></extra>",
         "legendgroup": "DELFI TOP STR 9GR",
         "line": {
          "color": "#FF97FF",
          "dash": "solid"
         },
         "marker": {
          "symbol": "circle"
         },
         "mode": "lines",
         "name": "DELFI TOP STR 9GR",
         "showlegend": true,
         "type": "scattergl",
         "x": [
          "2024-01-01T00:00:00",
          "2024-01-08T00:00:00",
          "2024-01-15T00:00:00",
          "2024-01-22T00:00:00",
          "2024-01-29T00:00:00",
          "2024-02-05T00:00:00",
          "2024-02-12T00:00:00",
          "2024-02-19T00:00:00",
          "2024-02-26T00:00:00",
          "2024-03-04T00:00:00",
          "2024-03-11T00:00:00",
          "2024-03-18T00:00:00",
          "2024-03-25T00:00:00",
          "2024-04-01T00:00:00",
          "2024-04-08T00:00:00",
          "2024-04-15T00:00:00",
          "2024-04-22T00:00:00",
          "2024-04-29T00:00:00",
          "2024-05-06T00:00:00",
          "2024-05-13T00:00:00",
          "2024-05-20T00:00:00",
          "2024-05-27T00:00:00",
          "2024-06-03T00:00:00",
          "2024-06-10T00:00:00",
          "2024-06-17T00:00:00",
          "2024-06-24T00:00:00",
          "2024-07-01T00:00:00",
          "2024-07-08T00:00:00",
          "2024-07-15T00:00:00",
          "2024-07-22T00:00:00",
          "2024-07-29T00:00:00",
          "2024-08-05T00:00:00",
          "2024-08-12T00:00:00",
          "2024-08-19T00:00:00",
          "2024-08-26T00:00:00",
          "2024-09-02T00:00:00",
          "2024-09-09T00:00:00",
          "2024-09-16T00:00:00",
          "2024-09-23T00:00:00",
          "2024-09-30T00:00:00",
          "2024-10-07T00:00:00",
          "2024-10-14T00:00:00",
          "2024-10-21T00:00:00",
          "2024-10-28T00:00:00",
          "2024-11-04T00:00:00",
          "2024-11-11T00:00:00",
          "2024-11-18T00:00:00",
          "2024-11-25T00:00:00",
          "2024-12-02T00:00:00",
          "2024-12-09T00:00:00",
          "2024-12-16T00:00:00",
          "2024-12-23T00:00:00",
          "2024-12-30T00:00:00"
         ],
         "xaxis": "x",
         "y": [
          5,
          4,
          3,
          0,
          5,
          2,
          6,
          12,
          9,
          9,
          5,
          0,
          1,
          2,
          1,
          1,
          6,
          8,
          2,
          2,
          2,
          4,
          4,
          3,
          2,
          2,
          2,
          5,
          4,
          6,
          3,
          5,
          2,
          9,
          2,
          19,
          3,
          2,
          5,
          3,
          2,
          1,
          1,
          2,
          5,
          2,
          2,
          8,
          1,
          5,
          2,
          4,
          1
         ],
         "yaxis": "y"
        },
        {
         "hovertemplate": "NAMA BARANG=DELFI TOP TRIP/CHO 9GR<br>TANGGAL=%{x}<br>QTY=%{y}<extra></extra>",
         "legendgroup": "DELFI TOP TRIP/CHO 9GR",
         "line": {
          "color": "#FECB52",
          "dash": "solid"
         },
         "marker": {
          "symbol": "circle"
         },
         "mode": "lines",
         "name": "DELFI TOP TRIP/CHO 9GR",
         "showlegend": true,
         "type": "scattergl",
         "x": [
          "2024-01-01T00:00:00",
          "2024-01-08T00:00:00",
          "2024-01-15T00:00:00",
          "2024-01-22T00:00:00",
          "2024-01-29T00:00:00",
          "2024-02-05T00:00:00",
          "2024-02-12T00:00:00",
          "2024-02-19T00:00:00",
          "2024-02-26T00:00:00",
          "2024-03-04T00:00:00",
          "2024-03-11T00:00:00",
          "2024-03-18T00:00:00",
          "2024-03-25T00:00:00",
          "2024-04-01T00:00:00",
          "2024-04-08T00:00:00",
          "2024-04-15T00:00:00",
          "2024-04-22T00:00:00",
          "2024-04-29T00:00:00",
          "2024-05-06T00:00:00",
          "2024-05-13T00:00:00",
          "2024-05-20T00:00:00",
          "2024-05-27T00:00:00",
          "2024-06-03T00:00:00",
          "2024-06-10T00:00:00",
          "2024-06-17T00:00:00",
          "2024-06-24T00:00:00",
          "2024-07-01T00:00:00",
          "2024-07-08T00:00:00",
          "2024-07-15T00:00:00",
          "2024-07-22T00:00:00",
          "2024-07-29T00:00:00",
          "2024-08-05T00:00:00",
          "2024-08-12T00:00:00",
          "2024-08-19T00:00:00",
          "2024-08-26T00:00:00",
          "2024-09-02T00:00:00",
          "2024-09-09T00:00:00",
          "2024-09-16T00:00:00",
          "2024-09-23T00:00:00",
          "2024-09-30T00:00:00",
          "2024-10-07T00:00:00",
          "2024-10-14T00:00:00",
          "2024-10-21T00:00:00",
          "2024-10-28T00:00:00",
          "2024-11-04T00:00:00",
          "2024-11-11T00:00:00",
          "2024-11-18T00:00:00",
          "2024-11-25T00:00:00",
          "2024-12-02T00:00:00",
          "2024-12-09T00:00:00",
          "2024-12-16T00:00:00",
          "2024-12-23T00:00:00",
          "2024-12-30T00:00:00"
         ],
         "xaxis": "x",
         "y": [
          9,
          2,
          4,
          0,
          9,
          6,
          6,
          10,
          10,
          2,
          3,
          2,
          0,
          6,
          1,
          6,
          5,
          7,
          4,
          2,
          1,
          9,
          3,
          1,
          0,
          2,
          0,
          2,
          3,
          9,
          6,
          7,
          3,
          7,
          1,
          14,
          1,
          2,
          8,
          4,
          0,
          0,
          0,
          2,
          3,
          2,
          3,
          7,
          2,
          0,
          2,
          6,
          1
         ],
         "yaxis": "y"
        },
        {
         "hovertemplate": "NAMA BARANG=EKONOMI LIQUID REFF 235ML<br>TANGGAL=%{x}<br>QTY=%{y}<extra></extra>",
         "legendgroup": "EKONOMI LIQUID REFF 235ML",
         "line": {
          "color": "#636efa",
          "dash": "solid"
         },
         "marker": {
          "symbol": "circle"
         },
         "mode": "lines",
         "name": "EKONOMI LIQUID REFF 235ML",
         "showlegend": true,
         "type": "scattergl",
         "x": [
          "2024-01-01T00:00:00",
          "2024-01-08T00:00:00",
          "2024-01-15T00:00:00",
          "2024-01-22T00:00:00",
          "2024-01-29T00:00:00",
          "2024-02-05T00:00:00",
          "2024-02-12T00:00:00",
          "2024-02-19T00:00:00",
          "2024-02-26T00:00:00",
          "2024-03-04T00:00:00",
          "2024-03-11T00:00:00",
          "2024-03-18T00:00:00",
          "2024-03-25T00:00:00",
          "2024-04-01T00:00:00",
          "2024-04-08T00:00:00",
          "2024-04-15T00:00:00",
          "2024-04-22T00:00:00",
          "2024-04-29T00:00:00",
          "2024-05-06T00:00:00",
          "2024-05-13T00:00:00",
          "2024-05-20T00:00:00",
          "2024-05-27T00:00:00",
          "2024-06-03T00:00:00",
          "2024-06-10T00:00:00",
          "2024-06-17T00:00:00",
          "2024-06-24T00:00:00",
          "2024-07-01T00:00:00",
          "2024-07-08T00:00:00",
          "2024-07-15T00:00:00",
          "2024-07-22T00:00:00",
          "2024-07-29T00:00:00",
          "2024-08-05T00:00:00",
          "2024-08-12T00:00:00",
          "2024-08-19T00:00:00",
          "2024-08-26T00:00:00",
          "2024-09-02T00:00:00",
          "2024-09-09T00:00:00",
          "2024-09-16T00:00:00",
          "2024-09-23T00:00:00",
          "2024-09-30T00:00:00",
          "2024-10-07T00:00:00",
          "2024-10-14T00:00:00",
          "2024-10-21T00:00:00",
          "2024-10-28T00:00:00",
          "2024-11-04T00:00:00",
          "2024-11-11T00:00:00",
          "2024-11-18T00:00:00",
          "2024-11-25T00:00:00",
          "2024-12-02T00:00:00",
          "2024-12-09T00:00:00",
          "2024-12-16T00:00:00",
          "2024-12-23T00:00:00",
          "2024-12-30T00:00:00"
         ],
         "xaxis": "x",
         "y": [
          9,
          6,
          4,
          6,
          11,
          8,
          5,
          8,
          10,
          1,
          0,
          4,
          14,
          4,
          7,
          12,
          6,
          1,
          0,
          0,
          4,
          8,
          9,
          7,
          5,
          3,
          7,
          9,
          5,
          5,
          10,
          4,
          16,
          8,
          8,
          10,
          5,
          10,
          11,
          9,
          6,
          7,
          6,
          12,
          7,
          12,
          14,
          3,
          8,
          1,
          3,
          7,
          4
         ],
         "yaxis": "y"
        },
        {
         "hovertemplate": "NAMA BARANG=FRESHCARE ORIGINAL 10ML<br>TANGGAL=%{x}<br>QTY=%{y}<extra></extra>",
         "legendgroup": "FRESHCARE ORIGINAL 10ML",
         "line": {
          "color": "#EF553B",
          "dash": "solid"
         },
         "marker": {
          "symbol": "circle"
         },
         "mode": "lines",
         "name": "FRESHCARE ORIGINAL 10ML",
         "showlegend": true,
         "type": "scattergl",
         "x": [
          "2024-01-01T00:00:00",
          "2024-01-08T00:00:00",
          "2024-01-15T00:00:00",
          "2024-01-22T00:00:00",
          "2024-01-29T00:00:00",
          "2024-02-05T00:00:00",
          "2024-02-12T00:00:00",
          "2024-02-19T00:00:00",
          "2024-02-26T00:00:00",
          "2024-03-04T00:00:00",
          "2024-03-11T00:00:00",
          "2024-03-18T00:00:00",
          "2024-03-25T00:00:00",
          "2024-04-01T00:00:00",
          "2024-04-08T00:00:00",
          "2024-04-15T00:00:00",
          "2024-04-22T00:00:00",
          "2024-04-29T00:00:00",
          "2024-05-06T00:00:00",
          "2024-05-13T00:00:00",
          "2024-05-20T00:00:00",
          "2024-05-27T00:00:00",
          "2024-06-03T00:00:00",
          "2024-06-10T00:00:00",
          "2024-06-17T00:00:00",
          "2024-06-24T00:00:00",
          "2024-07-01T00:00:00",
          "2024-07-08T00:00:00",
          "2024-07-15T00:00:00",
          "2024-07-22T00:00:00",
          "2024-07-29T00:00:00",
          "2024-08-05T00:00:00",
          "2024-08-12T00:00:00",
          "2024-08-19T00:00:00",
          "2024-08-26T00:00:00",
          "2024-09-02T00:00:00",
          "2024-09-09T00:00:00",
          "2024-09-16T00:00:00",
          "2024-09-23T00:00:00",
          "2024-09-30T00:00:00",
          "2024-10-07T00:00:00",
          "2024-10-14T00:00:00",
          "2024-10-21T00:00:00",
          "2024-10-28T00:00:00",
          "2024-11-04T00:00:00",
          "2024-11-11T00:00:00",
          "2024-11-18T00:00:00",
          "2024-11-25T00:00:00",
          "2024-12-02T00:00:00",
          "2024-12-09T00:00:00",
          "2024-12-16T00:00:00",
          "2024-12-23T00:00:00",
          "2024-12-30T00:00:00"
         ],
         "xaxis": "x",
         "y": [
          1,
          0,
          1,
          0,
          0,
          3,
          3,
          1,
          0,
          1,
          1,
          1,
          1,
          1,
          0,
          1,
          1,
          2,
          1,
          0,
          1,
          0,
          0,
          2,
          0,
          0,
          1,
          1,
          1,
          0,
          0,
          1,
          0,
          0,
          4,
          0,
          1,
          1,
          1,
          0,
          2,
          0,
          2,
          3,
          0,
          0,
          2,
          2,
          0,
          0,
          1,
          2,
          0
         ],
         "yaxis": "y"
        },
        {
         "hovertemplate": "NAMA BARANG=GATSBY SPL/C DO 175ML<br>TANGGAL=%{x}<br>QTY=%{y}<extra></extra>",
         "legendgroup": "GATSBY SPL/C DO 175ML",
         "line": {
          "color": "#00cc96",
          "dash": "solid"
         },
         "marker": {
          "symbol": "circle"
         },
         "mode": "lines",
         "name": "GATSBY SPL/C DO 175ML",
         "showlegend": true,
         "type": "scattergl",
         "x": [
          "2024-01-01T00:00:00",
          "2024-01-08T00:00:00",
          "2024-01-15T00:00:00",
          "2024-01-22T00:00:00",
          "2024-01-29T00:00:00",
          "2024-02-05T00:00:00",
          "2024-02-12T00:00:00",
          "2024-02-19T00:00:00",
          "2024-02-26T00:00:00",
          "2024-03-04T00:00:00",
          "2024-03-11T00:00:00",
          "2024-03-18T00:00:00",
          "2024-03-25T00:00:00",
          "2024-04-01T00:00:00",
          "2024-04-08T00:00:00",
          "2024-04-15T00:00:00",
          "2024-04-22T00:00:00",
          "2024-04-29T00:00:00",
          "2024-05-06T00:00:00",
          "2024-05-13T00:00:00",
          "2024-05-20T00:00:00",
          "2024-05-27T00:00:00",
          "2024-06-03T00:00:00",
          "2024-06-10T00:00:00",
          "2024-06-17T00:00:00",
          "2024-06-24T00:00:00",
          "2024-07-01T00:00:00",
          "2024-07-08T00:00:00",
          "2024-07-15T00:00:00",
          "2024-07-22T00:00:00",
          "2024-07-29T00:00:00",
          "2024-08-05T00:00:00",
          "2024-08-12T00:00:00",
          "2024-08-19T00:00:00",
          "2024-08-26T00:00:00",
          "2024-09-02T00:00:00",
          "2024-09-09T00:00:00",
          "2024-09-16T00:00:00",
          "2024-09-23T00:00:00",
          "2024-09-30T00:00:00",
          "2024-10-07T00:00:00",
          "2024-10-14T00:00:00",
          "2024-10-21T00:00:00",
          "2024-10-28T00:00:00",
          "2024-11-04T00:00:00",
          "2024-11-11T00:00:00",
          "2024-11-18T00:00:00",
          "2024-11-25T00:00:00",
          "2024-12-02T00:00:00",
          "2024-12-09T00:00:00",
          "2024-12-16T00:00:00",
          "2024-12-23T00:00:00",
          "2024-12-30T00:00:00"
         ],
         "xaxis": "x",
         "y": [
          2,
          3,
          0,
          2,
          1,
          0,
          1,
          1,
          1,
          2,
          0,
          0,
          1,
          1,
          1,
          3,
          1,
          2,
          1,
          1,
          1,
          1,
          1,
          1,
          0,
          1,
          2,
          1,
          0,
          1,
          1,
          3,
          1,
          0,
          2,
          2,
          2,
          0,
          1,
          2,
          0,
          0,
          1,
          1,
          1,
          1,
          0,
          1,
          0,
          0,
          2,
          1,
          0
         ],
         "yaxis": "y"
        },
        {
         "hovertemplate": "NAMA BARANG=GATSBY SPL/C GS 175ML<br>TANGGAL=%{x}<br>QTY=%{y}<extra></extra>",
         "legendgroup": "GATSBY SPL/C GS 175ML",
         "line": {
          "color": "#ab63fa",
          "dash": "solid"
         },
         "marker": {
          "symbol": "circle"
         },
         "mode": "lines",
         "name": "GATSBY SPL/C GS 175ML",
         "showlegend": true,
         "type": "scattergl",
         "x": [
          "2024-01-01T00:00:00",
          "2024-01-08T00:00:00",
          "2024-01-15T00:00:00",
          "2024-01-22T00:00:00",
          "2024-01-29T00:00:00",
          "2024-02-05T00:00:00",
          "2024-02-12T00:00:00",
          "2024-02-19T00:00:00",
          "2024-02-26T00:00:00",
          "2024-03-04T00:00:00",
          "2024-03-11T00:00:00",
          "2024-03-18T00:00:00",
          "2024-03-25T00:00:00",
          "2024-04-01T00:00:00",
          "2024-04-08T00:00:00",
          "2024-04-15T00:00:00",
          "2024-04-22T00:00:00",
          "2024-04-29T00:00:00",
          "2024-05-06T00:00:00",
          "2024-05-13T00:00:00",
          "2024-05-20T00:00:00",
          "2024-05-27T00:00:00",
          "2024-06-03T00:00:00",
          "2024-06-10T00:00:00",
          "2024-06-17T00:00:00",
          "2024-06-24T00:00:00",
          "2024-07-01T00:00:00",
          "2024-07-08T00:00:00",
          "2024-07-15T00:00:00",
          "2024-07-22T00:00:00",
          "2024-07-29T00:00:00",
          "2024-08-05T00:00:00",
          "2024-08-12T00:00:00",
          "2024-08-19T00:00:00",
          "2024-08-26T00:00:00",
          "2024-09-02T00:00:00",
          "2024-09-09T00:00:00",
          "2024-09-16T00:00:00",
          "2024-09-23T00:00:00",
          "2024-09-30T00:00:00",
          "2024-10-07T00:00:00",
          "2024-10-14T00:00:00",
          "2024-10-21T00:00:00",
          "2024-10-28T00:00:00",
          "2024-11-04T00:00:00",
          "2024-11-11T00:00:00",
          "2024-11-18T00:00:00",
          "2024-11-25T00:00:00",
          "2024-12-02T00:00:00",
          "2024-12-09T00:00:00",
          "2024-12-16T00:00:00",
          "2024-12-23T00:00:00",
          "2024-12-30T00:00:00"
         ],
         "xaxis": "x",
         "y": [
          1,
          0,
          0,
          0,
          1,
          0,
          2,
          0,
          0,
          1,
          2,
          0,
          0,
          0,
          1,
          0,
          0,
          1,
          0,
          0,
          0,
          0,
          0,
          2,
          0,
          0,
          0,
          2,
          1,
          0,
          0,
          1,
          1,
          0,
          1,
          0,
          0,
          0,
          1,
          0,
          0,
          0,
          2,
          1,
          1,
          1,
          0,
          0,
          1,
          0,
          1,
          0,
          0
         ],
         "yaxis": "y"
        },
        {
         "hovertemplate": "NAMA BARANG=GREENFIELDS COKLAT 105ML<br>TANGGAL=%{x}<br>QTY=%{y}<extra></extra>",
         "legendgroup": "GREENFIELDS COKLAT 105ML",
         "line": {
          "color": "#FFA15A",
          "dash": "solid"
         },
         "marker": {
          "symbol": "circle"
         },
         "mode": "lines",
         "name": "GREENFIELDS COKLAT 105ML",
         "showlegend": true,
         "type": "scattergl",
         "x": [
          "2024-01-01T00:00:00",
          "2024-01-08T00:00:00",
          "2024-01-15T00:00:00",
          "2024-01-22T00:00:00",
          "2024-01-29T00:00:00",
          "2024-02-05T00:00:00",
          "2024-02-12T00:00:00",
          "2024-02-19T00:00:00",
          "2024-02-26T00:00:00",
          "2024-03-04T00:00:00",
          "2024-03-11T00:00:00",
          "2024-03-18T00:00:00",
          "2024-03-25T00:00:00",
          "2024-04-01T00:00:00",
          "2024-04-08T00:00:00",
          "2024-04-15T00:00:00",
          "2024-04-22T00:00:00",
          "2024-04-29T00:00:00",
          "2024-05-06T00:00:00",
          "2024-05-13T00:00:00",
          "2024-05-20T00:00:00",
          "2024-05-27T00:00:00",
          "2024-06-03T00:00:00",
          "2024-06-10T00:00:00",
          "2024-06-17T00:00:00",
          "2024-06-24T00:00:00",
          "2024-07-01T00:00:00",
          "2024-07-08T00:00:00",
          "2024-07-15T00:00:00",
          "2024-07-22T00:00:00",
          "2024-07-29T00:00:00",
          "2024-08-05T00:00:00",
          "2024-08-12T00:00:00",
          "2024-08-19T00:00:00",
          "2024-08-26T00:00:00",
          "2024-09-02T00:00:00",
          "2024-09-09T00:00:00",
          "2024-09-16T00:00:00",
          "2024-09-23T00:00:00",
          "2024-09-30T00:00:00",
          "2024-10-07T00:00:00",
          "2024-10-14T00:00:00",
          "2024-10-21T00:00:00",
          "2024-10-28T00:00:00",
          "2024-11-04T00:00:00",
          "2024-11-11T00:00:00",
          "2024-11-18T00:00:00",
          "2024-11-25T00:00:00",
          "2024-12-02T00:00:00",
          "2024-12-09T00:00:00",
          "2024-12-16T00:00:00",
          "2024-12-23T00:00:00",
          "2024-12-30T00:00:00"
         ],
         "xaxis": "x",
         "y": [
          0,
          0,
          0,
          0,
          0,
          0,
          0,
          0,
          0,
          0,
          0,
          0,
          0,
          0,
          0,
          0,
          0,
          0,
          0,
          0,
          0,
          0,
          0,
          0,
          0,
          0,
          0,
          0,
          0,
          0,
          0,
          0,
          0,
          0,
          0,
          0,
          0,
          0,
          0,
          0,
          0,
          0,
          0,
          0,
          0,
          0,
          11,
          6,
          2,
          0,
          2,
          0,
          0
         ],
         "yaxis": "y"
        },
        {
         "hovertemplate": "NAMA BARANG=GREENFIELDS STRAW 105ML<br>TANGGAL=%{x}<br>QTY=%{y}<extra></extra>",
         "legendgroup": "GREENFIELDS STRAW 105ML",
         "line": {
          "color": "#19d3f3",
          "dash": "solid"
         },
         "marker": {
          "symbol": "circle"
         },
         "mode": "lines",
         "name": "GREENFIELDS STRAW 105ML",
         "showlegend": true,
         "type": "scattergl",
         "x": [
          "2024-01-01T00:00:00",
          "2024-01-08T00:00:00",
          "2024-01-15T00:00:00",
          "2024-01-22T00:00:00",
          "2024-01-29T00:00:00",
          "2024-02-05T00:00:00",
          "2024-02-12T00:00:00",
          "2024-02-19T00:00:00",
          "2024-02-26T00:00:00",
          "2024-03-04T00:00:00",
          "2024-03-11T00:00:00",
          "2024-03-18T00:00:00",
          "2024-03-25T00:00:00",
          "2024-04-01T00:00:00",
          "2024-04-08T00:00:00",
          "2024-04-15T00:00:00",
          "2024-04-22T00:00:00",
          "2024-04-29T00:00:00",
          "2024-05-06T00:00:00",
          "2024-05-13T00:00:00",
          "2024-05-20T00:00:00",
          "2024-05-27T00:00:00",
          "2024-06-03T00:00:00",
          "2024-06-10T00:00:00",
          "2024-06-17T00:00:00",
          "2024-06-24T00:00:00",
          "2024-07-01T00:00:00",
          "2024-07-08T00:00:00",
          "2024-07-15T00:00:00",
          "2024-07-22T00:00:00",
          "2024-07-29T00:00:00",
          "2024-08-05T00:00:00",
          "2024-08-12T00:00:00",
          "2024-08-19T00:00:00",
          "2024-08-26T00:00:00",
          "2024-09-02T00:00:00",
          "2024-09-09T00:00:00",
          "2024-09-16T00:00:00",
          "2024-09-23T00:00:00",
          "2024-09-30T00:00:00",
          "2024-10-07T00:00:00",
          "2024-10-14T00:00:00",
          "2024-10-21T00:00:00",
          "2024-10-28T00:00:00",
          "2024-11-04T00:00:00",
          "2024-11-11T00:00:00",
          "2024-11-18T00:00:00",
          "2024-11-25T00:00:00",
          "2024-12-02T00:00:00",
          "2024-12-09T00:00:00",
          "2024-12-16T00:00:00",
          "2024-12-23T00:00:00",
          "2024-12-30T00:00:00"
         ],
         "xaxis": "x",
         "y": [
          0,
          0,
          0,
          0,
          0,
          0,
          0,
          0,
          0,
          0,
          0,
          0,
          0,
          0,
          0,
          0,
          0,
          0,
          0,
          0,
          0,
          0,
          0,
          0,
          0,
          0,
          0,
          0,
          0,
          0,
          0,
          0,
          0,
          0,
          0,
          0,
          0,
          0,
          0,
          0,
          0,
          0,
          0,
          0,
          0,
          0,
          9,
          7,
          3,
          2,
          2,
          0,
          0
         ],
         "yaxis": "y"
        },
        {
         "hovertemplate": "NAMA BARANG=INDOMIE GRG SPECIAL<br>TANGGAL=%{x}<br>QTY=%{y}<extra></extra>",
         "legendgroup": "INDOMIE GRG SPECIAL",
         "line": {
          "color": "#FF6692",
          "dash": "solid"
         },
         "marker": {
          "symbol": "circle"
         },
         "mode": "lines",
         "name": "INDOMIE GRG SPECIAL",
         "showlegend": true,
         "type": "scattergl",
         "x": [
          "2024-01-01T00:00:00",
          "2024-01-08T00:00:00",
          "2024-01-15T00:00:00",
          "2024-01-22T00:00:00",
          "2024-01-29T00:00:00",
          "2024-02-05T00:00:00",
          "2024-02-12T00:00:00",
          "2024-02-19T00:00:00",
          "2024-02-26T00:00:00",
          "2024-03-04T00:00:00",
          "2024-03-11T00:00:00",
          "2024-03-18T00:00:00",
          "2024-03-25T00:00:00",
          "2024-04-01T00:00:00",
          "2024-04-08T00:00:00",
          "2024-04-15T00:00:00",
          "2024-04-22T00:00:00",
          "2024-04-29T00:00:00",
          "2024-05-06T00:00:00",
          "2024-05-13T00:00:00",
          "2024-05-20T00:00:00",
          "2024-05-27T00:00:00",
          "2024-06-03T00:00:00",
          "2024-06-10T00:00:00",
          "2024-06-17T00:00:00",
          "2024-06-24T00:00:00",
          "2024-07-01T00:00:00",
          "2024-07-08T00:00:00",
          "2024-07-15T00:00:00",
          "2024-07-22T00:00:00",
          "2024-07-29T00:00:00",
          "2024-08-05T00:00:00",
          "2024-08-12T00:00:00",
          "2024-08-19T00:00:00",
          "2024-08-26T00:00:00",
          "2024-09-02T00:00:00",
          "2024-09-09T00:00:00",
          "2024-09-16T00:00:00",
          "2024-09-23T00:00:00",
          "2024-09-30T00:00:00",
          "2024-10-07T00:00:00",
          "2024-10-14T00:00:00",
          "2024-10-21T00:00:00",
          "2024-10-28T00:00:00",
          "2024-11-04T00:00:00",
          "2024-11-11T00:00:00",
          "2024-11-18T00:00:00",
          "2024-11-25T00:00:00",
          "2024-12-02T00:00:00",
          "2024-12-09T00:00:00",
          "2024-12-16T00:00:00",
          "2024-12-23T00:00:00",
          "2024-12-30T00:00:00"
         ],
         "xaxis": "x",
         "y": [
          129,
          119,
          88,
          147,
          114,
          187,
          151,
          123,
          112,
          94,
          90,
          96,
          99,
          131,
          57,
          93,
          110,
          89,
          69,
          134,
          90,
          109,
          69,
          126,
          97,
          115,
          128,
          140,
          128,
          78,
          99,
          81,
          73,
          103,
          85,
          78,
          81,
          74,
          85,
          76,
          80,
          76,
          57,
          86,
          103,
          71,
          126,
          86,
          109,
          97,
          102,
          140,
          36
         ],
         "yaxis": "y"
        },
        {
         "hovertemplate": "NAMA BARANG=INDOMIE RAMEN TORI KARA/20<br>TANGGAL=%{x}<br>QTY=%{y}<extra></extra>",
         "legendgroup": "INDOMIE RAMEN TORI KARA/20",
         "line": {
          "color": "#B6E880",
          "dash": "solid"
         },
         "marker": {
          "symbol": "circle"
         },
         "mode": "lines",
         "name": "INDOMIE RAMEN TORI KARA/20",
         "showlegend": true,
         "type": "scattergl",
         "x": [
          "2024-01-01T00:00:00",
          "2024-01-08T00:00:00",
          "2024-01-15T00:00:00",
          "2024-01-22T00:00:00",
          "2024-01-29T00:00:00",
          "2024-02-05T00:00:00",
          "2024-02-12T00:00:00",
          "2024-02-19T00:00:00",
          "2024-02-26T00:00:00",
          "2024-03-04T00:00:00",
          "2024-03-11T00:00:00",
          "2024-03-18T00:00:00",
          "2024-03-25T00:00:00",
          "2024-04-01T00:00:00",
          "2024-04-08T00:00:00",
          "2024-04-15T00:00:00",
          "2024-04-22T00:00:00",
          "2024-04-29T00:00:00",
          "2024-05-06T00:00:00",
          "2024-05-13T00:00:00",
          "2024-05-20T00:00:00",
          "2024-05-27T00:00:00",
          "2024-06-03T00:00:00",
          "2024-06-10T00:00:00",
          "2024-06-17T00:00:00",
          "2024-06-24T00:00:00",
          "2024-07-01T00:00:00",
          "2024-07-08T00:00:00",
          "2024-07-15T00:00:00",
          "2024-07-22T00:00:00",
          "2024-07-29T00:00:00",
          "2024-08-05T00:00:00",
          "2024-08-12T00:00:00",
          "2024-08-19T00:00:00",
          "2024-08-26T00:00:00",
          "2024-09-02T00:00:00",
          "2024-09-09T00:00:00",
          "2024-09-16T00:00:00",
          "2024-09-23T00:00:00",
          "2024-09-30T00:00:00",
          "2024-10-07T00:00:00",
          "2024-10-14T00:00:00",
          "2024-10-21T00:00:00",
          "2024-10-28T00:00:00",
          "2024-11-04T00:00:00",
          "2024-11-11T00:00:00",
          "2024-11-18T00:00:00",
          "2024-11-25T00:00:00",
          "2024-12-02T00:00:00",
          "2024-12-09T00:00:00",
          "2024-12-16T00:00:00",
          "2024-12-23T00:00:00",
          "2024-12-30T00:00:00"
         ],
         "xaxis": "x",
         "y": [
          4,
          5,
          3,
          2,
          0,
          9,
          0,
          4,
          0,
          2,
          3,
          2,
          0,
          0,
          0,
          0,
          0,
          0,
          0,
          0,
          0,
          0,
          0,
          8,
          2,
          2,
          7,
          2,
          0,
          2,
          3,
          4,
          1,
          4,
          2,
          3,
          2,
          3,
          2,
          1,
          1,
          4,
          3,
          1,
          3,
          2,
          3,
          2,
          3,
          2,
          3,
          1,
          2
         ],
         "yaxis": "y"
        },
        {
         "hovertemplate": "NAMA BARANG=INDOMIE SOTO MIE<br>TANGGAL=%{x}<br>QTY=%{y}<extra></extra>",
         "legendgroup": "INDOMIE SOTO MIE",
         "line": {
          "color": "#FF97FF",
          "dash": "solid"
         },
         "marker": {
          "symbol": "circle"
         },
         "mode": "lines",
         "name": "INDOMIE SOTO MIE",
         "showlegend": true,
         "type": "scattergl",
         "x": [
          "2024-01-01T00:00:00",
          "2024-01-08T00:00:00",
          "2024-01-15T00:00:00",
          "2024-01-22T00:00:00",
          "2024-01-29T00:00:00",
          "2024-02-05T00:00:00",
          "2024-02-12T00:00:00",
          "2024-02-19T00:00:00",
          "2024-02-26T00:00:00",
          "2024-03-04T00:00:00",
          "2024-03-11T00:00:00",
          "2024-03-18T00:00:00",
          "2024-03-25T00:00:00",
          "2024-04-01T00:00:00",
          "2024-04-08T00:00:00",
          "2024-04-15T00:00:00",
          "2024-04-22T00:00:00",
          "2024-04-29T00:00:00",
          "2024-05-06T00:00:00",
          "2024-05-13T00:00:00",
          "2024-05-20T00:00:00",
          "2024-05-27T00:00:00",
          "2024-06-03T00:00:00",
          "2024-06-10T00:00:00",
          "2024-06-17T00:00:00",
          "2024-06-24T00:00:00",
          "2024-07-01T00:00:00",
          "2024-07-08T00:00:00",
          "2024-07-15T00:00:00",
          "2024-07-22T00:00:00",
          "2024-07-29T00:00:00",
          "2024-08-05T00:00:00",
          "2024-08-12T00:00:00",
          "2024-08-19T00:00:00",
          "2024-08-26T00:00:00",
          "2024-09-02T00:00:00",
          "2024-09-09T00:00:00",
          "2024-09-16T00:00:00",
          "2024-09-23T00:00:00",
          "2024-09-30T00:00:00",
          "2024-10-07T00:00:00",
          "2024-10-14T00:00:00",
          "2024-10-21T00:00:00",
          "2024-10-28T00:00:00",
          "2024-11-04T00:00:00",
          "2024-11-11T00:00:00",
          "2024-11-18T00:00:00",
          "2024-11-25T00:00:00",
          "2024-12-02T00:00:00",
          "2024-12-09T00:00:00",
          "2024-12-16T00:00:00",
          "2024-12-23T00:00:00",
          "2024-12-30T00:00:00"
         ],
         "xaxis": "x",
         "y": [
          18,
          13,
          16,
          19,
          15,
          23,
          11,
          14,
          6,
          18,
          20,
          9,
          15,
          9,
          14,
          5,
          23,
          12,
          15,
          12,
          8,
          10,
          1,
          7,
          6,
          6,
          13,
          8,
          12,
          11,
          14,
          3,
          18,
          13,
          11,
          9,
          6,
          13,
          3,
          20,
          15,
          15,
          25,
          13,
          9,
          21,
          33,
          9,
          23,
          12,
          26,
          22,
          10
         ],
         "yaxis": "y"
        },
        {
         "hovertemplate": "NAMA BARANG=INDOMILK KID CKL 115ML<br>TANGGAL=%{x}<br>QTY=%{y}<extra></extra>",
         "legendgroup": "INDOMILK KID CKL 115ML",
         "line": {
          "color": "#FECB52",
          "dash": "solid"
         },
         "marker": {
          "symbol": "circle"
         },
         "mode": "lines",
         "name": "INDOMILK KID CKL 115ML",
         "showlegend": true,
         "type": "scattergl",
         "x": [
          "2024-01-01T00:00:00",
          "2024-01-08T00:00:00",
          "2024-01-15T00:00:00",
          "2024-01-22T00:00:00",
          "2024-01-29T00:00:00",
          "2024-02-05T00:00:00",
          "2024-02-12T00:00:00",
          "2024-02-19T00:00:00",
          "2024-02-26T00:00:00",
          "2024-03-04T00:00:00",
          "2024-03-11T00:00:00",
          "2024-03-18T00:00:00",
          "2024-03-25T00:00:00",
          "2024-04-01T00:00:00",
          "2024-04-08T00:00:00",
          "2024-04-15T00:00:00",
          "2024-04-22T00:00:00",
          "2024-04-29T00:00:00",
          "2024-05-06T00:00:00",
          "2024-05-13T00:00:00",
          "2024-05-20T00:00:00",
          "2024-05-27T00:00:00",
          "2024-06-03T00:00:00",
          "2024-06-10T00:00:00",
          "2024-06-17T00:00:00",
          "2024-06-24T00:00:00",
          "2024-07-01T00:00:00",
          "2024-07-08T00:00:00",
          "2024-07-15T00:00:00",
          "2024-07-22T00:00:00",
          "2024-07-29T00:00:00",
          "2024-08-05T00:00:00",
          "2024-08-12T00:00:00",
          "2024-08-19T00:00:00",
          "2024-08-26T00:00:00",
          "2024-09-02T00:00:00",
          "2024-09-09T00:00:00",
          "2024-09-16T00:00:00",
          "2024-09-23T00:00:00",
          "2024-09-30T00:00:00",
          "2024-10-07T00:00:00",
          "2024-10-14T00:00:00",
          "2024-10-21T00:00:00",
          "2024-10-28T00:00:00",
          "2024-11-04T00:00:00",
          "2024-11-11T00:00:00",
          "2024-11-18T00:00:00",
          "2024-11-25T00:00:00",
          "2024-12-02T00:00:00",
          "2024-12-09T00:00:00",
          "2024-12-16T00:00:00",
          "2024-12-23T00:00:00",
          "2024-12-30T00:00:00"
         ],
         "xaxis": "x",
         "y": [
          3,
          12,
          13,
          18,
          20,
          10,
          18,
          29,
          12,
          15,
          21,
          17,
          13,
          18,
          7,
          11,
          22,
          18,
          30,
          10,
          22,
          28,
          33,
          25,
          22,
          36,
          31,
          22,
          40,
          58,
          31,
          41,
          29,
          36,
          39,
          27,
          41,
          36,
          20,
          44,
          29,
          40,
          49,
          48,
          51,
          33,
          44,
          33,
          47,
          46,
          66,
          60,
          21
         ],
         "yaxis": "y"
        },
        {
         "hovertemplate": "NAMA BARANG=INDOMILK KID STR 115ML<br>TANGGAL=%{x}<br>QTY=%{y}<extra></extra>",
         "legendgroup": "INDOMILK KID STR 115ML",
         "line": {
          "color": "#636efa",
          "dash": "solid"
         },
         "marker": {
          "symbol": "circle"
         },
         "mode": "lines",
         "name": "INDOMILK KID STR 115ML",
         "showlegend": true,
         "type": "scattergl",
         "x": [
          "2024-01-01T00:00:00",
          "2024-01-08T00:00:00",
          "2024-01-15T00:00:00",
          "2024-01-22T00:00:00",
          "2024-01-29T00:00:00",
          "2024-02-05T00:00:00",
          "2024-02-12T00:00:00",
          "2024-02-19T00:00:00",
          "2024-02-26T00:00:00",
          "2024-03-04T00:00:00",
          "2024-03-11T00:00:00",
          "2024-03-18T00:00:00",
          "2024-03-25T00:00:00",
          "2024-04-01T00:00:00",
          "2024-04-08T00:00:00",
          "2024-04-15T00:00:00",
          "2024-04-22T00:00:00",
          "2024-04-29T00:00:00",
          "2024-05-06T00:00:00",
          "2024-05-13T00:00:00",
          "2024-05-20T00:00:00",
          "2024-05-27T00:00:00",
          "2024-06-03T00:00:00",
          "2024-06-10T00:00:00",
          "2024-06-17T00:00:00",
          "2024-06-24T00:00:00",
          "2024-07-01T00:00:00",
          "2024-07-08T00:00:00",
          "2024-07-15T00:00:00",
          "2024-07-22T00:00:00",
          "2024-07-29T00:00:00",
          "2024-08-05T00:00:00",
          "2024-08-12T00:00:00",
          "2024-08-19T00:00:00",
          "2024-08-26T00:00:00",
          "2024-09-02T00:00:00",
          "2024-09-09T00:00:00",
          "2024-09-16T00:00:00",
          "2024-09-23T00:00:00",
          "2024-09-30T00:00:00",
          "2024-10-07T00:00:00",
          "2024-10-14T00:00:00",
          "2024-10-21T00:00:00",
          "2024-10-28T00:00:00",
          "2024-11-04T00:00:00",
          "2024-11-11T00:00:00",
          "2024-11-18T00:00:00",
          "2024-11-25T00:00:00",
          "2024-12-02T00:00:00",
          "2024-12-09T00:00:00",
          "2024-12-16T00:00:00",
          "2024-12-23T00:00:00",
          "2024-12-30T00:00:00"
         ],
         "xaxis": "x",
         "y": [
          3,
          14,
          10,
          16,
          22,
          10,
          23,
          21,
          11,
          16,
          8,
          7,
          5,
          9,
          0,
          16,
          13,
          10,
          16,
          18,
          12,
          19,
          12,
          26,
          19,
          16,
          12,
          18,
          20,
          19,
          16,
          7,
          10,
          24,
          18,
          15,
          19,
          16,
          25,
          15,
          18,
          23,
          16,
          23,
          14,
          10,
          11,
          10,
          11,
          16,
          15,
          12,
          3
         ],
         "yaxis": "y"
        },
        {
         "hovertemplate": "NAMA BARANG=INDOMILK KID VNL 115ML<br>TANGGAL=%{x}<br>QTY=%{y}<extra></extra>",
         "legendgroup": "INDOMILK KID VNL 115ML",
         "line": {
          "color": "#EF553B",
          "dash": "solid"
         },
         "marker": {
          "symbol": "circle"
         },
         "mode": "lines",
         "name": "INDOMILK KID VNL 115ML",
         "showlegend": true,
         "type": "scattergl",
         "x": [
          "2024-01-01T00:00:00",
          "2024-01-08T00:00:00",
          "2024-01-15T00:00:00",
          "2024-01-22T00:00:00",
          "2024-01-29T00:00:00",
          "2024-02-05T00:00:00",
          "2024-02-12T00:00:00",
          "2024-02-19T00:00:00",
          "2024-02-26T00:00:00",
          "2024-03-04T00:00:00",
          "2024-03-11T00:00:00",
          "2024-03-18T00:00:00",
          "2024-03-25T00:00:00",
          "2024-04-01T00:00:00",
          "2024-04-08T00:00:00",
          "2024-04-15T00:00:00",
          "2024-04-22T00:00:00",
          "2024-04-29T00:00:00",
          "2024-05-06T00:00:00",
          "2024-05-13T00:00:00",
          "2024-05-20T00:00:00",
          "2024-05-27T00:00:00",
          "2024-06-03T00:00:00",
          "2024-06-10T00:00:00",
          "2024-06-17T00:00:00",
          "2024-06-24T00:00:00",
          "2024-07-01T00:00:00",
          "2024-07-08T00:00:00",
          "2024-07-15T00:00:00",
          "2024-07-22T00:00:00",
          "2024-07-29T00:00:00",
          "2024-08-05T00:00:00",
          "2024-08-12T00:00:00",
          "2024-08-19T00:00:00",
          "2024-08-26T00:00:00",
          "2024-09-02T00:00:00",
          "2024-09-09T00:00:00",
          "2024-09-16T00:00:00",
          "2024-09-23T00:00:00",
          "2024-09-30T00:00:00",
          "2024-10-07T00:00:00",
          "2024-10-14T00:00:00",
          "2024-10-21T00:00:00",
          "2024-10-28T00:00:00",
          "2024-11-04T00:00:00",
          "2024-11-11T00:00:00",
          "2024-11-18T00:00:00",
          "2024-11-25T00:00:00",
          "2024-12-02T00:00:00",
          "2024-12-09T00:00:00",
          "2024-12-16T00:00:00",
          "2024-12-23T00:00:00",
          "2024-12-30T00:00:00"
         ],
         "xaxis": "x",
         "y": [
          8,
          13,
          10,
          14,
          19,
          12,
          25,
          26,
          17,
          24,
          24,
          13,
          26,
          29,
          6,
          23,
          30,
          20,
          30,
          32,
          37,
          39,
          27,
          32,
          35,
          32,
          46,
          40,
          22,
          19,
          16,
          15,
          9,
          19,
          17,
          12,
          22,
          16,
          21,
          15,
          14,
          23,
          17,
          8,
          15,
          15,
          15,
          18,
          11,
          6,
          3,
          10,
          6
         ],
         "yaxis": "y"
        },
        {
         "hovertemplate": "NAMA BARANG=KISPRAY POUCH GLAM/GLD 300ML<br>TANGGAL=%{x}<br>QTY=%{y}<extra></extra>",
         "legendgroup": "KISPRAY POUCH GLAM/GLD 300ML",
         "line": {
          "color": "#00cc96",
          "dash": "solid"
         },
         "marker": {
          "symbol": "circle"
         },
         "mode": "lines",
         "name": "KISPRAY POUCH GLAM/GLD 300ML",
         "showlegend": true,
         "type": "scattergl",
         "x": [
          "2024-01-01T00:00:00",
          "2024-01-08T00:00:00",
          "2024-01-15T00:00:00",
          "2024-01-22T00:00:00",
          "2024-01-29T00:00:00",
          "2024-02-05T00:00:00",
          "2024-02-12T00:00:00",
          "2024-02-19T00:00:00",
          "2024-02-26T00:00:00",
          "2024-03-04T00:00:00",
          "2024-03-11T00:00:00",
          "2024-03-18T00:00:00",
          "2024-03-25T00:00:00",
          "2024-04-01T00:00:00",
          "2024-04-08T00:00:00",
          "2024-04-15T00:00:00",
          "2024-04-22T00:00:00",
          "2024-04-29T00:00:00",
          "2024-05-06T00:00:00",
          "2024-05-13T00:00:00",
          "2024-05-20T00:00:00",
          "2024-05-27T00:00:00",
          "2024-06-03T00:00:00",
          "2024-06-10T00:00:00",
          "2024-06-17T00:00:00",
          "2024-06-24T00:00:00",
          "2024-07-01T00:00:00",
          "2024-07-08T00:00:00",
          "2024-07-15T00:00:00",
          "2024-07-22T00:00:00",
          "2024-07-29T00:00:00",
          "2024-08-05T00:00:00",
          "2024-08-12T00:00:00",
          "2024-08-19T00:00:00",
          "2024-08-26T00:00:00",
          "2024-09-02T00:00:00",
          "2024-09-09T00:00:00",
          "2024-09-16T00:00:00",
          "2024-09-23T00:00:00",
          "2024-09-30T00:00:00",
          "2024-10-07T00:00:00",
          "2024-10-14T00:00:00",
          "2024-10-21T00:00:00",
          "2024-10-28T00:00:00",
          "2024-11-04T00:00:00",
          "2024-11-11T00:00:00",
          "2024-11-18T00:00:00",
          "2024-11-25T00:00:00",
          "2024-12-02T00:00:00",
          "2024-12-09T00:00:00",
          "2024-12-16T00:00:00",
          "2024-12-23T00:00:00",
          "2024-12-30T00:00:00"
         ],
         "xaxis": "x",
         "y": [
          3,
          0,
          4,
          3,
          1,
          3,
          1,
          1,
          4,
          5,
          2,
          1,
          4,
          0,
          2,
          5,
          2,
          1,
          1,
          0,
          0,
          1,
          3,
          4,
          1,
          0,
          3,
          1,
          3,
          3,
          5,
          2,
          1,
          1,
          1,
          1,
          3,
          2,
          4,
          3,
          1,
          1,
          2,
          3,
          0,
          4,
          1,
          2,
          2,
          4,
          4,
          1,
          0
         ],
         "yaxis": "y"
        },
        {
         "hovertemplate": "NAMA BARANG=MAMA LEMON 115ML<br>TANGGAL=%{x}<br>QTY=%{y}<extra></extra>",
         "legendgroup": "MAMA LEMON 115ML",
         "line": {
          "color": "#ab63fa",
          "dash": "solid"
         },
         "marker": {
          "symbol": "circle"
         },
         "mode": "lines",
         "name": "MAMA LEMON 115ML",
         "showlegend": true,
         "type": "scattergl",
         "x": [
          "2024-01-01T00:00:00",
          "2024-01-08T00:00:00",
          "2024-01-15T00:00:00",
          "2024-01-22T00:00:00",
          "2024-01-29T00:00:00",
          "2024-02-05T00:00:00",
          "2024-02-12T00:00:00",
          "2024-02-19T00:00:00",
          "2024-02-26T00:00:00",
          "2024-03-04T00:00:00",
          "2024-03-11T00:00:00",
          "2024-03-18T00:00:00",
          "2024-03-25T00:00:00",
          "2024-04-01T00:00:00",
          "2024-04-08T00:00:00",
          "2024-04-15T00:00:00",
          "2024-04-22T00:00:00",
          "2024-04-29T00:00:00",
          "2024-05-06T00:00:00",
          "2024-05-13T00:00:00",
          "2024-05-20T00:00:00",
          "2024-05-27T00:00:00",
          "2024-06-03T00:00:00",
          "2024-06-10T00:00:00",
          "2024-06-17T00:00:00",
          "2024-06-24T00:00:00",
          "2024-07-01T00:00:00",
          "2024-07-08T00:00:00",
          "2024-07-15T00:00:00",
          "2024-07-22T00:00:00",
          "2024-07-29T00:00:00",
          "2024-08-05T00:00:00",
          "2024-08-12T00:00:00",
          "2024-08-19T00:00:00",
          "2024-08-26T00:00:00",
          "2024-09-02T00:00:00",
          "2024-09-09T00:00:00",
          "2024-09-16T00:00:00",
          "2024-09-23T00:00:00",
          "2024-09-30T00:00:00",
          "2024-10-07T00:00:00",
          "2024-10-14T00:00:00",
          "2024-10-21T00:00:00",
          "2024-10-28T00:00:00",
          "2024-11-04T00:00:00",
          "2024-11-11T00:00:00",
          "2024-11-18T00:00:00",
          "2024-11-25T00:00:00",
          "2024-12-02T00:00:00",
          "2024-12-09T00:00:00",
          "2024-12-16T00:00:00",
          "2024-12-23T00:00:00",
          "2024-12-30T00:00:00"
         ],
         "xaxis": "x",
         "y": [
          3,
          6,
          7,
          8,
          7,
          4,
          9,
          3,
          8,
          9,
          17,
          9,
          12,
          5,
          3,
          8,
          14,
          14,
          9,
          0,
          3,
          4,
          6,
          7,
          4,
          6,
          5,
          9,
          9,
          5,
          4,
          9,
          6,
          2,
          7,
          9,
          5,
          3,
          3,
          2,
          9,
          2,
          1,
          4,
          4,
          10,
          4,
          3,
          5,
          4,
          4,
          4,
          0
         ],
         "yaxis": "y"
        },
        {
         "hovertemplate": "NAMA BARANG=MOMOGI JGG BKR 6GR<br>TANGGAL=%{x}<br>QTY=%{y}<extra></extra>",
         "legendgroup": "MOMOGI JGG BKR 6GR",
         "line": {
          "color": "#FFA15A",
          "dash": "solid"
         },
         "marker": {
          "symbol": "circle"
         },
         "mode": "lines",
         "name": "MOMOGI JGG BKR 6GR",
         "showlegend": true,
         "type": "scattergl",
         "x": [
          "2024-01-01T00:00:00",
          "2024-01-08T00:00:00",
          "2024-01-15T00:00:00",
          "2024-01-22T00:00:00",
          "2024-01-29T00:00:00",
          "2024-02-05T00:00:00",
          "2024-02-12T00:00:00",
          "2024-02-19T00:00:00",
          "2024-02-26T00:00:00",
          "2024-03-04T00:00:00",
          "2024-03-11T00:00:00",
          "2024-03-18T00:00:00",
          "2024-03-25T00:00:00",
          "2024-04-01T00:00:00",
          "2024-04-08T00:00:00",
          "2024-04-15T00:00:00",
          "2024-04-22T00:00:00",
          "2024-04-29T00:00:00",
          "2024-05-06T00:00:00",
          "2024-05-13T00:00:00",
          "2024-05-20T00:00:00",
          "2024-05-27T00:00:00",
          "2024-06-03T00:00:00",
          "2024-06-10T00:00:00",
          "2024-06-17T00:00:00",
          "2024-06-24T00:00:00",
          "2024-07-01T00:00:00",
          "2024-07-08T00:00:00",
          "2024-07-15T00:00:00",
          "2024-07-22T00:00:00",
          "2024-07-29T00:00:00",
          "2024-08-05T00:00:00",
          "2024-08-12T00:00:00",
          "2024-08-19T00:00:00",
          "2024-08-26T00:00:00",
          "2024-09-02T00:00:00",
          "2024-09-09T00:00:00",
          "2024-09-16T00:00:00",
          "2024-09-23T00:00:00",
          "2024-09-30T00:00:00",
          "2024-10-07T00:00:00",
          "2024-10-14T00:00:00",
          "2024-10-21T00:00:00",
          "2024-10-28T00:00:00",
          "2024-11-04T00:00:00",
          "2024-11-11T00:00:00",
          "2024-11-18T00:00:00",
          "2024-11-25T00:00:00",
          "2024-12-02T00:00:00",
          "2024-12-09T00:00:00",
          "2024-12-16T00:00:00",
          "2024-12-23T00:00:00",
          "2024-12-30T00:00:00"
         ],
         "xaxis": "x",
         "y": [
          0,
          3,
          4,
          4,
          3,
          7,
          4,
          4,
          9,
          0,
          0,
          0,
          0,
          0,
          0,
          0,
          0,
          0,
          0,
          0,
          2,
          10,
          6,
          0,
          0,
          0,
          1,
          7,
          4,
          9,
          3,
          17,
          4,
          9,
          8,
          27,
          7,
          5,
          8,
          2,
          10,
          5,
          1,
          3,
          10,
          1,
          2,
          4,
          12,
          6,
          3,
          7,
          0
         ],
         "yaxis": "y"
        },
        {
         "hovertemplate": "NAMA BARANG=MR POTATO CRIPS ORI 35G<br>TANGGAL=%{x}<br>QTY=%{y}<extra></extra>",
         "legendgroup": "MR POTATO CRIPS ORI 35G",
         "line": {
          "color": "#19d3f3",
          "dash": "solid"
         },
         "marker": {
          "symbol": "circle"
         },
         "mode": "lines",
         "name": "MR POTATO CRIPS ORI 35G",
         "showlegend": true,
         "type": "scattergl",
         "x": [
          "2024-01-01T00:00:00",
          "2024-01-08T00:00:00",
          "2024-01-15T00:00:00",
          "2024-01-22T00:00:00",
          "2024-01-29T00:00:00",
          "2024-02-05T00:00:00",
          "2024-02-12T00:00:00",
          "2024-02-19T00:00:00",
          "2024-02-26T00:00:00",
          "2024-03-04T00:00:00",
          "2024-03-11T00:00:00",
          "2024-03-18T00:00:00",
          "2024-03-25T00:00:00",
          "2024-04-01T00:00:00",
          "2024-04-08T00:00:00",
          "2024-04-15T00:00:00",
          "2024-04-22T00:00:00",
          "2024-04-29T00:00:00",
          "2024-05-06T00:00:00",
          "2024-05-13T00:00:00",
          "2024-05-20T00:00:00",
          "2024-05-27T00:00:00",
          "2024-06-03T00:00:00",
          "2024-06-10T00:00:00",
          "2024-06-17T00:00:00",
          "2024-06-24T00:00:00",
          "2024-07-01T00:00:00",
          "2024-07-08T00:00:00",
          "2024-07-15T00:00:00",
          "2024-07-22T00:00:00",
          "2024-07-29T00:00:00",
          "2024-08-05T00:00:00",
          "2024-08-12T00:00:00",
          "2024-08-19T00:00:00",
          "2024-08-26T00:00:00",
          "2024-09-02T00:00:00",
          "2024-09-09T00:00:00",
          "2024-09-16T00:00:00",
          "2024-09-23T00:00:00",
          "2024-09-30T00:00:00",
          "2024-10-07T00:00:00",
          "2024-10-14T00:00:00",
          "2024-10-21T00:00:00",
          "2024-10-28T00:00:00",
          "2024-11-04T00:00:00",
          "2024-11-11T00:00:00",
          "2024-11-18T00:00:00",
          "2024-11-25T00:00:00",
          "2024-12-02T00:00:00",
          "2024-12-09T00:00:00",
          "2024-12-16T00:00:00",
          "2024-12-23T00:00:00",
          "2024-12-30T00:00:00"
         ],
         "xaxis": "x",
         "y": [
          3,
          2,
          1,
          3,
          1,
          1,
          5,
          8,
          6,
          2,
          2,
          0,
          1,
          3,
          2,
          0,
          1,
          0,
          1,
          5,
          4,
          4,
          3,
          4,
          2,
          1,
          4,
          0,
          2,
          2,
          1,
          1,
          3,
          0,
          5,
          4,
          1,
          1,
          5,
          3,
          2,
          0,
          0,
          0,
          2,
          0,
          0,
          2,
          0,
          0,
          1,
          0,
          0
         ],
         "yaxis": "y"
        },
        {
         "hovertemplate": "NAMA BARANG=NEXTAR BROWNIES 42GR<br>TANGGAL=%{x}<br>QTY=%{y}<extra></extra>",
         "legendgroup": "NEXTAR BROWNIES 42GR",
         "line": {
          "color": "#FF6692",
          "dash": "solid"
         },
         "marker": {
          "symbol": "circle"
         },
         "mode": "lines",
         "name": "NEXTAR BROWNIES 42GR",
         "showlegend": true,
         "type": "scattergl",
         "x": [
          "2024-01-01T00:00:00",
          "2024-01-08T00:00:00",
          "2024-01-15T00:00:00",
          "2024-01-22T00:00:00",
          "2024-01-29T00:00:00",
          "2024-02-05T00:00:00",
          "2024-02-12T00:00:00",
          "2024-02-19T00:00:00",
          "2024-02-26T00:00:00",
          "2024-03-04T00:00:00",
          "2024-03-11T00:00:00",
          "2024-03-18T00:00:00",
          "2024-03-25T00:00:00",
          "2024-04-01T00:00:00",
          "2024-04-08T00:00:00",
          "2024-04-15T00:00:00",
          "2024-04-22T00:00:00",
          "2024-04-29T00:00:00",
          "2024-05-06T00:00:00",
          "2024-05-13T00:00:00",
          "2024-05-20T00:00:00",
          "2024-05-27T00:00:00",
          "2024-06-03T00:00:00",
          "2024-06-10T00:00:00",
          "2024-06-17T00:00:00",
          "2024-06-24T00:00:00",
          "2024-07-01T00:00:00",
          "2024-07-08T00:00:00",
          "2024-07-15T00:00:00",
          "2024-07-22T00:00:00",
          "2024-07-29T00:00:00",
          "2024-08-05T00:00:00",
          "2024-08-12T00:00:00",
          "2024-08-19T00:00:00",
          "2024-08-26T00:00:00",
          "2024-09-02T00:00:00",
          "2024-09-09T00:00:00",
          "2024-09-16T00:00:00",
          "2024-09-23T00:00:00",
          "2024-09-30T00:00:00",
          "2024-10-07T00:00:00",
          "2024-10-14T00:00:00",
          "2024-10-21T00:00:00",
          "2024-10-28T00:00:00",
          "2024-11-04T00:00:00",
          "2024-11-11T00:00:00",
          "2024-11-18T00:00:00",
          "2024-11-25T00:00:00",
          "2024-12-02T00:00:00",
          "2024-12-09T00:00:00",
          "2024-12-16T00:00:00",
          "2024-12-23T00:00:00",
          "2024-12-30T00:00:00"
         ],
         "xaxis": "x",
         "y": [
          1,
          1,
          4,
          6,
          6,
          1,
          4,
          1,
          8,
          7,
          0,
          0,
          0,
          0,
          0,
          0,
          0,
          0,
          1,
          0,
          4,
          5,
          1,
          0,
          1,
          4,
          2,
          0,
          0,
          1,
          1,
          3,
          3,
          4,
          7,
          1,
          2,
          8,
          2,
          7,
          0,
          2,
          4,
          1,
          2,
          2,
          0,
          0,
          0,
          0,
          0,
          0,
          0
         ],
         "yaxis": "y"
        },
        {
         "hovertemplate": "NAMA BARANG=NEXTAR PINEAPLE 112G<br>TANGGAL=%{x}<br>QTY=%{y}<extra></extra>",
         "legendgroup": "NEXTAR PINEAPLE 112G",
         "line": {
          "color": "#B6E880",
          "dash": "solid"
         },
         "marker": {
          "symbol": "circle"
         },
         "mode": "lines",
         "name": "NEXTAR PINEAPLE 112G",
         "showlegend": true,
         "type": "scattergl",
         "x": [
          "2024-01-01T00:00:00",
          "2024-01-08T00:00:00",
          "2024-01-15T00:00:00",
          "2024-01-22T00:00:00",
          "2024-01-29T00:00:00",
          "2024-02-05T00:00:00",
          "2024-02-12T00:00:00",
          "2024-02-19T00:00:00",
          "2024-02-26T00:00:00",
          "2024-03-04T00:00:00",
          "2024-03-11T00:00:00",
          "2024-03-18T00:00:00",
          "2024-03-25T00:00:00",
          "2024-04-01T00:00:00",
          "2024-04-08T00:00:00",
          "2024-04-15T00:00:00",
          "2024-04-22T00:00:00",
          "2024-04-29T00:00:00",
          "2024-05-06T00:00:00",
          "2024-05-13T00:00:00",
          "2024-05-20T00:00:00",
          "2024-05-27T00:00:00",
          "2024-06-03T00:00:00",
          "2024-06-10T00:00:00",
          "2024-06-17T00:00:00",
          "2024-06-24T00:00:00",
          "2024-07-01T00:00:00",
          "2024-07-08T00:00:00",
          "2024-07-15T00:00:00",
          "2024-07-22T00:00:00",
          "2024-07-29T00:00:00",
          "2024-08-05T00:00:00",
          "2024-08-12T00:00:00",
          "2024-08-19T00:00:00",
          "2024-08-26T00:00:00",
          "2024-09-02T00:00:00",
          "2024-09-09T00:00:00",
          "2024-09-16T00:00:00",
          "2024-09-23T00:00:00",
          "2024-09-30T00:00:00",
          "2024-10-07T00:00:00",
          "2024-10-14T00:00:00",
          "2024-10-21T00:00:00",
          "2024-10-28T00:00:00",
          "2024-11-04T00:00:00",
          "2024-11-11T00:00:00",
          "2024-11-18T00:00:00",
          "2024-11-25T00:00:00",
          "2024-12-02T00:00:00",
          "2024-12-09T00:00:00",
          "2024-12-16T00:00:00",
          "2024-12-23T00:00:00",
          "2024-12-30T00:00:00"
         ],
         "xaxis": "x",
         "y": [
          8,
          7,
          1,
          4,
          3,
          4,
          9,
          5,
          2,
          5,
          0,
          0,
          2,
          3,
          1,
          1,
          1,
          2,
          0,
          0,
          1,
          0,
          0,
          0,
          0,
          0,
          0,
          0,
          0,
          1,
          0,
          0,
          1,
          1,
          0,
          1,
          2,
          0,
          0,
          1,
          6,
          2,
          0,
          2,
          3,
          0,
          1,
          1,
          3,
          0,
          0,
          1,
          0
         ],
         "yaxis": "y"
        },
        {
         "hovertemplate": "NAMA BARANG=NUVO SOAP BLUE 72G<br>TANGGAL=%{x}<br>QTY=%{y}<extra></extra>",
         "legendgroup": "NUVO SOAP BLUE 72G",
         "line": {
          "color": "#FF97FF",
          "dash": "solid"
         },
         "marker": {
          "symbol": "circle"
         },
         "mode": "lines",
         "name": "NUVO SOAP BLUE 72G",
         "showlegend": true,
         "type": "scattergl",
         "x": [
          "2024-01-01T00:00:00",
          "2024-01-08T00:00:00",
          "2024-01-15T00:00:00",
          "2024-01-22T00:00:00",
          "2024-01-29T00:00:00",
          "2024-02-05T00:00:00",
          "2024-02-12T00:00:00",
          "2024-02-19T00:00:00",
          "2024-02-26T00:00:00",
          "2024-03-04T00:00:00",
          "2024-03-11T00:00:00",
          "2024-03-18T00:00:00",
          "2024-03-25T00:00:00",
          "2024-04-01T00:00:00",
          "2024-04-08T00:00:00",
          "2024-04-15T00:00:00",
          "2024-04-22T00:00:00",
          "2024-04-29T00:00:00",
          "2024-05-06T00:00:00",
          "2024-05-13T00:00:00",
          "2024-05-20T00:00:00",
          "2024-05-27T00:00:00",
          "2024-06-03T00:00:00",
          "2024-06-10T00:00:00",
          "2024-06-17T00:00:00",
          "2024-06-24T00:00:00",
          "2024-07-01T00:00:00",
          "2024-07-08T00:00:00",
          "2024-07-15T00:00:00",
          "2024-07-22T00:00:00",
          "2024-07-29T00:00:00",
          "2024-08-05T00:00:00",
          "2024-08-12T00:00:00",
          "2024-08-19T00:00:00",
          "2024-08-26T00:00:00",
          "2024-09-02T00:00:00",
          "2024-09-09T00:00:00",
          "2024-09-16T00:00:00",
          "2024-09-23T00:00:00",
          "2024-09-30T00:00:00",
          "2024-10-07T00:00:00",
          "2024-10-14T00:00:00",
          "2024-10-21T00:00:00",
          "2024-10-28T00:00:00",
          "2024-11-04T00:00:00",
          "2024-11-11T00:00:00",
          "2024-11-18T00:00:00",
          "2024-11-25T00:00:00",
          "2024-12-02T00:00:00",
          "2024-12-09T00:00:00",
          "2024-12-16T00:00:00",
          "2024-12-23T00:00:00",
          "2024-12-30T00:00:00"
         ],
         "xaxis": "x",
         "y": [
          10,
          2,
          3,
          1,
          1,
          2,
          7,
          1,
          5,
          0,
          0,
          1,
          3,
          4,
          0,
          0,
          0,
          7,
          2,
          2,
          4,
          9,
          0,
          0,
          0,
          2,
          4,
          2,
          4,
          0,
          4,
          2,
          6,
          5,
          5,
          4,
          8,
          2,
          4,
          8,
          3,
          4,
          3,
          6,
          8,
          5,
          7,
          7,
          13,
          5,
          9,
          2,
          0
         ],
         "yaxis": "y"
        },
        {
         "hovertemplate": "NAMA BARANG=NUVO SOAP RED 72G<br>TANGGAL=%{x}<br>QTY=%{y}<extra></extra>",
         "legendgroup": "NUVO SOAP RED 72G",
         "line": {
          "color": "#FECB52",
          "dash": "solid"
         },
         "marker": {
          "symbol": "circle"
         },
         "mode": "lines",
         "name": "NUVO SOAP RED 72G",
         "showlegend": true,
         "type": "scattergl",
         "x": [
          "2024-01-01T00:00:00",
          "2024-01-08T00:00:00",
          "2024-01-15T00:00:00",
          "2024-01-22T00:00:00",
          "2024-01-29T00:00:00",
          "2024-02-05T00:00:00",
          "2024-02-12T00:00:00",
          "2024-02-19T00:00:00",
          "2024-02-26T00:00:00",
          "2024-03-04T00:00:00",
          "2024-03-11T00:00:00",
          "2024-03-18T00:00:00",
          "2024-03-25T00:00:00",
          "2024-04-01T00:00:00",
          "2024-04-08T00:00:00",
          "2024-04-15T00:00:00",
          "2024-04-22T00:00:00",
          "2024-04-29T00:00:00",
          "2024-05-06T00:00:00",
          "2024-05-13T00:00:00",
          "2024-05-20T00:00:00",
          "2024-05-27T00:00:00",
          "2024-06-03T00:00:00",
          "2024-06-10T00:00:00",
          "2024-06-17T00:00:00",
          "2024-06-24T00:00:00",
          "2024-07-01T00:00:00",
          "2024-07-08T00:00:00",
          "2024-07-15T00:00:00",
          "2024-07-22T00:00:00",
          "2024-07-29T00:00:00",
          "2024-08-05T00:00:00",
          "2024-08-12T00:00:00",
          "2024-08-19T00:00:00",
          "2024-08-26T00:00:00",
          "2024-09-02T00:00:00",
          "2024-09-09T00:00:00",
          "2024-09-16T00:00:00",
          "2024-09-23T00:00:00",
          "2024-09-30T00:00:00",
          "2024-10-07T00:00:00",
          "2024-10-14T00:00:00",
          "2024-10-21T00:00:00",
          "2024-10-28T00:00:00",
          "2024-11-04T00:00:00",
          "2024-11-11T00:00:00",
          "2024-11-18T00:00:00",
          "2024-11-25T00:00:00",
          "2024-12-02T00:00:00",
          "2024-12-09T00:00:00",
          "2024-12-16T00:00:00",
          "2024-12-23T00:00:00",
          "2024-12-30T00:00:00"
         ],
         "xaxis": "x",
         "y": [
          6,
          0,
          2,
          1,
          3,
          2,
          3,
          0,
          13,
          1,
          0,
          12,
          0,
          12,
          0,
          6,
          0,
          1,
          0,
          3,
          2,
          6,
          6,
          0,
          0,
          0,
          0,
          0,
          0,
          3,
          9,
          0,
          4,
          1,
          0,
          3,
          4,
          0,
          0,
          4,
          2,
          3,
          6,
          1,
          7,
          3,
          6,
          6,
          10,
          4,
          8,
          4,
          1
         ],
         "yaxis": "y"
        },
        {
         "hovertemplate": "NAMA BARANG=ROMA KELAPA 300GR<br>TANGGAL=%{x}<br>QTY=%{y}<extra></extra>",
         "legendgroup": "ROMA KELAPA 300GR",
         "line": {
          "color": "#636efa",
          "dash": "solid"
         },
         "marker": {
          "symbol": "circle"
         },
         "mode": "lines",
         "name": "ROMA KELAPA 300GR",
         "showlegend": true,
         "type": "scattergl",
         "x": [
          "2024-01-01T00:00:00",
          "2024-01-08T00:00:00",
          "2024-01-15T00:00:00",
          "2024-01-22T00:00:00",
          "2024-01-29T00:00:00",
          "2024-02-05T00:00:00",
          "2024-02-12T00:00:00",
          "2024-02-19T00:00:00",
          "2024-02-26T00:00:00",
          "2024-03-04T00:00:00",
          "2024-03-11T00:00:00",
          "2024-03-18T00:00:00",
          "2024-03-25T00:00:00",
          "2024-04-01T00:00:00",
          "2024-04-08T00:00:00",
          "2024-04-15T00:00:00",
          "2024-04-22T00:00:00",
          "2024-04-29T00:00:00",
          "2024-05-06T00:00:00",
          "2024-05-13T00:00:00",
          "2024-05-20T00:00:00",
          "2024-05-27T00:00:00",
          "2024-06-03T00:00:00",
          "2024-06-10T00:00:00",
          "2024-06-17T00:00:00",
          "2024-06-24T00:00:00",
          "2024-07-01T00:00:00",
          "2024-07-08T00:00:00",
          "2024-07-15T00:00:00",
          "2024-07-22T00:00:00",
          "2024-07-29T00:00:00",
          "2024-08-05T00:00:00",
          "2024-08-12T00:00:00",
          "2024-08-19T00:00:00",
          "2024-08-26T00:00:00",
          "2024-09-02T00:00:00",
          "2024-09-09T00:00:00",
          "2024-09-16T00:00:00",
          "2024-09-23T00:00:00",
          "2024-09-30T00:00:00",
          "2024-10-07T00:00:00",
          "2024-10-14T00:00:00",
          "2024-10-21T00:00:00",
          "2024-10-28T00:00:00",
          "2024-11-04T00:00:00",
          "2024-11-11T00:00:00",
          "2024-11-18T00:00:00",
          "2024-11-25T00:00:00",
          "2024-12-02T00:00:00",
          "2024-12-09T00:00:00",
          "2024-12-16T00:00:00",
          "2024-12-23T00:00:00",
          "2024-12-30T00:00:00"
         ],
         "xaxis": "x",
         "y": [
          12,
          8,
          6,
          3,
          6,
          6,
          9,
          6,
          12,
          3,
          8,
          5,
          8,
          7,
          3,
          1,
          6,
          5,
          1,
          4,
          1,
          3,
          4,
          0,
          7,
          1,
          6,
          3,
          3,
          6,
          6,
          3,
          4,
          2,
          2,
          6,
          1,
          4,
          5,
          5,
          7,
          7,
          13,
          6,
          6,
          6,
          3,
          8,
          7,
          9,
          4,
          8,
          1
         ],
         "yaxis": "y"
        },
        {
         "hovertemplate": "NAMA BARANG=SAKINAH 1500ML<br>TANGGAL=%{x}<br>QTY=%{y}<extra></extra>",
         "legendgroup": "SAKINAH 1500ML",
         "line": {
          "color": "#EF553B",
          "dash": "solid"
         },
         "marker": {
          "symbol": "circle"
         },
         "mode": "lines",
         "name": "SAKINAH 1500ML",
         "showlegend": true,
         "type": "scattergl",
         "x": [
          "2024-01-01T00:00:00",
          "2024-01-08T00:00:00",
          "2024-01-15T00:00:00",
          "2024-01-22T00:00:00",
          "2024-01-29T00:00:00",
          "2024-02-05T00:00:00",
          "2024-02-12T00:00:00",
          "2024-02-19T00:00:00",
          "2024-02-26T00:00:00",
          "2024-03-04T00:00:00",
          "2024-03-11T00:00:00",
          "2024-03-18T00:00:00",
          "2024-03-25T00:00:00",
          "2024-04-01T00:00:00",
          "2024-04-08T00:00:00",
          "2024-04-15T00:00:00",
          "2024-04-22T00:00:00",
          "2024-04-29T00:00:00",
          "2024-05-06T00:00:00",
          "2024-05-13T00:00:00",
          "2024-05-20T00:00:00",
          "2024-05-27T00:00:00",
          "2024-06-03T00:00:00",
          "2024-06-10T00:00:00",
          "2024-06-17T00:00:00",
          "2024-06-24T00:00:00",
          "2024-07-01T00:00:00",
          "2024-07-08T00:00:00",
          "2024-07-15T00:00:00",
          "2024-07-22T00:00:00",
          "2024-07-29T00:00:00",
          "2024-08-05T00:00:00",
          "2024-08-12T00:00:00",
          "2024-08-19T00:00:00",
          "2024-08-26T00:00:00",
          "2024-09-02T00:00:00",
          "2024-09-09T00:00:00",
          "2024-09-16T00:00:00",
          "2024-09-23T00:00:00",
          "2024-09-30T00:00:00",
          "2024-10-07T00:00:00",
          "2024-10-14T00:00:00",
          "2024-10-21T00:00:00",
          "2024-10-28T00:00:00",
          "2024-11-04T00:00:00",
          "2024-11-11T00:00:00",
          "2024-11-18T00:00:00",
          "2024-11-25T00:00:00",
          "2024-12-02T00:00:00",
          "2024-12-09T00:00:00",
          "2024-12-16T00:00:00",
          "2024-12-23T00:00:00",
          "2024-12-30T00:00:00"
         ],
         "xaxis": "x",
         "y": [
          6,
          6,
          5,
          8,
          4,
          8,
          5,
          7,
          6,
          7,
          2,
          9,
          2,
          10,
          7,
          10,
          9,
          18,
          24,
          21,
          21,
          12,
          10,
          24,
          13,
          21,
          15,
          14,
          19,
          12,
          17,
          17,
          21,
          26,
          42,
          33,
          37,
          30,
          30,
          39,
          3,
          50,
          56,
          47,
          39,
          49,
          44,
          37,
          23,
          31,
          31,
          15,
          11
         ],
         "yaxis": "y"
        },
        {
         "hovertemplate": "NAMA BARANG=SEDAAP MIE AYAM BWG<br>TANGGAL=%{x}<br>QTY=%{y}<extra></extra>",
         "legendgroup": "SEDAAP MIE AYAM BWG",
         "line": {
          "color": "#00cc96",
          "dash": "solid"
         },
         "marker": {
          "symbol": "circle"
         },
         "mode": "lines",
         "name": "SEDAAP MIE AYAM BWG",
         "showlegend": true,
         "type": "scattergl",
         "x": [
          "2024-01-01T00:00:00",
          "2024-01-08T00:00:00",
          "2024-01-15T00:00:00",
          "2024-01-22T00:00:00",
          "2024-01-29T00:00:00",
          "2024-02-05T00:00:00",
          "2024-02-12T00:00:00",
          "2024-02-19T00:00:00",
          "2024-02-26T00:00:00",
          "2024-03-04T00:00:00",
          "2024-03-11T00:00:00",
          "2024-03-18T00:00:00",
          "2024-03-25T00:00:00",
          "2024-04-01T00:00:00",
          "2024-04-08T00:00:00",
          "2024-04-15T00:00:00",
          "2024-04-22T00:00:00",
          "2024-04-29T00:00:00",
          "2024-05-06T00:00:00",
          "2024-05-13T00:00:00",
          "2024-05-20T00:00:00",
          "2024-05-27T00:00:00",
          "2024-06-03T00:00:00",
          "2024-06-10T00:00:00",
          "2024-06-17T00:00:00",
          "2024-06-24T00:00:00",
          "2024-07-01T00:00:00",
          "2024-07-08T00:00:00",
          "2024-07-15T00:00:00",
          "2024-07-22T00:00:00",
          "2024-07-29T00:00:00",
          "2024-08-05T00:00:00",
          "2024-08-12T00:00:00",
          "2024-08-19T00:00:00",
          "2024-08-26T00:00:00",
          "2024-09-02T00:00:00",
          "2024-09-09T00:00:00",
          "2024-09-16T00:00:00",
          "2024-09-23T00:00:00",
          "2024-09-30T00:00:00",
          "2024-10-07T00:00:00",
          "2024-10-14T00:00:00",
          "2024-10-21T00:00:00",
          "2024-10-28T00:00:00",
          "2024-11-04T00:00:00",
          "2024-11-11T00:00:00",
          "2024-11-18T00:00:00",
          "2024-11-25T00:00:00",
          "2024-12-02T00:00:00",
          "2024-12-09T00:00:00",
          "2024-12-16T00:00:00",
          "2024-12-23T00:00:00",
          "2024-12-30T00:00:00"
         ],
         "xaxis": "x",
         "y": [
          14,
          1,
          9,
          3,
          5,
          9,
          5,
          7,
          5,
          6,
          6,
          6,
          1,
          5,
          19,
          7,
          3,
          5,
          11,
          9,
          6,
          11,
          7,
          8,
          15,
          7,
          10,
          14,
          8,
          13,
          9,
          0,
          3,
          7,
          2,
          5,
          7,
          7,
          15,
          5,
          5,
          1,
          8,
          6,
          8,
          6,
          7,
          4,
          5,
          10,
          9,
          2,
          2
         ],
         "yaxis": "y"
        },
        {
         "hovertemplate": "NAMA BARANG=SEDAAP MIE CUP AYM JERIT /12<br>TANGGAL=%{x}<br>QTY=%{y}<extra></extra>",
         "legendgroup": "SEDAAP MIE CUP AYM JERIT /12",
         "line": {
          "color": "#ab63fa",
          "dash": "solid"
         },
         "marker": {
          "symbol": "circle"
         },
         "mode": "lines",
         "name": "SEDAAP MIE CUP AYM JERIT /12",
         "showlegend": true,
         "type": "scattergl",
         "x": [
          "2024-01-01T00:00:00",
          "2024-01-08T00:00:00",
          "2024-01-15T00:00:00",
          "2024-01-22T00:00:00",
          "2024-01-29T00:00:00",
          "2024-02-05T00:00:00",
          "2024-02-12T00:00:00",
          "2024-02-19T00:00:00",
          "2024-02-26T00:00:00",
          "2024-03-04T00:00:00",
          "2024-03-11T00:00:00",
          "2024-03-18T00:00:00",
          "2024-03-25T00:00:00",
          "2024-04-01T00:00:00",
          "2024-04-08T00:00:00",
          "2024-04-15T00:00:00",
          "2024-04-22T00:00:00",
          "2024-04-29T00:00:00",
          "2024-05-06T00:00:00",
          "2024-05-13T00:00:00",
          "2024-05-20T00:00:00",
          "2024-05-27T00:00:00",
          "2024-06-03T00:00:00",
          "2024-06-10T00:00:00",
          "2024-06-17T00:00:00",
          "2024-06-24T00:00:00",
          "2024-07-01T00:00:00",
          "2024-07-08T00:00:00",
          "2024-07-15T00:00:00",
          "2024-07-22T00:00:00",
          "2024-07-29T00:00:00",
          "2024-08-05T00:00:00",
          "2024-08-12T00:00:00",
          "2024-08-19T00:00:00",
          "2024-08-26T00:00:00",
          "2024-09-02T00:00:00",
          "2024-09-09T00:00:00",
          "2024-09-16T00:00:00",
          "2024-09-23T00:00:00",
          "2024-09-30T00:00:00",
          "2024-10-07T00:00:00",
          "2024-10-14T00:00:00",
          "2024-10-21T00:00:00",
          "2024-10-28T00:00:00",
          "2024-11-04T00:00:00",
          "2024-11-11T00:00:00",
          "2024-11-18T00:00:00",
          "2024-11-25T00:00:00",
          "2024-12-02T00:00:00",
          "2024-12-09T00:00:00",
          "2024-12-16T00:00:00",
          "2024-12-23T00:00:00",
          "2024-12-30T00:00:00"
         ],
         "xaxis": "x",
         "y": [
          5,
          3,
          5,
          5,
          5,
          4,
          2,
          3,
          0,
          5,
          0,
          3,
          1,
          3,
          4,
          5,
          7,
          6,
          3,
          0,
          6,
          5,
          1,
          0,
          3,
          0,
          2,
          4,
          3,
          5,
          4,
          1,
          4,
          1,
          1,
          2,
          4,
          4,
          2,
          3,
          0,
          2,
          0,
          0,
          1,
          3,
          0,
          0,
          2,
          3,
          3,
          0,
          0
         ],
         "yaxis": "y"
        },
        {
         "hovertemplate": "NAMA BARANG=SEDAAP MIE CUP BASO BLEDUK<br>TANGGAL=%{x}<br>QTY=%{y}<extra></extra>",
         "legendgroup": "SEDAAP MIE CUP BASO BLEDUK",
         "line": {
          "color": "#FFA15A",
          "dash": "solid"
         },
         "marker": {
          "symbol": "circle"
         },
         "mode": "lines",
         "name": "SEDAAP MIE CUP BASO BLEDUK",
         "showlegend": true,
         "type": "scattergl",
         "x": [
          "2024-01-01T00:00:00",
          "2024-01-08T00:00:00",
          "2024-01-15T00:00:00",
          "2024-01-22T00:00:00",
          "2024-01-29T00:00:00",
          "2024-02-05T00:00:00",
          "2024-02-12T00:00:00",
          "2024-02-19T00:00:00",
          "2024-02-26T00:00:00",
          "2024-03-04T00:00:00",
          "2024-03-11T00:00:00",
          "2024-03-18T00:00:00",
          "2024-03-25T00:00:00",
          "2024-04-01T00:00:00",
          "2024-04-08T00:00:00",
          "2024-04-15T00:00:00",
          "2024-04-22T00:00:00",
          "2024-04-29T00:00:00",
          "2024-05-06T00:00:00",
          "2024-05-13T00:00:00",
          "2024-05-20T00:00:00",
          "2024-05-27T00:00:00",
          "2024-06-03T00:00:00",
          "2024-06-10T00:00:00",
          "2024-06-17T00:00:00",
          "2024-06-24T00:00:00",
          "2024-07-01T00:00:00",
          "2024-07-08T00:00:00",
          "2024-07-15T00:00:00",
          "2024-07-22T00:00:00",
          "2024-07-29T00:00:00",
          "2024-08-05T00:00:00",
          "2024-08-12T00:00:00",
          "2024-08-19T00:00:00",
          "2024-08-26T00:00:00",
          "2024-09-02T00:00:00",
          "2024-09-09T00:00:00",
          "2024-09-16T00:00:00",
          "2024-09-23T00:00:00",
          "2024-09-30T00:00:00",
          "2024-10-07T00:00:00",
          "2024-10-14T00:00:00",
          "2024-10-21T00:00:00",
          "2024-10-28T00:00:00",
          "2024-11-04T00:00:00",
          "2024-11-11T00:00:00",
          "2024-11-18T00:00:00",
          "2024-11-25T00:00:00",
          "2024-12-02T00:00:00",
          "2024-12-09T00:00:00",
          "2024-12-16T00:00:00",
          "2024-12-23T00:00:00",
          "2024-12-30T00:00:00"
         ],
         "xaxis": "x",
         "y": [
          5,
          2,
          2,
          2,
          10,
          2,
          3,
          2,
          2,
          3,
          1,
          2,
          0,
          2,
          3,
          6,
          5,
          2,
          0,
          2,
          3,
          1,
          4,
          0,
          3,
          3,
          2,
          3,
          4,
          4,
          3,
          0,
          3,
          0,
          0,
          5,
          4,
          4,
          0,
          3,
          2,
          4,
          2,
          0,
          2,
          2,
          1,
          1,
          6,
          7,
          3,
          2,
          1
         ],
         "yaxis": "y"
        },
        {
         "hovertemplate": "NAMA BARANG=SEDAAP MIE CUP BASO SPC<br>TANGGAL=%{x}<br>QTY=%{y}<extra></extra>",
         "legendgroup": "SEDAAP MIE CUP BASO SPC",
         "line": {
          "color": "#19d3f3",
          "dash": "solid"
         },
         "marker": {
          "symbol": "circle"
         },
         "mode": "lines",
         "name": "SEDAAP MIE CUP BASO SPC",
         "showlegend": true,
         "type": "scattergl",
         "x": [
          "2024-01-01T00:00:00",
          "2024-01-08T00:00:00",
          "2024-01-15T00:00:00",
          "2024-01-22T00:00:00",
          "2024-01-29T00:00:00",
          "2024-02-05T00:00:00",
          "2024-02-12T00:00:00",
          "2024-02-19T00:00:00",
          "2024-02-26T00:00:00",
          "2024-03-04T00:00:00",
          "2024-03-11T00:00:00",
          "2024-03-18T00:00:00",
          "2024-03-25T00:00:00",
          "2024-04-01T00:00:00",
          "2024-04-08T00:00:00",
          "2024-04-15T00:00:00",
          "2024-04-22T00:00:00",
          "2024-04-29T00:00:00",
          "2024-05-06T00:00:00",
          "2024-05-13T00:00:00",
          "2024-05-20T00:00:00",
          "2024-05-27T00:00:00",
          "2024-06-03T00:00:00",
          "2024-06-10T00:00:00",
          "2024-06-17T00:00:00",
          "2024-06-24T00:00:00",
          "2024-07-01T00:00:00",
          "2024-07-08T00:00:00",
          "2024-07-15T00:00:00",
          "2024-07-22T00:00:00",
          "2024-07-29T00:00:00",
          "2024-08-05T00:00:00",
          "2024-08-12T00:00:00",
          "2024-08-19T00:00:00",
          "2024-08-26T00:00:00",
          "2024-09-02T00:00:00",
          "2024-09-09T00:00:00",
          "2024-09-16T00:00:00",
          "2024-09-23T00:00:00",
          "2024-09-30T00:00:00",
          "2024-10-07T00:00:00",
          "2024-10-14T00:00:00",
          "2024-10-21T00:00:00",
          "2024-10-28T00:00:00",
          "2024-11-04T00:00:00",
          "2024-11-11T00:00:00",
          "2024-11-18T00:00:00",
          "2024-11-25T00:00:00",
          "2024-12-02T00:00:00",
          "2024-12-09T00:00:00",
          "2024-12-16T00:00:00",
          "2024-12-23T00:00:00",
          "2024-12-30T00:00:00"
         ],
         "xaxis": "x",
         "y": [
          0,
          2,
          2,
          2,
          2,
          2,
          2,
          0,
          2,
          0,
          0,
          2,
          4,
          0,
          1,
          0,
          4,
          1,
          1,
          4,
          1,
          1,
          0,
          2,
          4,
          2,
          0,
          2,
          6,
          2,
          2,
          1,
          2,
          0,
          3,
          5,
          5,
          1,
          0,
          1,
          2,
          2,
          0,
          0,
          0,
          0,
          3,
          2,
          6,
          11,
          1,
          5,
          0
         ],
         "yaxis": "y"
        },
        {
         "hovertemplate": "NAMA BARANG=SEDAAP MIE CUP KARE<br>TANGGAL=%{x}<br>QTY=%{y}<extra></extra>",
         "legendgroup": "SEDAAP MIE CUP KARE",
         "line": {
          "color": "#FF6692",
          "dash": "solid"
         },
         "marker": {
          "symbol": "circle"
         },
         "mode": "lines",
         "name": "SEDAAP MIE CUP KARE",
         "showlegend": true,
         "type": "scattergl",
         "x": [
          "2024-01-01T00:00:00",
          "2024-01-08T00:00:00",
          "2024-01-15T00:00:00",
          "2024-01-22T00:00:00",
          "2024-01-29T00:00:00",
          "2024-02-05T00:00:00",
          "2024-02-12T00:00:00",
          "2024-02-19T00:00:00",
          "2024-02-26T00:00:00",
          "2024-03-04T00:00:00",
          "2024-03-11T00:00:00",
          "2024-03-18T00:00:00",
          "2024-03-25T00:00:00",
          "2024-04-01T00:00:00",
          "2024-04-08T00:00:00",
          "2024-04-15T00:00:00",
          "2024-04-22T00:00:00",
          "2024-04-29T00:00:00",
          "2024-05-06T00:00:00",
          "2024-05-13T00:00:00",
          "2024-05-20T00:00:00",
          "2024-05-27T00:00:00",
          "2024-06-03T00:00:00",
          "2024-06-10T00:00:00",
          "2024-06-17T00:00:00",
          "2024-06-24T00:00:00",
          "2024-07-01T00:00:00",
          "2024-07-08T00:00:00",
          "2024-07-15T00:00:00",
          "2024-07-22T00:00:00",
          "2024-07-29T00:00:00",
          "2024-08-05T00:00:00",
          "2024-08-12T00:00:00",
          "2024-08-19T00:00:00",
          "2024-08-26T00:00:00",
          "2024-09-02T00:00:00",
          "2024-09-09T00:00:00",
          "2024-09-16T00:00:00",
          "2024-09-23T00:00:00",
          "2024-09-30T00:00:00",
          "2024-10-07T00:00:00",
          "2024-10-14T00:00:00",
          "2024-10-21T00:00:00",
          "2024-10-28T00:00:00",
          "2024-11-04T00:00:00",
          "2024-11-11T00:00:00",
          "2024-11-18T00:00:00",
          "2024-11-25T00:00:00",
          "2024-12-02T00:00:00",
          "2024-12-09T00:00:00",
          "2024-12-16T00:00:00",
          "2024-12-23T00:00:00",
          "2024-12-30T00:00:00"
         ],
         "xaxis": "x",
         "y": [
          2,
          3,
          3,
          2,
          0,
          0,
          3,
          3,
          3,
          3,
          2,
          3,
          3,
          0,
          0,
          3,
          5,
          1,
          4,
          4,
          4,
          0,
          0,
          1,
          3,
          5,
          2,
          3,
          4,
          2,
          3,
          0,
          1,
          0,
          2,
          2,
          3,
          0,
          0,
          2,
          1,
          2,
          1,
          3,
          0,
          0,
          6,
          0,
          8,
          4,
          4,
          3,
          2
         ],
         "yaxis": "y"
        },
        {
         "hovertemplate": "NAMA BARANG=SEDAAP MIE CUP SOTO<br>TANGGAL=%{x}<br>QTY=%{y}<extra></extra>",
         "legendgroup": "SEDAAP MIE CUP SOTO",
         "line": {
          "color": "#B6E880",
          "dash": "solid"
         },
         "marker": {
          "symbol": "circle"
         },
         "mode": "lines",
         "name": "SEDAAP MIE CUP SOTO",
         "showlegend": true,
         "type": "scattergl",
         "x": [
          "2024-01-01T00:00:00",
          "2024-01-08T00:00:00",
          "2024-01-15T00:00:00",
          "2024-01-22T00:00:00",
          "2024-01-29T00:00:00",
          "2024-02-05T00:00:00",
          "2024-02-12T00:00:00",
          "2024-02-19T00:00:00",
          "2024-02-26T00:00:00",
          "2024-03-04T00:00:00",
          "2024-03-11T00:00:00",
          "2024-03-18T00:00:00",
          "2024-03-25T00:00:00",
          "2024-04-01T00:00:00",
          "2024-04-08T00:00:00",
          "2024-04-15T00:00:00",
          "2024-04-22T00:00:00",
          "2024-04-29T00:00:00",
          "2024-05-06T00:00:00",
          "2024-05-13T00:00:00",
          "2024-05-20T00:00:00",
          "2024-05-27T00:00:00",
          "2024-06-03T00:00:00",
          "2024-06-10T00:00:00",
          "2024-06-17T00:00:00",
          "2024-06-24T00:00:00",
          "2024-07-01T00:00:00",
          "2024-07-08T00:00:00",
          "2024-07-15T00:00:00",
          "2024-07-22T00:00:00",
          "2024-07-29T00:00:00",
          "2024-08-05T00:00:00",
          "2024-08-12T00:00:00",
          "2024-08-19T00:00:00",
          "2024-08-26T00:00:00",
          "2024-09-02T00:00:00",
          "2024-09-09T00:00:00",
          "2024-09-16T00:00:00",
          "2024-09-23T00:00:00",
          "2024-09-30T00:00:00",
          "2024-10-07T00:00:00",
          "2024-10-14T00:00:00",
          "2024-10-21T00:00:00",
          "2024-10-28T00:00:00",
          "2024-11-04T00:00:00",
          "2024-11-11T00:00:00",
          "2024-11-18T00:00:00",
          "2024-11-25T00:00:00",
          "2024-12-02T00:00:00",
          "2024-12-09T00:00:00",
          "2024-12-16T00:00:00",
          "2024-12-23T00:00:00",
          "2024-12-30T00:00:00"
         ],
         "xaxis": "x",
         "y": [
          5,
          1,
          2,
          0,
          2,
          3,
          2,
          1,
          3,
          4,
          0,
          2,
          0,
          0,
          7,
          2,
          4,
          1,
          0,
          6,
          2,
          2,
          1,
          0,
          4,
          1,
          3,
          7,
          6,
          3,
          4,
          2,
          4,
          1,
          3,
          6,
          3,
          0,
          3,
          0,
          1,
          2,
          1,
          2,
          0,
          1,
          2,
          1,
          5,
          4,
          0,
          3,
          0
         ],
         "yaxis": "y"
        },
        {
         "hovertemplate": "NAMA BARANG=SEDAAP MIE SOTO<br>TANGGAL=%{x}<br>QTY=%{y}<extra></extra>",
         "legendgroup": "SEDAAP MIE SOTO",
         "line": {
          "color": "#FF97FF",
          "dash": "solid"
         },
         "marker": {
          "symbol": "circle"
         },
         "mode": "lines",
         "name": "SEDAAP MIE SOTO",
         "showlegend": true,
         "type": "scattergl",
         "x": [
          "2024-01-01T00:00:00",
          "2024-01-08T00:00:00",
          "2024-01-15T00:00:00",
          "2024-01-22T00:00:00",
          "2024-01-29T00:00:00",
          "2024-02-05T00:00:00",
          "2024-02-12T00:00:00",
          "2024-02-19T00:00:00",
          "2024-02-26T00:00:00",
          "2024-03-04T00:00:00",
          "2024-03-11T00:00:00",
          "2024-03-18T00:00:00",
          "2024-03-25T00:00:00",
          "2024-04-01T00:00:00",
          "2024-04-08T00:00:00",
          "2024-04-15T00:00:00",
          "2024-04-22T00:00:00",
          "2024-04-29T00:00:00",
          "2024-05-06T00:00:00",
          "2024-05-13T00:00:00",
          "2024-05-20T00:00:00",
          "2024-05-27T00:00:00",
          "2024-06-03T00:00:00",
          "2024-06-10T00:00:00",
          "2024-06-17T00:00:00",
          "2024-06-24T00:00:00",
          "2024-07-01T00:00:00",
          "2024-07-08T00:00:00",
          "2024-07-15T00:00:00",
          "2024-07-22T00:00:00",
          "2024-07-29T00:00:00",
          "2024-08-05T00:00:00",
          "2024-08-12T00:00:00",
          "2024-08-19T00:00:00",
          "2024-08-26T00:00:00",
          "2024-09-02T00:00:00",
          "2024-09-09T00:00:00",
          "2024-09-16T00:00:00",
          "2024-09-23T00:00:00",
          "2024-09-30T00:00:00",
          "2024-10-07T00:00:00",
          "2024-10-14T00:00:00",
          "2024-10-21T00:00:00",
          "2024-10-28T00:00:00",
          "2024-11-04T00:00:00",
          "2024-11-11T00:00:00",
          "2024-11-18T00:00:00",
          "2024-11-25T00:00:00",
          "2024-12-02T00:00:00",
          "2024-12-09T00:00:00",
          "2024-12-16T00:00:00",
          "2024-12-23T00:00:00",
          "2024-12-30T00:00:00"
         ],
         "xaxis": "x",
         "y": [
          38,
          16,
          20,
          32,
          16,
          24,
          16,
          22,
          20,
          11,
          22,
          13,
          13,
          26,
          16,
          25,
          13,
          15,
          13,
          17,
          31,
          27,
          16,
          13,
          19,
          19,
          24,
          21,
          33,
          22,
          23,
          16,
          16,
          24,
          15,
          21,
          27,
          16,
          23,
          30,
          19,
          18,
          16,
          21,
          11,
          12,
          19,
          28,
          26,
          16,
          28,
          33,
          8
         ],
         "yaxis": "y"
        },
        {
         "hovertemplate": "NAMA BARANG=SOKLIN LIQ LAVENDER 625ML<br>TANGGAL=%{x}<br>QTY=%{y}<extra></extra>",
         "legendgroup": "SOKLIN LIQ LAVENDER 625ML",
         "line": {
          "color": "#FECB52",
          "dash": "solid"
         },
         "marker": {
          "symbol": "circle"
         },
         "mode": "lines",
         "name": "SOKLIN LIQ LAVENDER 625ML",
         "showlegend": true,
         "type": "scattergl",
         "x": [
          "2024-01-01T00:00:00",
          "2024-01-08T00:00:00",
          "2024-01-15T00:00:00",
          "2024-01-22T00:00:00",
          "2024-01-29T00:00:00",
          "2024-02-05T00:00:00",
          "2024-02-12T00:00:00",
          "2024-02-19T00:00:00",
          "2024-02-26T00:00:00",
          "2024-03-04T00:00:00",
          "2024-03-11T00:00:00",
          "2024-03-18T00:00:00",
          "2024-03-25T00:00:00",
          "2024-04-01T00:00:00",
          "2024-04-08T00:00:00",
          "2024-04-15T00:00:00",
          "2024-04-22T00:00:00",
          "2024-04-29T00:00:00",
          "2024-05-06T00:00:00",
          "2024-05-13T00:00:00",
          "2024-05-20T00:00:00",
          "2024-05-27T00:00:00",
          "2024-06-03T00:00:00",
          "2024-06-10T00:00:00",
          "2024-06-17T00:00:00",
          "2024-06-24T00:00:00",
          "2024-07-01T00:00:00",
          "2024-07-08T00:00:00",
          "2024-07-15T00:00:00",
          "2024-07-22T00:00:00",
          "2024-07-29T00:00:00",
          "2024-08-05T00:00:00",
          "2024-08-12T00:00:00",
          "2024-08-19T00:00:00",
          "2024-08-26T00:00:00",
          "2024-09-02T00:00:00",
          "2024-09-09T00:00:00",
          "2024-09-16T00:00:00",
          "2024-09-23T00:00:00",
          "2024-09-30T00:00:00",
          "2024-10-07T00:00:00",
          "2024-10-14T00:00:00",
          "2024-10-21T00:00:00",
          "2024-10-28T00:00:00",
          "2024-11-04T00:00:00",
          "2024-11-11T00:00:00",
          "2024-11-18T00:00:00",
          "2024-11-25T00:00:00",
          "2024-12-02T00:00:00",
          "2024-12-09T00:00:00",
          "2024-12-16T00:00:00",
          "2024-12-23T00:00:00",
          "2024-12-30T00:00:00"
         ],
         "xaxis": "x",
         "y": [
          2,
          2,
          0,
          1,
          2,
          1,
          0,
          2,
          2,
          4,
          3,
          1,
          5,
          0,
          1,
          7,
          4,
          2,
          3,
          1,
          1,
          4,
          1,
          3,
          1,
          1,
          2,
          1,
          0,
          3,
          1,
          4,
          1,
          2,
          3,
          1,
          1,
          1,
          2,
          1,
          1,
          5,
          3,
          6,
          1,
          0,
          1,
          0,
          0,
          3,
          2,
          1,
          0
         ],
         "yaxis": "y"
        },
        {
         "hovertemplate": "NAMA BARANG=TEH GELAS ORI 170ML<br>TANGGAL=%{x}<br>QTY=%{y}<extra></extra>",
         "legendgroup": "TEH GELAS ORI 170ML",
         "line": {
          "color": "#636efa",
          "dash": "solid"
         },
         "marker": {
          "symbol": "circle"
         },
         "mode": "lines",
         "name": "TEH GELAS ORI 170ML",
         "showlegend": true,
         "type": "scattergl",
         "x": [
          "2024-01-01T00:00:00",
          "2024-01-08T00:00:00",
          "2024-01-15T00:00:00",
          "2024-01-22T00:00:00",
          "2024-01-29T00:00:00",
          "2024-02-05T00:00:00",
          "2024-02-12T00:00:00",
          "2024-02-19T00:00:00",
          "2024-02-26T00:00:00",
          "2024-03-04T00:00:00",
          "2024-03-11T00:00:00",
          "2024-03-18T00:00:00",
          "2024-03-25T00:00:00",
          "2024-04-01T00:00:00",
          "2024-04-08T00:00:00",
          "2024-04-15T00:00:00",
          "2024-04-22T00:00:00",
          "2024-04-29T00:00:00",
          "2024-05-06T00:00:00",
          "2024-05-13T00:00:00",
          "2024-05-20T00:00:00",
          "2024-05-27T00:00:00",
          "2024-06-03T00:00:00",
          "2024-06-10T00:00:00",
          "2024-06-17T00:00:00",
          "2024-06-24T00:00:00",
          "2024-07-01T00:00:00",
          "2024-07-08T00:00:00",
          "2024-07-15T00:00:00",
          "2024-07-22T00:00:00",
          "2024-07-29T00:00:00",
          "2024-08-05T00:00:00",
          "2024-08-12T00:00:00",
          "2024-08-19T00:00:00",
          "2024-08-26T00:00:00",
          "2024-09-02T00:00:00",
          "2024-09-09T00:00:00",
          "2024-09-16T00:00:00",
          "2024-09-23T00:00:00",
          "2024-09-30T00:00:00",
          "2024-10-07T00:00:00",
          "2024-10-14T00:00:00",
          "2024-10-21T00:00:00",
          "2024-10-28T00:00:00",
          "2024-11-04T00:00:00",
          "2024-11-11T00:00:00",
          "2024-11-18T00:00:00",
          "2024-11-25T00:00:00",
          "2024-12-02T00:00:00",
          "2024-12-09T00:00:00",
          "2024-12-16T00:00:00",
          "2024-12-23T00:00:00",
          "2024-12-30T00:00:00"
         ],
         "xaxis": "x",
         "y": [
          3,
          5,
          4,
          10,
          9,
          4,
          5,
          8,
          6,
          4,
          0,
          6,
          13,
          2,
          4,
          3,
          4,
          0,
          2,
          6,
          1,
          2,
          7,
          7,
          6,
          4,
          0,
          0,
          6,
          0,
          10,
          9,
          6,
          0,
          0,
          0,
          0,
          0,
          0,
          0,
          0,
          0,
          0,
          0,
          0,
          0,
          0,
          0,
          0,
          0,
          0,
          0,
          0
         ],
         "yaxis": "y"
        },
        {
         "hovertemplate": "NAMA BARANG=WALLS CORN B/WHITE 82GR<br>TANGGAL=%{x}<br>QTY=%{y}<extra></extra>",
         "legendgroup": "WALLS CORN B/WHITE 82GR",
         "line": {
          "color": "#EF553B",
          "dash": "solid"
         },
         "marker": {
          "symbol": "circle"
         },
         "mode": "lines",
         "name": "WALLS CORN B/WHITE 82GR",
         "showlegend": true,
         "type": "scattergl",
         "x": [
          "2024-01-01T00:00:00",
          "2024-01-08T00:00:00",
          "2024-01-15T00:00:00",
          "2024-01-22T00:00:00",
          "2024-01-29T00:00:00",
          "2024-02-05T00:00:00",
          "2024-02-12T00:00:00",
          "2024-02-19T00:00:00",
          "2024-02-26T00:00:00",
          "2024-03-04T00:00:00",
          "2024-03-11T00:00:00",
          "2024-03-18T00:00:00",
          "2024-03-25T00:00:00",
          "2024-04-01T00:00:00",
          "2024-04-08T00:00:00",
          "2024-04-15T00:00:00",
          "2024-04-22T00:00:00",
          "2024-04-29T00:00:00",
          "2024-05-06T00:00:00",
          "2024-05-13T00:00:00",
          "2024-05-20T00:00:00",
          "2024-05-27T00:00:00",
          "2024-06-03T00:00:00",
          "2024-06-10T00:00:00",
          "2024-06-17T00:00:00",
          "2024-06-24T00:00:00",
          "2024-07-01T00:00:00",
          "2024-07-08T00:00:00",
          "2024-07-15T00:00:00",
          "2024-07-22T00:00:00",
          "2024-07-29T00:00:00",
          "2024-08-05T00:00:00",
          "2024-08-12T00:00:00",
          "2024-08-19T00:00:00",
          "2024-08-26T00:00:00",
          "2024-09-02T00:00:00",
          "2024-09-09T00:00:00",
          "2024-09-16T00:00:00",
          "2024-09-23T00:00:00",
          "2024-09-30T00:00:00",
          "2024-10-07T00:00:00",
          "2024-10-14T00:00:00",
          "2024-10-21T00:00:00",
          "2024-10-28T00:00:00",
          "2024-11-04T00:00:00",
          "2024-11-11T00:00:00",
          "2024-11-18T00:00:00",
          "2024-11-25T00:00:00",
          "2024-12-02T00:00:00",
          "2024-12-09T00:00:00",
          "2024-12-16T00:00:00",
          "2024-12-23T00:00:00",
          "2024-12-30T00:00:00"
         ],
         "xaxis": "x",
         "y": [
          17,
          12,
          3,
          22,
          8,
          15,
          3,
          9,
          6,
          5,
          10,
          5,
          7,
          3,
          0,
          6,
          7,
          11,
          3,
          7,
          4,
          9,
          10,
          8,
          10,
          0,
          0,
          2,
          6,
          6,
          7,
          6,
          4,
          3,
          4,
          1,
          6,
          5,
          4,
          7,
          10,
          2,
          5,
          5,
          6,
          1,
          6,
          5,
          8,
          9,
          7,
          18,
          0
         ],
         "yaxis": "y"
        },
        {
         "hovertemplate": "NAMA BARANG=WALLS CORN STRW VANILA<br>TANGGAL=%{x}<br>QTY=%{y}<extra></extra>",
         "legendgroup": "WALLS CORN STRW VANILA",
         "line": {
          "color": "#00cc96",
          "dash": "solid"
         },
         "marker": {
          "symbol": "circle"
         },
         "mode": "lines",
         "name": "WALLS CORN STRW VANILA",
         "showlegend": true,
         "type": "scattergl",
         "x": [
          "2024-01-01T00:00:00",
          "2024-01-08T00:00:00",
          "2024-01-15T00:00:00",
          "2024-01-22T00:00:00",
          "2024-01-29T00:00:00",
          "2024-02-05T00:00:00",
          "2024-02-12T00:00:00",
          "2024-02-19T00:00:00",
          "2024-02-26T00:00:00",
          "2024-03-04T00:00:00",
          "2024-03-11T00:00:00",
          "2024-03-18T00:00:00",
          "2024-03-25T00:00:00",
          "2024-04-01T00:00:00",
          "2024-04-08T00:00:00",
          "2024-04-15T00:00:00",
          "2024-04-22T00:00:00",
          "2024-04-29T00:00:00",
          "2024-05-06T00:00:00",
          "2024-05-13T00:00:00",
          "2024-05-20T00:00:00",
          "2024-05-27T00:00:00",
          "2024-06-03T00:00:00",
          "2024-06-10T00:00:00",
          "2024-06-17T00:00:00",
          "2024-06-24T00:00:00",
          "2024-07-01T00:00:00",
          "2024-07-08T00:00:00",
          "2024-07-15T00:00:00",
          "2024-07-22T00:00:00",
          "2024-07-29T00:00:00",
          "2024-08-05T00:00:00",
          "2024-08-12T00:00:00",
          "2024-08-19T00:00:00",
          "2024-08-26T00:00:00",
          "2024-09-02T00:00:00",
          "2024-09-09T00:00:00",
          "2024-09-16T00:00:00",
          "2024-09-23T00:00:00",
          "2024-09-30T00:00:00",
          "2024-10-07T00:00:00",
          "2024-10-14T00:00:00",
          "2024-10-21T00:00:00",
          "2024-10-28T00:00:00",
          "2024-11-04T00:00:00",
          "2024-11-11T00:00:00",
          "2024-11-18T00:00:00",
          "2024-11-25T00:00:00",
          "2024-12-02T00:00:00",
          "2024-12-09T00:00:00",
          "2024-12-16T00:00:00",
          "2024-12-23T00:00:00",
          "2024-12-30T00:00:00"
         ],
         "xaxis": "x",
         "y": [
          2,
          4,
          0,
          5,
          2,
          1,
          2,
          3,
          3,
          1,
          0,
          5,
          2,
          0,
          1,
          5,
          6,
          1,
          7,
          5,
          1,
          4,
          0,
          0,
          0,
          2,
          3,
          0,
          2,
          5,
          0,
          2,
          2,
          0,
          1,
          1,
          0,
          0,
          2,
          0,
          5,
          2,
          0,
          0,
          7,
          0,
          4,
          1,
          0,
          2,
          0,
          5,
          0
         ],
         "yaxis": "y"
        },
        {
         "hovertemplate": "NAMA BARANG=WALLS POPULAIRE CKL<br>TANGGAL=%{x}<br>QTY=%{y}<extra></extra>",
         "legendgroup": "WALLS POPULAIRE CKL",
         "line": {
          "color": "#ab63fa",
          "dash": "solid"
         },
         "marker": {
          "symbol": "circle"
         },
         "mode": "lines",
         "name": "WALLS POPULAIRE CKL",
         "showlegend": true,
         "type": "scattergl",
         "x": [
          "2024-01-01T00:00:00",
          "2024-01-08T00:00:00",
          "2024-01-15T00:00:00",
          "2024-01-22T00:00:00",
          "2024-01-29T00:00:00",
          "2024-02-05T00:00:00",
          "2024-02-12T00:00:00",
          "2024-02-19T00:00:00",
          "2024-02-26T00:00:00",
          "2024-03-04T00:00:00",
          "2024-03-11T00:00:00",
          "2024-03-18T00:00:00",
          "2024-03-25T00:00:00",
          "2024-04-01T00:00:00",
          "2024-04-08T00:00:00",
          "2024-04-15T00:00:00",
          "2024-04-22T00:00:00",
          "2024-04-29T00:00:00",
          "2024-05-06T00:00:00",
          "2024-05-13T00:00:00",
          "2024-05-20T00:00:00",
          "2024-05-27T00:00:00",
          "2024-06-03T00:00:00",
          "2024-06-10T00:00:00",
          "2024-06-17T00:00:00",
          "2024-06-24T00:00:00",
          "2024-07-01T00:00:00",
          "2024-07-08T00:00:00",
          "2024-07-15T00:00:00",
          "2024-07-22T00:00:00",
          "2024-07-29T00:00:00",
          "2024-08-05T00:00:00",
          "2024-08-12T00:00:00",
          "2024-08-19T00:00:00",
          "2024-08-26T00:00:00",
          "2024-09-02T00:00:00",
          "2024-09-09T00:00:00",
          "2024-09-16T00:00:00",
          "2024-09-23T00:00:00",
          "2024-09-30T00:00:00",
          "2024-10-07T00:00:00",
          "2024-10-14T00:00:00",
          "2024-10-21T00:00:00",
          "2024-10-28T00:00:00",
          "2024-11-04T00:00:00",
          "2024-11-11T00:00:00",
          "2024-11-18T00:00:00",
          "2024-11-25T00:00:00",
          "2024-12-02T00:00:00",
          "2024-12-09T00:00:00",
          "2024-12-16T00:00:00",
          "2024-12-23T00:00:00",
          "2024-12-30T00:00:00"
         ],
         "xaxis": "x",
         "y": [
          10,
          3,
          7,
          7,
          8,
          4,
          9,
          5,
          5,
          5,
          6,
          1,
          9,
          8,
          4,
          11,
          7,
          6,
          11,
          6,
          3,
          5,
          3,
          6,
          14,
          10,
          11,
          8,
          3,
          3,
          4,
          7,
          10,
          4,
          4,
          8,
          6,
          5,
          9,
          3,
          6,
          3,
          6,
          8,
          7,
          4,
          7,
          4,
          4,
          5,
          5,
          10,
          9
         ],
         "yaxis": "y"
        },
        {
         "hovertemplate": "NAMA BARANG=WALLS POPULAIRE STR<br>TANGGAL=%{x}<br>QTY=%{y}<extra></extra>",
         "legendgroup": "WALLS POPULAIRE STR",
         "line": {
          "color": "#FFA15A",
          "dash": "solid"
         },
         "marker": {
          "symbol": "circle"
         },
         "mode": "lines",
         "name": "WALLS POPULAIRE STR",
         "showlegend": true,
         "type": "scattergl",
         "x": [
          "2024-01-01T00:00:00",
          "2024-01-08T00:00:00",
          "2024-01-15T00:00:00",
          "2024-01-22T00:00:00",
          "2024-01-29T00:00:00",
          "2024-02-05T00:00:00",
          "2024-02-12T00:00:00",
          "2024-02-19T00:00:00",
          "2024-02-26T00:00:00",
          "2024-03-04T00:00:00",
          "2024-03-11T00:00:00",
          "2024-03-18T00:00:00",
          "2024-03-25T00:00:00",
          "2024-04-01T00:00:00",
          "2024-04-08T00:00:00",
          "2024-04-15T00:00:00",
          "2024-04-22T00:00:00",
          "2024-04-29T00:00:00",
          "2024-05-06T00:00:00",
          "2024-05-13T00:00:00",
          "2024-05-20T00:00:00",
          "2024-05-27T00:00:00",
          "2024-06-03T00:00:00",
          "2024-06-10T00:00:00",
          "2024-06-17T00:00:00",
          "2024-06-24T00:00:00",
          "2024-07-01T00:00:00",
          "2024-07-08T00:00:00",
          "2024-07-15T00:00:00",
          "2024-07-22T00:00:00",
          "2024-07-29T00:00:00",
          "2024-08-05T00:00:00",
          "2024-08-12T00:00:00",
          "2024-08-19T00:00:00",
          "2024-08-26T00:00:00",
          "2024-09-02T00:00:00",
          "2024-09-09T00:00:00",
          "2024-09-16T00:00:00",
          "2024-09-23T00:00:00",
          "2024-09-30T00:00:00",
          "2024-10-07T00:00:00",
          "2024-10-14T00:00:00",
          "2024-10-21T00:00:00",
          "2024-10-28T00:00:00",
          "2024-11-04T00:00:00",
          "2024-11-11T00:00:00",
          "2024-11-18T00:00:00",
          "2024-11-25T00:00:00",
          "2024-12-02T00:00:00",
          "2024-12-09T00:00:00",
          "2024-12-16T00:00:00",
          "2024-12-23T00:00:00",
          "2024-12-30T00:00:00"
         ],
         "xaxis": "x",
         "y": [
          4,
          4,
          7,
          6,
          5,
          6,
          7,
          7,
          2,
          13,
          10,
          4,
          5,
          3,
          3,
          6,
          5,
          10,
          6,
          10,
          6,
          5,
          9,
          4,
          12,
          9,
          12,
          4,
          7,
          1,
          9,
          10,
          9,
          1,
          9,
          8,
          5,
          6,
          9,
          2,
          7,
          6,
          5,
          12,
          5,
          4,
          10,
          3,
          6,
          5,
          3,
          5,
          1
         ],
         "yaxis": "y"
        }
       ],
       "layout": {
        "legend": {
         "title": {
          "text": "Klik untuk tampilkan/sembunyikan item"
         },
         "tracegroupgap": 0
        },
        "template": {
         "data": {
          "bar": [
           {
            "error_x": {
             "color": "#2a3f5f"
            },
            "error_y": {
             "color": "#2a3f5f"
            },
            "marker": {
             "line": {
              "color": "#E5ECF6",
              "width": 0.5
             },
             "pattern": {
              "fillmode": "overlay",
              "size": 10,
              "solidity": 0.2
             }
            },
            "type": "bar"
           }
          ],
          "barpolar": [
           {
            "marker": {
             "line": {
              "color": "#E5ECF6",
              "width": 0.5
             },
             "pattern": {
              "fillmode": "overlay",
              "size": 10,
              "solidity": 0.2
             }
            },
            "type": "barpolar"
           }
          ],
          "carpet": [
           {
            "aaxis": {
             "endlinecolor": "#2a3f5f",
             "gridcolor": "white",
             "linecolor": "white",
             "minorgridcolor": "white",
             "startlinecolor": "#2a3f5f"
            },
            "baxis": {
             "endlinecolor": "#2a3f5f",
             "gridcolor": "white",
             "linecolor": "white",
             "minorgridcolor": "white",
             "startlinecolor": "#2a3f5f"
            },
            "type": "carpet"
           }
          ],
          "choropleth": [
           {
            "colorbar": {
             "outlinewidth": 0,
             "ticks": ""
            },
            "type": "choropleth"
           }
          ],
          "contour": [
           {
            "colorbar": {
             "outlinewidth": 0,
             "ticks": ""
            },
            "colorscale": [
             [
              0,
              "#0d0887"
             ],
             [
              0.1111111111111111,
              "#46039f"
             ],
             [
              0.2222222222222222,
              "#7201a8"
             ],
             [
              0.3333333333333333,
              "#9c179e"
             ],
             [
              0.4444444444444444,
              "#bd3786"
             ],
             [
              0.5555555555555556,
              "#d8576b"
             ],
             [
              0.6666666666666666,
              "#ed7953"
             ],
             [
              0.7777777777777778,
              "#fb9f3a"
             ],
             [
              0.8888888888888888,
              "#fdca26"
             ],
             [
              1,
              "#f0f921"
             ]
            ],
            "type": "contour"
           }
          ],
          "contourcarpet": [
           {
            "colorbar": {
             "outlinewidth": 0,
             "ticks": ""
            },
            "type": "contourcarpet"
           }
          ],
          "heatmap": [
           {
            "colorbar": {
             "outlinewidth": 0,
             "ticks": ""
            },
            "colorscale": [
             [
              0,
              "#0d0887"
             ],
             [
              0.1111111111111111,
              "#46039f"
             ],
             [
              0.2222222222222222,
              "#7201a8"
             ],
             [
              0.3333333333333333,
              "#9c179e"
             ],
             [
              0.4444444444444444,
              "#bd3786"
             ],
             [
              0.5555555555555556,
              "#d8576b"
             ],
             [
              0.6666666666666666,
              "#ed7953"
             ],
             [
              0.7777777777777778,
              "#fb9f3a"
             ],
             [
              0.8888888888888888,
              "#fdca26"
             ],
             [
              1,
              "#f0f921"
             ]
            ],
            "type": "heatmap"
           }
          ],
          "heatmapgl": [
           {
            "colorbar": {
             "outlinewidth": 0,
             "ticks": ""
            },
            "colorscale": [
             [
              0,
              "#0d0887"
             ],
             [
              0.1111111111111111,
              "#46039f"
             ],
             [
              0.2222222222222222,
              "#7201a8"
             ],
             [
              0.3333333333333333,
              "#9c179e"
             ],
             [
              0.4444444444444444,
              "#bd3786"
             ],
             [
              0.5555555555555556,
              "#d8576b"
             ],
             [
              0.6666666666666666,
              "#ed7953"
             ],
             [
              0.7777777777777778,
              "#fb9f3a"
             ],
             [
              0.8888888888888888,
              "#fdca26"
             ],
             [
              1,
              "#f0f921"
             ]
            ],
            "type": "heatmapgl"
           }
          ],
          "histogram": [
           {
            "marker": {
             "pattern": {
              "fillmode": "overlay",
              "size": 10,
              "solidity": 0.2
             }
            },
            "type": "histogram"
           }
          ],
          "histogram2d": [
           {
            "colorbar": {
             "outlinewidth": 0,
             "ticks": ""
            },
            "colorscale": [
             [
              0,
              "#0d0887"
             ],
             [
              0.1111111111111111,
              "#46039f"
             ],
             [
              0.2222222222222222,
              "#7201a8"
             ],
             [
              0.3333333333333333,
              "#9c179e"
             ],
             [
              0.4444444444444444,
              "#bd3786"
             ],
             [
              0.5555555555555556,
              "#d8576b"
             ],
             [
              0.6666666666666666,
              "#ed7953"
             ],
             [
              0.7777777777777778,
              "#fb9f3a"
             ],
             [
              0.8888888888888888,
              "#fdca26"
             ],
             [
              1,
              "#f0f921"
             ]
            ],
            "type": "histogram2d"
           }
          ],
          "histogram2dcontour": [
           {
            "colorbar": {
             "outlinewidth": 0,
             "ticks": ""
            },
            "colorscale": [
             [
              0,
              "#0d0887"
             ],
             [
              0.1111111111111111,
              "#46039f"
             ],
             [
              0.2222222222222222,
              "#7201a8"
             ],
             [
              0.3333333333333333,
              "#9c179e"
             ],
             [
              0.4444444444444444,
              "#bd3786"
             ],
             [
              0.5555555555555556,
              "#d8576b"
             ],
             [
              0.6666666666666666,
              "#ed7953"
             ],
             [
              0.7777777777777778,
              "#fb9f3a"
             ],
             [
              0.8888888888888888,
              "#fdca26"
             ],
             [
              1,
              "#f0f921"
             ]
            ],
            "type": "histogram2dcontour"
           }
          ],
          "mesh3d": [
           {
            "colorbar": {
             "outlinewidth": 0,
             "ticks": ""
            },
            "type": "mesh3d"
           }
          ],
          "parcoords": [
           {
            "line": {
             "colorbar": {
              "outlinewidth": 0,
              "ticks": ""
             }
            },
            "type": "parcoords"
           }
          ],
          "pie": [
           {
            "automargin": true,
            "type": "pie"
           }
          ],
          "scatter": [
           {
            "fillpattern": {
             "fillmode": "overlay",
             "size": 10,
             "solidity": 0.2
            },
            "type": "scatter"
           }
          ],
          "scatter3d": [
           {
            "line": {
             "colorbar": {
              "outlinewidth": 0,
              "ticks": ""
             }
            },
            "marker": {
             "colorbar": {
              "outlinewidth": 0,
              "ticks": ""
             }
            },
            "type": "scatter3d"
           }
          ],
          "scattercarpet": [
           {
            "marker": {
             "colorbar": {
              "outlinewidth": 0,
              "ticks": ""
             }
            },
            "type": "scattercarpet"
           }
          ],
          "scattergeo": [
           {
            "marker": {
             "colorbar": {
              "outlinewidth": 0,
              "ticks": ""
             }
            },
            "type": "scattergeo"
           }
          ],
          "scattergl": [
           {
            "marker": {
             "colorbar": {
              "outlinewidth": 0,
              "ticks": ""
             }
            },
            "type": "scattergl"
           }
          ],
          "scattermapbox": [
           {
            "marker": {
             "colorbar": {
              "outlinewidth": 0,
              "ticks": ""
             }
            },
            "type": "scattermapbox"
           }
          ],
          "scatterpolar": [
           {
            "marker": {
             "colorbar": {
              "outlinewidth": 0,
              "ticks": ""
             }
            },
            "type": "scatterpolar"
           }
          ],
          "scatterpolargl": [
           {
            "marker": {
             "colorbar": {
              "outlinewidth": 0,
              "ticks": ""
             }
            },
            "type": "scatterpolargl"
           }
          ],
          "scatterternary": [
           {
            "marker": {
             "colorbar": {
              "outlinewidth": 0,
              "ticks": ""
             }
            },
            "type": "scatterternary"
           }
          ],
          "surface": [
           {
            "colorbar": {
             "outlinewidth": 0,
             "ticks": ""
            },
            "colorscale": [
             [
              0,
              "#0d0887"
             ],
             [
              0.1111111111111111,
              "#46039f"
             ],
             [
              0.2222222222222222,
              "#7201a8"
             ],
             [
              0.3333333333333333,
              "#9c179e"
             ],
             [
              0.4444444444444444,
              "#bd3786"
             ],
             [
              0.5555555555555556,
              "#d8576b"
             ],
             [
              0.6666666666666666,
              "#ed7953"
             ],
             [
              0.7777777777777778,
              "#fb9f3a"
             ],
             [
              0.8888888888888888,
              "#fdca26"
             ],
             [
              1,
              "#f0f921"
             ]
            ],
            "type": "surface"
           }
          ],
          "table": [
           {
            "cells": {
             "fill": {
              "color": "#EBF0F8"
             },
             "line": {
              "color": "white"
             }
            },
            "header": {
             "fill": {
              "color": "#C8D4E3"
             },
             "line": {
              "color": "white"
             }
            },
            "type": "table"
           }
          ]
         },
         "layout": {
          "annotationdefaults": {
           "arrowcolor": "#2a3f5f",
           "arrowhead": 0,
           "arrowwidth": 1
          },
          "autotypenumbers": "strict",
          "coloraxis": {
           "colorbar": {
            "outlinewidth": 0,
            "ticks": ""
           }
          },
          "colorscale": {
           "diverging": [
            [
             0,
             "#8e0152"
            ],
            [
             0.1,
             "#c51b7d"
            ],
            [
             0.2,
             "#de77ae"
            ],
            [
             0.3,
             "#f1b6da"
            ],
            [
             0.4,
             "#fde0ef"
            ],
            [
             0.5,
             "#f7f7f7"
            ],
            [
             0.6,
             "#e6f5d0"
            ],
            [
             0.7,
             "#b8e186"
            ],
            [
             0.8,
             "#7fbc41"
            ],
            [
             0.9,
             "#4d9221"
            ],
            [
             1,
             "#276419"
            ]
           ],
           "sequential": [
            [
             0,
             "#0d0887"
            ],
            [
             0.1111111111111111,
             "#46039f"
            ],
            [
             0.2222222222222222,
             "#7201a8"
            ],
            [
             0.3333333333333333,
             "#9c179e"
            ],
            [
             0.4444444444444444,
             "#bd3786"
            ],
            [
             0.5555555555555556,
             "#d8576b"
            ],
            [
             0.6666666666666666,
             "#ed7953"
            ],
            [
             0.7777777777777778,
             "#fb9f3a"
            ],
            [
             0.8888888888888888,
             "#fdca26"
            ],
            [
             1,
             "#f0f921"
            ]
           ],
           "sequentialminus": [
            [
             0,
             "#0d0887"
            ],
            [
             0.1111111111111111,
             "#46039f"
            ],
            [
             0.2222222222222222,
             "#7201a8"
            ],
            [
             0.3333333333333333,
             "#9c179e"
            ],
            [
             0.4444444444444444,
             "#bd3786"
            ],
            [
             0.5555555555555556,
             "#d8576b"
            ],
            [
             0.6666666666666666,
             "#ed7953"
            ],
            [
             0.7777777777777778,
             "#fb9f3a"
            ],
            [
             0.8888888888888888,
             "#fdca26"
            ],
            [
             1,
             "#f0f921"
            ]
           ]
          },
          "colorway": [
           "#636efa",
           "#EF553B",
           "#00cc96",
           "#ab63fa",
           "#FFA15A",
           "#19d3f3",
           "#FF6692",
           "#B6E880",
           "#FF97FF",
           "#FECB52"
          ],
          "font": {
           "color": "#2a3f5f"
          },
          "geo": {
           "bgcolor": "white",
           "lakecolor": "white",
           "landcolor": "#E5ECF6",
           "showlakes": true,
           "showland": true,
           "subunitcolor": "white"
          },
          "hoverlabel": {
           "align": "left"
          },
          "hovermode": "closest",
          "mapbox": {
           "style": "light"
          },
          "paper_bgcolor": "white",
          "plot_bgcolor": "#E5ECF6",
          "polar": {
           "angularaxis": {
            "gridcolor": "white",
            "linecolor": "white",
            "ticks": ""
           },
           "bgcolor": "#E5ECF6",
           "radialaxis": {
            "gridcolor": "white",
            "linecolor": "white",
            "ticks": ""
           }
          },
          "scene": {
           "xaxis": {
            "backgroundcolor": "#E5ECF6",
            "gridcolor": "white",
            "gridwidth": 2,
            "linecolor": "white",
            "showbackground": true,
            "ticks": "",
            "zerolinecolor": "white"
           },
           "yaxis": {
            "backgroundcolor": "#E5ECF6",
            "gridcolor": "white",
            "gridwidth": 2,
            "linecolor": "white",
            "showbackground": true,
            "ticks": "",
            "zerolinecolor": "white"
           },
           "zaxis": {
            "backgroundcolor": "#E5ECF6",
            "gridcolor": "white",
            "gridwidth": 2,
            "linecolor": "white",
            "showbackground": true,
            "ticks": "",
            "zerolinecolor": "white"
           }
          },
          "shapedefaults": {
           "line": {
            "color": "#2a3f5f"
           }
          },
          "ternary": {
           "aaxis": {
            "gridcolor": "white",
            "linecolor": "white",
            "ticks": ""
           },
           "baxis": {
            "gridcolor": "white",
            "linecolor": "white",
            "ticks": ""
           },
           "bgcolor": "#E5ECF6",
           "caxis": {
            "gridcolor": "white",
            "linecolor": "white",
            "ticks": ""
           }
          },
          "title": {
           "x": 0.05
          },
          "xaxis": {
           "automargin": true,
           "gridcolor": "white",
           "linecolor": "white",
           "ticks": "",
           "title": {
            "standoff": 15
           },
           "zerolinecolor": "white",
           "zerolinewidth": 2
          },
          "yaxis": {
           "automargin": true,
           "gridcolor": "white",
           "linecolor": "white",
           "ticks": "",
           "title": {
            "standoff": 15
           },
           "zerolinecolor": "white",
           "zerolinewidth": 2
          }
         }
        },
        "title": {
         "text": "Jumlah Penjualan per Minggu (Setiap 7 Hari)"
        },
        "xaxis": {
         "anchor": "y",
         "domain": [
          0,
          1
         ],
         "title": {
          "text": "TANGGAL"
         }
        },
        "yaxis": {
         "anchor": "x",
         "domain": [
          0,
          1
         ],
         "title": {
          "text": "QTY"
         }
        }
       }
      }
     },
     "metadata": {},
     "output_type": "display_data"
    }
   ],
   "source": [
    "# Agregasi jumlah QTY per tanggal dan nama barang\n",
    "df_grouped = df_filtered.groupby(['TANGGAL', 'NAMA BARANG'], as_index=False)['QTY'].sum()\n",
    "\n",
    "tanggal_range = pd.date_range(start='2024-01-01', end='2024-12-31')\n",
    "all_items = df_filtered['NAMA BARANG'].unique()\n",
    "\n",
    "# Buat kombinasi semua tanggal dan item\n",
    "multi_index = pd.MultiIndex.from_product([tanggal_range, all_items], names=['TANGGAL', 'NAMA BARANG'])\n",
    "all_combinations = pd.DataFrame(index=multi_index).reset_index()\n",
    "\n",
    "# Gabungkan dengan hasil groupby\n",
    "df_joined = pd.merge(all_combinations, df_grouped, on=['TANGGAL', 'NAMA BARANG'], how='left')\n",
    "df_joined['QTY'] = df_joined['QTY'].fillna(0)\n",
    "\n",
    "# Pastikan TANGGAL dalam datetime\n",
    "df_joined['TANGGAL'] = pd.to_datetime(df_joined['TANGGAL'])\n",
    "\n",
    "# Urutkan dulu datanya\n",
    "df_joined = df_joined.sort_values('TANGGAL')\n",
    "\n",
    "# Ambil tanggal paling awal\n",
    "start_date = df_joined['TANGGAL'].min()\n",
    "\n",
    "# Hitung minggu ke-n secara manual (tiap 7 hari)\n",
    "df_joined['WEEK_NUMBER'] = ((df_joined['TANGGAL'] - start_date).dt.days // 7) + 1\n",
    "\n",
    "# Agregasi berdasarkan minggu dan nama barang\n",
    "df_weekly = df_joined.groupby(['WEEK_NUMBER', 'NAMA BARANG'], as_index=False)['QTY'].sum()\n",
    "\n",
    "# (Opsional) Tambahkan kolom tanggal mulai minggu\n",
    "df_weekly['TANGGAL'] = start_date + pd.to_timedelta((df_weekly['WEEK_NUMBER'] - 1) * 7, unit='D')\n",
    "\n",
    "# Visualisasi\n",
    "fig = px.line(df_weekly, x='TANGGAL', y='QTY', color='NAMA BARANG',\n",
    "              title='Jumlah Penjualan per Minggu (Setiap 7 Hari)')\n",
    "fig.update_layout(legend_title_text='Klik untuk tampilkan/sembunyikan item')\n",
    "fig.show()"
   ]
  },
  {
   "cell_type": "code",
   "execution_count": 9,
   "id": "751cc0f0",
   "metadata": {},
   "outputs": [
    {
     "data": {
      "text/html": [
       "<div>\n",
       "<style scoped>\n",
       "    .dataframe tbody tr th:only-of-type {\n",
       "        vertical-align: middle;\n",
       "    }\n",
       "\n",
       "    .dataframe tbody tr th {\n",
       "        vertical-align: top;\n",
       "    }\n",
       "\n",
       "    .dataframe thead th {\n",
       "        text-align: right;\n",
       "    }\n",
       "</style>\n",
       "<table border=\"1\" class=\"dataframe\">\n",
       "  <thead>\n",
       "    <tr style=\"text-align: right;\">\n",
       "      <th></th>\n",
       "      <th>WEEK_NUMBER</th>\n",
       "      <th>NAMA BARANG</th>\n",
       "      <th>QTY</th>\n",
       "      <th>TANGGAL</th>\n",
       "    </tr>\n",
       "  </thead>\n",
       "  <tbody>\n",
       "    <tr>\n",
       "      <th>0</th>\n",
       "      <td>1</td>\n",
       "      <td>ADEM SARI CHINGKU MD LMN 350ML</td>\n",
       "      <td>0.0</td>\n",
       "      <td>2024-01-01</td>\n",
       "    </tr>\n",
       "    <tr>\n",
       "      <th>1</th>\n",
       "      <td>1</td>\n",
       "      <td>ATTACK JAZ 1 CINTA 1 6 KG</td>\n",
       "      <td>10.0</td>\n",
       "      <td>2024-01-01</td>\n",
       "    </tr>\n",
       "    <tr>\n",
       "      <th>2</th>\n",
       "      <td>1</td>\n",
       "      <td>BISKUAT BOLU CKL 16GR</td>\n",
       "      <td>5.0</td>\n",
       "      <td>2024-01-01</td>\n",
       "    </tr>\n",
       "    <tr>\n",
       "      <th>3</th>\n",
       "      <td>1</td>\n",
       "      <td>CLOUD 9 CHOCO 15 4G</td>\n",
       "      <td>3.0</td>\n",
       "      <td>2024-01-01</td>\n",
       "    </tr>\n",
       "    <tr>\n",
       "      <th>4</th>\n",
       "      <td>1</td>\n",
       "      <td>CLOUD 9 VANILA 15 4G</td>\n",
       "      <td>4.0</td>\n",
       "      <td>2024-01-01</td>\n",
       "    </tr>\n",
       "    <tr>\n",
       "      <th>...</th>\n",
       "      <td>...</td>\n",
       "      <td>...</td>\n",
       "      <td>...</td>\n",
       "      <td>...</td>\n",
       "    </tr>\n",
       "    <tr>\n",
       "      <th>2380</th>\n",
       "      <td>53</td>\n",
       "      <td>TEH GELAS ORI 170ML</td>\n",
       "      <td>0.0</td>\n",
       "      <td>2024-12-30</td>\n",
       "    </tr>\n",
       "    <tr>\n",
       "      <th>2381</th>\n",
       "      <td>53</td>\n",
       "      <td>WALLS CORN B/WHITE 82GR</td>\n",
       "      <td>0.0</td>\n",
       "      <td>2024-12-30</td>\n",
       "    </tr>\n",
       "    <tr>\n",
       "      <th>2382</th>\n",
       "      <td>53</td>\n",
       "      <td>WALLS CORN STRW VANILA</td>\n",
       "      <td>0.0</td>\n",
       "      <td>2024-12-30</td>\n",
       "    </tr>\n",
       "    <tr>\n",
       "      <th>2383</th>\n",
       "      <td>53</td>\n",
       "      <td>WALLS POPULAIRE CKL</td>\n",
       "      <td>9.0</td>\n",
       "      <td>2024-12-30</td>\n",
       "    </tr>\n",
       "    <tr>\n",
       "      <th>2384</th>\n",
       "      <td>53</td>\n",
       "      <td>WALLS POPULAIRE STR</td>\n",
       "      <td>1.0</td>\n",
       "      <td>2024-12-30</td>\n",
       "    </tr>\n",
       "  </tbody>\n",
       "</table>\n",
       "<p>2385 rows × 4 columns</p>\n",
       "</div>"
      ],
      "text/plain": [
       "      WEEK_NUMBER                     NAMA BARANG   QTY    TANGGAL\n",
       "0               1  ADEM SARI CHINGKU MD LMN 350ML   0.0 2024-01-01\n",
       "1               1       ATTACK JAZ 1 CINTA 1 6 KG  10.0 2024-01-01\n",
       "2               1           BISKUAT BOLU CKL 16GR   5.0 2024-01-01\n",
       "3               1             CLOUD 9 CHOCO 15 4G   3.0 2024-01-01\n",
       "4               1            CLOUD 9 VANILA 15 4G   4.0 2024-01-01\n",
       "...           ...                             ...   ...        ...\n",
       "2380           53             TEH GELAS ORI 170ML   0.0 2024-12-30\n",
       "2381           53         WALLS CORN B/WHITE 82GR   0.0 2024-12-30\n",
       "2382           53          WALLS CORN STRW VANILA   0.0 2024-12-30\n",
       "2383           53             WALLS POPULAIRE CKL   9.0 2024-12-30\n",
       "2384           53             WALLS POPULAIRE STR   1.0 2024-12-30\n",
       "\n",
       "[2385 rows x 4 columns]"
      ]
     },
     "execution_count": 9,
     "metadata": {},
     "output_type": "execute_result"
    }
   ],
   "source": [
    "df_weekly"
   ]
  },
  {
   "cell_type": "markdown",
   "id": "bff02c0c",
   "metadata": {},
   "source": [
    "### **Pivot Data**"
   ]
  },
  {
   "cell_type": "code",
   "execution_count": 10,
   "id": "35339835",
   "metadata": {},
   "outputs": [
    {
     "data": {
      "text/html": [
       "<div>\n",
       "<style scoped>\n",
       "    .dataframe tbody tr th:only-of-type {\n",
       "        vertical-align: middle;\n",
       "    }\n",
       "\n",
       "    .dataframe tbody tr th {\n",
       "        vertical-align: top;\n",
       "    }\n",
       "\n",
       "    .dataframe thead th {\n",
       "        text-align: right;\n",
       "    }\n",
       "</style>\n",
       "<table border=\"1\" class=\"dataframe\">\n",
       "  <thead>\n",
       "    <tr style=\"text-align: right;\">\n",
       "      <th></th>\n",
       "      <th>TANGGAL</th>\n",
       "      <th>ADEM SARI CHINGKU MD LMN 350ML</th>\n",
       "      <th>ATTACK JAZ 1 CINTA 1 6 KG</th>\n",
       "      <th>BISKUAT BOLU CKL 16GR</th>\n",
       "      <th>CLOUD 9 CHOCO 15 4G</th>\n",
       "      <th>CLOUD 9 VANILA 15 4G</th>\n",
       "      <th>DAIA LEMON 65GR</th>\n",
       "      <th>DELFI TOP B/WHITE 9GR</th>\n",
       "      <th>DELFI TOP CHO 9GR</th>\n",
       "      <th>DELFI TOP STR 9GR</th>\n",
       "      <th>...</th>\n",
       "      <th>SEDAAP MIE CUP BASO SPC</th>\n",
       "      <th>SEDAAP MIE CUP KARE</th>\n",
       "      <th>SEDAAP MIE CUP SOTO</th>\n",
       "      <th>SEDAAP MIE SOTO</th>\n",
       "      <th>SOKLIN LIQ LAVENDER 625ML</th>\n",
       "      <th>TEH GELAS ORI 170ML</th>\n",
       "      <th>WALLS CORN B/WHITE 82GR</th>\n",
       "      <th>WALLS CORN STRW VANILA</th>\n",
       "      <th>WALLS POPULAIRE CKL</th>\n",
       "      <th>WALLS POPULAIRE STR</th>\n",
       "    </tr>\n",
       "  </thead>\n",
       "  <tbody>\n",
       "    <tr>\n",
       "      <th>0</th>\n",
       "      <td>2024-01-01</td>\n",
       "      <td>0.0</td>\n",
       "      <td>10.0</td>\n",
       "      <td>5.0</td>\n",
       "      <td>3.0</td>\n",
       "      <td>4.0</td>\n",
       "      <td>5.0</td>\n",
       "      <td>6.0</td>\n",
       "      <td>8.0</td>\n",
       "      <td>5.0</td>\n",
       "      <td>...</td>\n",
       "      <td>0.0</td>\n",
       "      <td>2.0</td>\n",
       "      <td>5.0</td>\n",
       "      <td>38.0</td>\n",
       "      <td>2.0</td>\n",
       "      <td>3.0</td>\n",
       "      <td>17.0</td>\n",
       "      <td>2.0</td>\n",
       "      <td>10.0</td>\n",
       "      <td>4.0</td>\n",
       "    </tr>\n",
       "    <tr>\n",
       "      <th>1</th>\n",
       "      <td>2024-01-08</td>\n",
       "      <td>10.0</td>\n",
       "      <td>0.0</td>\n",
       "      <td>4.0</td>\n",
       "      <td>7.0</td>\n",
       "      <td>1.0</td>\n",
       "      <td>2.0</td>\n",
       "      <td>7.0</td>\n",
       "      <td>4.0</td>\n",
       "      <td>4.0</td>\n",
       "      <td>...</td>\n",
       "      <td>2.0</td>\n",
       "      <td>3.0</td>\n",
       "      <td>1.0</td>\n",
       "      <td>16.0</td>\n",
       "      <td>2.0</td>\n",
       "      <td>5.0</td>\n",
       "      <td>12.0</td>\n",
       "      <td>4.0</td>\n",
       "      <td>3.0</td>\n",
       "      <td>4.0</td>\n",
       "    </tr>\n",
       "    <tr>\n",
       "      <th>2</th>\n",
       "      <td>2024-01-15</td>\n",
       "      <td>8.0</td>\n",
       "      <td>0.0</td>\n",
       "      <td>7.0</td>\n",
       "      <td>5.0</td>\n",
       "      <td>7.0</td>\n",
       "      <td>0.0</td>\n",
       "      <td>3.0</td>\n",
       "      <td>1.0</td>\n",
       "      <td>3.0</td>\n",
       "      <td>...</td>\n",
       "      <td>2.0</td>\n",
       "      <td>3.0</td>\n",
       "      <td>2.0</td>\n",
       "      <td>20.0</td>\n",
       "      <td>0.0</td>\n",
       "      <td>4.0</td>\n",
       "      <td>3.0</td>\n",
       "      <td>0.0</td>\n",
       "      <td>7.0</td>\n",
       "      <td>7.0</td>\n",
       "    </tr>\n",
       "    <tr>\n",
       "      <th>3</th>\n",
       "      <td>2024-01-22</td>\n",
       "      <td>2.0</td>\n",
       "      <td>1.0</td>\n",
       "      <td>5.0</td>\n",
       "      <td>5.0</td>\n",
       "      <td>7.0</td>\n",
       "      <td>2.0</td>\n",
       "      <td>4.0</td>\n",
       "      <td>2.0</td>\n",
       "      <td>0.0</td>\n",
       "      <td>...</td>\n",
       "      <td>2.0</td>\n",
       "      <td>2.0</td>\n",
       "      <td>0.0</td>\n",
       "      <td>32.0</td>\n",
       "      <td>1.0</td>\n",
       "      <td>10.0</td>\n",
       "      <td>22.0</td>\n",
       "      <td>5.0</td>\n",
       "      <td>7.0</td>\n",
       "      <td>6.0</td>\n",
       "    </tr>\n",
       "    <tr>\n",
       "      <th>4</th>\n",
       "      <td>2024-01-29</td>\n",
       "      <td>0.0</td>\n",
       "      <td>5.0</td>\n",
       "      <td>0.0</td>\n",
       "      <td>10.0</td>\n",
       "      <td>7.0</td>\n",
       "      <td>3.0</td>\n",
       "      <td>9.0</td>\n",
       "      <td>10.0</td>\n",
       "      <td>5.0</td>\n",
       "      <td>...</td>\n",
       "      <td>2.0</td>\n",
       "      <td>0.0</td>\n",
       "      <td>2.0</td>\n",
       "      <td>16.0</td>\n",
       "      <td>2.0</td>\n",
       "      <td>9.0</td>\n",
       "      <td>8.0</td>\n",
       "      <td>2.0</td>\n",
       "      <td>8.0</td>\n",
       "      <td>5.0</td>\n",
       "    </tr>\n",
       "    <tr>\n",
       "      <th>5</th>\n",
       "      <td>2024-02-05</td>\n",
       "      <td>2.0</td>\n",
       "      <td>0.0</td>\n",
       "      <td>1.0</td>\n",
       "      <td>10.0</td>\n",
       "      <td>6.0</td>\n",
       "      <td>5.0</td>\n",
       "      <td>3.0</td>\n",
       "      <td>10.0</td>\n",
       "      <td>2.0</td>\n",
       "      <td>...</td>\n",
       "      <td>2.0</td>\n",
       "      <td>0.0</td>\n",
       "      <td>3.0</td>\n",
       "      <td>24.0</td>\n",
       "      <td>1.0</td>\n",
       "      <td>4.0</td>\n",
       "      <td>15.0</td>\n",
       "      <td>1.0</td>\n",
       "      <td>4.0</td>\n",
       "      <td>6.0</td>\n",
       "    </tr>\n",
       "    <tr>\n",
       "      <th>6</th>\n",
       "      <td>2024-02-12</td>\n",
       "      <td>1.0</td>\n",
       "      <td>0.0</td>\n",
       "      <td>0.0</td>\n",
       "      <td>3.0</td>\n",
       "      <td>2.0</td>\n",
       "      <td>3.0</td>\n",
       "      <td>4.0</td>\n",
       "      <td>5.0</td>\n",
       "      <td>6.0</td>\n",
       "      <td>...</td>\n",
       "      <td>2.0</td>\n",
       "      <td>3.0</td>\n",
       "      <td>2.0</td>\n",
       "      <td>16.0</td>\n",
       "      <td>0.0</td>\n",
       "      <td>5.0</td>\n",
       "      <td>3.0</td>\n",
       "      <td>2.0</td>\n",
       "      <td>9.0</td>\n",
       "      <td>7.0</td>\n",
       "    </tr>\n",
       "    <tr>\n",
       "      <th>7</th>\n",
       "      <td>2024-02-19</td>\n",
       "      <td>4.0</td>\n",
       "      <td>0.0</td>\n",
       "      <td>2.0</td>\n",
       "      <td>1.0</td>\n",
       "      <td>5.0</td>\n",
       "      <td>3.0</td>\n",
       "      <td>1.0</td>\n",
       "      <td>6.0</td>\n",
       "      <td>12.0</td>\n",
       "      <td>...</td>\n",
       "      <td>0.0</td>\n",
       "      <td>3.0</td>\n",
       "      <td>1.0</td>\n",
       "      <td>22.0</td>\n",
       "      <td>2.0</td>\n",
       "      <td>8.0</td>\n",
       "      <td>9.0</td>\n",
       "      <td>3.0</td>\n",
       "      <td>5.0</td>\n",
       "      <td>7.0</td>\n",
       "    </tr>\n",
       "    <tr>\n",
       "      <th>8</th>\n",
       "      <td>2024-02-26</td>\n",
       "      <td>1.0</td>\n",
       "      <td>6.0</td>\n",
       "      <td>3.0</td>\n",
       "      <td>2.0</td>\n",
       "      <td>3.0</td>\n",
       "      <td>0.0</td>\n",
       "      <td>6.0</td>\n",
       "      <td>17.0</td>\n",
       "      <td>9.0</td>\n",
       "      <td>...</td>\n",
       "      <td>2.0</td>\n",
       "      <td>3.0</td>\n",
       "      <td>3.0</td>\n",
       "      <td>20.0</td>\n",
       "      <td>2.0</td>\n",
       "      <td>6.0</td>\n",
       "      <td>6.0</td>\n",
       "      <td>3.0</td>\n",
       "      <td>5.0</td>\n",
       "      <td>2.0</td>\n",
       "    </tr>\n",
       "    <tr>\n",
       "      <th>9</th>\n",
       "      <td>2024-03-04</td>\n",
       "      <td>2.0</td>\n",
       "      <td>3.0</td>\n",
       "      <td>3.0</td>\n",
       "      <td>7.0</td>\n",
       "      <td>7.0</td>\n",
       "      <td>17.0</td>\n",
       "      <td>4.0</td>\n",
       "      <td>2.0</td>\n",
       "      <td>9.0</td>\n",
       "      <td>...</td>\n",
       "      <td>0.0</td>\n",
       "      <td>3.0</td>\n",
       "      <td>4.0</td>\n",
       "      <td>11.0</td>\n",
       "      <td>4.0</td>\n",
       "      <td>4.0</td>\n",
       "      <td>5.0</td>\n",
       "      <td>1.0</td>\n",
       "      <td>5.0</td>\n",
       "      <td>13.0</td>\n",
       "    </tr>\n",
       "    <tr>\n",
       "      <th>10</th>\n",
       "      <td>2024-03-11</td>\n",
       "      <td>0.0</td>\n",
       "      <td>2.0</td>\n",
       "      <td>5.0</td>\n",
       "      <td>12.0</td>\n",
       "      <td>7.0</td>\n",
       "      <td>1.0</td>\n",
       "      <td>4.0</td>\n",
       "      <td>4.0</td>\n",
       "      <td>5.0</td>\n",
       "      <td>...</td>\n",
       "      <td>0.0</td>\n",
       "      <td>2.0</td>\n",
       "      <td>0.0</td>\n",
       "      <td>22.0</td>\n",
       "      <td>3.0</td>\n",
       "      <td>0.0</td>\n",
       "      <td>10.0</td>\n",
       "      <td>0.0</td>\n",
       "      <td>6.0</td>\n",
       "      <td>10.0</td>\n",
       "    </tr>\n",
       "    <tr>\n",
       "      <th>11</th>\n",
       "      <td>2024-03-18</td>\n",
       "      <td>0.0</td>\n",
       "      <td>0.0</td>\n",
       "      <td>6.0</td>\n",
       "      <td>2.0</td>\n",
       "      <td>4.0</td>\n",
       "      <td>19.0</td>\n",
       "      <td>7.0</td>\n",
       "      <td>5.0</td>\n",
       "      <td>0.0</td>\n",
       "      <td>...</td>\n",
       "      <td>2.0</td>\n",
       "      <td>3.0</td>\n",
       "      <td>2.0</td>\n",
       "      <td>13.0</td>\n",
       "      <td>1.0</td>\n",
       "      <td>6.0</td>\n",
       "      <td>5.0</td>\n",
       "      <td>5.0</td>\n",
       "      <td>1.0</td>\n",
       "      <td>4.0</td>\n",
       "    </tr>\n",
       "    <tr>\n",
       "      <th>12</th>\n",
       "      <td>2024-03-25</td>\n",
       "      <td>2.0</td>\n",
       "      <td>0.0</td>\n",
       "      <td>10.0</td>\n",
       "      <td>0.0</td>\n",
       "      <td>3.0</td>\n",
       "      <td>0.0</td>\n",
       "      <td>2.0</td>\n",
       "      <td>5.0</td>\n",
       "      <td>1.0</td>\n",
       "      <td>...</td>\n",
       "      <td>4.0</td>\n",
       "      <td>3.0</td>\n",
       "      <td>0.0</td>\n",
       "      <td>13.0</td>\n",
       "      <td>5.0</td>\n",
       "      <td>13.0</td>\n",
       "      <td>7.0</td>\n",
       "      <td>2.0</td>\n",
       "      <td>9.0</td>\n",
       "      <td>5.0</td>\n",
       "    </tr>\n",
       "    <tr>\n",
       "      <th>13</th>\n",
       "      <td>2024-04-01</td>\n",
       "      <td>0.0</td>\n",
       "      <td>4.0</td>\n",
       "      <td>2.0</td>\n",
       "      <td>6.0</td>\n",
       "      <td>2.0</td>\n",
       "      <td>0.0</td>\n",
       "      <td>2.0</td>\n",
       "      <td>1.0</td>\n",
       "      <td>2.0</td>\n",
       "      <td>...</td>\n",
       "      <td>0.0</td>\n",
       "      <td>0.0</td>\n",
       "      <td>0.0</td>\n",
       "      <td>26.0</td>\n",
       "      <td>0.0</td>\n",
       "      <td>2.0</td>\n",
       "      <td>3.0</td>\n",
       "      <td>0.0</td>\n",
       "      <td>8.0</td>\n",
       "      <td>3.0</td>\n",
       "    </tr>\n",
       "    <tr>\n",
       "      <th>14</th>\n",
       "      <td>2024-04-08</td>\n",
       "      <td>0.0</td>\n",
       "      <td>0.0</td>\n",
       "      <td>1.0</td>\n",
       "      <td>2.0</td>\n",
       "      <td>2.0</td>\n",
       "      <td>6.0</td>\n",
       "      <td>1.0</td>\n",
       "      <td>1.0</td>\n",
       "      <td>1.0</td>\n",
       "      <td>...</td>\n",
       "      <td>1.0</td>\n",
       "      <td>0.0</td>\n",
       "      <td>7.0</td>\n",
       "      <td>16.0</td>\n",
       "      <td>1.0</td>\n",
       "      <td>4.0</td>\n",
       "      <td>0.0</td>\n",
       "      <td>1.0</td>\n",
       "      <td>4.0</td>\n",
       "      <td>3.0</td>\n",
       "    </tr>\n",
       "    <tr>\n",
       "      <th>15</th>\n",
       "      <td>2024-04-15</td>\n",
       "      <td>2.0</td>\n",
       "      <td>0.0</td>\n",
       "      <td>6.0</td>\n",
       "      <td>7.0</td>\n",
       "      <td>6.0</td>\n",
       "      <td>5.0</td>\n",
       "      <td>8.0</td>\n",
       "      <td>2.0</td>\n",
       "      <td>1.0</td>\n",
       "      <td>...</td>\n",
       "      <td>0.0</td>\n",
       "      <td>3.0</td>\n",
       "      <td>2.0</td>\n",
       "      <td>25.0</td>\n",
       "      <td>7.0</td>\n",
       "      <td>3.0</td>\n",
       "      <td>6.0</td>\n",
       "      <td>5.0</td>\n",
       "      <td>11.0</td>\n",
       "      <td>6.0</td>\n",
       "    </tr>\n",
       "    <tr>\n",
       "      <th>16</th>\n",
       "      <td>2024-04-22</td>\n",
       "      <td>0.0</td>\n",
       "      <td>0.0</td>\n",
       "      <td>1.0</td>\n",
       "      <td>2.0</td>\n",
       "      <td>6.0</td>\n",
       "      <td>1.0</td>\n",
       "      <td>6.0</td>\n",
       "      <td>5.0</td>\n",
       "      <td>6.0</td>\n",
       "      <td>...</td>\n",
       "      <td>4.0</td>\n",
       "      <td>5.0</td>\n",
       "      <td>4.0</td>\n",
       "      <td>13.0</td>\n",
       "      <td>4.0</td>\n",
       "      <td>4.0</td>\n",
       "      <td>7.0</td>\n",
       "      <td>6.0</td>\n",
       "      <td>7.0</td>\n",
       "      <td>5.0</td>\n",
       "    </tr>\n",
       "    <tr>\n",
       "      <th>17</th>\n",
       "      <td>2024-04-29</td>\n",
       "      <td>2.0</td>\n",
       "      <td>2.0</td>\n",
       "      <td>3.0</td>\n",
       "      <td>5.0</td>\n",
       "      <td>5.0</td>\n",
       "      <td>12.0</td>\n",
       "      <td>11.0</td>\n",
       "      <td>9.0</td>\n",
       "      <td>8.0</td>\n",
       "      <td>...</td>\n",
       "      <td>1.0</td>\n",
       "      <td>1.0</td>\n",
       "      <td>1.0</td>\n",
       "      <td>15.0</td>\n",
       "      <td>2.0</td>\n",
       "      <td>0.0</td>\n",
       "      <td>11.0</td>\n",
       "      <td>1.0</td>\n",
       "      <td>6.0</td>\n",
       "      <td>10.0</td>\n",
       "    </tr>\n",
       "    <tr>\n",
       "      <th>18</th>\n",
       "      <td>2024-05-06</td>\n",
       "      <td>2.0</td>\n",
       "      <td>1.0</td>\n",
       "      <td>5.0</td>\n",
       "      <td>3.0</td>\n",
       "      <td>6.0</td>\n",
       "      <td>1.0</td>\n",
       "      <td>1.0</td>\n",
       "      <td>7.0</td>\n",
       "      <td>2.0</td>\n",
       "      <td>...</td>\n",
       "      <td>1.0</td>\n",
       "      <td>4.0</td>\n",
       "      <td>0.0</td>\n",
       "      <td>13.0</td>\n",
       "      <td>3.0</td>\n",
       "      <td>2.0</td>\n",
       "      <td>3.0</td>\n",
       "      <td>7.0</td>\n",
       "      <td>11.0</td>\n",
       "      <td>6.0</td>\n",
       "    </tr>\n",
       "    <tr>\n",
       "      <th>19</th>\n",
       "      <td>2024-05-13</td>\n",
       "      <td>1.0</td>\n",
       "      <td>0.0</td>\n",
       "      <td>0.0</td>\n",
       "      <td>15.0</td>\n",
       "      <td>4.0</td>\n",
       "      <td>4.0</td>\n",
       "      <td>4.0</td>\n",
       "      <td>3.0</td>\n",
       "      <td>2.0</td>\n",
       "      <td>...</td>\n",
       "      <td>4.0</td>\n",
       "      <td>4.0</td>\n",
       "      <td>6.0</td>\n",
       "      <td>17.0</td>\n",
       "      <td>1.0</td>\n",
       "      <td>6.0</td>\n",
       "      <td>7.0</td>\n",
       "      <td>5.0</td>\n",
       "      <td>6.0</td>\n",
       "      <td>10.0</td>\n",
       "    </tr>\n",
       "    <tr>\n",
       "      <th>20</th>\n",
       "      <td>2024-05-20</td>\n",
       "      <td>0.0</td>\n",
       "      <td>0.0</td>\n",
       "      <td>1.0</td>\n",
       "      <td>8.0</td>\n",
       "      <td>13.0</td>\n",
       "      <td>1.0</td>\n",
       "      <td>4.0</td>\n",
       "      <td>9.0</td>\n",
       "      <td>2.0</td>\n",
       "      <td>...</td>\n",
       "      <td>1.0</td>\n",
       "      <td>4.0</td>\n",
       "      <td>2.0</td>\n",
       "      <td>31.0</td>\n",
       "      <td>1.0</td>\n",
       "      <td>1.0</td>\n",
       "      <td>4.0</td>\n",
       "      <td>1.0</td>\n",
       "      <td>3.0</td>\n",
       "      <td>6.0</td>\n",
       "    </tr>\n",
       "    <tr>\n",
       "      <th>21</th>\n",
       "      <td>2024-05-27</td>\n",
       "      <td>2.0</td>\n",
       "      <td>0.0</td>\n",
       "      <td>0.0</td>\n",
       "      <td>1.0</td>\n",
       "      <td>2.0</td>\n",
       "      <td>4.0</td>\n",
       "      <td>7.0</td>\n",
       "      <td>0.0</td>\n",
       "      <td>4.0</td>\n",
       "      <td>...</td>\n",
       "      <td>1.0</td>\n",
       "      <td>0.0</td>\n",
       "      <td>2.0</td>\n",
       "      <td>27.0</td>\n",
       "      <td>4.0</td>\n",
       "      <td>2.0</td>\n",
       "      <td>9.0</td>\n",
       "      <td>4.0</td>\n",
       "      <td>5.0</td>\n",
       "      <td>5.0</td>\n",
       "    </tr>\n",
       "    <tr>\n",
       "      <th>22</th>\n",
       "      <td>2024-06-03</td>\n",
       "      <td>3.0</td>\n",
       "      <td>1.0</td>\n",
       "      <td>3.0</td>\n",
       "      <td>11.0</td>\n",
       "      <td>8.0</td>\n",
       "      <td>6.0</td>\n",
       "      <td>3.0</td>\n",
       "      <td>2.0</td>\n",
       "      <td>4.0</td>\n",
       "      <td>...</td>\n",
       "      <td>0.0</td>\n",
       "      <td>0.0</td>\n",
       "      <td>1.0</td>\n",
       "      <td>16.0</td>\n",
       "      <td>1.0</td>\n",
       "      <td>7.0</td>\n",
       "      <td>10.0</td>\n",
       "      <td>0.0</td>\n",
       "      <td>3.0</td>\n",
       "      <td>9.0</td>\n",
       "    </tr>\n",
       "    <tr>\n",
       "      <th>23</th>\n",
       "      <td>2024-06-10</td>\n",
       "      <td>0.0</td>\n",
       "      <td>0.0</td>\n",
       "      <td>7.0</td>\n",
       "      <td>10.0</td>\n",
       "      <td>4.0</td>\n",
       "      <td>1.0</td>\n",
       "      <td>4.0</td>\n",
       "      <td>3.0</td>\n",
       "      <td>3.0</td>\n",
       "      <td>...</td>\n",
       "      <td>2.0</td>\n",
       "      <td>1.0</td>\n",
       "      <td>0.0</td>\n",
       "      <td>13.0</td>\n",
       "      <td>3.0</td>\n",
       "      <td>7.0</td>\n",
       "      <td>8.0</td>\n",
       "      <td>0.0</td>\n",
       "      <td>6.0</td>\n",
       "      <td>4.0</td>\n",
       "    </tr>\n",
       "    <tr>\n",
       "      <th>24</th>\n",
       "      <td>2024-06-17</td>\n",
       "      <td>2.0</td>\n",
       "      <td>2.0</td>\n",
       "      <td>2.0</td>\n",
       "      <td>3.0</td>\n",
       "      <td>9.0</td>\n",
       "      <td>11.0</td>\n",
       "      <td>2.0</td>\n",
       "      <td>8.0</td>\n",
       "      <td>2.0</td>\n",
       "      <td>...</td>\n",
       "      <td>4.0</td>\n",
       "      <td>3.0</td>\n",
       "      <td>4.0</td>\n",
       "      <td>19.0</td>\n",
       "      <td>1.0</td>\n",
       "      <td>6.0</td>\n",
       "      <td>10.0</td>\n",
       "      <td>0.0</td>\n",
       "      <td>14.0</td>\n",
       "      <td>12.0</td>\n",
       "    </tr>\n",
       "    <tr>\n",
       "      <th>25</th>\n",
       "      <td>2024-06-24</td>\n",
       "      <td>1.0</td>\n",
       "      <td>0.0</td>\n",
       "      <td>3.0</td>\n",
       "      <td>4.0</td>\n",
       "      <td>6.0</td>\n",
       "      <td>8.0</td>\n",
       "      <td>2.0</td>\n",
       "      <td>2.0</td>\n",
       "      <td>2.0</td>\n",
       "      <td>...</td>\n",
       "      <td>2.0</td>\n",
       "      <td>5.0</td>\n",
       "      <td>1.0</td>\n",
       "      <td>19.0</td>\n",
       "      <td>1.0</td>\n",
       "      <td>4.0</td>\n",
       "      <td>0.0</td>\n",
       "      <td>2.0</td>\n",
       "      <td>10.0</td>\n",
       "      <td>9.0</td>\n",
       "    </tr>\n",
       "    <tr>\n",
       "      <th>26</th>\n",
       "      <td>2024-07-01</td>\n",
       "      <td>0.0</td>\n",
       "      <td>1.0</td>\n",
       "      <td>2.0</td>\n",
       "      <td>7.0</td>\n",
       "      <td>3.0</td>\n",
       "      <td>2.0</td>\n",
       "      <td>5.0</td>\n",
       "      <td>6.0</td>\n",
       "      <td>2.0</td>\n",
       "      <td>...</td>\n",
       "      <td>0.0</td>\n",
       "      <td>2.0</td>\n",
       "      <td>3.0</td>\n",
       "      <td>24.0</td>\n",
       "      <td>2.0</td>\n",
       "      <td>0.0</td>\n",
       "      <td>0.0</td>\n",
       "      <td>3.0</td>\n",
       "      <td>11.0</td>\n",
       "      <td>12.0</td>\n",
       "    </tr>\n",
       "    <tr>\n",
       "      <th>27</th>\n",
       "      <td>2024-07-08</td>\n",
       "      <td>0.0</td>\n",
       "      <td>1.0</td>\n",
       "      <td>4.0</td>\n",
       "      <td>6.0</td>\n",
       "      <td>8.0</td>\n",
       "      <td>3.0</td>\n",
       "      <td>3.0</td>\n",
       "      <td>4.0</td>\n",
       "      <td>5.0</td>\n",
       "      <td>...</td>\n",
       "      <td>2.0</td>\n",
       "      <td>3.0</td>\n",
       "      <td>7.0</td>\n",
       "      <td>21.0</td>\n",
       "      <td>1.0</td>\n",
       "      <td>0.0</td>\n",
       "      <td>2.0</td>\n",
       "      <td>0.0</td>\n",
       "      <td>8.0</td>\n",
       "      <td>4.0</td>\n",
       "    </tr>\n",
       "    <tr>\n",
       "      <th>28</th>\n",
       "      <td>2024-07-15</td>\n",
       "      <td>1.0</td>\n",
       "      <td>0.0</td>\n",
       "      <td>1.0</td>\n",
       "      <td>5.0</td>\n",
       "      <td>13.0</td>\n",
       "      <td>19.0</td>\n",
       "      <td>4.0</td>\n",
       "      <td>8.0</td>\n",
       "      <td>4.0</td>\n",
       "      <td>...</td>\n",
       "      <td>6.0</td>\n",
       "      <td>4.0</td>\n",
       "      <td>6.0</td>\n",
       "      <td>33.0</td>\n",
       "      <td>0.0</td>\n",
       "      <td>6.0</td>\n",
       "      <td>6.0</td>\n",
       "      <td>2.0</td>\n",
       "      <td>3.0</td>\n",
       "      <td>7.0</td>\n",
       "    </tr>\n",
       "    <tr>\n",
       "      <th>29</th>\n",
       "      <td>2024-07-22</td>\n",
       "      <td>0.0</td>\n",
       "      <td>1.0</td>\n",
       "      <td>4.0</td>\n",
       "      <td>0.0</td>\n",
       "      <td>1.0</td>\n",
       "      <td>1.0</td>\n",
       "      <td>11.0</td>\n",
       "      <td>5.0</td>\n",
       "      <td>6.0</td>\n",
       "      <td>...</td>\n",
       "      <td>2.0</td>\n",
       "      <td>2.0</td>\n",
       "      <td>3.0</td>\n",
       "      <td>22.0</td>\n",
       "      <td>3.0</td>\n",
       "      <td>0.0</td>\n",
       "      <td>6.0</td>\n",
       "      <td>5.0</td>\n",
       "      <td>3.0</td>\n",
       "      <td>1.0</td>\n",
       "    </tr>\n",
       "    <tr>\n",
       "      <th>30</th>\n",
       "      <td>2024-07-29</td>\n",
       "      <td>0.0</td>\n",
       "      <td>1.0</td>\n",
       "      <td>22.0</td>\n",
       "      <td>9.0</td>\n",
       "      <td>0.0</td>\n",
       "      <td>6.0</td>\n",
       "      <td>7.0</td>\n",
       "      <td>4.0</td>\n",
       "      <td>3.0</td>\n",
       "      <td>...</td>\n",
       "      <td>2.0</td>\n",
       "      <td>3.0</td>\n",
       "      <td>4.0</td>\n",
       "      <td>23.0</td>\n",
       "      <td>1.0</td>\n",
       "      <td>10.0</td>\n",
       "      <td>7.0</td>\n",
       "      <td>0.0</td>\n",
       "      <td>4.0</td>\n",
       "      <td>9.0</td>\n",
       "    </tr>\n",
       "    <tr>\n",
       "      <th>31</th>\n",
       "      <td>2024-08-05</td>\n",
       "      <td>1.0</td>\n",
       "      <td>1.0</td>\n",
       "      <td>4.0</td>\n",
       "      <td>15.0</td>\n",
       "      <td>0.0</td>\n",
       "      <td>5.0</td>\n",
       "      <td>10.0</td>\n",
       "      <td>0.0</td>\n",
       "      <td>5.0</td>\n",
       "      <td>...</td>\n",
       "      <td>1.0</td>\n",
       "      <td>0.0</td>\n",
       "      <td>2.0</td>\n",
       "      <td>16.0</td>\n",
       "      <td>4.0</td>\n",
       "      <td>9.0</td>\n",
       "      <td>6.0</td>\n",
       "      <td>2.0</td>\n",
       "      <td>7.0</td>\n",
       "      <td>10.0</td>\n",
       "    </tr>\n",
       "    <tr>\n",
       "      <th>32</th>\n",
       "      <td>2024-08-12</td>\n",
       "      <td>0.0</td>\n",
       "      <td>0.0</td>\n",
       "      <td>4.0</td>\n",
       "      <td>17.0</td>\n",
       "      <td>0.0</td>\n",
       "      <td>1.0</td>\n",
       "      <td>8.0</td>\n",
       "      <td>8.0</td>\n",
       "      <td>2.0</td>\n",
       "      <td>...</td>\n",
       "      <td>2.0</td>\n",
       "      <td>1.0</td>\n",
       "      <td>4.0</td>\n",
       "      <td>16.0</td>\n",
       "      <td>1.0</td>\n",
       "      <td>6.0</td>\n",
       "      <td>4.0</td>\n",
       "      <td>2.0</td>\n",
       "      <td>10.0</td>\n",
       "      <td>9.0</td>\n",
       "    </tr>\n",
       "    <tr>\n",
       "      <th>33</th>\n",
       "      <td>2024-08-19</td>\n",
       "      <td>2.0</td>\n",
       "      <td>0.0</td>\n",
       "      <td>1.0</td>\n",
       "      <td>7.0</td>\n",
       "      <td>0.0</td>\n",
       "      <td>2.0</td>\n",
       "      <td>10.0</td>\n",
       "      <td>7.0</td>\n",
       "      <td>9.0</td>\n",
       "      <td>...</td>\n",
       "      <td>0.0</td>\n",
       "      <td>0.0</td>\n",
       "      <td>1.0</td>\n",
       "      <td>24.0</td>\n",
       "      <td>2.0</td>\n",
       "      <td>0.0</td>\n",
       "      <td>3.0</td>\n",
       "      <td>0.0</td>\n",
       "      <td>4.0</td>\n",
       "      <td>1.0</td>\n",
       "    </tr>\n",
       "    <tr>\n",
       "      <th>34</th>\n",
       "      <td>2024-08-26</td>\n",
       "      <td>1.0</td>\n",
       "      <td>1.0</td>\n",
       "      <td>1.0</td>\n",
       "      <td>0.0</td>\n",
       "      <td>0.0</td>\n",
       "      <td>9.0</td>\n",
       "      <td>5.0</td>\n",
       "      <td>12.0</td>\n",
       "      <td>2.0</td>\n",
       "      <td>...</td>\n",
       "      <td>3.0</td>\n",
       "      <td>2.0</td>\n",
       "      <td>3.0</td>\n",
       "      <td>15.0</td>\n",
       "      <td>3.0</td>\n",
       "      <td>0.0</td>\n",
       "      <td>4.0</td>\n",
       "      <td>1.0</td>\n",
       "      <td>4.0</td>\n",
       "      <td>9.0</td>\n",
       "    </tr>\n",
       "    <tr>\n",
       "      <th>35</th>\n",
       "      <td>2024-09-02</td>\n",
       "      <td>1.0</td>\n",
       "      <td>4.0</td>\n",
       "      <td>2.0</td>\n",
       "      <td>0.0</td>\n",
       "      <td>0.0</td>\n",
       "      <td>3.0</td>\n",
       "      <td>9.0</td>\n",
       "      <td>17.0</td>\n",
       "      <td>19.0</td>\n",
       "      <td>...</td>\n",
       "      <td>5.0</td>\n",
       "      <td>2.0</td>\n",
       "      <td>6.0</td>\n",
       "      <td>21.0</td>\n",
       "      <td>1.0</td>\n",
       "      <td>0.0</td>\n",
       "      <td>1.0</td>\n",
       "      <td>1.0</td>\n",
       "      <td>8.0</td>\n",
       "      <td>8.0</td>\n",
       "    </tr>\n",
       "    <tr>\n",
       "      <th>36</th>\n",
       "      <td>2024-09-09</td>\n",
       "      <td>1.0</td>\n",
       "      <td>2.0</td>\n",
       "      <td>3.0</td>\n",
       "      <td>0.0</td>\n",
       "      <td>2.0</td>\n",
       "      <td>4.0</td>\n",
       "      <td>1.0</td>\n",
       "      <td>3.0</td>\n",
       "      <td>3.0</td>\n",
       "      <td>...</td>\n",
       "      <td>5.0</td>\n",
       "      <td>3.0</td>\n",
       "      <td>3.0</td>\n",
       "      <td>27.0</td>\n",
       "      <td>1.0</td>\n",
       "      <td>0.0</td>\n",
       "      <td>6.0</td>\n",
       "      <td>0.0</td>\n",
       "      <td>6.0</td>\n",
       "      <td>5.0</td>\n",
       "    </tr>\n",
       "    <tr>\n",
       "      <th>37</th>\n",
       "      <td>2024-09-16</td>\n",
       "      <td>3.0</td>\n",
       "      <td>1.0</td>\n",
       "      <td>7.0</td>\n",
       "      <td>0.0</td>\n",
       "      <td>0.0</td>\n",
       "      <td>10.0</td>\n",
       "      <td>2.0</td>\n",
       "      <td>3.0</td>\n",
       "      <td>2.0</td>\n",
       "      <td>...</td>\n",
       "      <td>1.0</td>\n",
       "      <td>0.0</td>\n",
       "      <td>0.0</td>\n",
       "      <td>16.0</td>\n",
       "      <td>1.0</td>\n",
       "      <td>0.0</td>\n",
       "      <td>5.0</td>\n",
       "      <td>0.0</td>\n",
       "      <td>5.0</td>\n",
       "      <td>6.0</td>\n",
       "    </tr>\n",
       "    <tr>\n",
       "      <th>38</th>\n",
       "      <td>2024-09-23</td>\n",
       "      <td>6.0</td>\n",
       "      <td>2.0</td>\n",
       "      <td>5.0</td>\n",
       "      <td>0.0</td>\n",
       "      <td>2.0</td>\n",
       "      <td>2.0</td>\n",
       "      <td>6.0</td>\n",
       "      <td>6.0</td>\n",
       "      <td>5.0</td>\n",
       "      <td>...</td>\n",
       "      <td>0.0</td>\n",
       "      <td>0.0</td>\n",
       "      <td>3.0</td>\n",
       "      <td>23.0</td>\n",
       "      <td>2.0</td>\n",
       "      <td>0.0</td>\n",
       "      <td>4.0</td>\n",
       "      <td>2.0</td>\n",
       "      <td>9.0</td>\n",
       "      <td>9.0</td>\n",
       "    </tr>\n",
       "    <tr>\n",
       "      <th>39</th>\n",
       "      <td>2024-09-30</td>\n",
       "      <td>2.0</td>\n",
       "      <td>3.0</td>\n",
       "      <td>3.0</td>\n",
       "      <td>7.0</td>\n",
       "      <td>5.0</td>\n",
       "      <td>0.0</td>\n",
       "      <td>5.0</td>\n",
       "      <td>11.0</td>\n",
       "      <td>3.0</td>\n",
       "      <td>...</td>\n",
       "      <td>1.0</td>\n",
       "      <td>2.0</td>\n",
       "      <td>0.0</td>\n",
       "      <td>30.0</td>\n",
       "      <td>1.0</td>\n",
       "      <td>0.0</td>\n",
       "      <td>7.0</td>\n",
       "      <td>0.0</td>\n",
       "      <td>3.0</td>\n",
       "      <td>2.0</td>\n",
       "    </tr>\n",
       "    <tr>\n",
       "      <th>40</th>\n",
       "      <td>2024-10-07</td>\n",
       "      <td>4.0</td>\n",
       "      <td>1.0</td>\n",
       "      <td>2.0</td>\n",
       "      <td>6.0</td>\n",
       "      <td>3.0</td>\n",
       "      <td>10.0</td>\n",
       "      <td>7.0</td>\n",
       "      <td>5.0</td>\n",
       "      <td>2.0</td>\n",
       "      <td>...</td>\n",
       "      <td>2.0</td>\n",
       "      <td>1.0</td>\n",
       "      <td>1.0</td>\n",
       "      <td>19.0</td>\n",
       "      <td>1.0</td>\n",
       "      <td>0.0</td>\n",
       "      <td>10.0</td>\n",
       "      <td>5.0</td>\n",
       "      <td>6.0</td>\n",
       "      <td>7.0</td>\n",
       "    </tr>\n",
       "    <tr>\n",
       "      <th>41</th>\n",
       "      <td>2024-10-14</td>\n",
       "      <td>5.0</td>\n",
       "      <td>3.0</td>\n",
       "      <td>4.0</td>\n",
       "      <td>7.0</td>\n",
       "      <td>2.0</td>\n",
       "      <td>4.0</td>\n",
       "      <td>8.0</td>\n",
       "      <td>5.0</td>\n",
       "      <td>1.0</td>\n",
       "      <td>...</td>\n",
       "      <td>2.0</td>\n",
       "      <td>2.0</td>\n",
       "      <td>2.0</td>\n",
       "      <td>18.0</td>\n",
       "      <td>5.0</td>\n",
       "      <td>0.0</td>\n",
       "      <td>2.0</td>\n",
       "      <td>2.0</td>\n",
       "      <td>3.0</td>\n",
       "      <td>6.0</td>\n",
       "    </tr>\n",
       "    <tr>\n",
       "      <th>42</th>\n",
       "      <td>2024-10-21</td>\n",
       "      <td>1.0</td>\n",
       "      <td>1.0</td>\n",
       "      <td>5.0</td>\n",
       "      <td>17.0</td>\n",
       "      <td>5.0</td>\n",
       "      <td>6.0</td>\n",
       "      <td>3.0</td>\n",
       "      <td>6.0</td>\n",
       "      <td>1.0</td>\n",
       "      <td>...</td>\n",
       "      <td>0.0</td>\n",
       "      <td>1.0</td>\n",
       "      <td>1.0</td>\n",
       "      <td>16.0</td>\n",
       "      <td>3.0</td>\n",
       "      <td>0.0</td>\n",
       "      <td>5.0</td>\n",
       "      <td>0.0</td>\n",
       "      <td>6.0</td>\n",
       "      <td>5.0</td>\n",
       "    </tr>\n",
       "    <tr>\n",
       "      <th>43</th>\n",
       "      <td>2024-10-28</td>\n",
       "      <td>1.0</td>\n",
       "      <td>1.0</td>\n",
       "      <td>5.0</td>\n",
       "      <td>2.0</td>\n",
       "      <td>5.0</td>\n",
       "      <td>3.0</td>\n",
       "      <td>7.0</td>\n",
       "      <td>5.0</td>\n",
       "      <td>2.0</td>\n",
       "      <td>...</td>\n",
       "      <td>0.0</td>\n",
       "      <td>3.0</td>\n",
       "      <td>2.0</td>\n",
       "      <td>21.0</td>\n",
       "      <td>6.0</td>\n",
       "      <td>0.0</td>\n",
       "      <td>5.0</td>\n",
       "      <td>0.0</td>\n",
       "      <td>8.0</td>\n",
       "      <td>12.0</td>\n",
       "    </tr>\n",
       "    <tr>\n",
       "      <th>44</th>\n",
       "      <td>2024-11-04</td>\n",
       "      <td>1.0</td>\n",
       "      <td>4.0</td>\n",
       "      <td>8.0</td>\n",
       "      <td>9.0</td>\n",
       "      <td>4.0</td>\n",
       "      <td>8.0</td>\n",
       "      <td>2.0</td>\n",
       "      <td>5.0</td>\n",
       "      <td>5.0</td>\n",
       "      <td>...</td>\n",
       "      <td>0.0</td>\n",
       "      <td>0.0</td>\n",
       "      <td>0.0</td>\n",
       "      <td>11.0</td>\n",
       "      <td>1.0</td>\n",
       "      <td>0.0</td>\n",
       "      <td>6.0</td>\n",
       "      <td>7.0</td>\n",
       "      <td>7.0</td>\n",
       "      <td>5.0</td>\n",
       "    </tr>\n",
       "    <tr>\n",
       "      <th>45</th>\n",
       "      <td>2024-11-11</td>\n",
       "      <td>2.0</td>\n",
       "      <td>3.0</td>\n",
       "      <td>7.0</td>\n",
       "      <td>6.0</td>\n",
       "      <td>3.0</td>\n",
       "      <td>8.0</td>\n",
       "      <td>9.0</td>\n",
       "      <td>4.0</td>\n",
       "      <td>2.0</td>\n",
       "      <td>...</td>\n",
       "      <td>0.0</td>\n",
       "      <td>0.0</td>\n",
       "      <td>1.0</td>\n",
       "      <td>12.0</td>\n",
       "      <td>0.0</td>\n",
       "      <td>0.0</td>\n",
       "      <td>1.0</td>\n",
       "      <td>0.0</td>\n",
       "      <td>4.0</td>\n",
       "      <td>4.0</td>\n",
       "    </tr>\n",
       "    <tr>\n",
       "      <th>46</th>\n",
       "      <td>2024-11-18</td>\n",
       "      <td>4.0</td>\n",
       "      <td>0.0</td>\n",
       "      <td>13.0</td>\n",
       "      <td>13.0</td>\n",
       "      <td>7.0</td>\n",
       "      <td>7.0</td>\n",
       "      <td>4.0</td>\n",
       "      <td>8.0</td>\n",
       "      <td>2.0</td>\n",
       "      <td>...</td>\n",
       "      <td>3.0</td>\n",
       "      <td>6.0</td>\n",
       "      <td>2.0</td>\n",
       "      <td>19.0</td>\n",
       "      <td>1.0</td>\n",
       "      <td>0.0</td>\n",
       "      <td>6.0</td>\n",
       "      <td>4.0</td>\n",
       "      <td>7.0</td>\n",
       "      <td>10.0</td>\n",
       "    </tr>\n",
       "    <tr>\n",
       "      <th>47</th>\n",
       "      <td>2024-11-25</td>\n",
       "      <td>0.0</td>\n",
       "      <td>1.0</td>\n",
       "      <td>4.0</td>\n",
       "      <td>6.0</td>\n",
       "      <td>1.0</td>\n",
       "      <td>5.0</td>\n",
       "      <td>11.0</td>\n",
       "      <td>5.0</td>\n",
       "      <td>8.0</td>\n",
       "      <td>...</td>\n",
       "      <td>2.0</td>\n",
       "      <td>0.0</td>\n",
       "      <td>1.0</td>\n",
       "      <td>28.0</td>\n",
       "      <td>0.0</td>\n",
       "      <td>0.0</td>\n",
       "      <td>5.0</td>\n",
       "      <td>1.0</td>\n",
       "      <td>4.0</td>\n",
       "      <td>3.0</td>\n",
       "    </tr>\n",
       "    <tr>\n",
       "      <th>48</th>\n",
       "      <td>2024-12-02</td>\n",
       "      <td>1.0</td>\n",
       "      <td>5.0</td>\n",
       "      <td>3.0</td>\n",
       "      <td>0.0</td>\n",
       "      <td>6.0</td>\n",
       "      <td>2.0</td>\n",
       "      <td>5.0</td>\n",
       "      <td>4.0</td>\n",
       "      <td>1.0</td>\n",
       "      <td>...</td>\n",
       "      <td>6.0</td>\n",
       "      <td>8.0</td>\n",
       "      <td>5.0</td>\n",
       "      <td>26.0</td>\n",
       "      <td>0.0</td>\n",
       "      <td>0.0</td>\n",
       "      <td>8.0</td>\n",
       "      <td>0.0</td>\n",
       "      <td>4.0</td>\n",
       "      <td>6.0</td>\n",
       "    </tr>\n",
       "    <tr>\n",
       "      <th>49</th>\n",
       "      <td>2024-12-09</td>\n",
       "      <td>0.0</td>\n",
       "      <td>1.0</td>\n",
       "      <td>6.0</td>\n",
       "      <td>2.0</td>\n",
       "      <td>5.0</td>\n",
       "      <td>2.0</td>\n",
       "      <td>3.0</td>\n",
       "      <td>10.0</td>\n",
       "      <td>5.0</td>\n",
       "      <td>...</td>\n",
       "      <td>11.0</td>\n",
       "      <td>4.0</td>\n",
       "      <td>4.0</td>\n",
       "      <td>16.0</td>\n",
       "      <td>3.0</td>\n",
       "      <td>0.0</td>\n",
       "      <td>9.0</td>\n",
       "      <td>2.0</td>\n",
       "      <td>5.0</td>\n",
       "      <td>5.0</td>\n",
       "    </tr>\n",
       "    <tr>\n",
       "      <th>50</th>\n",
       "      <td>2024-12-16</td>\n",
       "      <td>0.0</td>\n",
       "      <td>0.0</td>\n",
       "      <td>5.0</td>\n",
       "      <td>0.0</td>\n",
       "      <td>1.0</td>\n",
       "      <td>3.0</td>\n",
       "      <td>2.0</td>\n",
       "      <td>8.0</td>\n",
       "      <td>2.0</td>\n",
       "      <td>...</td>\n",
       "      <td>1.0</td>\n",
       "      <td>4.0</td>\n",
       "      <td>0.0</td>\n",
       "      <td>28.0</td>\n",
       "      <td>2.0</td>\n",
       "      <td>0.0</td>\n",
       "      <td>7.0</td>\n",
       "      <td>0.0</td>\n",
       "      <td>5.0</td>\n",
       "      <td>3.0</td>\n",
       "    </tr>\n",
       "    <tr>\n",
       "      <th>51</th>\n",
       "      <td>2024-12-23</td>\n",
       "      <td>1.0</td>\n",
       "      <td>1.0</td>\n",
       "      <td>5.0</td>\n",
       "      <td>4.0</td>\n",
       "      <td>6.0</td>\n",
       "      <td>1.0</td>\n",
       "      <td>8.0</td>\n",
       "      <td>4.0</td>\n",
       "      <td>4.0</td>\n",
       "      <td>...</td>\n",
       "      <td>5.0</td>\n",
       "      <td>3.0</td>\n",
       "      <td>3.0</td>\n",
       "      <td>33.0</td>\n",
       "      <td>1.0</td>\n",
       "      <td>0.0</td>\n",
       "      <td>18.0</td>\n",
       "      <td>5.0</td>\n",
       "      <td>10.0</td>\n",
       "      <td>5.0</td>\n",
       "    </tr>\n",
       "    <tr>\n",
       "      <th>52</th>\n",
       "      <td>2024-12-30</td>\n",
       "      <td>0.0</td>\n",
       "      <td>0.0</td>\n",
       "      <td>0.0</td>\n",
       "      <td>5.0</td>\n",
       "      <td>6.0</td>\n",
       "      <td>0.0</td>\n",
       "      <td>1.0</td>\n",
       "      <td>2.0</td>\n",
       "      <td>1.0</td>\n",
       "      <td>...</td>\n",
       "      <td>0.0</td>\n",
       "      <td>2.0</td>\n",
       "      <td>0.0</td>\n",
       "      <td>8.0</td>\n",
       "      <td>0.0</td>\n",
       "      <td>0.0</td>\n",
       "      <td>0.0</td>\n",
       "      <td>0.0</td>\n",
       "      <td>9.0</td>\n",
       "      <td>1.0</td>\n",
       "    </tr>\n",
       "  </tbody>\n",
       "</table>\n",
       "<p>53 rows × 46 columns</p>\n",
       "</div>"
      ],
      "text/plain": [
       "      TANGGAL  ADEM SARI CHINGKU MD LMN 350ML  ATTACK JAZ 1 CINTA 1 6 KG  \\\n",
       "0  2024-01-01                             0.0                       10.0   \n",
       "1  2024-01-08                            10.0                        0.0   \n",
       "2  2024-01-15                             8.0                        0.0   \n",
       "3  2024-01-22                             2.0                        1.0   \n",
       "4  2024-01-29                             0.0                        5.0   \n",
       "5  2024-02-05                             2.0                        0.0   \n",
       "6  2024-02-12                             1.0                        0.0   \n",
       "7  2024-02-19                             4.0                        0.0   \n",
       "8  2024-02-26                             1.0                        6.0   \n",
       "9  2024-03-04                             2.0                        3.0   \n",
       "10 2024-03-11                             0.0                        2.0   \n",
       "11 2024-03-18                             0.0                        0.0   \n",
       "12 2024-03-25                             2.0                        0.0   \n",
       "13 2024-04-01                             0.0                        4.0   \n",
       "14 2024-04-08                             0.0                        0.0   \n",
       "15 2024-04-15                             2.0                        0.0   \n",
       "16 2024-04-22                             0.0                        0.0   \n",
       "17 2024-04-29                             2.0                        2.0   \n",
       "18 2024-05-06                             2.0                        1.0   \n",
       "19 2024-05-13                             1.0                        0.0   \n",
       "20 2024-05-20                             0.0                        0.0   \n",
       "21 2024-05-27                             2.0                        0.0   \n",
       "22 2024-06-03                             3.0                        1.0   \n",
       "23 2024-06-10                             0.0                        0.0   \n",
       "24 2024-06-17                             2.0                        2.0   \n",
       "25 2024-06-24                             1.0                        0.0   \n",
       "26 2024-07-01                             0.0                        1.0   \n",
       "27 2024-07-08                             0.0                        1.0   \n",
       "28 2024-07-15                             1.0                        0.0   \n",
       "29 2024-07-22                             0.0                        1.0   \n",
       "30 2024-07-29                             0.0                        1.0   \n",
       "31 2024-08-05                             1.0                        1.0   \n",
       "32 2024-08-12                             0.0                        0.0   \n",
       "33 2024-08-19                             2.0                        0.0   \n",
       "34 2024-08-26                             1.0                        1.0   \n",
       "35 2024-09-02                             1.0                        4.0   \n",
       "36 2024-09-09                             1.0                        2.0   \n",
       "37 2024-09-16                             3.0                        1.0   \n",
       "38 2024-09-23                             6.0                        2.0   \n",
       "39 2024-09-30                             2.0                        3.0   \n",
       "40 2024-10-07                             4.0                        1.0   \n",
       "41 2024-10-14                             5.0                        3.0   \n",
       "42 2024-10-21                             1.0                        1.0   \n",
       "43 2024-10-28                             1.0                        1.0   \n",
       "44 2024-11-04                             1.0                        4.0   \n",
       "45 2024-11-11                             2.0                        3.0   \n",
       "46 2024-11-18                             4.0                        0.0   \n",
       "47 2024-11-25                             0.0                        1.0   \n",
       "48 2024-12-02                             1.0                        5.0   \n",
       "49 2024-12-09                             0.0                        1.0   \n",
       "50 2024-12-16                             0.0                        0.0   \n",
       "51 2024-12-23                             1.0                        1.0   \n",
       "52 2024-12-30                             0.0                        0.0   \n",
       "\n",
       "    BISKUAT BOLU CKL 16GR  CLOUD 9 CHOCO 15 4G  CLOUD 9 VANILA 15 4G  \\\n",
       "0                     5.0                  3.0                   4.0   \n",
       "1                     4.0                  7.0                   1.0   \n",
       "2                     7.0                  5.0                   7.0   \n",
       "3                     5.0                  5.0                   7.0   \n",
       "4                     0.0                 10.0                   7.0   \n",
       "5                     1.0                 10.0                   6.0   \n",
       "6                     0.0                  3.0                   2.0   \n",
       "7                     2.0                  1.0                   5.0   \n",
       "8                     3.0                  2.0                   3.0   \n",
       "9                     3.0                  7.0                   7.0   \n",
       "10                    5.0                 12.0                   7.0   \n",
       "11                    6.0                  2.0                   4.0   \n",
       "12                   10.0                  0.0                   3.0   \n",
       "13                    2.0                  6.0                   2.0   \n",
       "14                    1.0                  2.0                   2.0   \n",
       "15                    6.0                  7.0                   6.0   \n",
       "16                    1.0                  2.0                   6.0   \n",
       "17                    3.0                  5.0                   5.0   \n",
       "18                    5.0                  3.0                   6.0   \n",
       "19                    0.0                 15.0                   4.0   \n",
       "20                    1.0                  8.0                  13.0   \n",
       "21                    0.0                  1.0                   2.0   \n",
       "22                    3.0                 11.0                   8.0   \n",
       "23                    7.0                 10.0                   4.0   \n",
       "24                    2.0                  3.0                   9.0   \n",
       "25                    3.0                  4.0                   6.0   \n",
       "26                    2.0                  7.0                   3.0   \n",
       "27                    4.0                  6.0                   8.0   \n",
       "28                    1.0                  5.0                  13.0   \n",
       "29                    4.0                  0.0                   1.0   \n",
       "30                   22.0                  9.0                   0.0   \n",
       "31                    4.0                 15.0                   0.0   \n",
       "32                    4.0                 17.0                   0.0   \n",
       "33                    1.0                  7.0                   0.0   \n",
       "34                    1.0                  0.0                   0.0   \n",
       "35                    2.0                  0.0                   0.0   \n",
       "36                    3.0                  0.0                   2.0   \n",
       "37                    7.0                  0.0                   0.0   \n",
       "38                    5.0                  0.0                   2.0   \n",
       "39                    3.0                  7.0                   5.0   \n",
       "40                    2.0                  6.0                   3.0   \n",
       "41                    4.0                  7.0                   2.0   \n",
       "42                    5.0                 17.0                   5.0   \n",
       "43                    5.0                  2.0                   5.0   \n",
       "44                    8.0                  9.0                   4.0   \n",
       "45                    7.0                  6.0                   3.0   \n",
       "46                   13.0                 13.0                   7.0   \n",
       "47                    4.0                  6.0                   1.0   \n",
       "48                    3.0                  0.0                   6.0   \n",
       "49                    6.0                  2.0                   5.0   \n",
       "50                    5.0                  0.0                   1.0   \n",
       "51                    5.0                  4.0                   6.0   \n",
       "52                    0.0                  5.0                   6.0   \n",
       "\n",
       "    DAIA LEMON 65GR  DELFI TOP B/WHITE 9GR  DELFI TOP CHO 9GR  \\\n",
       "0               5.0                    6.0                8.0   \n",
       "1               2.0                    7.0                4.0   \n",
       "2               0.0                    3.0                1.0   \n",
       "3               2.0                    4.0                2.0   \n",
       "4               3.0                    9.0               10.0   \n",
       "5               5.0                    3.0               10.0   \n",
       "6               3.0                    4.0                5.0   \n",
       "7               3.0                    1.0                6.0   \n",
       "8               0.0                    6.0               17.0   \n",
       "9              17.0                    4.0                2.0   \n",
       "10              1.0                    4.0                4.0   \n",
       "11             19.0                    7.0                5.0   \n",
       "12              0.0                    2.0                5.0   \n",
       "13              0.0                    2.0                1.0   \n",
       "14              6.0                    1.0                1.0   \n",
       "15              5.0                    8.0                2.0   \n",
       "16              1.0                    6.0                5.0   \n",
       "17             12.0                   11.0                9.0   \n",
       "18              1.0                    1.0                7.0   \n",
       "19              4.0                    4.0                3.0   \n",
       "20              1.0                    4.0                9.0   \n",
       "21              4.0                    7.0                0.0   \n",
       "22              6.0                    3.0                2.0   \n",
       "23              1.0                    4.0                3.0   \n",
       "24             11.0                    2.0                8.0   \n",
       "25              8.0                    2.0                2.0   \n",
       "26              2.0                    5.0                6.0   \n",
       "27              3.0                    3.0                4.0   \n",
       "28             19.0                    4.0                8.0   \n",
       "29              1.0                   11.0                5.0   \n",
       "30              6.0                    7.0                4.0   \n",
       "31              5.0                   10.0                0.0   \n",
       "32              1.0                    8.0                8.0   \n",
       "33              2.0                   10.0                7.0   \n",
       "34              9.0                    5.0               12.0   \n",
       "35              3.0                    9.0               17.0   \n",
       "36              4.0                    1.0                3.0   \n",
       "37             10.0                    2.0                3.0   \n",
       "38              2.0                    6.0                6.0   \n",
       "39              0.0                    5.0               11.0   \n",
       "40             10.0                    7.0                5.0   \n",
       "41              4.0                    8.0                5.0   \n",
       "42              6.0                    3.0                6.0   \n",
       "43              3.0                    7.0                5.0   \n",
       "44              8.0                    2.0                5.0   \n",
       "45              8.0                    9.0                4.0   \n",
       "46              7.0                    4.0                8.0   \n",
       "47              5.0                   11.0                5.0   \n",
       "48              2.0                    5.0                4.0   \n",
       "49              2.0                    3.0               10.0   \n",
       "50              3.0                    2.0                8.0   \n",
       "51              1.0                    8.0                4.0   \n",
       "52              0.0                    1.0                2.0   \n",
       "\n",
       "    DELFI TOP STR 9GR  ...  SEDAAP MIE CUP BASO SPC  SEDAAP MIE CUP KARE  \\\n",
       "0                 5.0  ...                      0.0                  2.0   \n",
       "1                 4.0  ...                      2.0                  3.0   \n",
       "2                 3.0  ...                      2.0                  3.0   \n",
       "3                 0.0  ...                      2.0                  2.0   \n",
       "4                 5.0  ...                      2.0                  0.0   \n",
       "5                 2.0  ...                      2.0                  0.0   \n",
       "6                 6.0  ...                      2.0                  3.0   \n",
       "7                12.0  ...                      0.0                  3.0   \n",
       "8                 9.0  ...                      2.0                  3.0   \n",
       "9                 9.0  ...                      0.0                  3.0   \n",
       "10                5.0  ...                      0.0                  2.0   \n",
       "11                0.0  ...                      2.0                  3.0   \n",
       "12                1.0  ...                      4.0                  3.0   \n",
       "13                2.0  ...                      0.0                  0.0   \n",
       "14                1.0  ...                      1.0                  0.0   \n",
       "15                1.0  ...                      0.0                  3.0   \n",
       "16                6.0  ...                      4.0                  5.0   \n",
       "17                8.0  ...                      1.0                  1.0   \n",
       "18                2.0  ...                      1.0                  4.0   \n",
       "19                2.0  ...                      4.0                  4.0   \n",
       "20                2.0  ...                      1.0                  4.0   \n",
       "21                4.0  ...                      1.0                  0.0   \n",
       "22                4.0  ...                      0.0                  0.0   \n",
       "23                3.0  ...                      2.0                  1.0   \n",
       "24                2.0  ...                      4.0                  3.0   \n",
       "25                2.0  ...                      2.0                  5.0   \n",
       "26                2.0  ...                      0.0                  2.0   \n",
       "27                5.0  ...                      2.0                  3.0   \n",
       "28                4.0  ...                      6.0                  4.0   \n",
       "29                6.0  ...                      2.0                  2.0   \n",
       "30                3.0  ...                      2.0                  3.0   \n",
       "31                5.0  ...                      1.0                  0.0   \n",
       "32                2.0  ...                      2.0                  1.0   \n",
       "33                9.0  ...                      0.0                  0.0   \n",
       "34                2.0  ...                      3.0                  2.0   \n",
       "35               19.0  ...                      5.0                  2.0   \n",
       "36                3.0  ...                      5.0                  3.0   \n",
       "37                2.0  ...                      1.0                  0.0   \n",
       "38                5.0  ...                      0.0                  0.0   \n",
       "39                3.0  ...                      1.0                  2.0   \n",
       "40                2.0  ...                      2.0                  1.0   \n",
       "41                1.0  ...                      2.0                  2.0   \n",
       "42                1.0  ...                      0.0                  1.0   \n",
       "43                2.0  ...                      0.0                  3.0   \n",
       "44                5.0  ...                      0.0                  0.0   \n",
       "45                2.0  ...                      0.0                  0.0   \n",
       "46                2.0  ...                      3.0                  6.0   \n",
       "47                8.0  ...                      2.0                  0.0   \n",
       "48                1.0  ...                      6.0                  8.0   \n",
       "49                5.0  ...                     11.0                  4.0   \n",
       "50                2.0  ...                      1.0                  4.0   \n",
       "51                4.0  ...                      5.0                  3.0   \n",
       "52                1.0  ...                      0.0                  2.0   \n",
       "\n",
       "    SEDAAP MIE CUP SOTO  SEDAAP MIE SOTO  SOKLIN LIQ LAVENDER 625ML  \\\n",
       "0                   5.0             38.0                        2.0   \n",
       "1                   1.0             16.0                        2.0   \n",
       "2                   2.0             20.0                        0.0   \n",
       "3                   0.0             32.0                        1.0   \n",
       "4                   2.0             16.0                        2.0   \n",
       "5                   3.0             24.0                        1.0   \n",
       "6                   2.0             16.0                        0.0   \n",
       "7                   1.0             22.0                        2.0   \n",
       "8                   3.0             20.0                        2.0   \n",
       "9                   4.0             11.0                        4.0   \n",
       "10                  0.0             22.0                        3.0   \n",
       "11                  2.0             13.0                        1.0   \n",
       "12                  0.0             13.0                        5.0   \n",
       "13                  0.0             26.0                        0.0   \n",
       "14                  7.0             16.0                        1.0   \n",
       "15                  2.0             25.0                        7.0   \n",
       "16                  4.0             13.0                        4.0   \n",
       "17                  1.0             15.0                        2.0   \n",
       "18                  0.0             13.0                        3.0   \n",
       "19                  6.0             17.0                        1.0   \n",
       "20                  2.0             31.0                        1.0   \n",
       "21                  2.0             27.0                        4.0   \n",
       "22                  1.0             16.0                        1.0   \n",
       "23                  0.0             13.0                        3.0   \n",
       "24                  4.0             19.0                        1.0   \n",
       "25                  1.0             19.0                        1.0   \n",
       "26                  3.0             24.0                        2.0   \n",
       "27                  7.0             21.0                        1.0   \n",
       "28                  6.0             33.0                        0.0   \n",
       "29                  3.0             22.0                        3.0   \n",
       "30                  4.0             23.0                        1.0   \n",
       "31                  2.0             16.0                        4.0   \n",
       "32                  4.0             16.0                        1.0   \n",
       "33                  1.0             24.0                        2.0   \n",
       "34                  3.0             15.0                        3.0   \n",
       "35                  6.0             21.0                        1.0   \n",
       "36                  3.0             27.0                        1.0   \n",
       "37                  0.0             16.0                        1.0   \n",
       "38                  3.0             23.0                        2.0   \n",
       "39                  0.0             30.0                        1.0   \n",
       "40                  1.0             19.0                        1.0   \n",
       "41                  2.0             18.0                        5.0   \n",
       "42                  1.0             16.0                        3.0   \n",
       "43                  2.0             21.0                        6.0   \n",
       "44                  0.0             11.0                        1.0   \n",
       "45                  1.0             12.0                        0.0   \n",
       "46                  2.0             19.0                        1.0   \n",
       "47                  1.0             28.0                        0.0   \n",
       "48                  5.0             26.0                        0.0   \n",
       "49                  4.0             16.0                        3.0   \n",
       "50                  0.0             28.0                        2.0   \n",
       "51                  3.0             33.0                        1.0   \n",
       "52                  0.0              8.0                        0.0   \n",
       "\n",
       "    TEH GELAS ORI 170ML  WALLS CORN B/WHITE 82GR  WALLS CORN STRW VANILA  \\\n",
       "0                   3.0                     17.0                     2.0   \n",
       "1                   5.0                     12.0                     4.0   \n",
       "2                   4.0                      3.0                     0.0   \n",
       "3                  10.0                     22.0                     5.0   \n",
       "4                   9.0                      8.0                     2.0   \n",
       "5                   4.0                     15.0                     1.0   \n",
       "6                   5.0                      3.0                     2.0   \n",
       "7                   8.0                      9.0                     3.0   \n",
       "8                   6.0                      6.0                     3.0   \n",
       "9                   4.0                      5.0                     1.0   \n",
       "10                  0.0                     10.0                     0.0   \n",
       "11                  6.0                      5.0                     5.0   \n",
       "12                 13.0                      7.0                     2.0   \n",
       "13                  2.0                      3.0                     0.0   \n",
       "14                  4.0                      0.0                     1.0   \n",
       "15                  3.0                      6.0                     5.0   \n",
       "16                  4.0                      7.0                     6.0   \n",
       "17                  0.0                     11.0                     1.0   \n",
       "18                  2.0                      3.0                     7.0   \n",
       "19                  6.0                      7.0                     5.0   \n",
       "20                  1.0                      4.0                     1.0   \n",
       "21                  2.0                      9.0                     4.0   \n",
       "22                  7.0                     10.0                     0.0   \n",
       "23                  7.0                      8.0                     0.0   \n",
       "24                  6.0                     10.0                     0.0   \n",
       "25                  4.0                      0.0                     2.0   \n",
       "26                  0.0                      0.0                     3.0   \n",
       "27                  0.0                      2.0                     0.0   \n",
       "28                  6.0                      6.0                     2.0   \n",
       "29                  0.0                      6.0                     5.0   \n",
       "30                 10.0                      7.0                     0.0   \n",
       "31                  9.0                      6.0                     2.0   \n",
       "32                  6.0                      4.0                     2.0   \n",
       "33                  0.0                      3.0                     0.0   \n",
       "34                  0.0                      4.0                     1.0   \n",
       "35                  0.0                      1.0                     1.0   \n",
       "36                  0.0                      6.0                     0.0   \n",
       "37                  0.0                      5.0                     0.0   \n",
       "38                  0.0                      4.0                     2.0   \n",
       "39                  0.0                      7.0                     0.0   \n",
       "40                  0.0                     10.0                     5.0   \n",
       "41                  0.0                      2.0                     2.0   \n",
       "42                  0.0                      5.0                     0.0   \n",
       "43                  0.0                      5.0                     0.0   \n",
       "44                  0.0                      6.0                     7.0   \n",
       "45                  0.0                      1.0                     0.0   \n",
       "46                  0.0                      6.0                     4.0   \n",
       "47                  0.0                      5.0                     1.0   \n",
       "48                  0.0                      8.0                     0.0   \n",
       "49                  0.0                      9.0                     2.0   \n",
       "50                  0.0                      7.0                     0.0   \n",
       "51                  0.0                     18.0                     5.0   \n",
       "52                  0.0                      0.0                     0.0   \n",
       "\n",
       "    WALLS POPULAIRE CKL  WALLS POPULAIRE STR  \n",
       "0                  10.0                  4.0  \n",
       "1                   3.0                  4.0  \n",
       "2                   7.0                  7.0  \n",
       "3                   7.0                  6.0  \n",
       "4                   8.0                  5.0  \n",
       "5                   4.0                  6.0  \n",
       "6                   9.0                  7.0  \n",
       "7                   5.0                  7.0  \n",
       "8                   5.0                  2.0  \n",
       "9                   5.0                 13.0  \n",
       "10                  6.0                 10.0  \n",
       "11                  1.0                  4.0  \n",
       "12                  9.0                  5.0  \n",
       "13                  8.0                  3.0  \n",
       "14                  4.0                  3.0  \n",
       "15                 11.0                  6.0  \n",
       "16                  7.0                  5.0  \n",
       "17                  6.0                 10.0  \n",
       "18                 11.0                  6.0  \n",
       "19                  6.0                 10.0  \n",
       "20                  3.0                  6.0  \n",
       "21                  5.0                  5.0  \n",
       "22                  3.0                  9.0  \n",
       "23                  6.0                  4.0  \n",
       "24                 14.0                 12.0  \n",
       "25                 10.0                  9.0  \n",
       "26                 11.0                 12.0  \n",
       "27                  8.0                  4.0  \n",
       "28                  3.0                  7.0  \n",
       "29                  3.0                  1.0  \n",
       "30                  4.0                  9.0  \n",
       "31                  7.0                 10.0  \n",
       "32                 10.0                  9.0  \n",
       "33                  4.0                  1.0  \n",
       "34                  4.0                  9.0  \n",
       "35                  8.0                  8.0  \n",
       "36                  6.0                  5.0  \n",
       "37                  5.0                  6.0  \n",
       "38                  9.0                  9.0  \n",
       "39                  3.0                  2.0  \n",
       "40                  6.0                  7.0  \n",
       "41                  3.0                  6.0  \n",
       "42                  6.0                  5.0  \n",
       "43                  8.0                 12.0  \n",
       "44                  7.0                  5.0  \n",
       "45                  4.0                  4.0  \n",
       "46                  7.0                 10.0  \n",
       "47                  4.0                  3.0  \n",
       "48                  4.0                  6.0  \n",
       "49                  5.0                  5.0  \n",
       "50                  5.0                  3.0  \n",
       "51                 10.0                  5.0  \n",
       "52                  9.0                  1.0  \n",
       "\n",
       "[53 rows x 46 columns]"
      ]
     },
     "execution_count": 10,
     "metadata": {},
     "output_type": "execute_result"
    }
   ],
   "source": [
    "df_pivoted= df_weekly.pivot(index='TANGGAL', columns='NAMA BARANG', values='QTY')\n",
    "df_pivoted.columns.name = None  # hilangkan nama kolom atas\n",
    "df_pivoted = df_pivoted.reset_index() \n",
    "df_pivoted"
   ]
  },
  {
   "cell_type": "code",
   "execution_count": 11,
   "id": "fc585652",
   "metadata": {},
   "outputs": [],
   "source": [
    "# 1. Pisahkan kolom tanggal dan kolom produk\n",
    "produk_df = df_pivoted.drop(columns=[\"TANGGAL\"])\n",
    "\n",
    "# 2. Hitung jumlah 0 per kolom\n",
    "zero_counts = (produk_df == 0).sum()\n",
    "\n",
    "# 3. Ambil item yang jumlah 0-nya <= 5\n",
    "filtered_items = zero_counts[zero_counts <= 5].index\n",
    "\n",
    "# 4. Filter dataframe hanya dengan item yang lolos kriteria 0\n",
    "filtered_df = produk_df[filtered_items]\n",
    "\n",
    "# 5. Hitung total penjualan per item\n",
    "total_sales = filtered_df.sum().sort_values(ascending=False).index\n",
    "\n",
    "# 6. Ambil 15 item dengan total penjualan tertinggi\n",
    "# top_3_items = total_sales.head(15).index\n",
    "\n",
    "# 7. Final dataframe dengan 15 item terbaik\n",
    "df_final = df_pivoted[[\"TANGGAL\"] + total_sales.tolist()]"
   ]
  },
  {
   "cell_type": "code",
   "execution_count": 12,
   "id": "4be99639",
   "metadata": {},
   "outputs": [
    {
     "data": {
      "text/html": [
       "<div>\n",
       "<style scoped>\n",
       "    .dataframe tbody tr th:only-of-type {\n",
       "        vertical-align: middle;\n",
       "    }\n",
       "\n",
       "    .dataframe tbody tr th {\n",
       "        vertical-align: top;\n",
       "    }\n",
       "\n",
       "    .dataframe thead th {\n",
       "        text-align: right;\n",
       "    }\n",
       "</style>\n",
       "<table border=\"1\" class=\"dataframe\">\n",
       "  <thead>\n",
       "    <tr style=\"text-align: right;\">\n",
       "      <th></th>\n",
       "      <th>TANGGAL</th>\n",
       "      <th>INDOMIE GRG SPECIAL</th>\n",
       "      <th>INDOMILK KID CKL 115ML</th>\n",
       "      <th>SEDAAP MIE SOTO</th>\n",
       "      <th>SAKINAH 1500ML</th>\n",
       "      <th>INDOMILK KID VNL 115ML</th>\n",
       "      <th>INDOMILK KID STR 115ML</th>\n",
       "      <th>INDOMIE SOTO MIE</th>\n",
       "      <th>SEDAAP MIE AYAM BWG</th>\n",
       "      <th>EKONOMI LIQUID REFF 235ML</th>\n",
       "      <th>WALLS CORN B/WHITE 82GR</th>\n",
       "      <th>WALLS POPULAIRE CKL</th>\n",
       "      <th>WALLS POPULAIRE STR</th>\n",
       "      <th>MAMA LEMON 115ML</th>\n",
       "      <th>DELFI TOP CHO 9GR</th>\n",
       "      <th>ROMA KELAPA 300GR</th>\n",
       "      <th>DELFI TOP B/WHITE 9GR</th>\n",
       "      <th>BISKUAT BOLU CKL 16GR</th>\n",
       "      <th>DELFI TOP STR 9GR</th>\n",
       "    </tr>\n",
       "  </thead>\n",
       "  <tbody>\n",
       "    <tr>\n",
       "      <th>0</th>\n",
       "      <td>2024-01-01</td>\n",
       "      <td>129.0</td>\n",
       "      <td>3.0</td>\n",
       "      <td>38.0</td>\n",
       "      <td>6.0</td>\n",
       "      <td>8.0</td>\n",
       "      <td>3.0</td>\n",
       "      <td>18.0</td>\n",
       "      <td>14.0</td>\n",
       "      <td>9.0</td>\n",
       "      <td>17.0</td>\n",
       "      <td>10.0</td>\n",
       "      <td>4.0</td>\n",
       "      <td>3.0</td>\n",
       "      <td>8.0</td>\n",
       "      <td>12.0</td>\n",
       "      <td>6.0</td>\n",
       "      <td>5.0</td>\n",
       "      <td>5.0</td>\n",
       "    </tr>\n",
       "    <tr>\n",
       "      <th>1</th>\n",
       "      <td>2024-01-08</td>\n",
       "      <td>119.0</td>\n",
       "      <td>12.0</td>\n",
       "      <td>16.0</td>\n",
       "      <td>6.0</td>\n",
       "      <td>13.0</td>\n",
       "      <td>14.0</td>\n",
       "      <td>13.0</td>\n",
       "      <td>1.0</td>\n",
       "      <td>6.0</td>\n",
       "      <td>12.0</td>\n",
       "      <td>3.0</td>\n",
       "      <td>4.0</td>\n",
       "      <td>6.0</td>\n",
       "      <td>4.0</td>\n",
       "      <td>8.0</td>\n",
       "      <td>7.0</td>\n",
       "      <td>4.0</td>\n",
       "      <td>4.0</td>\n",
       "    </tr>\n",
       "    <tr>\n",
       "      <th>2</th>\n",
       "      <td>2024-01-15</td>\n",
       "      <td>88.0</td>\n",
       "      <td>13.0</td>\n",
       "      <td>20.0</td>\n",
       "      <td>5.0</td>\n",
       "      <td>10.0</td>\n",
       "      <td>10.0</td>\n",
       "      <td>16.0</td>\n",
       "      <td>9.0</td>\n",
       "      <td>4.0</td>\n",
       "      <td>3.0</td>\n",
       "      <td>7.0</td>\n",
       "      <td>7.0</td>\n",
       "      <td>7.0</td>\n",
       "      <td>1.0</td>\n",
       "      <td>6.0</td>\n",
       "      <td>3.0</td>\n",
       "      <td>7.0</td>\n",
       "      <td>3.0</td>\n",
       "    </tr>\n",
       "    <tr>\n",
       "      <th>3</th>\n",
       "      <td>2024-01-22</td>\n",
       "      <td>147.0</td>\n",
       "      <td>18.0</td>\n",
       "      <td>32.0</td>\n",
       "      <td>8.0</td>\n",
       "      <td>14.0</td>\n",
       "      <td>16.0</td>\n",
       "      <td>19.0</td>\n",
       "      <td>3.0</td>\n",
       "      <td>6.0</td>\n",
       "      <td>22.0</td>\n",
       "      <td>7.0</td>\n",
       "      <td>6.0</td>\n",
       "      <td>8.0</td>\n",
       "      <td>2.0</td>\n",
       "      <td>3.0</td>\n",
       "      <td>4.0</td>\n",
       "      <td>5.0</td>\n",
       "      <td>0.0</td>\n",
       "    </tr>\n",
       "    <tr>\n",
       "      <th>4</th>\n",
       "      <td>2024-01-29</td>\n",
       "      <td>114.0</td>\n",
       "      <td>20.0</td>\n",
       "      <td>16.0</td>\n",
       "      <td>4.0</td>\n",
       "      <td>19.0</td>\n",
       "      <td>22.0</td>\n",
       "      <td>15.0</td>\n",
       "      <td>5.0</td>\n",
       "      <td>11.0</td>\n",
       "      <td>8.0</td>\n",
       "      <td>8.0</td>\n",
       "      <td>5.0</td>\n",
       "      <td>7.0</td>\n",
       "      <td>10.0</td>\n",
       "      <td>6.0</td>\n",
       "      <td>9.0</td>\n",
       "      <td>0.0</td>\n",
       "      <td>5.0</td>\n",
       "    </tr>\n",
       "  </tbody>\n",
       "</table>\n",
       "</div>"
      ],
      "text/plain": [
       "     TANGGAL  INDOMIE GRG SPECIAL  INDOMILK KID CKL 115ML  SEDAAP MIE SOTO  \\\n",
       "0 2024-01-01                129.0                     3.0             38.0   \n",
       "1 2024-01-08                119.0                    12.0             16.0   \n",
       "2 2024-01-15                 88.0                    13.0             20.0   \n",
       "3 2024-01-22                147.0                    18.0             32.0   \n",
       "4 2024-01-29                114.0                    20.0             16.0   \n",
       "\n",
       "   SAKINAH 1500ML  INDOMILK KID VNL 115ML  INDOMILK KID STR 115ML  \\\n",
       "0             6.0                     8.0                     3.0   \n",
       "1             6.0                    13.0                    14.0   \n",
       "2             5.0                    10.0                    10.0   \n",
       "3             8.0                    14.0                    16.0   \n",
       "4             4.0                    19.0                    22.0   \n",
       "\n",
       "   INDOMIE SOTO MIE  SEDAAP MIE AYAM BWG  EKONOMI LIQUID REFF 235ML  \\\n",
       "0              18.0                 14.0                        9.0   \n",
       "1              13.0                  1.0                        6.0   \n",
       "2              16.0                  9.0                        4.0   \n",
       "3              19.0                  3.0                        6.0   \n",
       "4              15.0                  5.0                       11.0   \n",
       "\n",
       "   WALLS CORN B/WHITE 82GR  WALLS POPULAIRE CKL  WALLS POPULAIRE STR  \\\n",
       "0                     17.0                 10.0                  4.0   \n",
       "1                     12.0                  3.0                  4.0   \n",
       "2                      3.0                  7.0                  7.0   \n",
       "3                     22.0                  7.0                  6.0   \n",
       "4                      8.0                  8.0                  5.0   \n",
       "\n",
       "   MAMA LEMON 115ML  DELFI TOP CHO 9GR  ROMA KELAPA 300GR  \\\n",
       "0               3.0                8.0               12.0   \n",
       "1               6.0                4.0                8.0   \n",
       "2               7.0                1.0                6.0   \n",
       "3               8.0                2.0                3.0   \n",
       "4               7.0               10.0                6.0   \n",
       "\n",
       "   DELFI TOP B/WHITE 9GR  BISKUAT BOLU CKL 16GR  DELFI TOP STR 9GR  \n",
       "0                    6.0                    5.0                5.0  \n",
       "1                    7.0                    4.0                4.0  \n",
       "2                    3.0                    7.0                3.0  \n",
       "3                    4.0                    5.0                0.0  \n",
       "4                    9.0                    0.0                5.0  "
      ]
     },
     "execution_count": 12,
     "metadata": {},
     "output_type": "execute_result"
    }
   ],
   "source": [
    "df_final.head()"
   ]
  },
  {
   "cell_type": "code",
   "execution_count": 13,
   "id": "cfa625c1",
   "metadata": {},
   "outputs": [
    {
     "name": "stdout",
     "output_type": "stream",
     "text": [
      "<class 'pandas.core.frame.DataFrame'>\n",
      "RangeIndex: 53 entries, 0 to 52\n",
      "Data columns (total 19 columns):\n",
      " #   Column                     Non-Null Count  Dtype         \n",
      "---  ------                     --------------  -----         \n",
      " 0   TANGGAL                    53 non-null     datetime64[ns]\n",
      " 1   INDOMIE GRG SPECIAL        53 non-null     float64       \n",
      " 2   INDOMILK KID CKL 115ML     53 non-null     float64       \n",
      " 3   SEDAAP MIE SOTO            53 non-null     float64       \n",
      " 4   SAKINAH 1500ML             53 non-null     float64       \n",
      " 5   INDOMILK KID VNL 115ML     53 non-null     float64       \n",
      " 6   INDOMILK KID STR 115ML     53 non-null     float64       \n",
      " 7   INDOMIE SOTO MIE           53 non-null     float64       \n",
      " 8   SEDAAP MIE AYAM BWG        53 non-null     float64       \n",
      " 9   EKONOMI LIQUID REFF 235ML  53 non-null     float64       \n",
      " 10  WALLS CORN B/WHITE 82GR    53 non-null     float64       \n",
      " 11  WALLS POPULAIRE CKL        53 non-null     float64       \n",
      " 12  WALLS POPULAIRE STR        53 non-null     float64       \n",
      " 13  MAMA LEMON 115ML           53 non-null     float64       \n",
      " 14  DELFI TOP CHO 9GR          53 non-null     float64       \n",
      " 15  ROMA KELAPA 300GR          53 non-null     float64       \n",
      " 16  DELFI TOP B/WHITE 9GR      53 non-null     float64       \n",
      " 17  BISKUAT BOLU CKL 16GR      53 non-null     float64       \n",
      " 18  DELFI TOP STR 9GR          53 non-null     float64       \n",
      "dtypes: datetime64[ns](1), float64(18)\n",
      "memory usage: 8.0 KB\n"
     ]
    }
   ],
   "source": [
    "df_final.info()"
   ]
  },
  {
   "cell_type": "code",
   "execution_count": 14,
   "id": "2662da85",
   "metadata": {},
   "outputs": [
    {
     "name": "stderr",
     "output_type": "stream",
     "text": [
      "C:\\Users\\ASUS\\AppData\\Local\\Temp\\ipykernel_8072\\2313548066.py:2: SettingWithCopyWarning:\n",
      "\n",
      "\n",
      "A value is trying to be set on a copy of a slice from a DataFrame.\n",
      "Try using .loc[row_indexer,col_indexer] = value instead\n",
      "\n",
      "See the caveats in the documentation: https://pandas.pydata.org/pandas-docs/stable/user_guide/indexing.html#returning-a-view-versus-a-copy\n",
      "\n"
     ]
    },
    {
     "data": {
      "application/vnd.plotly.v1+json": {
       "config": {
        "plotlyServerURL": "https://plot.ly"
       },
       "data": [
        {
         "customdata": [
          [
           "INDOMIE GRG SPECIAL"
          ],
          [
           "INDOMIE GRG SPECIAL"
          ],
          [
           "INDOMIE GRG SPECIAL"
          ],
          [
           "INDOMIE GRG SPECIAL"
          ],
          [
           "INDOMIE GRG SPECIAL"
          ],
          [
           "INDOMIE GRG SPECIAL"
          ],
          [
           "INDOMIE GRG SPECIAL"
          ],
          [
           "INDOMIE GRG SPECIAL"
          ],
          [
           "INDOMIE GRG SPECIAL"
          ],
          [
           "INDOMIE GRG SPECIAL"
          ],
          [
           "INDOMIE GRG SPECIAL"
          ],
          [
           "INDOMIE GRG SPECIAL"
          ],
          [
           "INDOMIE GRG SPECIAL"
          ],
          [
           "INDOMIE GRG SPECIAL"
          ],
          [
           "INDOMIE GRG SPECIAL"
          ],
          [
           "INDOMIE GRG SPECIAL"
          ],
          [
           "INDOMIE GRG SPECIAL"
          ],
          [
           "INDOMIE GRG SPECIAL"
          ],
          [
           "INDOMIE GRG SPECIAL"
          ],
          [
           "INDOMIE GRG SPECIAL"
          ],
          [
           "INDOMIE GRG SPECIAL"
          ],
          [
           "INDOMIE GRG SPECIAL"
          ],
          [
           "INDOMIE GRG SPECIAL"
          ],
          [
           "INDOMIE GRG SPECIAL"
          ],
          [
           "INDOMIE GRG SPECIAL"
          ],
          [
           "INDOMIE GRG SPECIAL"
          ],
          [
           "INDOMIE GRG SPECIAL"
          ],
          [
           "INDOMIE GRG SPECIAL"
          ],
          [
           "INDOMIE GRG SPECIAL"
          ],
          [
           "INDOMIE GRG SPECIAL"
          ],
          [
           "INDOMIE GRG SPECIAL"
          ],
          [
           "INDOMIE GRG SPECIAL"
          ],
          [
           "INDOMIE GRG SPECIAL"
          ],
          [
           "INDOMIE GRG SPECIAL"
          ],
          [
           "INDOMIE GRG SPECIAL"
          ],
          [
           "INDOMIE GRG SPECIAL"
          ],
          [
           "INDOMIE GRG SPECIAL"
          ],
          [
           "INDOMIE GRG SPECIAL"
          ],
          [
           "INDOMIE GRG SPECIAL"
          ],
          [
           "INDOMIE GRG SPECIAL"
          ],
          [
           "INDOMIE GRG SPECIAL"
          ],
          [
           "INDOMIE GRG SPECIAL"
          ],
          [
           "INDOMIE GRG SPECIAL"
          ],
          [
           "INDOMIE GRG SPECIAL"
          ],
          [
           "INDOMIE GRG SPECIAL"
          ],
          [
           "INDOMIE GRG SPECIAL"
          ],
          [
           "INDOMIE GRG SPECIAL"
          ],
          [
           "INDOMIE GRG SPECIAL"
          ],
          [
           "INDOMIE GRG SPECIAL"
          ],
          [
           "INDOMIE GRG SPECIAL"
          ],
          [
           "INDOMIE GRG SPECIAL"
          ],
          [
           "INDOMIE GRG SPECIAL"
          ],
          [
           "INDOMIE GRG SPECIAL"
          ]
         ],
         "hovertemplate": "Nama Produk=%{customdata[0]}<br>Tanggal=%{x}<br>Jumlah Terjual=%{y}<extra></extra>",
         "legendgroup": "INDOMIE GRG SPECIAL",
         "line": {
          "color": "#636efa",
          "dash": "solid"
         },
         "marker": {
          "symbol": "circle"
         },
         "mode": "lines+markers",
         "name": "INDOMIE GRG SPECIAL",
         "orientation": "v",
         "showlegend": true,
         "type": "scatter",
         "x": [
          "2024-01-01T00:00:00",
          "2024-01-08T00:00:00",
          "2024-01-15T00:00:00",
          "2024-01-22T00:00:00",
          "2024-01-29T00:00:00",
          "2024-02-05T00:00:00",
          "2024-02-12T00:00:00",
          "2024-02-19T00:00:00",
          "2024-02-26T00:00:00",
          "2024-03-04T00:00:00",
          "2024-03-11T00:00:00",
          "2024-03-18T00:00:00",
          "2024-03-25T00:00:00",
          "2024-04-01T00:00:00",
          "2024-04-08T00:00:00",
          "2024-04-15T00:00:00",
          "2024-04-22T00:00:00",
          "2024-04-29T00:00:00",
          "2024-05-06T00:00:00",
          "2024-05-13T00:00:00",
          "2024-05-20T00:00:00",
          "2024-05-27T00:00:00",
          "2024-06-03T00:00:00",
          "2024-06-10T00:00:00",
          "2024-06-17T00:00:00",
          "2024-06-24T00:00:00",
          "2024-07-01T00:00:00",
          "2024-07-08T00:00:00",
          "2024-07-15T00:00:00",
          "2024-07-22T00:00:00",
          "2024-07-29T00:00:00",
          "2024-08-05T00:00:00",
          "2024-08-12T00:00:00",
          "2024-08-19T00:00:00",
          "2024-08-26T00:00:00",
          "2024-09-02T00:00:00",
          "2024-09-09T00:00:00",
          "2024-09-16T00:00:00",
          "2024-09-23T00:00:00",
          "2024-09-30T00:00:00",
          "2024-10-07T00:00:00",
          "2024-10-14T00:00:00",
          "2024-10-21T00:00:00",
          "2024-10-28T00:00:00",
          "2024-11-04T00:00:00",
          "2024-11-11T00:00:00",
          "2024-11-18T00:00:00",
          "2024-11-25T00:00:00",
          "2024-12-02T00:00:00",
          "2024-12-09T00:00:00",
          "2024-12-16T00:00:00",
          "2024-12-23T00:00:00",
          "2024-12-30T00:00:00"
         ],
         "xaxis": "x",
         "y": [
          129,
          119,
          88,
          147,
          114,
          187,
          151,
          123,
          112,
          94,
          90,
          96,
          99,
          131,
          57,
          93,
          110,
          89,
          69,
          134,
          90,
          109,
          69,
          126,
          97,
          115,
          128,
          140,
          128,
          78,
          99,
          81,
          73,
          103,
          85,
          78,
          81,
          74,
          85,
          76,
          80,
          76,
          57,
          86,
          103,
          71,
          126,
          86,
          109,
          97,
          102,
          140,
          36
         ],
         "yaxis": "y"
        },
        {
         "customdata": [
          [
           "INDOMILK KID CKL 115ML"
          ],
          [
           "INDOMILK KID CKL 115ML"
          ],
          [
           "INDOMILK KID CKL 115ML"
          ],
          [
           "INDOMILK KID CKL 115ML"
          ],
          [
           "INDOMILK KID CKL 115ML"
          ],
          [
           "INDOMILK KID CKL 115ML"
          ],
          [
           "INDOMILK KID CKL 115ML"
          ],
          [
           "INDOMILK KID CKL 115ML"
          ],
          [
           "INDOMILK KID CKL 115ML"
          ],
          [
           "INDOMILK KID CKL 115ML"
          ],
          [
           "INDOMILK KID CKL 115ML"
          ],
          [
           "INDOMILK KID CKL 115ML"
          ],
          [
           "INDOMILK KID CKL 115ML"
          ],
          [
           "INDOMILK KID CKL 115ML"
          ],
          [
           "INDOMILK KID CKL 115ML"
          ],
          [
           "INDOMILK KID CKL 115ML"
          ],
          [
           "INDOMILK KID CKL 115ML"
          ],
          [
           "INDOMILK KID CKL 115ML"
          ],
          [
           "INDOMILK KID CKL 115ML"
          ],
          [
           "INDOMILK KID CKL 115ML"
          ],
          [
           "INDOMILK KID CKL 115ML"
          ],
          [
           "INDOMILK KID CKL 115ML"
          ],
          [
           "INDOMILK KID CKL 115ML"
          ],
          [
           "INDOMILK KID CKL 115ML"
          ],
          [
           "INDOMILK KID CKL 115ML"
          ],
          [
           "INDOMILK KID CKL 115ML"
          ],
          [
           "INDOMILK KID CKL 115ML"
          ],
          [
           "INDOMILK KID CKL 115ML"
          ],
          [
           "INDOMILK KID CKL 115ML"
          ],
          [
           "INDOMILK KID CKL 115ML"
          ],
          [
           "INDOMILK KID CKL 115ML"
          ],
          [
           "INDOMILK KID CKL 115ML"
          ],
          [
           "INDOMILK KID CKL 115ML"
          ],
          [
           "INDOMILK KID CKL 115ML"
          ],
          [
           "INDOMILK KID CKL 115ML"
          ],
          [
           "INDOMILK KID CKL 115ML"
          ],
          [
           "INDOMILK KID CKL 115ML"
          ],
          [
           "INDOMILK KID CKL 115ML"
          ],
          [
           "INDOMILK KID CKL 115ML"
          ],
          [
           "INDOMILK KID CKL 115ML"
          ],
          [
           "INDOMILK KID CKL 115ML"
          ],
          [
           "INDOMILK KID CKL 115ML"
          ],
          [
           "INDOMILK KID CKL 115ML"
          ],
          [
           "INDOMILK KID CKL 115ML"
          ],
          [
           "INDOMILK KID CKL 115ML"
          ],
          [
           "INDOMILK KID CKL 115ML"
          ],
          [
           "INDOMILK KID CKL 115ML"
          ],
          [
           "INDOMILK KID CKL 115ML"
          ],
          [
           "INDOMILK KID CKL 115ML"
          ],
          [
           "INDOMILK KID CKL 115ML"
          ],
          [
           "INDOMILK KID CKL 115ML"
          ],
          [
           "INDOMILK KID CKL 115ML"
          ],
          [
           "INDOMILK KID CKL 115ML"
          ]
         ],
         "hovertemplate": "Nama Produk=%{customdata[0]}<br>Tanggal=%{x}<br>Jumlah Terjual=%{y}<extra></extra>",
         "legendgroup": "INDOMILK KID CKL 115ML",
         "line": {
          "color": "#EF553B",
          "dash": "solid"
         },
         "marker": {
          "symbol": "circle"
         },
         "mode": "lines+markers",
         "name": "INDOMILK KID CKL 115ML",
         "orientation": "v",
         "showlegend": true,
         "type": "scatter",
         "x": [
          "2024-01-01T00:00:00",
          "2024-01-08T00:00:00",
          "2024-01-15T00:00:00",
          "2024-01-22T00:00:00",
          "2024-01-29T00:00:00",
          "2024-02-05T00:00:00",
          "2024-02-12T00:00:00",
          "2024-02-19T00:00:00",
          "2024-02-26T00:00:00",
          "2024-03-04T00:00:00",
          "2024-03-11T00:00:00",
          "2024-03-18T00:00:00",
          "2024-03-25T00:00:00",
          "2024-04-01T00:00:00",
          "2024-04-08T00:00:00",
          "2024-04-15T00:00:00",
          "2024-04-22T00:00:00",
          "2024-04-29T00:00:00",
          "2024-05-06T00:00:00",
          "2024-05-13T00:00:00",
          "2024-05-20T00:00:00",
          "2024-05-27T00:00:00",
          "2024-06-03T00:00:00",
          "2024-06-10T00:00:00",
          "2024-06-17T00:00:00",
          "2024-06-24T00:00:00",
          "2024-07-01T00:00:00",
          "2024-07-08T00:00:00",
          "2024-07-15T00:00:00",
          "2024-07-22T00:00:00",
          "2024-07-29T00:00:00",
          "2024-08-05T00:00:00",
          "2024-08-12T00:00:00",
          "2024-08-19T00:00:00",
          "2024-08-26T00:00:00",
          "2024-09-02T00:00:00",
          "2024-09-09T00:00:00",
          "2024-09-16T00:00:00",
          "2024-09-23T00:00:00",
          "2024-09-30T00:00:00",
          "2024-10-07T00:00:00",
          "2024-10-14T00:00:00",
          "2024-10-21T00:00:00",
          "2024-10-28T00:00:00",
          "2024-11-04T00:00:00",
          "2024-11-11T00:00:00",
          "2024-11-18T00:00:00",
          "2024-11-25T00:00:00",
          "2024-12-02T00:00:00",
          "2024-12-09T00:00:00",
          "2024-12-16T00:00:00",
          "2024-12-23T00:00:00",
          "2024-12-30T00:00:00"
         ],
         "xaxis": "x",
         "y": [
          3,
          12,
          13,
          18,
          20,
          10,
          18,
          29,
          12,
          15,
          21,
          17,
          13,
          18,
          7,
          11,
          22,
          18,
          30,
          10,
          22,
          28,
          33,
          25,
          22,
          36,
          31,
          22,
          40,
          58,
          31,
          41,
          29,
          36,
          39,
          27,
          41,
          36,
          20,
          44,
          29,
          40,
          49,
          48,
          51,
          33,
          44,
          33,
          47,
          46,
          66,
          60,
          21
         ],
         "yaxis": "y"
        },
        {
         "customdata": [
          [
           "SEDAAP MIE SOTO"
          ],
          [
           "SEDAAP MIE SOTO"
          ],
          [
           "SEDAAP MIE SOTO"
          ],
          [
           "SEDAAP MIE SOTO"
          ],
          [
           "SEDAAP MIE SOTO"
          ],
          [
           "SEDAAP MIE SOTO"
          ],
          [
           "SEDAAP MIE SOTO"
          ],
          [
           "SEDAAP MIE SOTO"
          ],
          [
           "SEDAAP MIE SOTO"
          ],
          [
           "SEDAAP MIE SOTO"
          ],
          [
           "SEDAAP MIE SOTO"
          ],
          [
           "SEDAAP MIE SOTO"
          ],
          [
           "SEDAAP MIE SOTO"
          ],
          [
           "SEDAAP MIE SOTO"
          ],
          [
           "SEDAAP MIE SOTO"
          ],
          [
           "SEDAAP MIE SOTO"
          ],
          [
           "SEDAAP MIE SOTO"
          ],
          [
           "SEDAAP MIE SOTO"
          ],
          [
           "SEDAAP MIE SOTO"
          ],
          [
           "SEDAAP MIE SOTO"
          ],
          [
           "SEDAAP MIE SOTO"
          ],
          [
           "SEDAAP MIE SOTO"
          ],
          [
           "SEDAAP MIE SOTO"
          ],
          [
           "SEDAAP MIE SOTO"
          ],
          [
           "SEDAAP MIE SOTO"
          ],
          [
           "SEDAAP MIE SOTO"
          ],
          [
           "SEDAAP MIE SOTO"
          ],
          [
           "SEDAAP MIE SOTO"
          ],
          [
           "SEDAAP MIE SOTO"
          ],
          [
           "SEDAAP MIE SOTO"
          ],
          [
           "SEDAAP MIE SOTO"
          ],
          [
           "SEDAAP MIE SOTO"
          ],
          [
           "SEDAAP MIE SOTO"
          ],
          [
           "SEDAAP MIE SOTO"
          ],
          [
           "SEDAAP MIE SOTO"
          ],
          [
           "SEDAAP MIE SOTO"
          ],
          [
           "SEDAAP MIE SOTO"
          ],
          [
           "SEDAAP MIE SOTO"
          ],
          [
           "SEDAAP MIE SOTO"
          ],
          [
           "SEDAAP MIE SOTO"
          ],
          [
           "SEDAAP MIE SOTO"
          ],
          [
           "SEDAAP MIE SOTO"
          ],
          [
           "SEDAAP MIE SOTO"
          ],
          [
           "SEDAAP MIE SOTO"
          ],
          [
           "SEDAAP MIE SOTO"
          ],
          [
           "SEDAAP MIE SOTO"
          ],
          [
           "SEDAAP MIE SOTO"
          ],
          [
           "SEDAAP MIE SOTO"
          ],
          [
           "SEDAAP MIE SOTO"
          ],
          [
           "SEDAAP MIE SOTO"
          ],
          [
           "SEDAAP MIE SOTO"
          ],
          [
           "SEDAAP MIE SOTO"
          ],
          [
           "SEDAAP MIE SOTO"
          ]
         ],
         "hovertemplate": "Nama Produk=%{customdata[0]}<br>Tanggal=%{x}<br>Jumlah Terjual=%{y}<extra></extra>",
         "legendgroup": "SEDAAP MIE SOTO",
         "line": {
          "color": "#00cc96",
          "dash": "solid"
         },
         "marker": {
          "symbol": "circle"
         },
         "mode": "lines+markers",
         "name": "SEDAAP MIE SOTO",
         "orientation": "v",
         "showlegend": true,
         "type": "scatter",
         "x": [
          "2024-01-01T00:00:00",
          "2024-01-08T00:00:00",
          "2024-01-15T00:00:00",
          "2024-01-22T00:00:00",
          "2024-01-29T00:00:00",
          "2024-02-05T00:00:00",
          "2024-02-12T00:00:00",
          "2024-02-19T00:00:00",
          "2024-02-26T00:00:00",
          "2024-03-04T00:00:00",
          "2024-03-11T00:00:00",
          "2024-03-18T00:00:00",
          "2024-03-25T00:00:00",
          "2024-04-01T00:00:00",
          "2024-04-08T00:00:00",
          "2024-04-15T00:00:00",
          "2024-04-22T00:00:00",
          "2024-04-29T00:00:00",
          "2024-05-06T00:00:00",
          "2024-05-13T00:00:00",
          "2024-05-20T00:00:00",
          "2024-05-27T00:00:00",
          "2024-06-03T00:00:00",
          "2024-06-10T00:00:00",
          "2024-06-17T00:00:00",
          "2024-06-24T00:00:00",
          "2024-07-01T00:00:00",
          "2024-07-08T00:00:00",
          "2024-07-15T00:00:00",
          "2024-07-22T00:00:00",
          "2024-07-29T00:00:00",
          "2024-08-05T00:00:00",
          "2024-08-12T00:00:00",
          "2024-08-19T00:00:00",
          "2024-08-26T00:00:00",
          "2024-09-02T00:00:00",
          "2024-09-09T00:00:00",
          "2024-09-16T00:00:00",
          "2024-09-23T00:00:00",
          "2024-09-30T00:00:00",
          "2024-10-07T00:00:00",
          "2024-10-14T00:00:00",
          "2024-10-21T00:00:00",
          "2024-10-28T00:00:00",
          "2024-11-04T00:00:00",
          "2024-11-11T00:00:00",
          "2024-11-18T00:00:00",
          "2024-11-25T00:00:00",
          "2024-12-02T00:00:00",
          "2024-12-09T00:00:00",
          "2024-12-16T00:00:00",
          "2024-12-23T00:00:00",
          "2024-12-30T00:00:00"
         ],
         "xaxis": "x",
         "y": [
          38,
          16,
          20,
          32,
          16,
          24,
          16,
          22,
          20,
          11,
          22,
          13,
          13,
          26,
          16,
          25,
          13,
          15,
          13,
          17,
          31,
          27,
          16,
          13,
          19,
          19,
          24,
          21,
          33,
          22,
          23,
          16,
          16,
          24,
          15,
          21,
          27,
          16,
          23,
          30,
          19,
          18,
          16,
          21,
          11,
          12,
          19,
          28,
          26,
          16,
          28,
          33,
          8
         ],
         "yaxis": "y"
        },
        {
         "customdata": [
          [
           "SAKINAH 1500ML"
          ],
          [
           "SAKINAH 1500ML"
          ],
          [
           "SAKINAH 1500ML"
          ],
          [
           "SAKINAH 1500ML"
          ],
          [
           "SAKINAH 1500ML"
          ],
          [
           "SAKINAH 1500ML"
          ],
          [
           "SAKINAH 1500ML"
          ],
          [
           "SAKINAH 1500ML"
          ],
          [
           "SAKINAH 1500ML"
          ],
          [
           "SAKINAH 1500ML"
          ],
          [
           "SAKINAH 1500ML"
          ],
          [
           "SAKINAH 1500ML"
          ],
          [
           "SAKINAH 1500ML"
          ],
          [
           "SAKINAH 1500ML"
          ],
          [
           "SAKINAH 1500ML"
          ],
          [
           "SAKINAH 1500ML"
          ],
          [
           "SAKINAH 1500ML"
          ],
          [
           "SAKINAH 1500ML"
          ],
          [
           "SAKINAH 1500ML"
          ],
          [
           "SAKINAH 1500ML"
          ],
          [
           "SAKINAH 1500ML"
          ],
          [
           "SAKINAH 1500ML"
          ],
          [
           "SAKINAH 1500ML"
          ],
          [
           "SAKINAH 1500ML"
          ],
          [
           "SAKINAH 1500ML"
          ],
          [
           "SAKINAH 1500ML"
          ],
          [
           "SAKINAH 1500ML"
          ],
          [
           "SAKINAH 1500ML"
          ],
          [
           "SAKINAH 1500ML"
          ],
          [
           "SAKINAH 1500ML"
          ],
          [
           "SAKINAH 1500ML"
          ],
          [
           "SAKINAH 1500ML"
          ],
          [
           "SAKINAH 1500ML"
          ],
          [
           "SAKINAH 1500ML"
          ],
          [
           "SAKINAH 1500ML"
          ],
          [
           "SAKINAH 1500ML"
          ],
          [
           "SAKINAH 1500ML"
          ],
          [
           "SAKINAH 1500ML"
          ],
          [
           "SAKINAH 1500ML"
          ],
          [
           "SAKINAH 1500ML"
          ],
          [
           "SAKINAH 1500ML"
          ],
          [
           "SAKINAH 1500ML"
          ],
          [
           "SAKINAH 1500ML"
          ],
          [
           "SAKINAH 1500ML"
          ],
          [
           "SAKINAH 1500ML"
          ],
          [
           "SAKINAH 1500ML"
          ],
          [
           "SAKINAH 1500ML"
          ],
          [
           "SAKINAH 1500ML"
          ],
          [
           "SAKINAH 1500ML"
          ],
          [
           "SAKINAH 1500ML"
          ],
          [
           "SAKINAH 1500ML"
          ],
          [
           "SAKINAH 1500ML"
          ],
          [
           "SAKINAH 1500ML"
          ]
         ],
         "hovertemplate": "Nama Produk=%{customdata[0]}<br>Tanggal=%{x}<br>Jumlah Terjual=%{y}<extra></extra>",
         "legendgroup": "SAKINAH 1500ML",
         "line": {
          "color": "#ab63fa",
          "dash": "solid"
         },
         "marker": {
          "symbol": "circle"
         },
         "mode": "lines+markers",
         "name": "SAKINAH 1500ML",
         "orientation": "v",
         "showlegend": true,
         "type": "scatter",
         "x": [
          "2024-01-01T00:00:00",
          "2024-01-08T00:00:00",
          "2024-01-15T00:00:00",
          "2024-01-22T00:00:00",
          "2024-01-29T00:00:00",
          "2024-02-05T00:00:00",
          "2024-02-12T00:00:00",
          "2024-02-19T00:00:00",
          "2024-02-26T00:00:00",
          "2024-03-04T00:00:00",
          "2024-03-11T00:00:00",
          "2024-03-18T00:00:00",
          "2024-03-25T00:00:00",
          "2024-04-01T00:00:00",
          "2024-04-08T00:00:00",
          "2024-04-15T00:00:00",
          "2024-04-22T00:00:00",
          "2024-04-29T00:00:00",
          "2024-05-06T00:00:00",
          "2024-05-13T00:00:00",
          "2024-05-20T00:00:00",
          "2024-05-27T00:00:00",
          "2024-06-03T00:00:00",
          "2024-06-10T00:00:00",
          "2024-06-17T00:00:00",
          "2024-06-24T00:00:00",
          "2024-07-01T00:00:00",
          "2024-07-08T00:00:00",
          "2024-07-15T00:00:00",
          "2024-07-22T00:00:00",
          "2024-07-29T00:00:00",
          "2024-08-05T00:00:00",
          "2024-08-12T00:00:00",
          "2024-08-19T00:00:00",
          "2024-08-26T00:00:00",
          "2024-09-02T00:00:00",
          "2024-09-09T00:00:00",
          "2024-09-16T00:00:00",
          "2024-09-23T00:00:00",
          "2024-09-30T00:00:00",
          "2024-10-07T00:00:00",
          "2024-10-14T00:00:00",
          "2024-10-21T00:00:00",
          "2024-10-28T00:00:00",
          "2024-11-04T00:00:00",
          "2024-11-11T00:00:00",
          "2024-11-18T00:00:00",
          "2024-11-25T00:00:00",
          "2024-12-02T00:00:00",
          "2024-12-09T00:00:00",
          "2024-12-16T00:00:00",
          "2024-12-23T00:00:00",
          "2024-12-30T00:00:00"
         ],
         "xaxis": "x",
         "y": [
          6,
          6,
          5,
          8,
          4,
          8,
          5,
          7,
          6,
          7,
          2,
          9,
          2,
          10,
          7,
          10,
          9,
          18,
          24,
          21,
          21,
          12,
          10,
          24,
          13,
          21,
          15,
          14,
          19,
          12,
          17,
          17,
          21,
          26,
          42,
          33,
          37,
          30,
          30,
          39,
          3,
          50,
          56,
          47,
          39,
          49,
          44,
          37,
          23,
          31,
          31,
          15,
          11
         ],
         "yaxis": "y"
        },
        {
         "customdata": [
          [
           "INDOMILK KID VNL 115ML"
          ],
          [
           "INDOMILK KID VNL 115ML"
          ],
          [
           "INDOMILK KID VNL 115ML"
          ],
          [
           "INDOMILK KID VNL 115ML"
          ],
          [
           "INDOMILK KID VNL 115ML"
          ],
          [
           "INDOMILK KID VNL 115ML"
          ],
          [
           "INDOMILK KID VNL 115ML"
          ],
          [
           "INDOMILK KID VNL 115ML"
          ],
          [
           "INDOMILK KID VNL 115ML"
          ],
          [
           "INDOMILK KID VNL 115ML"
          ],
          [
           "INDOMILK KID VNL 115ML"
          ],
          [
           "INDOMILK KID VNL 115ML"
          ],
          [
           "INDOMILK KID VNL 115ML"
          ],
          [
           "INDOMILK KID VNL 115ML"
          ],
          [
           "INDOMILK KID VNL 115ML"
          ],
          [
           "INDOMILK KID VNL 115ML"
          ],
          [
           "INDOMILK KID VNL 115ML"
          ],
          [
           "INDOMILK KID VNL 115ML"
          ],
          [
           "INDOMILK KID VNL 115ML"
          ],
          [
           "INDOMILK KID VNL 115ML"
          ],
          [
           "INDOMILK KID VNL 115ML"
          ],
          [
           "INDOMILK KID VNL 115ML"
          ],
          [
           "INDOMILK KID VNL 115ML"
          ],
          [
           "INDOMILK KID VNL 115ML"
          ],
          [
           "INDOMILK KID VNL 115ML"
          ],
          [
           "INDOMILK KID VNL 115ML"
          ],
          [
           "INDOMILK KID VNL 115ML"
          ],
          [
           "INDOMILK KID VNL 115ML"
          ],
          [
           "INDOMILK KID VNL 115ML"
          ],
          [
           "INDOMILK KID VNL 115ML"
          ],
          [
           "INDOMILK KID VNL 115ML"
          ],
          [
           "INDOMILK KID VNL 115ML"
          ],
          [
           "INDOMILK KID VNL 115ML"
          ],
          [
           "INDOMILK KID VNL 115ML"
          ],
          [
           "INDOMILK KID VNL 115ML"
          ],
          [
           "INDOMILK KID VNL 115ML"
          ],
          [
           "INDOMILK KID VNL 115ML"
          ],
          [
           "INDOMILK KID VNL 115ML"
          ],
          [
           "INDOMILK KID VNL 115ML"
          ],
          [
           "INDOMILK KID VNL 115ML"
          ],
          [
           "INDOMILK KID VNL 115ML"
          ],
          [
           "INDOMILK KID VNL 115ML"
          ],
          [
           "INDOMILK KID VNL 115ML"
          ],
          [
           "INDOMILK KID VNL 115ML"
          ],
          [
           "INDOMILK KID VNL 115ML"
          ],
          [
           "INDOMILK KID VNL 115ML"
          ],
          [
           "INDOMILK KID VNL 115ML"
          ],
          [
           "INDOMILK KID VNL 115ML"
          ],
          [
           "INDOMILK KID VNL 115ML"
          ],
          [
           "INDOMILK KID VNL 115ML"
          ],
          [
           "INDOMILK KID VNL 115ML"
          ],
          [
           "INDOMILK KID VNL 115ML"
          ],
          [
           "INDOMILK KID VNL 115ML"
          ]
         ],
         "hovertemplate": "Nama Produk=%{customdata[0]}<br>Tanggal=%{x}<br>Jumlah Terjual=%{y}<extra></extra>",
         "legendgroup": "INDOMILK KID VNL 115ML",
         "line": {
          "color": "#FFA15A",
          "dash": "solid"
         },
         "marker": {
          "symbol": "circle"
         },
         "mode": "lines+markers",
         "name": "INDOMILK KID VNL 115ML",
         "orientation": "v",
         "showlegend": true,
         "type": "scatter",
         "x": [
          "2024-01-01T00:00:00",
          "2024-01-08T00:00:00",
          "2024-01-15T00:00:00",
          "2024-01-22T00:00:00",
          "2024-01-29T00:00:00",
          "2024-02-05T00:00:00",
          "2024-02-12T00:00:00",
          "2024-02-19T00:00:00",
          "2024-02-26T00:00:00",
          "2024-03-04T00:00:00",
          "2024-03-11T00:00:00",
          "2024-03-18T00:00:00",
          "2024-03-25T00:00:00",
          "2024-04-01T00:00:00",
          "2024-04-08T00:00:00",
          "2024-04-15T00:00:00",
          "2024-04-22T00:00:00",
          "2024-04-29T00:00:00",
          "2024-05-06T00:00:00",
          "2024-05-13T00:00:00",
          "2024-05-20T00:00:00",
          "2024-05-27T00:00:00",
          "2024-06-03T00:00:00",
          "2024-06-10T00:00:00",
          "2024-06-17T00:00:00",
          "2024-06-24T00:00:00",
          "2024-07-01T00:00:00",
          "2024-07-08T00:00:00",
          "2024-07-15T00:00:00",
          "2024-07-22T00:00:00",
          "2024-07-29T00:00:00",
          "2024-08-05T00:00:00",
          "2024-08-12T00:00:00",
          "2024-08-19T00:00:00",
          "2024-08-26T00:00:00",
          "2024-09-02T00:00:00",
          "2024-09-09T00:00:00",
          "2024-09-16T00:00:00",
          "2024-09-23T00:00:00",
          "2024-09-30T00:00:00",
          "2024-10-07T00:00:00",
          "2024-10-14T00:00:00",
          "2024-10-21T00:00:00",
          "2024-10-28T00:00:00",
          "2024-11-04T00:00:00",
          "2024-11-11T00:00:00",
          "2024-11-18T00:00:00",
          "2024-11-25T00:00:00",
          "2024-12-02T00:00:00",
          "2024-12-09T00:00:00",
          "2024-12-16T00:00:00",
          "2024-12-23T00:00:00",
          "2024-12-30T00:00:00"
         ],
         "xaxis": "x",
         "y": [
          8,
          13,
          10,
          14,
          19,
          12,
          25,
          26,
          17,
          24,
          24,
          13,
          26,
          29,
          6,
          23,
          30,
          20,
          30,
          32,
          37,
          39,
          27,
          32,
          35,
          32,
          46,
          40,
          22,
          19,
          16,
          15,
          9,
          19,
          17,
          12,
          22,
          16,
          21,
          15,
          14,
          23,
          17,
          8,
          15,
          15,
          15,
          18,
          11,
          6,
          3,
          10,
          6
         ],
         "yaxis": "y"
        },
        {
         "customdata": [
          [
           "INDOMILK KID STR 115ML"
          ],
          [
           "INDOMILK KID STR 115ML"
          ],
          [
           "INDOMILK KID STR 115ML"
          ],
          [
           "INDOMILK KID STR 115ML"
          ],
          [
           "INDOMILK KID STR 115ML"
          ],
          [
           "INDOMILK KID STR 115ML"
          ],
          [
           "INDOMILK KID STR 115ML"
          ],
          [
           "INDOMILK KID STR 115ML"
          ],
          [
           "INDOMILK KID STR 115ML"
          ],
          [
           "INDOMILK KID STR 115ML"
          ],
          [
           "INDOMILK KID STR 115ML"
          ],
          [
           "INDOMILK KID STR 115ML"
          ],
          [
           "INDOMILK KID STR 115ML"
          ],
          [
           "INDOMILK KID STR 115ML"
          ],
          [
           "INDOMILK KID STR 115ML"
          ],
          [
           "INDOMILK KID STR 115ML"
          ],
          [
           "INDOMILK KID STR 115ML"
          ],
          [
           "INDOMILK KID STR 115ML"
          ],
          [
           "INDOMILK KID STR 115ML"
          ],
          [
           "INDOMILK KID STR 115ML"
          ],
          [
           "INDOMILK KID STR 115ML"
          ],
          [
           "INDOMILK KID STR 115ML"
          ],
          [
           "INDOMILK KID STR 115ML"
          ],
          [
           "INDOMILK KID STR 115ML"
          ],
          [
           "INDOMILK KID STR 115ML"
          ],
          [
           "INDOMILK KID STR 115ML"
          ],
          [
           "INDOMILK KID STR 115ML"
          ],
          [
           "INDOMILK KID STR 115ML"
          ],
          [
           "INDOMILK KID STR 115ML"
          ],
          [
           "INDOMILK KID STR 115ML"
          ],
          [
           "INDOMILK KID STR 115ML"
          ],
          [
           "INDOMILK KID STR 115ML"
          ],
          [
           "INDOMILK KID STR 115ML"
          ],
          [
           "INDOMILK KID STR 115ML"
          ],
          [
           "INDOMILK KID STR 115ML"
          ],
          [
           "INDOMILK KID STR 115ML"
          ],
          [
           "INDOMILK KID STR 115ML"
          ],
          [
           "INDOMILK KID STR 115ML"
          ],
          [
           "INDOMILK KID STR 115ML"
          ],
          [
           "INDOMILK KID STR 115ML"
          ],
          [
           "INDOMILK KID STR 115ML"
          ],
          [
           "INDOMILK KID STR 115ML"
          ],
          [
           "INDOMILK KID STR 115ML"
          ],
          [
           "INDOMILK KID STR 115ML"
          ],
          [
           "INDOMILK KID STR 115ML"
          ],
          [
           "INDOMILK KID STR 115ML"
          ],
          [
           "INDOMILK KID STR 115ML"
          ],
          [
           "INDOMILK KID STR 115ML"
          ],
          [
           "INDOMILK KID STR 115ML"
          ],
          [
           "INDOMILK KID STR 115ML"
          ],
          [
           "INDOMILK KID STR 115ML"
          ],
          [
           "INDOMILK KID STR 115ML"
          ],
          [
           "INDOMILK KID STR 115ML"
          ]
         ],
         "hovertemplate": "Nama Produk=%{customdata[0]}<br>Tanggal=%{x}<br>Jumlah Terjual=%{y}<extra></extra>",
         "legendgroup": "INDOMILK KID STR 115ML",
         "line": {
          "color": "#19d3f3",
          "dash": "solid"
         },
         "marker": {
          "symbol": "circle"
         },
         "mode": "lines+markers",
         "name": "INDOMILK KID STR 115ML",
         "orientation": "v",
         "showlegend": true,
         "type": "scatter",
         "x": [
          "2024-01-01T00:00:00",
          "2024-01-08T00:00:00",
          "2024-01-15T00:00:00",
          "2024-01-22T00:00:00",
          "2024-01-29T00:00:00",
          "2024-02-05T00:00:00",
          "2024-02-12T00:00:00",
          "2024-02-19T00:00:00",
          "2024-02-26T00:00:00",
          "2024-03-04T00:00:00",
          "2024-03-11T00:00:00",
          "2024-03-18T00:00:00",
          "2024-03-25T00:00:00",
          "2024-04-01T00:00:00",
          "2024-04-08T00:00:00",
          "2024-04-15T00:00:00",
          "2024-04-22T00:00:00",
          "2024-04-29T00:00:00",
          "2024-05-06T00:00:00",
          "2024-05-13T00:00:00",
          "2024-05-20T00:00:00",
          "2024-05-27T00:00:00",
          "2024-06-03T00:00:00",
          "2024-06-10T00:00:00",
          "2024-06-17T00:00:00",
          "2024-06-24T00:00:00",
          "2024-07-01T00:00:00",
          "2024-07-08T00:00:00",
          "2024-07-15T00:00:00",
          "2024-07-22T00:00:00",
          "2024-07-29T00:00:00",
          "2024-08-05T00:00:00",
          "2024-08-12T00:00:00",
          "2024-08-19T00:00:00",
          "2024-08-26T00:00:00",
          "2024-09-02T00:00:00",
          "2024-09-09T00:00:00",
          "2024-09-16T00:00:00",
          "2024-09-23T00:00:00",
          "2024-09-30T00:00:00",
          "2024-10-07T00:00:00",
          "2024-10-14T00:00:00",
          "2024-10-21T00:00:00",
          "2024-10-28T00:00:00",
          "2024-11-04T00:00:00",
          "2024-11-11T00:00:00",
          "2024-11-18T00:00:00",
          "2024-11-25T00:00:00",
          "2024-12-02T00:00:00",
          "2024-12-09T00:00:00",
          "2024-12-16T00:00:00",
          "2024-12-23T00:00:00",
          "2024-12-30T00:00:00"
         ],
         "xaxis": "x",
         "y": [
          3,
          14,
          10,
          16,
          22,
          10,
          23,
          21,
          11,
          16,
          8,
          7,
          5,
          9,
          0,
          16,
          13,
          10,
          16,
          18,
          12,
          19,
          12,
          26,
          19,
          16,
          12,
          18,
          20,
          19,
          16,
          7,
          10,
          24,
          18,
          15,
          19,
          16,
          25,
          15,
          18,
          23,
          16,
          23,
          14,
          10,
          11,
          10,
          11,
          16,
          15,
          12,
          3
         ],
         "yaxis": "y"
        },
        {
         "customdata": [
          [
           "INDOMIE SOTO MIE"
          ],
          [
           "INDOMIE SOTO MIE"
          ],
          [
           "INDOMIE SOTO MIE"
          ],
          [
           "INDOMIE SOTO MIE"
          ],
          [
           "INDOMIE SOTO MIE"
          ],
          [
           "INDOMIE SOTO MIE"
          ],
          [
           "INDOMIE SOTO MIE"
          ],
          [
           "INDOMIE SOTO MIE"
          ],
          [
           "INDOMIE SOTO MIE"
          ],
          [
           "INDOMIE SOTO MIE"
          ],
          [
           "INDOMIE SOTO MIE"
          ],
          [
           "INDOMIE SOTO MIE"
          ],
          [
           "INDOMIE SOTO MIE"
          ],
          [
           "INDOMIE SOTO MIE"
          ],
          [
           "INDOMIE SOTO MIE"
          ],
          [
           "INDOMIE SOTO MIE"
          ],
          [
           "INDOMIE SOTO MIE"
          ],
          [
           "INDOMIE SOTO MIE"
          ],
          [
           "INDOMIE SOTO MIE"
          ],
          [
           "INDOMIE SOTO MIE"
          ],
          [
           "INDOMIE SOTO MIE"
          ],
          [
           "INDOMIE SOTO MIE"
          ],
          [
           "INDOMIE SOTO MIE"
          ],
          [
           "INDOMIE SOTO MIE"
          ],
          [
           "INDOMIE SOTO MIE"
          ],
          [
           "INDOMIE SOTO MIE"
          ],
          [
           "INDOMIE SOTO MIE"
          ],
          [
           "INDOMIE SOTO MIE"
          ],
          [
           "INDOMIE SOTO MIE"
          ],
          [
           "INDOMIE SOTO MIE"
          ],
          [
           "INDOMIE SOTO MIE"
          ],
          [
           "INDOMIE SOTO MIE"
          ],
          [
           "INDOMIE SOTO MIE"
          ],
          [
           "INDOMIE SOTO MIE"
          ],
          [
           "INDOMIE SOTO MIE"
          ],
          [
           "INDOMIE SOTO MIE"
          ],
          [
           "INDOMIE SOTO MIE"
          ],
          [
           "INDOMIE SOTO MIE"
          ],
          [
           "INDOMIE SOTO MIE"
          ],
          [
           "INDOMIE SOTO MIE"
          ],
          [
           "INDOMIE SOTO MIE"
          ],
          [
           "INDOMIE SOTO MIE"
          ],
          [
           "INDOMIE SOTO MIE"
          ],
          [
           "INDOMIE SOTO MIE"
          ],
          [
           "INDOMIE SOTO MIE"
          ],
          [
           "INDOMIE SOTO MIE"
          ],
          [
           "INDOMIE SOTO MIE"
          ],
          [
           "INDOMIE SOTO MIE"
          ],
          [
           "INDOMIE SOTO MIE"
          ],
          [
           "INDOMIE SOTO MIE"
          ],
          [
           "INDOMIE SOTO MIE"
          ],
          [
           "INDOMIE SOTO MIE"
          ],
          [
           "INDOMIE SOTO MIE"
          ]
         ],
         "hovertemplate": "Nama Produk=%{customdata[0]}<br>Tanggal=%{x}<br>Jumlah Terjual=%{y}<extra></extra>",
         "legendgroup": "INDOMIE SOTO MIE",
         "line": {
          "color": "#FF6692",
          "dash": "solid"
         },
         "marker": {
          "symbol": "circle"
         },
         "mode": "lines+markers",
         "name": "INDOMIE SOTO MIE",
         "orientation": "v",
         "showlegend": true,
         "type": "scatter",
         "x": [
          "2024-01-01T00:00:00",
          "2024-01-08T00:00:00",
          "2024-01-15T00:00:00",
          "2024-01-22T00:00:00",
          "2024-01-29T00:00:00",
          "2024-02-05T00:00:00",
          "2024-02-12T00:00:00",
          "2024-02-19T00:00:00",
          "2024-02-26T00:00:00",
          "2024-03-04T00:00:00",
          "2024-03-11T00:00:00",
          "2024-03-18T00:00:00",
          "2024-03-25T00:00:00",
          "2024-04-01T00:00:00",
          "2024-04-08T00:00:00",
          "2024-04-15T00:00:00",
          "2024-04-22T00:00:00",
          "2024-04-29T00:00:00",
          "2024-05-06T00:00:00",
          "2024-05-13T00:00:00",
          "2024-05-20T00:00:00",
          "2024-05-27T00:00:00",
          "2024-06-03T00:00:00",
          "2024-06-10T00:00:00",
          "2024-06-17T00:00:00",
          "2024-06-24T00:00:00",
          "2024-07-01T00:00:00",
          "2024-07-08T00:00:00",
          "2024-07-15T00:00:00",
          "2024-07-22T00:00:00",
          "2024-07-29T00:00:00",
          "2024-08-05T00:00:00",
          "2024-08-12T00:00:00",
          "2024-08-19T00:00:00",
          "2024-08-26T00:00:00",
          "2024-09-02T00:00:00",
          "2024-09-09T00:00:00",
          "2024-09-16T00:00:00",
          "2024-09-23T00:00:00",
          "2024-09-30T00:00:00",
          "2024-10-07T00:00:00",
          "2024-10-14T00:00:00",
          "2024-10-21T00:00:00",
          "2024-10-28T00:00:00",
          "2024-11-04T00:00:00",
          "2024-11-11T00:00:00",
          "2024-11-18T00:00:00",
          "2024-11-25T00:00:00",
          "2024-12-02T00:00:00",
          "2024-12-09T00:00:00",
          "2024-12-16T00:00:00",
          "2024-12-23T00:00:00",
          "2024-12-30T00:00:00"
         ],
         "xaxis": "x",
         "y": [
          18,
          13,
          16,
          19,
          15,
          23,
          11,
          14,
          6,
          18,
          20,
          9,
          15,
          9,
          14,
          5,
          23,
          12,
          15,
          12,
          8,
          10,
          1,
          7,
          6,
          6,
          13,
          8,
          12,
          11,
          14,
          3,
          18,
          13,
          11,
          9,
          6,
          13,
          3,
          20,
          15,
          15,
          25,
          13,
          9,
          21,
          33,
          9,
          23,
          12,
          26,
          22,
          10
         ],
         "yaxis": "y"
        },
        {
         "customdata": [
          [
           "SEDAAP MIE AYAM BWG"
          ],
          [
           "SEDAAP MIE AYAM BWG"
          ],
          [
           "SEDAAP MIE AYAM BWG"
          ],
          [
           "SEDAAP MIE AYAM BWG"
          ],
          [
           "SEDAAP MIE AYAM BWG"
          ],
          [
           "SEDAAP MIE AYAM BWG"
          ],
          [
           "SEDAAP MIE AYAM BWG"
          ],
          [
           "SEDAAP MIE AYAM BWG"
          ],
          [
           "SEDAAP MIE AYAM BWG"
          ],
          [
           "SEDAAP MIE AYAM BWG"
          ],
          [
           "SEDAAP MIE AYAM BWG"
          ],
          [
           "SEDAAP MIE AYAM BWG"
          ],
          [
           "SEDAAP MIE AYAM BWG"
          ],
          [
           "SEDAAP MIE AYAM BWG"
          ],
          [
           "SEDAAP MIE AYAM BWG"
          ],
          [
           "SEDAAP MIE AYAM BWG"
          ],
          [
           "SEDAAP MIE AYAM BWG"
          ],
          [
           "SEDAAP MIE AYAM BWG"
          ],
          [
           "SEDAAP MIE AYAM BWG"
          ],
          [
           "SEDAAP MIE AYAM BWG"
          ],
          [
           "SEDAAP MIE AYAM BWG"
          ],
          [
           "SEDAAP MIE AYAM BWG"
          ],
          [
           "SEDAAP MIE AYAM BWG"
          ],
          [
           "SEDAAP MIE AYAM BWG"
          ],
          [
           "SEDAAP MIE AYAM BWG"
          ],
          [
           "SEDAAP MIE AYAM BWG"
          ],
          [
           "SEDAAP MIE AYAM BWG"
          ],
          [
           "SEDAAP MIE AYAM BWG"
          ],
          [
           "SEDAAP MIE AYAM BWG"
          ],
          [
           "SEDAAP MIE AYAM BWG"
          ],
          [
           "SEDAAP MIE AYAM BWG"
          ],
          [
           "SEDAAP MIE AYAM BWG"
          ],
          [
           "SEDAAP MIE AYAM BWG"
          ],
          [
           "SEDAAP MIE AYAM BWG"
          ],
          [
           "SEDAAP MIE AYAM BWG"
          ],
          [
           "SEDAAP MIE AYAM BWG"
          ],
          [
           "SEDAAP MIE AYAM BWG"
          ],
          [
           "SEDAAP MIE AYAM BWG"
          ],
          [
           "SEDAAP MIE AYAM BWG"
          ],
          [
           "SEDAAP MIE AYAM BWG"
          ],
          [
           "SEDAAP MIE AYAM BWG"
          ],
          [
           "SEDAAP MIE AYAM BWG"
          ],
          [
           "SEDAAP MIE AYAM BWG"
          ],
          [
           "SEDAAP MIE AYAM BWG"
          ],
          [
           "SEDAAP MIE AYAM BWG"
          ],
          [
           "SEDAAP MIE AYAM BWG"
          ],
          [
           "SEDAAP MIE AYAM BWG"
          ],
          [
           "SEDAAP MIE AYAM BWG"
          ],
          [
           "SEDAAP MIE AYAM BWG"
          ],
          [
           "SEDAAP MIE AYAM BWG"
          ],
          [
           "SEDAAP MIE AYAM BWG"
          ],
          [
           "SEDAAP MIE AYAM BWG"
          ],
          [
           "SEDAAP MIE AYAM BWG"
          ]
         ],
         "hovertemplate": "Nama Produk=%{customdata[0]}<br>Tanggal=%{x}<br>Jumlah Terjual=%{y}<extra></extra>",
         "legendgroup": "SEDAAP MIE AYAM BWG",
         "line": {
          "color": "#B6E880",
          "dash": "solid"
         },
         "marker": {
          "symbol": "circle"
         },
         "mode": "lines+markers",
         "name": "SEDAAP MIE AYAM BWG",
         "orientation": "v",
         "showlegend": true,
         "type": "scatter",
         "x": [
          "2024-01-01T00:00:00",
          "2024-01-08T00:00:00",
          "2024-01-15T00:00:00",
          "2024-01-22T00:00:00",
          "2024-01-29T00:00:00",
          "2024-02-05T00:00:00",
          "2024-02-12T00:00:00",
          "2024-02-19T00:00:00",
          "2024-02-26T00:00:00",
          "2024-03-04T00:00:00",
          "2024-03-11T00:00:00",
          "2024-03-18T00:00:00",
          "2024-03-25T00:00:00",
          "2024-04-01T00:00:00",
          "2024-04-08T00:00:00",
          "2024-04-15T00:00:00",
          "2024-04-22T00:00:00",
          "2024-04-29T00:00:00",
          "2024-05-06T00:00:00",
          "2024-05-13T00:00:00",
          "2024-05-20T00:00:00",
          "2024-05-27T00:00:00",
          "2024-06-03T00:00:00",
          "2024-06-10T00:00:00",
          "2024-06-17T00:00:00",
          "2024-06-24T00:00:00",
          "2024-07-01T00:00:00",
          "2024-07-08T00:00:00",
          "2024-07-15T00:00:00",
          "2024-07-22T00:00:00",
          "2024-07-29T00:00:00",
          "2024-08-05T00:00:00",
          "2024-08-12T00:00:00",
          "2024-08-19T00:00:00",
          "2024-08-26T00:00:00",
          "2024-09-02T00:00:00",
          "2024-09-09T00:00:00",
          "2024-09-16T00:00:00",
          "2024-09-23T00:00:00",
          "2024-09-30T00:00:00",
          "2024-10-07T00:00:00",
          "2024-10-14T00:00:00",
          "2024-10-21T00:00:00",
          "2024-10-28T00:00:00",
          "2024-11-04T00:00:00",
          "2024-11-11T00:00:00",
          "2024-11-18T00:00:00",
          "2024-11-25T00:00:00",
          "2024-12-02T00:00:00",
          "2024-12-09T00:00:00",
          "2024-12-16T00:00:00",
          "2024-12-23T00:00:00",
          "2024-12-30T00:00:00"
         ],
         "xaxis": "x",
         "y": [
          14,
          1,
          9,
          3,
          5,
          9,
          5,
          7,
          5,
          6,
          6,
          6,
          1,
          5,
          19,
          7,
          3,
          5,
          11,
          9,
          6,
          11,
          7,
          8,
          15,
          7,
          10,
          14,
          8,
          13,
          9,
          0,
          3,
          7,
          2,
          5,
          7,
          7,
          15,
          5,
          5,
          1,
          8,
          6,
          8,
          6,
          7,
          4,
          5,
          10,
          9,
          2,
          2
         ],
         "yaxis": "y"
        },
        {
         "customdata": [
          [
           "EKONOMI LIQUID REFF 235ML"
          ],
          [
           "EKONOMI LIQUID REFF 235ML"
          ],
          [
           "EKONOMI LIQUID REFF 235ML"
          ],
          [
           "EKONOMI LIQUID REFF 235ML"
          ],
          [
           "EKONOMI LIQUID REFF 235ML"
          ],
          [
           "EKONOMI LIQUID REFF 235ML"
          ],
          [
           "EKONOMI LIQUID REFF 235ML"
          ],
          [
           "EKONOMI LIQUID REFF 235ML"
          ],
          [
           "EKONOMI LIQUID REFF 235ML"
          ],
          [
           "EKONOMI LIQUID REFF 235ML"
          ],
          [
           "EKONOMI LIQUID REFF 235ML"
          ],
          [
           "EKONOMI LIQUID REFF 235ML"
          ],
          [
           "EKONOMI LIQUID REFF 235ML"
          ],
          [
           "EKONOMI LIQUID REFF 235ML"
          ],
          [
           "EKONOMI LIQUID REFF 235ML"
          ],
          [
           "EKONOMI LIQUID REFF 235ML"
          ],
          [
           "EKONOMI LIQUID REFF 235ML"
          ],
          [
           "EKONOMI LIQUID REFF 235ML"
          ],
          [
           "EKONOMI LIQUID REFF 235ML"
          ],
          [
           "EKONOMI LIQUID REFF 235ML"
          ],
          [
           "EKONOMI LIQUID REFF 235ML"
          ],
          [
           "EKONOMI LIQUID REFF 235ML"
          ],
          [
           "EKONOMI LIQUID REFF 235ML"
          ],
          [
           "EKONOMI LIQUID REFF 235ML"
          ],
          [
           "EKONOMI LIQUID REFF 235ML"
          ],
          [
           "EKONOMI LIQUID REFF 235ML"
          ],
          [
           "EKONOMI LIQUID REFF 235ML"
          ],
          [
           "EKONOMI LIQUID REFF 235ML"
          ],
          [
           "EKONOMI LIQUID REFF 235ML"
          ],
          [
           "EKONOMI LIQUID REFF 235ML"
          ],
          [
           "EKONOMI LIQUID REFF 235ML"
          ],
          [
           "EKONOMI LIQUID REFF 235ML"
          ],
          [
           "EKONOMI LIQUID REFF 235ML"
          ],
          [
           "EKONOMI LIQUID REFF 235ML"
          ],
          [
           "EKONOMI LIQUID REFF 235ML"
          ],
          [
           "EKONOMI LIQUID REFF 235ML"
          ],
          [
           "EKONOMI LIQUID REFF 235ML"
          ],
          [
           "EKONOMI LIQUID REFF 235ML"
          ],
          [
           "EKONOMI LIQUID REFF 235ML"
          ],
          [
           "EKONOMI LIQUID REFF 235ML"
          ],
          [
           "EKONOMI LIQUID REFF 235ML"
          ],
          [
           "EKONOMI LIQUID REFF 235ML"
          ],
          [
           "EKONOMI LIQUID REFF 235ML"
          ],
          [
           "EKONOMI LIQUID REFF 235ML"
          ],
          [
           "EKONOMI LIQUID REFF 235ML"
          ],
          [
           "EKONOMI LIQUID REFF 235ML"
          ],
          [
           "EKONOMI LIQUID REFF 235ML"
          ],
          [
           "EKONOMI LIQUID REFF 235ML"
          ],
          [
           "EKONOMI LIQUID REFF 235ML"
          ],
          [
           "EKONOMI LIQUID REFF 235ML"
          ],
          [
           "EKONOMI LIQUID REFF 235ML"
          ],
          [
           "EKONOMI LIQUID REFF 235ML"
          ],
          [
           "EKONOMI LIQUID REFF 235ML"
          ]
         ],
         "hovertemplate": "Nama Produk=%{customdata[0]}<br>Tanggal=%{x}<br>Jumlah Terjual=%{y}<extra></extra>",
         "legendgroup": "EKONOMI LIQUID REFF 235ML",
         "line": {
          "color": "#FF97FF",
          "dash": "solid"
         },
         "marker": {
          "symbol": "circle"
         },
         "mode": "lines+markers",
         "name": "EKONOMI LIQUID REFF 235ML",
         "orientation": "v",
         "showlegend": true,
         "type": "scatter",
         "x": [
          "2024-01-01T00:00:00",
          "2024-01-08T00:00:00",
          "2024-01-15T00:00:00",
          "2024-01-22T00:00:00",
          "2024-01-29T00:00:00",
          "2024-02-05T00:00:00",
          "2024-02-12T00:00:00",
          "2024-02-19T00:00:00",
          "2024-02-26T00:00:00",
          "2024-03-04T00:00:00",
          "2024-03-11T00:00:00",
          "2024-03-18T00:00:00",
          "2024-03-25T00:00:00",
          "2024-04-01T00:00:00",
          "2024-04-08T00:00:00",
          "2024-04-15T00:00:00",
          "2024-04-22T00:00:00",
          "2024-04-29T00:00:00",
          "2024-05-06T00:00:00",
          "2024-05-13T00:00:00",
          "2024-05-20T00:00:00",
          "2024-05-27T00:00:00",
          "2024-06-03T00:00:00",
          "2024-06-10T00:00:00",
          "2024-06-17T00:00:00",
          "2024-06-24T00:00:00",
          "2024-07-01T00:00:00",
          "2024-07-08T00:00:00",
          "2024-07-15T00:00:00",
          "2024-07-22T00:00:00",
          "2024-07-29T00:00:00",
          "2024-08-05T00:00:00",
          "2024-08-12T00:00:00",
          "2024-08-19T00:00:00",
          "2024-08-26T00:00:00",
          "2024-09-02T00:00:00",
          "2024-09-09T00:00:00",
          "2024-09-16T00:00:00",
          "2024-09-23T00:00:00",
          "2024-09-30T00:00:00",
          "2024-10-07T00:00:00",
          "2024-10-14T00:00:00",
          "2024-10-21T00:00:00",
          "2024-10-28T00:00:00",
          "2024-11-04T00:00:00",
          "2024-11-11T00:00:00",
          "2024-11-18T00:00:00",
          "2024-11-25T00:00:00",
          "2024-12-02T00:00:00",
          "2024-12-09T00:00:00",
          "2024-12-16T00:00:00",
          "2024-12-23T00:00:00",
          "2024-12-30T00:00:00"
         ],
         "xaxis": "x",
         "y": [
          9,
          6,
          4,
          6,
          11,
          8,
          5,
          8,
          10,
          1,
          0,
          4,
          14,
          4,
          7,
          12,
          6,
          1,
          0,
          0,
          4,
          8,
          9,
          7,
          5,
          3,
          7,
          9,
          5,
          5,
          10,
          4,
          16,
          8,
          8,
          10,
          5,
          10,
          11,
          9,
          6,
          7,
          6,
          12,
          7,
          12,
          14,
          3,
          8,
          1,
          3,
          7,
          4
         ],
         "yaxis": "y"
        },
        {
         "customdata": [
          [
           "WALLS CORN B/WHITE 82GR"
          ],
          [
           "WALLS CORN B/WHITE 82GR"
          ],
          [
           "WALLS CORN B/WHITE 82GR"
          ],
          [
           "WALLS CORN B/WHITE 82GR"
          ],
          [
           "WALLS CORN B/WHITE 82GR"
          ],
          [
           "WALLS CORN B/WHITE 82GR"
          ],
          [
           "WALLS CORN B/WHITE 82GR"
          ],
          [
           "WALLS CORN B/WHITE 82GR"
          ],
          [
           "WALLS CORN B/WHITE 82GR"
          ],
          [
           "WALLS CORN B/WHITE 82GR"
          ],
          [
           "WALLS CORN B/WHITE 82GR"
          ],
          [
           "WALLS CORN B/WHITE 82GR"
          ],
          [
           "WALLS CORN B/WHITE 82GR"
          ],
          [
           "WALLS CORN B/WHITE 82GR"
          ],
          [
           "WALLS CORN B/WHITE 82GR"
          ],
          [
           "WALLS CORN B/WHITE 82GR"
          ],
          [
           "WALLS CORN B/WHITE 82GR"
          ],
          [
           "WALLS CORN B/WHITE 82GR"
          ],
          [
           "WALLS CORN B/WHITE 82GR"
          ],
          [
           "WALLS CORN B/WHITE 82GR"
          ],
          [
           "WALLS CORN B/WHITE 82GR"
          ],
          [
           "WALLS CORN B/WHITE 82GR"
          ],
          [
           "WALLS CORN B/WHITE 82GR"
          ],
          [
           "WALLS CORN B/WHITE 82GR"
          ],
          [
           "WALLS CORN B/WHITE 82GR"
          ],
          [
           "WALLS CORN B/WHITE 82GR"
          ],
          [
           "WALLS CORN B/WHITE 82GR"
          ],
          [
           "WALLS CORN B/WHITE 82GR"
          ],
          [
           "WALLS CORN B/WHITE 82GR"
          ],
          [
           "WALLS CORN B/WHITE 82GR"
          ],
          [
           "WALLS CORN B/WHITE 82GR"
          ],
          [
           "WALLS CORN B/WHITE 82GR"
          ],
          [
           "WALLS CORN B/WHITE 82GR"
          ],
          [
           "WALLS CORN B/WHITE 82GR"
          ],
          [
           "WALLS CORN B/WHITE 82GR"
          ],
          [
           "WALLS CORN B/WHITE 82GR"
          ],
          [
           "WALLS CORN B/WHITE 82GR"
          ],
          [
           "WALLS CORN B/WHITE 82GR"
          ],
          [
           "WALLS CORN B/WHITE 82GR"
          ],
          [
           "WALLS CORN B/WHITE 82GR"
          ],
          [
           "WALLS CORN B/WHITE 82GR"
          ],
          [
           "WALLS CORN B/WHITE 82GR"
          ],
          [
           "WALLS CORN B/WHITE 82GR"
          ],
          [
           "WALLS CORN B/WHITE 82GR"
          ],
          [
           "WALLS CORN B/WHITE 82GR"
          ],
          [
           "WALLS CORN B/WHITE 82GR"
          ],
          [
           "WALLS CORN B/WHITE 82GR"
          ],
          [
           "WALLS CORN B/WHITE 82GR"
          ],
          [
           "WALLS CORN B/WHITE 82GR"
          ],
          [
           "WALLS CORN B/WHITE 82GR"
          ],
          [
           "WALLS CORN B/WHITE 82GR"
          ],
          [
           "WALLS CORN B/WHITE 82GR"
          ],
          [
           "WALLS CORN B/WHITE 82GR"
          ]
         ],
         "hovertemplate": "Nama Produk=%{customdata[0]}<br>Tanggal=%{x}<br>Jumlah Terjual=%{y}<extra></extra>",
         "legendgroup": "WALLS CORN B/WHITE 82GR",
         "line": {
          "color": "#FECB52",
          "dash": "solid"
         },
         "marker": {
          "symbol": "circle"
         },
         "mode": "lines+markers",
         "name": "WALLS CORN B/WHITE 82GR",
         "orientation": "v",
         "showlegend": true,
         "type": "scatter",
         "x": [
          "2024-01-01T00:00:00",
          "2024-01-08T00:00:00",
          "2024-01-15T00:00:00",
          "2024-01-22T00:00:00",
          "2024-01-29T00:00:00",
          "2024-02-05T00:00:00",
          "2024-02-12T00:00:00",
          "2024-02-19T00:00:00",
          "2024-02-26T00:00:00",
          "2024-03-04T00:00:00",
          "2024-03-11T00:00:00",
          "2024-03-18T00:00:00",
          "2024-03-25T00:00:00",
          "2024-04-01T00:00:00",
          "2024-04-08T00:00:00",
          "2024-04-15T00:00:00",
          "2024-04-22T00:00:00",
          "2024-04-29T00:00:00",
          "2024-05-06T00:00:00",
          "2024-05-13T00:00:00",
          "2024-05-20T00:00:00",
          "2024-05-27T00:00:00",
          "2024-06-03T00:00:00",
          "2024-06-10T00:00:00",
          "2024-06-17T00:00:00",
          "2024-06-24T00:00:00",
          "2024-07-01T00:00:00",
          "2024-07-08T00:00:00",
          "2024-07-15T00:00:00",
          "2024-07-22T00:00:00",
          "2024-07-29T00:00:00",
          "2024-08-05T00:00:00",
          "2024-08-12T00:00:00",
          "2024-08-19T00:00:00",
          "2024-08-26T00:00:00",
          "2024-09-02T00:00:00",
          "2024-09-09T00:00:00",
          "2024-09-16T00:00:00",
          "2024-09-23T00:00:00",
          "2024-09-30T00:00:00",
          "2024-10-07T00:00:00",
          "2024-10-14T00:00:00",
          "2024-10-21T00:00:00",
          "2024-10-28T00:00:00",
          "2024-11-04T00:00:00",
          "2024-11-11T00:00:00",
          "2024-11-18T00:00:00",
          "2024-11-25T00:00:00",
          "2024-12-02T00:00:00",
          "2024-12-09T00:00:00",
          "2024-12-16T00:00:00",
          "2024-12-23T00:00:00",
          "2024-12-30T00:00:00"
         ],
         "xaxis": "x",
         "y": [
          17,
          12,
          3,
          22,
          8,
          15,
          3,
          9,
          6,
          5,
          10,
          5,
          7,
          3,
          0,
          6,
          7,
          11,
          3,
          7,
          4,
          9,
          10,
          8,
          10,
          0,
          0,
          2,
          6,
          6,
          7,
          6,
          4,
          3,
          4,
          1,
          6,
          5,
          4,
          7,
          10,
          2,
          5,
          5,
          6,
          1,
          6,
          5,
          8,
          9,
          7,
          18,
          0
         ],
         "yaxis": "y"
        },
        {
         "customdata": [
          [
           "WALLS POPULAIRE CKL"
          ],
          [
           "WALLS POPULAIRE CKL"
          ],
          [
           "WALLS POPULAIRE CKL"
          ],
          [
           "WALLS POPULAIRE CKL"
          ],
          [
           "WALLS POPULAIRE CKL"
          ],
          [
           "WALLS POPULAIRE CKL"
          ],
          [
           "WALLS POPULAIRE CKL"
          ],
          [
           "WALLS POPULAIRE CKL"
          ],
          [
           "WALLS POPULAIRE CKL"
          ],
          [
           "WALLS POPULAIRE CKL"
          ],
          [
           "WALLS POPULAIRE CKL"
          ],
          [
           "WALLS POPULAIRE CKL"
          ],
          [
           "WALLS POPULAIRE CKL"
          ],
          [
           "WALLS POPULAIRE CKL"
          ],
          [
           "WALLS POPULAIRE CKL"
          ],
          [
           "WALLS POPULAIRE CKL"
          ],
          [
           "WALLS POPULAIRE CKL"
          ],
          [
           "WALLS POPULAIRE CKL"
          ],
          [
           "WALLS POPULAIRE CKL"
          ],
          [
           "WALLS POPULAIRE CKL"
          ],
          [
           "WALLS POPULAIRE CKL"
          ],
          [
           "WALLS POPULAIRE CKL"
          ],
          [
           "WALLS POPULAIRE CKL"
          ],
          [
           "WALLS POPULAIRE CKL"
          ],
          [
           "WALLS POPULAIRE CKL"
          ],
          [
           "WALLS POPULAIRE CKL"
          ],
          [
           "WALLS POPULAIRE CKL"
          ],
          [
           "WALLS POPULAIRE CKL"
          ],
          [
           "WALLS POPULAIRE CKL"
          ],
          [
           "WALLS POPULAIRE CKL"
          ],
          [
           "WALLS POPULAIRE CKL"
          ],
          [
           "WALLS POPULAIRE CKL"
          ],
          [
           "WALLS POPULAIRE CKL"
          ],
          [
           "WALLS POPULAIRE CKL"
          ],
          [
           "WALLS POPULAIRE CKL"
          ],
          [
           "WALLS POPULAIRE CKL"
          ],
          [
           "WALLS POPULAIRE CKL"
          ],
          [
           "WALLS POPULAIRE CKL"
          ],
          [
           "WALLS POPULAIRE CKL"
          ],
          [
           "WALLS POPULAIRE CKL"
          ],
          [
           "WALLS POPULAIRE CKL"
          ],
          [
           "WALLS POPULAIRE CKL"
          ],
          [
           "WALLS POPULAIRE CKL"
          ],
          [
           "WALLS POPULAIRE CKL"
          ],
          [
           "WALLS POPULAIRE CKL"
          ],
          [
           "WALLS POPULAIRE CKL"
          ],
          [
           "WALLS POPULAIRE CKL"
          ],
          [
           "WALLS POPULAIRE CKL"
          ],
          [
           "WALLS POPULAIRE CKL"
          ],
          [
           "WALLS POPULAIRE CKL"
          ],
          [
           "WALLS POPULAIRE CKL"
          ],
          [
           "WALLS POPULAIRE CKL"
          ],
          [
           "WALLS POPULAIRE CKL"
          ]
         ],
         "hovertemplate": "Nama Produk=%{customdata[0]}<br>Tanggal=%{x}<br>Jumlah Terjual=%{y}<extra></extra>",
         "legendgroup": "WALLS POPULAIRE CKL",
         "line": {
          "color": "#636efa",
          "dash": "solid"
         },
         "marker": {
          "symbol": "circle"
         },
         "mode": "lines+markers",
         "name": "WALLS POPULAIRE CKL",
         "orientation": "v",
         "showlegend": true,
         "type": "scatter",
         "x": [
          "2024-01-01T00:00:00",
          "2024-01-08T00:00:00",
          "2024-01-15T00:00:00",
          "2024-01-22T00:00:00",
          "2024-01-29T00:00:00",
          "2024-02-05T00:00:00",
          "2024-02-12T00:00:00",
          "2024-02-19T00:00:00",
          "2024-02-26T00:00:00",
          "2024-03-04T00:00:00",
          "2024-03-11T00:00:00",
          "2024-03-18T00:00:00",
          "2024-03-25T00:00:00",
          "2024-04-01T00:00:00",
          "2024-04-08T00:00:00",
          "2024-04-15T00:00:00",
          "2024-04-22T00:00:00",
          "2024-04-29T00:00:00",
          "2024-05-06T00:00:00",
          "2024-05-13T00:00:00",
          "2024-05-20T00:00:00",
          "2024-05-27T00:00:00",
          "2024-06-03T00:00:00",
          "2024-06-10T00:00:00",
          "2024-06-17T00:00:00",
          "2024-06-24T00:00:00",
          "2024-07-01T00:00:00",
          "2024-07-08T00:00:00",
          "2024-07-15T00:00:00",
          "2024-07-22T00:00:00",
          "2024-07-29T00:00:00",
          "2024-08-05T00:00:00",
          "2024-08-12T00:00:00",
          "2024-08-19T00:00:00",
          "2024-08-26T00:00:00",
          "2024-09-02T00:00:00",
          "2024-09-09T00:00:00",
          "2024-09-16T00:00:00",
          "2024-09-23T00:00:00",
          "2024-09-30T00:00:00",
          "2024-10-07T00:00:00",
          "2024-10-14T00:00:00",
          "2024-10-21T00:00:00",
          "2024-10-28T00:00:00",
          "2024-11-04T00:00:00",
          "2024-11-11T00:00:00",
          "2024-11-18T00:00:00",
          "2024-11-25T00:00:00",
          "2024-12-02T00:00:00",
          "2024-12-09T00:00:00",
          "2024-12-16T00:00:00",
          "2024-12-23T00:00:00",
          "2024-12-30T00:00:00"
         ],
         "xaxis": "x",
         "y": [
          10,
          3,
          7,
          7,
          8,
          4,
          9,
          5,
          5,
          5,
          6,
          1,
          9,
          8,
          4,
          11,
          7,
          6,
          11,
          6,
          3,
          5,
          3,
          6,
          14,
          10,
          11,
          8,
          3,
          3,
          4,
          7,
          10,
          4,
          4,
          8,
          6,
          5,
          9,
          3,
          6,
          3,
          6,
          8,
          7,
          4,
          7,
          4,
          4,
          5,
          5,
          10,
          9
         ],
         "yaxis": "y"
        },
        {
         "customdata": [
          [
           "WALLS POPULAIRE STR"
          ],
          [
           "WALLS POPULAIRE STR"
          ],
          [
           "WALLS POPULAIRE STR"
          ],
          [
           "WALLS POPULAIRE STR"
          ],
          [
           "WALLS POPULAIRE STR"
          ],
          [
           "WALLS POPULAIRE STR"
          ],
          [
           "WALLS POPULAIRE STR"
          ],
          [
           "WALLS POPULAIRE STR"
          ],
          [
           "WALLS POPULAIRE STR"
          ],
          [
           "WALLS POPULAIRE STR"
          ],
          [
           "WALLS POPULAIRE STR"
          ],
          [
           "WALLS POPULAIRE STR"
          ],
          [
           "WALLS POPULAIRE STR"
          ],
          [
           "WALLS POPULAIRE STR"
          ],
          [
           "WALLS POPULAIRE STR"
          ],
          [
           "WALLS POPULAIRE STR"
          ],
          [
           "WALLS POPULAIRE STR"
          ],
          [
           "WALLS POPULAIRE STR"
          ],
          [
           "WALLS POPULAIRE STR"
          ],
          [
           "WALLS POPULAIRE STR"
          ],
          [
           "WALLS POPULAIRE STR"
          ],
          [
           "WALLS POPULAIRE STR"
          ],
          [
           "WALLS POPULAIRE STR"
          ],
          [
           "WALLS POPULAIRE STR"
          ],
          [
           "WALLS POPULAIRE STR"
          ],
          [
           "WALLS POPULAIRE STR"
          ],
          [
           "WALLS POPULAIRE STR"
          ],
          [
           "WALLS POPULAIRE STR"
          ],
          [
           "WALLS POPULAIRE STR"
          ],
          [
           "WALLS POPULAIRE STR"
          ],
          [
           "WALLS POPULAIRE STR"
          ],
          [
           "WALLS POPULAIRE STR"
          ],
          [
           "WALLS POPULAIRE STR"
          ],
          [
           "WALLS POPULAIRE STR"
          ],
          [
           "WALLS POPULAIRE STR"
          ],
          [
           "WALLS POPULAIRE STR"
          ],
          [
           "WALLS POPULAIRE STR"
          ],
          [
           "WALLS POPULAIRE STR"
          ],
          [
           "WALLS POPULAIRE STR"
          ],
          [
           "WALLS POPULAIRE STR"
          ],
          [
           "WALLS POPULAIRE STR"
          ],
          [
           "WALLS POPULAIRE STR"
          ],
          [
           "WALLS POPULAIRE STR"
          ],
          [
           "WALLS POPULAIRE STR"
          ],
          [
           "WALLS POPULAIRE STR"
          ],
          [
           "WALLS POPULAIRE STR"
          ],
          [
           "WALLS POPULAIRE STR"
          ],
          [
           "WALLS POPULAIRE STR"
          ],
          [
           "WALLS POPULAIRE STR"
          ],
          [
           "WALLS POPULAIRE STR"
          ],
          [
           "WALLS POPULAIRE STR"
          ],
          [
           "WALLS POPULAIRE STR"
          ],
          [
           "WALLS POPULAIRE STR"
          ]
         ],
         "hovertemplate": "Nama Produk=%{customdata[0]}<br>Tanggal=%{x}<br>Jumlah Terjual=%{y}<extra></extra>",
         "legendgroup": "WALLS POPULAIRE STR",
         "line": {
          "color": "#EF553B",
          "dash": "solid"
         },
         "marker": {
          "symbol": "circle"
         },
         "mode": "lines+markers",
         "name": "WALLS POPULAIRE STR",
         "orientation": "v",
         "showlegend": true,
         "type": "scatter",
         "x": [
          "2024-01-01T00:00:00",
          "2024-01-08T00:00:00",
          "2024-01-15T00:00:00",
          "2024-01-22T00:00:00",
          "2024-01-29T00:00:00",
          "2024-02-05T00:00:00",
          "2024-02-12T00:00:00",
          "2024-02-19T00:00:00",
          "2024-02-26T00:00:00",
          "2024-03-04T00:00:00",
          "2024-03-11T00:00:00",
          "2024-03-18T00:00:00",
          "2024-03-25T00:00:00",
          "2024-04-01T00:00:00",
          "2024-04-08T00:00:00",
          "2024-04-15T00:00:00",
          "2024-04-22T00:00:00",
          "2024-04-29T00:00:00",
          "2024-05-06T00:00:00",
          "2024-05-13T00:00:00",
          "2024-05-20T00:00:00",
          "2024-05-27T00:00:00",
          "2024-06-03T00:00:00",
          "2024-06-10T00:00:00",
          "2024-06-17T00:00:00",
          "2024-06-24T00:00:00",
          "2024-07-01T00:00:00",
          "2024-07-08T00:00:00",
          "2024-07-15T00:00:00",
          "2024-07-22T00:00:00",
          "2024-07-29T00:00:00",
          "2024-08-05T00:00:00",
          "2024-08-12T00:00:00",
          "2024-08-19T00:00:00",
          "2024-08-26T00:00:00",
          "2024-09-02T00:00:00",
          "2024-09-09T00:00:00",
          "2024-09-16T00:00:00",
          "2024-09-23T00:00:00",
          "2024-09-30T00:00:00",
          "2024-10-07T00:00:00",
          "2024-10-14T00:00:00",
          "2024-10-21T00:00:00",
          "2024-10-28T00:00:00",
          "2024-11-04T00:00:00",
          "2024-11-11T00:00:00",
          "2024-11-18T00:00:00",
          "2024-11-25T00:00:00",
          "2024-12-02T00:00:00",
          "2024-12-09T00:00:00",
          "2024-12-16T00:00:00",
          "2024-12-23T00:00:00",
          "2024-12-30T00:00:00"
         ],
         "xaxis": "x",
         "y": [
          4,
          4,
          7,
          6,
          5,
          6,
          7,
          7,
          2,
          13,
          10,
          4,
          5,
          3,
          3,
          6,
          5,
          10,
          6,
          10,
          6,
          5,
          9,
          4,
          12,
          9,
          12,
          4,
          7,
          1,
          9,
          10,
          9,
          1,
          9,
          8,
          5,
          6,
          9,
          2,
          7,
          6,
          5,
          12,
          5,
          4,
          10,
          3,
          6,
          5,
          3,
          5,
          1
         ],
         "yaxis": "y"
        },
        {
         "customdata": [
          [
           "MAMA LEMON 115ML"
          ],
          [
           "MAMA LEMON 115ML"
          ],
          [
           "MAMA LEMON 115ML"
          ],
          [
           "MAMA LEMON 115ML"
          ],
          [
           "MAMA LEMON 115ML"
          ],
          [
           "MAMA LEMON 115ML"
          ],
          [
           "MAMA LEMON 115ML"
          ],
          [
           "MAMA LEMON 115ML"
          ],
          [
           "MAMA LEMON 115ML"
          ],
          [
           "MAMA LEMON 115ML"
          ],
          [
           "MAMA LEMON 115ML"
          ],
          [
           "MAMA LEMON 115ML"
          ],
          [
           "MAMA LEMON 115ML"
          ],
          [
           "MAMA LEMON 115ML"
          ],
          [
           "MAMA LEMON 115ML"
          ],
          [
           "MAMA LEMON 115ML"
          ],
          [
           "MAMA LEMON 115ML"
          ],
          [
           "MAMA LEMON 115ML"
          ],
          [
           "MAMA LEMON 115ML"
          ],
          [
           "MAMA LEMON 115ML"
          ],
          [
           "MAMA LEMON 115ML"
          ],
          [
           "MAMA LEMON 115ML"
          ],
          [
           "MAMA LEMON 115ML"
          ],
          [
           "MAMA LEMON 115ML"
          ],
          [
           "MAMA LEMON 115ML"
          ],
          [
           "MAMA LEMON 115ML"
          ],
          [
           "MAMA LEMON 115ML"
          ],
          [
           "MAMA LEMON 115ML"
          ],
          [
           "MAMA LEMON 115ML"
          ],
          [
           "MAMA LEMON 115ML"
          ],
          [
           "MAMA LEMON 115ML"
          ],
          [
           "MAMA LEMON 115ML"
          ],
          [
           "MAMA LEMON 115ML"
          ],
          [
           "MAMA LEMON 115ML"
          ],
          [
           "MAMA LEMON 115ML"
          ],
          [
           "MAMA LEMON 115ML"
          ],
          [
           "MAMA LEMON 115ML"
          ],
          [
           "MAMA LEMON 115ML"
          ],
          [
           "MAMA LEMON 115ML"
          ],
          [
           "MAMA LEMON 115ML"
          ],
          [
           "MAMA LEMON 115ML"
          ],
          [
           "MAMA LEMON 115ML"
          ],
          [
           "MAMA LEMON 115ML"
          ],
          [
           "MAMA LEMON 115ML"
          ],
          [
           "MAMA LEMON 115ML"
          ],
          [
           "MAMA LEMON 115ML"
          ],
          [
           "MAMA LEMON 115ML"
          ],
          [
           "MAMA LEMON 115ML"
          ],
          [
           "MAMA LEMON 115ML"
          ],
          [
           "MAMA LEMON 115ML"
          ],
          [
           "MAMA LEMON 115ML"
          ],
          [
           "MAMA LEMON 115ML"
          ],
          [
           "MAMA LEMON 115ML"
          ]
         ],
         "hovertemplate": "Nama Produk=%{customdata[0]}<br>Tanggal=%{x}<br>Jumlah Terjual=%{y}<extra></extra>",
         "legendgroup": "MAMA LEMON 115ML",
         "line": {
          "color": "#00cc96",
          "dash": "solid"
         },
         "marker": {
          "symbol": "circle"
         },
         "mode": "lines+markers",
         "name": "MAMA LEMON 115ML",
         "orientation": "v",
         "showlegend": true,
         "type": "scatter",
         "x": [
          "2024-01-01T00:00:00",
          "2024-01-08T00:00:00",
          "2024-01-15T00:00:00",
          "2024-01-22T00:00:00",
          "2024-01-29T00:00:00",
          "2024-02-05T00:00:00",
          "2024-02-12T00:00:00",
          "2024-02-19T00:00:00",
          "2024-02-26T00:00:00",
          "2024-03-04T00:00:00",
          "2024-03-11T00:00:00",
          "2024-03-18T00:00:00",
          "2024-03-25T00:00:00",
          "2024-04-01T00:00:00",
          "2024-04-08T00:00:00",
          "2024-04-15T00:00:00",
          "2024-04-22T00:00:00",
          "2024-04-29T00:00:00",
          "2024-05-06T00:00:00",
          "2024-05-13T00:00:00",
          "2024-05-20T00:00:00",
          "2024-05-27T00:00:00",
          "2024-06-03T00:00:00",
          "2024-06-10T00:00:00",
          "2024-06-17T00:00:00",
          "2024-06-24T00:00:00",
          "2024-07-01T00:00:00",
          "2024-07-08T00:00:00",
          "2024-07-15T00:00:00",
          "2024-07-22T00:00:00",
          "2024-07-29T00:00:00",
          "2024-08-05T00:00:00",
          "2024-08-12T00:00:00",
          "2024-08-19T00:00:00",
          "2024-08-26T00:00:00",
          "2024-09-02T00:00:00",
          "2024-09-09T00:00:00",
          "2024-09-16T00:00:00",
          "2024-09-23T00:00:00",
          "2024-09-30T00:00:00",
          "2024-10-07T00:00:00",
          "2024-10-14T00:00:00",
          "2024-10-21T00:00:00",
          "2024-10-28T00:00:00",
          "2024-11-04T00:00:00",
          "2024-11-11T00:00:00",
          "2024-11-18T00:00:00",
          "2024-11-25T00:00:00",
          "2024-12-02T00:00:00",
          "2024-12-09T00:00:00",
          "2024-12-16T00:00:00",
          "2024-12-23T00:00:00",
          "2024-12-30T00:00:00"
         ],
         "xaxis": "x",
         "y": [
          3,
          6,
          7,
          8,
          7,
          4,
          9,
          3,
          8,
          9,
          17,
          9,
          12,
          5,
          3,
          8,
          14,
          14,
          9,
          0,
          3,
          4,
          6,
          7,
          4,
          6,
          5,
          9,
          9,
          5,
          4,
          9,
          6,
          2,
          7,
          9,
          5,
          3,
          3,
          2,
          9,
          2,
          1,
          4,
          4,
          10,
          4,
          3,
          5,
          4,
          4,
          4,
          0
         ],
         "yaxis": "y"
        },
        {
         "customdata": [
          [
           "DELFI TOP CHO 9GR"
          ],
          [
           "DELFI TOP CHO 9GR"
          ],
          [
           "DELFI TOP CHO 9GR"
          ],
          [
           "DELFI TOP CHO 9GR"
          ],
          [
           "DELFI TOP CHO 9GR"
          ],
          [
           "DELFI TOP CHO 9GR"
          ],
          [
           "DELFI TOP CHO 9GR"
          ],
          [
           "DELFI TOP CHO 9GR"
          ],
          [
           "DELFI TOP CHO 9GR"
          ],
          [
           "DELFI TOP CHO 9GR"
          ],
          [
           "DELFI TOP CHO 9GR"
          ],
          [
           "DELFI TOP CHO 9GR"
          ],
          [
           "DELFI TOP CHO 9GR"
          ],
          [
           "DELFI TOP CHO 9GR"
          ],
          [
           "DELFI TOP CHO 9GR"
          ],
          [
           "DELFI TOP CHO 9GR"
          ],
          [
           "DELFI TOP CHO 9GR"
          ],
          [
           "DELFI TOP CHO 9GR"
          ],
          [
           "DELFI TOP CHO 9GR"
          ],
          [
           "DELFI TOP CHO 9GR"
          ],
          [
           "DELFI TOP CHO 9GR"
          ],
          [
           "DELFI TOP CHO 9GR"
          ],
          [
           "DELFI TOP CHO 9GR"
          ],
          [
           "DELFI TOP CHO 9GR"
          ],
          [
           "DELFI TOP CHO 9GR"
          ],
          [
           "DELFI TOP CHO 9GR"
          ],
          [
           "DELFI TOP CHO 9GR"
          ],
          [
           "DELFI TOP CHO 9GR"
          ],
          [
           "DELFI TOP CHO 9GR"
          ],
          [
           "DELFI TOP CHO 9GR"
          ],
          [
           "DELFI TOP CHO 9GR"
          ],
          [
           "DELFI TOP CHO 9GR"
          ],
          [
           "DELFI TOP CHO 9GR"
          ],
          [
           "DELFI TOP CHO 9GR"
          ],
          [
           "DELFI TOP CHO 9GR"
          ],
          [
           "DELFI TOP CHO 9GR"
          ],
          [
           "DELFI TOP CHO 9GR"
          ],
          [
           "DELFI TOP CHO 9GR"
          ],
          [
           "DELFI TOP CHO 9GR"
          ],
          [
           "DELFI TOP CHO 9GR"
          ],
          [
           "DELFI TOP CHO 9GR"
          ],
          [
           "DELFI TOP CHO 9GR"
          ],
          [
           "DELFI TOP CHO 9GR"
          ],
          [
           "DELFI TOP CHO 9GR"
          ],
          [
           "DELFI TOP CHO 9GR"
          ],
          [
           "DELFI TOP CHO 9GR"
          ],
          [
           "DELFI TOP CHO 9GR"
          ],
          [
           "DELFI TOP CHO 9GR"
          ],
          [
           "DELFI TOP CHO 9GR"
          ],
          [
           "DELFI TOP CHO 9GR"
          ],
          [
           "DELFI TOP CHO 9GR"
          ],
          [
           "DELFI TOP CHO 9GR"
          ],
          [
           "DELFI TOP CHO 9GR"
          ]
         ],
         "hovertemplate": "Nama Produk=%{customdata[0]}<br>Tanggal=%{x}<br>Jumlah Terjual=%{y}<extra></extra>",
         "legendgroup": "DELFI TOP CHO 9GR",
         "line": {
          "color": "#ab63fa",
          "dash": "solid"
         },
         "marker": {
          "symbol": "circle"
         },
         "mode": "lines+markers",
         "name": "DELFI TOP CHO 9GR",
         "orientation": "v",
         "showlegend": true,
         "type": "scatter",
         "x": [
          "2024-01-01T00:00:00",
          "2024-01-08T00:00:00",
          "2024-01-15T00:00:00",
          "2024-01-22T00:00:00",
          "2024-01-29T00:00:00",
          "2024-02-05T00:00:00",
          "2024-02-12T00:00:00",
          "2024-02-19T00:00:00",
          "2024-02-26T00:00:00",
          "2024-03-04T00:00:00",
          "2024-03-11T00:00:00",
          "2024-03-18T00:00:00",
          "2024-03-25T00:00:00",
          "2024-04-01T00:00:00",
          "2024-04-08T00:00:00",
          "2024-04-15T00:00:00",
          "2024-04-22T00:00:00",
          "2024-04-29T00:00:00",
          "2024-05-06T00:00:00",
          "2024-05-13T00:00:00",
          "2024-05-20T00:00:00",
          "2024-05-27T00:00:00",
          "2024-06-03T00:00:00",
          "2024-06-10T00:00:00",
          "2024-06-17T00:00:00",
          "2024-06-24T00:00:00",
          "2024-07-01T00:00:00",
          "2024-07-08T00:00:00",
          "2024-07-15T00:00:00",
          "2024-07-22T00:00:00",
          "2024-07-29T00:00:00",
          "2024-08-05T00:00:00",
          "2024-08-12T00:00:00",
          "2024-08-19T00:00:00",
          "2024-08-26T00:00:00",
          "2024-09-02T00:00:00",
          "2024-09-09T00:00:00",
          "2024-09-16T00:00:00",
          "2024-09-23T00:00:00",
          "2024-09-30T00:00:00",
          "2024-10-07T00:00:00",
          "2024-10-14T00:00:00",
          "2024-10-21T00:00:00",
          "2024-10-28T00:00:00",
          "2024-11-04T00:00:00",
          "2024-11-11T00:00:00",
          "2024-11-18T00:00:00",
          "2024-11-25T00:00:00",
          "2024-12-02T00:00:00",
          "2024-12-09T00:00:00",
          "2024-12-16T00:00:00",
          "2024-12-23T00:00:00",
          "2024-12-30T00:00:00"
         ],
         "xaxis": "x",
         "y": [
          8,
          4,
          1,
          2,
          10,
          10,
          5,
          6,
          17,
          2,
          4,
          5,
          5,
          1,
          1,
          2,
          5,
          9,
          7,
          3,
          9,
          0,
          2,
          3,
          8,
          2,
          6,
          4,
          8,
          5,
          4,
          0,
          8,
          7,
          12,
          17,
          3,
          3,
          6,
          11,
          5,
          5,
          6,
          5,
          5,
          4,
          8,
          5,
          4,
          10,
          8,
          4,
          2
         ],
         "yaxis": "y"
        },
        {
         "customdata": [
          [
           "ROMA KELAPA 300GR"
          ],
          [
           "ROMA KELAPA 300GR"
          ],
          [
           "ROMA KELAPA 300GR"
          ],
          [
           "ROMA KELAPA 300GR"
          ],
          [
           "ROMA KELAPA 300GR"
          ],
          [
           "ROMA KELAPA 300GR"
          ],
          [
           "ROMA KELAPA 300GR"
          ],
          [
           "ROMA KELAPA 300GR"
          ],
          [
           "ROMA KELAPA 300GR"
          ],
          [
           "ROMA KELAPA 300GR"
          ],
          [
           "ROMA KELAPA 300GR"
          ],
          [
           "ROMA KELAPA 300GR"
          ],
          [
           "ROMA KELAPA 300GR"
          ],
          [
           "ROMA KELAPA 300GR"
          ],
          [
           "ROMA KELAPA 300GR"
          ],
          [
           "ROMA KELAPA 300GR"
          ],
          [
           "ROMA KELAPA 300GR"
          ],
          [
           "ROMA KELAPA 300GR"
          ],
          [
           "ROMA KELAPA 300GR"
          ],
          [
           "ROMA KELAPA 300GR"
          ],
          [
           "ROMA KELAPA 300GR"
          ],
          [
           "ROMA KELAPA 300GR"
          ],
          [
           "ROMA KELAPA 300GR"
          ],
          [
           "ROMA KELAPA 300GR"
          ],
          [
           "ROMA KELAPA 300GR"
          ],
          [
           "ROMA KELAPA 300GR"
          ],
          [
           "ROMA KELAPA 300GR"
          ],
          [
           "ROMA KELAPA 300GR"
          ],
          [
           "ROMA KELAPA 300GR"
          ],
          [
           "ROMA KELAPA 300GR"
          ],
          [
           "ROMA KELAPA 300GR"
          ],
          [
           "ROMA KELAPA 300GR"
          ],
          [
           "ROMA KELAPA 300GR"
          ],
          [
           "ROMA KELAPA 300GR"
          ],
          [
           "ROMA KELAPA 300GR"
          ],
          [
           "ROMA KELAPA 300GR"
          ],
          [
           "ROMA KELAPA 300GR"
          ],
          [
           "ROMA KELAPA 300GR"
          ],
          [
           "ROMA KELAPA 300GR"
          ],
          [
           "ROMA KELAPA 300GR"
          ],
          [
           "ROMA KELAPA 300GR"
          ],
          [
           "ROMA KELAPA 300GR"
          ],
          [
           "ROMA KELAPA 300GR"
          ],
          [
           "ROMA KELAPA 300GR"
          ],
          [
           "ROMA KELAPA 300GR"
          ],
          [
           "ROMA KELAPA 300GR"
          ],
          [
           "ROMA KELAPA 300GR"
          ],
          [
           "ROMA KELAPA 300GR"
          ],
          [
           "ROMA KELAPA 300GR"
          ],
          [
           "ROMA KELAPA 300GR"
          ],
          [
           "ROMA KELAPA 300GR"
          ],
          [
           "ROMA KELAPA 300GR"
          ],
          [
           "ROMA KELAPA 300GR"
          ]
         ],
         "hovertemplate": "Nama Produk=%{customdata[0]}<br>Tanggal=%{x}<br>Jumlah Terjual=%{y}<extra></extra>",
         "legendgroup": "ROMA KELAPA 300GR",
         "line": {
          "color": "#FFA15A",
          "dash": "solid"
         },
         "marker": {
          "symbol": "circle"
         },
         "mode": "lines+markers",
         "name": "ROMA KELAPA 300GR",
         "orientation": "v",
         "showlegend": true,
         "type": "scatter",
         "x": [
          "2024-01-01T00:00:00",
          "2024-01-08T00:00:00",
          "2024-01-15T00:00:00",
          "2024-01-22T00:00:00",
          "2024-01-29T00:00:00",
          "2024-02-05T00:00:00",
          "2024-02-12T00:00:00",
          "2024-02-19T00:00:00",
          "2024-02-26T00:00:00",
          "2024-03-04T00:00:00",
          "2024-03-11T00:00:00",
          "2024-03-18T00:00:00",
          "2024-03-25T00:00:00",
          "2024-04-01T00:00:00",
          "2024-04-08T00:00:00",
          "2024-04-15T00:00:00",
          "2024-04-22T00:00:00",
          "2024-04-29T00:00:00",
          "2024-05-06T00:00:00",
          "2024-05-13T00:00:00",
          "2024-05-20T00:00:00",
          "2024-05-27T00:00:00",
          "2024-06-03T00:00:00",
          "2024-06-10T00:00:00",
          "2024-06-17T00:00:00",
          "2024-06-24T00:00:00",
          "2024-07-01T00:00:00",
          "2024-07-08T00:00:00",
          "2024-07-15T00:00:00",
          "2024-07-22T00:00:00",
          "2024-07-29T00:00:00",
          "2024-08-05T00:00:00",
          "2024-08-12T00:00:00",
          "2024-08-19T00:00:00",
          "2024-08-26T00:00:00",
          "2024-09-02T00:00:00",
          "2024-09-09T00:00:00",
          "2024-09-16T00:00:00",
          "2024-09-23T00:00:00",
          "2024-09-30T00:00:00",
          "2024-10-07T00:00:00",
          "2024-10-14T00:00:00",
          "2024-10-21T00:00:00",
          "2024-10-28T00:00:00",
          "2024-11-04T00:00:00",
          "2024-11-11T00:00:00",
          "2024-11-18T00:00:00",
          "2024-11-25T00:00:00",
          "2024-12-02T00:00:00",
          "2024-12-09T00:00:00",
          "2024-12-16T00:00:00",
          "2024-12-23T00:00:00",
          "2024-12-30T00:00:00"
         ],
         "xaxis": "x",
         "y": [
          12,
          8,
          6,
          3,
          6,
          6,
          9,
          6,
          12,
          3,
          8,
          5,
          8,
          7,
          3,
          1,
          6,
          5,
          1,
          4,
          1,
          3,
          4,
          0,
          7,
          1,
          6,
          3,
          3,
          6,
          6,
          3,
          4,
          2,
          2,
          6,
          1,
          4,
          5,
          5,
          7,
          7,
          13,
          6,
          6,
          6,
          3,
          8,
          7,
          9,
          4,
          8,
          1
         ],
         "yaxis": "y"
        },
        {
         "customdata": [
          [
           "DELFI TOP B/WHITE 9GR"
          ],
          [
           "DELFI TOP B/WHITE 9GR"
          ],
          [
           "DELFI TOP B/WHITE 9GR"
          ],
          [
           "DELFI TOP B/WHITE 9GR"
          ],
          [
           "DELFI TOP B/WHITE 9GR"
          ],
          [
           "DELFI TOP B/WHITE 9GR"
          ],
          [
           "DELFI TOP B/WHITE 9GR"
          ],
          [
           "DELFI TOP B/WHITE 9GR"
          ],
          [
           "DELFI TOP B/WHITE 9GR"
          ],
          [
           "DELFI TOP B/WHITE 9GR"
          ],
          [
           "DELFI TOP B/WHITE 9GR"
          ],
          [
           "DELFI TOP B/WHITE 9GR"
          ],
          [
           "DELFI TOP B/WHITE 9GR"
          ],
          [
           "DELFI TOP B/WHITE 9GR"
          ],
          [
           "DELFI TOP B/WHITE 9GR"
          ],
          [
           "DELFI TOP B/WHITE 9GR"
          ],
          [
           "DELFI TOP B/WHITE 9GR"
          ],
          [
           "DELFI TOP B/WHITE 9GR"
          ],
          [
           "DELFI TOP B/WHITE 9GR"
          ],
          [
           "DELFI TOP B/WHITE 9GR"
          ],
          [
           "DELFI TOP B/WHITE 9GR"
          ],
          [
           "DELFI TOP B/WHITE 9GR"
          ],
          [
           "DELFI TOP B/WHITE 9GR"
          ],
          [
           "DELFI TOP B/WHITE 9GR"
          ],
          [
           "DELFI TOP B/WHITE 9GR"
          ],
          [
           "DELFI TOP B/WHITE 9GR"
          ],
          [
           "DELFI TOP B/WHITE 9GR"
          ],
          [
           "DELFI TOP B/WHITE 9GR"
          ],
          [
           "DELFI TOP B/WHITE 9GR"
          ],
          [
           "DELFI TOP B/WHITE 9GR"
          ],
          [
           "DELFI TOP B/WHITE 9GR"
          ],
          [
           "DELFI TOP B/WHITE 9GR"
          ],
          [
           "DELFI TOP B/WHITE 9GR"
          ],
          [
           "DELFI TOP B/WHITE 9GR"
          ],
          [
           "DELFI TOP B/WHITE 9GR"
          ],
          [
           "DELFI TOP B/WHITE 9GR"
          ],
          [
           "DELFI TOP B/WHITE 9GR"
          ],
          [
           "DELFI TOP B/WHITE 9GR"
          ],
          [
           "DELFI TOP B/WHITE 9GR"
          ],
          [
           "DELFI TOP B/WHITE 9GR"
          ],
          [
           "DELFI TOP B/WHITE 9GR"
          ],
          [
           "DELFI TOP B/WHITE 9GR"
          ],
          [
           "DELFI TOP B/WHITE 9GR"
          ],
          [
           "DELFI TOP B/WHITE 9GR"
          ],
          [
           "DELFI TOP B/WHITE 9GR"
          ],
          [
           "DELFI TOP B/WHITE 9GR"
          ],
          [
           "DELFI TOP B/WHITE 9GR"
          ],
          [
           "DELFI TOP B/WHITE 9GR"
          ],
          [
           "DELFI TOP B/WHITE 9GR"
          ],
          [
           "DELFI TOP B/WHITE 9GR"
          ],
          [
           "DELFI TOP B/WHITE 9GR"
          ],
          [
           "DELFI TOP B/WHITE 9GR"
          ],
          [
           "DELFI TOP B/WHITE 9GR"
          ]
         ],
         "hovertemplate": "Nama Produk=%{customdata[0]}<br>Tanggal=%{x}<br>Jumlah Terjual=%{y}<extra></extra>",
         "legendgroup": "DELFI TOP B/WHITE 9GR",
         "line": {
          "color": "#19d3f3",
          "dash": "solid"
         },
         "marker": {
          "symbol": "circle"
         },
         "mode": "lines+markers",
         "name": "DELFI TOP B/WHITE 9GR",
         "orientation": "v",
         "showlegend": true,
         "type": "scatter",
         "x": [
          "2024-01-01T00:00:00",
          "2024-01-08T00:00:00",
          "2024-01-15T00:00:00",
          "2024-01-22T00:00:00",
          "2024-01-29T00:00:00",
          "2024-02-05T00:00:00",
          "2024-02-12T00:00:00",
          "2024-02-19T00:00:00",
          "2024-02-26T00:00:00",
          "2024-03-04T00:00:00",
          "2024-03-11T00:00:00",
          "2024-03-18T00:00:00",
          "2024-03-25T00:00:00",
          "2024-04-01T00:00:00",
          "2024-04-08T00:00:00",
          "2024-04-15T00:00:00",
          "2024-04-22T00:00:00",
          "2024-04-29T00:00:00",
          "2024-05-06T00:00:00",
          "2024-05-13T00:00:00",
          "2024-05-20T00:00:00",
          "2024-05-27T00:00:00",
          "2024-06-03T00:00:00",
          "2024-06-10T00:00:00",
          "2024-06-17T00:00:00",
          "2024-06-24T00:00:00",
          "2024-07-01T00:00:00",
          "2024-07-08T00:00:00",
          "2024-07-15T00:00:00",
          "2024-07-22T00:00:00",
          "2024-07-29T00:00:00",
          "2024-08-05T00:00:00",
          "2024-08-12T00:00:00",
          "2024-08-19T00:00:00",
          "2024-08-26T00:00:00",
          "2024-09-02T00:00:00",
          "2024-09-09T00:00:00",
          "2024-09-16T00:00:00",
          "2024-09-23T00:00:00",
          "2024-09-30T00:00:00",
          "2024-10-07T00:00:00",
          "2024-10-14T00:00:00",
          "2024-10-21T00:00:00",
          "2024-10-28T00:00:00",
          "2024-11-04T00:00:00",
          "2024-11-11T00:00:00",
          "2024-11-18T00:00:00",
          "2024-11-25T00:00:00",
          "2024-12-02T00:00:00",
          "2024-12-09T00:00:00",
          "2024-12-16T00:00:00",
          "2024-12-23T00:00:00",
          "2024-12-30T00:00:00"
         ],
         "xaxis": "x",
         "y": [
          6,
          7,
          3,
          4,
          9,
          3,
          4,
          1,
          6,
          4,
          4,
          7,
          2,
          2,
          1,
          8,
          6,
          11,
          1,
          4,
          4,
          7,
          3,
          4,
          2,
          2,
          5,
          3,
          4,
          11,
          7,
          10,
          8,
          10,
          5,
          9,
          1,
          2,
          6,
          5,
          7,
          8,
          3,
          7,
          2,
          9,
          4,
          11,
          5,
          3,
          2,
          8,
          1
         ],
         "yaxis": "y"
        },
        {
         "customdata": [
          [
           "BISKUAT BOLU CKL 16GR"
          ],
          [
           "BISKUAT BOLU CKL 16GR"
          ],
          [
           "BISKUAT BOLU CKL 16GR"
          ],
          [
           "BISKUAT BOLU CKL 16GR"
          ],
          [
           "BISKUAT BOLU CKL 16GR"
          ],
          [
           "BISKUAT BOLU CKL 16GR"
          ],
          [
           "BISKUAT BOLU CKL 16GR"
          ],
          [
           "BISKUAT BOLU CKL 16GR"
          ],
          [
           "BISKUAT BOLU CKL 16GR"
          ],
          [
           "BISKUAT BOLU CKL 16GR"
          ],
          [
           "BISKUAT BOLU CKL 16GR"
          ],
          [
           "BISKUAT BOLU CKL 16GR"
          ],
          [
           "BISKUAT BOLU CKL 16GR"
          ],
          [
           "BISKUAT BOLU CKL 16GR"
          ],
          [
           "BISKUAT BOLU CKL 16GR"
          ],
          [
           "BISKUAT BOLU CKL 16GR"
          ],
          [
           "BISKUAT BOLU CKL 16GR"
          ],
          [
           "BISKUAT BOLU CKL 16GR"
          ],
          [
           "BISKUAT BOLU CKL 16GR"
          ],
          [
           "BISKUAT BOLU CKL 16GR"
          ],
          [
           "BISKUAT BOLU CKL 16GR"
          ],
          [
           "BISKUAT BOLU CKL 16GR"
          ],
          [
           "BISKUAT BOLU CKL 16GR"
          ],
          [
           "BISKUAT BOLU CKL 16GR"
          ],
          [
           "BISKUAT BOLU CKL 16GR"
          ],
          [
           "BISKUAT BOLU CKL 16GR"
          ],
          [
           "BISKUAT BOLU CKL 16GR"
          ],
          [
           "BISKUAT BOLU CKL 16GR"
          ],
          [
           "BISKUAT BOLU CKL 16GR"
          ],
          [
           "BISKUAT BOLU CKL 16GR"
          ],
          [
           "BISKUAT BOLU CKL 16GR"
          ],
          [
           "BISKUAT BOLU CKL 16GR"
          ],
          [
           "BISKUAT BOLU CKL 16GR"
          ],
          [
           "BISKUAT BOLU CKL 16GR"
          ],
          [
           "BISKUAT BOLU CKL 16GR"
          ],
          [
           "BISKUAT BOLU CKL 16GR"
          ],
          [
           "BISKUAT BOLU CKL 16GR"
          ],
          [
           "BISKUAT BOLU CKL 16GR"
          ],
          [
           "BISKUAT BOLU CKL 16GR"
          ],
          [
           "BISKUAT BOLU CKL 16GR"
          ],
          [
           "BISKUAT BOLU CKL 16GR"
          ],
          [
           "BISKUAT BOLU CKL 16GR"
          ],
          [
           "BISKUAT BOLU CKL 16GR"
          ],
          [
           "BISKUAT BOLU CKL 16GR"
          ],
          [
           "BISKUAT BOLU CKL 16GR"
          ],
          [
           "BISKUAT BOLU CKL 16GR"
          ],
          [
           "BISKUAT BOLU CKL 16GR"
          ],
          [
           "BISKUAT BOLU CKL 16GR"
          ],
          [
           "BISKUAT BOLU CKL 16GR"
          ],
          [
           "BISKUAT BOLU CKL 16GR"
          ],
          [
           "BISKUAT BOLU CKL 16GR"
          ],
          [
           "BISKUAT BOLU CKL 16GR"
          ],
          [
           "BISKUAT BOLU CKL 16GR"
          ]
         ],
         "hovertemplate": "Nama Produk=%{customdata[0]}<br>Tanggal=%{x}<br>Jumlah Terjual=%{y}<extra></extra>",
         "legendgroup": "BISKUAT BOLU CKL 16GR",
         "line": {
          "color": "#FF6692",
          "dash": "solid"
         },
         "marker": {
          "symbol": "circle"
         },
         "mode": "lines+markers",
         "name": "BISKUAT BOLU CKL 16GR",
         "orientation": "v",
         "showlegend": true,
         "type": "scatter",
         "x": [
          "2024-01-01T00:00:00",
          "2024-01-08T00:00:00",
          "2024-01-15T00:00:00",
          "2024-01-22T00:00:00",
          "2024-01-29T00:00:00",
          "2024-02-05T00:00:00",
          "2024-02-12T00:00:00",
          "2024-02-19T00:00:00",
          "2024-02-26T00:00:00",
          "2024-03-04T00:00:00",
          "2024-03-11T00:00:00",
          "2024-03-18T00:00:00",
          "2024-03-25T00:00:00",
          "2024-04-01T00:00:00",
          "2024-04-08T00:00:00",
          "2024-04-15T00:00:00",
          "2024-04-22T00:00:00",
          "2024-04-29T00:00:00",
          "2024-05-06T00:00:00",
          "2024-05-13T00:00:00",
          "2024-05-20T00:00:00",
          "2024-05-27T00:00:00",
          "2024-06-03T00:00:00",
          "2024-06-10T00:00:00",
          "2024-06-17T00:00:00",
          "2024-06-24T00:00:00",
          "2024-07-01T00:00:00",
          "2024-07-08T00:00:00",
          "2024-07-15T00:00:00",
          "2024-07-22T00:00:00",
          "2024-07-29T00:00:00",
          "2024-08-05T00:00:00",
          "2024-08-12T00:00:00",
          "2024-08-19T00:00:00",
          "2024-08-26T00:00:00",
          "2024-09-02T00:00:00",
          "2024-09-09T00:00:00",
          "2024-09-16T00:00:00",
          "2024-09-23T00:00:00",
          "2024-09-30T00:00:00",
          "2024-10-07T00:00:00",
          "2024-10-14T00:00:00",
          "2024-10-21T00:00:00",
          "2024-10-28T00:00:00",
          "2024-11-04T00:00:00",
          "2024-11-11T00:00:00",
          "2024-11-18T00:00:00",
          "2024-11-25T00:00:00",
          "2024-12-02T00:00:00",
          "2024-12-09T00:00:00",
          "2024-12-16T00:00:00",
          "2024-12-23T00:00:00",
          "2024-12-30T00:00:00"
         ],
         "xaxis": "x",
         "y": [
          5,
          4,
          7,
          5,
          0,
          1,
          0,
          2,
          3,
          3,
          5,
          6,
          10,
          2,
          1,
          6,
          1,
          3,
          5,
          0,
          1,
          0,
          3,
          7,
          2,
          3,
          2,
          4,
          1,
          4,
          22,
          4,
          4,
          1,
          1,
          2,
          3,
          7,
          5,
          3,
          2,
          4,
          5,
          5,
          8,
          7,
          13,
          4,
          3,
          6,
          5,
          5,
          0
         ],
         "yaxis": "y"
        },
        {
         "customdata": [
          [
           "DELFI TOP STR 9GR"
          ],
          [
           "DELFI TOP STR 9GR"
          ],
          [
           "DELFI TOP STR 9GR"
          ],
          [
           "DELFI TOP STR 9GR"
          ],
          [
           "DELFI TOP STR 9GR"
          ],
          [
           "DELFI TOP STR 9GR"
          ],
          [
           "DELFI TOP STR 9GR"
          ],
          [
           "DELFI TOP STR 9GR"
          ],
          [
           "DELFI TOP STR 9GR"
          ],
          [
           "DELFI TOP STR 9GR"
          ],
          [
           "DELFI TOP STR 9GR"
          ],
          [
           "DELFI TOP STR 9GR"
          ],
          [
           "DELFI TOP STR 9GR"
          ],
          [
           "DELFI TOP STR 9GR"
          ],
          [
           "DELFI TOP STR 9GR"
          ],
          [
           "DELFI TOP STR 9GR"
          ],
          [
           "DELFI TOP STR 9GR"
          ],
          [
           "DELFI TOP STR 9GR"
          ],
          [
           "DELFI TOP STR 9GR"
          ],
          [
           "DELFI TOP STR 9GR"
          ],
          [
           "DELFI TOP STR 9GR"
          ],
          [
           "DELFI TOP STR 9GR"
          ],
          [
           "DELFI TOP STR 9GR"
          ],
          [
           "DELFI TOP STR 9GR"
          ],
          [
           "DELFI TOP STR 9GR"
          ],
          [
           "DELFI TOP STR 9GR"
          ],
          [
           "DELFI TOP STR 9GR"
          ],
          [
           "DELFI TOP STR 9GR"
          ],
          [
           "DELFI TOP STR 9GR"
          ],
          [
           "DELFI TOP STR 9GR"
          ],
          [
           "DELFI TOP STR 9GR"
          ],
          [
           "DELFI TOP STR 9GR"
          ],
          [
           "DELFI TOP STR 9GR"
          ],
          [
           "DELFI TOP STR 9GR"
          ],
          [
           "DELFI TOP STR 9GR"
          ],
          [
           "DELFI TOP STR 9GR"
          ],
          [
           "DELFI TOP STR 9GR"
          ],
          [
           "DELFI TOP STR 9GR"
          ],
          [
           "DELFI TOP STR 9GR"
          ],
          [
           "DELFI TOP STR 9GR"
          ],
          [
           "DELFI TOP STR 9GR"
          ],
          [
           "DELFI TOP STR 9GR"
          ],
          [
           "DELFI TOP STR 9GR"
          ],
          [
           "DELFI TOP STR 9GR"
          ],
          [
           "DELFI TOP STR 9GR"
          ],
          [
           "DELFI TOP STR 9GR"
          ],
          [
           "DELFI TOP STR 9GR"
          ],
          [
           "DELFI TOP STR 9GR"
          ],
          [
           "DELFI TOP STR 9GR"
          ],
          [
           "DELFI TOP STR 9GR"
          ],
          [
           "DELFI TOP STR 9GR"
          ],
          [
           "DELFI TOP STR 9GR"
          ],
          [
           "DELFI TOP STR 9GR"
          ]
         ],
         "hovertemplate": "Nama Produk=%{customdata[0]}<br>Tanggal=%{x}<br>Jumlah Terjual=%{y}<extra></extra>",
         "legendgroup": "DELFI TOP STR 9GR",
         "line": {
          "color": "#B6E880",
          "dash": "solid"
         },
         "marker": {
          "symbol": "circle"
         },
         "mode": "lines+markers",
         "name": "DELFI TOP STR 9GR",
         "orientation": "v",
         "showlegend": true,
         "type": "scatter",
         "x": [
          "2024-01-01T00:00:00",
          "2024-01-08T00:00:00",
          "2024-01-15T00:00:00",
          "2024-01-22T00:00:00",
          "2024-01-29T00:00:00",
          "2024-02-05T00:00:00",
          "2024-02-12T00:00:00",
          "2024-02-19T00:00:00",
          "2024-02-26T00:00:00",
          "2024-03-04T00:00:00",
          "2024-03-11T00:00:00",
          "2024-03-18T00:00:00",
          "2024-03-25T00:00:00",
          "2024-04-01T00:00:00",
          "2024-04-08T00:00:00",
          "2024-04-15T00:00:00",
          "2024-04-22T00:00:00",
          "2024-04-29T00:00:00",
          "2024-05-06T00:00:00",
          "2024-05-13T00:00:00",
          "2024-05-20T00:00:00",
          "2024-05-27T00:00:00",
          "2024-06-03T00:00:00",
          "2024-06-10T00:00:00",
          "2024-06-17T00:00:00",
          "2024-06-24T00:00:00",
          "2024-07-01T00:00:00",
          "2024-07-08T00:00:00",
          "2024-07-15T00:00:00",
          "2024-07-22T00:00:00",
          "2024-07-29T00:00:00",
          "2024-08-05T00:00:00",
          "2024-08-12T00:00:00",
          "2024-08-19T00:00:00",
          "2024-08-26T00:00:00",
          "2024-09-02T00:00:00",
          "2024-09-09T00:00:00",
          "2024-09-16T00:00:00",
          "2024-09-23T00:00:00",
          "2024-09-30T00:00:00",
          "2024-10-07T00:00:00",
          "2024-10-14T00:00:00",
          "2024-10-21T00:00:00",
          "2024-10-28T00:00:00",
          "2024-11-04T00:00:00",
          "2024-11-11T00:00:00",
          "2024-11-18T00:00:00",
          "2024-11-25T00:00:00",
          "2024-12-02T00:00:00",
          "2024-12-09T00:00:00",
          "2024-12-16T00:00:00",
          "2024-12-23T00:00:00",
          "2024-12-30T00:00:00"
         ],
         "xaxis": "x",
         "y": [
          5,
          4,
          3,
          0,
          5,
          2,
          6,
          12,
          9,
          9,
          5,
          0,
          1,
          2,
          1,
          1,
          6,
          8,
          2,
          2,
          2,
          4,
          4,
          3,
          2,
          2,
          2,
          5,
          4,
          6,
          3,
          5,
          2,
          9,
          2,
          19,
          3,
          2,
          5,
          3,
          2,
          1,
          1,
          2,
          5,
          2,
          2,
          8,
          1,
          5,
          2,
          4,
          1
         ],
         "yaxis": "y"
        }
       ],
       "layout": {
        "height": 500,
        "legend": {
         "title": {
          "text": "Klik nama produk untuk tampilkan/sembunyikan"
         },
         "tracegroupgap": 0
        },
        "template": {
         "data": {
          "bar": [
           {
            "error_x": {
             "color": "#2a3f5f"
            },
            "error_y": {
             "color": "#2a3f5f"
            },
            "marker": {
             "line": {
              "color": "white",
              "width": 0.5
             },
             "pattern": {
              "fillmode": "overlay",
              "size": 10,
              "solidity": 0.2
             }
            },
            "type": "bar"
           }
          ],
          "barpolar": [
           {
            "marker": {
             "line": {
              "color": "white",
              "width": 0.5
             },
             "pattern": {
              "fillmode": "overlay",
              "size": 10,
              "solidity": 0.2
             }
            },
            "type": "barpolar"
           }
          ],
          "carpet": [
           {
            "aaxis": {
             "endlinecolor": "#2a3f5f",
             "gridcolor": "#C8D4E3",
             "linecolor": "#C8D4E3",
             "minorgridcolor": "#C8D4E3",
             "startlinecolor": "#2a3f5f"
            },
            "baxis": {
             "endlinecolor": "#2a3f5f",
             "gridcolor": "#C8D4E3",
             "linecolor": "#C8D4E3",
             "minorgridcolor": "#C8D4E3",
             "startlinecolor": "#2a3f5f"
            },
            "type": "carpet"
           }
          ],
          "choropleth": [
           {
            "colorbar": {
             "outlinewidth": 0,
             "ticks": ""
            },
            "type": "choropleth"
           }
          ],
          "contour": [
           {
            "colorbar": {
             "outlinewidth": 0,
             "ticks": ""
            },
            "colorscale": [
             [
              0,
              "#0d0887"
             ],
             [
              0.1111111111111111,
              "#46039f"
             ],
             [
              0.2222222222222222,
              "#7201a8"
             ],
             [
              0.3333333333333333,
              "#9c179e"
             ],
             [
              0.4444444444444444,
              "#bd3786"
             ],
             [
              0.5555555555555556,
              "#d8576b"
             ],
             [
              0.6666666666666666,
              "#ed7953"
             ],
             [
              0.7777777777777778,
              "#fb9f3a"
             ],
             [
              0.8888888888888888,
              "#fdca26"
             ],
             [
              1,
              "#f0f921"
             ]
            ],
            "type": "contour"
           }
          ],
          "contourcarpet": [
           {
            "colorbar": {
             "outlinewidth": 0,
             "ticks": ""
            },
            "type": "contourcarpet"
           }
          ],
          "heatmap": [
           {
            "colorbar": {
             "outlinewidth": 0,
             "ticks": ""
            },
            "colorscale": [
             [
              0,
              "#0d0887"
             ],
             [
              0.1111111111111111,
              "#46039f"
             ],
             [
              0.2222222222222222,
              "#7201a8"
             ],
             [
              0.3333333333333333,
              "#9c179e"
             ],
             [
              0.4444444444444444,
              "#bd3786"
             ],
             [
              0.5555555555555556,
              "#d8576b"
             ],
             [
              0.6666666666666666,
              "#ed7953"
             ],
             [
              0.7777777777777778,
              "#fb9f3a"
             ],
             [
              0.8888888888888888,
              "#fdca26"
             ],
             [
              1,
              "#f0f921"
             ]
            ],
            "type": "heatmap"
           }
          ],
          "heatmapgl": [
           {
            "colorbar": {
             "outlinewidth": 0,
             "ticks": ""
            },
            "colorscale": [
             [
              0,
              "#0d0887"
             ],
             [
              0.1111111111111111,
              "#46039f"
             ],
             [
              0.2222222222222222,
              "#7201a8"
             ],
             [
              0.3333333333333333,
              "#9c179e"
             ],
             [
              0.4444444444444444,
              "#bd3786"
             ],
             [
              0.5555555555555556,
              "#d8576b"
             ],
             [
              0.6666666666666666,
              "#ed7953"
             ],
             [
              0.7777777777777778,
              "#fb9f3a"
             ],
             [
              0.8888888888888888,
              "#fdca26"
             ],
             [
              1,
              "#f0f921"
             ]
            ],
            "type": "heatmapgl"
           }
          ],
          "histogram": [
           {
            "marker": {
             "pattern": {
              "fillmode": "overlay",
              "size": 10,
              "solidity": 0.2
             }
            },
            "type": "histogram"
           }
          ],
          "histogram2d": [
           {
            "colorbar": {
             "outlinewidth": 0,
             "ticks": ""
            },
            "colorscale": [
             [
              0,
              "#0d0887"
             ],
             [
              0.1111111111111111,
              "#46039f"
             ],
             [
              0.2222222222222222,
              "#7201a8"
             ],
             [
              0.3333333333333333,
              "#9c179e"
             ],
             [
              0.4444444444444444,
              "#bd3786"
             ],
             [
              0.5555555555555556,
              "#d8576b"
             ],
             [
              0.6666666666666666,
              "#ed7953"
             ],
             [
              0.7777777777777778,
              "#fb9f3a"
             ],
             [
              0.8888888888888888,
              "#fdca26"
             ],
             [
              1,
              "#f0f921"
             ]
            ],
            "type": "histogram2d"
           }
          ],
          "histogram2dcontour": [
           {
            "colorbar": {
             "outlinewidth": 0,
             "ticks": ""
            },
            "colorscale": [
             [
              0,
              "#0d0887"
             ],
             [
              0.1111111111111111,
              "#46039f"
             ],
             [
              0.2222222222222222,
              "#7201a8"
             ],
             [
              0.3333333333333333,
              "#9c179e"
             ],
             [
              0.4444444444444444,
              "#bd3786"
             ],
             [
              0.5555555555555556,
              "#d8576b"
             ],
             [
              0.6666666666666666,
              "#ed7953"
             ],
             [
              0.7777777777777778,
              "#fb9f3a"
             ],
             [
              0.8888888888888888,
              "#fdca26"
             ],
             [
              1,
              "#f0f921"
             ]
            ],
            "type": "histogram2dcontour"
           }
          ],
          "mesh3d": [
           {
            "colorbar": {
             "outlinewidth": 0,
             "ticks": ""
            },
            "type": "mesh3d"
           }
          ],
          "parcoords": [
           {
            "line": {
             "colorbar": {
              "outlinewidth": 0,
              "ticks": ""
             }
            },
            "type": "parcoords"
           }
          ],
          "pie": [
           {
            "automargin": true,
            "type": "pie"
           }
          ],
          "scatter": [
           {
            "fillpattern": {
             "fillmode": "overlay",
             "size": 10,
             "solidity": 0.2
            },
            "type": "scatter"
           }
          ],
          "scatter3d": [
           {
            "line": {
             "colorbar": {
              "outlinewidth": 0,
              "ticks": ""
             }
            },
            "marker": {
             "colorbar": {
              "outlinewidth": 0,
              "ticks": ""
             }
            },
            "type": "scatter3d"
           }
          ],
          "scattercarpet": [
           {
            "marker": {
             "colorbar": {
              "outlinewidth": 0,
              "ticks": ""
             }
            },
            "type": "scattercarpet"
           }
          ],
          "scattergeo": [
           {
            "marker": {
             "colorbar": {
              "outlinewidth": 0,
              "ticks": ""
             }
            },
            "type": "scattergeo"
           }
          ],
          "scattergl": [
           {
            "marker": {
             "colorbar": {
              "outlinewidth": 0,
              "ticks": ""
             }
            },
            "type": "scattergl"
           }
          ],
          "scattermapbox": [
           {
            "marker": {
             "colorbar": {
              "outlinewidth": 0,
              "ticks": ""
             }
            },
            "type": "scattermapbox"
           }
          ],
          "scatterpolar": [
           {
            "marker": {
             "colorbar": {
              "outlinewidth": 0,
              "ticks": ""
             }
            },
            "type": "scatterpolar"
           }
          ],
          "scatterpolargl": [
           {
            "marker": {
             "colorbar": {
              "outlinewidth": 0,
              "ticks": ""
             }
            },
            "type": "scatterpolargl"
           }
          ],
          "scatterternary": [
           {
            "marker": {
             "colorbar": {
              "outlinewidth": 0,
              "ticks": ""
             }
            },
            "type": "scatterternary"
           }
          ],
          "surface": [
           {
            "colorbar": {
             "outlinewidth": 0,
             "ticks": ""
            },
            "colorscale": [
             [
              0,
              "#0d0887"
             ],
             [
              0.1111111111111111,
              "#46039f"
             ],
             [
              0.2222222222222222,
              "#7201a8"
             ],
             [
              0.3333333333333333,
              "#9c179e"
             ],
             [
              0.4444444444444444,
              "#bd3786"
             ],
             [
              0.5555555555555556,
              "#d8576b"
             ],
             [
              0.6666666666666666,
              "#ed7953"
             ],
             [
              0.7777777777777778,
              "#fb9f3a"
             ],
             [
              0.8888888888888888,
              "#fdca26"
             ],
             [
              1,
              "#f0f921"
             ]
            ],
            "type": "surface"
           }
          ],
          "table": [
           {
            "cells": {
             "fill": {
              "color": "#EBF0F8"
             },
             "line": {
              "color": "white"
             }
            },
            "header": {
             "fill": {
              "color": "#C8D4E3"
             },
             "line": {
              "color": "white"
             }
            },
            "type": "table"
           }
          ]
         },
         "layout": {
          "annotationdefaults": {
           "arrowcolor": "#2a3f5f",
           "arrowhead": 0,
           "arrowwidth": 1
          },
          "autotypenumbers": "strict",
          "coloraxis": {
           "colorbar": {
            "outlinewidth": 0,
            "ticks": ""
           }
          },
          "colorscale": {
           "diverging": [
            [
             0,
             "#8e0152"
            ],
            [
             0.1,
             "#c51b7d"
            ],
            [
             0.2,
             "#de77ae"
            ],
            [
             0.3,
             "#f1b6da"
            ],
            [
             0.4,
             "#fde0ef"
            ],
            [
             0.5,
             "#f7f7f7"
            ],
            [
             0.6,
             "#e6f5d0"
            ],
            [
             0.7,
             "#b8e186"
            ],
            [
             0.8,
             "#7fbc41"
            ],
            [
             0.9,
             "#4d9221"
            ],
            [
             1,
             "#276419"
            ]
           ],
           "sequential": [
            [
             0,
             "#0d0887"
            ],
            [
             0.1111111111111111,
             "#46039f"
            ],
            [
             0.2222222222222222,
             "#7201a8"
            ],
            [
             0.3333333333333333,
             "#9c179e"
            ],
            [
             0.4444444444444444,
             "#bd3786"
            ],
            [
             0.5555555555555556,
             "#d8576b"
            ],
            [
             0.6666666666666666,
             "#ed7953"
            ],
            [
             0.7777777777777778,
             "#fb9f3a"
            ],
            [
             0.8888888888888888,
             "#fdca26"
            ],
            [
             1,
             "#f0f921"
            ]
           ],
           "sequentialminus": [
            [
             0,
             "#0d0887"
            ],
            [
             0.1111111111111111,
             "#46039f"
            ],
            [
             0.2222222222222222,
             "#7201a8"
            ],
            [
             0.3333333333333333,
             "#9c179e"
            ],
            [
             0.4444444444444444,
             "#bd3786"
            ],
            [
             0.5555555555555556,
             "#d8576b"
            ],
            [
             0.6666666666666666,
             "#ed7953"
            ],
            [
             0.7777777777777778,
             "#fb9f3a"
            ],
            [
             0.8888888888888888,
             "#fdca26"
            ],
            [
             1,
             "#f0f921"
            ]
           ]
          },
          "colorway": [
           "#636efa",
           "#EF553B",
           "#00cc96",
           "#ab63fa",
           "#FFA15A",
           "#19d3f3",
           "#FF6692",
           "#B6E880",
           "#FF97FF",
           "#FECB52"
          ],
          "font": {
           "color": "#2a3f5f"
          },
          "geo": {
           "bgcolor": "white",
           "lakecolor": "white",
           "landcolor": "white",
           "showlakes": true,
           "showland": true,
           "subunitcolor": "#C8D4E3"
          },
          "hoverlabel": {
           "align": "left"
          },
          "hovermode": "closest",
          "mapbox": {
           "style": "light"
          },
          "paper_bgcolor": "white",
          "plot_bgcolor": "white",
          "polar": {
           "angularaxis": {
            "gridcolor": "#EBF0F8",
            "linecolor": "#EBF0F8",
            "ticks": ""
           },
           "bgcolor": "white",
           "radialaxis": {
            "gridcolor": "#EBF0F8",
            "linecolor": "#EBF0F8",
            "ticks": ""
           }
          },
          "scene": {
           "xaxis": {
            "backgroundcolor": "white",
            "gridcolor": "#DFE8F3",
            "gridwidth": 2,
            "linecolor": "#EBF0F8",
            "showbackground": true,
            "ticks": "",
            "zerolinecolor": "#EBF0F8"
           },
           "yaxis": {
            "backgroundcolor": "white",
            "gridcolor": "#DFE8F3",
            "gridwidth": 2,
            "linecolor": "#EBF0F8",
            "showbackground": true,
            "ticks": "",
            "zerolinecolor": "#EBF0F8"
           },
           "zaxis": {
            "backgroundcolor": "white",
            "gridcolor": "#DFE8F3",
            "gridwidth": 2,
            "linecolor": "#EBF0F8",
            "showbackground": true,
            "ticks": "",
            "zerolinecolor": "#EBF0F8"
           }
          },
          "shapedefaults": {
           "line": {
            "color": "#2a3f5f"
           }
          },
          "ternary": {
           "aaxis": {
            "gridcolor": "#DFE8F3",
            "linecolor": "#A2B1C6",
            "ticks": ""
           },
           "baxis": {
            "gridcolor": "#DFE8F3",
            "linecolor": "#A2B1C6",
            "ticks": ""
           },
           "bgcolor": "white",
           "caxis": {
            "gridcolor": "#DFE8F3",
            "linecolor": "#A2B1C6",
            "ticks": ""
           }
          },
          "title": {
           "x": 0.05
          },
          "xaxis": {
           "automargin": true,
           "gridcolor": "#EBF0F8",
           "linecolor": "#EBF0F8",
           "ticks": "",
           "title": {
            "standoff": 15
           },
           "zerolinecolor": "#EBF0F8",
           "zerolinewidth": 2
          },
          "yaxis": {
           "automargin": true,
           "gridcolor": "#EBF0F8",
           "linecolor": "#EBF0F8",
           "ticks": "",
           "title": {
            "standoff": 15
           },
           "zerolinecolor": "#EBF0F8",
           "zerolinewidth": 2
          }
         }
        },
        "title": {
         "text": "Jumlah Penjualan per Minggu per Item"
        },
        "width": 900,
        "xaxis": {
         "anchor": "y",
         "domain": [
          0,
          1
         ],
         "title": {
          "text": "Tanggal"
         }
        },
        "yaxis": {
         "anchor": "x",
         "domain": [
          0,
          1
         ],
         "title": {
          "text": "Jumlah Terjual"
         }
        }
       }
      }
     },
     "metadata": {},
     "output_type": "display_data"
    }
   ],
   "source": [
    "# Ubah kolom TANGGAL menjadi datetime\n",
    "df_final[\"TANGGAL\"] = pd.to_datetime(df_final[\"TANGGAL\"])\n",
    "\n",
    "# Ubah dari wide ke long format agar cocok untuk plotly express\n",
    "df_long = df_final.melt(id_vars=\"TANGGAL\", var_name=\"NAMA BARANG\", value_name=\"QTY\")\n",
    "\n",
    "# Buat line chart\n",
    "fig = px.line(\n",
    "    df_long,\n",
    "    x=\"TANGGAL\",\n",
    "    y=\"QTY\",\n",
    "    color=\"NAMA BARANG\",\n",
    "    title=\"Jumlah Penjualan per Minggu per Item\",\n",
    "    markers=True,\n",
    "    labels={\"TANGGAL\": \"Tanggal\", \"QTY\": \"Jumlah Terjual\", \"NAMA BARANG\": \"Nama Produk\"},\n",
    "    hover_data={\"TANGGAL\": True, \"QTY\": True, \"NAMA BARANG\": True}\n",
    ")\n",
    "\n",
    "# Layout tambahan\n",
    "fig.update_layout(\n",
    "    legend_title_text='Klik nama produk untuk tampilkan/sembunyikan',\n",
    "    xaxis_title='Tanggal',\n",
    "    yaxis_title='Jumlah Terjual',\n",
    "    template='plotly_white',\n",
    "    height=500,\n",
    "    width=900\n",
    ")\n",
    "\n",
    "fig.show()\n"
   ]
  },
  {
   "cell_type": "code",
   "execution_count": 15,
   "id": "c646ab77",
   "metadata": {},
   "outputs": [
    {
     "name": "stdout",
     "output_type": "stream",
     "text": [
      "<class 'pandas.core.frame.DataFrame'>\n",
      "RangeIndex: 53 entries, 0 to 52\n",
      "Data columns (total 19 columns):\n",
      " #   Column                     Non-Null Count  Dtype         \n",
      "---  ------                     --------------  -----         \n",
      " 0   TANGGAL                    53 non-null     datetime64[ns]\n",
      " 1   INDOMIE GRG SPECIAL        53 non-null     float64       \n",
      " 2   INDOMILK KID CKL 115ML     53 non-null     float64       \n",
      " 3   SEDAAP MIE SOTO            53 non-null     float64       \n",
      " 4   SAKINAH 1500ML             53 non-null     float64       \n",
      " 5   INDOMILK KID VNL 115ML     53 non-null     float64       \n",
      " 6   INDOMILK KID STR 115ML     53 non-null     float64       \n",
      " 7   INDOMIE SOTO MIE           53 non-null     float64       \n",
      " 8   SEDAAP MIE AYAM BWG        53 non-null     float64       \n",
      " 9   EKONOMI LIQUID REFF 235ML  53 non-null     float64       \n",
      " 10  WALLS CORN B/WHITE 82GR    53 non-null     float64       \n",
      " 11  WALLS POPULAIRE CKL        53 non-null     float64       \n",
      " 12  WALLS POPULAIRE STR        53 non-null     float64       \n",
      " 13  MAMA LEMON 115ML           53 non-null     float64       \n",
      " 14  DELFI TOP CHO 9GR          53 non-null     float64       \n",
      " 15  ROMA KELAPA 300GR          53 non-null     float64       \n",
      " 16  DELFI TOP B/WHITE 9GR      53 non-null     float64       \n",
      " 17  BISKUAT BOLU CKL 16GR      53 non-null     float64       \n",
      " 18  DELFI TOP STR 9GR          53 non-null     float64       \n",
      "dtypes: datetime64[ns](1), float64(18)\n",
      "memory usage: 8.0 KB\n"
     ]
    }
   ],
   "source": [
    "df_final.info()"
   ]
  },
  {
   "cell_type": "code",
   "execution_count": 16,
   "id": "6ee3b03d",
   "metadata": {},
   "outputs": [
    {
     "name": "stderr",
     "output_type": "stream",
     "text": [
      "C:\\Users\\ASUS\\AppData\\Local\\Temp\\ipykernel_8072\\734437237.py:2: SettingWithCopyWarning:\n",
      "\n",
      "\n",
      "A value is trying to be set on a copy of a slice from a DataFrame.\n",
      "Try using .loc[row_indexer,col_indexer] = value instead\n",
      "\n",
      "See the caveats in the documentation: https://pandas.pydata.org/pandas-docs/stable/user_guide/indexing.html#returning-a-view-versus-a-copy\n",
      "\n"
     ]
    },
    {
     "data": {
      "text/html": [
       "<div>\n",
       "<style scoped>\n",
       "    .dataframe tbody tr th:only-of-type {\n",
       "        vertical-align: middle;\n",
       "    }\n",
       "\n",
       "    .dataframe tbody tr th {\n",
       "        vertical-align: top;\n",
       "    }\n",
       "\n",
       "    .dataframe thead th {\n",
       "        text-align: right;\n",
       "    }\n",
       "</style>\n",
       "<table border=\"1\" class=\"dataframe\">\n",
       "  <thead>\n",
       "    <tr style=\"text-align: right;\">\n",
       "      <th></th>\n",
       "      <th>INDOMIE GRG SPECIAL</th>\n",
       "      <th>INDOMILK KID CKL 115ML</th>\n",
       "      <th>SEDAAP MIE SOTO</th>\n",
       "      <th>SAKINAH 1500ML</th>\n",
       "      <th>INDOMILK KID VNL 115ML</th>\n",
       "      <th>INDOMILK KID STR 115ML</th>\n",
       "      <th>INDOMIE SOTO MIE</th>\n",
       "      <th>SEDAAP MIE AYAM BWG</th>\n",
       "      <th>EKONOMI LIQUID REFF 235ML</th>\n",
       "      <th>WALLS CORN B/WHITE 82GR</th>\n",
       "      <th>WALLS POPULAIRE CKL</th>\n",
       "      <th>WALLS POPULAIRE STR</th>\n",
       "      <th>MAMA LEMON 115ML</th>\n",
       "      <th>DELFI TOP CHO 9GR</th>\n",
       "      <th>ROMA KELAPA 300GR</th>\n",
       "      <th>DELFI TOP B/WHITE 9GR</th>\n",
       "      <th>BISKUAT BOLU CKL 16GR</th>\n",
       "      <th>DELFI TOP STR 9GR</th>\n",
       "    </tr>\n",
       "    <tr>\n",
       "      <th>TANGGAL</th>\n",
       "      <th></th>\n",
       "      <th></th>\n",
       "      <th></th>\n",
       "      <th></th>\n",
       "      <th></th>\n",
       "      <th></th>\n",
       "      <th></th>\n",
       "      <th></th>\n",
       "      <th></th>\n",
       "      <th></th>\n",
       "      <th></th>\n",
       "      <th></th>\n",
       "      <th></th>\n",
       "      <th></th>\n",
       "      <th></th>\n",
       "      <th></th>\n",
       "      <th></th>\n",
       "      <th></th>\n",
       "    </tr>\n",
       "  </thead>\n",
       "  <tbody>\n",
       "    <tr>\n",
       "      <th>2024-01-01</th>\n",
       "      <td>129.0</td>\n",
       "      <td>3.0</td>\n",
       "      <td>38.0</td>\n",
       "      <td>6.0</td>\n",
       "      <td>8.0</td>\n",
       "      <td>3.0</td>\n",
       "      <td>18.0</td>\n",
       "      <td>14.0</td>\n",
       "      <td>9.0</td>\n",
       "      <td>17.0</td>\n",
       "      <td>10.0</td>\n",
       "      <td>4.0</td>\n",
       "      <td>3.0</td>\n",
       "      <td>8.0</td>\n",
       "      <td>12.0</td>\n",
       "      <td>6.0</td>\n",
       "      <td>5.0</td>\n",
       "      <td>5.0</td>\n",
       "    </tr>\n",
       "    <tr>\n",
       "      <th>2024-01-08</th>\n",
       "      <td>119.0</td>\n",
       "      <td>12.0</td>\n",
       "      <td>16.0</td>\n",
       "      <td>6.0</td>\n",
       "      <td>13.0</td>\n",
       "      <td>14.0</td>\n",
       "      <td>13.0</td>\n",
       "      <td>1.0</td>\n",
       "      <td>6.0</td>\n",
       "      <td>12.0</td>\n",
       "      <td>3.0</td>\n",
       "      <td>4.0</td>\n",
       "      <td>6.0</td>\n",
       "      <td>4.0</td>\n",
       "      <td>8.0</td>\n",
       "      <td>7.0</td>\n",
       "      <td>4.0</td>\n",
       "      <td>4.0</td>\n",
       "    </tr>\n",
       "    <tr>\n",
       "      <th>2024-01-15</th>\n",
       "      <td>88.0</td>\n",
       "      <td>13.0</td>\n",
       "      <td>20.0</td>\n",
       "      <td>5.0</td>\n",
       "      <td>10.0</td>\n",
       "      <td>10.0</td>\n",
       "      <td>16.0</td>\n",
       "      <td>9.0</td>\n",
       "      <td>4.0</td>\n",
       "      <td>3.0</td>\n",
       "      <td>7.0</td>\n",
       "      <td>7.0</td>\n",
       "      <td>7.0</td>\n",
       "      <td>1.0</td>\n",
       "      <td>6.0</td>\n",
       "      <td>3.0</td>\n",
       "      <td>7.0</td>\n",
       "      <td>3.0</td>\n",
       "    </tr>\n",
       "    <tr>\n",
       "      <th>2024-01-22</th>\n",
       "      <td>147.0</td>\n",
       "      <td>18.0</td>\n",
       "      <td>32.0</td>\n",
       "      <td>8.0</td>\n",
       "      <td>14.0</td>\n",
       "      <td>16.0</td>\n",
       "      <td>19.0</td>\n",
       "      <td>3.0</td>\n",
       "      <td>6.0</td>\n",
       "      <td>22.0</td>\n",
       "      <td>7.0</td>\n",
       "      <td>6.0</td>\n",
       "      <td>8.0</td>\n",
       "      <td>2.0</td>\n",
       "      <td>3.0</td>\n",
       "      <td>4.0</td>\n",
       "      <td>5.0</td>\n",
       "      <td>0.0</td>\n",
       "    </tr>\n",
       "    <tr>\n",
       "      <th>2024-01-29</th>\n",
       "      <td>114.0</td>\n",
       "      <td>20.0</td>\n",
       "      <td>16.0</td>\n",
       "      <td>4.0</td>\n",
       "      <td>19.0</td>\n",
       "      <td>22.0</td>\n",
       "      <td>15.0</td>\n",
       "      <td>5.0</td>\n",
       "      <td>11.0</td>\n",
       "      <td>8.0</td>\n",
       "      <td>8.0</td>\n",
       "      <td>5.0</td>\n",
       "      <td>7.0</td>\n",
       "      <td>10.0</td>\n",
       "      <td>6.0</td>\n",
       "      <td>9.0</td>\n",
       "      <td>0.0</td>\n",
       "      <td>5.0</td>\n",
       "    </tr>\n",
       "    <tr>\n",
       "      <th>2024-02-05</th>\n",
       "      <td>187.0</td>\n",
       "      <td>10.0</td>\n",
       "      <td>24.0</td>\n",
       "      <td>8.0</td>\n",
       "      <td>12.0</td>\n",
       "      <td>10.0</td>\n",
       "      <td>23.0</td>\n",
       "      <td>9.0</td>\n",
       "      <td>8.0</td>\n",
       "      <td>15.0</td>\n",
       "      <td>4.0</td>\n",
       "      <td>6.0</td>\n",
       "      <td>4.0</td>\n",
       "      <td>10.0</td>\n",
       "      <td>6.0</td>\n",
       "      <td>3.0</td>\n",
       "      <td>1.0</td>\n",
       "      <td>2.0</td>\n",
       "    </tr>\n",
       "    <tr>\n",
       "      <th>2024-02-12</th>\n",
       "      <td>151.0</td>\n",
       "      <td>18.0</td>\n",
       "      <td>16.0</td>\n",
       "      <td>5.0</td>\n",
       "      <td>25.0</td>\n",
       "      <td>23.0</td>\n",
       "      <td>11.0</td>\n",
       "      <td>5.0</td>\n",
       "      <td>5.0</td>\n",
       "      <td>3.0</td>\n",
       "      <td>9.0</td>\n",
       "      <td>7.0</td>\n",
       "      <td>9.0</td>\n",
       "      <td>5.0</td>\n",
       "      <td>9.0</td>\n",
       "      <td>4.0</td>\n",
       "      <td>0.0</td>\n",
       "      <td>6.0</td>\n",
       "    </tr>\n",
       "    <tr>\n",
       "      <th>2024-02-19</th>\n",
       "      <td>123.0</td>\n",
       "      <td>29.0</td>\n",
       "      <td>22.0</td>\n",
       "      <td>7.0</td>\n",
       "      <td>26.0</td>\n",
       "      <td>21.0</td>\n",
       "      <td>14.0</td>\n",
       "      <td>7.0</td>\n",
       "      <td>8.0</td>\n",
       "      <td>9.0</td>\n",
       "      <td>5.0</td>\n",
       "      <td>7.0</td>\n",
       "      <td>3.0</td>\n",
       "      <td>6.0</td>\n",
       "      <td>6.0</td>\n",
       "      <td>1.0</td>\n",
       "      <td>2.0</td>\n",
       "      <td>12.0</td>\n",
       "    </tr>\n",
       "    <tr>\n",
       "      <th>2024-02-26</th>\n",
       "      <td>112.0</td>\n",
       "      <td>12.0</td>\n",
       "      <td>20.0</td>\n",
       "      <td>6.0</td>\n",
       "      <td>17.0</td>\n",
       "      <td>11.0</td>\n",
       "      <td>6.0</td>\n",
       "      <td>5.0</td>\n",
       "      <td>10.0</td>\n",
       "      <td>6.0</td>\n",
       "      <td>5.0</td>\n",
       "      <td>2.0</td>\n",
       "      <td>8.0</td>\n",
       "      <td>17.0</td>\n",
       "      <td>12.0</td>\n",
       "      <td>6.0</td>\n",
       "      <td>3.0</td>\n",
       "      <td>9.0</td>\n",
       "    </tr>\n",
       "    <tr>\n",
       "      <th>2024-03-04</th>\n",
       "      <td>94.0</td>\n",
       "      <td>15.0</td>\n",
       "      <td>11.0</td>\n",
       "      <td>7.0</td>\n",
       "      <td>24.0</td>\n",
       "      <td>16.0</td>\n",
       "      <td>18.0</td>\n",
       "      <td>6.0</td>\n",
       "      <td>1.0</td>\n",
       "      <td>5.0</td>\n",
       "      <td>5.0</td>\n",
       "      <td>13.0</td>\n",
       "      <td>9.0</td>\n",
       "      <td>2.0</td>\n",
       "      <td>3.0</td>\n",
       "      <td>4.0</td>\n",
       "      <td>3.0</td>\n",
       "      <td>9.0</td>\n",
       "    </tr>\n",
       "    <tr>\n",
       "      <th>2024-03-11</th>\n",
       "      <td>90.0</td>\n",
       "      <td>21.0</td>\n",
       "      <td>22.0</td>\n",
       "      <td>2.0</td>\n",
       "      <td>24.0</td>\n",
       "      <td>8.0</td>\n",
       "      <td>20.0</td>\n",
       "      <td>6.0</td>\n",
       "      <td>0.0</td>\n",
       "      <td>10.0</td>\n",
       "      <td>6.0</td>\n",
       "      <td>10.0</td>\n",
       "      <td>17.0</td>\n",
       "      <td>4.0</td>\n",
       "      <td>8.0</td>\n",
       "      <td>4.0</td>\n",
       "      <td>5.0</td>\n",
       "      <td>5.0</td>\n",
       "    </tr>\n",
       "    <tr>\n",
       "      <th>2024-03-18</th>\n",
       "      <td>96.0</td>\n",
       "      <td>17.0</td>\n",
       "      <td>13.0</td>\n",
       "      <td>9.0</td>\n",
       "      <td>13.0</td>\n",
       "      <td>7.0</td>\n",
       "      <td>9.0</td>\n",
       "      <td>6.0</td>\n",
       "      <td>4.0</td>\n",
       "      <td>5.0</td>\n",
       "      <td>1.0</td>\n",
       "      <td>4.0</td>\n",
       "      <td>9.0</td>\n",
       "      <td>5.0</td>\n",
       "      <td>5.0</td>\n",
       "      <td>7.0</td>\n",
       "      <td>6.0</td>\n",
       "      <td>0.0</td>\n",
       "    </tr>\n",
       "    <tr>\n",
       "      <th>2024-03-25</th>\n",
       "      <td>99.0</td>\n",
       "      <td>13.0</td>\n",
       "      <td>13.0</td>\n",
       "      <td>2.0</td>\n",
       "      <td>26.0</td>\n",
       "      <td>5.0</td>\n",
       "      <td>15.0</td>\n",
       "      <td>1.0</td>\n",
       "      <td>14.0</td>\n",
       "      <td>7.0</td>\n",
       "      <td>9.0</td>\n",
       "      <td>5.0</td>\n",
       "      <td>12.0</td>\n",
       "      <td>5.0</td>\n",
       "      <td>8.0</td>\n",
       "      <td>2.0</td>\n",
       "      <td>10.0</td>\n",
       "      <td>1.0</td>\n",
       "    </tr>\n",
       "    <tr>\n",
       "      <th>2024-04-01</th>\n",
       "      <td>131.0</td>\n",
       "      <td>18.0</td>\n",
       "      <td>26.0</td>\n",
       "      <td>10.0</td>\n",
       "      <td>29.0</td>\n",
       "      <td>9.0</td>\n",
       "      <td>9.0</td>\n",
       "      <td>5.0</td>\n",
       "      <td>4.0</td>\n",
       "      <td>3.0</td>\n",
       "      <td>8.0</td>\n",
       "      <td>3.0</td>\n",
       "      <td>5.0</td>\n",
       "      <td>1.0</td>\n",
       "      <td>7.0</td>\n",
       "      <td>2.0</td>\n",
       "      <td>2.0</td>\n",
       "      <td>2.0</td>\n",
       "    </tr>\n",
       "    <tr>\n",
       "      <th>2024-04-08</th>\n",
       "      <td>57.0</td>\n",
       "      <td>7.0</td>\n",
       "      <td>16.0</td>\n",
       "      <td>7.0</td>\n",
       "      <td>6.0</td>\n",
       "      <td>0.0</td>\n",
       "      <td>14.0</td>\n",
       "      <td>19.0</td>\n",
       "      <td>7.0</td>\n",
       "      <td>0.0</td>\n",
       "      <td>4.0</td>\n",
       "      <td>3.0</td>\n",
       "      <td>3.0</td>\n",
       "      <td>1.0</td>\n",
       "      <td>3.0</td>\n",
       "      <td>1.0</td>\n",
       "      <td>1.0</td>\n",
       "      <td>1.0</td>\n",
       "    </tr>\n",
       "    <tr>\n",
       "      <th>2024-04-15</th>\n",
       "      <td>93.0</td>\n",
       "      <td>11.0</td>\n",
       "      <td>25.0</td>\n",
       "      <td>10.0</td>\n",
       "      <td>23.0</td>\n",
       "      <td>16.0</td>\n",
       "      <td>5.0</td>\n",
       "      <td>7.0</td>\n",
       "      <td>12.0</td>\n",
       "      <td>6.0</td>\n",
       "      <td>11.0</td>\n",
       "      <td>6.0</td>\n",
       "      <td>8.0</td>\n",
       "      <td>2.0</td>\n",
       "      <td>1.0</td>\n",
       "      <td>8.0</td>\n",
       "      <td>6.0</td>\n",
       "      <td>1.0</td>\n",
       "    </tr>\n",
       "    <tr>\n",
       "      <th>2024-04-22</th>\n",
       "      <td>110.0</td>\n",
       "      <td>22.0</td>\n",
       "      <td>13.0</td>\n",
       "      <td>9.0</td>\n",
       "      <td>30.0</td>\n",
       "      <td>13.0</td>\n",
       "      <td>23.0</td>\n",
       "      <td>3.0</td>\n",
       "      <td>6.0</td>\n",
       "      <td>7.0</td>\n",
       "      <td>7.0</td>\n",
       "      <td>5.0</td>\n",
       "      <td>14.0</td>\n",
       "      <td>5.0</td>\n",
       "      <td>6.0</td>\n",
       "      <td>6.0</td>\n",
       "      <td>1.0</td>\n",
       "      <td>6.0</td>\n",
       "    </tr>\n",
       "    <tr>\n",
       "      <th>2024-04-29</th>\n",
       "      <td>89.0</td>\n",
       "      <td>18.0</td>\n",
       "      <td>15.0</td>\n",
       "      <td>18.0</td>\n",
       "      <td>20.0</td>\n",
       "      <td>10.0</td>\n",
       "      <td>12.0</td>\n",
       "      <td>5.0</td>\n",
       "      <td>1.0</td>\n",
       "      <td>11.0</td>\n",
       "      <td>6.0</td>\n",
       "      <td>10.0</td>\n",
       "      <td>14.0</td>\n",
       "      <td>9.0</td>\n",
       "      <td>5.0</td>\n",
       "      <td>11.0</td>\n",
       "      <td>3.0</td>\n",
       "      <td>8.0</td>\n",
       "    </tr>\n",
       "    <tr>\n",
       "      <th>2024-05-06</th>\n",
       "      <td>69.0</td>\n",
       "      <td>30.0</td>\n",
       "      <td>13.0</td>\n",
       "      <td>24.0</td>\n",
       "      <td>30.0</td>\n",
       "      <td>16.0</td>\n",
       "      <td>15.0</td>\n",
       "      <td>11.0</td>\n",
       "      <td>0.0</td>\n",
       "      <td>3.0</td>\n",
       "      <td>11.0</td>\n",
       "      <td>6.0</td>\n",
       "      <td>9.0</td>\n",
       "      <td>7.0</td>\n",
       "      <td>1.0</td>\n",
       "      <td>1.0</td>\n",
       "      <td>5.0</td>\n",
       "      <td>2.0</td>\n",
       "    </tr>\n",
       "    <tr>\n",
       "      <th>2024-05-13</th>\n",
       "      <td>134.0</td>\n",
       "      <td>10.0</td>\n",
       "      <td>17.0</td>\n",
       "      <td>21.0</td>\n",
       "      <td>32.0</td>\n",
       "      <td>18.0</td>\n",
       "      <td>12.0</td>\n",
       "      <td>9.0</td>\n",
       "      <td>0.0</td>\n",
       "      <td>7.0</td>\n",
       "      <td>6.0</td>\n",
       "      <td>10.0</td>\n",
       "      <td>0.0</td>\n",
       "      <td>3.0</td>\n",
       "      <td>4.0</td>\n",
       "      <td>4.0</td>\n",
       "      <td>0.0</td>\n",
       "      <td>2.0</td>\n",
       "    </tr>\n",
       "    <tr>\n",
       "      <th>2024-05-20</th>\n",
       "      <td>90.0</td>\n",
       "      <td>22.0</td>\n",
       "      <td>31.0</td>\n",
       "      <td>21.0</td>\n",
       "      <td>37.0</td>\n",
       "      <td>12.0</td>\n",
       "      <td>8.0</td>\n",
       "      <td>6.0</td>\n",
       "      <td>4.0</td>\n",
       "      <td>4.0</td>\n",
       "      <td>3.0</td>\n",
       "      <td>6.0</td>\n",
       "      <td>3.0</td>\n",
       "      <td>9.0</td>\n",
       "      <td>1.0</td>\n",
       "      <td>4.0</td>\n",
       "      <td>1.0</td>\n",
       "      <td>2.0</td>\n",
       "    </tr>\n",
       "    <tr>\n",
       "      <th>2024-05-27</th>\n",
       "      <td>109.0</td>\n",
       "      <td>28.0</td>\n",
       "      <td>27.0</td>\n",
       "      <td>12.0</td>\n",
       "      <td>39.0</td>\n",
       "      <td>19.0</td>\n",
       "      <td>10.0</td>\n",
       "      <td>11.0</td>\n",
       "      <td>8.0</td>\n",
       "      <td>9.0</td>\n",
       "      <td>5.0</td>\n",
       "      <td>5.0</td>\n",
       "      <td>4.0</td>\n",
       "      <td>0.0</td>\n",
       "      <td>3.0</td>\n",
       "      <td>7.0</td>\n",
       "      <td>0.0</td>\n",
       "      <td>4.0</td>\n",
       "    </tr>\n",
       "    <tr>\n",
       "      <th>2024-06-03</th>\n",
       "      <td>69.0</td>\n",
       "      <td>33.0</td>\n",
       "      <td>16.0</td>\n",
       "      <td>10.0</td>\n",
       "      <td>27.0</td>\n",
       "      <td>12.0</td>\n",
       "      <td>1.0</td>\n",
       "      <td>7.0</td>\n",
       "      <td>9.0</td>\n",
       "      <td>10.0</td>\n",
       "      <td>3.0</td>\n",
       "      <td>9.0</td>\n",
       "      <td>6.0</td>\n",
       "      <td>2.0</td>\n",
       "      <td>4.0</td>\n",
       "      <td>3.0</td>\n",
       "      <td>3.0</td>\n",
       "      <td>4.0</td>\n",
       "    </tr>\n",
       "    <tr>\n",
       "      <th>2024-06-10</th>\n",
       "      <td>126.0</td>\n",
       "      <td>25.0</td>\n",
       "      <td>13.0</td>\n",
       "      <td>24.0</td>\n",
       "      <td>32.0</td>\n",
       "      <td>26.0</td>\n",
       "      <td>7.0</td>\n",
       "      <td>8.0</td>\n",
       "      <td>7.0</td>\n",
       "      <td>8.0</td>\n",
       "      <td>6.0</td>\n",
       "      <td>4.0</td>\n",
       "      <td>7.0</td>\n",
       "      <td>3.0</td>\n",
       "      <td>0.0</td>\n",
       "      <td>4.0</td>\n",
       "      <td>7.0</td>\n",
       "      <td>3.0</td>\n",
       "    </tr>\n",
       "    <tr>\n",
       "      <th>2024-06-17</th>\n",
       "      <td>97.0</td>\n",
       "      <td>22.0</td>\n",
       "      <td>19.0</td>\n",
       "      <td>13.0</td>\n",
       "      <td>35.0</td>\n",
       "      <td>19.0</td>\n",
       "      <td>6.0</td>\n",
       "      <td>15.0</td>\n",
       "      <td>5.0</td>\n",
       "      <td>10.0</td>\n",
       "      <td>14.0</td>\n",
       "      <td>12.0</td>\n",
       "      <td>4.0</td>\n",
       "      <td>8.0</td>\n",
       "      <td>7.0</td>\n",
       "      <td>2.0</td>\n",
       "      <td>2.0</td>\n",
       "      <td>2.0</td>\n",
       "    </tr>\n",
       "    <tr>\n",
       "      <th>2024-06-24</th>\n",
       "      <td>115.0</td>\n",
       "      <td>36.0</td>\n",
       "      <td>19.0</td>\n",
       "      <td>21.0</td>\n",
       "      <td>32.0</td>\n",
       "      <td>16.0</td>\n",
       "      <td>6.0</td>\n",
       "      <td>7.0</td>\n",
       "      <td>3.0</td>\n",
       "      <td>0.0</td>\n",
       "      <td>10.0</td>\n",
       "      <td>9.0</td>\n",
       "      <td>6.0</td>\n",
       "      <td>2.0</td>\n",
       "      <td>1.0</td>\n",
       "      <td>2.0</td>\n",
       "      <td>3.0</td>\n",
       "      <td>2.0</td>\n",
       "    </tr>\n",
       "    <tr>\n",
       "      <th>2024-07-01</th>\n",
       "      <td>128.0</td>\n",
       "      <td>31.0</td>\n",
       "      <td>24.0</td>\n",
       "      <td>15.0</td>\n",
       "      <td>46.0</td>\n",
       "      <td>12.0</td>\n",
       "      <td>13.0</td>\n",
       "      <td>10.0</td>\n",
       "      <td>7.0</td>\n",
       "      <td>0.0</td>\n",
       "      <td>11.0</td>\n",
       "      <td>12.0</td>\n",
       "      <td>5.0</td>\n",
       "      <td>6.0</td>\n",
       "      <td>6.0</td>\n",
       "      <td>5.0</td>\n",
       "      <td>2.0</td>\n",
       "      <td>2.0</td>\n",
       "    </tr>\n",
       "    <tr>\n",
       "      <th>2024-07-08</th>\n",
       "      <td>140.0</td>\n",
       "      <td>22.0</td>\n",
       "      <td>21.0</td>\n",
       "      <td>14.0</td>\n",
       "      <td>40.0</td>\n",
       "      <td>18.0</td>\n",
       "      <td>8.0</td>\n",
       "      <td>14.0</td>\n",
       "      <td>9.0</td>\n",
       "      <td>2.0</td>\n",
       "      <td>8.0</td>\n",
       "      <td>4.0</td>\n",
       "      <td>9.0</td>\n",
       "      <td>4.0</td>\n",
       "      <td>3.0</td>\n",
       "      <td>3.0</td>\n",
       "      <td>4.0</td>\n",
       "      <td>5.0</td>\n",
       "    </tr>\n",
       "    <tr>\n",
       "      <th>2024-07-15</th>\n",
       "      <td>128.0</td>\n",
       "      <td>40.0</td>\n",
       "      <td>33.0</td>\n",
       "      <td>19.0</td>\n",
       "      <td>22.0</td>\n",
       "      <td>20.0</td>\n",
       "      <td>12.0</td>\n",
       "      <td>8.0</td>\n",
       "      <td>5.0</td>\n",
       "      <td>6.0</td>\n",
       "      <td>3.0</td>\n",
       "      <td>7.0</td>\n",
       "      <td>9.0</td>\n",
       "      <td>8.0</td>\n",
       "      <td>3.0</td>\n",
       "      <td>4.0</td>\n",
       "      <td>1.0</td>\n",
       "      <td>4.0</td>\n",
       "    </tr>\n",
       "    <tr>\n",
       "      <th>2024-07-22</th>\n",
       "      <td>78.0</td>\n",
       "      <td>58.0</td>\n",
       "      <td>22.0</td>\n",
       "      <td>12.0</td>\n",
       "      <td>19.0</td>\n",
       "      <td>19.0</td>\n",
       "      <td>11.0</td>\n",
       "      <td>13.0</td>\n",
       "      <td>5.0</td>\n",
       "      <td>6.0</td>\n",
       "      <td>3.0</td>\n",
       "      <td>1.0</td>\n",
       "      <td>5.0</td>\n",
       "      <td>5.0</td>\n",
       "      <td>6.0</td>\n",
       "      <td>11.0</td>\n",
       "      <td>4.0</td>\n",
       "      <td>6.0</td>\n",
       "    </tr>\n",
       "    <tr>\n",
       "      <th>2024-07-29</th>\n",
       "      <td>99.0</td>\n",
       "      <td>31.0</td>\n",
       "      <td>23.0</td>\n",
       "      <td>17.0</td>\n",
       "      <td>16.0</td>\n",
       "      <td>16.0</td>\n",
       "      <td>14.0</td>\n",
       "      <td>9.0</td>\n",
       "      <td>10.0</td>\n",
       "      <td>7.0</td>\n",
       "      <td>4.0</td>\n",
       "      <td>9.0</td>\n",
       "      <td>4.0</td>\n",
       "      <td>4.0</td>\n",
       "      <td>6.0</td>\n",
       "      <td>7.0</td>\n",
       "      <td>22.0</td>\n",
       "      <td>3.0</td>\n",
       "    </tr>\n",
       "    <tr>\n",
       "      <th>2024-08-05</th>\n",
       "      <td>81.0</td>\n",
       "      <td>41.0</td>\n",
       "      <td>16.0</td>\n",
       "      <td>17.0</td>\n",
       "      <td>15.0</td>\n",
       "      <td>7.0</td>\n",
       "      <td>3.0</td>\n",
       "      <td>0.0</td>\n",
       "      <td>4.0</td>\n",
       "      <td>6.0</td>\n",
       "      <td>7.0</td>\n",
       "      <td>10.0</td>\n",
       "      <td>9.0</td>\n",
       "      <td>0.0</td>\n",
       "      <td>3.0</td>\n",
       "      <td>10.0</td>\n",
       "      <td>4.0</td>\n",
       "      <td>5.0</td>\n",
       "    </tr>\n",
       "    <tr>\n",
       "      <th>2024-08-12</th>\n",
       "      <td>73.0</td>\n",
       "      <td>29.0</td>\n",
       "      <td>16.0</td>\n",
       "      <td>21.0</td>\n",
       "      <td>9.0</td>\n",
       "      <td>10.0</td>\n",
       "      <td>18.0</td>\n",
       "      <td>3.0</td>\n",
       "      <td>16.0</td>\n",
       "      <td>4.0</td>\n",
       "      <td>10.0</td>\n",
       "      <td>9.0</td>\n",
       "      <td>6.0</td>\n",
       "      <td>8.0</td>\n",
       "      <td>4.0</td>\n",
       "      <td>8.0</td>\n",
       "      <td>4.0</td>\n",
       "      <td>2.0</td>\n",
       "    </tr>\n",
       "    <tr>\n",
       "      <th>2024-08-19</th>\n",
       "      <td>103.0</td>\n",
       "      <td>36.0</td>\n",
       "      <td>24.0</td>\n",
       "      <td>26.0</td>\n",
       "      <td>19.0</td>\n",
       "      <td>24.0</td>\n",
       "      <td>13.0</td>\n",
       "      <td>7.0</td>\n",
       "      <td>8.0</td>\n",
       "      <td>3.0</td>\n",
       "      <td>4.0</td>\n",
       "      <td>1.0</td>\n",
       "      <td>2.0</td>\n",
       "      <td>7.0</td>\n",
       "      <td>2.0</td>\n",
       "      <td>10.0</td>\n",
       "      <td>1.0</td>\n",
       "      <td>9.0</td>\n",
       "    </tr>\n",
       "    <tr>\n",
       "      <th>2024-08-26</th>\n",
       "      <td>85.0</td>\n",
       "      <td>39.0</td>\n",
       "      <td>15.0</td>\n",
       "      <td>42.0</td>\n",
       "      <td>17.0</td>\n",
       "      <td>18.0</td>\n",
       "      <td>11.0</td>\n",
       "      <td>2.0</td>\n",
       "      <td>8.0</td>\n",
       "      <td>4.0</td>\n",
       "      <td>4.0</td>\n",
       "      <td>9.0</td>\n",
       "      <td>7.0</td>\n",
       "      <td>12.0</td>\n",
       "      <td>2.0</td>\n",
       "      <td>5.0</td>\n",
       "      <td>1.0</td>\n",
       "      <td>2.0</td>\n",
       "    </tr>\n",
       "    <tr>\n",
       "      <th>2024-09-02</th>\n",
       "      <td>78.0</td>\n",
       "      <td>27.0</td>\n",
       "      <td>21.0</td>\n",
       "      <td>33.0</td>\n",
       "      <td>12.0</td>\n",
       "      <td>15.0</td>\n",
       "      <td>9.0</td>\n",
       "      <td>5.0</td>\n",
       "      <td>10.0</td>\n",
       "      <td>1.0</td>\n",
       "      <td>8.0</td>\n",
       "      <td>8.0</td>\n",
       "      <td>9.0</td>\n",
       "      <td>17.0</td>\n",
       "      <td>6.0</td>\n",
       "      <td>9.0</td>\n",
       "      <td>2.0</td>\n",
       "      <td>19.0</td>\n",
       "    </tr>\n",
       "    <tr>\n",
       "      <th>2024-09-09</th>\n",
       "      <td>81.0</td>\n",
       "      <td>41.0</td>\n",
       "      <td>27.0</td>\n",
       "      <td>37.0</td>\n",
       "      <td>22.0</td>\n",
       "      <td>19.0</td>\n",
       "      <td>6.0</td>\n",
       "      <td>7.0</td>\n",
       "      <td>5.0</td>\n",
       "      <td>6.0</td>\n",
       "      <td>6.0</td>\n",
       "      <td>5.0</td>\n",
       "      <td>5.0</td>\n",
       "      <td>3.0</td>\n",
       "      <td>1.0</td>\n",
       "      <td>1.0</td>\n",
       "      <td>3.0</td>\n",
       "      <td>3.0</td>\n",
       "    </tr>\n",
       "    <tr>\n",
       "      <th>2024-09-16</th>\n",
       "      <td>74.0</td>\n",
       "      <td>36.0</td>\n",
       "      <td>16.0</td>\n",
       "      <td>30.0</td>\n",
       "      <td>16.0</td>\n",
       "      <td>16.0</td>\n",
       "      <td>13.0</td>\n",
       "      <td>7.0</td>\n",
       "      <td>10.0</td>\n",
       "      <td>5.0</td>\n",
       "      <td>5.0</td>\n",
       "      <td>6.0</td>\n",
       "      <td>3.0</td>\n",
       "      <td>3.0</td>\n",
       "      <td>4.0</td>\n",
       "      <td>2.0</td>\n",
       "      <td>7.0</td>\n",
       "      <td>2.0</td>\n",
       "    </tr>\n",
       "    <tr>\n",
       "      <th>2024-09-23</th>\n",
       "      <td>85.0</td>\n",
       "      <td>20.0</td>\n",
       "      <td>23.0</td>\n",
       "      <td>30.0</td>\n",
       "      <td>21.0</td>\n",
       "      <td>25.0</td>\n",
       "      <td>3.0</td>\n",
       "      <td>15.0</td>\n",
       "      <td>11.0</td>\n",
       "      <td>4.0</td>\n",
       "      <td>9.0</td>\n",
       "      <td>9.0</td>\n",
       "      <td>3.0</td>\n",
       "      <td>6.0</td>\n",
       "      <td>5.0</td>\n",
       "      <td>6.0</td>\n",
       "      <td>5.0</td>\n",
       "      <td>5.0</td>\n",
       "    </tr>\n",
       "    <tr>\n",
       "      <th>2024-09-30</th>\n",
       "      <td>76.0</td>\n",
       "      <td>44.0</td>\n",
       "      <td>30.0</td>\n",
       "      <td>39.0</td>\n",
       "      <td>15.0</td>\n",
       "      <td>15.0</td>\n",
       "      <td>20.0</td>\n",
       "      <td>5.0</td>\n",
       "      <td>9.0</td>\n",
       "      <td>7.0</td>\n",
       "      <td>3.0</td>\n",
       "      <td>2.0</td>\n",
       "      <td>2.0</td>\n",
       "      <td>11.0</td>\n",
       "      <td>5.0</td>\n",
       "      <td>5.0</td>\n",
       "      <td>3.0</td>\n",
       "      <td>3.0</td>\n",
       "    </tr>\n",
       "    <tr>\n",
       "      <th>2024-10-07</th>\n",
       "      <td>80.0</td>\n",
       "      <td>29.0</td>\n",
       "      <td>19.0</td>\n",
       "      <td>3.0</td>\n",
       "      <td>14.0</td>\n",
       "      <td>18.0</td>\n",
       "      <td>15.0</td>\n",
       "      <td>5.0</td>\n",
       "      <td>6.0</td>\n",
       "      <td>10.0</td>\n",
       "      <td>6.0</td>\n",
       "      <td>7.0</td>\n",
       "      <td>9.0</td>\n",
       "      <td>5.0</td>\n",
       "      <td>7.0</td>\n",
       "      <td>7.0</td>\n",
       "      <td>2.0</td>\n",
       "      <td>2.0</td>\n",
       "    </tr>\n",
       "    <tr>\n",
       "      <th>2024-10-14</th>\n",
       "      <td>76.0</td>\n",
       "      <td>40.0</td>\n",
       "      <td>18.0</td>\n",
       "      <td>50.0</td>\n",
       "      <td>23.0</td>\n",
       "      <td>23.0</td>\n",
       "      <td>15.0</td>\n",
       "      <td>1.0</td>\n",
       "      <td>7.0</td>\n",
       "      <td>2.0</td>\n",
       "      <td>3.0</td>\n",
       "      <td>6.0</td>\n",
       "      <td>2.0</td>\n",
       "      <td>5.0</td>\n",
       "      <td>7.0</td>\n",
       "      <td>8.0</td>\n",
       "      <td>4.0</td>\n",
       "      <td>1.0</td>\n",
       "    </tr>\n",
       "    <tr>\n",
       "      <th>2024-10-21</th>\n",
       "      <td>57.0</td>\n",
       "      <td>49.0</td>\n",
       "      <td>16.0</td>\n",
       "      <td>56.0</td>\n",
       "      <td>17.0</td>\n",
       "      <td>16.0</td>\n",
       "      <td>25.0</td>\n",
       "      <td>8.0</td>\n",
       "      <td>6.0</td>\n",
       "      <td>5.0</td>\n",
       "      <td>6.0</td>\n",
       "      <td>5.0</td>\n",
       "      <td>1.0</td>\n",
       "      <td>6.0</td>\n",
       "      <td>13.0</td>\n",
       "      <td>3.0</td>\n",
       "      <td>5.0</td>\n",
       "      <td>1.0</td>\n",
       "    </tr>\n",
       "    <tr>\n",
       "      <th>2024-10-28</th>\n",
       "      <td>86.0</td>\n",
       "      <td>48.0</td>\n",
       "      <td>21.0</td>\n",
       "      <td>47.0</td>\n",
       "      <td>8.0</td>\n",
       "      <td>23.0</td>\n",
       "      <td>13.0</td>\n",
       "      <td>6.0</td>\n",
       "      <td>12.0</td>\n",
       "      <td>5.0</td>\n",
       "      <td>8.0</td>\n",
       "      <td>12.0</td>\n",
       "      <td>4.0</td>\n",
       "      <td>5.0</td>\n",
       "      <td>6.0</td>\n",
       "      <td>7.0</td>\n",
       "      <td>5.0</td>\n",
       "      <td>2.0</td>\n",
       "    </tr>\n",
       "    <tr>\n",
       "      <th>2024-11-04</th>\n",
       "      <td>103.0</td>\n",
       "      <td>51.0</td>\n",
       "      <td>11.0</td>\n",
       "      <td>39.0</td>\n",
       "      <td>15.0</td>\n",
       "      <td>14.0</td>\n",
       "      <td>9.0</td>\n",
       "      <td>8.0</td>\n",
       "      <td>7.0</td>\n",
       "      <td>6.0</td>\n",
       "      <td>7.0</td>\n",
       "      <td>5.0</td>\n",
       "      <td>4.0</td>\n",
       "      <td>5.0</td>\n",
       "      <td>6.0</td>\n",
       "      <td>2.0</td>\n",
       "      <td>8.0</td>\n",
       "      <td>5.0</td>\n",
       "    </tr>\n",
       "    <tr>\n",
       "      <th>2024-11-11</th>\n",
       "      <td>71.0</td>\n",
       "      <td>33.0</td>\n",
       "      <td>12.0</td>\n",
       "      <td>49.0</td>\n",
       "      <td>15.0</td>\n",
       "      <td>10.0</td>\n",
       "      <td>21.0</td>\n",
       "      <td>6.0</td>\n",
       "      <td>12.0</td>\n",
       "      <td>1.0</td>\n",
       "      <td>4.0</td>\n",
       "      <td>4.0</td>\n",
       "      <td>10.0</td>\n",
       "      <td>4.0</td>\n",
       "      <td>6.0</td>\n",
       "      <td>9.0</td>\n",
       "      <td>7.0</td>\n",
       "      <td>2.0</td>\n",
       "    </tr>\n",
       "    <tr>\n",
       "      <th>2024-11-18</th>\n",
       "      <td>126.0</td>\n",
       "      <td>44.0</td>\n",
       "      <td>19.0</td>\n",
       "      <td>44.0</td>\n",
       "      <td>15.0</td>\n",
       "      <td>11.0</td>\n",
       "      <td>33.0</td>\n",
       "      <td>7.0</td>\n",
       "      <td>14.0</td>\n",
       "      <td>6.0</td>\n",
       "      <td>7.0</td>\n",
       "      <td>10.0</td>\n",
       "      <td>4.0</td>\n",
       "      <td>8.0</td>\n",
       "      <td>3.0</td>\n",
       "      <td>4.0</td>\n",
       "      <td>13.0</td>\n",
       "      <td>2.0</td>\n",
       "    </tr>\n",
       "    <tr>\n",
       "      <th>2024-11-25</th>\n",
       "      <td>86.0</td>\n",
       "      <td>33.0</td>\n",
       "      <td>28.0</td>\n",
       "      <td>37.0</td>\n",
       "      <td>18.0</td>\n",
       "      <td>10.0</td>\n",
       "      <td>9.0</td>\n",
       "      <td>4.0</td>\n",
       "      <td>3.0</td>\n",
       "      <td>5.0</td>\n",
       "      <td>4.0</td>\n",
       "      <td>3.0</td>\n",
       "      <td>3.0</td>\n",
       "      <td>5.0</td>\n",
       "      <td>8.0</td>\n",
       "      <td>11.0</td>\n",
       "      <td>4.0</td>\n",
       "      <td>8.0</td>\n",
       "    </tr>\n",
       "    <tr>\n",
       "      <th>2024-12-02</th>\n",
       "      <td>109.0</td>\n",
       "      <td>47.0</td>\n",
       "      <td>26.0</td>\n",
       "      <td>23.0</td>\n",
       "      <td>11.0</td>\n",
       "      <td>11.0</td>\n",
       "      <td>23.0</td>\n",
       "      <td>5.0</td>\n",
       "      <td>8.0</td>\n",
       "      <td>8.0</td>\n",
       "      <td>4.0</td>\n",
       "      <td>6.0</td>\n",
       "      <td>5.0</td>\n",
       "      <td>4.0</td>\n",
       "      <td>7.0</td>\n",
       "      <td>5.0</td>\n",
       "      <td>3.0</td>\n",
       "      <td>1.0</td>\n",
       "    </tr>\n",
       "    <tr>\n",
       "      <th>2024-12-09</th>\n",
       "      <td>97.0</td>\n",
       "      <td>46.0</td>\n",
       "      <td>16.0</td>\n",
       "      <td>31.0</td>\n",
       "      <td>6.0</td>\n",
       "      <td>16.0</td>\n",
       "      <td>12.0</td>\n",
       "      <td>10.0</td>\n",
       "      <td>1.0</td>\n",
       "      <td>9.0</td>\n",
       "      <td>5.0</td>\n",
       "      <td>5.0</td>\n",
       "      <td>4.0</td>\n",
       "      <td>10.0</td>\n",
       "      <td>9.0</td>\n",
       "      <td>3.0</td>\n",
       "      <td>6.0</td>\n",
       "      <td>5.0</td>\n",
       "    </tr>\n",
       "    <tr>\n",
       "      <th>2024-12-16</th>\n",
       "      <td>102.0</td>\n",
       "      <td>66.0</td>\n",
       "      <td>28.0</td>\n",
       "      <td>31.0</td>\n",
       "      <td>3.0</td>\n",
       "      <td>15.0</td>\n",
       "      <td>26.0</td>\n",
       "      <td>9.0</td>\n",
       "      <td>3.0</td>\n",
       "      <td>7.0</td>\n",
       "      <td>5.0</td>\n",
       "      <td>3.0</td>\n",
       "      <td>4.0</td>\n",
       "      <td>8.0</td>\n",
       "      <td>4.0</td>\n",
       "      <td>2.0</td>\n",
       "      <td>5.0</td>\n",
       "      <td>2.0</td>\n",
       "    </tr>\n",
       "    <tr>\n",
       "      <th>2024-12-23</th>\n",
       "      <td>140.0</td>\n",
       "      <td>60.0</td>\n",
       "      <td>33.0</td>\n",
       "      <td>15.0</td>\n",
       "      <td>10.0</td>\n",
       "      <td>12.0</td>\n",
       "      <td>22.0</td>\n",
       "      <td>2.0</td>\n",
       "      <td>7.0</td>\n",
       "      <td>18.0</td>\n",
       "      <td>10.0</td>\n",
       "      <td>5.0</td>\n",
       "      <td>4.0</td>\n",
       "      <td>4.0</td>\n",
       "      <td>8.0</td>\n",
       "      <td>8.0</td>\n",
       "      <td>5.0</td>\n",
       "      <td>4.0</td>\n",
       "    </tr>\n",
       "    <tr>\n",
       "      <th>2024-12-30</th>\n",
       "      <td>36.0</td>\n",
       "      <td>21.0</td>\n",
       "      <td>8.0</td>\n",
       "      <td>11.0</td>\n",
       "      <td>6.0</td>\n",
       "      <td>3.0</td>\n",
       "      <td>10.0</td>\n",
       "      <td>2.0</td>\n",
       "      <td>4.0</td>\n",
       "      <td>0.0</td>\n",
       "      <td>9.0</td>\n",
       "      <td>1.0</td>\n",
       "      <td>0.0</td>\n",
       "      <td>2.0</td>\n",
       "      <td>1.0</td>\n",
       "      <td>1.0</td>\n",
       "      <td>0.0</td>\n",
       "      <td>1.0</td>\n",
       "    </tr>\n",
       "  </tbody>\n",
       "</table>\n",
       "</div>"
      ],
      "text/plain": [
       "            INDOMIE GRG SPECIAL  INDOMILK KID CKL 115ML  SEDAAP MIE SOTO  \\\n",
       "TANGGAL                                                                    \n",
       "2024-01-01                129.0                     3.0             38.0   \n",
       "2024-01-08                119.0                    12.0             16.0   \n",
       "2024-01-15                 88.0                    13.0             20.0   \n",
       "2024-01-22                147.0                    18.0             32.0   \n",
       "2024-01-29                114.0                    20.0             16.0   \n",
       "2024-02-05                187.0                    10.0             24.0   \n",
       "2024-02-12                151.0                    18.0             16.0   \n",
       "2024-02-19                123.0                    29.0             22.0   \n",
       "2024-02-26                112.0                    12.0             20.0   \n",
       "2024-03-04                 94.0                    15.0             11.0   \n",
       "2024-03-11                 90.0                    21.0             22.0   \n",
       "2024-03-18                 96.0                    17.0             13.0   \n",
       "2024-03-25                 99.0                    13.0             13.0   \n",
       "2024-04-01                131.0                    18.0             26.0   \n",
       "2024-04-08                 57.0                     7.0             16.0   \n",
       "2024-04-15                 93.0                    11.0             25.0   \n",
       "2024-04-22                110.0                    22.0             13.0   \n",
       "2024-04-29                 89.0                    18.0             15.0   \n",
       "2024-05-06                 69.0                    30.0             13.0   \n",
       "2024-05-13                134.0                    10.0             17.0   \n",
       "2024-05-20                 90.0                    22.0             31.0   \n",
       "2024-05-27                109.0                    28.0             27.0   \n",
       "2024-06-03                 69.0                    33.0             16.0   \n",
       "2024-06-10                126.0                    25.0             13.0   \n",
       "2024-06-17                 97.0                    22.0             19.0   \n",
       "2024-06-24                115.0                    36.0             19.0   \n",
       "2024-07-01                128.0                    31.0             24.0   \n",
       "2024-07-08                140.0                    22.0             21.0   \n",
       "2024-07-15                128.0                    40.0             33.0   \n",
       "2024-07-22                 78.0                    58.0             22.0   \n",
       "2024-07-29                 99.0                    31.0             23.0   \n",
       "2024-08-05                 81.0                    41.0             16.0   \n",
       "2024-08-12                 73.0                    29.0             16.0   \n",
       "2024-08-19                103.0                    36.0             24.0   \n",
       "2024-08-26                 85.0                    39.0             15.0   \n",
       "2024-09-02                 78.0                    27.0             21.0   \n",
       "2024-09-09                 81.0                    41.0             27.0   \n",
       "2024-09-16                 74.0                    36.0             16.0   \n",
       "2024-09-23                 85.0                    20.0             23.0   \n",
       "2024-09-30                 76.0                    44.0             30.0   \n",
       "2024-10-07                 80.0                    29.0             19.0   \n",
       "2024-10-14                 76.0                    40.0             18.0   \n",
       "2024-10-21                 57.0                    49.0             16.0   \n",
       "2024-10-28                 86.0                    48.0             21.0   \n",
       "2024-11-04                103.0                    51.0             11.0   \n",
       "2024-11-11                 71.0                    33.0             12.0   \n",
       "2024-11-18                126.0                    44.0             19.0   \n",
       "2024-11-25                 86.0                    33.0             28.0   \n",
       "2024-12-02                109.0                    47.0             26.0   \n",
       "2024-12-09                 97.0                    46.0             16.0   \n",
       "2024-12-16                102.0                    66.0             28.0   \n",
       "2024-12-23                140.0                    60.0             33.0   \n",
       "2024-12-30                 36.0                    21.0              8.0   \n",
       "\n",
       "            SAKINAH 1500ML  INDOMILK KID VNL 115ML  INDOMILK KID STR 115ML  \\\n",
       "TANGGAL                                                                      \n",
       "2024-01-01             6.0                     8.0                     3.0   \n",
       "2024-01-08             6.0                    13.0                    14.0   \n",
       "2024-01-15             5.0                    10.0                    10.0   \n",
       "2024-01-22             8.0                    14.0                    16.0   \n",
       "2024-01-29             4.0                    19.0                    22.0   \n",
       "2024-02-05             8.0                    12.0                    10.0   \n",
       "2024-02-12             5.0                    25.0                    23.0   \n",
       "2024-02-19             7.0                    26.0                    21.0   \n",
       "2024-02-26             6.0                    17.0                    11.0   \n",
       "2024-03-04             7.0                    24.0                    16.0   \n",
       "2024-03-11             2.0                    24.0                     8.0   \n",
       "2024-03-18             9.0                    13.0                     7.0   \n",
       "2024-03-25             2.0                    26.0                     5.0   \n",
       "2024-04-01            10.0                    29.0                     9.0   \n",
       "2024-04-08             7.0                     6.0                     0.0   \n",
       "2024-04-15            10.0                    23.0                    16.0   \n",
       "2024-04-22             9.0                    30.0                    13.0   \n",
       "2024-04-29            18.0                    20.0                    10.0   \n",
       "2024-05-06            24.0                    30.0                    16.0   \n",
       "2024-05-13            21.0                    32.0                    18.0   \n",
       "2024-05-20            21.0                    37.0                    12.0   \n",
       "2024-05-27            12.0                    39.0                    19.0   \n",
       "2024-06-03            10.0                    27.0                    12.0   \n",
       "2024-06-10            24.0                    32.0                    26.0   \n",
       "2024-06-17            13.0                    35.0                    19.0   \n",
       "2024-06-24            21.0                    32.0                    16.0   \n",
       "2024-07-01            15.0                    46.0                    12.0   \n",
       "2024-07-08            14.0                    40.0                    18.0   \n",
       "2024-07-15            19.0                    22.0                    20.0   \n",
       "2024-07-22            12.0                    19.0                    19.0   \n",
       "2024-07-29            17.0                    16.0                    16.0   \n",
       "2024-08-05            17.0                    15.0                     7.0   \n",
       "2024-08-12            21.0                     9.0                    10.0   \n",
       "2024-08-19            26.0                    19.0                    24.0   \n",
       "2024-08-26            42.0                    17.0                    18.0   \n",
       "2024-09-02            33.0                    12.0                    15.0   \n",
       "2024-09-09            37.0                    22.0                    19.0   \n",
       "2024-09-16            30.0                    16.0                    16.0   \n",
       "2024-09-23            30.0                    21.0                    25.0   \n",
       "2024-09-30            39.0                    15.0                    15.0   \n",
       "2024-10-07             3.0                    14.0                    18.0   \n",
       "2024-10-14            50.0                    23.0                    23.0   \n",
       "2024-10-21            56.0                    17.0                    16.0   \n",
       "2024-10-28            47.0                     8.0                    23.0   \n",
       "2024-11-04            39.0                    15.0                    14.0   \n",
       "2024-11-11            49.0                    15.0                    10.0   \n",
       "2024-11-18            44.0                    15.0                    11.0   \n",
       "2024-11-25            37.0                    18.0                    10.0   \n",
       "2024-12-02            23.0                    11.0                    11.0   \n",
       "2024-12-09            31.0                     6.0                    16.0   \n",
       "2024-12-16            31.0                     3.0                    15.0   \n",
       "2024-12-23            15.0                    10.0                    12.0   \n",
       "2024-12-30            11.0                     6.0                     3.0   \n",
       "\n",
       "            INDOMIE SOTO MIE  SEDAAP MIE AYAM BWG  EKONOMI LIQUID REFF 235ML  \\\n",
       "TANGGAL                                                                        \n",
       "2024-01-01              18.0                 14.0                        9.0   \n",
       "2024-01-08              13.0                  1.0                        6.0   \n",
       "2024-01-15              16.0                  9.0                        4.0   \n",
       "2024-01-22              19.0                  3.0                        6.0   \n",
       "2024-01-29              15.0                  5.0                       11.0   \n",
       "2024-02-05              23.0                  9.0                        8.0   \n",
       "2024-02-12              11.0                  5.0                        5.0   \n",
       "2024-02-19              14.0                  7.0                        8.0   \n",
       "2024-02-26               6.0                  5.0                       10.0   \n",
       "2024-03-04              18.0                  6.0                        1.0   \n",
       "2024-03-11              20.0                  6.0                        0.0   \n",
       "2024-03-18               9.0                  6.0                        4.0   \n",
       "2024-03-25              15.0                  1.0                       14.0   \n",
       "2024-04-01               9.0                  5.0                        4.0   \n",
       "2024-04-08              14.0                 19.0                        7.0   \n",
       "2024-04-15               5.0                  7.0                       12.0   \n",
       "2024-04-22              23.0                  3.0                        6.0   \n",
       "2024-04-29              12.0                  5.0                        1.0   \n",
       "2024-05-06              15.0                 11.0                        0.0   \n",
       "2024-05-13              12.0                  9.0                        0.0   \n",
       "2024-05-20               8.0                  6.0                        4.0   \n",
       "2024-05-27              10.0                 11.0                        8.0   \n",
       "2024-06-03               1.0                  7.0                        9.0   \n",
       "2024-06-10               7.0                  8.0                        7.0   \n",
       "2024-06-17               6.0                 15.0                        5.0   \n",
       "2024-06-24               6.0                  7.0                        3.0   \n",
       "2024-07-01              13.0                 10.0                        7.0   \n",
       "2024-07-08               8.0                 14.0                        9.0   \n",
       "2024-07-15              12.0                  8.0                        5.0   \n",
       "2024-07-22              11.0                 13.0                        5.0   \n",
       "2024-07-29              14.0                  9.0                       10.0   \n",
       "2024-08-05               3.0                  0.0                        4.0   \n",
       "2024-08-12              18.0                  3.0                       16.0   \n",
       "2024-08-19              13.0                  7.0                        8.0   \n",
       "2024-08-26              11.0                  2.0                        8.0   \n",
       "2024-09-02               9.0                  5.0                       10.0   \n",
       "2024-09-09               6.0                  7.0                        5.0   \n",
       "2024-09-16              13.0                  7.0                       10.0   \n",
       "2024-09-23               3.0                 15.0                       11.0   \n",
       "2024-09-30              20.0                  5.0                        9.0   \n",
       "2024-10-07              15.0                  5.0                        6.0   \n",
       "2024-10-14              15.0                  1.0                        7.0   \n",
       "2024-10-21              25.0                  8.0                        6.0   \n",
       "2024-10-28              13.0                  6.0                       12.0   \n",
       "2024-11-04               9.0                  8.0                        7.0   \n",
       "2024-11-11              21.0                  6.0                       12.0   \n",
       "2024-11-18              33.0                  7.0                       14.0   \n",
       "2024-11-25               9.0                  4.0                        3.0   \n",
       "2024-12-02              23.0                  5.0                        8.0   \n",
       "2024-12-09              12.0                 10.0                        1.0   \n",
       "2024-12-16              26.0                  9.0                        3.0   \n",
       "2024-12-23              22.0                  2.0                        7.0   \n",
       "2024-12-30              10.0                  2.0                        4.0   \n",
       "\n",
       "            WALLS CORN B/WHITE 82GR  WALLS POPULAIRE CKL  WALLS POPULAIRE STR  \\\n",
       "TANGGAL                                                                         \n",
       "2024-01-01                     17.0                 10.0                  4.0   \n",
       "2024-01-08                     12.0                  3.0                  4.0   \n",
       "2024-01-15                      3.0                  7.0                  7.0   \n",
       "2024-01-22                     22.0                  7.0                  6.0   \n",
       "2024-01-29                      8.0                  8.0                  5.0   \n",
       "2024-02-05                     15.0                  4.0                  6.0   \n",
       "2024-02-12                      3.0                  9.0                  7.0   \n",
       "2024-02-19                      9.0                  5.0                  7.0   \n",
       "2024-02-26                      6.0                  5.0                  2.0   \n",
       "2024-03-04                      5.0                  5.0                 13.0   \n",
       "2024-03-11                     10.0                  6.0                 10.0   \n",
       "2024-03-18                      5.0                  1.0                  4.0   \n",
       "2024-03-25                      7.0                  9.0                  5.0   \n",
       "2024-04-01                      3.0                  8.0                  3.0   \n",
       "2024-04-08                      0.0                  4.0                  3.0   \n",
       "2024-04-15                      6.0                 11.0                  6.0   \n",
       "2024-04-22                      7.0                  7.0                  5.0   \n",
       "2024-04-29                     11.0                  6.0                 10.0   \n",
       "2024-05-06                      3.0                 11.0                  6.0   \n",
       "2024-05-13                      7.0                  6.0                 10.0   \n",
       "2024-05-20                      4.0                  3.0                  6.0   \n",
       "2024-05-27                      9.0                  5.0                  5.0   \n",
       "2024-06-03                     10.0                  3.0                  9.0   \n",
       "2024-06-10                      8.0                  6.0                  4.0   \n",
       "2024-06-17                     10.0                 14.0                 12.0   \n",
       "2024-06-24                      0.0                 10.0                  9.0   \n",
       "2024-07-01                      0.0                 11.0                 12.0   \n",
       "2024-07-08                      2.0                  8.0                  4.0   \n",
       "2024-07-15                      6.0                  3.0                  7.0   \n",
       "2024-07-22                      6.0                  3.0                  1.0   \n",
       "2024-07-29                      7.0                  4.0                  9.0   \n",
       "2024-08-05                      6.0                  7.0                 10.0   \n",
       "2024-08-12                      4.0                 10.0                  9.0   \n",
       "2024-08-19                      3.0                  4.0                  1.0   \n",
       "2024-08-26                      4.0                  4.0                  9.0   \n",
       "2024-09-02                      1.0                  8.0                  8.0   \n",
       "2024-09-09                      6.0                  6.0                  5.0   \n",
       "2024-09-16                      5.0                  5.0                  6.0   \n",
       "2024-09-23                      4.0                  9.0                  9.0   \n",
       "2024-09-30                      7.0                  3.0                  2.0   \n",
       "2024-10-07                     10.0                  6.0                  7.0   \n",
       "2024-10-14                      2.0                  3.0                  6.0   \n",
       "2024-10-21                      5.0                  6.0                  5.0   \n",
       "2024-10-28                      5.0                  8.0                 12.0   \n",
       "2024-11-04                      6.0                  7.0                  5.0   \n",
       "2024-11-11                      1.0                  4.0                  4.0   \n",
       "2024-11-18                      6.0                  7.0                 10.0   \n",
       "2024-11-25                      5.0                  4.0                  3.0   \n",
       "2024-12-02                      8.0                  4.0                  6.0   \n",
       "2024-12-09                      9.0                  5.0                  5.0   \n",
       "2024-12-16                      7.0                  5.0                  3.0   \n",
       "2024-12-23                     18.0                 10.0                  5.0   \n",
       "2024-12-30                      0.0                  9.0                  1.0   \n",
       "\n",
       "            MAMA LEMON 115ML  DELFI TOP CHO 9GR  ROMA KELAPA 300GR  \\\n",
       "TANGGAL                                                              \n",
       "2024-01-01               3.0                8.0               12.0   \n",
       "2024-01-08               6.0                4.0                8.0   \n",
       "2024-01-15               7.0                1.0                6.0   \n",
       "2024-01-22               8.0                2.0                3.0   \n",
       "2024-01-29               7.0               10.0                6.0   \n",
       "2024-02-05               4.0               10.0                6.0   \n",
       "2024-02-12               9.0                5.0                9.0   \n",
       "2024-02-19               3.0                6.0                6.0   \n",
       "2024-02-26               8.0               17.0               12.0   \n",
       "2024-03-04               9.0                2.0                3.0   \n",
       "2024-03-11              17.0                4.0                8.0   \n",
       "2024-03-18               9.0                5.0                5.0   \n",
       "2024-03-25              12.0                5.0                8.0   \n",
       "2024-04-01               5.0                1.0                7.0   \n",
       "2024-04-08               3.0                1.0                3.0   \n",
       "2024-04-15               8.0                2.0                1.0   \n",
       "2024-04-22              14.0                5.0                6.0   \n",
       "2024-04-29              14.0                9.0                5.0   \n",
       "2024-05-06               9.0                7.0                1.0   \n",
       "2024-05-13               0.0                3.0                4.0   \n",
       "2024-05-20               3.0                9.0                1.0   \n",
       "2024-05-27               4.0                0.0                3.0   \n",
       "2024-06-03               6.0                2.0                4.0   \n",
       "2024-06-10               7.0                3.0                0.0   \n",
       "2024-06-17               4.0                8.0                7.0   \n",
       "2024-06-24               6.0                2.0                1.0   \n",
       "2024-07-01               5.0                6.0                6.0   \n",
       "2024-07-08               9.0                4.0                3.0   \n",
       "2024-07-15               9.0                8.0                3.0   \n",
       "2024-07-22               5.0                5.0                6.0   \n",
       "2024-07-29               4.0                4.0                6.0   \n",
       "2024-08-05               9.0                0.0                3.0   \n",
       "2024-08-12               6.0                8.0                4.0   \n",
       "2024-08-19               2.0                7.0                2.0   \n",
       "2024-08-26               7.0               12.0                2.0   \n",
       "2024-09-02               9.0               17.0                6.0   \n",
       "2024-09-09               5.0                3.0                1.0   \n",
       "2024-09-16               3.0                3.0                4.0   \n",
       "2024-09-23               3.0                6.0                5.0   \n",
       "2024-09-30               2.0               11.0                5.0   \n",
       "2024-10-07               9.0                5.0                7.0   \n",
       "2024-10-14               2.0                5.0                7.0   \n",
       "2024-10-21               1.0                6.0               13.0   \n",
       "2024-10-28               4.0                5.0                6.0   \n",
       "2024-11-04               4.0                5.0                6.0   \n",
       "2024-11-11              10.0                4.0                6.0   \n",
       "2024-11-18               4.0                8.0                3.0   \n",
       "2024-11-25               3.0                5.0                8.0   \n",
       "2024-12-02               5.0                4.0                7.0   \n",
       "2024-12-09               4.0               10.0                9.0   \n",
       "2024-12-16               4.0                8.0                4.0   \n",
       "2024-12-23               4.0                4.0                8.0   \n",
       "2024-12-30               0.0                2.0                1.0   \n",
       "\n",
       "            DELFI TOP B/WHITE 9GR  BISKUAT BOLU CKL 16GR  DELFI TOP STR 9GR  \n",
       "TANGGAL                                                                      \n",
       "2024-01-01                    6.0                    5.0                5.0  \n",
       "2024-01-08                    7.0                    4.0                4.0  \n",
       "2024-01-15                    3.0                    7.0                3.0  \n",
       "2024-01-22                    4.0                    5.0                0.0  \n",
       "2024-01-29                    9.0                    0.0                5.0  \n",
       "2024-02-05                    3.0                    1.0                2.0  \n",
       "2024-02-12                    4.0                    0.0                6.0  \n",
       "2024-02-19                    1.0                    2.0               12.0  \n",
       "2024-02-26                    6.0                    3.0                9.0  \n",
       "2024-03-04                    4.0                    3.0                9.0  \n",
       "2024-03-11                    4.0                    5.0                5.0  \n",
       "2024-03-18                    7.0                    6.0                0.0  \n",
       "2024-03-25                    2.0                   10.0                1.0  \n",
       "2024-04-01                    2.0                    2.0                2.0  \n",
       "2024-04-08                    1.0                    1.0                1.0  \n",
       "2024-04-15                    8.0                    6.0                1.0  \n",
       "2024-04-22                    6.0                    1.0                6.0  \n",
       "2024-04-29                   11.0                    3.0                8.0  \n",
       "2024-05-06                    1.0                    5.0                2.0  \n",
       "2024-05-13                    4.0                    0.0                2.0  \n",
       "2024-05-20                    4.0                    1.0                2.0  \n",
       "2024-05-27                    7.0                    0.0                4.0  \n",
       "2024-06-03                    3.0                    3.0                4.0  \n",
       "2024-06-10                    4.0                    7.0                3.0  \n",
       "2024-06-17                    2.0                    2.0                2.0  \n",
       "2024-06-24                    2.0                    3.0                2.0  \n",
       "2024-07-01                    5.0                    2.0                2.0  \n",
       "2024-07-08                    3.0                    4.0                5.0  \n",
       "2024-07-15                    4.0                    1.0                4.0  \n",
       "2024-07-22                   11.0                    4.0                6.0  \n",
       "2024-07-29                    7.0                   22.0                3.0  \n",
       "2024-08-05                   10.0                    4.0                5.0  \n",
       "2024-08-12                    8.0                    4.0                2.0  \n",
       "2024-08-19                   10.0                    1.0                9.0  \n",
       "2024-08-26                    5.0                    1.0                2.0  \n",
       "2024-09-02                    9.0                    2.0               19.0  \n",
       "2024-09-09                    1.0                    3.0                3.0  \n",
       "2024-09-16                    2.0                    7.0                2.0  \n",
       "2024-09-23                    6.0                    5.0                5.0  \n",
       "2024-09-30                    5.0                    3.0                3.0  \n",
       "2024-10-07                    7.0                    2.0                2.0  \n",
       "2024-10-14                    8.0                    4.0                1.0  \n",
       "2024-10-21                    3.0                    5.0                1.0  \n",
       "2024-10-28                    7.0                    5.0                2.0  \n",
       "2024-11-04                    2.0                    8.0                5.0  \n",
       "2024-11-11                    9.0                    7.0                2.0  \n",
       "2024-11-18                    4.0                   13.0                2.0  \n",
       "2024-11-25                   11.0                    4.0                8.0  \n",
       "2024-12-02                    5.0                    3.0                1.0  \n",
       "2024-12-09                    3.0                    6.0                5.0  \n",
       "2024-12-16                    2.0                    5.0                2.0  \n",
       "2024-12-23                    8.0                    5.0                4.0  \n",
       "2024-12-30                    1.0                    0.0                1.0  "
      ]
     },
     "execution_count": 16,
     "metadata": {},
     "output_type": "execute_result"
    }
   ],
   "source": [
    "# Mengubah kolom TANGGAL menjadi datetime dan menjadikannya index\n",
    "df_final['TANGGAL'] = pd.to_datetime(df_final['TANGGAL'])\n",
    "df_final= df_final.set_index('TANGGAL')\n",
    "df_final = df_final.asfreq('W-MON') # Menetapkan frekuensi mingguan (Senin)\n",
    "\n",
    "df_final"
   ]
  },
  {
   "cell_type": "code",
   "execution_count": 17,
   "id": "d8be40d2",
   "metadata": {},
   "outputs": [],
   "source": [
    "# 1. Mengubah index 'TANGGAL' menjadi kolom biasa\n",
    "df_final = df_final.reset_index()\n",
    "df_final.rename(columns={'index': 'TANGGAL'}, inplace=True) # Rename kolom 'index' yang baru dibuat menjadi 'TANGGAL'\n",
    "\n",
    "# 2. Pastikan kolom 'TANGGAL' adalah tipe datetime (sekarang sudah jadi kolom biasa)\n",
    "df_final['TANGGAL'] = pd.to_datetime(df_final['TANGGAL'])\n",
    "\n",
    "# 3. Identifikasi kolom produk\n",
    "product_columns = [col for col in df_final.columns if col != 'TANGGAL']"
   ]
  },
  {
   "cell_type": "code",
   "execution_count": 18,
   "id": "287f0546",
   "metadata": {},
   "outputs": [],
   "source": [
    "# --- Fungsi untuk Menghitung Metrik ---\n",
    "def calculate_metrics(y_true, y_pred):\n",
    "    mae = mean_absolute_error(y_true, y_pred)\n",
    "    rmse = np.sqrt(mean_squared_error(y_true, y_pred))\n",
    "\n",
    "    # Calculate MAPE, handling division by zero for actuals\n",
    "    # Only include points where y_true is not zero for MAPE calculation\n",
    "    non_zero_indices = y_true != 0\n",
    "    if np.sum(non_zero_indices) > 0:\n",
    "        mape = np.mean(np.abs((y_true[non_zero_indices] - y_pred[non_zero_indices]) / y_true[non_zero_indices])) * 100\n",
    "    else:\n",
    "        mape = np.nan # Jika semua nilai aktual adalah 0, MAPE tidak terdefinisi\n",
    "\n",
    "    return mae, rmse, mape"
   ]
  },
  {
   "cell_type": "code",
   "execution_count": 19,
   "id": "b569dd2f",
   "metadata": {},
   "outputs": [
    {
     "name": "stdout",
     "output_type": "stream",
     "text": [
      "================================================================================\n",
      "             MEMULAI FORECASTING DENGAN PROPHET DAN EVALUASI             \n",
      "================================================================================\n",
      "Total data historis: 53 titik.\n",
      "Ukuran data training (80%): 42 titik.\n",
      "Ukuran data testing (20%): 11 titik.\n",
      "\n",
      "\n",
      "\n",
      "--- Memproses Produk: INDOMIE GRG SPECIAL ---\n"
     ]
    },
    {
     "name": "stderr",
     "output_type": "stream",
     "text": [
      "07:40:48 - cmdstanpy - INFO - Chain [1] start processing\n",
      "07:40:49 - cmdstanpy - INFO - Chain [1] done processing\n",
      "07:40:50 - cmdstanpy - INFO - Chain [1] start processing\n"
     ]
    },
    {
     "name": "stdout",
     "output_type": "stream",
     "text": [
      "  - MAE: 29.34\n",
      "  - RMSE: 34.63\n",
      "  - MAPE: 33.32%\n",
      "\n",
      "--- Memproses Produk: INDOMILK KID CKL 115ML ---\n"
     ]
    },
    {
     "name": "stderr",
     "output_type": "stream",
     "text": [
      "07:40:50 - cmdstanpy - INFO - Chain [1] done processing\n",
      "07:40:50 - cmdstanpy - INFO - Chain [1] start processing\n"
     ]
    },
    {
     "name": "stdout",
     "output_type": "stream",
     "text": [
      "  - MAE: 10.03\n",
      "  - RMSE: 12.46\n",
      "  - MAPE: 27.29%\n",
      "\n",
      "--- Memproses Produk: SEDAAP MIE SOTO ---\n"
     ]
    },
    {
     "name": "stderr",
     "output_type": "stream",
     "text": [
      "07:40:50 - cmdstanpy - INFO - Chain [1] done processing\n",
      "07:40:51 - cmdstanpy - INFO - Chain [1] start processing\n"
     ]
    },
    {
     "name": "stdout",
     "output_type": "stream",
     "text": [
      "  - MAE: 6.78\n",
      "  - RMSE: 7.76\n",
      "  - MAPE: 45.17%\n",
      "\n",
      "--- Memproses Produk: SAKINAH 1500ML ---\n"
     ]
    },
    {
     "name": "stderr",
     "output_type": "stream",
     "text": [
      "07:40:51 - cmdstanpy - INFO - Chain [1] done processing\n",
      "07:40:51 - cmdstanpy - INFO - Chain [1] start processing\n"
     ]
    },
    {
     "name": "stdout",
     "output_type": "stream",
     "text": [
      "  - MAE: 13.41\n",
      "  - RMSE: 15.75\n",
      "  - MAPE: 59.36%\n",
      "\n",
      "--- Memproses Produk: INDOMILK KID VNL 115ML ---\n"
     ]
    },
    {
     "name": "stderr",
     "output_type": "stream",
     "text": [
      "07:40:51 - cmdstanpy - INFO - Chain [1] done processing\n"
     ]
    },
    {
     "name": "stdout",
     "output_type": "stream",
     "text": [
      "  - MAE: 12.62\n",
      "  - RMSE: 13.56\n",
      "  - MAPE: 182.59%\n",
      "\n",
      "--- Memproses Produk: INDOMILK KID STR 115ML ---\n"
     ]
    },
    {
     "name": "stderr",
     "output_type": "stream",
     "text": [
      "07:40:52 - cmdstanpy - INFO - Chain [1] start processing\n",
      "07:40:52 - cmdstanpy - INFO - Chain [1] done processing\n"
     ]
    },
    {
     "name": "stdout",
     "output_type": "stream",
     "text": [
      "  - MAE: 7.74\n",
      "  - RMSE: 8.70\n",
      "  - MAPE: 104.87%\n",
      "\n",
      "--- Memproses Produk: INDOMIE SOTO MIE ---\n"
     ]
    },
    {
     "name": "stderr",
     "output_type": "stream",
     "text": [
      "07:40:52 - cmdstanpy - INFO - Chain [1] start processing\n",
      "07:40:53 - cmdstanpy - INFO - Chain [1] done processing\n",
      "07:40:53 - cmdstanpy - INFO - Chain [1] start processing\n"
     ]
    },
    {
     "name": "stdout",
     "output_type": "stream",
     "text": [
      "  - MAE: 9.72\n",
      "  - RMSE: 12.45\n",
      "  - MAPE: 42.38%\n",
      "\n",
      "--- Memproses Produk: SEDAAP MIE AYAM BWG ---\n"
     ]
    },
    {
     "name": "stderr",
     "output_type": "stream",
     "text": [
      "07:40:54 - cmdstanpy - INFO - Chain [1] done processing\n",
      "07:40:54 - cmdstanpy - INFO - Chain [1] start processing\n"
     ]
    },
    {
     "name": "stdout",
     "output_type": "stream",
     "text": [
      "  - MAE: 2.22\n",
      "  - RMSE: 2.74\n",
      "  - MAPE: 67.67%\n",
      "\n",
      "--- Memproses Produk: EKONOMI LIQUID REFF 235ML ---\n"
     ]
    },
    {
     "name": "stderr",
     "output_type": "stream",
     "text": [
      "07:40:54 - cmdstanpy - INFO - Chain [1] done processing\n",
      "07:40:54 - cmdstanpy - INFO - Chain [1] start processing\n"
     ]
    },
    {
     "name": "stdout",
     "output_type": "stream",
     "text": [
      "  - MAE: 3.70\n",
      "  - RMSE: 4.28\n",
      "  - MAPE: 124.65%\n",
      "\n",
      "--- Memproses Produk: WALLS CORN B/WHITE 82GR ---\n"
     ]
    },
    {
     "name": "stderr",
     "output_type": "stream",
     "text": [
      "07:40:55 - cmdstanpy - INFO - Chain [1] done processing\n",
      "07:40:55 - cmdstanpy - INFO - Chain [1] start processing\n"
     ]
    },
    {
     "name": "stdout",
     "output_type": "stream",
     "text": [
      "  - MAE: 4.57\n",
      "  - RMSE: 6.11\n",
      "  - MAPE: 71.99%\n",
      "\n",
      "--- Memproses Produk: WALLS POPULAIRE CKL ---\n"
     ]
    },
    {
     "name": "stderr",
     "output_type": "stream",
     "text": [
      "07:40:55 - cmdstanpy - INFO - Chain [1] done processing\n",
      "07:40:55 - cmdstanpy - INFO - Chain [1] start processing\n"
     ]
    },
    {
     "name": "stdout",
     "output_type": "stream",
     "text": [
      "  - MAE: 1.73\n",
      "  - RMSE: 2.07\n",
      "  - MAPE: 27.93%\n",
      "\n",
      "--- Memproses Produk: WALLS POPULAIRE STR ---\n"
     ]
    },
    {
     "name": "stderr",
     "output_type": "stream",
     "text": [
      "07:40:55 - cmdstanpy - INFO - Chain [1] done processing\n"
     ]
    },
    {
     "name": "stdout",
     "output_type": "stream",
     "text": [
      "  - MAE: 3.19\n",
      "  - RMSE: 3.50\n",
      "  - MAPE: 112.30%\n",
      "\n",
      "--- Memproses Produk: MAMA LEMON 115ML ---\n"
     ]
    },
    {
     "name": "stderr",
     "output_type": "stream",
     "text": [
      "07:40:56 - cmdstanpy - INFO - Chain [1] start processing\n",
      "07:40:56 - cmdstanpy - INFO - Chain [1] done processing\n",
      "07:40:56 - cmdstanpy - INFO - Chain [1] start processing\n"
     ]
    },
    {
     "name": "stdout",
     "output_type": "stream",
     "text": [
      "  - MAE: 1.72\n",
      "  - RMSE: 2.45\n",
      "  - MAPE: 59.57%\n",
      "\n",
      "--- Memproses Produk: DELFI TOP CHO 9GR ---\n"
     ]
    },
    {
     "name": "stderr",
     "output_type": "stream",
     "text": [
      "07:40:56 - cmdstanpy - INFO - Chain [1] done processing\n",
      "07:40:57 - cmdstanpy - INFO - Chain [1] start processing\n"
     ]
    },
    {
     "name": "stdout",
     "output_type": "stream",
     "text": [
      "  - MAE: 2.08\n",
      "  - RMSE: 2.37\n",
      "  - MAPE: 52.21%\n",
      "\n",
      "--- Memproses Produk: ROMA KELAPA 300GR ---\n"
     ]
    },
    {
     "name": "stderr",
     "output_type": "stream",
     "text": [
      "07:40:57 - cmdstanpy - INFO - Chain [1] done processing\n"
     ]
    },
    {
     "name": "stdout",
     "output_type": "stream",
     "text": [
      "  - MAE: 3.96\n",
      "  - RMSE: 4.75\n",
      "  - MAPE: 61.14%\n",
      "\n",
      "--- Memproses Produk: DELFI TOP B/WHITE 9GR ---\n"
     ]
    },
    {
     "name": "stderr",
     "output_type": "stream",
     "text": [
      "07:40:57 - cmdstanpy - INFO - Chain [1] start processing\n",
      "07:40:58 - cmdstanpy - INFO - Chain [1] done processing\n",
      "07:40:58 - cmdstanpy - INFO - Chain [1] start processing\n"
     ]
    },
    {
     "name": "stdout",
     "output_type": "stream",
     "text": [
      "  - MAE: 3.13\n",
      "  - RMSE: 3.46\n",
      "  - MAPE: 128.97%\n",
      "\n",
      "--- Memproses Produk: BISKUAT BOLU CKL 16GR ---\n"
     ]
    },
    {
     "name": "stderr",
     "output_type": "stream",
     "text": [
      "07:40:58 - cmdstanpy - INFO - Chain [1] done processing\n",
      "07:40:59 - cmdstanpy - INFO - Chain [1] start processing\n"
     ]
    },
    {
     "name": "stdout",
     "output_type": "stream",
     "text": [
      "  - MAE: 2.41\n",
      "  - RMSE: 3.41\n",
      "  - MAPE: 30.04%\n",
      "\n",
      "--- Memproses Produk: DELFI TOP STR 9GR ---\n"
     ]
    },
    {
     "name": "stderr",
     "output_type": "stream",
     "text": [
      "07:40:59 - cmdstanpy - INFO - Chain [1] done processing\n"
     ]
    },
    {
     "name": "stdout",
     "output_type": "stream",
     "text": [
      "  - MAE: 2.13\n",
      "  - RMSE: 2.40\n",
      "  - MAPE: 130.33%\n",
      "\n",
      "\n",
      "================================================================================\n",
      "             RINGKASAN HASIL EVALUASI MODEL FORECASTING             \n",
      "================================================================================\n",
      "                  Product       MAE      RMSE       MAPE\n",
      "   INDOMILK KID CKL 115ML 10.026723 12.460547  27.288926\n",
      "      WALLS POPULAIRE CKL  1.728428  2.068480  27.927054\n",
      "    BISKUAT BOLU CKL 16GR  2.409274  3.412138  30.038095\n",
      "      INDOMIE GRG SPECIAL 29.342318 34.628673  33.315869\n",
      "         INDOMIE SOTO MIE  9.720926 12.447971  42.376840\n",
      "          SEDAAP MIE SOTO  6.782322  7.760204  45.169871\n",
      "        DELFI TOP CHO 9GR  2.083466  2.374085  52.213486\n",
      "           SAKINAH 1500ML 13.406515 15.750651  59.363765\n",
      "         MAMA LEMON 115ML  1.720983  2.452152  59.566934\n",
      "        ROMA KELAPA 300GR  3.962875  4.748433  61.139311\n",
      "      SEDAAP MIE AYAM BWG  2.217071  2.742488  67.668706\n",
      "  WALLS CORN B/WHITE 82GR  4.568275  6.111001  71.990882\n",
      "   INDOMILK KID STR 115ML  7.736716  8.695808 104.868908\n",
      "      WALLS POPULAIRE STR  3.187493  3.504508 112.299710\n",
      "EKONOMI LIQUID REFF 235ML  3.702492  4.282377 124.651349\n",
      "    DELFI TOP B/WHITE 9GR  3.131039  3.463535 128.972512\n",
      "        DELFI TOP STR 9GR  2.132712  2.395772 130.331907\n",
      "   INDOMILK KID VNL 115ML 12.618528 13.559241 182.589355\n",
      "\n",
      "📈 Rata-rata Performa Semua Produk:\n",
      "Avg MAE: 6.69\n",
      "Avg RMSE: 7.94\n",
      "Avg MAPE: 75.65%\n",
      "--- Catatan Penting ---\n",
      "1. Akurasi model mungkin terbatas karena jumlah data historis yang relatif sedikit (53 titik).\n",
      "2. 'MAPE: N/A' menunjukkan bahwa semua nilai aktual di periode testing adalah 0.\n",
      "3. Hasil forecast ini berdasarkan data dummy. Untuk hasil nyata, gunakan data aktual Anda.\n"
     ]
    }
   ],
   "source": [
    "# --- Persiapan untuk Forecasting ---\n",
    "results = []\n",
    "train_size = int(len(df_final) * 0.8)\n",
    "test_size = len(df_final) - train_size\n",
    "\n",
    "print(\"=\"*80)\n",
    "print(\"             MEMULAI FORECASTING DENGAN PROPHET DAN EVALUASI             \")\n",
    "print(\"=\"*80)\n",
    "print(f\"Total data historis: {len(df_final)} titik.\")\n",
    "print(f\"Ukuran data training (80%): {train_size} titik.\")\n",
    "print(f\"Ukuran data testing (20%): {test_size} titik.\")\n",
    "print(\"\\n\")\n",
    "\n",
    "# Loop melalui setiap kolom produk untuk melakukan forecasting\n",
    "for product in product_columns:\n",
    "    print(f\"\\n--- Memproses Produk: {product} ---\")\n",
    "\n",
    "    # Siapkan DataFrame untuk Prophet: 'ds' (datetime) dan 'y' (nilai numerik)\n",
    "    df_prophet = df_final[['TANGGAL', product]].copy()\n",
    "    df_prophet.rename(columns={'TANGGAL': 'ds', product: 'y'}, inplace=True)\n",
    "\n",
    "    # Membagi data menjadi training dan testing (split time series)\n",
    "    train_df = df_prophet.iloc[:train_size]\n",
    "    test_df = df_prophet.iloc[train_size:]\n",
    "\n",
    "    # Inisialisasi dan latih model Prophet\n",
    "    # Karena data adalah agregasi mingguan (Tanggal adalah awal minggu),\n",
    "    # seasonality mingguan internal Prophet tidak relevan.\n",
    "    # Yearly seasonality juga dimatikan karena hanya ~1 tahun data.\n",
    "    m = Prophet(\n",
    "        yearly_seasonality=False,\n",
    "        weekly_seasonality=False,\n",
    "        daily_seasonality=False,\n",
    "        growth='linear',\n",
    "        changepoint_prior_scale=0.05 # Default value\n",
    "    )\n",
    "    m.fit(train_df)\n",
    "\n",
    "    # Buat DataFrame untuk periode waktu yang akan diprediksi (periode test)\n",
    "    # Ini harus mencakup tanggal-tanggal yang ada di test_df\n",
    "    future = m.make_future_dataframe(periods=len(test_df), freq='W', include_history=False) # Hanya future dates\n",
    "\n",
    "    # Lakukan prediksi\n",
    "    forecast = m.predict(future)\n",
    "\n",
    "    # Ambil nilai prediksi untuk periode test\n",
    "    y_true = test_df['y'].values\n",
    "    y_pred = forecast['yhat'].values\n",
    "\n",
    "    # Hitung metrik evaluasi\n",
    "    mae, rmse, mape = calculate_metrics(y_true, y_pred)\n",
    "\n",
    "    print(f\"  - MAE: {mae:.2f}\")\n",
    "    print(f\"  - RMSE: {rmse:.2f}\")\n",
    "    if pd.isna(mape):\n",
    "        print(f\"  - MAPE: N/A (Semua nilai aktual adalah 0 di periode testing)\")\n",
    "    else:\n",
    "        print(f\"  - MAPE: {mape:.2f}%\")\n",
    "\n",
    "    # Simpan hasil\n",
    "    results.append({\n",
    "        'Product': product,\n",
    "        'MAE': mae,\n",
    "        'RMSE': rmse,\n",
    "        'MAPE': mape\n",
    "    })\n",
    "\n",
    "# Konversi hasil ke DataFrame untuk analisis lebih lanjut\n",
    "df_results = pd.DataFrame(results)\n",
    "\n",
    "print(\"\\n\")\n",
    "print(\"=\"*80)\n",
    "print(\"             RINGKASAN HASIL EVALUASI MODEL FORECASTING             \")\n",
    "print(\"=\"*80)\n",
    "\n",
    "# Urutkan berdasarkan MAPE (terendah ke tertinggi), lalu MAE\n",
    "df_results_sorted = df_results.sort_values(by='MAPE', ascending=True)\n",
    "\n",
    "print(df_results_sorted.to_string(index=False)) # to_string() untuk menampilkan semua baris tanpa truncasi\n",
    "\n",
    "print(\"\\n📈 Rata-rata Performa Semua Produk:\")\n",
    "print(f\"Avg MAE: {df_results_sorted['MAE'].mean():.2f}\")\n",
    "print(f\"Avg RMSE: {df_results_sorted['RMSE'].mean():.2f}\")\n",
    "print(f\"Avg MAPE: {df_results_sorted['MAPE'].mean():.2f}%\")\n",
    "\n",
    "print(\"--- Catatan Penting ---\")\n",
    "print(\"1. Akurasi model mungkin terbatas karena jumlah data historis yang relatif sedikit (53 titik).\")\n",
    "print(\"2. 'MAPE: N/A' menunjukkan bahwa semua nilai aktual di periode testing adalah 0.\")\n",
    "print(\"3. Hasil forecast ini berdasarkan data dummy. Untuk hasil nyata, gunakan data aktual Anda.\")"
   ]
  }
 ],
 "metadata": {
  "kernelspec": {
   "display_name": "Python 3",
   "language": "python",
   "name": "python3"
  },
  "language_info": {
   "codemirror_mode": {
    "name": "ipython",
    "version": 3
   },
   "file_extension": ".py",
   "mimetype": "text/x-python",
   "name": "python",
   "nbconvert_exporter": "python",
   "pygments_lexer": "ipython3",
   "version": "3.12.2"
  }
 },
 "nbformat": 4,
 "nbformat_minor": 5
}
