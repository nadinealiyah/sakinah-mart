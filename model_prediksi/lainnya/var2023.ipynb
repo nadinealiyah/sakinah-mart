{
 "cells": [
  {
   "cell_type": "markdown",
   "id": "b3230f62",
   "metadata": {},
   "source": [
    "### **1. Import Library**"
   ]
  },
  {
   "cell_type": "code",
   "execution_count": 1,
   "id": "0b7d573a",
   "metadata": {},
   "outputs": [],
   "source": [
    "import pandas as pd\n",
    "import numpy as np\n",
    "import matplotlib.pyplot as plt\n",
    "import plotly.express as px\n",
    "from statsmodels.tsa.stattools import adfuller\n",
    "from statsmodels.graphics.tsaplots import plot_acf, plot_pacf\n",
    "from statsmodels.tsa.api import VAR\n",
    "from sklearn.metrics import mean_squared_error, mean_absolute_error"
   ]
  },
  {
   "cell_type": "markdown",
   "id": "fa7c5e1d",
   "metadata": {},
   "source": [
    "### **2. Import Data Hasil Rules**"
   ]
  },
  {
   "cell_type": "code",
   "execution_count": 2,
   "id": "7d8c556c",
   "metadata": {},
   "outputs": [
    {
     "data": {
      "text/html": [
       "<div>\n",
       "<style scoped>\n",
       "    .dataframe tbody tr th:only-of-type {\n",
       "        vertical-align: middle;\n",
       "    }\n",
       "\n",
       "    .dataframe tbody tr th {\n",
       "        vertical-align: top;\n",
       "    }\n",
       "\n",
       "    .dataframe thead th {\n",
       "        text-align: right;\n",
       "    }\n",
       "</style>\n",
       "<table border=\"1\" class=\"dataframe\">\n",
       "  <thead>\n",
       "    <tr style=\"text-align: right;\">\n",
       "      <th></th>\n",
       "      <th>Unnamed: 0</th>\n",
       "      <th>antecedents</th>\n",
       "      <th>consequents</th>\n",
       "      <th>support</th>\n",
       "      <th>confidence</th>\n",
       "      <th>lift</th>\n",
       "    </tr>\n",
       "  </thead>\n",
       "  <tbody>\n",
       "    <tr>\n",
       "      <th>0</th>\n",
       "      <td>0</td>\n",
       "      <td>frozenset({'HARMONY MELON', 'HARMONY LEMON', '...</td>\n",
       "      <td>frozenset({'HARMONY STRAWBERY'})</td>\n",
       "      <td>0.000113</td>\n",
       "      <td>1</td>\n",
       "      <td>1235.260000</td>\n",
       "    </tr>\n",
       "    <tr>\n",
       "      <th>1</th>\n",
       "      <td>1</td>\n",
       "      <td>frozenset({'DELFI TOP TRIP/CHO 9GR', 'MOMOGI J...</td>\n",
       "      <td>frozenset({'MOMOGI CKL 6GR'})</td>\n",
       "      <td>0.000113</td>\n",
       "      <td>1</td>\n",
       "      <td>686.255556</td>\n",
       "    </tr>\n",
       "    <tr>\n",
       "      <th>2</th>\n",
       "      <td>2</td>\n",
       "      <td>frozenset({'INDOMILK KID VNL 115ML', 'CLOUD 9 ...</td>\n",
       "      <td>frozenset({'CLOUD 9 CHOCO 15 4G'})</td>\n",
       "      <td>0.000113</td>\n",
       "      <td>1</td>\n",
       "      <td>571.879630</td>\n",
       "    </tr>\n",
       "    <tr>\n",
       "      <th>3</th>\n",
       "      <td>3</td>\n",
       "      <td>frozenset({'CLOUD 9 VANILA 15 4G', 'INDOMILK K...</td>\n",
       "      <td>frozenset({'CLOUD 9 CHOCO 15 4G'})</td>\n",
       "      <td>0.000146</td>\n",
       "      <td>1</td>\n",
       "      <td>571.879630</td>\n",
       "    </tr>\n",
       "    <tr>\n",
       "      <th>4</th>\n",
       "      <td>4</td>\n",
       "      <td>frozenset({'INDOMILK KID VNL 115ML', 'CLOUD 9 ...</td>\n",
       "      <td>frozenset({'CLOUD 9 CHOCO 15 4G'})</td>\n",
       "      <td>0.000146</td>\n",
       "      <td>1</td>\n",
       "      <td>571.879630</td>\n",
       "    </tr>\n",
       "    <tr>\n",
       "      <th>5</th>\n",
       "      <td>5</td>\n",
       "      <td>frozenset({'EKONOMI E900K', 'NUVO SOAP YLOW 72...</td>\n",
       "      <td>frozenset({'NUVO SOAP BLUE 72G'})</td>\n",
       "      <td>0.000113</td>\n",
       "      <td>1</td>\n",
       "      <td>388.446541</td>\n",
       "    </tr>\n",
       "    <tr>\n",
       "      <th>6</th>\n",
       "      <td>6</td>\n",
       "      <td>frozenset({'INDOMILK STR 190ML BTL', 'INDOMILK...</td>\n",
       "      <td>frozenset({'INDOMILK KID VNL 115ML'})</td>\n",
       "      <td>0.000113</td>\n",
       "      <td>1</td>\n",
       "      <td>348.943503</td>\n",
       "    </tr>\n",
       "    <tr>\n",
       "      <th>7</th>\n",
       "      <td>7</td>\n",
       "      <td>frozenset({'TONGTJI JASMINE 5 S', 'INDOMIE GRG...</td>\n",
       "      <td>frozenset({'INDOMIE AYAM SPECIAL'})</td>\n",
       "      <td>0.000113</td>\n",
       "      <td>1</td>\n",
       "      <td>284.622120</td>\n",
       "    </tr>\n",
       "    <tr>\n",
       "      <th>8</th>\n",
       "      <td>8</td>\n",
       "      <td>frozenset({'KRIPIK SGKG TURBO 180G', 'TWISTER ...</td>\n",
       "      <td>frozenset({'OREO SOFT CAKE 16GR'})</td>\n",
       "      <td>0.000113</td>\n",
       "      <td>1</td>\n",
       "      <td>236.639847</td>\n",
       "    </tr>\n",
       "    <tr>\n",
       "      <th>9</th>\n",
       "      <td>9</td>\n",
       "      <td>frozenset({'INDOMILK KID VNL 115ML', 'TEH GELA...</td>\n",
       "      <td>frozenset({'INDOMILK KID CKL 115ML'})</td>\n",
       "      <td>0.000162</td>\n",
       "      <td>1</td>\n",
       "      <td>183.818452</td>\n",
       "    </tr>\n",
       "    <tr>\n",
       "      <th>10</th>\n",
       "      <td>10</td>\n",
       "      <td>frozenset({'INDOMILK KID VNL 115ML', 'INDOMILK...</td>\n",
       "      <td>frozenset({'INDOMILK KID CKL 115ML'})</td>\n",
       "      <td>0.000113</td>\n",
       "      <td>1</td>\n",
       "      <td>183.818452</td>\n",
       "    </tr>\n",
       "    <tr>\n",
       "      <th>11</th>\n",
       "      <td>11</td>\n",
       "      <td>frozenset({'INDOMILK KID VNL 115ML', 'YA KOPI ...</td>\n",
       "      <td>frozenset({'INDOMILK KID STR 115ML'})</td>\n",
       "      <td>0.000113</td>\n",
       "      <td>1</td>\n",
       "      <td>174.471751</td>\n",
       "    </tr>\n",
       "    <tr>\n",
       "      <th>12</th>\n",
       "      <td>12</td>\n",
       "      <td>frozenset({'WAFELLO COCONUT 37 5G', 'INDOMIE G...</td>\n",
       "      <td>frozenset({'INDOMIE SOTO MIE'})</td>\n",
       "      <td>0.000113</td>\n",
       "      <td>1</td>\n",
       "      <td>158.366667</td>\n",
       "    </tr>\n",
       "    <tr>\n",
       "      <th>13</th>\n",
       "      <td>13</td>\n",
       "      <td>frozenset({'HERS PROT SCM 60 S', 'PARAMEX SKT ...</td>\n",
       "      <td>frozenset({'PUCUK HARUM TEH 350ML'})</td>\n",
       "      <td>0.000130</td>\n",
       "      <td>1</td>\n",
       "      <td>45.413971</td>\n",
       "    </tr>\n",
       "    <tr>\n",
       "      <th>14</th>\n",
       "      <td>14</td>\n",
       "      <td>frozenset({'BIG BLUEBRRY 375ML', 'PARAMEX SKT ...</td>\n",
       "      <td>frozenset({'PUCUK HARUM TEH 350ML'})</td>\n",
       "      <td>0.000130</td>\n",
       "      <td>1</td>\n",
       "      <td>45.413971</td>\n",
       "    </tr>\n",
       "    <tr>\n",
       "      <th>15</th>\n",
       "      <td>15</td>\n",
       "      <td>frozenset({'SUNSILK SHP BLK SHN 160ML', 'CIPTA...</td>\n",
       "      <td>frozenset({'INDOMIE GRG SPECIAL'})</td>\n",
       "      <td>0.000130</td>\n",
       "      <td>1</td>\n",
       "      <td>31.640881</td>\n",
       "    </tr>\n",
       "    <tr>\n",
       "      <th>16</th>\n",
       "      <td>16</td>\n",
       "      <td>frozenset({'INDOMIE SOTO MIE', 'WAFELLO COCONU...</td>\n",
       "      <td>frozenset({'INDOMIE GRG SPECIAL'})</td>\n",
       "      <td>0.000113</td>\n",
       "      <td>1</td>\n",
       "      <td>31.640881</td>\n",
       "    </tr>\n",
       "    <tr>\n",
       "      <th>17</th>\n",
       "      <td>17</td>\n",
       "      <td>frozenset({'INDOMIE SOTO MIE', 'ROMA KELAPA 30...</td>\n",
       "      <td>frozenset({'INDOMIE GRG SPECIAL'})</td>\n",
       "      <td>0.000130</td>\n",
       "      <td>1</td>\n",
       "      <td>31.640881</td>\n",
       "    </tr>\n",
       "  </tbody>\n",
       "</table>\n",
       "</div>"
      ],
      "text/plain": [
       "    Unnamed: 0                                        antecedents  \\\n",
       "0            0  frozenset({'HARMONY MELON', 'HARMONY LEMON', '...   \n",
       "1            1  frozenset({'DELFI TOP TRIP/CHO 9GR', 'MOMOGI J...   \n",
       "2            2  frozenset({'INDOMILK KID VNL 115ML', 'CLOUD 9 ...   \n",
       "3            3  frozenset({'CLOUD 9 VANILA 15 4G', 'INDOMILK K...   \n",
       "4            4  frozenset({'INDOMILK KID VNL 115ML', 'CLOUD 9 ...   \n",
       "5            5  frozenset({'EKONOMI E900K', 'NUVO SOAP YLOW 72...   \n",
       "6            6  frozenset({'INDOMILK STR 190ML BTL', 'INDOMILK...   \n",
       "7            7  frozenset({'TONGTJI JASMINE 5 S', 'INDOMIE GRG...   \n",
       "8            8  frozenset({'KRIPIK SGKG TURBO 180G', 'TWISTER ...   \n",
       "9            9  frozenset({'INDOMILK KID VNL 115ML', 'TEH GELA...   \n",
       "10          10  frozenset({'INDOMILK KID VNL 115ML', 'INDOMILK...   \n",
       "11          11  frozenset({'INDOMILK KID VNL 115ML', 'YA KOPI ...   \n",
       "12          12  frozenset({'WAFELLO COCONUT 37 5G', 'INDOMIE G...   \n",
       "13          13  frozenset({'HERS PROT SCM 60 S', 'PARAMEX SKT ...   \n",
       "14          14  frozenset({'BIG BLUEBRRY 375ML', 'PARAMEX SKT ...   \n",
       "15          15  frozenset({'SUNSILK SHP BLK SHN 160ML', 'CIPTA...   \n",
       "16          16  frozenset({'INDOMIE SOTO MIE', 'WAFELLO COCONU...   \n",
       "17          17  frozenset({'INDOMIE SOTO MIE', 'ROMA KELAPA 30...   \n",
       "\n",
       "                              consequents   support  confidence         lift  \n",
       "0        frozenset({'HARMONY STRAWBERY'})  0.000113           1  1235.260000  \n",
       "1           frozenset({'MOMOGI CKL 6GR'})  0.000113           1   686.255556  \n",
       "2      frozenset({'CLOUD 9 CHOCO 15 4G'})  0.000113           1   571.879630  \n",
       "3      frozenset({'CLOUD 9 CHOCO 15 4G'})  0.000146           1   571.879630  \n",
       "4      frozenset({'CLOUD 9 CHOCO 15 4G'})  0.000146           1   571.879630  \n",
       "5       frozenset({'NUVO SOAP BLUE 72G'})  0.000113           1   388.446541  \n",
       "6   frozenset({'INDOMILK KID VNL 115ML'})  0.000113           1   348.943503  \n",
       "7     frozenset({'INDOMIE AYAM SPECIAL'})  0.000113           1   284.622120  \n",
       "8      frozenset({'OREO SOFT CAKE 16GR'})  0.000113           1   236.639847  \n",
       "9   frozenset({'INDOMILK KID CKL 115ML'})  0.000162           1   183.818452  \n",
       "10  frozenset({'INDOMILK KID CKL 115ML'})  0.000113           1   183.818452  \n",
       "11  frozenset({'INDOMILK KID STR 115ML'})  0.000113           1   174.471751  \n",
       "12        frozenset({'INDOMIE SOTO MIE'})  0.000113           1   158.366667  \n",
       "13   frozenset({'PUCUK HARUM TEH 350ML'})  0.000130           1    45.413971  \n",
       "14   frozenset({'PUCUK HARUM TEH 350ML'})  0.000130           1    45.413971  \n",
       "15     frozenset({'INDOMIE GRG SPECIAL'})  0.000130           1    31.640881  \n",
       "16     frozenset({'INDOMIE GRG SPECIAL'})  0.000113           1    31.640881  \n",
       "17     frozenset({'INDOMIE GRG SPECIAL'})  0.000130           1    31.640881  "
      ]
     },
     "execution_count": 2,
     "metadata": {},
     "output_type": "execute_result"
    }
   ],
   "source": [
    "df = pd.read_csv('data/rules2023.csv')\n",
    "df"
   ]
  },
  {
   "cell_type": "markdown",
   "id": "906a203f",
   "metadata": {},
   "source": [
    "### **3. Ambil Top 3 Rules dengan Akurasi Tinggi**"
   ]
  },
  {
   "cell_type": "code",
   "execution_count": 3,
   "id": "1643103f",
   "metadata": {},
   "outputs": [
    {
     "data": {
      "text/html": [
       "<div>\n",
       "<style scoped>\n",
       "    .dataframe tbody tr th:only-of-type {\n",
       "        vertical-align: middle;\n",
       "    }\n",
       "\n",
       "    .dataframe tbody tr th {\n",
       "        vertical-align: top;\n",
       "    }\n",
       "\n",
       "    .dataframe thead th {\n",
       "        text-align: right;\n",
       "    }\n",
       "</style>\n",
       "<table border=\"1\" class=\"dataframe\">\n",
       "  <thead>\n",
       "    <tr style=\"text-align: right;\">\n",
       "      <th></th>\n",
       "      <th>Unnamed: 0</th>\n",
       "      <th>antecedents</th>\n",
       "      <th>consequents</th>\n",
       "      <th>support</th>\n",
       "      <th>confidence</th>\n",
       "      <th>lift</th>\n",
       "    </tr>\n",
       "  </thead>\n",
       "  <tbody>\n",
       "    <tr>\n",
       "      <th>0</th>\n",
       "      <td>0</td>\n",
       "      <td>frozenset({'HARMONY MELON', 'HARMONY LEMON', '...</td>\n",
       "      <td>frozenset({'HARMONY STRAWBERY'})</td>\n",
       "      <td>0.000113</td>\n",
       "      <td>1</td>\n",
       "      <td>1235.260000</td>\n",
       "    </tr>\n",
       "    <tr>\n",
       "      <th>1</th>\n",
       "      <td>1</td>\n",
       "      <td>frozenset({'DELFI TOP TRIP/CHO 9GR', 'MOMOGI J...</td>\n",
       "      <td>frozenset({'MOMOGI CKL 6GR'})</td>\n",
       "      <td>0.000113</td>\n",
       "      <td>1</td>\n",
       "      <td>686.255556</td>\n",
       "    </tr>\n",
       "    <tr>\n",
       "      <th>2</th>\n",
       "      <td>2</td>\n",
       "      <td>frozenset({'INDOMILK KID VNL 115ML', 'CLOUD 9 ...</td>\n",
       "      <td>frozenset({'CLOUD 9 CHOCO 15 4G'})</td>\n",
       "      <td>0.000113</td>\n",
       "      <td>1</td>\n",
       "      <td>571.879630</td>\n",
       "    </tr>\n",
       "  </tbody>\n",
       "</table>\n",
       "</div>"
      ],
      "text/plain": [
       "   Unnamed: 0                                        antecedents  \\\n",
       "0           0  frozenset({'HARMONY MELON', 'HARMONY LEMON', '...   \n",
       "1           1  frozenset({'DELFI TOP TRIP/CHO 9GR', 'MOMOGI J...   \n",
       "2           2  frozenset({'INDOMILK KID VNL 115ML', 'CLOUD 9 ...   \n",
       "\n",
       "                          consequents   support  confidence         lift  \n",
       "0    frozenset({'HARMONY STRAWBERY'})  0.000113           1  1235.260000  \n",
       "1       frozenset({'MOMOGI CKL 6GR'})  0.000113           1   686.255556  \n",
       "2  frozenset({'CLOUD 9 CHOCO 15 4G'})  0.000113           1   571.879630  "
      ]
     },
     "execution_count": 3,
     "metadata": {},
     "output_type": "execute_result"
    }
   ],
   "source": [
    "df = df.head(3)\n",
    "df"
   ]
  },
  {
   "cell_type": "markdown",
   "id": "9835dcf9",
   "metadata": {},
   "source": [
    "### **4. Ambil Item dari Top 3**"
   ]
  },
  {
   "cell_type": "code",
   "execution_count": 4,
   "id": "0cb1ca56",
   "metadata": {},
   "outputs": [
    {
     "data": {
      "text/plain": [
       "{'CLOUD 9 CHOCO 15 4G',\n",
       " 'CLOUD 9 VANILA 15 4G',\n",
       " 'DELFI TOP TRIP/CHO 9GR',\n",
       " 'HARMONY LEMON',\n",
       " 'HARMONY MELON',\n",
       " 'HARMONY ORANGE',\n",
       " 'HARMONY STRAWBERY',\n",
       " 'INDOMILK KID STR 115ML',\n",
       " 'INDOMILK KID VNL 115ML',\n",
       " 'MOMOGI CKL 6GR',\n",
       " 'MOMOGI JGG BKR 6GR'}"
      ]
     },
     "execution_count": 4,
     "metadata": {},
     "output_type": "execute_result"
    }
   ],
   "source": [
    "# Jika df berasal dari subset sebelumnya, tambahkan .copy()\n",
    "df = df.copy()\n",
    "\n",
    "# Pastikan semua elemen dalam kolom antecedents dan consequents adalah frozenset\n",
    "df[\"antecedents\"] = df[\"antecedents\"].apply(lambda x: frozenset(eval(x)) if isinstance(x, str) else x)\n",
    "df[\"consequents\"] = df[\"consequents\"].apply(lambda x: frozenset(eval(x)) if isinstance(x, str) else x)\n",
    "\n",
    "# Mengambil semua item unik\n",
    "all_items = set()\n",
    "for col in [\"antecedents\", \"consequents\"]:\n",
    "    for items in df[col]:\n",
    "        all_items.update(items)\n",
    "\n",
    "all_items"
   ]
  },
  {
   "cell_type": "markdown",
   "id": "4ea7183a",
   "metadata": {},
   "source": [
    "### **5. Import Data Transaksi**"
   ]
  },
  {
   "cell_type": "code",
   "execution_count": 5,
   "id": "529ce990",
   "metadata": {},
   "outputs": [
    {
     "data": {
      "text/html": [
       "<div>\n",
       "<style scoped>\n",
       "    .dataframe tbody tr th:only-of-type {\n",
       "        vertical-align: middle;\n",
       "    }\n",
       "\n",
       "    .dataframe tbody tr th {\n",
       "        vertical-align: top;\n",
       "    }\n",
       "\n",
       "    .dataframe thead th {\n",
       "        text-align: right;\n",
       "    }\n",
       "</style>\n",
       "<table border=\"1\" class=\"dataframe\">\n",
       "  <thead>\n",
       "    <tr style=\"text-align: right;\">\n",
       "      <th></th>\n",
       "      <th>TANGGAL</th>\n",
       "      <th>NO TRANSAKSI</th>\n",
       "      <th>NAMA BARANG</th>\n",
       "      <th>QTY</th>\n",
       "    </tr>\n",
       "  </thead>\n",
       "  <tbody>\n",
       "    <tr>\n",
       "      <th>0</th>\n",
       "      <td>2023-01-01</td>\n",
       "      <td>2301011000001</td>\n",
       "      <td>FORVITA MARG 200GR</td>\n",
       "      <td>2</td>\n",
       "    </tr>\n",
       "    <tr>\n",
       "      <th>1</th>\n",
       "      <td>2023-01-01</td>\n",
       "      <td>2301011000002</td>\n",
       "      <td>SASA SANTAN KLPA 65ML</td>\n",
       "      <td>3</td>\n",
       "    </tr>\n",
       "    <tr>\n",
       "      <th>2</th>\n",
       "      <td>2023-01-01</td>\n",
       "      <td>2301011000003</td>\n",
       "      <td>CHEERS 1500ML GREEN</td>\n",
       "      <td>1</td>\n",
       "    </tr>\n",
       "    <tr>\n",
       "      <th>3</th>\n",
       "      <td>2023-01-01</td>\n",
       "      <td>2301011000004</td>\n",
       "      <td>SUN KARA 65ML</td>\n",
       "      <td>1</td>\n",
       "    </tr>\n",
       "    <tr>\n",
       "      <th>4</th>\n",
       "      <td>2023-01-01</td>\n",
       "      <td>2301011000004</td>\n",
       "      <td>OREO PIKACHU 165 6GR</td>\n",
       "      <td>1</td>\n",
       "    </tr>\n",
       "    <tr>\n",
       "      <th>...</th>\n",
       "      <td>...</td>\n",
       "      <td>...</td>\n",
       "      <td>...</td>\n",
       "      <td>...</td>\n",
       "    </tr>\n",
       "    <tr>\n",
       "      <th>162975</th>\n",
       "      <td>2023-12-31</td>\n",
       "      <td>2312311020112</td>\n",
       "      <td>KONIDIN 4 S</td>\n",
       "      <td>2</td>\n",
       "    </tr>\n",
       "    <tr>\n",
       "      <th>162976</th>\n",
       "      <td>2023-12-31</td>\n",
       "      <td>2312311020113</td>\n",
       "      <td>GOLDA CAPPUCINO 200ML</td>\n",
       "      <td>1</td>\n",
       "    </tr>\n",
       "    <tr>\n",
       "      <th>162977</th>\n",
       "      <td>2023-12-31</td>\n",
       "      <td>2312311020113</td>\n",
       "      <td>FLORIDINA ORANGE 360ML</td>\n",
       "      <td>1</td>\n",
       "    </tr>\n",
       "    <tr>\n",
       "      <th>162978</th>\n",
       "      <td>2023-12-31</td>\n",
       "      <td>2312311020114</td>\n",
       "      <td>WALLS PP TRICO/48</td>\n",
       "      <td>1</td>\n",
       "    </tr>\n",
       "    <tr>\n",
       "      <th>162979</th>\n",
       "      <td>2023-12-31</td>\n",
       "      <td>2312311020115</td>\n",
       "      <td>GIV SOAP HIJAB TIN 76G</td>\n",
       "      <td>1</td>\n",
       "    </tr>\n",
       "  </tbody>\n",
       "</table>\n",
       "<p>162980 rows × 4 columns</p>\n",
       "</div>"
      ],
      "text/plain": [
       "          TANGGAL   NO TRANSAKSI             NAMA BARANG  QTY\n",
       "0      2023-01-01  2301011000001      FORVITA MARG 200GR    2\n",
       "1      2023-01-01  2301011000002   SASA SANTAN KLPA 65ML    3\n",
       "2      2023-01-01  2301011000003     CHEERS 1500ML GREEN    1\n",
       "3      2023-01-01  2301011000004           SUN KARA 65ML    1\n",
       "4      2023-01-01  2301011000004    OREO PIKACHU 165 6GR    1\n",
       "...           ...            ...                     ...  ...\n",
       "162975 2023-12-31  2312311020112             KONIDIN 4 S    2\n",
       "162976 2023-12-31  2312311020113   GOLDA CAPPUCINO 200ML    1\n",
       "162977 2023-12-31  2312311020113  FLORIDINA ORANGE 360ML    1\n",
       "162978 2023-12-31  2312311020114       WALLS PP TRICO/48    1\n",
       "162979 2023-12-31  2312311020115  GIV SOAP HIJAB TIN 76G    1\n",
       "\n",
       "[162980 rows x 4 columns]"
      ]
     },
     "execution_count": 5,
     "metadata": {},
     "output_type": "execute_result"
    }
   ],
   "source": [
    "groceries = pd.read_excel('data/final_data2023.xlsx')\n",
    "groceries"
   ]
  },
  {
   "cell_type": "markdown",
   "id": "f0751ba7",
   "metadata": {},
   "source": [
    "### **6. Filter Data Transaksi**"
   ]
  },
  {
   "cell_type": "code",
   "execution_count": 6,
   "id": "1aca4554",
   "metadata": {},
   "outputs": [
    {
     "data": {
      "text/html": [
       "<div>\n",
       "<style scoped>\n",
       "    .dataframe tbody tr th:only-of-type {\n",
       "        vertical-align: middle;\n",
       "    }\n",
       "\n",
       "    .dataframe tbody tr th {\n",
       "        vertical-align: top;\n",
       "    }\n",
       "\n",
       "    .dataframe thead th {\n",
       "        text-align: right;\n",
       "    }\n",
       "</style>\n",
       "<table border=\"1\" class=\"dataframe\">\n",
       "  <thead>\n",
       "    <tr style=\"text-align: right;\">\n",
       "      <th></th>\n",
       "      <th>TANGGAL</th>\n",
       "      <th>NO TRANSAKSI</th>\n",
       "      <th>NAMA BARANG</th>\n",
       "      <th>QTY</th>\n",
       "    </tr>\n",
       "  </thead>\n",
       "  <tbody>\n",
       "    <tr>\n",
       "      <th>177</th>\n",
       "      <td>2023-01-01</td>\n",
       "      <td>2301011000075</td>\n",
       "      <td>INDOMILK KID STR 115ML</td>\n",
       "      <td>1</td>\n",
       "    </tr>\n",
       "    <tr>\n",
       "      <th>297</th>\n",
       "      <td>2023-01-01</td>\n",
       "      <td>2301011000108</td>\n",
       "      <td>MOMOGI CKL 6GR</td>\n",
       "      <td>2</td>\n",
       "    </tr>\n",
       "    <tr>\n",
       "      <th>324</th>\n",
       "      <td>2023-01-01</td>\n",
       "      <td>2301011000119</td>\n",
       "      <td>HARMONY ORANGE</td>\n",
       "      <td>1</td>\n",
       "    </tr>\n",
       "    <tr>\n",
       "      <th>325</th>\n",
       "      <td>2023-01-01</td>\n",
       "      <td>2301011000119</td>\n",
       "      <td>HARMONY LEMON</td>\n",
       "      <td>1</td>\n",
       "    </tr>\n",
       "    <tr>\n",
       "      <th>445</th>\n",
       "      <td>2023-01-01</td>\n",
       "      <td>2301011000157</td>\n",
       "      <td>HARMONY ORANGE</td>\n",
       "      <td>1</td>\n",
       "    </tr>\n",
       "    <tr>\n",
       "      <th>...</th>\n",
       "      <td>...</td>\n",
       "      <td>...</td>\n",
       "      <td>...</td>\n",
       "      <td>...</td>\n",
       "    </tr>\n",
       "    <tr>\n",
       "      <th>162382</th>\n",
       "      <td>2023-12-31</td>\n",
       "      <td>2312311010014</td>\n",
       "      <td>INDOMILK KID STR 115ML</td>\n",
       "      <td>1</td>\n",
       "    </tr>\n",
       "    <tr>\n",
       "      <th>162425</th>\n",
       "      <td>2023-12-31</td>\n",
       "      <td>2312311010032</td>\n",
       "      <td>INDOMILK KID STR 115ML</td>\n",
       "      <td>2</td>\n",
       "    </tr>\n",
       "    <tr>\n",
       "      <th>162562</th>\n",
       "      <td>2023-12-31</td>\n",
       "      <td>2312311010077</td>\n",
       "      <td>HARMONY STRAWBERY</td>\n",
       "      <td>4</td>\n",
       "    </tr>\n",
       "    <tr>\n",
       "      <th>162564</th>\n",
       "      <td>2023-12-31</td>\n",
       "      <td>2312311010077</td>\n",
       "      <td>HARMONY LEMON</td>\n",
       "      <td>2</td>\n",
       "    </tr>\n",
       "    <tr>\n",
       "      <th>162565</th>\n",
       "      <td>2023-12-31</td>\n",
       "      <td>2312311010077</td>\n",
       "      <td>HARMONY MELON</td>\n",
       "      <td>4</td>\n",
       "    </tr>\n",
       "  </tbody>\n",
       "</table>\n",
       "<p>1375 rows × 4 columns</p>\n",
       "</div>"
      ],
      "text/plain": [
       "          TANGGAL   NO TRANSAKSI             NAMA BARANG  QTY\n",
       "177    2023-01-01  2301011000075  INDOMILK KID STR 115ML    1\n",
       "297    2023-01-01  2301011000108          MOMOGI CKL 6GR    2\n",
       "324    2023-01-01  2301011000119          HARMONY ORANGE    1\n",
       "325    2023-01-01  2301011000119           HARMONY LEMON    1\n",
       "445    2023-01-01  2301011000157          HARMONY ORANGE    1\n",
       "...           ...            ...                     ...  ...\n",
       "162382 2023-12-31  2312311010014  INDOMILK KID STR 115ML    1\n",
       "162425 2023-12-31  2312311010032  INDOMILK KID STR 115ML    2\n",
       "162562 2023-12-31  2312311010077       HARMONY STRAWBERY    4\n",
       "162564 2023-12-31  2312311010077           HARMONY LEMON    2\n",
       "162565 2023-12-31  2312311010077           HARMONY MELON    4\n",
       "\n",
       "[1375 rows x 4 columns]"
      ]
     },
     "execution_count": 6,
     "metadata": {},
     "output_type": "execute_result"
    }
   ],
   "source": [
    "df_filtered = groceries[groceries['NAMA BARANG'].isin(all_items)]\n",
    "df_filtered "
   ]
  },
  {
   "cell_type": "code",
   "execution_count": 7,
   "id": "0bc9ca8c",
   "metadata": {},
   "outputs": [
    {
     "name": "stdout",
     "output_type": "stream",
     "text": [
      "Jumlah nama barang unik: 11\n",
      "Nama barang unik:\n",
      "- INDOMILK KID STR 115ML\n",
      "- MOMOGI CKL 6GR\n",
      "- HARMONY ORANGE\n",
      "- HARMONY LEMON\n",
      "- MOMOGI JGG BKR 6GR\n",
      "- HARMONY STRAWBERY\n",
      "- DELFI TOP TRIP/CHO 9GR\n",
      "- CLOUD 9 CHOCO 15 4G\n",
      "- CLOUD 9 VANILA 15 4G\n",
      "- HARMONY MELON\n",
      "- INDOMILK KID VNL 115ML\n"
     ]
    }
   ],
   "source": [
    "# Menampilkan jumlah unik nama barang\n",
    "jumlah_nama_barang = df_filtered['NAMA BARANG'].nunique()\n",
    "print(\"Jumlah nama barang unik:\", jumlah_nama_barang)\n",
    "\n",
    "# Menampilkan isi nama barang yang unik\n",
    "nama_barang_unik = df_filtered['NAMA BARANG'].unique()\n",
    "print(\"Nama barang unik:\")\n",
    "for nama in nama_barang_unik:\n",
    "    print(\"-\", nama)"
   ]
  },
  {
   "cell_type": "markdown",
   "id": "687bb558",
   "metadata": {},
   "source": [
    "### **7. Agregasi Data Mingguan**"
   ]
  },
  {
   "cell_type": "code",
   "execution_count": 8,
   "id": "37afe687",
   "metadata": {},
   "outputs": [
    {
     "data": {
      "application/vnd.plotly.v1+json": {
       "config": {
        "plotlyServerURL": "https://plot.ly"
       },
       "data": [
        {
         "hovertemplate": "NAMA BARANG=CLOUD 9 CHOCO 15 4G<br>TANGGAL=%{x}<br>QTY=%{y}<extra></extra>",
         "legendgroup": "CLOUD 9 CHOCO 15 4G",
         "line": {
          "color": "#636efa",
          "dash": "solid"
         },
         "marker": {
          "symbol": "circle"
         },
         "mode": "lines",
         "name": "CLOUD 9 CHOCO 15 4G",
         "orientation": "v",
         "showlegend": true,
         "type": "scatter",
         "x": [
          "2023-01-01T00:00:00",
          "2023-01-08T00:00:00",
          "2023-01-15T00:00:00",
          "2023-01-22T00:00:00",
          "2023-01-29T00:00:00",
          "2023-02-05T00:00:00",
          "2023-02-12T00:00:00",
          "2023-02-19T00:00:00",
          "2023-02-26T00:00:00",
          "2023-03-05T00:00:00",
          "2023-03-12T00:00:00",
          "2023-03-19T00:00:00",
          "2023-03-26T00:00:00",
          "2023-04-02T00:00:00",
          "2023-04-09T00:00:00",
          "2023-04-16T00:00:00",
          "2023-04-23T00:00:00",
          "2023-04-30T00:00:00",
          "2023-05-07T00:00:00",
          "2023-05-14T00:00:00",
          "2023-05-21T00:00:00",
          "2023-05-28T00:00:00",
          "2023-06-04T00:00:00",
          "2023-06-11T00:00:00",
          "2023-06-18T00:00:00",
          "2023-06-25T00:00:00",
          "2023-07-02T00:00:00",
          "2023-07-09T00:00:00",
          "2023-07-16T00:00:00",
          "2023-07-23T00:00:00",
          "2023-07-30T00:00:00",
          "2023-08-06T00:00:00",
          "2023-08-13T00:00:00",
          "2023-08-20T00:00:00",
          "2023-08-27T00:00:00",
          "2023-09-03T00:00:00",
          "2023-09-10T00:00:00",
          "2023-09-17T00:00:00",
          "2023-09-24T00:00:00",
          "2023-10-01T00:00:00",
          "2023-10-08T00:00:00",
          "2023-10-15T00:00:00",
          "2023-10-22T00:00:00",
          "2023-10-29T00:00:00",
          "2023-11-05T00:00:00",
          "2023-11-12T00:00:00",
          "2023-11-19T00:00:00",
          "2023-11-26T00:00:00",
          "2023-12-03T00:00:00",
          "2023-12-10T00:00:00",
          "2023-12-17T00:00:00",
          "2023-12-24T00:00:00",
          "2023-12-31T00:00:00"
         ],
         "xaxis": "x",
         "y": [
          0,
          0,
          0,
          0,
          5,
          1,
          5,
          2,
          1,
          1,
          4,
          1,
          0,
          1,
          1,
          0,
          0,
          0,
          0,
          1,
          0,
          0,
          2,
          0,
          1,
          0,
          1,
          0,
          13,
          10,
          9,
          2,
          9,
          16,
          3,
          4,
          0,
          6,
          6,
          7,
          3,
          9,
          2,
          9,
          3,
          1,
          3,
          1,
          2,
          4,
          3,
          4,
          1
         ],
         "yaxis": "y"
        },
        {
         "hovertemplate": "NAMA BARANG=CLOUD 9 VANILA 15 4G<br>TANGGAL=%{x}<br>QTY=%{y}<extra></extra>",
         "legendgroup": "CLOUD 9 VANILA 15 4G",
         "line": {
          "color": "#EF553B",
          "dash": "solid"
         },
         "marker": {
          "symbol": "circle"
         },
         "mode": "lines",
         "name": "CLOUD 9 VANILA 15 4G",
         "orientation": "v",
         "showlegend": true,
         "type": "scatter",
         "x": [
          "2023-01-01T00:00:00",
          "2023-01-08T00:00:00",
          "2023-01-15T00:00:00",
          "2023-01-22T00:00:00",
          "2023-01-29T00:00:00",
          "2023-02-05T00:00:00",
          "2023-02-12T00:00:00",
          "2023-02-19T00:00:00",
          "2023-02-26T00:00:00",
          "2023-03-05T00:00:00",
          "2023-03-12T00:00:00",
          "2023-03-19T00:00:00",
          "2023-03-26T00:00:00",
          "2023-04-02T00:00:00",
          "2023-04-09T00:00:00",
          "2023-04-16T00:00:00",
          "2023-04-23T00:00:00",
          "2023-04-30T00:00:00",
          "2023-05-07T00:00:00",
          "2023-05-14T00:00:00",
          "2023-05-21T00:00:00",
          "2023-05-28T00:00:00",
          "2023-06-04T00:00:00",
          "2023-06-11T00:00:00",
          "2023-06-18T00:00:00",
          "2023-06-25T00:00:00",
          "2023-07-02T00:00:00",
          "2023-07-09T00:00:00",
          "2023-07-16T00:00:00",
          "2023-07-23T00:00:00",
          "2023-07-30T00:00:00",
          "2023-08-06T00:00:00",
          "2023-08-13T00:00:00",
          "2023-08-20T00:00:00",
          "2023-08-27T00:00:00",
          "2023-09-03T00:00:00",
          "2023-09-10T00:00:00",
          "2023-09-17T00:00:00",
          "2023-09-24T00:00:00",
          "2023-10-01T00:00:00",
          "2023-10-08T00:00:00",
          "2023-10-15T00:00:00",
          "2023-10-22T00:00:00",
          "2023-10-29T00:00:00",
          "2023-11-05T00:00:00",
          "2023-11-12T00:00:00",
          "2023-11-19T00:00:00",
          "2023-11-26T00:00:00",
          "2023-12-03T00:00:00",
          "2023-12-10T00:00:00",
          "2023-12-17T00:00:00",
          "2023-12-24T00:00:00",
          "2023-12-31T00:00:00"
         ],
         "xaxis": "x",
         "y": [
          0,
          0,
          0,
          0,
          6,
          2,
          2,
          2,
          2,
          3,
          1,
          2,
          4,
          4,
          3,
          1,
          1,
          0,
          0,
          0,
          1,
          4,
          1,
          2,
          1,
          0,
          0,
          3,
          16,
          3,
          12,
          7,
          4,
          3,
          5,
          3,
          6,
          3,
          13,
          5,
          2,
          1,
          2,
          6,
          4,
          7,
          3,
          2,
          2,
          2,
          1,
          6,
          1
         ],
         "yaxis": "y"
        },
        {
         "hovertemplate": "NAMA BARANG=DELFI TOP TRIP/CHO 9GR<br>TANGGAL=%{x}<br>QTY=%{y}<extra></extra>",
         "legendgroup": "DELFI TOP TRIP/CHO 9GR",
         "line": {
          "color": "#00cc96",
          "dash": "solid"
         },
         "marker": {
          "symbol": "circle"
         },
         "mode": "lines",
         "name": "DELFI TOP TRIP/CHO 9GR",
         "orientation": "v",
         "showlegend": true,
         "type": "scatter",
         "x": [
          "2023-01-01T00:00:00",
          "2023-01-08T00:00:00",
          "2023-01-15T00:00:00",
          "2023-01-22T00:00:00",
          "2023-01-29T00:00:00",
          "2023-02-05T00:00:00",
          "2023-02-12T00:00:00",
          "2023-02-19T00:00:00",
          "2023-02-26T00:00:00",
          "2023-03-05T00:00:00",
          "2023-03-12T00:00:00",
          "2023-03-19T00:00:00",
          "2023-03-26T00:00:00",
          "2023-04-02T00:00:00",
          "2023-04-09T00:00:00",
          "2023-04-16T00:00:00",
          "2023-04-23T00:00:00",
          "2023-04-30T00:00:00",
          "2023-05-07T00:00:00",
          "2023-05-14T00:00:00",
          "2023-05-21T00:00:00",
          "2023-05-28T00:00:00",
          "2023-06-04T00:00:00",
          "2023-06-11T00:00:00",
          "2023-06-18T00:00:00",
          "2023-06-25T00:00:00",
          "2023-07-02T00:00:00",
          "2023-07-09T00:00:00",
          "2023-07-16T00:00:00",
          "2023-07-23T00:00:00",
          "2023-07-30T00:00:00",
          "2023-08-06T00:00:00",
          "2023-08-13T00:00:00",
          "2023-08-20T00:00:00",
          "2023-08-27T00:00:00",
          "2023-09-03T00:00:00",
          "2023-09-10T00:00:00",
          "2023-09-17T00:00:00",
          "2023-09-24T00:00:00",
          "2023-10-01T00:00:00",
          "2023-10-08T00:00:00",
          "2023-10-15T00:00:00",
          "2023-10-22T00:00:00",
          "2023-10-29T00:00:00",
          "2023-11-05T00:00:00",
          "2023-11-12T00:00:00",
          "2023-11-19T00:00:00",
          "2023-11-26T00:00:00",
          "2023-12-03T00:00:00",
          "2023-12-10T00:00:00",
          "2023-12-17T00:00:00",
          "2023-12-24T00:00:00",
          "2023-12-31T00:00:00"
         ],
         "xaxis": "x",
         "y": [
          0,
          3,
          4,
          4,
          7,
          3,
          4,
          4,
          0,
          0,
          3,
          4,
          2,
          4,
          3,
          0,
          5,
          0,
          2,
          0,
          3,
          3,
          3,
          4,
          2,
          3,
          5,
          5,
          6,
          2,
          5,
          4,
          1,
          2,
          2,
          4,
          0,
          10,
          0,
          8,
          1,
          0,
          1,
          6,
          1,
          1,
          1,
          6,
          5,
          9,
          3,
          1,
          0
         ],
         "yaxis": "y"
        },
        {
         "hovertemplate": "NAMA BARANG=HARMONY LEMON<br>TANGGAL=%{x}<br>QTY=%{y}<extra></extra>",
         "legendgroup": "HARMONY LEMON",
         "line": {
          "color": "#ab63fa",
          "dash": "solid"
         },
         "marker": {
          "symbol": "circle"
         },
         "mode": "lines",
         "name": "HARMONY LEMON",
         "orientation": "v",
         "showlegend": true,
         "type": "scatter",
         "x": [
          "2023-01-01T00:00:00",
          "2023-01-08T00:00:00",
          "2023-01-15T00:00:00",
          "2023-01-22T00:00:00",
          "2023-01-29T00:00:00",
          "2023-02-05T00:00:00",
          "2023-02-12T00:00:00",
          "2023-02-19T00:00:00",
          "2023-02-26T00:00:00",
          "2023-03-05T00:00:00",
          "2023-03-12T00:00:00",
          "2023-03-19T00:00:00",
          "2023-03-26T00:00:00",
          "2023-04-02T00:00:00",
          "2023-04-09T00:00:00",
          "2023-04-16T00:00:00",
          "2023-04-23T00:00:00",
          "2023-04-30T00:00:00",
          "2023-05-07T00:00:00",
          "2023-05-14T00:00:00",
          "2023-05-21T00:00:00",
          "2023-05-28T00:00:00",
          "2023-06-04T00:00:00",
          "2023-06-11T00:00:00",
          "2023-06-18T00:00:00",
          "2023-06-25T00:00:00",
          "2023-07-02T00:00:00",
          "2023-07-09T00:00:00",
          "2023-07-16T00:00:00",
          "2023-07-23T00:00:00",
          "2023-07-30T00:00:00",
          "2023-08-06T00:00:00",
          "2023-08-13T00:00:00",
          "2023-08-20T00:00:00",
          "2023-08-27T00:00:00",
          "2023-09-03T00:00:00",
          "2023-09-10T00:00:00",
          "2023-09-17T00:00:00",
          "2023-09-24T00:00:00",
          "2023-10-01T00:00:00",
          "2023-10-08T00:00:00",
          "2023-10-15T00:00:00",
          "2023-10-22T00:00:00",
          "2023-10-29T00:00:00",
          "2023-11-05T00:00:00",
          "2023-11-12T00:00:00",
          "2023-11-19T00:00:00",
          "2023-11-26T00:00:00",
          "2023-12-03T00:00:00",
          "2023-12-10T00:00:00",
          "2023-12-17T00:00:00",
          "2023-12-24T00:00:00",
          "2023-12-31T00:00:00"
         ],
         "xaxis": "x",
         "y": [
          3,
          0,
          3,
          0,
          1,
          0,
          0,
          0,
          0,
          1,
          1,
          1,
          1,
          1,
          3,
          2,
          0,
          0,
          0,
          1,
          1,
          0,
          4,
          1,
          1,
          2,
          5,
          1,
          0,
          2,
          2,
          0,
          1,
          1,
          3,
          1,
          1,
          1,
          0,
          0,
          0,
          1,
          2,
          6,
          2,
          3,
          2,
          3,
          4,
          1,
          0,
          2,
          2
         ],
         "yaxis": "y"
        },
        {
         "hovertemplate": "NAMA BARANG=HARMONY MELON<br>TANGGAL=%{x}<br>QTY=%{y}<extra></extra>",
         "legendgroup": "HARMONY MELON",
         "line": {
          "color": "#FFA15A",
          "dash": "solid"
         },
         "marker": {
          "symbol": "circle"
         },
         "mode": "lines",
         "name": "HARMONY MELON",
         "orientation": "v",
         "showlegend": true,
         "type": "scatter",
         "x": [
          "2023-01-01T00:00:00",
          "2023-01-08T00:00:00",
          "2023-01-15T00:00:00",
          "2023-01-22T00:00:00",
          "2023-01-29T00:00:00",
          "2023-02-05T00:00:00",
          "2023-02-12T00:00:00",
          "2023-02-19T00:00:00",
          "2023-02-26T00:00:00",
          "2023-03-05T00:00:00",
          "2023-03-12T00:00:00",
          "2023-03-19T00:00:00",
          "2023-03-26T00:00:00",
          "2023-04-02T00:00:00",
          "2023-04-09T00:00:00",
          "2023-04-16T00:00:00",
          "2023-04-23T00:00:00",
          "2023-04-30T00:00:00",
          "2023-05-07T00:00:00",
          "2023-05-14T00:00:00",
          "2023-05-21T00:00:00",
          "2023-05-28T00:00:00",
          "2023-06-04T00:00:00",
          "2023-06-11T00:00:00",
          "2023-06-18T00:00:00",
          "2023-06-25T00:00:00",
          "2023-07-02T00:00:00",
          "2023-07-09T00:00:00",
          "2023-07-16T00:00:00",
          "2023-07-23T00:00:00",
          "2023-07-30T00:00:00",
          "2023-08-06T00:00:00",
          "2023-08-13T00:00:00",
          "2023-08-20T00:00:00",
          "2023-08-27T00:00:00",
          "2023-09-03T00:00:00",
          "2023-09-10T00:00:00",
          "2023-09-17T00:00:00",
          "2023-09-24T00:00:00",
          "2023-10-01T00:00:00",
          "2023-10-08T00:00:00",
          "2023-10-15T00:00:00",
          "2023-10-22T00:00:00",
          "2023-10-29T00:00:00",
          "2023-11-05T00:00:00",
          "2023-11-12T00:00:00",
          "2023-11-19T00:00:00",
          "2023-11-26T00:00:00",
          "2023-12-03T00:00:00",
          "2023-12-10T00:00:00",
          "2023-12-17T00:00:00",
          "2023-12-24T00:00:00",
          "2023-12-31T00:00:00"
         ],
         "xaxis": "x",
         "y": [
          0,
          0,
          0,
          0,
          0,
          0,
          0,
          0,
          0,
          2,
          0,
          1,
          3,
          5,
          0,
          1,
          0,
          0,
          0,
          0,
          0,
          3,
          0,
          0,
          0,
          3,
          4,
          1,
          0,
          3,
          3,
          1,
          1,
          0,
          5,
          3,
          1,
          1,
          4,
          2,
          2,
          4,
          3,
          2,
          2,
          7,
          0,
          4,
          10,
          0,
          2,
          2,
          4
         ],
         "yaxis": "y"
        },
        {
         "hovertemplate": "NAMA BARANG=HARMONY ORANGE<br>TANGGAL=%{x}<br>QTY=%{y}<extra></extra>",
         "legendgroup": "HARMONY ORANGE",
         "line": {
          "color": "#19d3f3",
          "dash": "solid"
         },
         "marker": {
          "symbol": "circle"
         },
         "mode": "lines",
         "name": "HARMONY ORANGE",
         "orientation": "v",
         "showlegend": true,
         "type": "scatter",
         "x": [
          "2023-01-01T00:00:00",
          "2023-01-08T00:00:00",
          "2023-01-15T00:00:00",
          "2023-01-22T00:00:00",
          "2023-01-29T00:00:00",
          "2023-02-05T00:00:00",
          "2023-02-12T00:00:00",
          "2023-02-19T00:00:00",
          "2023-02-26T00:00:00",
          "2023-03-05T00:00:00",
          "2023-03-12T00:00:00",
          "2023-03-19T00:00:00",
          "2023-03-26T00:00:00",
          "2023-04-02T00:00:00",
          "2023-04-09T00:00:00",
          "2023-04-16T00:00:00",
          "2023-04-23T00:00:00",
          "2023-04-30T00:00:00",
          "2023-05-07T00:00:00",
          "2023-05-14T00:00:00",
          "2023-05-21T00:00:00",
          "2023-05-28T00:00:00",
          "2023-06-04T00:00:00",
          "2023-06-11T00:00:00",
          "2023-06-18T00:00:00",
          "2023-06-25T00:00:00",
          "2023-07-02T00:00:00",
          "2023-07-09T00:00:00",
          "2023-07-16T00:00:00",
          "2023-07-23T00:00:00",
          "2023-07-30T00:00:00",
          "2023-08-06T00:00:00",
          "2023-08-13T00:00:00",
          "2023-08-20T00:00:00",
          "2023-08-27T00:00:00",
          "2023-09-03T00:00:00",
          "2023-09-10T00:00:00",
          "2023-09-17T00:00:00",
          "2023-09-24T00:00:00",
          "2023-10-01T00:00:00",
          "2023-10-08T00:00:00",
          "2023-10-15T00:00:00",
          "2023-10-22T00:00:00",
          "2023-10-29T00:00:00",
          "2023-11-05T00:00:00",
          "2023-11-12T00:00:00",
          "2023-11-19T00:00:00",
          "2023-11-26T00:00:00",
          "2023-12-03T00:00:00",
          "2023-12-10T00:00:00",
          "2023-12-17T00:00:00",
          "2023-12-24T00:00:00",
          "2023-12-31T00:00:00"
         ],
         "xaxis": "x",
         "y": [
          3,
          0,
          0,
          0,
          4,
          1,
          0,
          0,
          0,
          1,
          0,
          2,
          0,
          1,
          3,
          0,
          0,
          0,
          6,
          0,
          0,
          0,
          2,
          0,
          0,
          2,
          0,
          2,
          1,
          1,
          2,
          0,
          0,
          0,
          1,
          2,
          2,
          2,
          1,
          2,
          3,
          1,
          1,
          3,
          1,
          4,
          2,
          7,
          5,
          1,
          10,
          4,
          0
         ],
         "yaxis": "y"
        },
        {
         "hovertemplate": "NAMA BARANG=HARMONY STRAWBERY<br>TANGGAL=%{x}<br>QTY=%{y}<extra></extra>",
         "legendgroup": "HARMONY STRAWBERY",
         "line": {
          "color": "#FF6692",
          "dash": "solid"
         },
         "marker": {
          "symbol": "circle"
         },
         "mode": "lines",
         "name": "HARMONY STRAWBERY",
         "orientation": "v",
         "showlegend": true,
         "type": "scatter",
         "x": [
          "2023-01-01T00:00:00",
          "2023-01-08T00:00:00",
          "2023-01-15T00:00:00",
          "2023-01-22T00:00:00",
          "2023-01-29T00:00:00",
          "2023-02-05T00:00:00",
          "2023-02-12T00:00:00",
          "2023-02-19T00:00:00",
          "2023-02-26T00:00:00",
          "2023-03-05T00:00:00",
          "2023-03-12T00:00:00",
          "2023-03-19T00:00:00",
          "2023-03-26T00:00:00",
          "2023-04-02T00:00:00",
          "2023-04-09T00:00:00",
          "2023-04-16T00:00:00",
          "2023-04-23T00:00:00",
          "2023-04-30T00:00:00",
          "2023-05-07T00:00:00",
          "2023-05-14T00:00:00",
          "2023-05-21T00:00:00",
          "2023-05-28T00:00:00",
          "2023-06-04T00:00:00",
          "2023-06-11T00:00:00",
          "2023-06-18T00:00:00",
          "2023-06-25T00:00:00",
          "2023-07-02T00:00:00",
          "2023-07-09T00:00:00",
          "2023-07-16T00:00:00",
          "2023-07-23T00:00:00",
          "2023-07-30T00:00:00",
          "2023-08-06T00:00:00",
          "2023-08-13T00:00:00",
          "2023-08-20T00:00:00",
          "2023-08-27T00:00:00",
          "2023-09-03T00:00:00",
          "2023-09-10T00:00:00",
          "2023-09-17T00:00:00",
          "2023-09-24T00:00:00",
          "2023-10-01T00:00:00",
          "2023-10-08T00:00:00",
          "2023-10-15T00:00:00",
          "2023-10-22T00:00:00",
          "2023-10-29T00:00:00",
          "2023-11-05T00:00:00",
          "2023-11-12T00:00:00",
          "2023-11-19T00:00:00",
          "2023-11-26T00:00:00",
          "2023-12-03T00:00:00",
          "2023-12-10T00:00:00",
          "2023-12-17T00:00:00",
          "2023-12-24T00:00:00",
          "2023-12-31T00:00:00"
         ],
         "xaxis": "x",
         "y": [
          1,
          1,
          1,
          2,
          1,
          0,
          0,
          0,
          0,
          1,
          0,
          1,
          1,
          2,
          3,
          4,
          0,
          0,
          0,
          0,
          0,
          1,
          1,
          1,
          0,
          2,
          4,
          0,
          0,
          2,
          1,
          0,
          0,
          0,
          3,
          1,
          0,
          0,
          0,
          2,
          0,
          1,
          4,
          1,
          2,
          3,
          0,
          1,
          5,
          1,
          4,
          0,
          4
         ],
         "yaxis": "y"
        },
        {
         "hovertemplate": "NAMA BARANG=INDOMILK KID STR 115ML<br>TANGGAL=%{x}<br>QTY=%{y}<extra></extra>",
         "legendgroup": "INDOMILK KID STR 115ML",
         "line": {
          "color": "#B6E880",
          "dash": "solid"
         },
         "marker": {
          "symbol": "circle"
         },
         "mode": "lines",
         "name": "INDOMILK KID STR 115ML",
         "orientation": "v",
         "showlegend": true,
         "type": "scatter",
         "x": [
          "2023-01-01T00:00:00",
          "2023-01-08T00:00:00",
          "2023-01-15T00:00:00",
          "2023-01-22T00:00:00",
          "2023-01-29T00:00:00",
          "2023-02-05T00:00:00",
          "2023-02-12T00:00:00",
          "2023-02-19T00:00:00",
          "2023-02-26T00:00:00",
          "2023-03-05T00:00:00",
          "2023-03-12T00:00:00",
          "2023-03-19T00:00:00",
          "2023-03-26T00:00:00",
          "2023-04-02T00:00:00",
          "2023-04-09T00:00:00",
          "2023-04-16T00:00:00",
          "2023-04-23T00:00:00",
          "2023-04-30T00:00:00",
          "2023-05-07T00:00:00",
          "2023-05-14T00:00:00",
          "2023-05-21T00:00:00",
          "2023-05-28T00:00:00",
          "2023-06-04T00:00:00",
          "2023-06-11T00:00:00",
          "2023-06-18T00:00:00",
          "2023-06-25T00:00:00",
          "2023-07-02T00:00:00",
          "2023-07-09T00:00:00",
          "2023-07-16T00:00:00",
          "2023-07-23T00:00:00",
          "2023-07-30T00:00:00",
          "2023-08-06T00:00:00",
          "2023-08-13T00:00:00",
          "2023-08-20T00:00:00",
          "2023-08-27T00:00:00",
          "2023-09-03T00:00:00",
          "2023-09-10T00:00:00",
          "2023-09-17T00:00:00",
          "2023-09-24T00:00:00",
          "2023-10-01T00:00:00",
          "2023-10-08T00:00:00",
          "2023-10-15T00:00:00",
          "2023-10-22T00:00:00",
          "2023-10-29T00:00:00",
          "2023-11-05T00:00:00",
          "2023-11-12T00:00:00",
          "2023-11-19T00:00:00",
          "2023-11-26T00:00:00",
          "2023-12-03T00:00:00",
          "2023-12-10T00:00:00",
          "2023-12-17T00:00:00",
          "2023-12-24T00:00:00",
          "2023-12-31T00:00:00"
         ],
         "xaxis": "x",
         "y": [
          13,
          1,
          8,
          6,
          11,
          6,
          7,
          5,
          10,
          3,
          6,
          6,
          5,
          6,
          2,
          7,
          4,
          13,
          9,
          14,
          18,
          10,
          22,
          11,
          17,
          15,
          6,
          9,
          8,
          9,
          1,
          16,
          14,
          13,
          6,
          11,
          13,
          11,
          2,
          1,
          5,
          8,
          18,
          15,
          6,
          20,
          6,
          10,
          11,
          34,
          22,
          18,
          5
         ],
         "yaxis": "y"
        },
        {
         "hovertemplate": "NAMA BARANG=INDOMILK KID VNL 115ML<br>TANGGAL=%{x}<br>QTY=%{y}<extra></extra>",
         "legendgroup": "INDOMILK KID VNL 115ML",
         "line": {
          "color": "#FF97FF",
          "dash": "solid"
         },
         "marker": {
          "symbol": "circle"
         },
         "mode": "lines",
         "name": "INDOMILK KID VNL 115ML",
         "orientation": "v",
         "showlegend": true,
         "type": "scatter",
         "x": [
          "2023-01-01T00:00:00",
          "2023-01-08T00:00:00",
          "2023-01-15T00:00:00",
          "2023-01-22T00:00:00",
          "2023-01-29T00:00:00",
          "2023-02-05T00:00:00",
          "2023-02-12T00:00:00",
          "2023-02-19T00:00:00",
          "2023-02-26T00:00:00",
          "2023-03-05T00:00:00",
          "2023-03-12T00:00:00",
          "2023-03-19T00:00:00",
          "2023-03-26T00:00:00",
          "2023-04-02T00:00:00",
          "2023-04-09T00:00:00",
          "2023-04-16T00:00:00",
          "2023-04-23T00:00:00",
          "2023-04-30T00:00:00",
          "2023-05-07T00:00:00",
          "2023-05-14T00:00:00",
          "2023-05-21T00:00:00",
          "2023-05-28T00:00:00",
          "2023-06-04T00:00:00",
          "2023-06-11T00:00:00",
          "2023-06-18T00:00:00",
          "2023-06-25T00:00:00",
          "2023-07-02T00:00:00",
          "2023-07-09T00:00:00",
          "2023-07-16T00:00:00",
          "2023-07-23T00:00:00",
          "2023-07-30T00:00:00",
          "2023-08-06T00:00:00",
          "2023-08-13T00:00:00",
          "2023-08-20T00:00:00",
          "2023-08-27T00:00:00",
          "2023-09-03T00:00:00",
          "2023-09-10T00:00:00",
          "2023-09-17T00:00:00",
          "2023-09-24T00:00:00",
          "2023-10-01T00:00:00",
          "2023-10-08T00:00:00",
          "2023-10-15T00:00:00",
          "2023-10-22T00:00:00",
          "2023-10-29T00:00:00",
          "2023-11-05T00:00:00",
          "2023-11-12T00:00:00",
          "2023-11-19T00:00:00",
          "2023-11-26T00:00:00",
          "2023-12-03T00:00:00",
          "2023-12-10T00:00:00",
          "2023-12-17T00:00:00",
          "2023-12-24T00:00:00",
          "2023-12-31T00:00:00"
         ],
         "xaxis": "x",
         "y": [
          0,
          0,
          0,
          0,
          0,
          0,
          0,
          0,
          0,
          0,
          0,
          0,
          0,
          0,
          0,
          0,
          0,
          0,
          0,
          0,
          0,
          0,
          0,
          0,
          0,
          0,
          0,
          0,
          22,
          9,
          20,
          18,
          19,
          15,
          9,
          15,
          12,
          7,
          10,
          15,
          7,
          8,
          8,
          14,
          5,
          8,
          4,
          9,
          8,
          17,
          2,
          16,
          3
         ],
         "yaxis": "y"
        },
        {
         "hovertemplate": "NAMA BARANG=MOMOGI CKL 6GR<br>TANGGAL=%{x}<br>QTY=%{y}<extra></extra>",
         "legendgroup": "MOMOGI CKL 6GR",
         "line": {
          "color": "#FECB52",
          "dash": "solid"
         },
         "marker": {
          "symbol": "circle"
         },
         "mode": "lines",
         "name": "MOMOGI CKL 6GR",
         "orientation": "v",
         "showlegend": true,
         "type": "scatter",
         "x": [
          "2023-01-01T00:00:00",
          "2023-01-08T00:00:00",
          "2023-01-15T00:00:00",
          "2023-01-22T00:00:00",
          "2023-01-29T00:00:00",
          "2023-02-05T00:00:00",
          "2023-02-12T00:00:00",
          "2023-02-19T00:00:00",
          "2023-02-26T00:00:00",
          "2023-03-05T00:00:00",
          "2023-03-12T00:00:00",
          "2023-03-19T00:00:00",
          "2023-03-26T00:00:00",
          "2023-04-02T00:00:00",
          "2023-04-09T00:00:00",
          "2023-04-16T00:00:00",
          "2023-04-23T00:00:00",
          "2023-04-30T00:00:00",
          "2023-05-07T00:00:00",
          "2023-05-14T00:00:00",
          "2023-05-21T00:00:00",
          "2023-05-28T00:00:00",
          "2023-06-04T00:00:00",
          "2023-06-11T00:00:00",
          "2023-06-18T00:00:00",
          "2023-06-25T00:00:00",
          "2023-07-02T00:00:00",
          "2023-07-09T00:00:00",
          "2023-07-16T00:00:00",
          "2023-07-23T00:00:00",
          "2023-07-30T00:00:00",
          "2023-08-06T00:00:00",
          "2023-08-13T00:00:00",
          "2023-08-20T00:00:00",
          "2023-08-27T00:00:00",
          "2023-09-03T00:00:00",
          "2023-09-10T00:00:00",
          "2023-09-17T00:00:00",
          "2023-09-24T00:00:00",
          "2023-10-01T00:00:00",
          "2023-10-08T00:00:00",
          "2023-10-15T00:00:00",
          "2023-10-22T00:00:00",
          "2023-10-29T00:00:00",
          "2023-11-05T00:00:00",
          "2023-11-12T00:00:00",
          "2023-11-19T00:00:00",
          "2023-11-26T00:00:00",
          "2023-12-03T00:00:00",
          "2023-12-10T00:00:00",
          "2023-12-17T00:00:00",
          "2023-12-24T00:00:00",
          "2023-12-31T00:00:00"
         ],
         "xaxis": "x",
         "y": [
          7,
          10,
          3,
          2,
          18,
          6,
          18,
          8,
          9,
          3,
          1,
          9,
          2,
          3,
          2,
          1,
          4,
          5,
          4,
          2,
          8,
          8,
          5,
          3,
          6,
          4,
          0,
          0,
          0,
          0,
          0,
          0,
          0,
          0,
          0,
          0,
          0,
          0,
          2,
          3,
          1,
          8,
          10,
          12,
          0,
          0,
          0,
          6,
          0,
          4,
          2,
          0,
          0
         ],
         "yaxis": "y"
        },
        {
         "hovertemplate": "NAMA BARANG=MOMOGI JGG BKR 6GR<br>TANGGAL=%{x}<br>QTY=%{y}<extra></extra>",
         "legendgroup": "MOMOGI JGG BKR 6GR",
         "line": {
          "color": "#636efa",
          "dash": "solid"
         },
         "marker": {
          "symbol": "circle"
         },
         "mode": "lines",
         "name": "MOMOGI JGG BKR 6GR",
         "orientation": "v",
         "showlegend": true,
         "type": "scatter",
         "x": [
          "2023-01-01T00:00:00",
          "2023-01-08T00:00:00",
          "2023-01-15T00:00:00",
          "2023-01-22T00:00:00",
          "2023-01-29T00:00:00",
          "2023-02-05T00:00:00",
          "2023-02-12T00:00:00",
          "2023-02-19T00:00:00",
          "2023-02-26T00:00:00",
          "2023-03-05T00:00:00",
          "2023-03-12T00:00:00",
          "2023-03-19T00:00:00",
          "2023-03-26T00:00:00",
          "2023-04-02T00:00:00",
          "2023-04-09T00:00:00",
          "2023-04-16T00:00:00",
          "2023-04-23T00:00:00",
          "2023-04-30T00:00:00",
          "2023-05-07T00:00:00",
          "2023-05-14T00:00:00",
          "2023-05-21T00:00:00",
          "2023-05-28T00:00:00",
          "2023-06-04T00:00:00",
          "2023-06-11T00:00:00",
          "2023-06-18T00:00:00",
          "2023-06-25T00:00:00",
          "2023-07-02T00:00:00",
          "2023-07-09T00:00:00",
          "2023-07-16T00:00:00",
          "2023-07-23T00:00:00",
          "2023-07-30T00:00:00",
          "2023-08-06T00:00:00",
          "2023-08-13T00:00:00",
          "2023-08-20T00:00:00",
          "2023-08-27T00:00:00",
          "2023-09-03T00:00:00",
          "2023-09-10T00:00:00",
          "2023-09-17T00:00:00",
          "2023-09-24T00:00:00",
          "2023-10-01T00:00:00",
          "2023-10-08T00:00:00",
          "2023-10-15T00:00:00",
          "2023-10-22T00:00:00",
          "2023-10-29T00:00:00",
          "2023-11-05T00:00:00",
          "2023-11-12T00:00:00",
          "2023-11-19T00:00:00",
          "2023-11-26T00:00:00",
          "2023-12-03T00:00:00",
          "2023-12-10T00:00:00",
          "2023-12-17T00:00:00",
          "2023-12-24T00:00:00",
          "2023-12-31T00:00:00"
         ],
         "xaxis": "x",
         "y": [
          9,
          4,
          3,
          9,
          12,
          6,
          25,
          13,
          19,
          4,
          10,
          20,
          4,
          13,
          4,
          7,
          8,
          8,
          9,
          10,
          16,
          17,
          8,
          12,
          15,
          2,
          0,
          0,
          0,
          0,
          0,
          0,
          0,
          0,
          0,
          0,
          0,
          0,
          5,
          10,
          1,
          4,
          9,
          5,
          0,
          1,
          1,
          1,
          1,
          2,
          8,
          6,
          0
         ],
         "yaxis": "y"
        }
       ],
       "layout": {
        "legend": {
         "title": {
          "text": "Klik untuk tampilkan/sembunyikan item"
         },
         "tracegroupgap": 0
        },
        "template": {
         "data": {
          "bar": [
           {
            "error_x": {
             "color": "#2a3f5f"
            },
            "error_y": {
             "color": "#2a3f5f"
            },
            "marker": {
             "line": {
              "color": "#E5ECF6",
              "width": 0.5
             },
             "pattern": {
              "fillmode": "overlay",
              "size": 10,
              "solidity": 0.2
             }
            },
            "type": "bar"
           }
          ],
          "barpolar": [
           {
            "marker": {
             "line": {
              "color": "#E5ECF6",
              "width": 0.5
             },
             "pattern": {
              "fillmode": "overlay",
              "size": 10,
              "solidity": 0.2
             }
            },
            "type": "barpolar"
           }
          ],
          "carpet": [
           {
            "aaxis": {
             "endlinecolor": "#2a3f5f",
             "gridcolor": "white",
             "linecolor": "white",
             "minorgridcolor": "white",
             "startlinecolor": "#2a3f5f"
            },
            "baxis": {
             "endlinecolor": "#2a3f5f",
             "gridcolor": "white",
             "linecolor": "white",
             "minorgridcolor": "white",
             "startlinecolor": "#2a3f5f"
            },
            "type": "carpet"
           }
          ],
          "choropleth": [
           {
            "colorbar": {
             "outlinewidth": 0,
             "ticks": ""
            },
            "type": "choropleth"
           }
          ],
          "contour": [
           {
            "colorbar": {
             "outlinewidth": 0,
             "ticks": ""
            },
            "colorscale": [
             [
              0,
              "#0d0887"
             ],
             [
              0.1111111111111111,
              "#46039f"
             ],
             [
              0.2222222222222222,
              "#7201a8"
             ],
             [
              0.3333333333333333,
              "#9c179e"
             ],
             [
              0.4444444444444444,
              "#bd3786"
             ],
             [
              0.5555555555555556,
              "#d8576b"
             ],
             [
              0.6666666666666666,
              "#ed7953"
             ],
             [
              0.7777777777777778,
              "#fb9f3a"
             ],
             [
              0.8888888888888888,
              "#fdca26"
             ],
             [
              1,
              "#f0f921"
             ]
            ],
            "type": "contour"
           }
          ],
          "contourcarpet": [
           {
            "colorbar": {
             "outlinewidth": 0,
             "ticks": ""
            },
            "type": "contourcarpet"
           }
          ],
          "heatmap": [
           {
            "colorbar": {
             "outlinewidth": 0,
             "ticks": ""
            },
            "colorscale": [
             [
              0,
              "#0d0887"
             ],
             [
              0.1111111111111111,
              "#46039f"
             ],
             [
              0.2222222222222222,
              "#7201a8"
             ],
             [
              0.3333333333333333,
              "#9c179e"
             ],
             [
              0.4444444444444444,
              "#bd3786"
             ],
             [
              0.5555555555555556,
              "#d8576b"
             ],
             [
              0.6666666666666666,
              "#ed7953"
             ],
             [
              0.7777777777777778,
              "#fb9f3a"
             ],
             [
              0.8888888888888888,
              "#fdca26"
             ],
             [
              1,
              "#f0f921"
             ]
            ],
            "type": "heatmap"
           }
          ],
          "heatmapgl": [
           {
            "colorbar": {
             "outlinewidth": 0,
             "ticks": ""
            },
            "colorscale": [
             [
              0,
              "#0d0887"
             ],
             [
              0.1111111111111111,
              "#46039f"
             ],
             [
              0.2222222222222222,
              "#7201a8"
             ],
             [
              0.3333333333333333,
              "#9c179e"
             ],
             [
              0.4444444444444444,
              "#bd3786"
             ],
             [
              0.5555555555555556,
              "#d8576b"
             ],
             [
              0.6666666666666666,
              "#ed7953"
             ],
             [
              0.7777777777777778,
              "#fb9f3a"
             ],
             [
              0.8888888888888888,
              "#fdca26"
             ],
             [
              1,
              "#f0f921"
             ]
            ],
            "type": "heatmapgl"
           }
          ],
          "histogram": [
           {
            "marker": {
             "pattern": {
              "fillmode": "overlay",
              "size": 10,
              "solidity": 0.2
             }
            },
            "type": "histogram"
           }
          ],
          "histogram2d": [
           {
            "colorbar": {
             "outlinewidth": 0,
             "ticks": ""
            },
            "colorscale": [
             [
              0,
              "#0d0887"
             ],
             [
              0.1111111111111111,
              "#46039f"
             ],
             [
              0.2222222222222222,
              "#7201a8"
             ],
             [
              0.3333333333333333,
              "#9c179e"
             ],
             [
              0.4444444444444444,
              "#bd3786"
             ],
             [
              0.5555555555555556,
              "#d8576b"
             ],
             [
              0.6666666666666666,
              "#ed7953"
             ],
             [
              0.7777777777777778,
              "#fb9f3a"
             ],
             [
              0.8888888888888888,
              "#fdca26"
             ],
             [
              1,
              "#f0f921"
             ]
            ],
            "type": "histogram2d"
           }
          ],
          "histogram2dcontour": [
           {
            "colorbar": {
             "outlinewidth": 0,
             "ticks": ""
            },
            "colorscale": [
             [
              0,
              "#0d0887"
             ],
             [
              0.1111111111111111,
              "#46039f"
             ],
             [
              0.2222222222222222,
              "#7201a8"
             ],
             [
              0.3333333333333333,
              "#9c179e"
             ],
             [
              0.4444444444444444,
              "#bd3786"
             ],
             [
              0.5555555555555556,
              "#d8576b"
             ],
             [
              0.6666666666666666,
              "#ed7953"
             ],
             [
              0.7777777777777778,
              "#fb9f3a"
             ],
             [
              0.8888888888888888,
              "#fdca26"
             ],
             [
              1,
              "#f0f921"
             ]
            ],
            "type": "histogram2dcontour"
           }
          ],
          "mesh3d": [
           {
            "colorbar": {
             "outlinewidth": 0,
             "ticks": ""
            },
            "type": "mesh3d"
           }
          ],
          "parcoords": [
           {
            "line": {
             "colorbar": {
              "outlinewidth": 0,
              "ticks": ""
             }
            },
            "type": "parcoords"
           }
          ],
          "pie": [
           {
            "automargin": true,
            "type": "pie"
           }
          ],
          "scatter": [
           {
            "fillpattern": {
             "fillmode": "overlay",
             "size": 10,
             "solidity": 0.2
            },
            "type": "scatter"
           }
          ],
          "scatter3d": [
           {
            "line": {
             "colorbar": {
              "outlinewidth": 0,
              "ticks": ""
             }
            },
            "marker": {
             "colorbar": {
              "outlinewidth": 0,
              "ticks": ""
             }
            },
            "type": "scatter3d"
           }
          ],
          "scattercarpet": [
           {
            "marker": {
             "colorbar": {
              "outlinewidth": 0,
              "ticks": ""
             }
            },
            "type": "scattercarpet"
           }
          ],
          "scattergeo": [
           {
            "marker": {
             "colorbar": {
              "outlinewidth": 0,
              "ticks": ""
             }
            },
            "type": "scattergeo"
           }
          ],
          "scattergl": [
           {
            "marker": {
             "colorbar": {
              "outlinewidth": 0,
              "ticks": ""
             }
            },
            "type": "scattergl"
           }
          ],
          "scattermapbox": [
           {
            "marker": {
             "colorbar": {
              "outlinewidth": 0,
              "ticks": ""
             }
            },
            "type": "scattermapbox"
           }
          ],
          "scatterpolar": [
           {
            "marker": {
             "colorbar": {
              "outlinewidth": 0,
              "ticks": ""
             }
            },
            "type": "scatterpolar"
           }
          ],
          "scatterpolargl": [
           {
            "marker": {
             "colorbar": {
              "outlinewidth": 0,
              "ticks": ""
             }
            },
            "type": "scatterpolargl"
           }
          ],
          "scatterternary": [
           {
            "marker": {
             "colorbar": {
              "outlinewidth": 0,
              "ticks": ""
             }
            },
            "type": "scatterternary"
           }
          ],
          "surface": [
           {
            "colorbar": {
             "outlinewidth": 0,
             "ticks": ""
            },
            "colorscale": [
             [
              0,
              "#0d0887"
             ],
             [
              0.1111111111111111,
              "#46039f"
             ],
             [
              0.2222222222222222,
              "#7201a8"
             ],
             [
              0.3333333333333333,
              "#9c179e"
             ],
             [
              0.4444444444444444,
              "#bd3786"
             ],
             [
              0.5555555555555556,
              "#d8576b"
             ],
             [
              0.6666666666666666,
              "#ed7953"
             ],
             [
              0.7777777777777778,
              "#fb9f3a"
             ],
             [
              0.8888888888888888,
              "#fdca26"
             ],
             [
              1,
              "#f0f921"
             ]
            ],
            "type": "surface"
           }
          ],
          "table": [
           {
            "cells": {
             "fill": {
              "color": "#EBF0F8"
             },
             "line": {
              "color": "white"
             }
            },
            "header": {
             "fill": {
              "color": "#C8D4E3"
             },
             "line": {
              "color": "white"
             }
            },
            "type": "table"
           }
          ]
         },
         "layout": {
          "annotationdefaults": {
           "arrowcolor": "#2a3f5f",
           "arrowhead": 0,
           "arrowwidth": 1
          },
          "autotypenumbers": "strict",
          "coloraxis": {
           "colorbar": {
            "outlinewidth": 0,
            "ticks": ""
           }
          },
          "colorscale": {
           "diverging": [
            [
             0,
             "#8e0152"
            ],
            [
             0.1,
             "#c51b7d"
            ],
            [
             0.2,
             "#de77ae"
            ],
            [
             0.3,
             "#f1b6da"
            ],
            [
             0.4,
             "#fde0ef"
            ],
            [
             0.5,
             "#f7f7f7"
            ],
            [
             0.6,
             "#e6f5d0"
            ],
            [
             0.7,
             "#b8e186"
            ],
            [
             0.8,
             "#7fbc41"
            ],
            [
             0.9,
             "#4d9221"
            ],
            [
             1,
             "#276419"
            ]
           ],
           "sequential": [
            [
             0,
             "#0d0887"
            ],
            [
             0.1111111111111111,
             "#46039f"
            ],
            [
             0.2222222222222222,
             "#7201a8"
            ],
            [
             0.3333333333333333,
             "#9c179e"
            ],
            [
             0.4444444444444444,
             "#bd3786"
            ],
            [
             0.5555555555555556,
             "#d8576b"
            ],
            [
             0.6666666666666666,
             "#ed7953"
            ],
            [
             0.7777777777777778,
             "#fb9f3a"
            ],
            [
             0.8888888888888888,
             "#fdca26"
            ],
            [
             1,
             "#f0f921"
            ]
           ],
           "sequentialminus": [
            [
             0,
             "#0d0887"
            ],
            [
             0.1111111111111111,
             "#46039f"
            ],
            [
             0.2222222222222222,
             "#7201a8"
            ],
            [
             0.3333333333333333,
             "#9c179e"
            ],
            [
             0.4444444444444444,
             "#bd3786"
            ],
            [
             0.5555555555555556,
             "#d8576b"
            ],
            [
             0.6666666666666666,
             "#ed7953"
            ],
            [
             0.7777777777777778,
             "#fb9f3a"
            ],
            [
             0.8888888888888888,
             "#fdca26"
            ],
            [
             1,
             "#f0f921"
            ]
           ]
          },
          "colorway": [
           "#636efa",
           "#EF553B",
           "#00cc96",
           "#ab63fa",
           "#FFA15A",
           "#19d3f3",
           "#FF6692",
           "#B6E880",
           "#FF97FF",
           "#FECB52"
          ],
          "font": {
           "color": "#2a3f5f"
          },
          "geo": {
           "bgcolor": "white",
           "lakecolor": "white",
           "landcolor": "#E5ECF6",
           "showlakes": true,
           "showland": true,
           "subunitcolor": "white"
          },
          "hoverlabel": {
           "align": "left"
          },
          "hovermode": "closest",
          "mapbox": {
           "style": "light"
          },
          "paper_bgcolor": "white",
          "plot_bgcolor": "#E5ECF6",
          "polar": {
           "angularaxis": {
            "gridcolor": "white",
            "linecolor": "white",
            "ticks": ""
           },
           "bgcolor": "#E5ECF6",
           "radialaxis": {
            "gridcolor": "white",
            "linecolor": "white",
            "ticks": ""
           }
          },
          "scene": {
           "xaxis": {
            "backgroundcolor": "#E5ECF6",
            "gridcolor": "white",
            "gridwidth": 2,
            "linecolor": "white",
            "showbackground": true,
            "ticks": "",
            "zerolinecolor": "white"
           },
           "yaxis": {
            "backgroundcolor": "#E5ECF6",
            "gridcolor": "white",
            "gridwidth": 2,
            "linecolor": "white",
            "showbackground": true,
            "ticks": "",
            "zerolinecolor": "white"
           },
           "zaxis": {
            "backgroundcolor": "#E5ECF6",
            "gridcolor": "white",
            "gridwidth": 2,
            "linecolor": "white",
            "showbackground": true,
            "ticks": "",
            "zerolinecolor": "white"
           }
          },
          "shapedefaults": {
           "line": {
            "color": "#2a3f5f"
           }
          },
          "ternary": {
           "aaxis": {
            "gridcolor": "white",
            "linecolor": "white",
            "ticks": ""
           },
           "baxis": {
            "gridcolor": "white",
            "linecolor": "white",
            "ticks": ""
           },
           "bgcolor": "#E5ECF6",
           "caxis": {
            "gridcolor": "white",
            "linecolor": "white",
            "ticks": ""
           }
          },
          "title": {
           "x": 0.05
          },
          "xaxis": {
           "automargin": true,
           "gridcolor": "white",
           "linecolor": "white",
           "ticks": "",
           "title": {
            "standoff": 15
           },
           "zerolinecolor": "white",
           "zerolinewidth": 2
          },
          "yaxis": {
           "automargin": true,
           "gridcolor": "white",
           "linecolor": "white",
           "ticks": "",
           "title": {
            "standoff": 15
           },
           "zerolinecolor": "white",
           "zerolinewidth": 2
          }
         }
        },
        "title": {
         "text": "Jumlah Penjualan per Minggu (Setiap 7 Hari)"
        },
        "xaxis": {
         "anchor": "y",
         "domain": [
          0,
          1
         ],
         "title": {
          "text": "TANGGAL"
         }
        },
        "yaxis": {
         "anchor": "x",
         "domain": [
          0,
          1
         ],
         "title": {
          "text": "QTY"
         }
        }
       }
      }
     },
     "metadata": {},
     "output_type": "display_data"
    }
   ],
   "source": [
    "# Agregasi jumlah QTY per tanggal dan nama barang\n",
    "df_grouped = df_filtered.groupby(['TANGGAL', 'NAMA BARANG'], as_index=False)['QTY'].sum()\n",
    "\n",
    "tanggal_range = pd.date_range(start='2023-01-01', end='2023-12-31')\n",
    "all_items = df_filtered['NAMA BARANG'].unique()\n",
    "\n",
    "# Buat kombinasi semua tanggal dan item\n",
    "multi_index = pd.MultiIndex.from_product([tanggal_range, all_items], names=['TANGGAL', 'NAMA BARANG'])\n",
    "all_combinations = pd.DataFrame(index=multi_index).reset_index()\n",
    "\n",
    "# Gabungkan dengan hasil groupby\n",
    "df_joined = pd.merge(all_combinations, df_grouped, on=['TANGGAL', 'NAMA BARANG'], how='left')\n",
    "df_joined['QTY'] = df_joined['QTY'].fillna(0)\n",
    "\n",
    "# Pastikan TANGGAL dalam datetime\n",
    "df_joined['TANGGAL'] = pd.to_datetime(df_joined['TANGGAL'])\n",
    "\n",
    "# Urutkan dulu datanya\n",
    "df_joined = df_joined.sort_values('TANGGAL')\n",
    "\n",
    "# Ambil tanggal paling awal\n",
    "start_date = df_joined['TANGGAL'].min()\n",
    "\n",
    "# Hitung minggu ke-n secara manual (tiap 7 hari)\n",
    "df_joined['WEEK_NUMBER'] = ((df_joined['TANGGAL'] - start_date).dt.days // 7) + 1\n",
    "\n",
    "# Agregasi berdasarkan minggu dan nama barang\n",
    "df_weekly = df_joined.groupby(['WEEK_NUMBER', 'NAMA BARANG'], as_index=False)['QTY'].sum()\n",
    "\n",
    "# (Opsional) Tambahkan kolom tanggal mulai minggu\n",
    "df_weekly['TANGGAL'] = start_date + pd.to_timedelta((df_weekly['WEEK_NUMBER'] - 1) * 7, unit='D')\n",
    "\n",
    "# Visualisasi\n",
    "fig = px.line(df_weekly, x='TANGGAL', y='QTY', color='NAMA BARANG',\n",
    "              title='Jumlah Penjualan per Minggu (Setiap 7 Hari)')\n",
    "fig.update_layout(legend_title_text='Klik untuk tampilkan/sembunyikan item')\n",
    "fig.show()"
   ]
  },
  {
   "cell_type": "code",
   "execution_count": 9,
   "id": "751cc0f0",
   "metadata": {},
   "outputs": [
    {
     "data": {
      "text/html": [
       "<div>\n",
       "<style scoped>\n",
       "    .dataframe tbody tr th:only-of-type {\n",
       "        vertical-align: middle;\n",
       "    }\n",
       "\n",
       "    .dataframe tbody tr th {\n",
       "        vertical-align: top;\n",
       "    }\n",
       "\n",
       "    .dataframe thead th {\n",
       "        text-align: right;\n",
       "    }\n",
       "</style>\n",
       "<table border=\"1\" class=\"dataframe\">\n",
       "  <thead>\n",
       "    <tr style=\"text-align: right;\">\n",
       "      <th></th>\n",
       "      <th>WEEK_NUMBER</th>\n",
       "      <th>NAMA BARANG</th>\n",
       "      <th>QTY</th>\n",
       "      <th>TANGGAL</th>\n",
       "    </tr>\n",
       "  </thead>\n",
       "  <tbody>\n",
       "    <tr>\n",
       "      <th>0</th>\n",
       "      <td>1</td>\n",
       "      <td>CLOUD 9 CHOCO 15 4G</td>\n",
       "      <td>0.0</td>\n",
       "      <td>2023-01-01</td>\n",
       "    </tr>\n",
       "    <tr>\n",
       "      <th>1</th>\n",
       "      <td>1</td>\n",
       "      <td>CLOUD 9 VANILA 15 4G</td>\n",
       "      <td>0.0</td>\n",
       "      <td>2023-01-01</td>\n",
       "    </tr>\n",
       "    <tr>\n",
       "      <th>2</th>\n",
       "      <td>1</td>\n",
       "      <td>DELFI TOP TRIP/CHO 9GR</td>\n",
       "      <td>0.0</td>\n",
       "      <td>2023-01-01</td>\n",
       "    </tr>\n",
       "    <tr>\n",
       "      <th>3</th>\n",
       "      <td>1</td>\n",
       "      <td>HARMONY LEMON</td>\n",
       "      <td>3.0</td>\n",
       "      <td>2023-01-01</td>\n",
       "    </tr>\n",
       "    <tr>\n",
       "      <th>4</th>\n",
       "      <td>1</td>\n",
       "      <td>HARMONY MELON</td>\n",
       "      <td>0.0</td>\n",
       "      <td>2023-01-01</td>\n",
       "    </tr>\n",
       "    <tr>\n",
       "      <th>...</th>\n",
       "      <td>...</td>\n",
       "      <td>...</td>\n",
       "      <td>...</td>\n",
       "      <td>...</td>\n",
       "    </tr>\n",
       "    <tr>\n",
       "      <th>578</th>\n",
       "      <td>53</td>\n",
       "      <td>HARMONY STRAWBERY</td>\n",
       "      <td>4.0</td>\n",
       "      <td>2023-12-31</td>\n",
       "    </tr>\n",
       "    <tr>\n",
       "      <th>579</th>\n",
       "      <td>53</td>\n",
       "      <td>INDOMILK KID STR 115ML</td>\n",
       "      <td>5.0</td>\n",
       "      <td>2023-12-31</td>\n",
       "    </tr>\n",
       "    <tr>\n",
       "      <th>580</th>\n",
       "      <td>53</td>\n",
       "      <td>INDOMILK KID VNL 115ML</td>\n",
       "      <td>3.0</td>\n",
       "      <td>2023-12-31</td>\n",
       "    </tr>\n",
       "    <tr>\n",
       "      <th>581</th>\n",
       "      <td>53</td>\n",
       "      <td>MOMOGI CKL 6GR</td>\n",
       "      <td>0.0</td>\n",
       "      <td>2023-12-31</td>\n",
       "    </tr>\n",
       "    <tr>\n",
       "      <th>582</th>\n",
       "      <td>53</td>\n",
       "      <td>MOMOGI JGG BKR 6GR</td>\n",
       "      <td>0.0</td>\n",
       "      <td>2023-12-31</td>\n",
       "    </tr>\n",
       "  </tbody>\n",
       "</table>\n",
       "<p>583 rows × 4 columns</p>\n",
       "</div>"
      ],
      "text/plain": [
       "     WEEK_NUMBER             NAMA BARANG  QTY    TANGGAL\n",
       "0              1     CLOUD 9 CHOCO 15 4G  0.0 2023-01-01\n",
       "1              1    CLOUD 9 VANILA 15 4G  0.0 2023-01-01\n",
       "2              1  DELFI TOP TRIP/CHO 9GR  0.0 2023-01-01\n",
       "3              1           HARMONY LEMON  3.0 2023-01-01\n",
       "4              1           HARMONY MELON  0.0 2023-01-01\n",
       "..           ...                     ...  ...        ...\n",
       "578           53       HARMONY STRAWBERY  4.0 2023-12-31\n",
       "579           53  INDOMILK KID STR 115ML  5.0 2023-12-31\n",
       "580           53  INDOMILK KID VNL 115ML  3.0 2023-12-31\n",
       "581           53          MOMOGI CKL 6GR  0.0 2023-12-31\n",
       "582           53      MOMOGI JGG BKR 6GR  0.0 2023-12-31\n",
       "\n",
       "[583 rows x 4 columns]"
      ]
     },
     "execution_count": 9,
     "metadata": {},
     "output_type": "execute_result"
    }
   ],
   "source": [
    "df_weekly"
   ]
  },
  {
   "cell_type": "markdown",
   "id": "bff02c0c",
   "metadata": {},
   "source": [
    "### **8. Pivot Data**"
   ]
  },
  {
   "cell_type": "code",
   "execution_count": 10,
   "id": "35339835",
   "metadata": {},
   "outputs": [
    {
     "data": {
      "text/html": [
       "<div>\n",
       "<style scoped>\n",
       "    .dataframe tbody tr th:only-of-type {\n",
       "        vertical-align: middle;\n",
       "    }\n",
       "\n",
       "    .dataframe tbody tr th {\n",
       "        vertical-align: top;\n",
       "    }\n",
       "\n",
       "    .dataframe thead th {\n",
       "        text-align: right;\n",
       "    }\n",
       "</style>\n",
       "<table border=\"1\" class=\"dataframe\">\n",
       "  <thead>\n",
       "    <tr style=\"text-align: right;\">\n",
       "      <th></th>\n",
       "      <th>TANGGAL</th>\n",
       "      <th>CLOUD 9 CHOCO 15 4G</th>\n",
       "      <th>CLOUD 9 VANILA 15 4G</th>\n",
       "      <th>DELFI TOP TRIP/CHO 9GR</th>\n",
       "      <th>HARMONY LEMON</th>\n",
       "      <th>HARMONY MELON</th>\n",
       "      <th>HARMONY ORANGE</th>\n",
       "      <th>HARMONY STRAWBERY</th>\n",
       "      <th>INDOMILK KID STR 115ML</th>\n",
       "      <th>INDOMILK KID VNL 115ML</th>\n",
       "      <th>MOMOGI CKL 6GR</th>\n",
       "      <th>MOMOGI JGG BKR 6GR</th>\n",
       "    </tr>\n",
       "  </thead>\n",
       "  <tbody>\n",
       "    <tr>\n",
       "      <th>0</th>\n",
       "      <td>2023-01-01</td>\n",
       "      <td>0.0</td>\n",
       "      <td>0.0</td>\n",
       "      <td>0.0</td>\n",
       "      <td>3.0</td>\n",
       "      <td>0.0</td>\n",
       "      <td>3.0</td>\n",
       "      <td>1.0</td>\n",
       "      <td>13.0</td>\n",
       "      <td>0.0</td>\n",
       "      <td>7.0</td>\n",
       "      <td>9.0</td>\n",
       "    </tr>\n",
       "    <tr>\n",
       "      <th>1</th>\n",
       "      <td>2023-01-08</td>\n",
       "      <td>0.0</td>\n",
       "      <td>0.0</td>\n",
       "      <td>3.0</td>\n",
       "      <td>0.0</td>\n",
       "      <td>0.0</td>\n",
       "      <td>0.0</td>\n",
       "      <td>1.0</td>\n",
       "      <td>1.0</td>\n",
       "      <td>0.0</td>\n",
       "      <td>10.0</td>\n",
       "      <td>4.0</td>\n",
       "    </tr>\n",
       "    <tr>\n",
       "      <th>2</th>\n",
       "      <td>2023-01-15</td>\n",
       "      <td>0.0</td>\n",
       "      <td>0.0</td>\n",
       "      <td>4.0</td>\n",
       "      <td>3.0</td>\n",
       "      <td>0.0</td>\n",
       "      <td>0.0</td>\n",
       "      <td>1.0</td>\n",
       "      <td>8.0</td>\n",
       "      <td>0.0</td>\n",
       "      <td>3.0</td>\n",
       "      <td>3.0</td>\n",
       "    </tr>\n",
       "    <tr>\n",
       "      <th>3</th>\n",
       "      <td>2023-01-22</td>\n",
       "      <td>0.0</td>\n",
       "      <td>0.0</td>\n",
       "      <td>4.0</td>\n",
       "      <td>0.0</td>\n",
       "      <td>0.0</td>\n",
       "      <td>0.0</td>\n",
       "      <td>2.0</td>\n",
       "      <td>6.0</td>\n",
       "      <td>0.0</td>\n",
       "      <td>2.0</td>\n",
       "      <td>9.0</td>\n",
       "    </tr>\n",
       "    <tr>\n",
       "      <th>4</th>\n",
       "      <td>2023-01-29</td>\n",
       "      <td>5.0</td>\n",
       "      <td>6.0</td>\n",
       "      <td>7.0</td>\n",
       "      <td>1.0</td>\n",
       "      <td>0.0</td>\n",
       "      <td>4.0</td>\n",
       "      <td>1.0</td>\n",
       "      <td>11.0</td>\n",
       "      <td>0.0</td>\n",
       "      <td>18.0</td>\n",
       "      <td>12.0</td>\n",
       "    </tr>\n",
       "  </tbody>\n",
       "</table>\n",
       "</div>"
      ],
      "text/plain": [
       "     TANGGAL  CLOUD 9 CHOCO 15 4G  CLOUD 9 VANILA 15 4G  \\\n",
       "0 2023-01-01                  0.0                   0.0   \n",
       "1 2023-01-08                  0.0                   0.0   \n",
       "2 2023-01-15                  0.0                   0.0   \n",
       "3 2023-01-22                  0.0                   0.0   \n",
       "4 2023-01-29                  5.0                   6.0   \n",
       "\n",
       "   DELFI TOP TRIP/CHO 9GR  HARMONY LEMON  HARMONY MELON  HARMONY ORANGE  \\\n",
       "0                     0.0            3.0            0.0             3.0   \n",
       "1                     3.0            0.0            0.0             0.0   \n",
       "2                     4.0            3.0            0.0             0.0   \n",
       "3                     4.0            0.0            0.0             0.0   \n",
       "4                     7.0            1.0            0.0             4.0   \n",
       "\n",
       "   HARMONY STRAWBERY  INDOMILK KID STR 115ML  INDOMILK KID VNL 115ML  \\\n",
       "0                1.0                    13.0                     0.0   \n",
       "1                1.0                     1.0                     0.0   \n",
       "2                1.0                     8.0                     0.0   \n",
       "3                2.0                     6.0                     0.0   \n",
       "4                1.0                    11.0                     0.0   \n",
       "\n",
       "   MOMOGI CKL 6GR  MOMOGI JGG BKR 6GR  \n",
       "0             7.0                 9.0  \n",
       "1            10.0                 4.0  \n",
       "2             3.0                 3.0  \n",
       "3             2.0                 9.0  \n",
       "4            18.0                12.0  "
      ]
     },
     "execution_count": 10,
     "metadata": {},
     "output_type": "execute_result"
    }
   ],
   "source": [
    "df_weekly = df_weekly.pivot(index='TANGGAL', columns='NAMA BARANG', values='QTY')\n",
    "df_weekly.columns.name = None  # hilangkan nama kolom atas\n",
    "df_weekly = df_weekly.reset_index() \n",
    "df_weekly.head()"
   ]
  },
  {
   "cell_type": "code",
   "execution_count": 11,
   "id": "c646ab77",
   "metadata": {},
   "outputs": [
    {
     "name": "stdout",
     "output_type": "stream",
     "text": [
      "<class 'pandas.core.frame.DataFrame'>\n",
      "RangeIndex: 53 entries, 0 to 52\n",
      "Data columns (total 12 columns):\n",
      " #   Column                  Non-Null Count  Dtype         \n",
      "---  ------                  --------------  -----         \n",
      " 0   TANGGAL                 53 non-null     datetime64[ns]\n",
      " 1   CLOUD 9 CHOCO 15 4G     53 non-null     float64       \n",
      " 2   CLOUD 9 VANILA 15 4G    53 non-null     float64       \n",
      " 3   DELFI TOP TRIP/CHO 9GR  53 non-null     float64       \n",
      " 4   HARMONY LEMON           53 non-null     float64       \n",
      " 5   HARMONY MELON           53 non-null     float64       \n",
      " 6   HARMONY ORANGE          53 non-null     float64       \n",
      " 7   HARMONY STRAWBERY       53 non-null     float64       \n",
      " 8   INDOMILK KID STR 115ML  53 non-null     float64       \n",
      " 9   INDOMILK KID VNL 115ML  53 non-null     float64       \n",
      " 10  MOMOGI CKL 6GR          53 non-null     float64       \n",
      " 11  MOMOGI JGG BKR 6GR      53 non-null     float64       \n",
      "dtypes: datetime64[ns](1), float64(11)\n",
      "memory usage: 5.1 KB\n"
     ]
    }
   ],
   "source": [
    "df_weekly.info()"
   ]
  },
  {
   "cell_type": "code",
   "execution_count": 12,
   "id": "5d9cc2c4",
   "metadata": {},
   "outputs": [
    {
     "data": {
      "text/html": [
       "<div>\n",
       "<style scoped>\n",
       "    .dataframe tbody tr th:only-of-type {\n",
       "        vertical-align: middle;\n",
       "    }\n",
       "\n",
       "    .dataframe tbody tr th {\n",
       "        vertical-align: top;\n",
       "    }\n",
       "\n",
       "    .dataframe thead th {\n",
       "        text-align: right;\n",
       "    }\n",
       "</style>\n",
       "<table border=\"1\" class=\"dataframe\">\n",
       "  <thead>\n",
       "    <tr style=\"text-align: right;\">\n",
       "      <th></th>\n",
       "      <th>CLOUD 9 CHOCO 15 4G</th>\n",
       "      <th>CLOUD 9 VANILA 15 4G</th>\n",
       "      <th>DELFI TOP TRIP/CHO 9GR</th>\n",
       "      <th>HARMONY LEMON</th>\n",
       "      <th>HARMONY MELON</th>\n",
       "      <th>HARMONY ORANGE</th>\n",
       "      <th>HARMONY STRAWBERY</th>\n",
       "      <th>INDOMILK KID STR 115ML</th>\n",
       "      <th>INDOMILK KID VNL 115ML</th>\n",
       "      <th>MOMOGI CKL 6GR</th>\n",
       "      <th>MOMOGI JGG BKR 6GR</th>\n",
       "    </tr>\n",
       "    <tr>\n",
       "      <th>TANGGAL</th>\n",
       "      <th></th>\n",
       "      <th></th>\n",
       "      <th></th>\n",
       "      <th></th>\n",
       "      <th></th>\n",
       "      <th></th>\n",
       "      <th></th>\n",
       "      <th></th>\n",
       "      <th></th>\n",
       "      <th></th>\n",
       "      <th></th>\n",
       "    </tr>\n",
       "  </thead>\n",
       "  <tbody>\n",
       "    <tr>\n",
       "      <th>2023-01-01</th>\n",
       "      <td>0.0</td>\n",
       "      <td>0.0</td>\n",
       "      <td>0.0</td>\n",
       "      <td>3.0</td>\n",
       "      <td>0.0</td>\n",
       "      <td>3.0</td>\n",
       "      <td>1.0</td>\n",
       "      <td>13.0</td>\n",
       "      <td>0.0</td>\n",
       "      <td>7.0</td>\n",
       "      <td>9.0</td>\n",
       "    </tr>\n",
       "    <tr>\n",
       "      <th>2023-01-08</th>\n",
       "      <td>0.0</td>\n",
       "      <td>0.0</td>\n",
       "      <td>3.0</td>\n",
       "      <td>0.0</td>\n",
       "      <td>0.0</td>\n",
       "      <td>0.0</td>\n",
       "      <td>1.0</td>\n",
       "      <td>1.0</td>\n",
       "      <td>0.0</td>\n",
       "      <td>10.0</td>\n",
       "      <td>4.0</td>\n",
       "    </tr>\n",
       "    <tr>\n",
       "      <th>2023-01-15</th>\n",
       "      <td>0.0</td>\n",
       "      <td>0.0</td>\n",
       "      <td>4.0</td>\n",
       "      <td>3.0</td>\n",
       "      <td>0.0</td>\n",
       "      <td>0.0</td>\n",
       "      <td>1.0</td>\n",
       "      <td>8.0</td>\n",
       "      <td>0.0</td>\n",
       "      <td>3.0</td>\n",
       "      <td>3.0</td>\n",
       "    </tr>\n",
       "  </tbody>\n",
       "</table>\n",
       "</div>"
      ],
      "text/plain": [
       "            CLOUD 9 CHOCO 15 4G  CLOUD 9 VANILA 15 4G  DELFI TOP TRIP/CHO 9GR  \\\n",
       "TANGGAL                                                                         \n",
       "2023-01-01                  0.0                   0.0                     0.0   \n",
       "2023-01-08                  0.0                   0.0                     3.0   \n",
       "2023-01-15                  0.0                   0.0                     4.0   \n",
       "\n",
       "            HARMONY LEMON  HARMONY MELON  HARMONY ORANGE  HARMONY STRAWBERY  \\\n",
       "TANGGAL                                                                       \n",
       "2023-01-01            3.0            0.0             3.0                1.0   \n",
       "2023-01-08            0.0            0.0             0.0                1.0   \n",
       "2023-01-15            3.0            0.0             0.0                1.0   \n",
       "\n",
       "            INDOMILK KID STR 115ML  INDOMILK KID VNL 115ML  MOMOGI CKL 6GR  \\\n",
       "TANGGAL                                                                      \n",
       "2023-01-01                    13.0                     0.0             7.0   \n",
       "2023-01-08                     1.0                     0.0            10.0   \n",
       "2023-01-15                     8.0                     0.0             3.0   \n",
       "\n",
       "            MOMOGI JGG BKR 6GR  \n",
       "TANGGAL                         \n",
       "2023-01-01                 9.0  \n",
       "2023-01-08                 4.0  \n",
       "2023-01-15                 3.0  "
      ]
     },
     "execution_count": 12,
     "metadata": {},
     "output_type": "execute_result"
    }
   ],
   "source": [
    "# Pastikan TANGGAL diubah ke tipe datetime\n",
    "df_weekly[\"TANGGAL\"] = pd.to_datetime(df_weekly[\"TANGGAL\"])\n",
    "\n",
    "# Set kolom TANGGAL sebagai index\n",
    "df_weekly.set_index(\"TANGGAL\", inplace=True)\n",
    "\n",
    "# Resample data untuk frekuensi mingguan (W-SUN), menjadikan setiap minggu sebagai satu data point\n",
    "df_weekly = df_weekly.resample('W-SUN').sum()  # Anda bisa menggunakan metode lain seperti mean() jika perlu\n",
    "\n",
    "# Tampilkan hasil\n",
    "df_weekly.head(3)"
   ]
  },
  {
   "cell_type": "markdown",
   "id": "20f8baef",
   "metadata": {},
   "source": [
    "### **9. Cek Stasioneritas dengan ADF Test dan ACF PACF**"
   ]
  },
  {
   "cell_type": "code",
   "execution_count": 13,
   "id": "5391b506",
   "metadata": {},
   "outputs": [
    {
     "name": "stdout",
     "output_type": "stream",
     "text": [
      "\n",
      "=== CLOUD 9 CHOCO 15 4G ===\n",
      "ADF Statistic: -4.80763257076568\n",
      "p-value: 5.25866956549481e-05\n",
      "Stationary\n",
      "\n",
      "=== CLOUD 9 VANILA 15 4G ===\n",
      "ADF Statistic: -3.42054427926055\n",
      "p-value: 0.01027814061589036\n",
      "Stationary\n",
      "\n",
      "=== DELFI TOP TRIP/CHO 9GR ===\n",
      "ADF Statistic: -4.463621974285861\n",
      "p-value: 0.0002286439313039586\n",
      "Stationary\n",
      "\n",
      "=== HARMONY LEMON ===\n",
      "ADF Statistic: -6.0015820872650725\n",
      "p-value: 1.65249096477773e-07\n",
      "Stationary\n",
      "\n",
      "=== HARMONY MELON ===\n",
      "ADF Statistic: -6.064935180823813\n",
      "p-value: 1.1880129573285605e-07\n",
      "Stationary\n",
      "\n",
      "=== HARMONY ORANGE ===\n",
      "ADF Statistic: -1.8612106849631707\n",
      "p-value: 0.35052294898030106\n",
      "Non-stationary\n",
      "\n",
      "=== HARMONY STRAWBERY ===\n",
      "ADF Statistic: -6.487317511561381\n",
      "p-value: 1.2515159124723137e-08\n",
      "Stationary\n",
      "\n",
      "=== INDOMILK KID STR 115ML ===\n",
      "ADF Statistic: -5.176817291083101\n",
      "p-value: 9.802549088762738e-06\n",
      "Stationary\n",
      "\n",
      "=== INDOMILK KID VNL 115ML ===\n",
      "ADF Statistic: -1.6050422161306381\n",
      "p-value: 0.48106014796660956\n",
      "Non-stationary\n",
      "\n",
      "=== MOMOGI CKL 6GR ===\n",
      "ADF Statistic: -4.799502467294877\n",
      "p-value: 5.4505248590760926e-05\n",
      "Stationary\n",
      "\n",
      "=== MOMOGI JGG BKR 6GR ===\n",
      "ADF Statistic: -2.1103050019913767\n",
      "p-value: 0.24039114910936044\n",
      "Non-stationary\n"
     ]
    }
   ],
   "source": [
    "def check_stationarity(series, name):\n",
    "    print(f\"\\n=== {name} ===\")\n",
    "\n",
    "    # ADF Test\n",
    "    result = adfuller(series.dropna())\n",
    "    print(f\"ADF Statistic: {result[0]}\")\n",
    "    print(f\"p-value: {result[1]}\")\n",
    "    print(\"Stationary\" if result[1] < 0.05 else \"Non-stationary\")\n",
    "\n",
    "    # # Tentukan maksimal lag aman\n",
    "    # max_lags = min(30, len(series.dropna()) // 2 - 1)\n",
    "\n",
    "    # # Plot ACF & PACF\n",
    "    # fig, axes = plt.subplots(1, 2, figsize=(12, 3))\n",
    "    # plot_acf(series.dropna(), ax=axes[0], lags=max_lags)\n",
    "    # plot_pacf(series.dropna(), ax=axes[1], lags=max_lags, method='ywm')\n",
    "    # axes[0].set_title(f'ACF - {name}')\n",
    "    # axes[1].set_title(f'PACF - {name}')\n",
    "    # plt.tight_layout()\n",
    "    # plt.show()\n",
    "\n",
    "# Jalankan untuk tiap kolom\n",
    "for col in df_weekly.columns:\n",
    "    check_stationarity(df_weekly[col], col)\n"
   ]
  },
  {
   "cell_type": "markdown",
   "id": "b07ca3ca",
   "metadata": {},
   "source": [
    "### **10. Differencing Data Tidak Stasioner**"
   ]
  },
  {
   "cell_type": "code",
   "execution_count": 14,
   "id": "bde34892",
   "metadata": {},
   "outputs": [],
   "source": [
    "df_diff = df_weekly.diff().dropna()  # differencing 1x"
   ]
  },
  {
   "cell_type": "code",
   "execution_count": 15,
   "id": "745dfd8c",
   "metadata": {},
   "outputs": [
    {
     "name": "stdout",
     "output_type": "stream",
     "text": [
      "Hasil ADF Test untuk CLOUD 9 CHOCO 15 4G:\n",
      "ADF Statistic: -7.134101129376743\n",
      "P-value: 3.4568527299634074e-10\n",
      "Stationary\n",
      "Hasil ADF Test untuk CLOUD 9 VANILA 15 4G:\n",
      "ADF Statistic: -12.84624370379226\n",
      "P-value: 5.4725421757578004e-24\n",
      "Stationary\n",
      "Hasil ADF Test untuk DELFI TOP TRIP/CHO 9GR:\n",
      "ADF Statistic: -5.178090255111871\n",
      "P-value: 9.744261355940833e-06\n",
      "Stationary\n",
      "Hasil ADF Test untuk HARMONY LEMON:\n",
      "ADF Statistic: -7.1307653752514515\n",
      "P-value: 3.522731203998819e-10\n",
      "Stationary\n",
      "Hasil ADF Test untuk HARMONY MELON:\n",
      "ADF Statistic: -6.15895848056741\n",
      "P-value: 7.252218595474505e-08\n",
      "Stationary\n",
      "Hasil ADF Test untuk HARMONY ORANGE:\n",
      "ADF Statistic: -7.797913481700126\n",
      "P-value: 7.629647492884273e-12\n",
      "Stationary\n",
      "Hasil ADF Test untuk HARMONY STRAWBERY:\n",
      "ADF Statistic: -3.327173772134258\n",
      "P-value: 0.013706649182495978\n",
      "Stationary\n",
      "Hasil ADF Test untuk INDOMILK KID STR 115ML:\n",
      "ADF Statistic: -6.247475057468659\n",
      "P-value: 4.538711522958169e-08\n",
      "Stationary\n",
      "Hasil ADF Test untuk INDOMILK KID VNL 115ML:\n",
      "ADF Statistic: -15.332227030866855\n",
      "P-value: 3.9316923179606966e-28\n",
      "Stationary\n",
      "Hasil ADF Test untuk MOMOGI CKL 6GR:\n",
      "ADF Statistic: -5.714320415839503\n",
      "P-value: 7.179227822820539e-07\n",
      "Stationary\n",
      "Hasil ADF Test untuk MOMOGI JGG BKR 6GR:\n",
      "ADF Statistic: -7.838717193399844\n",
      "P-value: 6.017040168546729e-12\n",
      "Stationary\n"
     ]
    }
   ],
   "source": [
    "# 1. Differencing data sekali\n",
    "# df_diff = df_weekly.diff().dropna()\n",
    "\n",
    "# 2. Tes stasioneritas menggunakan ADF\n",
    "def check_stationarity_after_diff(series, name):\n",
    "    # Tes ADF\n",
    "    adf_result = adfuller(series)\n",
    "    print(f\"Hasil ADF Test untuk {name}:\")\n",
    "    print(f\"ADF Statistic: {adf_result[0]}\")\n",
    "    print(f\"P-value: {adf_result[1]}\")\n",
    "    print(\"Stationary\" if adf_result[1] < 0.05 else \"Non-stationary\")\n",
    "    \n",
    "    # # Tentukan maksimal lag aman\n",
    "    # max_lags = min(30, len(series.dropna()) // 2 - 1)\n",
    "\n",
    "    # # 3. Plot ACF dan PACF\n",
    "    # fig, axes = plt.subplots(1, 2, figsize=(12, 3))\n",
    "    # plot_acf(series, ax=axes[0], lags=max_lags)\n",
    "    # plot_pacf(series, ax=axes[1], lags=max_lags)\n",
    "    # axes[0].set_title(f'ACF - {name}')\n",
    "    # axes[1].set_title(f'PACF - {name}')\n",
    "    # plt.show()\n",
    "\n",
    "# 4. Cek stasioneritas untuk setiap kolom setelah differencing\n",
    "for col in df_diff.columns:\n",
    "    check_stationarity_after_diff(df_diff[col], col)\n"
   ]
  },
  {
   "cell_type": "markdown",
   "id": "477b4955",
   "metadata": {},
   "source": [
    "### **11. Pemilihan Lag**"
   ]
  },
  {
   "cell_type": "code",
   "execution_count": 16,
   "id": "e7f59836",
   "metadata": {},
   "outputs": [
    {
     "name": "stdout",
     "output_type": "stream",
     "text": [
      " VAR Order Selection (* highlights the minimums) \n",
      "=================================================\n",
      "      AIC         BIC         FPE         HQIC   \n",
      "-------------------------------------------------\n",
      "0       26.04      26.46*   2.036e+11      26.20*\n",
      "1      25.01*       30.01  8.025e+10*       26.92\n",
      "-------------------------------------------------\n"
     ]
    }
   ],
   "source": [
    "model = VAR(df_diff)\n",
    "lag_order_results = model.select_order(maxlags=1)\n",
    "print(lag_order_results.summary())"
   ]
  },
  {
   "cell_type": "code",
   "execution_count": 17,
   "id": "7c67b3ab",
   "metadata": {},
   "outputs": [
    {
     "name": "stdout",
     "output_type": "stream",
     "text": [
      "Optimal Lag: 1\n"
     ]
    }
   ],
   "source": [
    "optimal_lag = lag_order_results.aic\n",
    "print(f\"Optimal Lag: {optimal_lag}\")"
   ]
  },
  {
   "cell_type": "markdown",
   "id": "4dd3bdf2",
   "metadata": {},
   "source": [
    "### **12. Spliting Data**"
   ]
  },
  {
   "cell_type": "code",
   "execution_count": 18,
   "id": "ac837c88",
   "metadata": {},
   "outputs": [],
   "source": [
    "# Tentukan rasio training dan testing \n",
    "train_size = int(len(df_diff) * 0.7)\n",
    "train_data, test_data = df_diff[:train_size], df_diff[train_size:]"
   ]
  },
  {
   "cell_type": "markdown",
   "id": "a5c98e15",
   "metadata": {},
   "source": [
    "### **13. Pemodelan dengan Data Train dan Menggunakan Estimasi Parameter OLS**"
   ]
  },
  {
   "cell_type": "code",
   "execution_count": 19,
   "id": "0e5b96a5",
   "metadata": {},
   "outputs": [],
   "source": [
    "# Fit model VAR pada training data\n",
    "model = VAR(train_data)\n",
    "var_model = model.fit(optimal_lag)"
   ]
  },
  {
   "cell_type": "code",
   "execution_count": 20,
   "id": "bcda23b9",
   "metadata": {},
   "outputs": [],
   "source": [
    "# Lakukan forecasting pada data testing\n",
    "forecast_steps = len(test_data)  # Langkah forecast sesuai jumlah data testing\n",
    "forecast_values = var_model.forecast(train_data.values[optimal_lag:], steps=forecast_steps)\n",
    "\n",
    "# Konversi hasil prediksi ke dalam dataframe\n",
    "forecast_df = pd.DataFrame(forecast_values, columns=df_diff.columns, index=test_data.index)"
   ]
  },
  {
   "cell_type": "markdown",
   "id": "f4958cc1",
   "metadata": {},
   "source": [
    "### **14. Evaluasi Model**"
   ]
  },
  {
   "cell_type": "code",
   "execution_count": 21,
   "id": "8eff811d",
   "metadata": {},
   "outputs": [
    {
     "name": "stdout",
     "output_type": "stream",
     "text": [
      "Mean Squared Error (MSE): 30.30438838370642\n",
      "Root Mean Squared Error (RMSE): 5.504942178052956\n",
      "Mean Absolute Error (MAE): 3.927591524880569\n",
      "Mean Absolute Percentage Error (MAPE): 111.85741068937558%\n"
     ]
    }
   ],
   "source": [
    "# Hitung MSE, RMSE, MAE, dan R2 untuk setiap kolom\n",
    "mse = mean_squared_error(test_data, forecast_df)\n",
    "rmse = np.sqrt(mse)\n",
    "mae = mean_absolute_error(test_data, forecast_df)\n",
    "non_zero_mask = test_data != 0  # Membuat mask untuk data yang bukan nol\n",
    "mape = np.mean(np.abs((test_data[non_zero_mask] - forecast_df[non_zero_mask]) / test_data[non_zero_mask])) * 100\n",
    "\n",
    "\n",
    "# Menampilkan hasil evaluasi\n",
    "print(f'Mean Squared Error (MSE): {mse}')\n",
    "print(f'Root Mean Squared Error (RMSE): {rmse}')\n",
    "print(f'Mean Absolute Error (MAE): {mae}')\n",
    "print(f'Mean Absolute Percentage Error (MAPE): {mape}%')"
   ]
  },
  {
   "cell_type": "markdown",
   "id": "0a41a791",
   "metadata": {},
   "source": [
    "### **15. Visualisasi Data Forecast vs Asli**"
   ]
  },
  {
   "cell_type": "code",
   "execution_count": 22,
   "id": "2be79f61",
   "metadata": {},
   "outputs": [
    {
     "data": {
      "image/png": "[encoded data removed]",
      "text/plain": [
       "<Figure size 1000x600 with 1 Axes>"
      ]
     },
     "metadata": {},
     "output_type": "display_data"
    }
   ],
   "source": [
    "plt.figure(figsize=(10, 6))\n",
    "plt.plot(test_data.index, test_data, label='Data Asli', color='blue')\n",
    "plt.plot(forecast_df.index, forecast_df, label='Prediksi', color='red', linestyle='--')\n",
    "plt.title('Prediksi vs Data Asli')\n",
    "plt.legend(bbox_to_anchor=(1.05, 1), loc='upper left')\n",
    "plt.tight_layout() \n",
    "plt.show()"
   ]
  },
  {
   "cell_type": "code",
   "execution_count": 23,
   "id": "80226b02",
   "metadata": {},
   "outputs": [
    {
     "data": {
      "text/html": [
       "<div>\n",
       "<style scoped>\n",
       "    .dataframe tbody tr th:only-of-type {\n",
       "        vertical-align: middle;\n",
       "    }\n",
       "\n",
       "    .dataframe tbody tr th {\n",
       "        vertical-align: top;\n",
       "    }\n",
       "\n",
       "    .dataframe thead th {\n",
       "        text-align: right;\n",
       "    }\n",
       "</style>\n",
       "<table border=\"1\" class=\"dataframe\">\n",
       "  <thead>\n",
       "    <tr style=\"text-align: right;\">\n",
       "      <th></th>\n",
       "      <th>CLOUD 9 CHOCO 15 4G</th>\n",
       "      <th>CLOUD 9 VANILA 15 4G</th>\n",
       "      <th>DELFI TOP TRIP/CHO 9GR</th>\n",
       "      <th>HARMONY LEMON</th>\n",
       "      <th>HARMONY MELON</th>\n",
       "      <th>HARMONY ORANGE</th>\n",
       "      <th>HARMONY STRAWBERY</th>\n",
       "      <th>INDOMILK KID STR 115ML</th>\n",
       "      <th>INDOMILK KID VNL 115ML</th>\n",
       "      <th>MOMOGI CKL 6GR</th>\n",
       "      <th>MOMOGI JGG BKR 6GR</th>\n",
       "    </tr>\n",
       "  </thead>\n",
       "  <tbody>\n",
       "    <tr>\n",
       "      <th>2024-01-07</th>\n",
       "      <td>5</td>\n",
       "      <td>4</td>\n",
       "      <td>1</td>\n",
       "      <td>0</td>\n",
       "      <td>5</td>\n",
       "      <td>0</td>\n",
       "      <td>4</td>\n",
       "      <td>8</td>\n",
       "      <td>12</td>\n",
       "      <td>0</td>\n",
       "      <td>0</td>\n",
       "    </tr>\n",
       "    <tr>\n",
       "      <th>2024-01-14</th>\n",
       "      <td>5</td>\n",
       "      <td>0</td>\n",
       "      <td>0</td>\n",
       "      <td>3</td>\n",
       "      <td>5</td>\n",
       "      <td>1</td>\n",
       "      <td>4</td>\n",
       "      <td>6</td>\n",
       "      <td>6</td>\n",
       "      <td>0</td>\n",
       "      <td>-2</td>\n",
       "    </tr>\n",
       "    <tr>\n",
       "      <th>2024-01-21</th>\n",
       "      <td>3</td>\n",
       "      <td>2</td>\n",
       "      <td>1</td>\n",
       "      <td>1</td>\n",
       "      <td>5</td>\n",
       "      <td>0</td>\n",
       "      <td>4</td>\n",
       "      <td>4</td>\n",
       "      <td>9</td>\n",
       "      <td>-3</td>\n",
       "      <td>-2</td>\n",
       "    </tr>\n",
       "    <tr>\n",
       "      <th>2024-01-28</th>\n",
       "      <td>5</td>\n",
       "      <td>2</td>\n",
       "      <td>1</td>\n",
       "      <td>1</td>\n",
       "      <td>5</td>\n",
       "      <td>1</td>\n",
       "      <td>4</td>\n",
       "      <td>9</td>\n",
       "      <td>9</td>\n",
       "      <td>1</td>\n",
       "      <td>0</td>\n",
       "    </tr>\n",
       "  </tbody>\n",
       "</table>\n",
       "</div>"
      ],
      "text/plain": [
       "            CLOUD 9 CHOCO 15 4G  CLOUD 9 VANILA 15 4G  DELFI TOP TRIP/CHO 9GR  \\\n",
       "2024-01-07                    5                     4                       1   \n",
       "2024-01-14                    5                     0                       0   \n",
       "2024-01-21                    3                     2                       1   \n",
       "2024-01-28                    5                     2                       1   \n",
       "\n",
       "            HARMONY LEMON  HARMONY MELON  HARMONY ORANGE  HARMONY STRAWBERY  \\\n",
       "2024-01-07              0              5               0                  4   \n",
       "2024-01-14              3              5               1                  4   \n",
       "2024-01-21              1              5               0                  4   \n",
       "2024-01-28              1              5               1                  4   \n",
       "\n",
       "            INDOMILK KID STR 115ML  INDOMILK KID VNL 115ML  MOMOGI CKL 6GR  \\\n",
       "2024-01-07                       8                      12               0   \n",
       "2024-01-14                       6                       6               0   \n",
       "2024-01-21                       4                       9              -3   \n",
       "2024-01-28                       9                       9               1   \n",
       "\n",
       "            MOMOGI JGG BKR 6GR  \n",
       "2024-01-07                   0  \n",
       "2024-01-14                  -2  \n",
       "2024-01-21                  -2  \n",
       "2024-01-28                   0  "
      ]
     },
     "execution_count": 23,
     "metadata": {},
     "output_type": "execute_result"
    }
   ],
   "source": [
    "# Langkah 1: Forecast ke depan berdasarkan model VAR yang sudah dilatih\n",
    "selected_lag = optimal_lag  # Ganti sesuai dengan lag VAR yang kamu pakai\n",
    "n_forecast = 4   # Ganti jumlah minggu yang ingin kamu forecast ke depan\n",
    "\n",
    "# Ambil data terakhir dari train_data untuk input ke forecasting\n",
    "last_train_values = train_data.values[-selected_lag:]\n",
    "forecast_diff = var_model.forecast(y=last_train_values, steps=n_forecast)\n",
    "\n",
    "# Langkah 2: Forecast dan buat index tanggal ke depan\n",
    "df_weekly.index = pd.to_datetime(df_weekly.index)\n",
    "last_date = df_weekly.index[-1]\n",
    "forecast_index = pd.date_range(start=last_date + pd.Timedelta(weeks=1), periods=n_forecast, freq='W')\n",
    "\n",
    "# Buat dataframe forecast dengan index yang benar\n",
    "forecast_diff_df = pd.DataFrame(forecast_diff, columns=df_diff.columns, index=forecast_index)\n",
    "\n",
    "# Langkah 3: Inverse differencing untuk mengembalikan ke nilai asli\n",
    "# Ambil baris terakhir dari data asli sebelum differencing\n",
    "last_actual = df_weekly.iloc[-1]  # Ini penting untuk starting point inverse\n",
    "\n",
    "# Invers dengan penjumlahan kumulatif + last actual\n",
    "forecast_original_df = forecast_diff_df.cumsum() + last_actual\n",
    "forecast_original_df = forecast_original_df.fillna(0).round().astype(int)  \n",
    "forecast_original_df\n"
   ]
  }
 ],
 "metadata": {
  "kernelspec": {
   "display_name": "Python 3",
   "language": "python",
   "name": "python3"
  },
  "language_info": {
   "codemirror_mode": {
    "name": "ipython",
    "version": 3
   },
   "file_extension": ".py",
   "mimetype": "text/x-python",
   "name": "python",
   "nbconvert_exporter": "python",
   "pygments_lexer": "ipython3",
   "version": "3.12.2"
  }
 },
 "nbformat": 4,
 "nbformat_minor": 5
}
