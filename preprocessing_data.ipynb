{
 "cells": [
  {
   "cell_type": "code",
   "execution_count": 1,
   "metadata": {},
   "outputs": [],
   "source": [
    "# import library\n",
    "import pandas as pd\n",
    "import re"
   ]
  },
  {
   "cell_type": "code",
   "execution_count": 2,
   "metadata": {},
   "outputs": [
    {
     "data": {
      "text/html": [
       "<div>\n",
       "<style scoped>\n",
       "    .dataframe tbody tr th:only-of-type {\n",
       "        vertical-align: middle;\n",
       "    }\n",
       "\n",
       "    .dataframe tbody tr th {\n",
       "        vertical-align: top;\n",
       "    }\n",
       "\n",
       "    .dataframe thead th {\n",
       "        text-align: right;\n",
       "    }\n",
       "</style>\n",
       "<table border=\"1\" class=\"dataframe\">\n",
       "  <thead>\n",
       "    <tr style=\"text-align: right;\">\n",
       "      <th></th>\n",
       "      <th>TANGGAL</th>\n",
       "      <th>NO TRANSAKSI</th>\n",
       "      <th>NAMA BARANG</th>\n",
       "      <th>QTY</th>\n",
       "    </tr>\n",
       "  </thead>\n",
       "  <tbody>\n",
       "    <tr>\n",
       "      <th>0</th>\n",
       "      <td>2024-01-01</td>\n",
       "      <td>2401011010001</td>\n",
       "      <td>GULA ROSE BRAND 1KG</td>\n",
       "      <td>1</td>\n",
       "    </tr>\n",
       "    <tr>\n",
       "      <th>1</th>\n",
       "      <td>2024-01-01</td>\n",
       "      <td>2401011010002</td>\n",
       "      <td>RIZKI MG 850ML/900ML BTL</td>\n",
       "      <td>3</td>\n",
       "    </tr>\n",
       "    <tr>\n",
       "      <th>2</th>\n",
       "      <td>2024-01-01</td>\n",
       "      <td>2401011010003</td>\n",
       "      <td>ULTRA MIMI VNL 125ML</td>\n",
       "      <td>1</td>\n",
       "    </tr>\n",
       "    <tr>\n",
       "      <th>3</th>\n",
       "      <td>2024-01-01</td>\n",
       "      <td>2401011010003</td>\n",
       "      <td>BEAR BRAND 189ML</td>\n",
       "      <td>1</td>\n",
       "    </tr>\n",
       "    <tr>\n",
       "      <th>4</th>\n",
       "      <td>2024-01-01</td>\n",
       "      <td>2401011010003</td>\n",
       "      <td>TINI WINI BITI ASIN 20 GR</td>\n",
       "      <td>1</td>\n",
       "    </tr>\n",
       "    <tr>\n",
       "      <th>...</th>\n",
       "      <td>...</td>\n",
       "      <td>...</td>\n",
       "      <td>...</td>\n",
       "      <td>...</td>\n",
       "    </tr>\n",
       "    <tr>\n",
       "      <th>167618</th>\n",
       "      <td>2024-12-31</td>\n",
       "      <td>2412311020122</td>\n",
       "      <td>WALLS POPULAIRE CKL</td>\n",
       "      <td>1</td>\n",
       "    </tr>\n",
       "    <tr>\n",
       "      <th>167619</th>\n",
       "      <td>2024-12-31</td>\n",
       "      <td>2412311020123</td>\n",
       "      <td>THERMAL 80X50 TRUST PAPER</td>\n",
       "      <td>1</td>\n",
       "    </tr>\n",
       "    <tr>\n",
       "      <th>167620</th>\n",
       "      <td>2024-12-31</td>\n",
       "      <td>2412311020124</td>\n",
       "      <td>SAKINAH  600ML</td>\n",
       "      <td>1</td>\n",
       "    </tr>\n",
       "    <tr>\n",
       "      <th>167621</th>\n",
       "      <td>2024-12-31</td>\n",
       "      <td>2412311020124</td>\n",
       "      <td>WALLS PP RAINBOW P</td>\n",
       "      <td>1</td>\n",
       "    </tr>\n",
       "    <tr>\n",
       "      <th>167622</th>\n",
       "      <td>2024-12-31</td>\n",
       "      <td>2412311020125</td>\n",
       "      <td>INDOMILK BTL BLBERRY 190ML</td>\n",
       "      <td>1</td>\n",
       "    </tr>\n",
       "  </tbody>\n",
       "</table>\n",
       "<p>167623 rows × 4 columns</p>\n",
       "</div>"
      ],
      "text/plain": [
       "          TANGGAL   NO TRANSAKSI                 NAMA BARANG  QTY\n",
       "0      2024-01-01  2401011010001         GULA ROSE BRAND 1KG    1\n",
       "1      2024-01-01  2401011010002    RIZKI MG 850ML/900ML BTL    3\n",
       "2      2024-01-01  2401011010003        ULTRA MIMI VNL 125ML    1\n",
       "3      2024-01-01  2401011010003            BEAR BRAND 189ML    1\n",
       "4      2024-01-01  2401011010003   TINI WINI BITI ASIN 20 GR    1\n",
       "...           ...            ...                         ...  ...\n",
       "167618 2024-12-31  2412311020122         WALLS POPULAIRE CKL    1\n",
       "167619 2024-12-31  2412311020123   THERMAL 80X50 TRUST PAPER    1\n",
       "167620 2024-12-31  2412311020124              SAKINAH  600ML    1\n",
       "167621 2024-12-31  2412311020124          WALLS PP RAINBOW P    1\n",
       "167622 2024-12-31  2412311020125  INDOMILK BTL BLBERRY 190ML    1\n",
       "\n",
       "[167623 rows x 4 columns]"
      ]
     },
     "execution_count": 2,
     "metadata": {},
     "output_type": "execute_result"
    }
   ],
   "source": [
    "# import data\n",
    "excel_file_path = 'data/DATA2024.xlsx'\n",
    "excel_data = pd.read_excel(excel_file_path)\n",
    "excel_data"
   ]
  },
  {
   "cell_type": "markdown",
   "metadata": {},
   "source": [
    "# **Pre-processing**"
   ]
  },
  {
   "cell_type": "markdown",
   "metadata": {},
   "source": [
    "### **1. Periksa Kolom**"
   ]
  },
  {
   "cell_type": "code",
   "execution_count": 3,
   "metadata": {},
   "outputs": [],
   "source": [
    "def check_columns(df, expected_columns):\n",
    "    \"\"\"Cek apakah semua kolom yang dibutuhkan ada dalam DataFrame\"\"\"\n",
    "    missing_columns = [col for col in expected_columns if col not in df.columns]\n",
    "    if missing_columns:\n",
    "        print(f\"⚠️ Kolom berikut tidak ditemukan dalam data: {missing_columns}\")\n",
    "        return False\n",
    "    print(\"✅ Format kolom sesuai.\")\n",
    "    return True"
   ]
  },
  {
   "cell_type": "markdown",
   "metadata": {},
   "source": [
    "### **2. Periksa Missing Value** "
   ]
  },
  {
   "cell_type": "code",
   "execution_count": 4,
   "metadata": {},
   "outputs": [],
   "source": [
    "def check_missing_values(df):\n",
    "    missing_counts = df.isnull().sum()\n",
    "    total_missing = missing_counts.sum()\n",
    "\n",
    "    if total_missing > 0:\n",
    "        print(f\"⚠️ Terdapat {total_missing} missing values dalam data!\")\n",
    "        return False\n",
    "\n",
    "    print(\"✅ Tidak ada missing values.\")\n",
    "    return True"
   ]
  },
  {
   "cell_type": "markdown",
   "metadata": {},
   "source": [
    "### **3. Ubah Tipe Data** "
   ]
  },
  {
   "cell_type": "code",
   "execution_count": 5,
   "metadata": {},
   "outputs": [],
   "source": [
    "def fix_data_types(df, expected_dtypes):\n",
    "    for col, expected_dtype in expected_dtypes.items():\n",
    "        if df[col].dtype != expected_dtype:\n",
    "            print(f\"🔄 Mengonversi kolom '{col}' dari {df[col].dtype} ke {expected_dtype}\")\n",
    "            try:\n",
    "                if expected_dtype == 'datetime64[ns]':\n",
    "                    df[col] = pd.to_datetime(df[col], errors='coerce')\n",
    "                elif expected_dtype == 'int64':\n",
    "                    df[col] = pd.to_numeric(df[col], errors='coerce').astype('Int64')\n",
    "                elif expected_dtype == 'object':\n",
    "                    df[col] = df[col].astype(str)\n",
    "            except Exception as e:\n",
    "                print(f\"❌ Error saat mengonversi kolom '{col}': {e}\")\n",
    "    print(\"✅ Semua tipe data telah sesuai.\")\n",
    "    return df"
   ]
  },
  {
   "cell_type": "markdown",
   "metadata": {},
   "source": [
    "### **4. Text Preprocessing**"
   ]
  },
  {
   "cell_type": "code",
   "execution_count": 6,
   "metadata": {},
   "outputs": [],
   "source": [
    "def preprocess_description_column(df, column_name='NAMA BARANG'):\n",
    "\n",
    "    def preprocess_text(text):\n",
    "        if pd.isnull(text):  # Pastikan tidak memproses nilai NaN\n",
    "            return text\n",
    "        \n",
    "        text = re.sub(r'\\s{3,}.*', '', text)  # Hapus spasi double dan teks setelahnya\n",
    "        text = re.sub(r'[^\\w\\s/]', ' ', text)  # Hapus tanda baca kecuali /\n",
    "        text = ' '.join(word for word in text.split() if not re.search(r'\\d{5,}', word))  # Hapus kata dengan >= 5 angka\n",
    "        text = re.sub(r'\\s+', ' ', text).strip()  # Hapus spasi ganda & trim\n",
    "        \n",
    "        return text\n",
    "    \n",
    "    df['NAMA BARANG'] = df[column_name].apply(preprocess_text)\n",
    "    print(\"✅ Kolom 'NAMA BARANG' telah dibersihkan.\")\n",
    "    \n",
    "    return df"
   ]
  },
  {
   "cell_type": "markdown",
   "metadata": {},
   "source": [
    "### **Pemanggilan Fungsi** "
   ]
  },
  {
   "cell_type": "code",
   "execution_count": 7,
   "metadata": {},
   "outputs": [
    {
     "name": "stdout",
     "output_type": "stream",
     "text": [
      "✅ Format kolom sesuai.\n",
      "✅ Tidak ada missing values.\n",
      "✅ Semua tipe data telah sesuai.\n",
      "✅ Kolom 'NAMA BARANG' telah dibersihkan.\n"
     ]
    }
   ],
   "source": [
    "# Fungsi utama untuk memproses data\n",
    "def checking_data(df):\n",
    "    expected_columns = ['TANGGAL', 'NO TRANSAKSI', 'NAMA BARANG', 'QTY']\n",
    "    expected_dtypes = {\n",
    "        'TANGGAL': 'datetime64[ns]',\n",
    "        'NO TRANSAKSI': 'int64',\n",
    "        'NAMA BARANG': 'object',\n",
    "        'QTY': 'int64'\n",
    "    }\n",
    "\n",
    "    # 1. Cek format kolom\n",
    "    if not check_columns(df, expected_columns):\n",
    "        return None  # Jika format kolom salah, hentikan proses\n",
    "\n",
    "    # 2. Cek missing values\n",
    "    if not check_missing_values(df):\n",
    "        return None  # Jika ada missing values, hentikan proses\n",
    "\n",
    "    # 3. Perbaiki tipe data\n",
    "    df = fix_data_types(df, expected_dtypes)\n",
    "\n",
    "    return df\n",
    "\n",
    "df_check_fix = checking_data(excel_data)\n",
    "df_final = preprocess_description_column(df_check_fix)"
   ]
  },
  {
   "cell_type": "code",
   "execution_count": 8,
   "metadata": {},
   "outputs": [
    {
     "data": {
      "text/html": [
       "<div>\n",
       "<style scoped>\n",
       "    .dataframe tbody tr th:only-of-type {\n",
       "        vertical-align: middle;\n",
       "    }\n",
       "\n",
       "    .dataframe tbody tr th {\n",
       "        vertical-align: top;\n",
       "    }\n",
       "\n",
       "    .dataframe thead th {\n",
       "        text-align: right;\n",
       "    }\n",
       "</style>\n",
       "<table border=\"1\" class=\"dataframe\">\n",
       "  <thead>\n",
       "    <tr style=\"text-align: right;\">\n",
       "      <th></th>\n",
       "      <th>TANGGAL</th>\n",
       "      <th>NO TRANSAKSI</th>\n",
       "      <th>NAMA BARANG</th>\n",
       "      <th>QTY</th>\n",
       "    </tr>\n",
       "  </thead>\n",
       "  <tbody>\n",
       "    <tr>\n",
       "      <th>0</th>\n",
       "      <td>2024-01-01</td>\n",
       "      <td>2401011010001</td>\n",
       "      <td>GULA ROSE BRAND 1KG</td>\n",
       "      <td>1</td>\n",
       "    </tr>\n",
       "    <tr>\n",
       "      <th>1</th>\n",
       "      <td>2024-01-01</td>\n",
       "      <td>2401011010002</td>\n",
       "      <td>RIZKI MG 850ML/900ML BTL</td>\n",
       "      <td>3</td>\n",
       "    </tr>\n",
       "    <tr>\n",
       "      <th>2</th>\n",
       "      <td>2024-01-01</td>\n",
       "      <td>2401011010003</td>\n",
       "      <td>ULTRA MIMI VNL 125ML</td>\n",
       "      <td>1</td>\n",
       "    </tr>\n",
       "    <tr>\n",
       "      <th>3</th>\n",
       "      <td>2024-01-01</td>\n",
       "      <td>2401011010003</td>\n",
       "      <td>BEAR BRAND 189ML</td>\n",
       "      <td>1</td>\n",
       "    </tr>\n",
       "    <tr>\n",
       "      <th>4</th>\n",
       "      <td>2024-01-01</td>\n",
       "      <td>2401011010003</td>\n",
       "      <td>TINI WINI BITI ASIN 20 GR</td>\n",
       "      <td>1</td>\n",
       "    </tr>\n",
       "    <tr>\n",
       "      <th>...</th>\n",
       "      <td>...</td>\n",
       "      <td>...</td>\n",
       "      <td>...</td>\n",
       "      <td>...</td>\n",
       "    </tr>\n",
       "    <tr>\n",
       "      <th>167618</th>\n",
       "      <td>2024-12-31</td>\n",
       "      <td>2412311020122</td>\n",
       "      <td>WALLS POPULAIRE CKL</td>\n",
       "      <td>1</td>\n",
       "    </tr>\n",
       "    <tr>\n",
       "      <th>167619</th>\n",
       "      <td>2024-12-31</td>\n",
       "      <td>2412311020123</td>\n",
       "      <td>THERMAL 80X50 TRUST PAPER</td>\n",
       "      <td>1</td>\n",
       "    </tr>\n",
       "    <tr>\n",
       "      <th>167620</th>\n",
       "      <td>2024-12-31</td>\n",
       "      <td>2412311020124</td>\n",
       "      <td>SAKINAH 600ML</td>\n",
       "      <td>1</td>\n",
       "    </tr>\n",
       "    <tr>\n",
       "      <th>167621</th>\n",
       "      <td>2024-12-31</td>\n",
       "      <td>2412311020124</td>\n",
       "      <td>WALLS PP RAINBOW P</td>\n",
       "      <td>1</td>\n",
       "    </tr>\n",
       "    <tr>\n",
       "      <th>167622</th>\n",
       "      <td>2024-12-31</td>\n",
       "      <td>2412311020125</td>\n",
       "      <td>INDOMILK BTL BLBERRY 190ML</td>\n",
       "      <td>1</td>\n",
       "    </tr>\n",
       "  </tbody>\n",
       "</table>\n",
       "<p>167623 rows × 4 columns</p>\n",
       "</div>"
      ],
      "text/plain": [
       "          TANGGAL   NO TRANSAKSI                 NAMA BARANG  QTY\n",
       "0      2024-01-01  2401011010001         GULA ROSE BRAND 1KG    1\n",
       "1      2024-01-01  2401011010002    RIZKI MG 850ML/900ML BTL    3\n",
       "2      2024-01-01  2401011010003        ULTRA MIMI VNL 125ML    1\n",
       "3      2024-01-01  2401011010003            BEAR BRAND 189ML    1\n",
       "4      2024-01-01  2401011010003   TINI WINI BITI ASIN 20 GR    1\n",
       "...           ...            ...                         ...  ...\n",
       "167618 2024-12-31  2412311020122         WALLS POPULAIRE CKL    1\n",
       "167619 2024-12-31  2412311020123   THERMAL 80X50 TRUST PAPER    1\n",
       "167620 2024-12-31  2412311020124               SAKINAH 600ML    1\n",
       "167621 2024-12-31  2412311020124          WALLS PP RAINBOW P    1\n",
       "167622 2024-12-31  2412311020125  INDOMILK BTL BLBERRY 190ML    1\n",
       "\n",
       "[167623 rows x 4 columns]"
      ]
     },
     "execution_count": 8,
     "metadata": {},
     "output_type": "execute_result"
    }
   ],
   "source": [
    "df_final"
   ]
  },
  {
   "cell_type": "code",
   "execution_count": null,
   "metadata": {},
   "outputs": [],
   "source": [
    "# Save dataframe\n",
    "df_final.to_excel('data/final_data2024.xlsx', index=False)"
   ]
  }
 ],
 "metadata": {
  "kernelspec": {
   "display_name": "Python 3",
   "language": "python",
   "name": "python3"
  },
  "language_info": {
   "codemirror_mode": {
    "name": "ipython",
    "version": 3
   },
   "file_extension": ".py",
   "mimetype": "text/x-python",
   "name": "python",
   "nbconvert_exporter": "python",
   "pygments_lexer": "ipython3",
   "version": "3.12.2"
  }
 },
 "nbformat": 4,
 "nbformat_minor": 2
}
